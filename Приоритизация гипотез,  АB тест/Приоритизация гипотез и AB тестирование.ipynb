{
 "cells": [
  {
   "cell_type": "markdown",
   "id": "f72eb20f",
   "metadata": {},
   "source": [
    "# Приоритизация гипотез и анализ A/B-теста"
   ]
  },
  {
   "cell_type": "markdown",
   "id": "faec6c50",
   "metadata": {},
   "source": [
    "Вместе с отделом маркетинга крупного интернет-магазина был подготовилен список из 9 гипотез для увеличения выручки.\n",
    "Необходимо приоритизировать гипотезы, запустить A/B-тест и проанализировать результаты. \n",
    "\n",
    "**Цель исследования:** \n",
    "Проанализировать результаты A/B-теста, сделать выводы и дать необходимые рекомендации по увеличению выручки.\n",
    "\n",
    "**Ход исследования:**\n",
    "Данные представлены в 3 таблицах: `hypothesis.csv`, `orders.csv`, `visitors.csv`. О качестве данных ничего не известно, поэтому потребуется предобработка данных.\n",
    "\n",
    "Исследование пройдет в 5 этапов:\n",
    "\n",
    "- обзор данных;\n",
    "- предобработка данных;\n",
    "- приоритизация гипотез;\n",
    "- графический анализ метрик;\n",
    "- проверка гипотез.\n"
   ]
  },
  {
   "cell_type": "markdown",
   "id": "87ac8267",
   "metadata": {
    "toc": true
   },
   "source": [
    "<h1>Содержание<span class=\"tocSkip\"></span></h1>\n",
    "<div class=\"toc\"><ul class=\"toc-item\"><li><span><a href=\"#Обзор-данных\" data-toc-modified-id=\"Обзор-данных-1\"><span class=\"toc-item-num\">1&nbsp;&nbsp;</span>Обзор данных</a></span></li><li><span><a href=\"#Предобработка-данных\" data-toc-modified-id=\"Предобработка-данных-2\"><span class=\"toc-item-num\">2&nbsp;&nbsp;</span>Предобработка данных</a></span><ul class=\"toc-item\"><li><span><a href=\"#Проверка-данных-на-аномалии\" data-toc-modified-id=\"Проверка-данных-на-аномалии-2.1\"><span class=\"toc-item-num\">2.1&nbsp;&nbsp;</span>Проверка данных на аномалии</a></span></li><li><span><a href=\"#Изменение-типов-данных\" data-toc-modified-id=\"Изменение-типов-данных-2.2\"><span class=\"toc-item-num\">2.2&nbsp;&nbsp;</span>Изменение типов данных</a></span></li><li><span><a href=\"#Удаление-дубликатов\" data-toc-modified-id=\"Удаление-дубликатов-2.3\"><span class=\"toc-item-num\">2.3&nbsp;&nbsp;</span>Удаление дубликатов</a></span></li></ul></li><li><span><a href=\"#Приоритизация-гипотез\" data-toc-modified-id=\"Приоритизация-гипотез-3\"><span class=\"toc-item-num\">3&nbsp;&nbsp;</span>Приоритизация гипотез</a></span></li><li><span><a href=\"#Графический-анализ-метрик\" data-toc-modified-id=\"Графический-анализ-метрик-4\"><span class=\"toc-item-num\">4&nbsp;&nbsp;</span>Графический анализ метрик</a></span></li><li><span><a href=\"#Проверка-гипотез\" data-toc-modified-id=\"Проверка-гипотез-5\"><span class=\"toc-item-num\">5&nbsp;&nbsp;</span>Проверка гипотез</a></span><ul class=\"toc-item\"><li><span><a href=\"#Определение-аномального-количества-заказов\" data-toc-modified-id=\"Определение-аномального-количества-заказов-5.1\"><span class=\"toc-item-num\">5.1&nbsp;&nbsp;</span>Определение аномального количества заказов</a></span></li><li><span><a href=\"#Определение-аномальной-стоимости-заказов\" data-toc-modified-id=\"Определение-аномальной-стоимости-заказов-5.2\"><span class=\"toc-item-num\">5.2&nbsp;&nbsp;</span>Определение аномальной стоимости заказов</a></span></li><li><span><a href=\"#Проверка-гипотез-по-&quot;сырым&quot;-данным\" data-toc-modified-id=\"Проверка-гипотез-по-&quot;сырым&quot;-данным-5.3\"><span class=\"toc-item-num\">5.3&nbsp;&nbsp;</span>Проверка гипотез по \"сырым\" данным</a></span></li><li><span><a href=\"#Проверка-гипотез-по-&quot;очищенным&quot;-данным\" data-toc-modified-id=\"Проверка-гипотез-по-&quot;очищенным&quot;-данным-5.4\"><span class=\"toc-item-num\">5.4&nbsp;&nbsp;</span>Проверка гипотез по \"очищенным\" данным</a></span></li></ul></li><li><span><a href=\"#Итоги-исследования\" data-toc-modified-id=\"Итоги-исследования-6\"><span class=\"toc-item-num\">6&nbsp;&nbsp;</span>Итоги исследования</a></span></li></ul></div>"
   ]
  },
  {
   "cell_type": "markdown",
   "id": "575753fc",
   "metadata": {},
   "source": [
    "## Обзор данных"
   ]
  },
  {
   "cell_type": "code",
   "execution_count": 1,
   "id": "f702bc88",
   "metadata": {},
   "outputs": [],
   "source": [
    "import pandas as pd\n",
    "import datetime as dt\n",
    "import numpy as np\n",
    "import seaborn as sns\n",
    "import matplotlib.pyplot as plt\n",
    "import math as mth\n",
    "from scipy import stats as st\n",
    "from pandas.plotting import register_matplotlib_converters\n",
    "import warnings\n",
    "# конвертеры, которые позволяют использовать типы pandas в matplotlib  \n",
    "register_matplotlib_converters()\n",
    "# полное отображение содержимого ячейки\n",
    "pd.set_option('display.max_colwidth', None)"
   ]
  },
  {
   "cell_type": "code",
   "execution_count": 2,
   "id": "58d6b24b",
   "metadata": {},
   "outputs": [],
   "source": [
    "try: \n",
    "    hypothesis, orders, visitors = (\n",
    "    pd.read_csv('C:/Users/Anna/Desktop/Обучение/Яндекс практикум/Проект 7/hypothesis.csv'),  # журнал гипотез\n",
    "    pd.read_csv('C:/Users/Anna/Desktop/Обучение/Яндекс практикум/Проект 7/orders.csv'),  # заказы\n",
    "    pd.read_csv('C:/Users/Anna/Desktop/Обучение/Яндекс практикум/Проект 7/visitors.csv'),  # пользователи\n",
    ")\n",
    "    \n",
    "except FileNotFoundError:\n",
    "    hypothesis, orders, visitors = (\n",
    "    pd.read_csv('/datasets/hypothesis.csv'),  # журнал гипотез\n",
    "    pd.read_csv('/datasets/orders.csv'),  # заказы\n",
    "    pd.read_csv('/datasets/visitors.csv'),  # пользователи\n",
    ")"
   ]
  },
  {
   "cell_type": "code",
   "execution_count": 3,
   "id": "d7e14f7b",
   "metadata": {},
   "outputs": [],
   "source": [
    "# cоздаем функцию для обзора данных \n",
    "def info_table(table):\n",
    "    display(table.head(10))\n",
    "    print(table.info())"
   ]
  },
  {
   "cell_type": "code",
   "execution_count": 4,
   "id": "590dd506",
   "metadata": {},
   "outputs": [
    {
     "data": {
      "text/html": [
       "<div>\n",
       "<style scoped>\n",
       "    .dataframe tbody tr th:only-of-type {\n",
       "        vertical-align: middle;\n",
       "    }\n",
       "\n",
       "    .dataframe tbody tr th {\n",
       "        vertical-align: top;\n",
       "    }\n",
       "\n",
       "    .dataframe thead th {\n",
       "        text-align: right;\n",
       "    }\n",
       "</style>\n",
       "<table border=\"1\" class=\"dataframe\">\n",
       "  <thead>\n",
       "    <tr style=\"text-align: right;\">\n",
       "      <th></th>\n",
       "      <th>Hypothesis</th>\n",
       "      <th>Reach</th>\n",
       "      <th>Impact</th>\n",
       "      <th>Confidence</th>\n",
       "      <th>Efforts</th>\n",
       "    </tr>\n",
       "  </thead>\n",
       "  <tbody>\n",
       "    <tr>\n",
       "      <th>0</th>\n",
       "      <td>Добавить два новых канала привлечения трафика, что позволит привлекать на 30% больше пользователей</td>\n",
       "      <td>3</td>\n",
       "      <td>10</td>\n",
       "      <td>8</td>\n",
       "      <td>6</td>\n",
       "    </tr>\n",
       "    <tr>\n",
       "      <th>1</th>\n",
       "      <td>Запустить собственную службу доставки, что сократит срок доставки заказов</td>\n",
       "      <td>2</td>\n",
       "      <td>5</td>\n",
       "      <td>4</td>\n",
       "      <td>10</td>\n",
       "    </tr>\n",
       "    <tr>\n",
       "      <th>2</th>\n",
       "      <td>Добавить блоки рекомендаций товаров на сайт интернет магазина, чтобы повысить конверсию и средний чек заказа</td>\n",
       "      <td>8</td>\n",
       "      <td>3</td>\n",
       "      <td>7</td>\n",
       "      <td>3</td>\n",
       "    </tr>\n",
       "    <tr>\n",
       "      <th>3</th>\n",
       "      <td>Изменить структура категорий, что увеличит конверсию, т.к. пользователи быстрее найдут нужный товар</td>\n",
       "      <td>8</td>\n",
       "      <td>3</td>\n",
       "      <td>3</td>\n",
       "      <td>8</td>\n",
       "    </tr>\n",
       "    <tr>\n",
       "      <th>4</th>\n",
       "      <td>Изменить цвет фона главной страницы, чтобы увеличить вовлеченность пользователей</td>\n",
       "      <td>3</td>\n",
       "      <td>1</td>\n",
       "      <td>1</td>\n",
       "      <td>1</td>\n",
       "    </tr>\n",
       "    <tr>\n",
       "      <th>5</th>\n",
       "      <td>Добавить страницу отзывов клиентов о магазине, что позволит увеличить количество заказов</td>\n",
       "      <td>3</td>\n",
       "      <td>2</td>\n",
       "      <td>2</td>\n",
       "      <td>3</td>\n",
       "    </tr>\n",
       "    <tr>\n",
       "      <th>6</th>\n",
       "      <td>Показать на главной странице баннеры с актуальными акциями и распродажами, чтобы увеличить конверсию</td>\n",
       "      <td>5</td>\n",
       "      <td>3</td>\n",
       "      <td>8</td>\n",
       "      <td>3</td>\n",
       "    </tr>\n",
       "    <tr>\n",
       "      <th>7</th>\n",
       "      <td>Добавить форму подписки на все основные страницы, чтобы собрать базу клиентов для email-рассылок</td>\n",
       "      <td>10</td>\n",
       "      <td>7</td>\n",
       "      <td>8</td>\n",
       "      <td>5</td>\n",
       "    </tr>\n",
       "    <tr>\n",
       "      <th>8</th>\n",
       "      <td>Запустить акцию, дающую скидку на товар в день рождения</td>\n",
       "      <td>1</td>\n",
       "      <td>9</td>\n",
       "      <td>9</td>\n",
       "      <td>5</td>\n",
       "    </tr>\n",
       "  </tbody>\n",
       "</table>\n",
       "</div>"
      ],
      "text/plain": [
       "                                                                                                     Hypothesis  \\\n",
       "0            Добавить два новых канала привлечения трафика, что позволит привлекать на 30% больше пользователей   \n",
       "1                                     Запустить собственную службу доставки, что сократит срок доставки заказов   \n",
       "2  Добавить блоки рекомендаций товаров на сайт интернет магазина, чтобы повысить конверсию и средний чек заказа   \n",
       "3           Изменить структура категорий, что увеличит конверсию, т.к. пользователи быстрее найдут нужный товар   \n",
       "4                              Изменить цвет фона главной страницы, чтобы увеличить вовлеченность пользователей   \n",
       "5                      Добавить страницу отзывов клиентов о магазине, что позволит увеличить количество заказов   \n",
       "6          Показать на главной странице баннеры с актуальными акциями и распродажами, чтобы увеличить конверсию   \n",
       "7              Добавить форму подписки на все основные страницы, чтобы собрать базу клиентов для email-рассылок   \n",
       "8                                                       Запустить акцию, дающую скидку на товар в день рождения   \n",
       "\n",
       "   Reach  Impact  Confidence  Efforts  \n",
       "0      3      10           8        6  \n",
       "1      2       5           4       10  \n",
       "2      8       3           7        3  \n",
       "3      8       3           3        8  \n",
       "4      3       1           1        1  \n",
       "5      3       2           2        3  \n",
       "6      5       3           8        3  \n",
       "7     10       7           8        5  \n",
       "8      1       9           9        5  "
      ]
     },
     "metadata": {},
     "output_type": "display_data"
    },
    {
     "name": "stdout",
     "output_type": "stream",
     "text": [
      "<class 'pandas.core.frame.DataFrame'>\n",
      "RangeIndex: 9 entries, 0 to 8\n",
      "Data columns (total 5 columns):\n",
      " #   Column      Non-Null Count  Dtype \n",
      "---  ------      --------------  ----- \n",
      " 0   Hypothesis  9 non-null      object\n",
      " 1   Reach       9 non-null      int64 \n",
      " 2   Impact      9 non-null      int64 \n",
      " 3   Confidence  9 non-null      int64 \n",
      " 4   Efforts     9 non-null      int64 \n",
      "dtypes: int64(4), object(1)\n",
      "memory usage: 488.0+ bytes\n",
      "None\n"
     ]
    }
   ],
   "source": [
    "info_table(hypothesis) # обзор данных таблицы hypothesis"
   ]
  },
  {
   "cell_type": "markdown",
   "id": "534e8180",
   "metadata": {},
   "source": [
    "В таблице **hypothesis** собраны данные о 9 гипотезах по увеличению выручки интернет-магазина. Таблица содержит 5 столбцов, 9 строк, тип данных представленный в таблице object, int64.\n",
    "\n",
    "Согласно документации к таблице:\n",
    "\n",
    "- `Hypothesis` — краткое описание гипотезы;\n",
    "- `Reach` — охват пользователей по 10-балльной шкале;\n",
    "- `Impact` — влияние на пользователей по 10-балльной шкале;\n",
    "- `Confidence` — уверенность в гипотезе по 10-балльной шкале;\n",
    "- `Efforts` — затраты ресурсов на проверку гипотезы по 10-балльной шкале. Чем больше значение Efforts, тем дороже проверка гипотезы.\n",
    "\n",
    "Тип данных в таблице соответствует описанию и не требует замены. Пропущенные данные в столбцах отсутствуют. Требуется переименования столбцов в соответствии с хорошим стилем."
   ]
  },
  {
   "cell_type": "code",
   "execution_count": 5,
   "id": "e64977cf",
   "metadata": {},
   "outputs": [
    {
     "data": {
      "text/html": [
       "<div>\n",
       "<style scoped>\n",
       "    .dataframe tbody tr th:only-of-type {\n",
       "        vertical-align: middle;\n",
       "    }\n",
       "\n",
       "    .dataframe tbody tr th {\n",
       "        vertical-align: top;\n",
       "    }\n",
       "\n",
       "    .dataframe thead th {\n",
       "        text-align: right;\n",
       "    }\n",
       "</style>\n",
       "<table border=\"1\" class=\"dataframe\">\n",
       "  <thead>\n",
       "    <tr style=\"text-align: right;\">\n",
       "      <th></th>\n",
       "      <th>transactionId</th>\n",
       "      <th>visitorId</th>\n",
       "      <th>date</th>\n",
       "      <th>revenue</th>\n",
       "      <th>group</th>\n",
       "    </tr>\n",
       "  </thead>\n",
       "  <tbody>\n",
       "    <tr>\n",
       "      <th>0</th>\n",
       "      <td>3667963787</td>\n",
       "      <td>3312258926</td>\n",
       "      <td>2019-08-15</td>\n",
       "      <td>1650</td>\n",
       "      <td>B</td>\n",
       "    </tr>\n",
       "    <tr>\n",
       "      <th>1</th>\n",
       "      <td>2804400009</td>\n",
       "      <td>3642806036</td>\n",
       "      <td>2019-08-15</td>\n",
       "      <td>730</td>\n",
       "      <td>B</td>\n",
       "    </tr>\n",
       "    <tr>\n",
       "      <th>2</th>\n",
       "      <td>2961555356</td>\n",
       "      <td>4069496402</td>\n",
       "      <td>2019-08-15</td>\n",
       "      <td>400</td>\n",
       "      <td>A</td>\n",
       "    </tr>\n",
       "    <tr>\n",
       "      <th>3</th>\n",
       "      <td>3797467345</td>\n",
       "      <td>1196621759</td>\n",
       "      <td>2019-08-15</td>\n",
       "      <td>9759</td>\n",
       "      <td>B</td>\n",
       "    </tr>\n",
       "    <tr>\n",
       "      <th>4</th>\n",
       "      <td>2282983706</td>\n",
       "      <td>2322279887</td>\n",
       "      <td>2019-08-15</td>\n",
       "      <td>2308</td>\n",
       "      <td>B</td>\n",
       "    </tr>\n",
       "    <tr>\n",
       "      <th>5</th>\n",
       "      <td>182168103</td>\n",
       "      <td>935554773</td>\n",
       "      <td>2019-08-15</td>\n",
       "      <td>2210</td>\n",
       "      <td>B</td>\n",
       "    </tr>\n",
       "    <tr>\n",
       "      <th>6</th>\n",
       "      <td>398296753</td>\n",
       "      <td>2900797465</td>\n",
       "      <td>2019-08-15</td>\n",
       "      <td>1860</td>\n",
       "      <td>B</td>\n",
       "    </tr>\n",
       "    <tr>\n",
       "      <th>7</th>\n",
       "      <td>2626614568</td>\n",
       "      <td>78758296</td>\n",
       "      <td>2019-08-15</td>\n",
       "      <td>1044</td>\n",
       "      <td>A</td>\n",
       "    </tr>\n",
       "    <tr>\n",
       "      <th>8</th>\n",
       "      <td>1576988021</td>\n",
       "      <td>295230930</td>\n",
       "      <td>2019-08-15</td>\n",
       "      <td>13710</td>\n",
       "      <td>A</td>\n",
       "    </tr>\n",
       "    <tr>\n",
       "      <th>9</th>\n",
       "      <td>1506739906</td>\n",
       "      <td>1882260405</td>\n",
       "      <td>2019-08-15</td>\n",
       "      <td>1855</td>\n",
       "      <td>B</td>\n",
       "    </tr>\n",
       "  </tbody>\n",
       "</table>\n",
       "</div>"
      ],
      "text/plain": [
       "   transactionId   visitorId        date  revenue group\n",
       "0     3667963787  3312258926  2019-08-15     1650     B\n",
       "1     2804400009  3642806036  2019-08-15      730     B\n",
       "2     2961555356  4069496402  2019-08-15      400     A\n",
       "3     3797467345  1196621759  2019-08-15     9759     B\n",
       "4     2282983706  2322279887  2019-08-15     2308     B\n",
       "5      182168103   935554773  2019-08-15     2210     B\n",
       "6      398296753  2900797465  2019-08-15     1860     B\n",
       "7     2626614568    78758296  2019-08-15     1044     A\n",
       "8     1576988021   295230930  2019-08-15    13710     A\n",
       "9     1506739906  1882260405  2019-08-15     1855     B"
      ]
     },
     "metadata": {},
     "output_type": "display_data"
    },
    {
     "name": "stdout",
     "output_type": "stream",
     "text": [
      "<class 'pandas.core.frame.DataFrame'>\n",
      "RangeIndex: 1197 entries, 0 to 1196\n",
      "Data columns (total 5 columns):\n",
      " #   Column         Non-Null Count  Dtype \n",
      "---  ------         --------------  ----- \n",
      " 0   transactionId  1197 non-null   int64 \n",
      " 1   visitorId      1197 non-null   int64 \n",
      " 2   date           1197 non-null   object\n",
      " 3   revenue        1197 non-null   int64 \n",
      " 4   group          1197 non-null   object\n",
      "dtypes: int64(3), object(2)\n",
      "memory usage: 46.9+ KB\n",
      "None\n"
     ]
    }
   ],
   "source": [
    "info_table(orders) # обзор данных таблицы orders"
   ]
  },
  {
   "cell_type": "markdown",
   "id": "050d7393",
   "metadata": {},
   "source": [
    "В таблице **orders** 5 столбцов и 1197 строк, тип данных представленный в таблице object, int64. \n",
    "\n",
    "Согласно документации к таблице:\n",
    "- `transactionId` — идентификатор заказа;\n",
    "- `visitorId` — идентификатор пользователя, совершившего заказ;\n",
    "- `date` — дата, когда был совершён заказ;\n",
    "- `revenue` — выручка заказа;\n",
    "- `group` — группа A/B-теста, в которую попал заказ.\n",
    "\n",
    "Пропущенные данные в столбцах отсутствуют. Требуется переименования столбцов в соответствии с хорошим стилем, а также замена типа данных в столбце `date` на datetime64. "
   ]
  },
  {
   "cell_type": "code",
   "execution_count": 6,
   "id": "a8644684",
   "metadata": {},
   "outputs": [
    {
     "data": {
      "text/html": [
       "<div>\n",
       "<style scoped>\n",
       "    .dataframe tbody tr th:only-of-type {\n",
       "        vertical-align: middle;\n",
       "    }\n",
       "\n",
       "    .dataframe tbody tr th {\n",
       "        vertical-align: top;\n",
       "    }\n",
       "\n",
       "    .dataframe thead th {\n",
       "        text-align: right;\n",
       "    }\n",
       "</style>\n",
       "<table border=\"1\" class=\"dataframe\">\n",
       "  <thead>\n",
       "    <tr style=\"text-align: right;\">\n",
       "      <th></th>\n",
       "      <th>date</th>\n",
       "      <th>group</th>\n",
       "      <th>visitors</th>\n",
       "    </tr>\n",
       "  </thead>\n",
       "  <tbody>\n",
       "    <tr>\n",
       "      <th>0</th>\n",
       "      <td>2019-08-01</td>\n",
       "      <td>A</td>\n",
       "      <td>719</td>\n",
       "    </tr>\n",
       "    <tr>\n",
       "      <th>1</th>\n",
       "      <td>2019-08-02</td>\n",
       "      <td>A</td>\n",
       "      <td>619</td>\n",
       "    </tr>\n",
       "    <tr>\n",
       "      <th>2</th>\n",
       "      <td>2019-08-03</td>\n",
       "      <td>A</td>\n",
       "      <td>507</td>\n",
       "    </tr>\n",
       "    <tr>\n",
       "      <th>3</th>\n",
       "      <td>2019-08-04</td>\n",
       "      <td>A</td>\n",
       "      <td>717</td>\n",
       "    </tr>\n",
       "    <tr>\n",
       "      <th>4</th>\n",
       "      <td>2019-08-05</td>\n",
       "      <td>A</td>\n",
       "      <td>756</td>\n",
       "    </tr>\n",
       "    <tr>\n",
       "      <th>5</th>\n",
       "      <td>2019-08-06</td>\n",
       "      <td>A</td>\n",
       "      <td>667</td>\n",
       "    </tr>\n",
       "    <tr>\n",
       "      <th>6</th>\n",
       "      <td>2019-08-07</td>\n",
       "      <td>A</td>\n",
       "      <td>644</td>\n",
       "    </tr>\n",
       "    <tr>\n",
       "      <th>7</th>\n",
       "      <td>2019-08-08</td>\n",
       "      <td>A</td>\n",
       "      <td>610</td>\n",
       "    </tr>\n",
       "    <tr>\n",
       "      <th>8</th>\n",
       "      <td>2019-08-09</td>\n",
       "      <td>A</td>\n",
       "      <td>617</td>\n",
       "    </tr>\n",
       "    <tr>\n",
       "      <th>9</th>\n",
       "      <td>2019-08-10</td>\n",
       "      <td>A</td>\n",
       "      <td>406</td>\n",
       "    </tr>\n",
       "  </tbody>\n",
       "</table>\n",
       "</div>"
      ],
      "text/plain": [
       "         date group  visitors\n",
       "0  2019-08-01     A       719\n",
       "1  2019-08-02     A       619\n",
       "2  2019-08-03     A       507\n",
       "3  2019-08-04     A       717\n",
       "4  2019-08-05     A       756\n",
       "5  2019-08-06     A       667\n",
       "6  2019-08-07     A       644\n",
       "7  2019-08-08     A       610\n",
       "8  2019-08-09     A       617\n",
       "9  2019-08-10     A       406"
      ]
     },
     "metadata": {},
     "output_type": "display_data"
    },
    {
     "name": "stdout",
     "output_type": "stream",
     "text": [
      "<class 'pandas.core.frame.DataFrame'>\n",
      "RangeIndex: 62 entries, 0 to 61\n",
      "Data columns (total 3 columns):\n",
      " #   Column    Non-Null Count  Dtype \n",
      "---  ------    --------------  ----- \n",
      " 0   date      62 non-null     object\n",
      " 1   group     62 non-null     object\n",
      " 2   visitors  62 non-null     int64 \n",
      "dtypes: int64(1), object(2)\n",
      "memory usage: 1.6+ KB\n",
      "None\n"
     ]
    }
   ],
   "source": [
    "info_table(visitors) # обзор данных таблицы visitors"
   ]
  },
  {
   "cell_type": "markdown",
   "id": "cad78f4a",
   "metadata": {},
   "source": [
    "В таблице **visitors** 3 столбца и 62 строки, тип данных представленный в таблице object, int64. \n",
    "\n",
    "Согласно документации к таблице:\n",
    "- `date` — дата;\n",
    "- `group` — группа A/B-теста;\n",
    "- `visitors` — количество пользователей в указанную дату в указанной группе A/B-теста.\n",
    "\n",
    "Пропущенные данные в столбцах отсутствуют. Требуется замена типа данных в столбце `date` на datetime64. "
   ]
  },
  {
   "cell_type": "markdown",
   "id": "86680d76",
   "metadata": {},
   "source": [
    "**Выводы:** \n",
    "Данные представлены в 3 таблицах:\n",
    "\n",
    "Таблица **hypothesis** - гипотезы по увеличению выручки интернет-магазина, содержит краткое описание гипотезы, рейтинг по 10_бальной шкале охвата пользователей, влияния на пользователей, уверенности в гипотезе, затрат ресурсов на проверку гипотезы,  \n",
    "Таблица **orders** (информация о заказах) - заказы, содержит данные о заказах и пользователях, совершивших заказ, дату, выручку и группу A/B-теста заказа.\n",
    "\n",
    "Таблица **visitors** - информация о количестве пользователей, совершивших заказ, содержит дату, группу A/B-теста, количество пользователей в указанную дату в указанной группе A/B-теста.\n",
    "\n",
    "Обнаружены:\n",
    "\n",
    "- некорректные написания заголовков столбцов (необходимо привести в соответствие с хорошим стилем),\n",
    "- даты в таблицах необходимо привести к типу datetime64."
   ]
  },
  {
   "cell_type": "markdown",
   "id": "d2d610cc",
   "metadata": {},
   "source": [
    "## Предобработка данных"
   ]
  },
  {
   "cell_type": "markdown",
   "id": "ee448690",
   "metadata": {},
   "source": [
    "Сначала приведем все названия столбцов таблиц **hypothesis** и **orders**, к нижнему регистру."
   ]
  },
  {
   "cell_type": "code",
   "execution_count": 7,
   "id": "a4f5990f",
   "metadata": {},
   "outputs": [
    {
     "data": {
      "text/html": [
       "<div>\n",
       "<style scoped>\n",
       "    .dataframe tbody tr th:only-of-type {\n",
       "        vertical-align: middle;\n",
       "    }\n",
       "\n",
       "    .dataframe tbody tr th {\n",
       "        vertical-align: top;\n",
       "    }\n",
       "\n",
       "    .dataframe thead th {\n",
       "        text-align: right;\n",
       "    }\n",
       "</style>\n",
       "<table border=\"1\" class=\"dataframe\">\n",
       "  <thead>\n",
       "    <tr style=\"text-align: right;\">\n",
       "      <th></th>\n",
       "      <th>hypothesis</th>\n",
       "      <th>reach</th>\n",
       "      <th>impact</th>\n",
       "      <th>confidence</th>\n",
       "      <th>efforts</th>\n",
       "    </tr>\n",
       "  </thead>\n",
       "  <tbody>\n",
       "  </tbody>\n",
       "</table>\n",
       "</div>"
      ],
      "text/plain": [
       "Empty DataFrame\n",
       "Columns: [hypothesis, reach, impact, confidence, efforts]\n",
       "Index: []"
      ]
     },
     "metadata": {},
     "output_type": "display_data"
    },
    {
     "data": {
      "text/html": [
       "<div>\n",
       "<style scoped>\n",
       "    .dataframe tbody tr th:only-of-type {\n",
       "        vertical-align: middle;\n",
       "    }\n",
       "\n",
       "    .dataframe tbody tr th {\n",
       "        vertical-align: top;\n",
       "    }\n",
       "\n",
       "    .dataframe thead th {\n",
       "        text-align: right;\n",
       "    }\n",
       "</style>\n",
       "<table border=\"1\" class=\"dataframe\">\n",
       "  <thead>\n",
       "    <tr style=\"text-align: right;\">\n",
       "      <th></th>\n",
       "      <th>transactionid</th>\n",
       "      <th>visitorid</th>\n",
       "      <th>date</th>\n",
       "      <th>revenue</th>\n",
       "      <th>group</th>\n",
       "    </tr>\n",
       "  </thead>\n",
       "  <tbody>\n",
       "  </tbody>\n",
       "</table>\n",
       "</div>"
      ],
      "text/plain": [
       "Empty DataFrame\n",
       "Columns: [transactionid, visitorid, date, revenue, group]\n",
       "Index: []"
      ]
     },
     "metadata": {},
     "output_type": "display_data"
    }
   ],
   "source": [
    "# приводим названия столбцов к нижнему регистру \n",
    "\n",
    "hypothesis.columns = hypothesis.columns.str.lower() \n",
    "orders.columns = orders.columns.str.lower() \n",
    "\n",
    "# проверяем произведенные изменения\n",
    "display(hypothesis.head(0))\n",
    "display(orders.head(0))"
   ]
  },
  {
   "cell_type": "markdown",
   "id": "220c5839",
   "metadata": {},
   "source": [
    "### Проверка данных на аномалии"
   ]
  },
  {
   "cell_type": "markdown",
   "id": "697a6654",
   "metadata": {},
   "source": [
    "Проверим на наличие аномалий таблицы **orders** и **visitors**.\n",
    "Для проверки данных на аномалии воспользуемся методом describe() с параметром 'include', чтобы получить описание в столбцах, содержащих не только количественные, но и качественные данные. "
   ]
  },
  {
   "cell_type": "code",
   "execution_count": 8,
   "id": "bc01861b",
   "metadata": {},
   "outputs": [
    {
     "data": {
      "text/html": [
       "<div>\n",
       "<style scoped>\n",
       "    .dataframe tbody tr th:only-of-type {\n",
       "        vertical-align: middle;\n",
       "    }\n",
       "\n",
       "    .dataframe tbody tr th {\n",
       "        vertical-align: top;\n",
       "    }\n",
       "\n",
       "    .dataframe thead th {\n",
       "        text-align: right;\n",
       "    }\n",
       "</style>\n",
       "<table border=\"1\" class=\"dataframe\">\n",
       "  <thead>\n",
       "    <tr style=\"text-align: right;\">\n",
       "      <th></th>\n",
       "      <th>count</th>\n",
       "      <th>unique</th>\n",
       "      <th>top</th>\n",
       "      <th>freq</th>\n",
       "      <th>mean</th>\n",
       "      <th>std</th>\n",
       "      <th>min</th>\n",
       "      <th>25%</th>\n",
       "      <th>50%</th>\n",
       "      <th>75%</th>\n",
       "      <th>max</th>\n",
       "    </tr>\n",
       "  </thead>\n",
       "  <tbody>\n",
       "    <tr>\n",
       "      <th>transactionid</th>\n",
       "      <td>1197.0</td>\n",
       "      <td>NaN</td>\n",
       "      <td>NaN</td>\n",
       "      <td>NaN</td>\n",
       "      <td>2155621385.529657</td>\n",
       "      <td>1229084904.760058</td>\n",
       "      <td>1062393.0</td>\n",
       "      <td>1166775572.0</td>\n",
       "      <td>2145193898.0</td>\n",
       "      <td>3237740112.0</td>\n",
       "      <td>4293855558.0</td>\n",
       "    </tr>\n",
       "    <tr>\n",
       "      <th>visitorid</th>\n",
       "      <td>1197.0</td>\n",
       "      <td>NaN</td>\n",
       "      <td>NaN</td>\n",
       "      <td>NaN</td>\n",
       "      <td>2165960143.099415</td>\n",
       "      <td>1236014192.14687</td>\n",
       "      <td>5114589.0</td>\n",
       "      <td>1111826046.0</td>\n",
       "      <td>2217984702.0</td>\n",
       "      <td>3177606451.0</td>\n",
       "      <td>4283872382.0</td>\n",
       "    </tr>\n",
       "    <tr>\n",
       "      <th>date</th>\n",
       "      <td>1197</td>\n",
       "      <td>31</td>\n",
       "      <td>2019-08-05</td>\n",
       "      <td>48</td>\n",
       "      <td>NaN</td>\n",
       "      <td>NaN</td>\n",
       "      <td>NaN</td>\n",
       "      <td>NaN</td>\n",
       "      <td>NaN</td>\n",
       "      <td>NaN</td>\n",
       "      <td>NaN</td>\n",
       "    </tr>\n",
       "    <tr>\n",
       "      <th>revenue</th>\n",
       "      <td>1197.0</td>\n",
       "      <td>NaN</td>\n",
       "      <td>NaN</td>\n",
       "      <td>NaN</td>\n",
       "      <td>8348.005848</td>\n",
       "      <td>39191.131774</td>\n",
       "      <td>50.0</td>\n",
       "      <td>1220.0</td>\n",
       "      <td>2978.0</td>\n",
       "      <td>8290.0</td>\n",
       "      <td>1294500.0</td>\n",
       "    </tr>\n",
       "    <tr>\n",
       "      <th>group</th>\n",
       "      <td>1197</td>\n",
       "      <td>2</td>\n",
       "      <td>B</td>\n",
       "      <td>640</td>\n",
       "      <td>NaN</td>\n",
       "      <td>NaN</td>\n",
       "      <td>NaN</td>\n",
       "      <td>NaN</td>\n",
       "      <td>NaN</td>\n",
       "      <td>NaN</td>\n",
       "      <td>NaN</td>\n",
       "    </tr>\n",
       "  </tbody>\n",
       "</table>\n",
       "</div>"
      ],
      "text/plain": [
       "                count unique         top freq               mean  \\\n",
       "transactionid  1197.0    NaN         NaN  NaN  2155621385.529657   \n",
       "visitorid      1197.0    NaN         NaN  NaN  2165960143.099415   \n",
       "date             1197     31  2019-08-05   48                NaN   \n",
       "revenue        1197.0    NaN         NaN  NaN        8348.005848   \n",
       "group            1197      2           B  640                NaN   \n",
       "\n",
       "                             std        min           25%           50%  \\\n",
       "transactionid  1229084904.760058  1062393.0  1166775572.0  2145193898.0   \n",
       "visitorid       1236014192.14687  5114589.0  1111826046.0  2217984702.0   \n",
       "date                         NaN        NaN           NaN           NaN   \n",
       "revenue             39191.131774       50.0        1220.0        2978.0   \n",
       "group                        NaN        NaN           NaN           NaN   \n",
       "\n",
       "                        75%           max  \n",
       "transactionid  3237740112.0  4293855558.0  \n",
       "visitorid      3177606451.0  4283872382.0  \n",
       "date                    NaN           NaN  \n",
       "revenue              8290.0     1294500.0  \n",
       "group                   NaN           NaN  "
      ]
     },
     "execution_count": 8,
     "metadata": {},
     "output_type": "execute_result"
    }
   ],
   "source": [
    "orders.describe(include = 'all').T"
   ]
  },
  {
   "cell_type": "code",
   "execution_count": 9,
   "id": "37295b02",
   "metadata": {},
   "outputs": [
    {
     "data": {
      "text/html": [
       "<div>\n",
       "<style scoped>\n",
       "    .dataframe tbody tr th:only-of-type {\n",
       "        vertical-align: middle;\n",
       "    }\n",
       "\n",
       "    .dataframe tbody tr th {\n",
       "        vertical-align: top;\n",
       "    }\n",
       "\n",
       "    .dataframe thead th {\n",
       "        text-align: right;\n",
       "    }\n",
       "</style>\n",
       "<table border=\"1\" class=\"dataframe\">\n",
       "  <thead>\n",
       "    <tr style=\"text-align: right;\">\n",
       "      <th></th>\n",
       "      <th>count</th>\n",
       "      <th>unique</th>\n",
       "      <th>top</th>\n",
       "      <th>freq</th>\n",
       "      <th>mean</th>\n",
       "      <th>std</th>\n",
       "      <th>min</th>\n",
       "      <th>25%</th>\n",
       "      <th>50%</th>\n",
       "      <th>75%</th>\n",
       "      <th>max</th>\n",
       "    </tr>\n",
       "  </thead>\n",
       "  <tbody>\n",
       "    <tr>\n",
       "      <th>date</th>\n",
       "      <td>62</td>\n",
       "      <td>31</td>\n",
       "      <td>2019-08-01</td>\n",
       "      <td>2</td>\n",
       "      <td>NaN</td>\n",
       "      <td>NaN</td>\n",
       "      <td>NaN</td>\n",
       "      <td>NaN</td>\n",
       "      <td>NaN</td>\n",
       "      <td>NaN</td>\n",
       "      <td>NaN</td>\n",
       "    </tr>\n",
       "    <tr>\n",
       "      <th>group</th>\n",
       "      <td>62</td>\n",
       "      <td>2</td>\n",
       "      <td>A</td>\n",
       "      <td>31</td>\n",
       "      <td>NaN</td>\n",
       "      <td>NaN</td>\n",
       "      <td>NaN</td>\n",
       "      <td>NaN</td>\n",
       "      <td>NaN</td>\n",
       "      <td>NaN</td>\n",
       "      <td>NaN</td>\n",
       "    </tr>\n",
       "    <tr>\n",
       "      <th>visitors</th>\n",
       "      <td>62.0</td>\n",
       "      <td>NaN</td>\n",
       "      <td>NaN</td>\n",
       "      <td>NaN</td>\n",
       "      <td>607.290323</td>\n",
       "      <td>114.40056</td>\n",
       "      <td>361.0</td>\n",
       "      <td>534.0</td>\n",
       "      <td>624.5</td>\n",
       "      <td>710.5</td>\n",
       "      <td>770.0</td>\n",
       "    </tr>\n",
       "  </tbody>\n",
       "</table>\n",
       "</div>"
      ],
      "text/plain": [
       "         count unique         top freq        mean        std    min    25%  \\\n",
       "date        62     31  2019-08-01    2         NaN        NaN    NaN    NaN   \n",
       "group       62      2           A   31         NaN        NaN    NaN    NaN   \n",
       "visitors  62.0    NaN         NaN  NaN  607.290323  114.40056  361.0  534.0   \n",
       "\n",
       "            50%    75%    max  \n",
       "date        NaN    NaN    NaN  \n",
       "group       NaN    NaN    NaN  \n",
       "visitors  624.5  710.5  770.0  "
      ]
     },
     "execution_count": 9,
     "metadata": {},
     "output_type": "execute_result"
    }
   ],
   "source": [
    "visitors.describe(include = 'all').T"
   ]
  },
  {
   "cell_type": "markdown",
   "id": "7f4d9b67",
   "metadata": {},
   "source": [
    "Число дней исследования - 31, число групп исследования соответствует заданию - 2 группы(A, B). Преобладают значения группы B (640). Значения в столбце `revenue` от 50 до 1294500, со средним на уровне 8348 может указывать на наличие выбросов."
   ]
  },
  {
   "cell_type": "markdown",
   "id": "0a2f9d2c",
   "metadata": {},
   "source": [
    "### Изменение типов данных"
   ]
  },
  {
   "cell_type": "code",
   "execution_count": 10,
   "id": "89099e04",
   "metadata": {},
   "outputs": [
    {
     "data": {
      "text/plain": [
       "transactionid             int64\n",
       "visitorid                 int64\n",
       "date             datetime64[ns]\n",
       "revenue                   int64\n",
       "group                    object\n",
       "dtype: object"
      ]
     },
     "metadata": {},
     "output_type": "display_data"
    },
    {
     "data": {
      "text/plain": [
       "date        datetime64[ns]\n",
       "group               object\n",
       "visitors             int64\n",
       "dtype: object"
      ]
     },
     "metadata": {},
     "output_type": "display_data"
    }
   ],
   "source": [
    "# преобразование данных о дате\n",
    "orders['date'] = orders['date'].map(\n",
    "    lambda x: dt.datetime.strptime(x, '%Y-%m-%d')\n",
    ")\n",
    "visitors['date'] = visitors['date'].map(\n",
    "    lambda x: dt.datetime.strptime(x, '%Y-%m-%d')\n",
    ")\n",
    "\n",
    "# проверяем произведенные изменения\n",
    "display(orders.dtypes, \n",
    "      visitors.dtypes)"
   ]
  },
  {
   "cell_type": "markdown",
   "id": "d26873ad",
   "metadata": {},
   "source": [
    "Данные приведены к типу datetime64."
   ]
  },
  {
   "cell_type": "markdown",
   "id": "1d40c272",
   "metadata": {},
   "source": [
    "### Удаление дубликатов"
   ]
  },
  {
   "cell_type": "markdown",
   "id": "c1ed778d",
   "metadata": {},
   "source": [
    "Подсчитаем количество явных дубликатов данных в таблицах **orders** и **visitors**."
   ]
  },
  {
   "cell_type": "code",
   "execution_count": 11,
   "id": "397e55b1",
   "metadata": {},
   "outputs": [
    {
     "data": {
      "text/plain": [
       "0"
      ]
     },
     "execution_count": 11,
     "metadata": {},
     "output_type": "execute_result"
    }
   ],
   "source": [
    "orders.duplicated().sum()"
   ]
  },
  {
   "cell_type": "code",
   "execution_count": 12,
   "id": "d9cb2838",
   "metadata": {},
   "outputs": [
    {
     "data": {
      "text/plain": [
       "0"
      ]
     },
     "execution_count": 12,
     "metadata": {},
     "output_type": "execute_result"
    }
   ],
   "source": [
    "visitors.duplicated().sum()"
   ]
  },
  {
   "cell_type": "markdown",
   "id": "24332c2d",
   "metadata": {},
   "source": [
    "Дубликатов в данных не обнаружено."
   ]
  },
  {
   "cell_type": "markdown",
   "id": "c4b4dbbb",
   "metadata": {},
   "source": [
    "Рассчитаем количество пользователей в каждой группе, чтобы убедиться в правильном соотношении распределения пользователей."
   ]
  },
  {
   "cell_type": "code",
   "execution_count": 13,
   "id": "cacf1f38",
   "metadata": {},
   "outputs": [
    {
     "name": "stdout",
     "output_type": "stream",
     "text": [
      "Доля пользователей в группе 'A':  47%\n",
      "Доля пользователей в группе 'B':  53%\n"
     ]
    }
   ],
   "source": [
    "print(\"Доля пользователей в группе 'A':\", \"{0: .0%}\".format(orders[orders['group']=='A']['visitorid'].count()/len(orders)))\n",
    "print(\"Доля пользователей в группе 'B':\", \"{0: .0%}\".format(orders[orders['group']=='B']['visitorid'].count()/len(orders)))"
   ]
  },
  {
   "cell_type": "markdown",
   "id": "d134338c",
   "metadata": {},
   "source": [
    "Проверим все ли пользователи относятся только к одной группе теста."
   ]
  },
  {
   "cell_type": "code",
   "execution_count": 14,
   "id": "a8fc8bb1",
   "metadata": {},
   "outputs": [
    {
     "name": "stdout",
     "output_type": "stream",
     "text": [
      "Количество уникальных пользователей: 1031\n",
      "Количество уникальных пользователей группы A: 503\n",
      "Количество уникальных пользователей группы B: 586\n"
     ]
    }
   ],
   "source": [
    "# список уникальных id пользователей по грппам\n",
    "group_A = orders[orders['group']=='A']['visitorid']\n",
    "group_B = orders[orders['group']=='B']['visitorid'] \n",
    "\n",
    "print('Количество уникальных пользователей:', orders['visitorid'].nunique())\n",
    "print('Количество уникальных пользователей группы A:', group_A.nunique())\n",
    "print('Количество уникальных пользователей группы B:', group_B.nunique())\n"
   ]
  },
  {
   "cell_type": "code",
   "execution_count": 15,
   "id": "40c77373",
   "metadata": {},
   "outputs": [],
   "source": [
    "# сравниваем уникальных пользователей группы A и B, удаляем пользователей, которые присутствуют в обоих группах\n",
    "a_b_visitor = np.intersect1d(orders.query('group == \"A\"')['visitorid'].unique(),\n",
    "                                  orders.query('group == \"B\"')['visitorid'].unique())\n",
    "orders = orders[~orders['visitorid'].isin(a_b_visitor)]"
   ]
  },
  {
   "cell_type": "code",
   "execution_count": 16,
   "id": "c93d2eca",
   "metadata": {},
   "outputs": [
    {
     "data": {
      "text/plain": [
       "973"
      ]
     },
     "execution_count": 16,
     "metadata": {},
     "output_type": "execute_result"
    }
   ],
   "source": [
    "# проверили количество уникальных пользователей, совершивших покупки\n",
    "orders['visitorid'].nunique()"
   ]
  },
  {
   "cell_type": "code",
   "execution_count": 17,
   "id": "8fe25501",
   "metadata": {},
   "outputs": [
    {
     "name": "stdout",
     "output_type": "stream",
     "text": [
      "Доля пользователей в группе 'A':  46%\n",
      "Доля пользователей в группе 'B':  54%\n"
     ]
    }
   ],
   "source": [
    "# проверили соотношение пользователей после удаления повторяющихся пользователей\n",
    "print(\"Доля пользователей в группе 'A':\", \"{0: .0%}\".format(orders[orders['group']=='A']['visitorid'].count()/len(orders)))\n",
    "print(\"Доля пользователей в группе 'B':\", \"{0: .0%}\".format(orders[orders['group']=='B']['visitorid'].count()/len(orders)))"
   ]
  },
  {
   "cell_type": "markdown",
   "id": "c1a4bd73",
   "metadata": {},
   "source": [
    "**Выводы:**\n",
    "- Привели названия столбцов таблиц **hypothesis и orders**, к нижнему регистру.\n",
    "- Проверили данные на аномалии. Аномалий не обнаружено. Число дней исследования - 31, число групп исследования соответствует заданию - 2 группы(A, B). Преобладают значения группы B (640). Значения в столбце revenue от 50 до 1294500, со средним на уровне 8348 может указывать на наличие выбросов.\n",
    "- Привели даты в таблицах к типу datetime64.  \n",
    "- Дубликатов в таблицах не обнаружено.\n",
    "- Доли пользователей группы A и B распределны корректно.\n",
    "- Удалили пользователей, которые присутствовали в обеих группах, т.к. группы были зависимыми."
   ]
  },
  {
   "cell_type": "markdown",
   "id": "e9c8afc5",
   "metadata": {},
   "source": [
    "## Приоритизация гипотез\n",
    "\n",
    "- Применим фреймворк ICE для приоритизации гипотез. Отсортируем их по убыванию приоритета.\n",
    "- Применим фреймворк RICE для приоритизации гипотез. Отсортируем их по убыванию приоритета.\n",
    "- Рассмотрим как изменилась приоритизация гипотез при применении RICE вместо ICE."
   ]
  },
  {
   "cell_type": "code",
   "execution_count": 18,
   "id": "4cf4739e",
   "metadata": {},
   "outputs": [
    {
     "data": {
      "text/html": [
       "<div>\n",
       "<style scoped>\n",
       "    .dataframe tbody tr th:only-of-type {\n",
       "        vertical-align: middle;\n",
       "    }\n",
       "\n",
       "    .dataframe tbody tr th {\n",
       "        vertical-align: top;\n",
       "    }\n",
       "\n",
       "    .dataframe thead th {\n",
       "        text-align: right;\n",
       "    }\n",
       "</style>\n",
       "<table border=\"1\" class=\"dataframe\">\n",
       "  <thead>\n",
       "    <tr style=\"text-align: right;\">\n",
       "      <th></th>\n",
       "      <th>hypothesis</th>\n",
       "      <th>reach</th>\n",
       "      <th>impact</th>\n",
       "      <th>confidence</th>\n",
       "      <th>efforts</th>\n",
       "    </tr>\n",
       "  </thead>\n",
       "  <tbody>\n",
       "    <tr>\n",
       "      <th>0</th>\n",
       "      <td>Добавить два новых канала привлечения трафика, что позволит привлекать на 30% больше пользователей</td>\n",
       "      <td>3</td>\n",
       "      <td>10</td>\n",
       "      <td>8</td>\n",
       "      <td>6</td>\n",
       "    </tr>\n",
       "    <tr>\n",
       "      <th>1</th>\n",
       "      <td>Запустить собственную службу доставки, что сократит срок доставки заказов</td>\n",
       "      <td>2</td>\n",
       "      <td>5</td>\n",
       "      <td>4</td>\n",
       "      <td>10</td>\n",
       "    </tr>\n",
       "    <tr>\n",
       "      <th>2</th>\n",
       "      <td>Добавить блоки рекомендаций товаров на сайт интернет магазина, чтобы повысить конверсию и средний чек заказа</td>\n",
       "      <td>8</td>\n",
       "      <td>3</td>\n",
       "      <td>7</td>\n",
       "      <td>3</td>\n",
       "    </tr>\n",
       "    <tr>\n",
       "      <th>3</th>\n",
       "      <td>Изменить структура категорий, что увеличит конверсию, т.к. пользователи быстрее найдут нужный товар</td>\n",
       "      <td>8</td>\n",
       "      <td>3</td>\n",
       "      <td>3</td>\n",
       "      <td>8</td>\n",
       "    </tr>\n",
       "    <tr>\n",
       "      <th>4</th>\n",
       "      <td>Изменить цвет фона главной страницы, чтобы увеличить вовлеченность пользователей</td>\n",
       "      <td>3</td>\n",
       "      <td>1</td>\n",
       "      <td>1</td>\n",
       "      <td>1</td>\n",
       "    </tr>\n",
       "    <tr>\n",
       "      <th>5</th>\n",
       "      <td>Добавить страницу отзывов клиентов о магазине, что позволит увеличить количество заказов</td>\n",
       "      <td>3</td>\n",
       "      <td>2</td>\n",
       "      <td>2</td>\n",
       "      <td>3</td>\n",
       "    </tr>\n",
       "    <tr>\n",
       "      <th>6</th>\n",
       "      <td>Показать на главной странице баннеры с актуальными акциями и распродажами, чтобы увеличить конверсию</td>\n",
       "      <td>5</td>\n",
       "      <td>3</td>\n",
       "      <td>8</td>\n",
       "      <td>3</td>\n",
       "    </tr>\n",
       "    <tr>\n",
       "      <th>7</th>\n",
       "      <td>Добавить форму подписки на все основные страницы, чтобы собрать базу клиентов для email-рассылок</td>\n",
       "      <td>10</td>\n",
       "      <td>7</td>\n",
       "      <td>8</td>\n",
       "      <td>5</td>\n",
       "    </tr>\n",
       "    <tr>\n",
       "      <th>8</th>\n",
       "      <td>Запустить акцию, дающую скидку на товар в день рождения</td>\n",
       "      <td>1</td>\n",
       "      <td>9</td>\n",
       "      <td>9</td>\n",
       "      <td>5</td>\n",
       "    </tr>\n",
       "  </tbody>\n",
       "</table>\n",
       "</div>"
      ],
      "text/plain": [
       "                                                                                                     hypothesis  \\\n",
       "0            Добавить два новых канала привлечения трафика, что позволит привлекать на 30% больше пользователей   \n",
       "1                                     Запустить собственную службу доставки, что сократит срок доставки заказов   \n",
       "2  Добавить блоки рекомендаций товаров на сайт интернет магазина, чтобы повысить конверсию и средний чек заказа   \n",
       "3           Изменить структура категорий, что увеличит конверсию, т.к. пользователи быстрее найдут нужный товар   \n",
       "4                              Изменить цвет фона главной страницы, чтобы увеличить вовлеченность пользователей   \n",
       "5                      Добавить страницу отзывов клиентов о магазине, что позволит увеличить количество заказов   \n",
       "6          Показать на главной странице баннеры с актуальными акциями и распродажами, чтобы увеличить конверсию   \n",
       "7              Добавить форму подписки на все основные страницы, чтобы собрать базу клиентов для email-рассылок   \n",
       "8                                                       Запустить акцию, дающую скидку на товар в день рождения   \n",
       "\n",
       "   reach  impact  confidence  efforts  \n",
       "0      3      10           8        6  \n",
       "1      2       5           4       10  \n",
       "2      8       3           7        3  \n",
       "3      8       3           3        8  \n",
       "4      3       1           1        1  \n",
       "5      3       2           2        3  \n",
       "6      5       3           8        3  \n",
       "7     10       7           8        5  \n",
       "8      1       9           9        5  "
      ]
     },
     "execution_count": 18,
     "metadata": {},
     "output_type": "execute_result"
    }
   ],
   "source": [
    "hypothesis"
   ]
  },
  {
   "cell_type": "markdown",
   "id": "6b3ad3ff",
   "metadata": {},
   "source": [
    "Для расчета приоритизации фрейморком ICE используем формулу: \n",
    "\n",
    "$$ICE = \\frac{Impact * Confidence}{Efforts}$$"
   ]
  },
  {
   "cell_type": "code",
   "execution_count": 19,
   "id": "40226aa4",
   "metadata": {},
   "outputs": [],
   "source": [
    "# приоритизируем гипотезы с помощью фреймворка ICE, результаты занесем в столбец 'ICE'\n",
    "\n",
    "hypothesis['ICE'] = hypothesis['impact'] * hypothesis['confidence'] / hypothesis['efforts']"
   ]
  },
  {
   "cell_type": "markdown",
   "id": "5a434ca0",
   "metadata": {},
   "source": [
    "Для расчета приоритизации фрейморком RICE используем формулу: \n",
    "\n",
    "$$RICE = \\frac{Rearch * Impact * Confidence}{Efforts}$$\n"
   ]
  },
  {
   "cell_type": "code",
   "execution_count": 20,
   "id": "80d99755",
   "metadata": {},
   "outputs": [],
   "source": [
    "# приоритизируем гипотезы с помощью фреймворка RICE, результаты занесем в столбец 'RICE'\n",
    "\n",
    "hypothesis['RICE'] = hypothesis['reach'] * hypothesis['impact'] * hypothesis['confidence'] / hypothesis['efforts']"
   ]
  },
  {
   "cell_type": "code",
   "execution_count": 21,
   "id": "3f22beb2",
   "metadata": {},
   "outputs": [
    {
     "data": {
      "text/html": [
       "<div>\n",
       "<style scoped>\n",
       "    .dataframe tbody tr th:only-of-type {\n",
       "        vertical-align: middle;\n",
       "    }\n",
       "\n",
       "    .dataframe tbody tr th {\n",
       "        vertical-align: top;\n",
       "    }\n",
       "\n",
       "    .dataframe thead th {\n",
       "        text-align: right;\n",
       "    }\n",
       "</style>\n",
       "<table border=\"1\" class=\"dataframe\">\n",
       "  <thead>\n",
       "    <tr style=\"text-align: right;\">\n",
       "      <th></th>\n",
       "      <th>hypothesis</th>\n",
       "      <th>ICE_index</th>\n",
       "      <th>RICE_index</th>\n",
       "    </tr>\n",
       "  </thead>\n",
       "  <tbody>\n",
       "    <tr>\n",
       "      <th>0</th>\n",
       "      <td>Добавить форму подписки на все основные страницы, чтобы собрать базу клиентов для email-рассылок</td>\n",
       "      <td>2</td>\n",
       "      <td>0</td>\n",
       "    </tr>\n",
       "    <tr>\n",
       "      <th>1</th>\n",
       "      <td>Добавить блоки рекомендаций товаров на сайт интернет магазина, чтобы повысить конверсию и средний чек заказа</td>\n",
       "      <td>4</td>\n",
       "      <td>1</td>\n",
       "    </tr>\n",
       "    <tr>\n",
       "      <th>2</th>\n",
       "      <td>Добавить два новых канала привлечения трафика, что позволит привлекать на 30% больше пользователей</td>\n",
       "      <td>1</td>\n",
       "      <td>2</td>\n",
       "    </tr>\n",
       "    <tr>\n",
       "      <th>3</th>\n",
       "      <td>Показать на главной странице баннеры с актуальными акциями и распродажами, чтобы увеличить конверсию</td>\n",
       "      <td>3</td>\n",
       "      <td>3</td>\n",
       "    </tr>\n",
       "    <tr>\n",
       "      <th>4</th>\n",
       "      <td>Запустить акцию, дающую скидку на товар в день рождения</td>\n",
       "      <td>0</td>\n",
       "      <td>4</td>\n",
       "    </tr>\n",
       "    <tr>\n",
       "      <th>5</th>\n",
       "      <td>Изменить структура категорий, что увеличит конверсию, т.к. пользователи быстрее найдут нужный товар</td>\n",
       "      <td>7</td>\n",
       "      <td>5</td>\n",
       "    </tr>\n",
       "    <tr>\n",
       "      <th>6</th>\n",
       "      <td>Запустить собственную службу доставки, что сократит срок доставки заказов</td>\n",
       "      <td>5</td>\n",
       "      <td>6</td>\n",
       "    </tr>\n",
       "    <tr>\n",
       "      <th>7</th>\n",
       "      <td>Добавить страницу отзывов клиентов о магазине, что позволит увеличить количество заказов</td>\n",
       "      <td>6</td>\n",
       "      <td>7</td>\n",
       "    </tr>\n",
       "    <tr>\n",
       "      <th>8</th>\n",
       "      <td>Изменить цвет фона главной страницы, чтобы увеличить вовлеченность пользователей</td>\n",
       "      <td>8</td>\n",
       "      <td>8</td>\n",
       "    </tr>\n",
       "  </tbody>\n",
       "</table>\n",
       "</div>"
      ],
      "text/plain": [
       "                                                                                                     hypothesis  \\\n",
       "0              Добавить форму подписки на все основные страницы, чтобы собрать базу клиентов для email-рассылок   \n",
       "1  Добавить блоки рекомендаций товаров на сайт интернет магазина, чтобы повысить конверсию и средний чек заказа   \n",
       "2            Добавить два новых канала привлечения трафика, что позволит привлекать на 30% больше пользователей   \n",
       "3          Показать на главной странице баннеры с актуальными акциями и распродажами, чтобы увеличить конверсию   \n",
       "4                                                       Запустить акцию, дающую скидку на товар в день рождения   \n",
       "5           Изменить структура категорий, что увеличит конверсию, т.к. пользователи быстрее найдут нужный товар   \n",
       "6                                     Запустить собственную службу доставки, что сократит срок доставки заказов   \n",
       "7                      Добавить страницу отзывов клиентов о магазине, что позволит увеличить количество заказов   \n",
       "8                              Изменить цвет фона главной страницы, чтобы увеличить вовлеченность пользователей   \n",
       "\n",
       "   ICE_index  RICE_index  \n",
       "0          2           0  \n",
       "1          4           1  \n",
       "2          1           2  \n",
       "3          3           3  \n",
       "4          0           4  \n",
       "5          7           5  \n",
       "6          5           6  \n",
       "7          6           7  \n",
       "8          8           8  "
      ]
     },
     "execution_count": 21,
     "metadata": {},
     "output_type": "execute_result"
    }
   ],
   "source": [
    "hypothesis_top = hypothesis[['hypothesis', 'ICE', 'RICE']]\n",
    "hypothesis_top = hypothesis_top.sort_values(by='ICE', ascending=False).reset_index()\n",
    "hypothesis_top['ICE_index'] = hypothesis_top.index\n",
    "hypothesis_top = hypothesis_top.sort_values(by='RICE', ascending=False).reset_index()\n",
    "hypothesis_top['RICE_index'] = hypothesis_top.index\n",
    "hypothesis_top = hypothesis_top[['hypothesis', 'ICE_index', 'RICE_index']]\n",
    "hypothesis_top"
   ]
  },
  {
   "cell_type": "code",
   "execution_count": 22,
   "id": "5dd0f0ae",
   "metadata": {},
   "outputs": [
    {
     "data": {
      "image/png": "[encoded data removed]",
      "text/plain": [
       "<Figure size 360x576 with 1 Axes>"
      ]
     },
     "metadata": {
      "needs_background": "light"
     },
     "output_type": "display_data"
    }
   ],
   "source": [
    "x = ['ICE', 'RICE']\n",
    "\n",
    "plt.figure(figsize=(5, 8))\n",
    "plt.axis('off')\n",
    "plt.title(\"Изменение места гипотезы от ICE к RICE\", fontsize=16)\n",
    "for i in range(len(hypothesis_top)):\n",
    "    y = [9 - hypothesis_top.ICE_index[i], 9 - hypothesis_top.RICE_index[i]]\n",
    "    label = hypothesis_top.hypothesis[i]\n",
    "    plt.plot(x, y, 'o-',  label=label, lw=3,ms=25)\n",
    "    plt.text(0, hypothesis_top.ICE_index[i]+0.9, 9 - hypothesis_top.ICE_index[i], fontsize=16)\n",
    "    plt.text(0.99, hypothesis_top.RICE_index[i]+0.9, 9 - hypothesis_top.RICE_index[i], fontsize=16)\n",
    "    plt.text(1.1, hypothesis_top.RICE_index[i]+0.9, hypothesis_top.hypothesis[i], fontsize=16);"
   ]
  },
  {
   "cell_type": "markdown",
   "id": "1fc4a0af",
   "metadata": {},
   "source": [
    "**Выводы:**\n",
    "При приоритизации гипотез методом **ICE** наиболее перспективными оказались гипотезы **8, 0, 7, 6**, а при приоритизации методом **RICE** гипотезы **7, 2, 0, 6**. Разница в приоритете гипотез состоит в учете значения параметра *reach* - количество пользователей, которое затронет гипотеза. Поэтому на первое место вышла гипотеза 7 у которой параметр *reach* равен 10."
   ]
  },
  {
   "cell_type": "markdown",
   "id": "f1aff934",
   "metadata": {},
   "source": [
    "## Графический анализ метрик"
   ]
  },
  {
   "cell_type": "markdown",
   "id": "0c03b9ce",
   "metadata": {},
   "source": [
    "Проанализируем A/B-тест для этого построим графики:\n",
    "- кумулятивной выручки по группам;\n",
    "- кумулятивного среднего чека по группам;\n",
    "- относительного изменения кумулятивного среднего чека группы B к группе A;\n",
    "- кумулятивной конверсии по группам;\n",
    "- относительного изменения кумулятивной конверсии группы B к группе A;"
   ]
  },
  {
   "cell_type": "markdown",
   "id": "c976c291",
   "metadata": {},
   "source": [
    "Создадим таблицу с кумулятивными по дням данными о заказах и количестве пользователей."
   ]
  },
  {
   "cell_type": "code",
   "execution_count": 23,
   "id": "d0cad277",
   "metadata": {},
   "outputs": [],
   "source": [
    "# создаем массив уникальных пар значений дат и групп теста\n",
    "datesGroups = orders[['date', 'group']].drop_duplicates()\n",
    "\n",
    "# создаем переменную с аггрегированными комулятивными по дням данными о заказах \n",
    "ordersAggregated = datesGroups.apply(\n",
    "    lambda x: orders[\n",
    "        np.logical_and(\n",
    "            orders['date'] <= x['date'], orders['group'] == x['group']\n",
    "        )\n",
    "    ].agg(\n",
    "        {\n",
    "            'date': 'max',\n",
    "            'group': 'max',\n",
    "            'transactionid': 'nunique',\n",
    "            'visitorid': 'nunique',\n",
    "            'revenue': 'sum',\n",
    "        }\n",
    "    ),\n",
    "    axis=1,\n",
    ").sort_values(by=['date', 'group'])\n",
    "\n",
    "# создаем переменную с аггрегированными комулятивными по дням данными о количестве пользователей \n",
    "visitorsAggregated = datesGroups.apply(\n",
    "    lambda x: visitors[\n",
    "        np.logical_and(\n",
    "            visitors['date'] <= x['date'], visitors['group'] == x['group']\n",
    "        )\n",
    "    ].agg({'date': 'max', 'group': 'max', 'visitors': 'sum'}),\n",
    "    axis=1,\n",
    ").sort_values(by=['date', 'group'])\n",
    "\n",
    "# объединяем данные о заказах и пользователях по дате и по группе\n",
    "cumulativeData = ordersAggregated.merge(\n",
    "    visitorsAggregated, left_on=['date', 'group'], right_on=['date', 'group']\n",
    ")\n",
    "cumulativeData.columns = [\n",
    "    'date',\n",
    "    'group',\n",
    "    'orders',\n",
    "    'buyers',\n",
    "    'revenue',\n",
    "    'visitors',\n",
    "]"
   ]
  },
  {
   "cell_type": "markdown",
   "id": "86a351f3",
   "metadata": {},
   "source": [
    "Построим график кумулятивной выручки по группам."
   ]
  },
  {
   "cell_type": "code",
   "execution_count": 24,
   "id": "d94e941d",
   "metadata": {},
   "outputs": [
    {
     "data": {
      "image/png": "[encoded data removed]",
      "text/plain": [
       "<Figure size 432x288 with 1 Axes>"
      ]
     },
     "metadata": {
      "needs_background": "light"
     },
     "output_type": "display_data"
    }
   ],
   "source": [
    "# кумулятивные по дням данные для группа A\n",
    "cumulativeRevenueA = cumulativeData[cumulativeData['group']=='A'][['date', 'revenue', 'orders']].reset_index()\n",
    "\n",
    "# кумулятивные по дням данные для группа B\n",
    "cumulativeRevenueB = cumulativeData[cumulativeData['group']=='B'][['date', 'revenue', 'orders']].reset_index()\n",
    "\n",
    "plt.plot(cumulativeRevenueA['revenue'], label='A')\n",
    "\n",
    "plt.plot(cumulativeRevenueB['revenue'], label='B')\n",
    "plt.legend()\n",
    "plt.title('Динамика кумулятивной выручки по группам')\n",
    "plt.xlabel('Количество дней')\n",
    "plt.ylabel('Кумулятивная выручка')\n",
    "plt.show();"
   ]
  },
  {
   "cell_type": "markdown",
   "id": "9751c745",
   "metadata": {},
   "source": [
    "Выручка группы А почти равномерно увеличивается в течение всего теста. \n",
    "Графики выручки группы B примерно в середине теста резко растет. Это может сигнализировать о всплесках числа заказов, либо о появлении очень дорогих заказов в выборке. Аномально большие данные необходимо будет удалить, т.к они влияют на результат. Кумулятивная выручка группы B стабильно выше, чем у группы A."
   ]
  },
  {
   "cell_type": "markdown",
   "id": "1517ac93",
   "metadata": {},
   "source": [
    "Построим графики среднего чека по группам — разделим кумулятивную выручку на кумулятивное число заказов"
   ]
  },
  {
   "cell_type": "code",
   "execution_count": 25,
   "id": "f78253b8",
   "metadata": {},
   "outputs": [
    {
     "data": {
      "image/png": "[encoded data removed]",
      "text/plain": [
       "<Figure size 432x288 with 1 Axes>"
      ]
     },
     "metadata": {
      "needs_background": "light"
     },
     "output_type": "display_data"
    }
   ],
   "source": [
    "plt.plot(cumulativeRevenueA['revenue']/cumulativeRevenueA['orders'], label='A')\n",
    "plt.plot(cumulativeRevenueB['revenue']/cumulativeRevenueB['orders'], label='B')\n",
    "plt.legend()\n",
    "plt.title('Изменение среднего чека по группам')\n",
    "plt.xlabel('Количество дней')\n",
    "plt.ylabel('Средний чек')\n",
    "plt.show();"
   ]
  },
  {
   "cell_type": "markdown",
   "id": "864a3465",
   "metadata": {},
   "source": [
    "На графике виден резкий скачок среднего чека для группы B. Для группы A средний чек установился, для группы B продолжает колебаться. Возможно влияют аномально большие данные. "
   ]
  },
  {
   "cell_type": "markdown",
   "id": "28724ea9",
   "metadata": {},
   "source": [
    "Построим график относительного изменения кумулятивного среднего чека группы B к группе A."
   ]
  },
  {
   "cell_type": "code",
   "execution_count": 26,
   "id": "fab48904",
   "metadata": {},
   "outputs": [
    {
     "data": {
      "image/png": "[encoded data removed]",
      "text/plain": [
       "<Figure size 432x288 with 1 Axes>"
      ]
     },
     "metadata": {
      "needs_background": "light"
     },
     "output_type": "display_data"
    }
   ],
   "source": [
    "# собираем данные в одном датафрейме\n",
    "mergedCumulativeRevenue = cumulativeRevenueA.merge(cumulativeRevenueB, left_on='date', right_on='date', how='left', suffixes=['A', 'B'])\n",
    "\n",
    "# cтроим отношение средних чеков\n",
    "plt.plot((mergedCumulativeRevenue['revenueB']/mergedCumulativeRevenue['ordersB'])/(mergedCumulativeRevenue['revenueA']/mergedCumulativeRevenue['ordersA'])-1)\n",
    "\n",
    "# добавляем ось X\n",
    "plt.axhline(y=0, color='red', linestyle='-')\n",
    "plt.title('Относительное изменение кумулятивного среднего чека группы B к группе A')\n",
    "plt.xlabel('Количество дней')\n",
    "plt.ylabel('Кумулятивный средний чек')\n",
    "plt.show();"
   ]
  },
  {
   "cell_type": "markdown",
   "id": "d93c3d9c",
   "metadata": {},
   "source": [
    "Результаты теста резко и значительно менялись в несколько дат, указывающих на даты совершения аномальных заказов."
   ]
  },
  {
   "cell_type": "markdown",
   "id": "419201a5",
   "metadata": {},
   "source": [
    "Построим график кумулятивной конверсии по группам."
   ]
  },
  {
   "cell_type": "code",
   "execution_count": 27,
   "id": "66ad85e4",
   "metadata": {},
   "outputs": [
    {
     "data": {
      "image/png": "[encoded data removed]",
      "text/plain": [
       "<Figure size 432x288 with 1 Axes>"
      ]
     },
     "metadata": {
      "needs_background": "light"
     },
     "output_type": "display_data"
    }
   ],
   "source": [
    "# расчитаем кумулятивную конверсию\n",
    "cumulativeData['conversion'] = cumulativeData['orders']/cumulativeData['visitors']\n",
    "\n",
    "# данные по группе A\n",
    "cumulativeDataA = cumulativeData[cumulativeData['group']=='A'].reset_index()\n",
    "\n",
    "# данные по группе B\n",
    "cumulativeDataB = cumulativeData[cumulativeData['group']=='B'].reset_index()\n",
    "\n",
    "# строим графики\n",
    "plt.plot(cumulativeDataA['conversion'], label='A')\n",
    "plt.plot(cumulativeDataB['conversion'], label='B')\n",
    "plt.legend()\n",
    "\n",
    "# задаем масштаб осей\n",
    "plt.axis([0, 31, 0.02, 0.045]) \n",
    "plt.title('Динамика кумулятивной конверсии по группам')\n",
    "plt.xlabel('Количество дней')\n",
    "plt.ylabel('Кумулятивная конверсия')\n",
    "plt.show();"
   ]
  },
  {
   "cell_type": "markdown",
   "id": "b63877d3",
   "metadata": {},
   "source": [
    "В начале теста группа A имела большую конверсию, но затем вперед вышла конверсия группыB. Конверсия группы B в конце теста установилась около среднего значения, конверсия группы A снижается в конце теста."
   ]
  },
  {
   "cell_type": "markdown",
   "id": "7f684836",
   "metadata": {},
   "source": [
    "Построим график относительного изменения кумулятивной конверсии группы B к группе A;"
   ]
  },
  {
   "cell_type": "code",
   "execution_count": 28,
   "id": "045aa351",
   "metadata": {},
   "outputs": [
    {
     "data": {
      "image/png": "[encoded data removed]",
      "text/plain": [
       "<Figure size 432x288 with 1 Axes>"
      ]
     },
     "metadata": {
      "needs_background": "light"
     },
     "output_type": "display_data"
    }
   ],
   "source": [
    "mergedCumulativeConversions = cumulativeDataA[['date','conversion']].merge(cumulativeDataB[['date','conversion']], left_on='date', right_on='date', how='left', suffixes=['A', 'B'])\n",
    "\n",
    "plt.plot(mergedCumulativeConversions['conversionB']/mergedCumulativeConversions['conversionA']-1, label=\"Относительный прирост конверсии группы B относительно группы A\")\n",
    "plt.legend()\n",
    "\n",
    "plt.axhline(y=0, color='black', linestyle='--')\n",
    "plt.axhline(y=0.14, color='grey', linestyle='--')\n",
    "plt.axis([0, 30, -0.2, 0.35]) \n",
    "plt.title('Относительное изменение кумулятивной конверсии группы B к группе A')\n",
    "plt.xlabel('Количество дней')\n",
    "plt.ylabel('Кумулятивная конверсия')\n",
    "plt.show();"
   ]
  },
  {
   "cell_type": "markdown",
   "id": "182a9be3",
   "metadata": {},
   "source": [
    "В целом у группы B показатели конверсии лучше группы A, в некоторые периоды конверсия группы A обгоняла группу B."
   ]
  },
  {
   "cell_type": "markdown",
   "id": "fd7e624c",
   "metadata": {},
   "source": [
    "**Выводы:**\n",
    "- Создали таблицу с кумулятивными по дням данными о заказах и количестве пользователей.\n",
    "- Построили график кумулятивной выручки по группам. Выручка группы A равномерно увеличивается, группы B имеет резкий скачок.\n",
    "- На графике среднего чека также выше показатели у группы B, виден также резкий скачок, \n",
    "- График относительного кумулятивного среднего чека имеет резкие скачки.\n",
    "- Конверсия группы B установилась около среднего и значительно выше группы A. \n",
    "\n",
    "Для окончательных выводов необходимо проанализировать наличие выбросов в данных."
   ]
  },
  {
   "cell_type": "markdown",
   "id": "b2ab7fad",
   "metadata": {},
   "source": [
    "## Проверка гипотез"
   ]
  },
  {
   "cell_type": "markdown",
   "id": "0b103824",
   "metadata": {},
   "source": [
    "Для проверки наличия выбросов в данных и принятии решения по результатам теста:\n",
    "- Построим точечный график количества заказов по пользователям. \n",
    "- Посчитаем 95-й и 99-й перцентили количества заказов на пользователя. Выберем границу для определения аномальных пользователей.\n",
    "- Построим точечный график стоимостей заказов.\n",
    "- Посчитаем 95-й и 99-й перцентили стоимости заказов. Выберем границу для определения аномальных заказов.\n",
    "- Посчитаем статистическую значимость различий в конверсии между группами по «сырым» данным.\n",
    "- Посчитаем статистическую значимость различий в среднем чеке заказа между группами по «сырым» данным.\n",
    "- Посчитаем статистическую значимость различий в конверсии между группами по «очищенным» данным.\n",
    "- Посчитаем статистическую значимость различий в среднем чеке заказа между группами по «очищенным» данным."
   ]
  },
  {
   "cell_type": "markdown",
   "id": "9d869343",
   "metadata": {},
   "source": [
    "### Определение аномального количества заказов"
   ]
  },
  {
   "cell_type": "markdown",
   "id": "cab550a8",
   "metadata": {},
   "source": [
    "Построим точечный график количества заказов по пользователям."
   ]
  },
  {
   "cell_type": "code",
   "execution_count": 29,
   "id": "4553dfc9",
   "metadata": {},
   "outputs": [
    {
     "data": {
      "text/html": [
       "<div>\n",
       "<style scoped>\n",
       "    .dataframe tbody tr th:only-of-type {\n",
       "        vertical-align: middle;\n",
       "    }\n",
       "\n",
       "    .dataframe tbody tr th {\n",
       "        vertical-align: top;\n",
       "    }\n",
       "\n",
       "    .dataframe thead th {\n",
       "        text-align: right;\n",
       "    }\n",
       "</style>\n",
       "<table border=\"1\" class=\"dataframe\">\n",
       "  <thead>\n",
       "    <tr style=\"text-align: right;\">\n",
       "      <th></th>\n",
       "      <th>visitorid</th>\n",
       "      <th>orders</th>\n",
       "    </tr>\n",
       "  </thead>\n",
       "  <tbody>\n",
       "    <tr>\n",
       "      <th>908</th>\n",
       "      <td>3967698036</td>\n",
       "      <td>3</td>\n",
       "    </tr>\n",
       "    <tr>\n",
       "      <th>55</th>\n",
       "      <td>249864742</td>\n",
       "      <td>3</td>\n",
       "    </tr>\n",
       "    <tr>\n",
       "      <th>478</th>\n",
       "      <td>2108163459</td>\n",
       "      <td>3</td>\n",
       "    </tr>\n",
       "    <tr>\n",
       "      <th>687</th>\n",
       "      <td>2988190573</td>\n",
       "      <td>3</td>\n",
       "    </tr>\n",
       "    <tr>\n",
       "      <th>890</th>\n",
       "      <td>3908431265</td>\n",
       "      <td>3</td>\n",
       "    </tr>\n",
       "    <tr>\n",
       "      <th>138</th>\n",
       "      <td>611059232</td>\n",
       "      <td>3</td>\n",
       "    </tr>\n",
       "    <tr>\n",
       "      <th>632</th>\n",
       "      <td>2742574263</td>\n",
       "      <td>3</td>\n",
       "    </tr>\n",
       "    <tr>\n",
       "      <th>157</th>\n",
       "      <td>678354126</td>\n",
       "      <td>2</td>\n",
       "    </tr>\n",
       "    <tr>\n",
       "      <th>323</th>\n",
       "      <td>1404560065</td>\n",
       "      <td>2</td>\n",
       "    </tr>\n",
       "    <tr>\n",
       "      <th>452</th>\n",
       "      <td>1985475298</td>\n",
       "      <td>2</td>\n",
       "    </tr>\n",
       "  </tbody>\n",
       "</table>\n",
       "</div>"
      ],
      "text/plain": [
       "      visitorid  orders\n",
       "908  3967698036       3\n",
       "55    249864742       3\n",
       "478  2108163459       3\n",
       "687  2988190573       3\n",
       "890  3908431265       3\n",
       "138   611059232       3\n",
       "632  2742574263       3\n",
       "157   678354126       2\n",
       "323  1404560065       2\n",
       "452  1985475298       2"
      ]
     },
     "execution_count": 29,
     "metadata": {},
     "output_type": "execute_result"
    }
   ],
   "source": [
    "ordersGroup = orders.groupby('visitorid', as_index=False).agg({'transactionid': 'nunique'})\n",
    "ordersGroup.columns = ['visitorid', 'orders']\n",
    "ordersGroup.sort_values(by = 'orders', ascending=False).head(10)"
   ]
  },
  {
   "cell_type": "code",
   "execution_count": 30,
   "id": "02a7318e",
   "metadata": {},
   "outputs": [
    {
     "data": {
      "image/png": "[encoded data removed]",
      "text/plain": [
       "<Figure size 432x288 with 1 Axes>"
      ]
     },
     "metadata": {
      "needs_background": "light"
     },
     "output_type": "display_data"
    }
   ],
   "source": [
    "plt.scatter(ordersGroup['visitorid'], ordersGroup['orders'])\n",
    "plt.title('Распределение количества заказов по пользователям')\n",
    "plt.xlabel('Пользователи')\n",
    "plt.ylabel('Количество заказов')\n",
    "plt.show();"
   ]
  },
  {
   "cell_type": "markdown",
   "id": "71bfcefd",
   "metadata": {},
   "source": [
    "В основном большинство пользователей сделали по 1-2 заказа. Больше 2 заказов сделали единицы."
   ]
  },
  {
   "cell_type": "code",
   "execution_count": 31,
   "id": "a595d104",
   "metadata": {},
   "outputs": [
    {
     "data": {
      "text/plain": [
       "array([1., 2.])"
      ]
     },
     "execution_count": 31,
     "metadata": {},
     "output_type": "execute_result"
    }
   ],
   "source": [
    "# считаем 95-й и 99-й перцентили количества заказов на пользователя\n",
    "\n",
    "np.percentile(ordersGroup['orders'], [95, 99])"
   ]
  },
  {
   "cell_type": "markdown",
   "id": "d6d3eefa",
   "metadata": {},
   "source": [
    "Не более 5% пользователей совершали больше 1 заказа и не более 1% пользователей - больше 2. Аномальными будем считать количество заказов больше 2. "
   ]
  },
  {
   "cell_type": "markdown",
   "id": "979b9a25",
   "metadata": {},
   "source": [
    "### Определение аномальной стоимости заказов"
   ]
  },
  {
   "cell_type": "code",
   "execution_count": 32,
   "id": "e1708bc1",
   "metadata": {},
   "outputs": [
    {
     "data": {
      "image/png": "[encoded data removed]",
      "text/plain": [
       "<Figure size 432x288 with 1 Axes>"
      ]
     },
     "metadata": {
      "needs_background": "light"
     },
     "output_type": "display_data"
    }
   ],
   "source": [
    "# строим точечный график стоимостей заказов\n",
    "\n",
    "x_values = pd.Series(range(0,len(orders['revenue'])))\n",
    "plt.scatter(x_values, orders['revenue'])\n",
    "plt.title('Распределение стоимости заказов')\n",
    "plt.xlabel('Заказы')\n",
    "plt.ylabel('Стоимость заказа')\n",
    "plt.show();"
   ]
  },
  {
   "cell_type": "markdown",
   "id": "0dba3c5b",
   "metadata": {},
   "source": [
    "На графике видны выбросы - очень дорогие заказы."
   ]
  },
  {
   "cell_type": "code",
   "execution_count": 33,
   "id": "0a944474",
   "metadata": {},
   "outputs": [
    {
     "data": {
      "text/plain": [
       "array([26785., 53904.])"
      ]
     },
     "execution_count": 33,
     "metadata": {},
     "output_type": "execute_result"
    }
   ],
   "source": [
    "# cчитаем 95-й и 99-й перцентили стоимости заказов\n",
    "np.percentile(orders['revenue'], [95, 99])"
   ]
  },
  {
   "cell_type": "markdown",
   "id": "e73b4472",
   "metadata": {},
   "source": [
    "Не более 5% заказов стоят дороже 26000, и не более 1% заказов дороже 53000. Аномальными будем считать заказы на сумму более 53000."
   ]
  },
  {
   "cell_type": "markdown",
   "id": "1348ed38",
   "metadata": {},
   "source": [
    "### Проверка гипотез по \"сырым\" данным"
   ]
  },
  {
   "cell_type": "markdown",
   "id": "b9401fb0",
   "metadata": {},
   "source": [
    "Подготовим данные для проверки гипотез. Создадим таблицу со следующими столбцами:\n",
    "- `date` — дата;\n",
    "- `ordersPerDateA` — количество заказов в выбранную дату в группе A;\n",
    "- `revenuePerDateA` — суммарная выручка в выбранную дату в группе A;\n",
    "- `ordersPerDateB` — количество заказов в выбранную дату в группе B;\n",
    "- `revenuePerDateB` — суммарная выручка в выбранную дату в группе B;\n",
    "- `visitorsPerDateA` — количество пользователей в выбранную дату в группе A;\n",
    "- `visitorsPerDateB` — количество пользователей в выбранную дату в группе B."
   ]
  },
  {
   "cell_type": "code",
   "execution_count": 34,
   "id": "712087a3",
   "metadata": {},
   "outputs": [
    {
     "name": "stdout",
     "output_type": "stream",
     "text": [
      "        date  ordersPerDateA  revenuePerDateA  ordersPerDateB  \\\n",
      "0 2019-08-01              23           142779              17   \n",
      "1 2019-08-02              19            91602              23   \n",
      "2 2019-08-03              24           112473              14   \n",
      "3 2019-08-04              11            41176              14   \n",
      "4 2019-08-05              22            86383              21   \n",
      "\n",
      "   revenuePerDateB  visitorsPerDateA  visitorsPerDateB  \n",
      "0            59758               719               713  \n",
      "1           162043               619               581  \n",
      "2            67049               507               509  \n",
      "3            96890               717               770  \n",
      "4            89908               756               707  \n"
     ]
    }
   ],
   "source": [
    "# считаем для группы A суммарное количество пользователей на каждый день\n",
    "visitorsADaily = visitors[visitors['group'] == 'A'][['date', 'visitors']]\n",
    "visitorsADaily.columns = ['date', 'visitorsPerDateA']\n",
    "\n",
    "# считаем для группы B суммарное количество пользователей на каждый день\n",
    "visitorsBDaily = visitors[visitors['group'] == 'B'][['date', 'visitors']]\n",
    "visitorsBDaily.columns = ['date', 'visitorsPerDateB']\n",
    "\n",
    "# считаем для группы A суммарное количество заказов и выручку на каждый день\n",
    "ordersADaily = (\n",
    "    orders[orders['group'] == 'A'][['date', 'transactionid', 'visitorid', 'revenue']]\n",
    "    .groupby('date', as_index=False)\n",
    "    .agg({'transactionid': pd.Series.nunique, 'revenue': 'sum'})\n",
    ")\n",
    "ordersADaily.columns = ['date', 'ordersPerDateA', 'revenuePerDateA']\n",
    "\n",
    "# считаем для группы B суммарное количество заказов и выручку на каждый день\n",
    "ordersBDaily = (\n",
    "    orders[orders['group'] == 'B'][['date', 'transactionid', 'visitorid', 'revenue']]\n",
    "    .groupby('date', as_index=False)\n",
    "    .agg({'transactionid': pd.Series.nunique, 'revenue': 'sum'})\n",
    ")\n",
    "ordersBDaily.columns = ['date', 'ordersPerDateB', 'revenuePerDateB']\n",
    "\n",
    "# объединяем все в одну таблицу по столбцу 'date'\n",
    "data = (\n",
    "    ordersADaily.merge(\n",
    "        ordersBDaily, left_on='date', right_on='date', how='left'\n",
    "    )\n",
    "    .merge(visitorsADaily, left_on='date', right_on='date', how='left')\n",
    "    .merge(visitorsBDaily, left_on='date', right_on='date', how='left')\n",
    ")\n",
    "\n",
    "print(data.head(5))"
   ]
  },
  {
   "cell_type": "markdown",
   "id": "ebe44231",
   "metadata": {},
   "source": [
    "Для рассчета статистической значимости различий в конверсии создадим переменные *ordersByUsersA* и *ordersByUsersB* со столбцами `visitorid`, `orders`. В них для пользователей, которые заказывали хотя бы 1 раз, укажем число совершённых заказов."
   ]
  },
  {
   "cell_type": "code",
   "execution_count": 35,
   "id": "855beda1",
   "metadata": {},
   "outputs": [],
   "source": [
    "# переменные, содержащие число заказов для пользователя\n",
    "ordersByUsersA = (\n",
    "    orders[orders['group'] == 'A']\n",
    "    .groupby('visitorid', as_index=False)\n",
    "    .agg({'transactionid': pd.Series.nunique})\n",
    ")\n",
    "ordersByUsersA.columns = ['visitorid', 'orders']\n",
    "\n",
    "ordersByUsersB = (\n",
    "    orders[orders['group'] == 'B']\n",
    "    .groupby('visitorid', as_index=False)\n",
    "    .agg({'transactionid': pd.Series.nunique})\n",
    ")\n",
    "ordersByUsersB.columns = ['visitorid', 'orders'] \n",
    "\n",
    "# выборки для групп A и B с числом заказов определённого пользователя, в том числе ноль\n",
    "sampleA = pd.concat([ordersByUsersA['orders'],pd.Series(0, index=np.arange(data['visitorsPerDateA'].sum() - len(ordersByUsersA['orders'])), name='orders')],axis=0)\n",
    "\n",
    "sampleB = pd.concat([ordersByUsersB['orders'],pd.Series(0, index=np.arange(data['visitorsPerDateB'].sum() - len(ordersByUsersB['orders'])), name='orders')],axis=0)"
   ]
  },
  {
   "cell_type": "markdown",
   "id": "85a301bb",
   "metadata": {},
   "source": [
    "Проверим предположение о том, что конверсия пользователей группы A и B отличается.\n",
    "\n",
    "Для этого сформулируем **нулевую гипотезу: H0** — конверсия пользователей группы A **равна** конверсии пользователей группы B.\n",
    "\n",
    "**Альтернативная гипотеза: H1** — конверсия пользователей группы A и B **различаются**.\n",
    "\n",
    "Для проверки гипотезы будем использовать критерий Манна-Уитни, т.к. в выборках присутствуют значительные выбросы.\n",
    "\n",
    "В случае, если полученный p-уровень значимости будет меньше принятого уровня статистической значимости, то отвергнем нулевую гипотезу, в ином случаем отвергнуть нулевую гипотезу не получится."
   ]
  },
  {
   "cell_type": "code",
   "execution_count": 36,
   "id": "22fb373d",
   "metadata": {},
   "outputs": [
    {
     "name": "stdout",
     "output_type": "stream",
     "text": [
      "p-значение: 0.011\n",
      "Отвергаем нулевую гипотезу\n",
      "Относительный прирост конверсии группы B: 0.160\n"
     ]
    }
   ],
   "source": [
    "# считаем статистическую значимость различий в конверсии между группами по «сырым» данным \n",
    "\n",
    "alpha = 0.05  # критический уровень статистической значимости\n",
    "p_value = st.mannwhitneyu(sampleA,sampleB)[1]\n",
    "\n",
    "print ('p-значение:', \"{0:.3f}\".format(p_value))\n",
    "if (p_value < alpha):\n",
    "    print(\"Отвергаем нулевую гипотезу\")\n",
    "else:\n",
    "    print(\"Не получилось отвергнуть нулевую гипотезу\")\n",
    "\n",
    "print('Относительный прирост конверсии группы B:', \"{0:.3f}\".format((data['ordersPerDateB'].sum()/data['visitorsPerDateB'].sum())/(data['ordersPerDateA'].sum()/data['visitorsPerDateA'].sum())-1))"
   ]
  },
  {
   "cell_type": "markdown",
   "id": "43ff9ce8",
   "metadata": {},
   "source": [
    "Проверим предположение о том, что средний чек пользователей группы A и B отличается.\n",
    "\n",
    "Для этого сформулируем **нулевую гипотезу: H0** — средний чек пользователей группы A **равен** среднему чеку пользователей группы B.\n",
    "\n",
    "**Альтернативная гипотеза: H1** — средний чек пользователей группы A и B **различаются**.\n",
    "\n",
    "Для проверки гипотезы будем также использовать критерий Манна-Уитни.\n",
    "\n",
    "В случае, если полученный p-уровень значимости будет меньше принятого уровня статистической значимости, то отвергнем нулевую гипотезу, в ином случаем отвергнуть нулевую гипотезу не получится."
   ]
  },
  {
   "cell_type": "code",
   "execution_count": 37,
   "id": "75c3fc35",
   "metadata": {},
   "outputs": [
    {
     "name": "stdout",
     "output_type": "stream",
     "text": [
      "p-значение: 0.829\n",
      "Не получилось отвергнуть нулевую гипотезу\n",
      "Относительный прирост среднего чека группы B: 0.287\n"
     ]
    }
   ],
   "source": [
    "# считаем статистическую значимость различий в среднем чеке заказа между группами по «сырым» данным\n",
    "\n",
    "alpha = 0.05  # критический уровень статистической значимости\n",
    "p_value = st.mannwhitneyu(orders[orders['group']=='A']['revenue'], orders[orders['group']=='B']['revenue'])[1]\n",
    "\n",
    "print ('p-значение:', \"{0:.3f}\".format(p_value))\n",
    "if (p_value < alpha):\n",
    "    print(\"Отвергаем нулевую гипотезу\")\n",
    "else:\n",
    "    print(\"Не получилось отвергнуть нулевую гипотезу\")\n",
    "\n",
    "print('Относительный прирост среднего чека группы B:', '{0:.3f}'.format(orders[orders['group']=='B']['revenue'].mean()/orders[orders['group']=='A']['revenue'].mean()-1)) "
   ]
  },
  {
   "cell_type": "markdown",
   "id": "3860e516",
   "metadata": {},
   "source": [
    "### Проверка гипотез по \"очищенным\" данным"
   ]
  },
  {
   "cell_type": "markdown",
   "id": "956656db",
   "metadata": {},
   "source": [
    "Очистим данные от аномальных выбросов. Для этого сделаем срезы пользователей с числом заказов больше 4, сохраним в переменную — *usersWithManyOrders* и пользователей, совершивших заказы дороже 50 000, сохраним в переменную — *usersWithExpensiveOrders*. Объединим их в таблице *abnormalUsers*."
   ]
  },
  {
   "cell_type": "code",
   "execution_count": 38,
   "id": "834d7c23",
   "metadata": {},
   "outputs": [
    {
     "name": "stdout",
     "output_type": "stream",
     "text": [
      "Количество пользователей с аномально большим количеством и стоимостью заказов: 16\n"
     ]
    }
   ],
   "source": [
    "# создаем переменные с указанием погоровых значений по коичеству заказов и выручки\n",
    "orders_threshold = ordersGroup['orders'].quantile(0.99)\n",
    "revenue_threshold = orders['revenue'].quantile(0.99)\n",
    "\n",
    "# пользователи с аномально большим количеством заказов\n",
    "usersWithManyOrders = pd.concat(\n",
    "    [\n",
    "        ordersByUsersA[ordersByUsersA['orders'] > orders_threshold]['visitorid'],\n",
    "        ordersByUsersB[ordersByUsersB['orders'] > orders_threshold]['visitorid'],\n",
    "    ],\n",
    "    axis=0,\n",
    ")\n",
    "\n",
    "\n",
    "# пользователи с аномально большой стоимостью заказов\n",
    "usersWithExpensiveOrders = orders[orders['revenue'] > revenue_threshold]['visitorid']\n",
    "abnormalUsers = (\n",
    "    pd.concat([usersWithManyOrders, usersWithExpensiveOrders], axis=0)\n",
    "    .drop_duplicates()\n",
    "    .sort_values()\n",
    "    \n",
    ")\n",
    "\n",
    "print('Количество пользователей с аномально большим количеством и стоимостью заказов:', len(abnormalUsers))"
   ]
  },
  {
   "cell_type": "code",
   "execution_count": 39,
   "id": "b059992c",
   "metadata": {},
   "outputs": [],
   "source": [
    "# очищенные от аномалий выборки для групп A и B с числом заказов определённого пользователя, в том числе ноль\n",
    "sampleAFiltered = pd.concat(\n",
    "    [\n",
    "        ordersByUsersA[\n",
    "            np.logical_not(ordersByUsersA['visitorid'].isin(abnormalUsers))\n",
    "        ]['orders'],\n",
    "        pd.Series(\n",
    "            0,\n",
    "            index=np.arange(\n",
    "                data['visitorsPerDateA'].sum() - len(ordersByUsersA['orders'])\n",
    "            ),\n",
    "            name='orders',\n",
    "        ),\n",
    "    ],\n",
    "    axis=0,\n",
    ")\n",
    "\n",
    "sampleBFiltered = pd.concat(\n",
    "    [\n",
    "        ordersByUsersB[\n",
    "            np.logical_not(ordersByUsersB['visitorid'].isin(abnormalUsers))\n",
    "        ]['orders'],\n",
    "        pd.Series(\n",
    "            0,\n",
    "            index=np.arange(\n",
    "                data['visitorsPerDateB'].sum() - len(ordersByUsersB['orders'])\n",
    "            ),\n",
    "            name='orders',\n",
    "        ),\n",
    "    ],\n",
    "    axis=0,\n",
    ")"
   ]
  },
  {
   "cell_type": "markdown",
   "id": "4639c14d",
   "metadata": {},
   "source": [
    "Для очищенных данных проверим предположение о том, что конверсия пользователей группы A и B отличается.\n",
    "\n",
    "Для этого сформулируем **нулевую гипотезу: H0** — конверсия пользователей группы A **равна** конверсии пользователей группы B.\n",
    "\n",
    "**Альтернативная гипотеза: H1** — конверсия пользователей группы A и B **различаются**."
   ]
  },
  {
   "cell_type": "code",
   "execution_count": 40,
   "id": "1a0a754c",
   "metadata": {},
   "outputs": [
    {
     "name": "stdout",
     "output_type": "stream",
     "text": [
      "p-значение: 0.007\n",
      "Отвергаем нулевую гипотезу\n",
      "Относительный прирост среднего чека группы B: 0.189\n"
     ]
    }
   ],
   "source": [
    "# считаем статистическую значимость различий в конверсии между группами по «очищенным» данным\n",
    "\n",
    "alpha = 0.05  # критический уровень статистической значимости\n",
    "p_value = st.mannwhitneyu(sampleAFiltered, sampleBFiltered)[1]\n",
    "\n",
    "print ('p-значение:', \"{0:.3f}\".format(p_value))\n",
    "if (p_value < alpha):\n",
    "    print(\"Отвергаем нулевую гипотезу\")\n",
    "else:\n",
    "    print(\"Не получилось отвергнуть нулевую гипотезу\")\n",
    "\n",
    "print('Относительный прирост среднего чека группы B:', '{0:.3f}'.format(sampleBFiltered.mean()/sampleAFiltered.mean()-1))"
   ]
  },
  {
   "cell_type": "markdown",
   "id": "ec124aa9",
   "metadata": {},
   "source": [
    "Для очищенных данных проверим предположение о том, что средний чек пользователей группы A и B отличается.\n",
    "\n",
    "Для этого сформулируем **нулевую гипотезу: H0** — средний чек пользователей группы A **равен** среднему чеку пользователей группы B.\n",
    "\n",
    "**Альтернативная гипотеза: H1** — средний чек пользователей группы A и B **различаются**."
   ]
  },
  {
   "cell_type": "code",
   "execution_count": 41,
   "id": "b307b972",
   "metadata": {},
   "outputs": [
    {
     "name": "stdout",
     "output_type": "stream",
     "text": [
      "p-значение: 0.788\n",
      "Не получилось отвергнуть нулевую гипотезу\n",
      "Относительный прирост среднего чека группы B: -0.032\n"
     ]
    }
   ],
   "source": [
    "# cчитаем статистическую значимость различий в среднем чеке заказа между группами по «очищенным» данным\n",
    "\n",
    "alpha = 0.05  # критический уровень статистической значимости\n",
    "p_value = st.mannwhitneyu(\n",
    "            orders[\n",
    "                np.logical_and(\n",
    "                    orders['group'] == 'A',\n",
    "                    np.logical_not(orders['visitorid'].isin(abnormalUsers)),\n",
    "                )\n",
    "            ]['revenue'],\n",
    "            orders[\n",
    "                np.logical_and(\n",
    "                    orders['group'] == 'B',\n",
    "                    np.logical_not(orders['visitorid'].isin(abnormalUsers)),\n",
    "                )\n",
    "            ]['revenue'],\n",
    "        )[1]\n",
    "\n",
    "print ('p-значение:', \"{0:.3f}\".format(p_value))\n",
    "if (p_value < alpha):\n",
    "    print(\"Отвергаем нулевую гипотезу\")\n",
    "else:\n",
    "    print(\"Не получилось отвергнуть нулевую гипотезу\")\n",
    "\n",
    "print('Относительный прирост среднего чека группы B:', \n",
    "    \"{0:.3f}\".format(\n",
    "        orders[\n",
    "            np.logical_and(\n",
    "                orders['group'] == 'B',\n",
    "                np.logical_not(orders['visitorid'].isin(abnormalUsers)),\n",
    "            )\n",
    "        ]['revenue'].mean()\n",
    "        / orders[\n",
    "            np.logical_and(\n",
    "                orders['group'] == 'A',\n",
    "                np.logical_not(orders['visitorid'].isin(abnormalUsers)),\n",
    "            )\n",
    "        ]['revenue'].mean()\n",
    "        - 1\n",
    "    )\n",
    ")"
   ]
  },
  {
   "cell_type": "markdown",
   "id": "3d15c26e",
   "metadata": {},
   "source": [
    "**Выводы:**\n",
    "- На точечных графиках количества заказов по пользователям и стоимостей заказов обнаружили выбросы. \n",
    "- Рассчитали 95-й и 99-й перцентили количества заказов на пользователя и стоимости заказов. \n",
    "- Определили границу для аномальных пользователей на уровне 2 заказов на 1 пользователя.\n",
    "- Определили границу для аномальных заказов на уровне 53000 за заказ.\n",
    "\n",
    "**Статистическая значимость различий в конверсии и среднем чеке заказа между группами по *«сырым»* данным:**\n",
    "\n",
    "- *P-value = 0.011* меньше 0.05, значит, что данные предоставляют достаточное основание — для выбранного уровня значимости — отвергнуть нулевую гипотезу. Можно сделать вывод, что **конверсия** пользователей группы A и B **различаются**. Относительный выигрыш группы B равен **16%**.\n",
    "\n",
    "- *P-value = 0.829* больше 0.05, значит, нулевую гипотезу о том, что статистически значимых **различий** в **среднем чеке** между группами **нет**, не отвергаем. Относительный выигрыш среднего чека группы B равен **28.7%**.\n",
    "\n",
    "**Статистическая значимость различий в конверсии и среднем чеке заказа между группами по *«очищенным»* данным:**\n",
    "\n",
    "- *P-value = 0.007* меньше 0.05, значит, что данные предоставляют достаточное основание — для выбранного уровня значимости — отвергнуть нулевую гипотезу. Можно сделать вывод, что **конверсия** пользователей группы A и B **различаются**. Относительный выигрыш группы B равен **18.9%**.\n",
    "- *P-value = 0.788* больше 0.05, значит, нулевую гипотезу о том, что статистически значимых **различий** в **среднем чеке** между группами **нет**, не отвергаем. Относительный проигрыш среднего чека группы B равен **3.2%**.\n",
    "\n",
    "**Результаты A/B-теста:**\n",
    "\n",
    "- Есть статистически значимое различие по конверсии между группами как по сырым данным, так и после фильтрации аномалий. Выигрыш группы B после фильтрации данных улучшился с **13.8% до 15.3%**.\n",
    "- По сырым и по очищенным данным нет статистически значимого различия по среднему чеку между группами. Относительный выигрыш среднего чека группы B по очищенным данным упал с **25.9%** до **-0.6%**.\n",
    "- График различия конверсии между группами сообщает, что результаты группы B в целом лучше группы A: но окончательно еще не установились.\n",
    "- График различия среднего чека колеблется: он-то и позволил вам найти аномалии. Сделать из этого графика определённые выводы нельзя.\n",
    "\n",
    "Исходя из всех перечисленных фактов, а также длительности теста в 31 день, установившемся среднем чеке, высокой кумулятивной выручки группы B делаем вывод, что тест необходимо остановить, завиксировать победу группы B, врядли группа A достигнет показателей группы B."
   ]
  },
  {
   "cell_type": "markdown",
   "id": "af06e87b",
   "metadata": {},
   "source": [
    "## Итоги исследования"
   ]
  },
  {
   "cell_type": "markdown",
   "id": "479132a1",
   "metadata": {},
   "source": [
    "В ходе *предобработки данных* названия столбцов были исправлены в соответствии с хорошим стилем, даты приведены к типу *datetime64*.  Дубликатов, пропусков и аномалий в данных не обнаружено. Данные подготовлены для дальнейшего анализа.\n",
    "\n",
    "Проведена *приоритизация гипотез* методами **ICE и RICE**. Три из четырех первых гипотез одинаковые, но на первое место при приоритизации методом ICE вышла гипотеза №8, а методом RICE гипотеза №7. Это произошло в следствии большого значения параметра reach, который учитывается при приоритизации методом RICE.\n",
    "\n",
    "При подготовке к *графическому анализу метрик* создали таблицу с кумулятивными по дням данными о заказах и количестве пользователей. На основе этой таблицы  построили:\n",
    "+ график кумулятивной выручки по группам, \n",
    "+ кумулятивного среднего чека по группам, \n",
    "+ относительного изменения кумулятивного среднего чека группы B к группе A, \n",
    "+ кумулятивной конверсии по группам, \n",
    "+ относительного изменения кумулятивной конверсии группы B к группе A.\n",
    "\n",
    "*На основе графиков сделали выводы:*\n",
    "- выручка группы A и B  **увеличивается**. Для группы A равномерно, для группы B имеет резкий скачок, что может указывать на наличие аномально больших значений прибыли\n",
    "- график среднего чека по группам до определенного момента рос для обоих групп, но после резкого скачка для группы B, средний чек стал снижаться, показатели среднего чека для группы B выше, чем у группы A.\n",
    "- график относительного кумулятивного среднего чека имеет резкие скачки и указывает на наличие аномально больших значений.\n",
    "- конверсия групп установилась около среднего и значения для группы B существенно выше группы A.\n",
    "\n",
    "*Проанализировали наличие выбросов в данных*. Для этого построили точечные графики количества заказов для пользователей и стоимости заказов. Посчитали 95 и 99 перцентили количества заказов на пользователя и стоимости заказов.\n",
    " Установили, что:\n",
    "1)\t\n",
    "   - не более **5%** пользователей совершали больше **1** заказа \n",
    "   - не более **1%** пользователей - больше **2**. \n",
    "   \n",
    "2)   \n",
    "   - не более **5%** заказов стоят дороже **26000**\n",
    "   - не более **1%** заказов дороже **53000**. \n",
    "\n",
    "Аномальными решили считать пользователей с количеством заказов больше **2** и заказы на сумму более **53000**.\n",
    "\n",
    "*Проверили гипотезы по «сырым» и по «очищенным» данным о наличии статистической значимости в конверсии и среднем чеке заказов.*\n",
    "- Определили **наличие статистически значимого различия по конверсии** между группами как по «сырым», так и по «очищенным» данным. Показатели конверсии группы B после фильтрации выше показателей группы A  на **18.9%**.\n",
    "- Определили **отсутствие** по «сырым» и по «очищенным» данным **статистически значимого различия по среднему чеку** между группами. Показатели конверсии группы B после фильтрации выше показателей группы A  на **3.2%**.\n",
    "- Исходя из всех перечисленных фактов, а также длительности теста в 31 день, установившемся среднем чеке, высокой кумулятивной выручки группы B делаем вывод, что тест необходимо остановить, завиксировать победу группы B, врядли группа A достигнет показателей группы B.\n"
   ]
  }
 ],
 "metadata": {
  "ExecuteTimeLog": [
   {
    "duration": 68,
    "start_time": "2022-05-07T14:06:13.658Z"
   },
   {
    "duration": 2499,
    "start_time": "2022-05-07T14:06:19.494Z"
   },
   {
    "duration": 206,
    "start_time": "2022-05-07T14:06:21.997Z"
   },
   {
    "duration": 26,
    "start_time": "2022-05-07T14:06:22.206Z"
   },
   {
    "duration": 63,
    "start_time": "2022-05-07T14:06:22.235Z"
   },
   {
    "duration": 130,
    "start_time": "2022-05-07T14:06:22.301Z"
   },
   {
    "duration": 60,
    "start_time": "2022-05-07T14:06:22.433Z"
   },
   {
    "duration": 14,
    "start_time": "2022-05-07T14:06:22.496Z"
   },
   {
    "duration": 23,
    "start_time": "2022-05-07T14:06:22.512Z"
   },
   {
    "duration": 86,
    "start_time": "2022-05-07T14:06:22.537Z"
   },
   {
    "duration": 10,
    "start_time": "2022-05-07T14:06:22.626Z"
   },
   {
    "duration": 48,
    "start_time": "2022-05-07T14:06:22.693Z"
   },
   {
    "duration": 101,
    "start_time": "2022-05-07T14:06:22.794Z"
   },
   {
    "duration": 11,
    "start_time": "2022-05-07T14:06:22.898Z"
   },
   {
    "duration": 5276,
    "start_time": "2022-05-07T14:06:22.917Z"
   },
   {
    "duration": 10,
    "start_time": "2022-05-07T14:06:28.195Z"
   },
   {
    "duration": 12,
    "start_time": "2022-05-07T14:06:28.208Z"
   },
   {
    "duration": 8,
    "start_time": "2022-05-07T14:06:28.222Z"
   },
   {
    "duration": 6,
    "start_time": "2022-05-07T14:06:28.232Z"
   },
   {
    "duration": 67,
    "start_time": "2022-05-07T14:06:28.241Z"
   },
   {
    "duration": 22,
    "start_time": "2022-05-07T14:06:28.311Z"
   },
   {
    "duration": 10,
    "start_time": "2022-05-07T14:06:28.336Z"
   },
   {
    "duration": 47,
    "start_time": "2022-05-07T14:06:28.348Z"
   },
   {
    "duration": 8,
    "start_time": "2022-05-07T14:06:28.397Z"
   },
   {
    "duration": 21,
    "start_time": "2022-05-07T14:06:28.407Z"
   },
   {
    "duration": 331,
    "start_time": "2022-05-07T14:06:28.430Z"
   },
   {
    "duration": 203,
    "start_time": "2022-05-07T14:06:28.763Z"
   },
   {
    "duration": 36,
    "start_time": "2022-05-07T14:06:28.968Z"
   },
   {
    "duration": 22,
    "start_time": "2022-05-07T14:06:29.007Z"
   },
   {
    "duration": 434,
    "start_time": "2022-05-07T14:06:29.032Z"
   },
   {
    "duration": 417,
    "start_time": "2022-05-07T14:06:29.469Z"
   },
   {
    "duration": 35,
    "start_time": "2022-05-07T14:06:29.894Z"
   },
   {
    "duration": 485,
    "start_time": "2022-05-07T14:06:29.932Z"
   },
   {
    "duration": 20,
    "start_time": "2022-05-07T14:06:30.420Z"
   },
   {
    "duration": 17,
    "start_time": "2022-05-07T14:06:30.443Z"
   },
   {
    "duration": 880,
    "start_time": "2022-05-07T14:06:30.462Z"
   },
   {
    "duration": 19,
    "start_time": "2022-05-07T14:06:31.344Z"
   },
   {
    "duration": 968,
    "start_time": "2022-05-07T14:06:31.366Z"
   },
   {
    "duration": 17,
    "start_time": "2022-05-07T14:06:32.336Z"
   },
   {
    "duration": 864,
    "start_time": "2022-05-07T14:06:32.355Z"
   },
   {
    "duration": 16,
    "start_time": "2022-05-07T14:06:33.222Z"
   },
   {
    "duration": 1000,
    "start_time": "2022-05-07T14:06:33.244Z"
   },
   {
    "duration": 16,
    "start_time": "2022-05-07T14:06:34.247Z"
   },
   {
    "duration": 1075,
    "start_time": "2022-05-07T14:06:34.265Z"
   },
   {
    "duration": 25,
    "start_time": "2022-05-07T14:06:35.342Z"
   },
   {
    "duration": 352,
    "start_time": "2022-05-07T14:06:35.369Z"
   },
   {
    "duration": 9,
    "start_time": "2022-05-07T14:06:35.723Z"
   },
   {
    "duration": 470,
    "start_time": "2022-05-07T14:06:35.734Z"
   },
   {
    "duration": 454,
    "start_time": "2022-05-07T14:06:36.206Z"
   },
   {
    "duration": 477,
    "start_time": "2022-05-07T14:06:36.662Z"
   },
   {
    "duration": 30,
    "start_time": "2022-05-07T14:06:37.194Z"
   },
   {
    "duration": 431,
    "start_time": "2022-05-07T14:06:37.227Z"
   },
   {
    "duration": 9,
    "start_time": "2022-05-07T14:06:37.661Z"
   },
   {
    "duration": 46,
    "start_time": "2022-05-07T14:06:37.672Z"
   },
   {
    "duration": 396,
    "start_time": "2022-05-07T14:06:37.721Z"
   },
   {
    "duration": 0,
    "start_time": "2022-05-07T14:06:38.119Z"
   },
   {
    "duration": 0,
    "start_time": "2022-05-07T14:06:38.120Z"
   },
   {
    "duration": 0,
    "start_time": "2022-05-07T14:06:38.122Z"
   },
   {
    "duration": 0,
    "start_time": "2022-05-07T14:06:38.124Z"
   },
   {
    "duration": 0,
    "start_time": "2022-05-07T14:06:38.126Z"
   },
   {
    "duration": 0,
    "start_time": "2022-05-07T14:06:38.127Z"
   },
   {
    "duration": 7,
    "start_time": "2022-05-07T14:15:50.496Z"
   },
   {
    "duration": 15,
    "start_time": "2022-05-07T14:16:05.239Z"
   },
   {
    "duration": 15,
    "start_time": "2022-05-07T14:16:12.290Z"
   },
   {
    "duration": 44,
    "start_time": "2022-05-07T14:16:34.184Z"
   },
   {
    "duration": 1514,
    "start_time": "2022-05-07T14:17:02.016Z"
   },
   {
    "duration": 105,
    "start_time": "2022-05-07T14:17:03.534Z"
   },
   {
    "duration": 20,
    "start_time": "2022-05-07T14:17:03.642Z"
   },
   {
    "duration": 30,
    "start_time": "2022-05-07T14:17:03.665Z"
   },
   {
    "duration": 73,
    "start_time": "2022-05-07T14:17:03.698Z"
   },
   {
    "duration": 26,
    "start_time": "2022-05-07T14:17:03.773Z"
   },
   {
    "duration": 16,
    "start_time": "2022-05-07T14:17:03.802Z"
   },
   {
    "duration": 21,
    "start_time": "2022-05-07T14:17:03.820Z"
   },
   {
    "duration": 61,
    "start_time": "2022-05-07T14:17:03.843Z"
   },
   {
    "duration": 8,
    "start_time": "2022-05-07T14:17:03.908Z"
   },
   {
    "duration": 37,
    "start_time": "2022-05-07T14:17:03.918Z"
   },
   {
    "duration": 63,
    "start_time": "2022-05-07T14:17:03.958Z"
   },
   {
    "duration": 8,
    "start_time": "2022-05-07T14:17:04.023Z"
   },
   {
    "duration": 18,
    "start_time": "2022-05-07T14:17:04.033Z"
   },
   {
    "duration": 58,
    "start_time": "2022-05-07T14:17:04.054Z"
   },
   {
    "duration": 4153,
    "start_time": "2022-05-07T14:17:04.114Z"
   },
   {
    "duration": 8,
    "start_time": "2022-05-07T14:17:08.269Z"
   },
   {
    "duration": 11,
    "start_time": "2022-05-07T14:17:08.293Z"
   },
   {
    "duration": 6,
    "start_time": "2022-05-07T14:17:08.307Z"
   },
   {
    "duration": 6,
    "start_time": "2022-05-07T14:17:08.316Z"
   },
   {
    "duration": 21,
    "start_time": "2022-05-07T14:17:08.325Z"
   },
   {
    "duration": 62,
    "start_time": "2022-05-07T14:17:08.349Z"
   },
   {
    "duration": 9,
    "start_time": "2022-05-07T14:17:08.414Z"
   },
   {
    "duration": 11,
    "start_time": "2022-05-07T14:17:08.426Z"
   },
   {
    "duration": 6,
    "start_time": "2022-05-07T14:17:08.440Z"
   },
   {
    "duration": 59,
    "start_time": "2022-05-07T14:17:08.449Z"
   },
   {
    "duration": 315,
    "start_time": "2022-05-07T14:17:08.510Z"
   },
   {
    "duration": 199,
    "start_time": "2022-05-07T14:17:08.833Z"
   },
   {
    "duration": 30,
    "start_time": "2022-05-07T14:17:09.036Z"
   },
   {
    "duration": 44,
    "start_time": "2022-05-07T14:17:09.068Z"
   },
   {
    "duration": 439,
    "start_time": "2022-05-07T14:17:09.115Z"
   },
   {
    "duration": 404,
    "start_time": "2022-05-07T14:17:09.556Z"
   },
   {
    "duration": 51,
    "start_time": "2022-05-07T14:17:09.962Z"
   },
   {
    "duration": 641,
    "start_time": "2022-05-07T14:17:10.015Z"
   },
   {
    "duration": 17,
    "start_time": "2022-05-07T14:17:10.658Z"
   },
   {
    "duration": 6,
    "start_time": "2022-05-07T14:17:10.692Z"
   },
   {
    "duration": 878,
    "start_time": "2022-05-07T14:17:10.700Z"
   },
   {
    "duration": 24,
    "start_time": "2022-05-07T14:17:11.581Z"
   },
   {
    "duration": 953,
    "start_time": "2022-05-07T14:17:11.607Z"
   },
   {
    "duration": 32,
    "start_time": "2022-05-07T14:17:12.563Z"
   },
   {
    "duration": 2837,
    "start_time": "2022-05-07T14:17:12.598Z"
   },
   {
    "duration": 24,
    "start_time": "2022-05-07T14:17:15.438Z"
   },
   {
    "duration": 1471,
    "start_time": "2022-05-07T14:17:15.465Z"
   },
   {
    "duration": 23,
    "start_time": "2022-05-07T14:17:16.939Z"
   },
   {
    "duration": 992,
    "start_time": "2022-05-07T14:17:16.965Z"
   },
   {
    "duration": 35,
    "start_time": "2022-05-07T14:17:17.959Z"
   },
   {
    "duration": 352,
    "start_time": "2022-05-07T14:17:17.997Z"
   },
   {
    "duration": 8,
    "start_time": "2022-05-07T14:17:18.352Z"
   },
   {
    "duration": 461,
    "start_time": "2022-05-07T14:17:18.363Z"
   },
   {
    "duration": 476,
    "start_time": "2022-05-07T14:17:18.827Z"
   },
   {
    "duration": 459,
    "start_time": "2022-05-07T14:17:19.306Z"
   },
   {
    "duration": 34,
    "start_time": "2022-05-07T14:17:19.767Z"
   },
   {
    "duration": 321,
    "start_time": "2022-05-07T14:17:19.803Z"
   },
   {
    "duration": 10,
    "start_time": "2022-05-07T14:17:20.126Z"
   },
   {
    "duration": 58,
    "start_time": "2022-05-07T14:17:20.138Z"
   },
   {
    "duration": 757,
    "start_time": "2022-05-07T14:17:20.199Z"
   },
   {
    "duration": 0,
    "start_time": "2022-05-07T14:17:20.959Z"
   },
   {
    "duration": 0,
    "start_time": "2022-05-07T14:17:20.962Z"
   },
   {
    "duration": 0,
    "start_time": "2022-05-07T14:17:20.964Z"
   },
   {
    "duration": 0,
    "start_time": "2022-05-07T14:17:20.966Z"
   },
   {
    "duration": 0,
    "start_time": "2022-05-07T14:17:20.968Z"
   },
   {
    "duration": 0,
    "start_time": "2022-05-07T14:17:20.971Z"
   },
   {
    "duration": 28,
    "start_time": "2022-05-07T14:18:20.926Z"
   },
   {
    "duration": 28,
    "start_time": "2022-05-07T14:18:51.041Z"
   },
   {
    "duration": 28,
    "start_time": "2022-05-07T14:19:19.792Z"
   },
   {
    "duration": 26,
    "start_time": "2022-05-07T14:19:30.642Z"
   },
   {
    "duration": 26,
    "start_time": "2022-05-07T14:19:46.442Z"
   },
   {
    "duration": 27,
    "start_time": "2022-05-07T14:19:59.482Z"
   },
   {
    "duration": 21,
    "start_time": "2022-05-07T14:21:00.734Z"
   },
   {
    "duration": 21,
    "start_time": "2022-05-07T14:21:18.486Z"
   },
   {
    "duration": 37,
    "start_time": "2022-05-07T14:21:23.325Z"
   },
   {
    "duration": 26,
    "start_time": "2022-05-07T14:21:39.270Z"
   },
   {
    "duration": 25,
    "start_time": "2022-05-07T14:38:55.354Z"
   },
   {
    "duration": 1465,
    "start_time": "2022-05-07T14:39:06.198Z"
   },
   {
    "duration": 81,
    "start_time": "2022-05-07T14:39:07.666Z"
   },
   {
    "duration": 21,
    "start_time": "2022-05-07T14:39:07.749Z"
   },
   {
    "duration": 27,
    "start_time": "2022-05-07T14:39:07.772Z"
   },
   {
    "duration": 68,
    "start_time": "2022-05-07T14:39:07.803Z"
   },
   {
    "duration": 11,
    "start_time": "2022-05-07T14:39:07.893Z"
   },
   {
    "duration": 18,
    "start_time": "2022-05-07T14:39:07.907Z"
   },
   {
    "duration": 23,
    "start_time": "2022-05-07T14:39:07.927Z"
   },
   {
    "duration": 62,
    "start_time": "2022-05-07T14:39:07.952Z"
   },
   {
    "duration": 8,
    "start_time": "2022-05-07T14:39:08.017Z"
   },
   {
    "duration": 32,
    "start_time": "2022-05-07T14:39:08.027Z"
   },
   {
    "duration": 59,
    "start_time": "2022-05-07T14:39:08.061Z"
   },
   {
    "duration": 7,
    "start_time": "2022-05-07T14:39:08.122Z"
   },
   {
    "duration": 13,
    "start_time": "2022-05-07T14:39:08.134Z"
   },
   {
    "duration": 61,
    "start_time": "2022-05-07T14:39:08.149Z"
   },
   {
    "duration": 3844,
    "start_time": "2022-05-07T14:39:08.212Z"
   },
   {
    "duration": 8,
    "start_time": "2022-05-07T14:39:12.058Z"
   },
   {
    "duration": 45,
    "start_time": "2022-05-07T14:39:12.069Z"
   },
   {
    "duration": 15,
    "start_time": "2022-05-07T14:39:12.116Z"
   },
   {
    "duration": 6,
    "start_time": "2022-05-07T14:39:12.133Z"
   },
   {
    "duration": 9,
    "start_time": "2022-05-07T14:39:12.141Z"
   },
   {
    "duration": 45,
    "start_time": "2022-05-07T14:39:12.153Z"
   },
   {
    "duration": 21,
    "start_time": "2022-05-07T14:39:12.200Z"
   },
   {
    "duration": 9,
    "start_time": "2022-05-07T14:39:12.223Z"
   },
   {
    "duration": 9,
    "start_time": "2022-05-07T14:39:12.234Z"
   },
   {
    "duration": 7,
    "start_time": "2022-05-07T14:39:12.245Z"
   },
   {
    "duration": 61,
    "start_time": "2022-05-07T14:39:12.254Z"
   },
   {
    "duration": 315,
    "start_time": "2022-05-07T14:39:12.317Z"
   },
   {
    "duration": 189,
    "start_time": "2022-05-07T14:39:12.634Z"
   },
   {
    "duration": 29,
    "start_time": "2022-05-07T14:39:12.826Z"
   },
   {
    "duration": 48,
    "start_time": "2022-05-07T14:39:12.857Z"
   },
   {
    "duration": 417,
    "start_time": "2022-05-07T14:39:12.907Z"
   },
   {
    "duration": 415,
    "start_time": "2022-05-07T14:39:13.326Z"
   },
   {
    "duration": 50,
    "start_time": "2022-05-07T14:39:13.744Z"
   },
   {
    "duration": 460,
    "start_time": "2022-05-07T14:39:13.796Z"
   },
   {
    "duration": 34,
    "start_time": "2022-05-07T14:39:14.259Z"
   },
   {
    "duration": 5,
    "start_time": "2022-05-07T14:39:14.295Z"
   },
   {
    "duration": 844,
    "start_time": "2022-05-07T14:39:14.303Z"
   },
   {
    "duration": 17,
    "start_time": "2022-05-07T14:39:15.150Z"
   },
   {
    "duration": 942,
    "start_time": "2022-05-07T14:39:15.170Z"
   },
   {
    "duration": 17,
    "start_time": "2022-05-07T14:39:16.118Z"
   },
   {
    "duration": 880,
    "start_time": "2022-05-07T14:39:16.138Z"
   },
   {
    "duration": 15,
    "start_time": "2022-05-07T14:39:17.021Z"
   },
   {
    "duration": 872,
    "start_time": "2022-05-07T14:39:17.038Z"
   },
   {
    "duration": 17,
    "start_time": "2022-05-07T14:39:17.912Z"
   },
   {
    "duration": 977,
    "start_time": "2022-05-07T14:39:17.931Z"
   },
   {
    "duration": 23,
    "start_time": "2022-05-07T14:39:18.911Z"
   },
   {
    "duration": 357,
    "start_time": "2022-05-07T14:39:18.936Z"
   },
   {
    "duration": 9,
    "start_time": "2022-05-07T14:39:19.295Z"
   },
   {
    "duration": 457,
    "start_time": "2022-05-07T14:39:19.306Z"
   },
   {
    "duration": 469,
    "start_time": "2022-05-07T14:39:19.765Z"
   },
   {
    "duration": 457,
    "start_time": "2022-05-07T14:39:20.236Z"
   },
   {
    "duration": 22,
    "start_time": "2022-05-07T14:39:20.695Z"
   },
   {
    "duration": 310,
    "start_time": "2022-05-07T14:39:20.719Z"
   },
   {
    "duration": 9,
    "start_time": "2022-05-07T14:39:21.031Z"
   },
   {
    "duration": 54,
    "start_time": "2022-05-07T14:39:21.042Z"
   },
   {
    "duration": 416,
    "start_time": "2022-05-07T14:39:21.098Z"
   },
   {
    "duration": 0,
    "start_time": "2022-05-07T14:39:21.516Z"
   },
   {
    "duration": 0,
    "start_time": "2022-05-07T14:39:21.518Z"
   },
   {
    "duration": 0,
    "start_time": "2022-05-07T14:39:21.519Z"
   },
   {
    "duration": 0,
    "start_time": "2022-05-07T14:39:21.521Z"
   },
   {
    "duration": 0,
    "start_time": "2022-05-07T14:39:21.523Z"
   },
   {
    "duration": 0,
    "start_time": "2022-05-07T14:39:21.525Z"
   },
   {
    "duration": 26,
    "start_time": "2022-05-07T14:39:44.149Z"
   },
   {
    "duration": 1923,
    "start_time": "2022-05-07T14:40:07.428Z"
   },
   {
    "duration": 73,
    "start_time": "2022-05-07T14:40:09.354Z"
   },
   {
    "duration": 20,
    "start_time": "2022-05-07T14:40:09.429Z"
   },
   {
    "duration": 12,
    "start_time": "2022-05-07T14:40:09.452Z"
   },
   {
    "duration": 95,
    "start_time": "2022-05-07T14:40:09.466Z"
   },
   {
    "duration": 9,
    "start_time": "2022-05-07T14:40:09.563Z"
   },
   {
    "duration": 15,
    "start_time": "2022-05-07T14:40:09.593Z"
   },
   {
    "duration": 21,
    "start_time": "2022-05-07T14:40:09.611Z"
   },
   {
    "duration": 23,
    "start_time": "2022-05-07T14:40:09.635Z"
   },
   {
    "duration": 37,
    "start_time": "2022-05-07T14:40:09.662Z"
   },
   {
    "duration": 39,
    "start_time": "2022-05-07T14:40:09.701Z"
   },
   {
    "duration": 52,
    "start_time": "2022-05-07T14:40:09.742Z"
   },
   {
    "duration": 8,
    "start_time": "2022-05-07T14:40:09.796Z"
   },
   {
    "duration": 20,
    "start_time": "2022-05-07T14:40:09.806Z"
   },
   {
    "duration": 25,
    "start_time": "2022-05-07T14:40:09.828Z"
   },
   {
    "duration": 3892,
    "start_time": "2022-05-07T14:40:09.855Z"
   },
   {
    "duration": 8,
    "start_time": "2022-05-07T14:40:13.749Z"
   },
   {
    "duration": 43,
    "start_time": "2022-05-07T14:40:13.759Z"
   },
   {
    "duration": 13,
    "start_time": "2022-05-07T14:40:13.804Z"
   },
   {
    "duration": 6,
    "start_time": "2022-05-07T14:40:13.819Z"
   },
   {
    "duration": 9,
    "start_time": "2022-05-07T14:40:13.827Z"
   },
   {
    "duration": 28,
    "start_time": "2022-05-07T14:40:13.838Z"
   },
   {
    "duration": 20,
    "start_time": "2022-05-07T14:40:13.893Z"
   },
   {
    "duration": 9,
    "start_time": "2022-05-07T14:40:13.915Z"
   },
   {
    "duration": 14,
    "start_time": "2022-05-07T14:40:13.926Z"
   },
   {
    "duration": 12,
    "start_time": "2022-05-07T14:40:13.942Z"
   },
   {
    "duration": 47,
    "start_time": "2022-05-07T14:40:13.956Z"
   },
   {
    "duration": 297,
    "start_time": "2022-05-07T14:40:14.009Z"
   },
   {
    "duration": 185,
    "start_time": "2022-05-07T14:40:14.308Z"
   },
   {
    "duration": 29,
    "start_time": "2022-05-07T14:40:14.495Z"
   },
   {
    "duration": 23,
    "start_time": "2022-05-07T14:40:14.526Z"
   },
   {
    "duration": 428,
    "start_time": "2022-05-07T14:40:14.551Z"
   },
   {
    "duration": 407,
    "start_time": "2022-05-07T14:40:14.982Z"
   },
   {
    "duration": 34,
    "start_time": "2022-05-07T14:40:15.393Z"
   },
   {
    "duration": 471,
    "start_time": "2022-05-07T14:40:15.429Z"
   },
   {
    "duration": 16,
    "start_time": "2022-05-07T14:40:15.902Z"
   },
   {
    "duration": 6,
    "start_time": "2022-05-07T14:40:15.921Z"
   },
   {
    "duration": 835,
    "start_time": "2022-05-07T14:40:15.930Z"
   },
   {
    "duration": 26,
    "start_time": "2022-05-07T14:40:16.768Z"
   },
   {
    "duration": 902,
    "start_time": "2022-05-07T14:40:16.796Z"
   },
   {
    "duration": 17,
    "start_time": "2022-05-07T14:40:17.700Z"
   },
   {
    "duration": 980,
    "start_time": "2022-05-07T14:40:17.719Z"
   },
   {
    "duration": 15,
    "start_time": "2022-05-07T14:40:18.701Z"
   },
   {
    "duration": 958,
    "start_time": "2022-05-07T14:40:18.719Z"
   },
   {
    "duration": 28,
    "start_time": "2022-05-07T14:40:19.679Z"
   },
   {
    "duration": 944,
    "start_time": "2022-05-07T14:40:19.709Z"
   },
   {
    "duration": 40,
    "start_time": "2022-05-07T14:40:20.655Z"
   },
   {
    "duration": 346,
    "start_time": "2022-05-07T14:40:20.697Z"
   },
   {
    "duration": 8,
    "start_time": "2022-05-07T14:40:21.045Z"
   },
   {
    "duration": 440,
    "start_time": "2022-05-07T14:40:21.055Z"
   },
   {
    "duration": 458,
    "start_time": "2022-05-07T14:40:21.497Z"
   },
   {
    "duration": 436,
    "start_time": "2022-05-07T14:40:21.957Z"
   },
   {
    "duration": 22,
    "start_time": "2022-05-07T14:40:22.395Z"
   },
   {
    "duration": 306,
    "start_time": "2022-05-07T14:40:22.419Z"
   },
   {
    "duration": 11,
    "start_time": "2022-05-07T14:40:22.727Z"
   },
   {
    "duration": 58,
    "start_time": "2022-05-07T14:40:22.740Z"
   },
   {
    "duration": 398,
    "start_time": "2022-05-07T14:40:22.800Z"
   },
   {
    "duration": 0,
    "start_time": "2022-05-07T14:40:23.201Z"
   },
   {
    "duration": 0,
    "start_time": "2022-05-07T14:40:23.203Z"
   },
   {
    "duration": 0,
    "start_time": "2022-05-07T14:40:23.204Z"
   },
   {
    "duration": 0,
    "start_time": "2022-05-07T14:40:23.206Z"
   },
   {
    "duration": 0,
    "start_time": "2022-05-07T14:40:23.208Z"
   },
   {
    "duration": 0,
    "start_time": "2022-05-07T14:40:23.210Z"
   },
   {
    "duration": 206,
    "start_time": "2022-05-07T14:54:19.330Z"
   },
   {
    "duration": 13,
    "start_time": "2022-05-07T14:54:46.843Z"
   },
   {
    "duration": 33,
    "start_time": "2022-05-07T14:55:36.310Z"
   },
   {
    "duration": 358,
    "start_time": "2022-05-07T14:55:40.302Z"
   },
   {
    "duration": 184,
    "start_time": "2022-05-07T14:56:49.688Z"
   },
   {
    "duration": 16,
    "start_time": "2022-05-07T14:57:15.427Z"
   },
   {
    "duration": 20,
    "start_time": "2022-05-07T15:02:16.531Z"
   },
   {
    "duration": 198,
    "start_time": "2022-05-07T15:06:01.380Z"
   },
   {
    "duration": 1455,
    "start_time": "2022-05-07T15:07:45.419Z"
   },
   {
    "duration": 72,
    "start_time": "2022-05-07T15:07:46.877Z"
   },
   {
    "duration": 20,
    "start_time": "2022-05-07T15:07:46.951Z"
   },
   {
    "duration": 29,
    "start_time": "2022-05-07T15:07:46.973Z"
   },
   {
    "duration": 73,
    "start_time": "2022-05-07T15:07:47.004Z"
   },
   {
    "duration": 23,
    "start_time": "2022-05-07T15:07:47.079Z"
   },
   {
    "duration": 16,
    "start_time": "2022-05-07T15:07:47.104Z"
   },
   {
    "duration": 21,
    "start_time": "2022-05-07T15:07:47.122Z"
   },
   {
    "duration": 63,
    "start_time": "2022-05-07T15:07:47.145Z"
   },
   {
    "duration": 11,
    "start_time": "2022-05-07T15:07:47.213Z"
   },
   {
    "duration": 69,
    "start_time": "2022-05-07T15:07:47.227Z"
   },
   {
    "duration": 46,
    "start_time": "2022-05-07T15:07:47.299Z"
   },
   {
    "duration": 10,
    "start_time": "2022-05-07T15:07:47.348Z"
   },
   {
    "duration": 42,
    "start_time": "2022-05-07T15:07:47.360Z"
   },
   {
    "duration": 25,
    "start_time": "2022-05-07T15:07:47.404Z"
   },
   {
    "duration": 4024,
    "start_time": "2022-05-07T15:07:47.431Z"
   },
   {
    "duration": 7,
    "start_time": "2022-05-07T15:07:51.457Z"
   },
   {
    "duration": 43,
    "start_time": "2022-05-07T15:07:51.466Z"
   },
   {
    "duration": 13,
    "start_time": "2022-05-07T15:07:51.511Z"
   },
   {
    "duration": 6,
    "start_time": "2022-05-07T15:07:51.526Z"
   },
   {
    "duration": 7,
    "start_time": "2022-05-07T15:07:51.534Z"
   },
   {
    "duration": 51,
    "start_time": "2022-05-07T15:07:51.543Z"
   },
   {
    "duration": 20,
    "start_time": "2022-05-07T15:07:51.596Z"
   },
   {
    "duration": 9,
    "start_time": "2022-05-07T15:07:51.618Z"
   },
   {
    "duration": 12,
    "start_time": "2022-05-07T15:07:51.628Z"
   },
   {
    "duration": 7,
    "start_time": "2022-05-07T15:07:51.642Z"
   },
   {
    "duration": 57,
    "start_time": "2022-05-07T15:07:51.652Z"
   },
   {
    "duration": 299,
    "start_time": "2022-05-07T15:07:51.715Z"
   },
   {
    "duration": 189,
    "start_time": "2022-05-07T15:07:52.016Z"
   },
   {
    "duration": 30,
    "start_time": "2022-05-07T15:07:52.207Z"
   },
   {
    "duration": 24,
    "start_time": "2022-05-07T15:07:52.239Z"
   },
   {
    "duration": 419,
    "start_time": "2022-05-07T15:07:52.293Z"
   },
   {
    "duration": 401,
    "start_time": "2022-05-07T15:07:52.714Z"
   },
   {
    "duration": 33,
    "start_time": "2022-05-07T15:07:53.117Z"
   },
   {
    "duration": 477,
    "start_time": "2022-05-07T15:07:53.153Z"
   },
   {
    "duration": 16,
    "start_time": "2022-05-07T15:07:53.632Z"
   },
   {
    "duration": 6,
    "start_time": "2022-05-07T15:07:53.650Z"
   },
   {
    "duration": 872,
    "start_time": "2022-05-07T15:07:53.658Z"
   },
   {
    "duration": 16,
    "start_time": "2022-05-07T15:07:54.532Z"
   },
   {
    "duration": 969,
    "start_time": "2022-05-07T15:07:54.550Z"
   },
   {
    "duration": 18,
    "start_time": "2022-05-07T15:07:55.522Z"
   },
   {
    "duration": 887,
    "start_time": "2022-05-07T15:07:55.543Z"
   },
   {
    "duration": 18,
    "start_time": "2022-05-07T15:07:56.433Z"
   },
   {
    "duration": 926,
    "start_time": "2022-05-07T15:07:56.453Z"
   },
   {
    "duration": 21,
    "start_time": "2022-05-07T15:07:57.383Z"
   },
   {
    "duration": 982,
    "start_time": "2022-05-07T15:07:57.407Z"
   },
   {
    "duration": 25,
    "start_time": "2022-05-07T15:07:58.393Z"
   },
   {
    "duration": 352,
    "start_time": "2022-05-07T15:07:58.420Z"
   },
   {
    "duration": 19,
    "start_time": "2022-05-07T15:07:58.774Z"
   },
   {
    "duration": 427,
    "start_time": "2022-05-07T15:07:58.795Z"
   },
   {
    "duration": 453,
    "start_time": "2022-05-07T15:07:59.224Z"
   },
   {
    "duration": 461,
    "start_time": "2022-05-07T15:07:59.679Z"
   },
   {
    "duration": 22,
    "start_time": "2022-05-07T15:08:00.142Z"
   },
   {
    "duration": 319,
    "start_time": "2022-05-07T15:08:00.167Z"
   },
   {
    "duration": 10,
    "start_time": "2022-05-07T15:08:00.488Z"
   },
   {
    "duration": 39,
    "start_time": "2022-05-07T15:08:00.501Z"
   },
   {
    "duration": 418,
    "start_time": "2022-05-07T15:08:00.542Z"
   },
   {
    "duration": 0,
    "start_time": "2022-05-07T15:08:00.963Z"
   },
   {
    "duration": 0,
    "start_time": "2022-05-07T15:08:00.964Z"
   },
   {
    "duration": 0,
    "start_time": "2022-05-07T15:08:00.966Z"
   },
   {
    "duration": 0,
    "start_time": "2022-05-07T15:08:00.968Z"
   },
   {
    "duration": 0,
    "start_time": "2022-05-07T15:08:00.969Z"
   },
   {
    "duration": 0,
    "start_time": "2022-05-07T15:08:00.971Z"
   },
   {
    "duration": 209,
    "start_time": "2022-05-07T15:08:41.530Z"
   },
   {
    "duration": 13,
    "start_time": "2022-05-07T15:08:42.812Z"
   },
   {
    "duration": 38,
    "start_time": "2022-05-07T15:08:45.075Z"
   },
   {
    "duration": 421,
    "start_time": "2022-05-07T15:08:45.531Z"
   },
   {
    "duration": 193,
    "start_time": "2022-05-07T15:08:46.634Z"
   },
   {
    "duration": 18,
    "start_time": "2022-05-07T15:08:47.812Z"
   },
   {
    "duration": 45,
    "start_time": "2022-05-08T20:01:04.355Z"
   },
   {
    "duration": 6,
    "start_time": "2022-05-08T20:31:30.692Z"
   },
   {
    "duration": 1235,
    "start_time": "2022-05-08T20:31:39.812Z"
   },
   {
    "duration": 49,
    "start_time": "2022-05-08T20:31:41.049Z"
   },
   {
    "duration": 14,
    "start_time": "2022-05-08T20:31:46.311Z"
   },
   {
    "duration": 9,
    "start_time": "2022-05-08T20:31:50.544Z"
   },
   {
    "duration": 63,
    "start_time": "2022-05-08T20:31:51.315Z"
   },
   {
    "duration": 5,
    "start_time": "2022-05-08T20:33:14.519Z"
   },
   {
    "duration": 17,
    "start_time": "2022-05-08T20:33:25.651Z"
   },
   {
    "duration": 26,
    "start_time": "2022-05-08T20:33:43.855Z"
   },
   {
    "duration": 1126,
    "start_time": "2022-05-08T20:34:00.507Z"
   },
   {
    "duration": 50,
    "start_time": "2022-05-08T20:34:01.636Z"
   },
   {
    "duration": 14,
    "start_time": "2022-05-08T20:34:01.688Z"
   },
   {
    "duration": 9,
    "start_time": "2022-05-08T20:34:01.704Z"
   },
   {
    "duration": 23,
    "start_time": "2022-05-08T20:34:01.715Z"
   },
   {
    "duration": 80,
    "start_time": "2022-05-08T20:34:01.740Z"
   },
   {
    "duration": 6,
    "start_time": "2022-05-08T20:34:01.822Z"
   },
   {
    "duration": 17,
    "start_time": "2022-05-08T20:34:01.830Z"
   },
   {
    "duration": 28,
    "start_time": "2022-05-08T20:34:01.849Z"
   },
   {
    "duration": 30,
    "start_time": "2022-05-08T20:34:01.880Z"
   },
   {
    "duration": 9,
    "start_time": "2022-05-08T20:34:01.912Z"
   },
   {
    "duration": 31,
    "start_time": "2022-05-08T20:34:01.923Z"
   },
   {
    "duration": 26,
    "start_time": "2022-05-08T20:34:01.956Z"
   },
   {
    "duration": 8,
    "start_time": "2022-05-08T20:34:01.983Z"
   },
   {
    "duration": 16,
    "start_time": "2022-05-08T20:34:01.992Z"
   },
   {
    "duration": 30,
    "start_time": "2022-05-08T20:34:02.010Z"
   },
   {
    "duration": 2246,
    "start_time": "2022-05-08T20:34:02.042Z"
   },
   {
    "duration": 6,
    "start_time": "2022-05-08T20:34:04.289Z"
   },
   {
    "duration": 18,
    "start_time": "2022-05-08T20:34:04.297Z"
   },
   {
    "duration": 8,
    "start_time": "2022-05-08T20:34:04.317Z"
   },
   {
    "duration": 4,
    "start_time": "2022-05-08T20:34:04.327Z"
   },
   {
    "duration": 6,
    "start_time": "2022-05-08T20:34:04.333Z"
   },
   {
    "duration": 41,
    "start_time": "2022-05-08T20:34:04.341Z"
   },
   {
    "duration": 14,
    "start_time": "2022-05-08T20:34:04.384Z"
   },
   {
    "duration": 7,
    "start_time": "2022-05-08T20:34:04.399Z"
   },
   {
    "duration": 10,
    "start_time": "2022-05-08T20:34:04.407Z"
   },
   {
    "duration": 9,
    "start_time": "2022-05-08T20:34:04.419Z"
   },
   {
    "duration": 14,
    "start_time": "2022-05-08T20:34:04.432Z"
   },
   {
    "duration": 197,
    "start_time": "2022-05-08T20:34:04.472Z"
   },
   {
    "duration": 126,
    "start_time": "2022-05-08T20:34:04.671Z"
   },
   {
    "duration": 19,
    "start_time": "2022-05-08T20:34:04.799Z"
   },
   {
    "duration": 16,
    "start_time": "2022-05-08T20:34:04.820Z"
   },
   {
    "duration": 276,
    "start_time": "2022-05-08T20:34:04.838Z"
   },
   {
    "duration": 282,
    "start_time": "2022-05-08T20:34:05.116Z"
   },
   {
    "duration": 23,
    "start_time": "2022-05-08T20:34:05.399Z"
   },
   {
    "duration": 273,
    "start_time": "2022-05-08T20:34:05.424Z"
   },
   {
    "duration": 12,
    "start_time": "2022-05-08T20:34:05.698Z"
   },
   {
    "duration": 5,
    "start_time": "2022-05-08T20:34:05.711Z"
   },
   {
    "duration": 529,
    "start_time": "2022-05-08T20:34:05.718Z"
   },
   {
    "duration": 13,
    "start_time": "2022-05-08T20:34:06.249Z"
   },
   {
    "duration": 621,
    "start_time": "2022-05-08T20:34:06.274Z"
   },
   {
    "duration": 13,
    "start_time": "2022-05-08T20:34:06.896Z"
   },
   {
    "duration": 575,
    "start_time": "2022-05-08T20:34:06.911Z"
   },
   {
    "duration": 13,
    "start_time": "2022-05-08T20:34:07.488Z"
   },
   {
    "duration": 570,
    "start_time": "2022-05-08T20:34:07.503Z"
   },
   {
    "duration": 12,
    "start_time": "2022-05-08T20:34:08.075Z"
   },
   {
    "duration": 658,
    "start_time": "2022-05-08T20:34:08.089Z"
   },
   {
    "duration": 33,
    "start_time": "2022-05-08T20:34:08.749Z"
   },
   {
    "duration": 230,
    "start_time": "2022-05-08T20:34:08.784Z"
   },
   {
    "duration": 6,
    "start_time": "2022-05-08T20:34:09.016Z"
   },
   {
    "duration": 306,
    "start_time": "2022-05-08T20:34:09.023Z"
   },
   {
    "duration": 304,
    "start_time": "2022-05-08T20:34:09.331Z"
   },
   {
    "duration": 291,
    "start_time": "2022-05-08T20:34:09.636Z"
   },
   {
    "duration": 15,
    "start_time": "2022-05-08T20:34:09.928Z"
   },
   {
    "duration": 212,
    "start_time": "2022-05-08T20:34:09.945Z"
   },
   {
    "duration": 7,
    "start_time": "2022-05-08T20:34:10.158Z"
   },
   {
    "duration": 23,
    "start_time": "2022-05-08T20:34:10.173Z"
   },
   {
    "duration": 270,
    "start_time": "2022-05-08T20:34:10.197Z"
   },
   {
    "duration": 0,
    "start_time": "2022-05-08T20:34:10.473Z"
   },
   {
    "duration": 0,
    "start_time": "2022-05-08T20:34:10.474Z"
   },
   {
    "duration": 0,
    "start_time": "2022-05-08T20:34:10.475Z"
   },
   {
    "duration": 0,
    "start_time": "2022-05-08T20:34:10.476Z"
   },
   {
    "duration": 0,
    "start_time": "2022-05-08T20:34:10.477Z"
   },
   {
    "duration": 0,
    "start_time": "2022-05-08T20:34:10.478Z"
   },
   {
    "duration": 1527,
    "start_time": "2022-05-08T20:35:50.446Z"
   },
   {
    "duration": 13,
    "start_time": "2022-05-08T20:36:22.214Z"
   },
   {
    "duration": 1174,
    "start_time": "2022-05-08T20:36:38.786Z"
   },
   {
    "duration": 53,
    "start_time": "2022-05-08T20:36:39.962Z"
   },
   {
    "duration": 18,
    "start_time": "2022-05-08T20:36:40.017Z"
   },
   {
    "duration": 10,
    "start_time": "2022-05-08T20:36:40.038Z"
   },
   {
    "duration": 47,
    "start_time": "2022-05-08T20:36:40.050Z"
   },
   {
    "duration": 104,
    "start_time": "2022-05-08T20:36:40.099Z"
   },
   {
    "duration": 0,
    "start_time": "2022-05-08T20:36:40.207Z"
   },
   {
    "duration": 0,
    "start_time": "2022-05-08T20:36:40.209Z"
   },
   {
    "duration": 0,
    "start_time": "2022-05-08T20:36:40.210Z"
   },
   {
    "duration": 0,
    "start_time": "2022-05-08T20:36:40.211Z"
   },
   {
    "duration": 0,
    "start_time": "2022-05-08T20:36:40.212Z"
   },
   {
    "duration": 0,
    "start_time": "2022-05-08T20:36:40.213Z"
   },
   {
    "duration": 0,
    "start_time": "2022-05-08T20:36:40.215Z"
   },
   {
    "duration": 0,
    "start_time": "2022-05-08T20:36:40.216Z"
   },
   {
    "duration": 1,
    "start_time": "2022-05-08T20:36:40.217Z"
   },
   {
    "duration": 0,
    "start_time": "2022-05-08T20:36:40.219Z"
   },
   {
    "duration": 0,
    "start_time": "2022-05-08T20:36:40.220Z"
   },
   {
    "duration": 0,
    "start_time": "2022-05-08T20:36:40.221Z"
   },
   {
    "duration": 1,
    "start_time": "2022-05-08T20:36:40.222Z"
   },
   {
    "duration": 0,
    "start_time": "2022-05-08T20:36:40.224Z"
   },
   {
    "duration": 0,
    "start_time": "2022-05-08T20:36:40.225Z"
   },
   {
    "duration": 0,
    "start_time": "2022-05-08T20:36:40.226Z"
   },
   {
    "duration": 0,
    "start_time": "2022-05-08T20:36:40.227Z"
   },
   {
    "duration": 0,
    "start_time": "2022-05-08T20:36:40.229Z"
   },
   {
    "duration": 0,
    "start_time": "2022-05-08T20:36:40.230Z"
   },
   {
    "duration": 0,
    "start_time": "2022-05-08T20:36:40.274Z"
   },
   {
    "duration": 0,
    "start_time": "2022-05-08T20:36:40.275Z"
   },
   {
    "duration": 0,
    "start_time": "2022-05-08T20:36:40.277Z"
   },
   {
    "duration": 0,
    "start_time": "2022-05-08T20:36:40.278Z"
   },
   {
    "duration": 0,
    "start_time": "2022-05-08T20:36:40.279Z"
   },
   {
    "duration": 0,
    "start_time": "2022-05-08T20:36:40.280Z"
   },
   {
    "duration": 0,
    "start_time": "2022-05-08T20:36:40.281Z"
   },
   {
    "duration": 0,
    "start_time": "2022-05-08T20:36:40.283Z"
   },
   {
    "duration": 0,
    "start_time": "2022-05-08T20:36:40.284Z"
   },
   {
    "duration": 0,
    "start_time": "2022-05-08T20:36:40.285Z"
   },
   {
    "duration": 0,
    "start_time": "2022-05-08T20:36:40.286Z"
   },
   {
    "duration": 0,
    "start_time": "2022-05-08T20:36:40.288Z"
   },
   {
    "duration": 0,
    "start_time": "2022-05-08T20:36:40.289Z"
   },
   {
    "duration": 0,
    "start_time": "2022-05-08T20:36:40.290Z"
   },
   {
    "duration": 1,
    "start_time": "2022-05-08T20:36:40.291Z"
   },
   {
    "duration": 0,
    "start_time": "2022-05-08T20:36:40.293Z"
   },
   {
    "duration": 0,
    "start_time": "2022-05-08T20:36:40.294Z"
   },
   {
    "duration": 0,
    "start_time": "2022-05-08T20:36:40.295Z"
   },
   {
    "duration": 0,
    "start_time": "2022-05-08T20:36:40.296Z"
   },
   {
    "duration": 0,
    "start_time": "2022-05-08T20:36:40.297Z"
   },
   {
    "duration": 0,
    "start_time": "2022-05-08T20:36:40.299Z"
   },
   {
    "duration": 0,
    "start_time": "2022-05-08T20:36:40.300Z"
   },
   {
    "duration": 0,
    "start_time": "2022-05-08T20:36:40.301Z"
   },
   {
    "duration": 0,
    "start_time": "2022-05-08T20:36:40.302Z"
   },
   {
    "duration": 0,
    "start_time": "2022-05-08T20:36:40.303Z"
   },
   {
    "duration": 0,
    "start_time": "2022-05-08T20:36:40.304Z"
   },
   {
    "duration": 0,
    "start_time": "2022-05-08T20:36:40.304Z"
   },
   {
    "duration": 0,
    "start_time": "2022-05-08T20:36:40.306Z"
   },
   {
    "duration": 1,
    "start_time": "2022-05-08T20:36:40.306Z"
   },
   {
    "duration": 0,
    "start_time": "2022-05-08T20:36:40.307Z"
   },
   {
    "duration": 0,
    "start_time": "2022-05-08T20:36:40.308Z"
   },
   {
    "duration": 0,
    "start_time": "2022-05-08T20:36:40.310Z"
   },
   {
    "duration": 0,
    "start_time": "2022-05-08T20:36:40.310Z"
   },
   {
    "duration": 0,
    "start_time": "2022-05-08T20:36:40.311Z"
   },
   {
    "duration": 0,
    "start_time": "2022-05-08T20:36:40.373Z"
   },
   {
    "duration": 0,
    "start_time": "2022-05-08T20:36:40.375Z"
   },
   {
    "duration": 0,
    "start_time": "2022-05-08T20:36:40.376Z"
   },
   {
    "duration": 0,
    "start_time": "2022-05-08T20:36:40.377Z"
   },
   {
    "duration": 0,
    "start_time": "2022-05-08T20:36:40.378Z"
   },
   {
    "duration": 0,
    "start_time": "2022-05-08T20:36:40.379Z"
   },
   {
    "duration": 11,
    "start_time": "2022-05-08T20:46:43.693Z"
   },
   {
    "duration": 817,
    "start_time": "2022-05-08T20:47:17.272Z"
   },
   {
    "duration": 20,
    "start_time": "2022-05-08T20:51:06.454Z"
   },
   {
    "duration": 19,
    "start_time": "2022-05-08T20:51:18.282Z"
   },
   {
    "duration": 1206,
    "start_time": "2022-05-08T20:53:43.389Z"
   },
   {
    "duration": 52,
    "start_time": "2022-05-08T20:53:44.597Z"
   },
   {
    "duration": 23,
    "start_time": "2022-05-08T20:53:44.650Z"
   },
   {
    "duration": 9,
    "start_time": "2022-05-08T20:53:44.675Z"
   },
   {
    "duration": 105,
    "start_time": "2022-05-08T20:53:44.685Z"
   },
   {
    "duration": 0,
    "start_time": "2022-05-08T20:53:44.793Z"
   },
   {
    "duration": 0,
    "start_time": "2022-05-08T20:53:44.794Z"
   },
   {
    "duration": 0,
    "start_time": "2022-05-08T20:53:44.795Z"
   },
   {
    "duration": 0,
    "start_time": "2022-05-08T20:53:44.796Z"
   },
   {
    "duration": 0,
    "start_time": "2022-05-08T20:53:44.797Z"
   },
   {
    "duration": 0,
    "start_time": "2022-05-08T20:53:44.798Z"
   },
   {
    "duration": 0,
    "start_time": "2022-05-08T20:53:44.799Z"
   },
   {
    "duration": 0,
    "start_time": "2022-05-08T20:53:44.800Z"
   },
   {
    "duration": 0,
    "start_time": "2022-05-08T20:53:44.801Z"
   },
   {
    "duration": 0,
    "start_time": "2022-05-08T20:53:44.803Z"
   },
   {
    "duration": 0,
    "start_time": "2022-05-08T20:53:44.804Z"
   },
   {
    "duration": 0,
    "start_time": "2022-05-08T20:53:44.805Z"
   },
   {
    "duration": 0,
    "start_time": "2022-05-08T20:53:44.806Z"
   },
   {
    "duration": 0,
    "start_time": "2022-05-08T20:53:44.807Z"
   },
   {
    "duration": 0,
    "start_time": "2022-05-08T20:53:44.809Z"
   },
   {
    "duration": 0,
    "start_time": "2022-05-08T20:53:44.810Z"
   },
   {
    "duration": 0,
    "start_time": "2022-05-08T20:53:44.811Z"
   },
   {
    "duration": 0,
    "start_time": "2022-05-08T20:53:44.812Z"
   },
   {
    "duration": 0,
    "start_time": "2022-05-08T20:53:44.813Z"
   },
   {
    "duration": 0,
    "start_time": "2022-05-08T20:53:44.814Z"
   },
   {
    "duration": 0,
    "start_time": "2022-05-08T20:53:44.815Z"
   },
   {
    "duration": 0,
    "start_time": "2022-05-08T20:53:44.816Z"
   },
   {
    "duration": 0,
    "start_time": "2022-05-08T20:53:44.817Z"
   },
   {
    "duration": 0,
    "start_time": "2022-05-08T20:53:44.818Z"
   },
   {
    "duration": 0,
    "start_time": "2022-05-08T20:53:44.819Z"
   },
   {
    "duration": 0,
    "start_time": "2022-05-08T20:53:44.820Z"
   },
   {
    "duration": 0,
    "start_time": "2022-05-08T20:53:44.821Z"
   },
   {
    "duration": 0,
    "start_time": "2022-05-08T20:53:44.873Z"
   },
   {
    "duration": 0,
    "start_time": "2022-05-08T20:53:44.875Z"
   },
   {
    "duration": 0,
    "start_time": "2022-05-08T20:53:44.876Z"
   },
   {
    "duration": 0,
    "start_time": "2022-05-08T20:53:44.877Z"
   },
   {
    "duration": 0,
    "start_time": "2022-05-08T20:53:44.878Z"
   },
   {
    "duration": 0,
    "start_time": "2022-05-08T20:53:44.879Z"
   },
   {
    "duration": 0,
    "start_time": "2022-05-08T20:53:44.880Z"
   },
   {
    "duration": 0,
    "start_time": "2022-05-08T20:53:44.881Z"
   },
   {
    "duration": 1,
    "start_time": "2022-05-08T20:53:44.881Z"
   },
   {
    "duration": 0,
    "start_time": "2022-05-08T20:53:44.882Z"
   },
   {
    "duration": 0,
    "start_time": "2022-05-08T20:53:44.883Z"
   },
   {
    "duration": 0,
    "start_time": "2022-05-08T20:53:44.884Z"
   },
   {
    "duration": 0,
    "start_time": "2022-05-08T20:53:44.885Z"
   },
   {
    "duration": 0,
    "start_time": "2022-05-08T20:53:44.886Z"
   },
   {
    "duration": 0,
    "start_time": "2022-05-08T20:53:44.888Z"
   },
   {
    "duration": 0,
    "start_time": "2022-05-08T20:53:44.889Z"
   },
   {
    "duration": 0,
    "start_time": "2022-05-08T20:53:44.891Z"
   },
   {
    "duration": 0,
    "start_time": "2022-05-08T20:53:44.892Z"
   },
   {
    "duration": 0,
    "start_time": "2022-05-08T20:53:44.893Z"
   },
   {
    "duration": 0,
    "start_time": "2022-05-08T20:53:44.895Z"
   },
   {
    "duration": 0,
    "start_time": "2022-05-08T20:53:44.897Z"
   },
   {
    "duration": 0,
    "start_time": "2022-05-08T20:53:44.898Z"
   },
   {
    "duration": 0,
    "start_time": "2022-05-08T20:53:44.899Z"
   },
   {
    "duration": 0,
    "start_time": "2022-05-08T20:53:44.901Z"
   },
   {
    "duration": 0,
    "start_time": "2022-05-08T20:53:44.902Z"
   },
   {
    "duration": 0,
    "start_time": "2022-05-08T20:53:44.904Z"
   },
   {
    "duration": 0,
    "start_time": "2022-05-08T20:53:44.905Z"
   },
   {
    "duration": 0,
    "start_time": "2022-05-08T20:53:44.906Z"
   },
   {
    "duration": 0,
    "start_time": "2022-05-08T20:53:44.907Z"
   },
   {
    "duration": 0,
    "start_time": "2022-05-08T20:53:44.908Z"
   },
   {
    "duration": 0,
    "start_time": "2022-05-08T20:53:44.909Z"
   },
   {
    "duration": 0,
    "start_time": "2022-05-08T20:53:44.973Z"
   },
   {
    "duration": 25,
    "start_time": "2022-05-08T21:02:06.963Z"
   },
   {
    "duration": 33,
    "start_time": "2022-05-08T21:02:11.704Z"
   },
   {
    "duration": 53,
    "start_time": "2022-05-08T21:09:11.106Z"
   },
   {
    "duration": 35,
    "start_time": "2022-05-08T21:14:11.505Z"
   },
   {
    "duration": 7,
    "start_time": "2022-05-08T21:17:42.836Z"
   },
   {
    "duration": 12,
    "start_time": "2022-05-08T21:20:42.017Z"
   },
   {
    "duration": 11,
    "start_time": "2022-05-08T21:20:56.317Z"
   },
   {
    "duration": 10,
    "start_time": "2022-05-08T21:21:56.011Z"
   },
   {
    "duration": 6,
    "start_time": "2022-05-08T21:30:44.227Z"
   },
   {
    "duration": 15,
    "start_time": "2022-05-08T21:35:51.749Z"
   },
   {
    "duration": 16,
    "start_time": "2022-05-08T21:35:54.753Z"
   },
   {
    "duration": 5,
    "start_time": "2022-05-08T21:35:58.194Z"
   },
   {
    "duration": 20,
    "start_time": "2022-05-08T21:36:20.930Z"
   },
   {
    "duration": 20,
    "start_time": "2022-05-08T21:36:30.706Z"
   },
   {
    "duration": 5,
    "start_time": "2022-05-08T21:45:31.385Z"
   },
   {
    "duration": 16,
    "start_time": "2022-05-08T21:45:41.440Z"
   },
   {
    "duration": 92,
    "start_time": "2022-05-08T21:55:35.746Z"
   },
   {
    "duration": 98,
    "start_time": "2022-05-08T21:56:16.490Z"
   },
   {
    "duration": 33,
    "start_time": "2022-05-08T21:57:05.462Z"
   },
   {
    "duration": 9,
    "start_time": "2022-05-08T21:57:38.746Z"
   },
   {
    "duration": 14,
    "start_time": "2022-05-08T21:58:23.665Z"
   },
   {
    "duration": 108,
    "start_time": "2022-05-08T22:00:51.262Z"
   },
   {
    "duration": 105,
    "start_time": "2022-05-08T22:01:15.186Z"
   },
   {
    "duration": 10,
    "start_time": "2022-05-08T22:06:17.142Z"
   },
   {
    "duration": 12,
    "start_time": "2022-05-08T22:07:20.543Z"
   },
   {
    "duration": 11,
    "start_time": "2022-05-08T22:08:12.446Z"
   },
   {
    "duration": 13,
    "start_time": "2022-05-08T22:08:22.406Z"
   },
   {
    "duration": 6,
    "start_time": "2022-05-08T22:14:32.163Z"
   },
   {
    "duration": 8,
    "start_time": "2022-05-08T22:15:12.798Z"
   },
   {
    "duration": 5,
    "start_time": "2022-05-08T22:15:13.957Z"
   },
   {
    "duration": 4,
    "start_time": "2022-05-08T22:15:19.568Z"
   },
   {
    "duration": 17,
    "start_time": "2022-05-08T22:15:21.192Z"
   },
   {
    "duration": 16,
    "start_time": "2022-05-08T22:15:33.709Z"
   },
   {
    "duration": 8,
    "start_time": "2022-05-08T22:15:35.264Z"
   },
   {
    "duration": 8,
    "start_time": "2022-05-08T22:15:43.712Z"
   },
   {
    "duration": 5,
    "start_time": "2022-05-08T22:15:57.825Z"
   },
   {
    "duration": 7,
    "start_time": "2022-05-08T22:16:30.693Z"
   },
   {
    "duration": 14,
    "start_time": "2022-05-08T22:16:35.306Z"
   },
   {
    "duration": 184,
    "start_time": "2022-05-08T22:18:41.133Z"
   },
   {
    "duration": 108,
    "start_time": "2022-05-08T22:18:42.856Z"
   },
   {
    "duration": 21,
    "start_time": "2022-05-08T22:18:49.370Z"
   },
   {
    "duration": 18,
    "start_time": "2022-05-08T22:18:51.556Z"
   },
   {
    "duration": 246,
    "start_time": "2022-05-08T22:18:52.949Z"
   },
   {
    "duration": 51,
    "start_time": "2022-05-09T19:13:44.812Z"
   },
   {
    "duration": 1474,
    "start_time": "2022-05-09T19:13:52.331Z"
   },
   {
    "duration": 68,
    "start_time": "2022-05-09T19:13:53.807Z"
   },
   {
    "duration": 16,
    "start_time": "2022-05-09T19:13:53.877Z"
   },
   {
    "duration": 46,
    "start_time": "2022-05-09T19:13:53.895Z"
   },
   {
    "duration": 55,
    "start_time": "2022-05-09T19:13:53.942Z"
   },
   {
    "duration": 7,
    "start_time": "2022-05-09T19:13:53.999Z"
   },
   {
    "duration": 31,
    "start_time": "2022-05-09T19:13:54.008Z"
   },
   {
    "duration": 17,
    "start_time": "2022-05-09T19:13:54.040Z"
   },
   {
    "duration": 18,
    "start_time": "2022-05-09T19:13:54.059Z"
   },
   {
    "duration": 7,
    "start_time": "2022-05-09T19:13:54.080Z"
   },
   {
    "duration": 61,
    "start_time": "2022-05-09T19:13:54.089Z"
   },
   {
    "duration": 23,
    "start_time": "2022-05-09T19:13:54.152Z"
   },
   {
    "duration": 13,
    "start_time": "2022-05-09T19:13:54.177Z"
   },
   {
    "duration": 8,
    "start_time": "2022-05-09T19:13:54.192Z"
   },
   {
    "duration": 35,
    "start_time": "2022-05-09T19:13:54.202Z"
   },
   {
    "duration": 6,
    "start_time": "2022-05-09T19:13:54.239Z"
   },
   {
    "duration": 21,
    "start_time": "2022-05-09T19:13:54.247Z"
   },
   {
    "duration": 16,
    "start_time": "2022-05-09T19:13:54.270Z"
   },
   {
    "duration": 8,
    "start_time": "2022-05-09T19:13:54.288Z"
   },
   {
    "duration": 39,
    "start_time": "2022-05-09T19:13:54.298Z"
   },
   {
    "duration": 8,
    "start_time": "2022-05-09T19:13:54.339Z"
   },
   {
    "duration": 17,
    "start_time": "2022-05-09T19:13:54.349Z"
   },
   {
    "duration": 232,
    "start_time": "2022-05-09T19:13:54.368Z"
   },
   {
    "duration": 156,
    "start_time": "2022-05-09T19:13:54.602Z"
   },
   {
    "duration": 22,
    "start_time": "2022-05-09T19:13:54.760Z"
   },
   {
    "duration": 19,
    "start_time": "2022-05-09T19:13:54.784Z"
   },
   {
    "duration": 304,
    "start_time": "2022-05-09T19:13:54.805Z"
   },
   {
    "duration": 9,
    "start_time": "2022-05-09T19:13:55.113Z"
   },
   {
    "duration": 302,
    "start_time": "2022-05-09T19:13:55.124Z"
   },
   {
    "duration": 27,
    "start_time": "2022-05-09T19:13:55.428Z"
   },
   {
    "duration": 310,
    "start_time": "2022-05-09T19:13:55.456Z"
   },
   {
    "duration": 12,
    "start_time": "2022-05-09T19:13:55.768Z"
   },
   {
    "duration": 6,
    "start_time": "2022-05-09T19:13:55.782Z"
   },
   {
    "duration": 1041,
    "start_time": "2022-05-09T19:13:55.789Z"
   },
   {
    "duration": 0,
    "start_time": "2022-05-09T19:13:56.831Z"
   },
   {
    "duration": 0,
    "start_time": "2022-05-09T19:13:56.833Z"
   },
   {
    "duration": 0,
    "start_time": "2022-05-09T19:13:56.834Z"
   },
   {
    "duration": 0,
    "start_time": "2022-05-09T19:13:56.835Z"
   },
   {
    "duration": 0,
    "start_time": "2022-05-09T19:13:56.836Z"
   },
   {
    "duration": 0,
    "start_time": "2022-05-09T19:13:56.837Z"
   },
   {
    "duration": 0,
    "start_time": "2022-05-09T19:13:56.838Z"
   },
   {
    "duration": 0,
    "start_time": "2022-05-09T19:13:56.839Z"
   },
   {
    "duration": 0,
    "start_time": "2022-05-09T19:13:56.840Z"
   },
   {
    "duration": 0,
    "start_time": "2022-05-09T19:13:56.841Z"
   },
   {
    "duration": 0,
    "start_time": "2022-05-09T19:13:56.842Z"
   },
   {
    "duration": 0,
    "start_time": "2022-05-09T19:13:56.843Z"
   },
   {
    "duration": 0,
    "start_time": "2022-05-09T19:13:56.844Z"
   },
   {
    "duration": 0,
    "start_time": "2022-05-09T19:13:56.845Z"
   },
   {
    "duration": 0,
    "start_time": "2022-05-09T19:13:56.846Z"
   },
   {
    "duration": 0,
    "start_time": "2022-05-09T19:13:56.847Z"
   },
   {
    "duration": 0,
    "start_time": "2022-05-09T19:13:56.848Z"
   },
   {
    "duration": 0,
    "start_time": "2022-05-09T19:13:56.849Z"
   },
   {
    "duration": 0,
    "start_time": "2022-05-09T19:13:56.850Z"
   },
   {
    "duration": 0,
    "start_time": "2022-05-09T19:13:56.852Z"
   },
   {
    "duration": 0,
    "start_time": "2022-05-09T19:13:56.853Z"
   },
   {
    "duration": 0,
    "start_time": "2022-05-09T19:13:56.854Z"
   },
   {
    "duration": 0,
    "start_time": "2022-05-09T19:13:56.856Z"
   },
   {
    "duration": 0,
    "start_time": "2022-05-09T19:13:56.857Z"
   },
   {
    "duration": 0,
    "start_time": "2022-05-09T19:13:56.858Z"
   },
   {
    "duration": 26,
    "start_time": "2022-05-09T19:15:20.207Z"
   },
   {
    "duration": 9,
    "start_time": "2022-05-09T19:16:17.379Z"
   },
   {
    "duration": 25,
    "start_time": "2022-05-09T19:16:37.142Z"
   },
   {
    "duration": 2705,
    "start_time": "2022-05-09T19:17:01.967Z"
   },
   {
    "duration": 10,
    "start_time": "2022-05-09T19:17:06.726Z"
   },
   {
    "duration": 14,
    "start_time": "2022-05-09T19:17:44.067Z"
   },
   {
    "duration": 9,
    "start_time": "2022-05-09T19:17:56.098Z"
   },
   {
    "duration": 14,
    "start_time": "2022-05-09T19:18:14.607Z"
   },
   {
    "duration": 10,
    "start_time": "2022-05-09T19:19:53.902Z"
   },
   {
    "duration": 10,
    "start_time": "2022-05-09T19:20:42.178Z"
   },
   {
    "duration": 24,
    "start_time": "2022-05-09T19:38:10.748Z"
   },
   {
    "duration": 1728,
    "start_time": "2022-05-10T10:20:22.796Z"
   },
   {
    "duration": 72,
    "start_time": "2022-05-10T10:20:24.527Z"
   },
   {
    "duration": 20,
    "start_time": "2022-05-10T10:20:24.601Z"
   },
   {
    "duration": 65,
    "start_time": "2022-05-10T10:20:24.624Z"
   },
   {
    "duration": 90,
    "start_time": "2022-05-10T10:20:24.691Z"
   },
   {
    "duration": 9,
    "start_time": "2022-05-10T10:20:24.783Z"
   },
   {
    "duration": 17,
    "start_time": "2022-05-10T10:20:24.794Z"
   },
   {
    "duration": 46,
    "start_time": "2022-05-10T10:20:24.813Z"
   },
   {
    "duration": 23,
    "start_time": "2022-05-10T10:20:24.861Z"
   },
   {
    "duration": 7,
    "start_time": "2022-05-10T10:20:24.888Z"
   },
   {
    "duration": 65,
    "start_time": "2022-05-10T10:20:24.897Z"
   },
   {
    "duration": 33,
    "start_time": "2022-05-10T10:20:24.964Z"
   },
   {
    "duration": 15,
    "start_time": "2022-05-10T10:20:25.000Z"
   },
   {
    "duration": 36,
    "start_time": "2022-05-10T10:20:25.017Z"
   },
   {
    "duration": 8,
    "start_time": "2022-05-10T10:20:25.055Z"
   },
   {
    "duration": 9,
    "start_time": "2022-05-10T10:20:25.065Z"
   },
   {
    "duration": 28,
    "start_time": "2022-05-10T10:20:25.077Z"
   },
   {
    "duration": 50,
    "start_time": "2022-05-10T10:20:25.108Z"
   },
   {
    "duration": 10,
    "start_time": "2022-05-10T10:20:25.160Z"
   },
   {
    "duration": 11,
    "start_time": "2022-05-10T10:20:25.172Z"
   },
   {
    "duration": 8,
    "start_time": "2022-05-10T10:20:25.185Z"
   },
   {
    "duration": 58,
    "start_time": "2022-05-10T10:20:25.195Z"
   },
   {
    "duration": 318,
    "start_time": "2022-05-10T10:20:25.255Z"
   },
   {
    "duration": 191,
    "start_time": "2022-05-10T10:20:25.575Z"
   },
   {
    "duration": 30,
    "start_time": "2022-05-10T10:20:25.768Z"
   },
   {
    "duration": 51,
    "start_time": "2022-05-10T10:20:25.800Z"
   },
   {
    "duration": 428,
    "start_time": "2022-05-10T10:20:25.854Z"
   },
   {
    "duration": 14,
    "start_time": "2022-05-10T10:20:26.288Z"
   },
   {
    "duration": 187,
    "start_time": "2022-05-10T10:20:26.304Z"
   },
   {
    "duration": 0,
    "start_time": "2022-05-10T10:20:26.493Z"
   },
   {
    "duration": 0,
    "start_time": "2022-05-10T10:20:26.494Z"
   },
   {
    "duration": 0,
    "start_time": "2022-05-10T10:20:26.496Z"
   },
   {
    "duration": 0,
    "start_time": "2022-05-10T10:20:26.497Z"
   },
   {
    "duration": 0,
    "start_time": "2022-05-10T10:20:26.499Z"
   },
   {
    "duration": 0,
    "start_time": "2022-05-10T10:20:26.501Z"
   },
   {
    "duration": 0,
    "start_time": "2022-05-10T10:20:26.503Z"
   },
   {
    "duration": 0,
    "start_time": "2022-05-10T10:20:26.504Z"
   },
   {
    "duration": 0,
    "start_time": "2022-05-10T10:20:26.505Z"
   },
   {
    "duration": 0,
    "start_time": "2022-05-10T10:20:26.507Z"
   },
   {
    "duration": 0,
    "start_time": "2022-05-10T10:20:26.508Z"
   },
   {
    "duration": 0,
    "start_time": "2022-05-10T10:20:26.510Z"
   },
   {
    "duration": 0,
    "start_time": "2022-05-10T10:20:26.511Z"
   },
   {
    "duration": 0,
    "start_time": "2022-05-10T10:20:26.512Z"
   },
   {
    "duration": 0,
    "start_time": "2022-05-10T10:20:26.514Z"
   },
   {
    "duration": 0,
    "start_time": "2022-05-10T10:20:26.516Z"
   },
   {
    "duration": 0,
    "start_time": "2022-05-10T10:20:26.552Z"
   },
   {
    "duration": 0,
    "start_time": "2022-05-10T10:20:26.553Z"
   },
   {
    "duration": 0,
    "start_time": "2022-05-10T10:20:26.555Z"
   },
   {
    "duration": 0,
    "start_time": "2022-05-10T10:20:26.556Z"
   },
   {
    "duration": 0,
    "start_time": "2022-05-10T10:20:26.558Z"
   },
   {
    "duration": 0,
    "start_time": "2022-05-10T10:20:26.559Z"
   },
   {
    "duration": 0,
    "start_time": "2022-05-10T10:20:26.560Z"
   },
   {
    "duration": 0,
    "start_time": "2022-05-10T10:20:26.562Z"
   },
   {
    "duration": 0,
    "start_time": "2022-05-10T10:20:26.564Z"
   },
   {
    "duration": 0,
    "start_time": "2022-05-10T10:20:26.565Z"
   },
   {
    "duration": 0,
    "start_time": "2022-05-10T10:20:26.566Z"
   },
   {
    "duration": 0,
    "start_time": "2022-05-10T10:20:26.568Z"
   },
   {
    "duration": 0,
    "start_time": "2022-05-10T10:20:26.570Z"
   },
   {
    "duration": 0,
    "start_time": "2022-05-10T10:20:26.572Z"
   },
   {
    "duration": 0,
    "start_time": "2022-05-10T10:20:26.574Z"
   },
   {
    "duration": 95,
    "start_time": "2022-05-10T10:35:57.016Z"
   },
   {
    "duration": 15,
    "start_time": "2022-05-10T10:36:14.728Z"
   },
   {
    "duration": 31,
    "start_time": "2022-05-10T10:36:26.024Z"
   },
   {
    "duration": 27,
    "start_time": "2022-05-10T10:38:54.696Z"
   },
   {
    "duration": 11,
    "start_time": "2022-05-10T10:40:13.812Z"
   },
   {
    "duration": 10,
    "start_time": "2022-05-10T10:40:22.904Z"
   },
   {
    "duration": 20,
    "start_time": "2022-05-10T10:40:35.967Z"
   },
   {
    "duration": 15,
    "start_time": "2022-05-10T10:41:12.788Z"
   },
   {
    "duration": 1558,
    "start_time": "2022-05-10T10:41:19.447Z"
   },
   {
    "duration": 76,
    "start_time": "2022-05-10T10:41:21.008Z"
   },
   {
    "duration": 21,
    "start_time": "2022-05-10T10:41:21.086Z"
   },
   {
    "duration": 99,
    "start_time": "2022-05-10T10:41:21.110Z"
   },
   {
    "duration": 95,
    "start_time": "2022-05-10T10:41:21.211Z"
   },
   {
    "duration": 9,
    "start_time": "2022-05-10T10:41:21.308Z"
   },
   {
    "duration": 44,
    "start_time": "2022-05-10T10:41:21.320Z"
   },
   {
    "duration": 39,
    "start_time": "2022-05-10T10:41:21.367Z"
   },
   {
    "duration": 54,
    "start_time": "2022-05-10T10:41:21.409Z"
   },
   {
    "duration": 12,
    "start_time": "2022-05-10T10:41:21.468Z"
   },
   {
    "duration": 72,
    "start_time": "2022-05-10T10:41:21.483Z"
   },
   {
    "duration": 31,
    "start_time": "2022-05-10T10:41:21.557Z"
   },
   {
    "duration": 15,
    "start_time": "2022-05-10T10:41:21.590Z"
   },
   {
    "duration": 45,
    "start_time": "2022-05-10T10:41:21.607Z"
   },
   {
    "duration": 8,
    "start_time": "2022-05-10T10:41:21.655Z"
   },
   {
    "duration": 8,
    "start_time": "2022-05-10T10:41:21.666Z"
   },
   {
    "duration": 33,
    "start_time": "2022-05-10T10:41:21.676Z"
   },
   {
    "duration": 63,
    "start_time": "2022-05-10T10:41:21.712Z"
   },
   {
    "duration": 13,
    "start_time": "2022-05-10T10:41:21.778Z"
   },
   {
    "duration": 15,
    "start_time": "2022-05-10T10:41:21.793Z"
   },
   {
    "duration": 11,
    "start_time": "2022-05-10T10:41:21.811Z"
   },
   {
    "duration": 46,
    "start_time": "2022-05-10T10:41:21.824Z"
   },
   {
    "duration": 345,
    "start_time": "2022-05-10T10:41:21.873Z"
   },
   {
    "duration": 201,
    "start_time": "2022-05-10T10:41:22.220Z"
   },
   {
    "duration": 45,
    "start_time": "2022-05-10T10:41:22.423Z"
   },
   {
    "duration": 23,
    "start_time": "2022-05-10T10:41:22.470Z"
   },
   {
    "duration": 441,
    "start_time": "2022-05-10T10:41:22.495Z"
   },
   {
    "duration": 23,
    "start_time": "2022-05-10T10:41:22.942Z"
   },
   {
    "duration": 18,
    "start_time": "2022-05-10T10:41:22.967Z"
   },
   {
    "duration": 461,
    "start_time": "2022-05-10T10:41:22.987Z"
   },
   {
    "duration": 36,
    "start_time": "2022-05-10T10:41:23.451Z"
   },
   {
    "duration": 503,
    "start_time": "2022-05-10T10:41:23.490Z"
   },
   {
    "duration": 17,
    "start_time": "2022-05-10T10:41:23.995Z"
   },
   {
    "duration": 8,
    "start_time": "2022-05-10T10:41:24.014Z"
   },
   {
    "duration": 1365,
    "start_time": "2022-05-10T10:41:24.024Z"
   },
   {
    "duration": 0,
    "start_time": "2022-05-10T10:41:25.392Z"
   },
   {
    "duration": 0,
    "start_time": "2022-05-10T10:41:25.394Z"
   },
   {
    "duration": 0,
    "start_time": "2022-05-10T10:41:25.395Z"
   },
   {
    "duration": 0,
    "start_time": "2022-05-10T10:41:25.397Z"
   },
   {
    "duration": 0,
    "start_time": "2022-05-10T10:41:25.398Z"
   },
   {
    "duration": 0,
    "start_time": "2022-05-10T10:41:25.400Z"
   },
   {
    "duration": 0,
    "start_time": "2022-05-10T10:41:25.401Z"
   },
   {
    "duration": 0,
    "start_time": "2022-05-10T10:41:25.403Z"
   },
   {
    "duration": 0,
    "start_time": "2022-05-10T10:41:25.404Z"
   },
   {
    "duration": 0,
    "start_time": "2022-05-10T10:41:25.406Z"
   },
   {
    "duration": 0,
    "start_time": "2022-05-10T10:41:25.407Z"
   },
   {
    "duration": 0,
    "start_time": "2022-05-10T10:41:25.409Z"
   },
   {
    "duration": 0,
    "start_time": "2022-05-10T10:41:25.410Z"
   },
   {
    "duration": 0,
    "start_time": "2022-05-10T10:41:25.412Z"
   },
   {
    "duration": 0,
    "start_time": "2022-05-10T10:41:25.413Z"
   },
   {
    "duration": 0,
    "start_time": "2022-05-10T10:41:25.415Z"
   },
   {
    "duration": 0,
    "start_time": "2022-05-10T10:41:25.452Z"
   },
   {
    "duration": 0,
    "start_time": "2022-05-10T10:41:25.454Z"
   },
   {
    "duration": 0,
    "start_time": "2022-05-10T10:41:25.455Z"
   },
   {
    "duration": 0,
    "start_time": "2022-05-10T10:41:25.457Z"
   },
   {
    "duration": 0,
    "start_time": "2022-05-10T10:41:25.458Z"
   },
   {
    "duration": 0,
    "start_time": "2022-05-10T10:41:25.460Z"
   },
   {
    "duration": 0,
    "start_time": "2022-05-10T10:41:25.461Z"
   },
   {
    "duration": 0,
    "start_time": "2022-05-10T10:41:25.463Z"
   },
   {
    "duration": 0,
    "start_time": "2022-05-10T10:41:25.464Z"
   },
   {
    "duration": 99,
    "start_time": "2022-05-10T10:45:25.393Z"
   },
   {
    "duration": 94,
    "start_time": "2022-05-10T10:47:39.116Z"
   },
   {
    "duration": 150,
    "start_time": "2022-05-10T10:48:04.036Z"
   },
   {
    "duration": 17,
    "start_time": "2022-05-10T10:48:22.856Z"
   },
   {
    "duration": 105,
    "start_time": "2022-05-10T10:51:03.680Z"
   },
   {
    "duration": 126,
    "start_time": "2022-05-10T10:51:12.057Z"
   },
   {
    "duration": 298,
    "start_time": "2022-05-10T10:51:15.716Z"
   },
   {
    "duration": 20,
    "start_time": "2022-05-10T10:51:52.565Z"
   },
   {
    "duration": 17,
    "start_time": "2022-05-10T11:02:10.395Z"
   },
   {
    "duration": 4,
    "start_time": "2022-05-10T11:02:28.531Z"
   },
   {
    "duration": 930,
    "start_time": "2022-05-10T11:02:45.247Z"
   },
   {
    "duration": 16,
    "start_time": "2022-05-10T11:06:47.486Z"
   },
   {
    "duration": 1252,
    "start_time": "2022-05-10T11:06:56.162Z"
   },
   {
    "duration": 1345,
    "start_time": "2022-05-10T11:07:03.759Z"
   },
   {
    "duration": 6,
    "start_time": "2022-05-10T11:07:29.586Z"
   },
   {
    "duration": 763,
    "start_time": "2022-05-10T11:07:31.740Z"
   },
   {
    "duration": 764,
    "start_time": "2022-05-10T11:07:40.270Z"
   },
   {
    "duration": 18,
    "start_time": "2022-05-10T11:09:19.210Z"
   },
   {
    "duration": 21,
    "start_time": "2022-05-10T11:09:29.398Z"
   },
   {
    "duration": 910,
    "start_time": "2022-05-10T11:09:44.182Z"
   },
   {
    "duration": 1096,
    "start_time": "2022-05-10T11:09:53.037Z"
   },
   {
    "duration": 13,
    "start_time": "2022-05-10T11:21:30.621Z"
   },
   {
    "duration": 40,
    "start_time": "2022-05-10T11:22:56.681Z"
   },
   {
    "duration": 9,
    "start_time": "2022-05-10T11:32:37.699Z"
   },
   {
    "duration": 20,
    "start_time": "2022-05-10T11:32:39.139Z"
   },
   {
    "duration": 19,
    "start_time": "2022-05-10T11:32:40.411Z"
   },
   {
    "duration": 18,
    "start_time": "2022-05-10T11:32:42.930Z"
   },
   {
    "duration": 15,
    "start_time": "2022-05-10T11:33:07.794Z"
   },
   {
    "duration": 1685,
    "start_time": "2022-05-10T11:33:33.645Z"
   },
   {
    "duration": 74,
    "start_time": "2022-05-10T11:33:35.332Z"
   },
   {
    "duration": 21,
    "start_time": "2022-05-10T11:33:35.408Z"
   },
   {
    "duration": 68,
    "start_time": "2022-05-10T11:33:35.432Z"
   },
   {
    "duration": 105,
    "start_time": "2022-05-10T11:33:35.502Z"
   },
   {
    "duration": 11,
    "start_time": "2022-05-10T11:33:35.610Z"
   },
   {
    "duration": 36,
    "start_time": "2022-05-10T11:33:35.623Z"
   },
   {
    "duration": 22,
    "start_time": "2022-05-10T11:33:35.661Z"
   },
   {
    "duration": 28,
    "start_time": "2022-05-10T11:33:35.685Z"
   },
   {
    "duration": 8,
    "start_time": "2022-05-10T11:33:35.717Z"
   },
   {
    "duration": 32,
    "start_time": "2022-05-10T11:33:35.752Z"
   },
   {
    "duration": 35,
    "start_time": "2022-05-10T11:33:35.786Z"
   },
   {
    "duration": 41,
    "start_time": "2022-05-10T11:33:35.823Z"
   },
   {
    "duration": 11,
    "start_time": "2022-05-10T11:33:35.866Z"
   },
   {
    "duration": 8,
    "start_time": "2022-05-10T11:33:35.880Z"
   },
   {
    "duration": 8,
    "start_time": "2022-05-10T11:33:35.890Z"
   },
   {
    "duration": 69,
    "start_time": "2022-05-10T11:33:35.900Z"
   },
   {
    "duration": 19,
    "start_time": "2022-05-10T11:33:35.971Z"
   },
   {
    "duration": 9,
    "start_time": "2022-05-10T11:33:35.993Z"
   },
   {
    "duration": 13,
    "start_time": "2022-05-10T11:33:36.004Z"
   },
   {
    "duration": 34,
    "start_time": "2022-05-10T11:33:36.019Z"
   },
   {
    "duration": 29,
    "start_time": "2022-05-10T11:33:36.056Z"
   },
   {
    "duration": 331,
    "start_time": "2022-05-10T11:33:36.088Z"
   },
   {
    "duration": 197,
    "start_time": "2022-05-10T11:33:36.421Z"
   },
   {
    "duration": 42,
    "start_time": "2022-05-10T11:33:36.621Z"
   },
   {
    "duration": 25,
    "start_time": "2022-05-10T11:33:36.666Z"
   },
   {
    "duration": 442,
    "start_time": "2022-05-10T11:33:36.693Z"
   },
   {
    "duration": 14,
    "start_time": "2022-05-10T11:33:37.153Z"
   },
   {
    "duration": 18,
    "start_time": "2022-05-10T11:33:37.169Z"
   },
   {
    "duration": 61,
    "start_time": "2022-05-10T11:33:37.190Z"
   },
   {
    "duration": 505,
    "start_time": "2022-05-10T11:33:37.253Z"
   },
   {
    "duration": 18,
    "start_time": "2022-05-10T11:33:37.760Z"
   },
   {
    "duration": 11,
    "start_time": "2022-05-10T11:33:37.780Z"
   },
   {
    "duration": 857,
    "start_time": "2022-05-10T11:33:37.794Z"
   },
   {
    "duration": 17,
    "start_time": "2022-05-10T11:33:38.654Z"
   },
   {
    "duration": 774,
    "start_time": "2022-05-10T11:33:38.673Z"
   },
   {
    "duration": 21,
    "start_time": "2022-05-10T11:33:39.451Z"
   },
   {
    "duration": 780,
    "start_time": "2022-05-10T11:33:39.474Z"
   },
   {
    "duration": 17,
    "start_time": "2022-05-10T11:33:40.257Z"
   },
   {
    "duration": 1403,
    "start_time": "2022-05-10T11:33:40.276Z"
   },
   {
    "duration": 23,
    "start_time": "2022-05-10T11:33:41.682Z"
   },
   {
    "duration": 1172,
    "start_time": "2022-05-10T11:33:41.708Z"
   },
   {
    "duration": 0,
    "start_time": "2022-05-10T11:33:42.883Z"
   },
   {
    "duration": 0,
    "start_time": "2022-05-10T11:33:42.885Z"
   },
   {
    "duration": 0,
    "start_time": "2022-05-10T11:33:42.888Z"
   },
   {
    "duration": 0,
    "start_time": "2022-05-10T11:33:42.889Z"
   },
   {
    "duration": 0,
    "start_time": "2022-05-10T11:33:42.892Z"
   },
   {
    "duration": 0,
    "start_time": "2022-05-10T11:33:42.894Z"
   },
   {
    "duration": 0,
    "start_time": "2022-05-10T11:33:42.897Z"
   },
   {
    "duration": 0,
    "start_time": "2022-05-10T11:33:42.899Z"
   },
   {
    "duration": 0,
    "start_time": "2022-05-10T11:33:42.901Z"
   },
   {
    "duration": 0,
    "start_time": "2022-05-10T11:33:42.904Z"
   },
   {
    "duration": 0,
    "start_time": "2022-05-10T11:33:42.905Z"
   },
   {
    "duration": 0,
    "start_time": "2022-05-10T11:33:42.908Z"
   },
   {
    "duration": 0,
    "start_time": "2022-05-10T11:33:42.910Z"
   },
   {
    "duration": 0,
    "start_time": "2022-05-10T11:33:42.953Z"
   },
   {
    "duration": 0,
    "start_time": "2022-05-10T11:33:42.955Z"
   },
   {
    "duration": 0,
    "start_time": "2022-05-10T11:33:42.957Z"
   },
   {
    "duration": 0,
    "start_time": "2022-05-10T11:33:42.959Z"
   },
   {
    "duration": 37,
    "start_time": "2022-05-10T11:34:54.265Z"
   },
   {
    "duration": 1519,
    "start_time": "2022-05-10T19:57:08.249Z"
   },
   {
    "duration": 60,
    "start_time": "2022-05-10T19:57:09.770Z"
   },
   {
    "duration": 24,
    "start_time": "2022-05-10T19:57:09.832Z"
   },
   {
    "duration": 39,
    "start_time": "2022-05-10T19:57:09.858Z"
   },
   {
    "duration": 88,
    "start_time": "2022-05-10T19:57:09.899Z"
   },
   {
    "duration": 7,
    "start_time": "2022-05-10T19:57:09.989Z"
   },
   {
    "duration": 17,
    "start_time": "2022-05-10T19:57:09.998Z"
   },
   {
    "duration": 41,
    "start_time": "2022-05-10T19:57:10.016Z"
   },
   {
    "duration": 16,
    "start_time": "2022-05-10T19:57:10.059Z"
   },
   {
    "duration": 5,
    "start_time": "2022-05-10T19:57:10.077Z"
   },
   {
    "duration": 51,
    "start_time": "2022-05-10T19:57:10.084Z"
   },
   {
    "duration": 28,
    "start_time": "2022-05-10T19:57:10.138Z"
   },
   {
    "duration": 13,
    "start_time": "2022-05-10T19:57:10.168Z"
   },
   {
    "duration": 8,
    "start_time": "2022-05-10T19:57:10.184Z"
   },
   {
    "duration": 8,
    "start_time": "2022-05-10T19:57:10.194Z"
   },
   {
    "duration": 35,
    "start_time": "2022-05-10T19:57:10.203Z"
   },
   {
    "duration": 33,
    "start_time": "2022-05-10T19:57:10.241Z"
   },
   {
    "duration": 15,
    "start_time": "2022-05-10T19:57:10.276Z"
   },
   {
    "duration": 7,
    "start_time": "2022-05-10T19:57:10.293Z"
   },
   {
    "duration": 9,
    "start_time": "2022-05-10T19:57:10.302Z"
   },
   {
    "duration": 42,
    "start_time": "2022-05-10T19:57:10.313Z"
   },
   {
    "duration": 18,
    "start_time": "2022-05-10T19:57:10.357Z"
   },
   {
    "duration": 241,
    "start_time": "2022-05-10T19:57:10.377Z"
   },
   {
    "duration": 158,
    "start_time": "2022-05-10T19:57:10.619Z"
   },
   {
    "duration": 24,
    "start_time": "2022-05-10T19:57:10.778Z"
   },
   {
    "duration": 46,
    "start_time": "2022-05-10T19:57:10.804Z"
   },
   {
    "duration": 339,
    "start_time": "2022-05-10T19:57:10.852Z"
   },
   {
    "duration": 11,
    "start_time": "2022-05-10T19:57:11.193Z"
   },
   {
    "duration": 29,
    "start_time": "2022-05-10T19:57:11.206Z"
   },
   {
    "duration": 30,
    "start_time": "2022-05-10T19:57:11.237Z"
   },
   {
    "duration": 382,
    "start_time": "2022-05-10T19:57:11.269Z"
   },
   {
    "duration": 14,
    "start_time": "2022-05-10T19:57:11.653Z"
   },
   {
    "duration": 8,
    "start_time": "2022-05-10T19:57:11.669Z"
   },
   {
    "duration": 666,
    "start_time": "2022-05-10T19:57:11.679Z"
   },
   {
    "duration": 13,
    "start_time": "2022-05-10T19:57:12.348Z"
   },
   {
    "duration": 605,
    "start_time": "2022-05-10T19:57:12.362Z"
   },
   {
    "duration": 15,
    "start_time": "2022-05-10T19:57:12.970Z"
   },
   {
    "duration": 624,
    "start_time": "2022-05-10T19:57:12.987Z"
   },
   {
    "duration": 20,
    "start_time": "2022-05-10T19:57:13.613Z"
   },
   {
    "duration": 712,
    "start_time": "2022-05-10T19:57:13.636Z"
   },
   {
    "duration": 25,
    "start_time": "2022-05-10T19:57:14.354Z"
   },
   {
    "duration": 16,
    "start_time": "2022-05-10T19:57:14.381Z"
   },
   {
    "duration": 1044,
    "start_time": "2022-05-10T19:57:14.399Z"
   },
   {
    "duration": 0,
    "start_time": "2022-05-10T19:57:15.446Z"
   },
   {
    "duration": 0,
    "start_time": "2022-05-10T19:57:15.448Z"
   },
   {
    "duration": 0,
    "start_time": "2022-05-10T19:57:15.450Z"
   },
   {
    "duration": 0,
    "start_time": "2022-05-10T19:57:15.452Z"
   },
   {
    "duration": 0,
    "start_time": "2022-05-10T19:57:15.453Z"
   },
   {
    "duration": 0,
    "start_time": "2022-05-10T19:57:15.454Z"
   },
   {
    "duration": 0,
    "start_time": "2022-05-10T19:57:15.455Z"
   },
   {
    "duration": 0,
    "start_time": "2022-05-10T19:57:15.457Z"
   },
   {
    "duration": 0,
    "start_time": "2022-05-10T19:57:15.458Z"
   },
   {
    "duration": 0,
    "start_time": "2022-05-10T19:57:15.459Z"
   },
   {
    "duration": 0,
    "start_time": "2022-05-10T19:57:15.461Z"
   },
   {
    "duration": 0,
    "start_time": "2022-05-10T19:57:15.462Z"
   },
   {
    "duration": 0,
    "start_time": "2022-05-10T19:57:15.463Z"
   },
   {
    "duration": 0,
    "start_time": "2022-05-10T19:57:15.464Z"
   },
   {
    "duration": 0,
    "start_time": "2022-05-10T19:57:15.465Z"
   },
   {
    "duration": 0,
    "start_time": "2022-05-10T19:57:15.467Z"
   },
   {
    "duration": 0,
    "start_time": "2022-05-10T19:57:15.468Z"
   },
   {
    "duration": 14,
    "start_time": "2022-05-10T20:00:56.768Z"
   },
   {
    "duration": 14,
    "start_time": "2022-05-10T20:01:57.720Z"
   },
   {
    "duration": 12,
    "start_time": "2022-05-10T20:03:21.792Z"
   },
   {
    "duration": 8,
    "start_time": "2022-05-10T20:03:33.846Z"
   },
   {
    "duration": 17,
    "start_time": "2022-05-10T20:03:46.829Z"
   },
   {
    "duration": 12,
    "start_time": "2022-05-10T20:04:51.596Z"
   },
   {
    "duration": 11,
    "start_time": "2022-05-10T20:05:52.711Z"
   },
   {
    "duration": 376,
    "start_time": "2022-05-10T20:21:54.925Z"
   },
   {
    "duration": 353,
    "start_time": "2022-05-10T20:22:04.048Z"
   },
   {
    "duration": 21,
    "start_time": "2022-05-10T20:23:36.164Z"
   },
   {
    "duration": 7,
    "start_time": "2022-05-10T20:25:48.423Z"
   },
   {
    "duration": 29,
    "start_time": "2022-05-10T20:45:51.172Z"
   },
   {
    "duration": 263,
    "start_time": "2022-05-10T20:45:59.667Z"
   },
   {
    "duration": 348,
    "start_time": "2022-05-10T20:59:51.429Z"
   },
   {
    "duration": 422,
    "start_time": "2022-05-10T21:00:15.397Z"
   },
   {
    "duration": 339,
    "start_time": "2022-05-10T21:00:21.617Z"
   },
   {
    "duration": 332,
    "start_time": "2022-05-10T21:00:26.497Z"
   },
   {
    "duration": 331,
    "start_time": "2022-05-10T21:00:31.861Z"
   },
   {
    "duration": 329,
    "start_time": "2022-05-10T21:00:38.193Z"
   },
   {
    "duration": 476,
    "start_time": "2022-05-10T21:01:30.457Z"
   },
   {
    "duration": 340,
    "start_time": "2022-05-10T21:01:35.057Z"
   },
   {
    "duration": 339,
    "start_time": "2022-05-10T21:01:39.633Z"
   },
   {
    "duration": 326,
    "start_time": "2022-05-10T21:01:45.353Z"
   },
   {
    "duration": 351,
    "start_time": "2022-05-10T21:01:49.937Z"
   },
   {
    "duration": 329,
    "start_time": "2022-05-10T21:03:40.273Z"
   },
   {
    "duration": 454,
    "start_time": "2022-05-10T21:03:47.121Z"
   },
   {
    "duration": 365,
    "start_time": "2022-05-10T21:06:26.128Z"
   },
   {
    "duration": 6,
    "start_time": "2022-05-10T21:07:42.148Z"
   },
   {
    "duration": 322,
    "start_time": "2022-05-10T21:07:43.504Z"
   },
   {
    "duration": 16,
    "start_time": "2022-05-11T11:40:58.348Z"
   },
   {
    "duration": 50,
    "start_time": "2022-05-11T11:41:00.100Z"
   },
   {
    "duration": 1549,
    "start_time": "2022-05-11T11:41:09.147Z"
   },
   {
    "duration": 68,
    "start_time": "2022-05-11T11:41:10.698Z"
   },
   {
    "duration": 15,
    "start_time": "2022-05-11T11:41:10.768Z"
   },
   {
    "duration": 39,
    "start_time": "2022-05-11T11:41:10.786Z"
   },
   {
    "duration": 68,
    "start_time": "2022-05-11T11:41:10.827Z"
   },
   {
    "duration": 7,
    "start_time": "2022-05-11T11:41:10.896Z"
   },
   {
    "duration": 14,
    "start_time": "2022-05-11T11:41:10.905Z"
   },
   {
    "duration": 35,
    "start_time": "2022-05-11T11:41:10.920Z"
   },
   {
    "duration": 17,
    "start_time": "2022-05-11T11:41:10.957Z"
   },
   {
    "duration": 6,
    "start_time": "2022-05-11T11:41:10.977Z"
   },
   {
    "duration": 24,
    "start_time": "2022-05-11T11:41:10.984Z"
   },
   {
    "duration": 47,
    "start_time": "2022-05-11T11:41:11.009Z"
   },
   {
    "duration": 14,
    "start_time": "2022-05-11T11:41:11.057Z"
   },
   {
    "duration": 8,
    "start_time": "2022-05-11T11:41:11.073Z"
   },
   {
    "duration": 7,
    "start_time": "2022-05-11T11:41:11.084Z"
   },
   {
    "duration": 7,
    "start_time": "2022-05-11T11:41:11.093Z"
   },
   {
    "duration": 23,
    "start_time": "2022-05-11T11:41:11.102Z"
   },
   {
    "duration": 16,
    "start_time": "2022-05-11T11:41:11.154Z"
   },
   {
    "duration": 7,
    "start_time": "2022-05-11T11:41:11.172Z"
   },
   {
    "duration": 9,
    "start_time": "2022-05-11T11:41:11.181Z"
   },
   {
    "duration": 7,
    "start_time": "2022-05-11T11:41:11.192Z"
   },
   {
    "duration": 21,
    "start_time": "2022-05-11T11:41:11.200Z"
   },
   {
    "duration": 230,
    "start_time": "2022-05-11T11:41:11.223Z"
   },
   {
    "duration": 130,
    "start_time": "2022-05-11T11:41:11.455Z"
   },
   {
    "duration": 21,
    "start_time": "2022-05-11T11:41:11.587Z"
   },
   {
    "duration": 17,
    "start_time": "2022-05-11T11:41:11.609Z"
   },
   {
    "duration": 289,
    "start_time": "2022-05-11T11:41:11.628Z"
   },
   {
    "duration": 11,
    "start_time": "2022-05-11T11:41:11.921Z"
   },
   {
    "duration": 33,
    "start_time": "2022-05-11T11:41:11.934Z"
   },
   {
    "duration": 22,
    "start_time": "2022-05-11T11:41:11.969Z"
   },
   {
    "duration": 314,
    "start_time": "2022-05-11T11:41:11.993Z"
   },
   {
    "duration": 12,
    "start_time": "2022-05-11T11:41:12.309Z"
   },
   {
    "duration": 4,
    "start_time": "2022-05-11T11:41:12.323Z"
   },
   {
    "duration": 570,
    "start_time": "2022-05-11T11:41:12.329Z"
   },
   {
    "duration": 12,
    "start_time": "2022-05-11T11:41:12.900Z"
   },
   {
    "duration": 505,
    "start_time": "2022-05-11T11:41:12.913Z"
   },
   {
    "duration": 13,
    "start_time": "2022-05-11T11:41:13.420Z"
   },
   {
    "duration": 492,
    "start_time": "2022-05-11T11:41:13.435Z"
   },
   {
    "duration": 13,
    "start_time": "2022-05-11T11:41:13.929Z"
   },
   {
    "duration": 561,
    "start_time": "2022-05-11T11:41:13.955Z"
   },
   {
    "duration": 6,
    "start_time": "2022-05-11T11:41:14.518Z"
   },
   {
    "duration": 37,
    "start_time": "2022-05-11T11:41:14.526Z"
   },
   {
    "duration": 233,
    "start_time": "2022-05-11T11:41:14.565Z"
   },
   {
    "duration": 314,
    "start_time": "2022-05-11T11:41:14.799Z"
   },
   {
    "duration": 310,
    "start_time": "2022-05-11T11:41:15.114Z"
   },
   {
    "duration": 6,
    "start_time": "2022-05-11T11:41:15.426Z"
   },
   {
    "duration": 303,
    "start_time": "2022-05-11T11:41:15.434Z"
   },
   {
    "duration": 288,
    "start_time": "2022-05-11T11:41:15.739Z"
   },
   {
    "duration": 411,
    "start_time": "2022-05-11T11:41:16.029Z"
   },
   {
    "duration": 24,
    "start_time": "2022-05-11T11:41:16.441Z"
   },
   {
    "duration": 206,
    "start_time": "2022-05-11T11:41:16.467Z"
   },
   {
    "duration": 8,
    "start_time": "2022-05-11T11:41:16.674Z"
   },
   {
    "duration": 26,
    "start_time": "2022-05-11T11:41:16.683Z"
   },
   {
    "duration": 265,
    "start_time": "2022-05-11T11:41:16.711Z"
   },
   {
    "duration": 0,
    "start_time": "2022-05-11T11:41:16.978Z"
   },
   {
    "duration": 0,
    "start_time": "2022-05-11T11:41:16.979Z"
   },
   {
    "duration": 0,
    "start_time": "2022-05-11T11:41:16.980Z"
   },
   {
    "duration": 0,
    "start_time": "2022-05-11T11:41:16.981Z"
   },
   {
    "duration": 0,
    "start_time": "2022-05-11T11:41:16.983Z"
   },
   {
    "duration": 0,
    "start_time": "2022-05-11T11:41:16.984Z"
   },
   {
    "duration": 9,
    "start_time": "2022-05-11T11:55:23.588Z"
   },
   {
    "duration": 278,
    "start_time": "2022-05-11T11:55:25.424Z"
   },
   {
    "duration": 15,
    "start_time": "2022-05-11T11:56:00.372Z"
   },
   {
    "duration": 7,
    "start_time": "2022-05-11T11:57:17.007Z"
   },
   {
    "duration": 15,
    "start_time": "2022-05-11T11:57:28.076Z"
   },
   {
    "duration": 8,
    "start_time": "2022-05-11T11:57:59.088Z"
   },
   {
    "duration": 1262,
    "start_time": "2022-05-11T11:58:17.673Z"
   },
   {
    "duration": 52,
    "start_time": "2022-05-11T11:58:18.937Z"
   },
   {
    "duration": 16,
    "start_time": "2022-05-11T11:58:18.991Z"
   },
   {
    "duration": 50,
    "start_time": "2022-05-11T11:58:19.009Z"
   },
   {
    "duration": 57,
    "start_time": "2022-05-11T11:58:19.061Z"
   },
   {
    "duration": 7,
    "start_time": "2022-05-11T11:58:19.120Z"
   },
   {
    "duration": 29,
    "start_time": "2022-05-11T11:58:19.128Z"
   },
   {
    "duration": 15,
    "start_time": "2022-05-11T11:58:19.159Z"
   },
   {
    "duration": 24,
    "start_time": "2022-05-11T11:58:19.176Z"
   },
   {
    "duration": 6,
    "start_time": "2022-05-11T11:58:19.203Z"
   },
   {
    "duration": 45,
    "start_time": "2022-05-11T11:58:19.210Z"
   },
   {
    "duration": 24,
    "start_time": "2022-05-11T11:58:19.256Z"
   },
   {
    "duration": 12,
    "start_time": "2022-05-11T11:58:19.281Z"
   },
   {
    "duration": 7,
    "start_time": "2022-05-11T11:58:19.295Z"
   },
   {
    "duration": 9,
    "start_time": "2022-05-11T11:58:19.304Z"
   },
   {
    "duration": 5,
    "start_time": "2022-05-11T11:58:19.315Z"
   },
   {
    "duration": 54,
    "start_time": "2022-05-11T11:58:19.322Z"
   },
   {
    "duration": 21,
    "start_time": "2022-05-11T11:58:19.378Z"
   },
   {
    "duration": 10,
    "start_time": "2022-05-11T11:58:19.401Z"
   },
   {
    "duration": 11,
    "start_time": "2022-05-11T11:58:19.413Z"
   },
   {
    "duration": 35,
    "start_time": "2022-05-11T11:58:19.426Z"
   },
   {
    "duration": 20,
    "start_time": "2022-05-11T11:58:19.463Z"
   },
   {
    "duration": 276,
    "start_time": "2022-05-11T11:58:19.485Z"
   },
   {
    "duration": 188,
    "start_time": "2022-05-11T11:58:19.763Z"
   },
   {
    "duration": 22,
    "start_time": "2022-05-11T11:58:19.955Z"
   },
   {
    "duration": 18,
    "start_time": "2022-05-11T11:58:19.979Z"
   },
   {
    "duration": 280,
    "start_time": "2022-05-11T11:58:19.998Z"
   },
   {
    "duration": 11,
    "start_time": "2022-05-11T11:58:20.282Z"
   },
   {
    "duration": 13,
    "start_time": "2022-05-11T11:58:20.295Z"
   },
   {
    "duration": 45,
    "start_time": "2022-05-11T11:58:20.311Z"
   },
   {
    "duration": 308,
    "start_time": "2022-05-11T11:58:20.358Z"
   },
   {
    "duration": 13,
    "start_time": "2022-05-11T11:58:20.668Z"
   },
   {
    "duration": 7,
    "start_time": "2022-05-11T11:58:20.683Z"
   },
   {
    "duration": 554,
    "start_time": "2022-05-11T11:58:20.692Z"
   },
   {
    "duration": 17,
    "start_time": "2022-05-11T11:58:21.248Z"
   },
   {
    "duration": 706,
    "start_time": "2022-05-11T11:58:21.266Z"
   },
   {
    "duration": 16,
    "start_time": "2022-05-11T11:58:21.974Z"
   },
   {
    "duration": 488,
    "start_time": "2022-05-11T11:58:21.992Z"
   },
   {
    "duration": 14,
    "start_time": "2022-05-11T11:58:22.482Z"
   },
   {
    "duration": 597,
    "start_time": "2022-05-11T11:58:22.498Z"
   },
   {
    "duration": 8,
    "start_time": "2022-05-11T11:58:23.097Z"
   },
   {
    "duration": 32,
    "start_time": "2022-05-11T11:58:23.107Z"
   },
   {
    "duration": 212,
    "start_time": "2022-05-11T11:58:23.141Z"
   },
   {
    "duration": 294,
    "start_time": "2022-05-11T11:58:23.355Z"
   },
   {
    "duration": 298,
    "start_time": "2022-05-11T11:58:23.654Z"
   },
   {
    "duration": 5,
    "start_time": "2022-05-11T11:58:23.954Z"
   },
   {
    "duration": 26,
    "start_time": "2022-05-11T11:58:23.960Z"
   },
   {
    "duration": 36,
    "start_time": "2022-05-11T11:58:23.987Z"
   },
   {
    "duration": 144,
    "start_time": "2022-05-11T11:58:24.025Z"
   },
   {
    "duration": 358,
    "start_time": "2022-05-11T11:58:24.171Z"
   },
   {
    "duration": 0,
    "start_time": "2022-05-11T11:58:24.532Z"
   },
   {
    "duration": 0,
    "start_time": "2022-05-11T11:58:24.533Z"
   },
   {
    "duration": 0,
    "start_time": "2022-05-11T11:58:24.534Z"
   },
   {
    "duration": 0,
    "start_time": "2022-05-11T11:58:24.536Z"
   },
   {
    "duration": 0,
    "start_time": "2022-05-11T11:58:24.537Z"
   },
   {
    "duration": 0,
    "start_time": "2022-05-11T11:58:24.538Z"
   },
   {
    "duration": 0,
    "start_time": "2022-05-11T11:58:24.556Z"
   },
   {
    "duration": 0,
    "start_time": "2022-05-11T11:58:24.557Z"
   },
   {
    "duration": 0,
    "start_time": "2022-05-11T11:58:24.559Z"
   },
   {
    "duration": 0,
    "start_time": "2022-05-11T11:58:24.560Z"
   },
   {
    "duration": 0,
    "start_time": "2022-05-11T11:58:24.562Z"
   },
   {
    "duration": 0,
    "start_time": "2022-05-11T11:58:24.563Z"
   },
   {
    "duration": 0,
    "start_time": "2022-05-11T11:58:24.564Z"
   },
   {
    "duration": 0,
    "start_time": "2022-05-11T11:58:24.566Z"
   },
   {
    "duration": 7,
    "start_time": "2022-05-11T12:01:01.956Z"
   },
   {
    "duration": 16,
    "start_time": "2022-05-11T12:01:03.724Z"
   },
   {
    "duration": 9,
    "start_time": "2022-05-11T12:01:06.044Z"
   },
   {
    "duration": 810,
    "start_time": "2022-05-11T12:01:08.544Z"
   },
   {
    "duration": 4,
    "start_time": "2022-05-11T12:07:07.946Z"
   },
   {
    "duration": 686,
    "start_time": "2022-05-11T12:07:09.338Z"
   },
   {
    "duration": 5,
    "start_time": "2022-05-11T12:07:23.313Z"
   },
   {
    "duration": 270,
    "start_time": "2022-05-11T12:07:24.454Z"
   },
   {
    "duration": 275,
    "start_time": "2022-05-11T12:08:40.866Z"
   },
   {
    "duration": 8,
    "start_time": "2022-05-11T12:08:43.210Z"
   },
   {
    "duration": 5,
    "start_time": "2022-05-11T12:08:55.873Z"
   },
   {
    "duration": 295,
    "start_time": "2022-05-11T12:08:56.585Z"
   },
   {
    "duration": 5,
    "start_time": "2022-05-11T12:09:27.288Z"
   },
   {
    "duration": 497,
    "start_time": "2022-05-11T12:09:28.309Z"
   },
   {
    "duration": 176,
    "start_time": "2022-05-11T12:14:32.077Z"
   },
   {
    "duration": 402,
    "start_time": "2022-05-11T12:14:39.409Z"
   },
   {
    "duration": 5,
    "start_time": "2022-05-11T12:19:34.208Z"
   },
   {
    "duration": 5,
    "start_time": "2022-05-11T12:22:36.511Z"
   },
   {
    "duration": 269,
    "start_time": "2022-05-11T12:22:50.435Z"
   },
   {
    "duration": 358,
    "start_time": "2022-05-11T12:23:07.399Z"
   },
   {
    "duration": 5,
    "start_time": "2022-05-11T12:24:53.595Z"
   },
   {
    "duration": 765,
    "start_time": "2022-05-11T12:24:54.675Z"
   },
   {
    "duration": 4,
    "start_time": "2022-05-11T12:25:33.195Z"
   },
   {
    "duration": 6,
    "start_time": "2022-05-11T12:25:41.935Z"
   },
   {
    "duration": 585,
    "start_time": "2022-05-11T12:25:46.620Z"
   },
   {
    "duration": 4,
    "start_time": "2022-05-11T12:26:56.139Z"
   },
   {
    "duration": 352,
    "start_time": "2022-05-11T12:27:02.055Z"
   },
   {
    "duration": 17,
    "start_time": "2022-05-11T12:38:40.585Z"
   },
   {
    "duration": 189,
    "start_time": "2022-05-11T12:38:41.778Z"
   },
   {
    "duration": 474,
    "start_time": "2022-05-11T12:44:52.396Z"
   },
   {
    "duration": 359,
    "start_time": "2022-05-11T12:45:19.620Z"
   },
   {
    "duration": 14,
    "start_time": "2022-05-11T12:55:58.335Z"
   },
   {
    "duration": 367,
    "start_time": "2022-05-11T12:58:08.491Z"
   },
   {
    "duration": 272,
    "start_time": "2022-05-11T12:58:46.970Z"
   },
   {
    "duration": 228,
    "start_time": "2022-05-11T13:00:36.711Z"
   },
   {
    "duration": 245,
    "start_time": "2022-05-11T13:01:11.299Z"
   },
   {
    "duration": 251,
    "start_time": "2022-05-11T13:01:25.103Z"
   },
   {
    "duration": 421,
    "start_time": "2022-05-11T13:01:39.679Z"
   },
   {
    "duration": 239,
    "start_time": "2022-05-11T13:01:56.187Z"
   },
   {
    "duration": 227,
    "start_time": "2022-05-11T13:02:05.263Z"
   },
   {
    "duration": 191,
    "start_time": "2022-05-11T13:10:52.838Z"
   },
   {
    "duration": 4,
    "start_time": "2022-05-11T13:15:08.670Z"
   },
   {
    "duration": 240,
    "start_time": "2022-05-11T13:17:35.946Z"
   },
   {
    "duration": 236,
    "start_time": "2022-05-11T13:18:42.341Z"
   },
   {
    "duration": 4,
    "start_time": "2022-05-11T13:19:47.790Z"
   },
   {
    "duration": 339,
    "start_time": "2022-05-11T13:19:51.350Z"
   },
   {
    "duration": 238,
    "start_time": "2022-05-11T13:20:27.266Z"
   },
   {
    "duration": 802,
    "start_time": "2022-05-11T13:20:36.633Z"
   },
   {
    "duration": 4,
    "start_time": "2022-05-11T13:21:27.721Z"
   },
   {
    "duration": 684,
    "start_time": "2022-05-11T13:21:44.433Z"
   },
   {
    "duration": 1075,
    "start_time": "2022-05-11T13:24:32.286Z"
   },
   {
    "duration": 1313,
    "start_time": "2022-05-11T13:25:11.473Z"
   },
   {
    "duration": 1048,
    "start_time": "2022-05-11T13:25:23.989Z"
   },
   {
    "duration": 1051,
    "start_time": "2022-05-11T13:25:40.541Z"
   },
   {
    "duration": 6,
    "start_time": "2022-05-11T13:27:54.420Z"
   },
   {
    "duration": 652,
    "start_time": "2022-05-11T13:28:31.467Z"
   },
   {
    "duration": 7,
    "start_time": "2022-05-11T13:29:32.458Z"
   },
   {
    "duration": 294,
    "start_time": "2022-05-11T13:29:38.850Z"
   },
   {
    "duration": 141,
    "start_time": "2022-05-11T13:30:13.738Z"
   },
   {
    "duration": 5,
    "start_time": "2022-05-11T13:30:21.070Z"
   },
   {
    "duration": 34,
    "start_time": "2022-05-11T13:30:30.578Z"
   },
   {
    "duration": 4,
    "start_time": "2022-05-11T13:30:43.998Z"
   },
   {
    "duration": 25,
    "start_time": "2022-05-11T13:30:45.086Z"
   },
   {
    "duration": 4,
    "start_time": "2022-05-11T13:31:15.646Z"
   },
   {
    "duration": 26,
    "start_time": "2022-05-11T13:31:16.262Z"
   },
   {
    "duration": 243,
    "start_time": "2022-05-11T13:44:43.388Z"
   },
   {
    "duration": 132,
    "start_time": "2022-05-11T13:55:21.527Z"
   },
   {
    "duration": 403,
    "start_time": "2022-05-11T13:57:53.034Z"
   },
   {
    "duration": 658,
    "start_time": "2022-05-11T13:58:59.015Z"
   },
   {
    "duration": 505,
    "start_time": "2022-05-11T14:08:00.478Z"
   },
   {
    "duration": 305,
    "start_time": "2022-05-11T14:08:41.670Z"
   },
   {
    "duration": 393,
    "start_time": "2022-05-11T14:08:49.485Z"
   },
   {
    "duration": 320,
    "start_time": "2022-05-11T14:09:05.299Z"
   },
   {
    "duration": 396,
    "start_time": "2022-05-11T14:09:16.950Z"
   },
   {
    "duration": 848,
    "start_time": "2022-05-11T14:10:16.568Z"
   },
   {
    "duration": 439,
    "start_time": "2022-05-11T14:10:37.249Z"
   },
   {
    "duration": 391,
    "start_time": "2022-05-11T14:10:50.056Z"
   },
   {
    "duration": 378,
    "start_time": "2022-05-11T14:11:22.893Z"
   },
   {
    "duration": 401,
    "start_time": "2022-05-11T14:12:16.169Z"
   },
   {
    "duration": 381,
    "start_time": "2022-05-11T14:14:02.701Z"
   },
   {
    "duration": 545,
    "start_time": "2022-05-11T14:14:52.537Z"
   },
   {
    "duration": 358,
    "start_time": "2022-05-11T14:16:53.303Z"
   },
   {
    "duration": 392,
    "start_time": "2022-05-11T14:18:07.859Z"
   },
   {
    "duration": 420,
    "start_time": "2022-05-11T14:21:25.975Z"
   },
   {
    "duration": 4,
    "start_time": "2022-05-11T14:21:53.942Z"
   },
   {
    "duration": 396,
    "start_time": "2022-05-11T14:21:56.245Z"
   },
   {
    "duration": 805,
    "start_time": "2022-05-11T14:22:40.219Z"
   },
   {
    "duration": 360,
    "start_time": "2022-05-11T14:23:05.115Z"
   },
   {
    "duration": 393,
    "start_time": "2022-05-11T14:23:17.191Z"
   },
   {
    "duration": 364,
    "start_time": "2022-05-11T14:23:26.463Z"
   },
   {
    "duration": 383,
    "start_time": "2022-05-11T14:26:24.277Z"
   },
   {
    "duration": 4,
    "start_time": "2022-05-11T14:28:41.477Z"
   },
   {
    "duration": 396,
    "start_time": "2022-05-11T14:28:42.753Z"
   },
   {
    "duration": 4,
    "start_time": "2022-05-11T14:30:26.062Z"
   },
   {
    "duration": 715,
    "start_time": "2022-05-11T14:30:26.753Z"
   },
   {
    "duration": 418,
    "start_time": "2022-05-11T14:30:58.669Z"
   },
   {
    "duration": 372,
    "start_time": "2022-05-11T14:31:08.985Z"
   },
   {
    "duration": 1257,
    "start_time": "2022-05-11T14:39:38.986Z"
   },
   {
    "duration": 85,
    "start_time": "2022-05-11T14:39:40.245Z"
   },
   {
    "duration": 15,
    "start_time": "2022-05-11T14:39:40.332Z"
   },
   {
    "duration": 58,
    "start_time": "2022-05-11T14:39:40.349Z"
   },
   {
    "duration": 86,
    "start_time": "2022-05-11T14:39:40.409Z"
   },
   {
    "duration": 7,
    "start_time": "2022-05-11T14:39:40.497Z"
   },
   {
    "duration": 32,
    "start_time": "2022-05-11T14:39:40.506Z"
   },
   {
    "duration": 40,
    "start_time": "2022-05-11T14:39:40.540Z"
   },
   {
    "duration": 55,
    "start_time": "2022-05-11T14:39:40.582Z"
   },
   {
    "duration": 33,
    "start_time": "2022-05-11T14:39:40.640Z"
   },
   {
    "duration": 43,
    "start_time": "2022-05-11T14:39:40.675Z"
   },
   {
    "duration": 23,
    "start_time": "2022-05-11T14:39:40.719Z"
   },
   {
    "duration": 27,
    "start_time": "2022-05-11T14:39:40.744Z"
   },
   {
    "duration": 12,
    "start_time": "2022-05-11T14:39:40.773Z"
   },
   {
    "duration": 25,
    "start_time": "2022-05-11T14:39:40.787Z"
   },
   {
    "duration": 28,
    "start_time": "2022-05-11T14:39:40.814Z"
   },
   {
    "duration": 52,
    "start_time": "2022-05-11T14:39:40.844Z"
   },
   {
    "duration": 23,
    "start_time": "2022-05-11T14:39:40.898Z"
   },
   {
    "duration": 20,
    "start_time": "2022-05-11T14:39:40.923Z"
   },
   {
    "duration": 34,
    "start_time": "2022-05-11T14:39:40.945Z"
   },
   {
    "duration": 30,
    "start_time": "2022-05-11T14:39:40.981Z"
   },
   {
    "duration": 61,
    "start_time": "2022-05-11T14:39:41.013Z"
   },
   {
    "duration": 240,
    "start_time": "2022-05-11T14:39:41.076Z"
   },
   {
    "duration": 126,
    "start_time": "2022-05-11T14:39:41.318Z"
   },
   {
    "duration": 31,
    "start_time": "2022-05-11T14:39:41.445Z"
   },
   {
    "duration": 27,
    "start_time": "2022-05-11T14:39:41.478Z"
   },
   {
    "duration": 327,
    "start_time": "2022-05-11T14:39:41.507Z"
   },
   {
    "duration": 19,
    "start_time": "2022-05-11T14:39:41.838Z"
   },
   {
    "duration": 57,
    "start_time": "2022-05-11T14:39:41.860Z"
   },
   {
    "duration": 69,
    "start_time": "2022-05-11T14:39:41.919Z"
   },
   {
    "duration": 357,
    "start_time": "2022-05-11T14:39:41.990Z"
   },
   {
    "duration": 23,
    "start_time": "2022-05-11T14:39:42.349Z"
   },
   {
    "duration": 25,
    "start_time": "2022-05-11T14:39:42.375Z"
   },
   {
    "duration": 642,
    "start_time": "2022-05-11T14:39:42.402Z"
   },
   {
    "duration": 18,
    "start_time": "2022-05-11T14:39:43.054Z"
   },
   {
    "duration": 539,
    "start_time": "2022-05-11T14:39:43.074Z"
   },
   {
    "duration": 12,
    "start_time": "2022-05-11T14:39:43.615Z"
   },
   {
    "duration": 566,
    "start_time": "2022-05-11T14:39:43.629Z"
   },
   {
    "duration": 66,
    "start_time": "2022-05-11T14:39:44.197Z"
   },
   {
    "duration": 704,
    "start_time": "2022-05-11T14:39:44.266Z"
   },
   {
    "duration": 7,
    "start_time": "2022-05-11T14:39:44.972Z"
   },
   {
    "duration": 57,
    "start_time": "2022-05-11T14:39:44.981Z"
   },
   {
    "duration": 248,
    "start_time": "2022-05-11T14:39:45.040Z"
   },
   {
    "duration": 320,
    "start_time": "2022-05-11T14:39:45.290Z"
   },
   {
    "duration": 328,
    "start_time": "2022-05-11T14:39:45.612Z"
   },
   {
    "duration": 13,
    "start_time": "2022-05-11T14:39:45.942Z"
   },
   {
    "duration": 404,
    "start_time": "2022-05-11T14:39:45.958Z"
   },
   {
    "duration": 437,
    "start_time": "2022-05-11T14:39:46.364Z"
   },
   {
    "duration": 156,
    "start_time": "2022-05-11T14:39:46.803Z"
   },
   {
    "duration": 0,
    "start_time": "2022-05-11T14:39:46.961Z"
   },
   {
    "duration": 0,
    "start_time": "2022-05-11T14:39:46.963Z"
   },
   {
    "duration": 0,
    "start_time": "2022-05-11T14:39:46.965Z"
   },
   {
    "duration": 0,
    "start_time": "2022-05-11T14:39:46.967Z"
   },
   {
    "duration": 0,
    "start_time": "2022-05-11T14:39:46.968Z"
   },
   {
    "duration": 0,
    "start_time": "2022-05-11T14:39:46.970Z"
   },
   {
    "duration": 0,
    "start_time": "2022-05-11T14:39:46.971Z"
   },
   {
    "duration": 0,
    "start_time": "2022-05-11T14:39:46.973Z"
   },
   {
    "duration": 0,
    "start_time": "2022-05-11T14:39:46.975Z"
   },
   {
    "duration": 0,
    "start_time": "2022-05-11T14:39:46.976Z"
   },
   {
    "duration": 544,
    "start_time": "2022-05-11T14:40:19.591Z"
   },
   {
    "duration": 1294,
    "start_time": "2022-05-11T19:18:48.449Z"
   },
   {
    "duration": 55,
    "start_time": "2022-05-11T19:18:49.745Z"
   },
   {
    "duration": 13,
    "start_time": "2022-05-11T19:18:49.802Z"
   },
   {
    "duration": 31,
    "start_time": "2022-05-11T19:18:49.818Z"
   },
   {
    "duration": 62,
    "start_time": "2022-05-11T19:18:49.851Z"
   },
   {
    "duration": 6,
    "start_time": "2022-05-11T19:18:49.914Z"
   },
   {
    "duration": 11,
    "start_time": "2022-05-11T19:18:49.922Z"
   },
   {
    "duration": 13,
    "start_time": "2022-05-11T19:18:49.934Z"
   },
   {
    "duration": 14,
    "start_time": "2022-05-11T19:18:49.949Z"
   },
   {
    "duration": 5,
    "start_time": "2022-05-11T19:18:49.966Z"
   },
   {
    "duration": 44,
    "start_time": "2022-05-11T19:18:49.972Z"
   },
   {
    "duration": 21,
    "start_time": "2022-05-11T19:18:50.017Z"
   },
   {
    "duration": 10,
    "start_time": "2022-05-11T19:18:50.039Z"
   },
   {
    "duration": 7,
    "start_time": "2022-05-11T19:18:50.051Z"
   },
   {
    "duration": 4,
    "start_time": "2022-05-11T19:18:50.060Z"
   },
   {
    "duration": 4,
    "start_time": "2022-05-11T19:18:50.066Z"
   },
   {
    "duration": 38,
    "start_time": "2022-05-11T19:18:50.072Z"
   },
   {
    "duration": 13,
    "start_time": "2022-05-11T19:18:50.111Z"
   },
   {
    "duration": 6,
    "start_time": "2022-05-11T19:18:50.125Z"
   },
   {
    "duration": 9,
    "start_time": "2022-05-11T19:18:50.132Z"
   },
   {
    "duration": 7,
    "start_time": "2022-05-11T19:18:50.142Z"
   },
   {
    "duration": 12,
    "start_time": "2022-05-11T19:18:50.150Z"
   },
   {
    "duration": 188,
    "start_time": "2022-05-11T19:18:50.164Z"
   },
   {
    "duration": 113,
    "start_time": "2022-05-11T19:18:50.354Z"
   },
   {
    "duration": 18,
    "start_time": "2022-05-11T19:18:50.469Z"
   },
   {
    "duration": 14,
    "start_time": "2022-05-11T19:18:50.500Z"
   },
   {
    "duration": 234,
    "start_time": "2022-05-11T19:18:50.515Z"
   },
   {
    "duration": 10,
    "start_time": "2022-05-11T19:18:50.753Z"
   },
   {
    "duration": 15,
    "start_time": "2022-05-11T19:18:50.764Z"
   },
   {
    "duration": 38,
    "start_time": "2022-05-11T19:18:50.781Z"
   },
   {
    "duration": 271,
    "start_time": "2022-05-11T19:18:50.821Z"
   },
   {
    "duration": 17,
    "start_time": "2022-05-11T19:18:51.093Z"
   },
   {
    "duration": 3,
    "start_time": "2022-05-11T19:18:51.111Z"
   },
   {
    "duration": 485,
    "start_time": "2022-05-11T19:18:51.115Z"
   },
   {
    "duration": 10,
    "start_time": "2022-05-11T19:18:51.602Z"
   },
   {
    "duration": 432,
    "start_time": "2022-05-11T19:18:51.613Z"
   },
   {
    "duration": 10,
    "start_time": "2022-05-11T19:18:52.047Z"
   },
   {
    "duration": 420,
    "start_time": "2022-05-11T19:18:52.059Z"
   },
   {
    "duration": 20,
    "start_time": "2022-05-11T19:18:52.481Z"
   },
   {
    "duration": 474,
    "start_time": "2022-05-11T19:18:52.503Z"
   },
   {
    "duration": 6,
    "start_time": "2022-05-11T19:18:52.978Z"
   },
   {
    "duration": 24,
    "start_time": "2022-05-11T19:18:52.986Z"
   },
   {
    "duration": 191,
    "start_time": "2022-05-11T19:18:53.012Z"
   },
   {
    "duration": 273,
    "start_time": "2022-05-11T19:18:53.204Z"
   },
   {
    "duration": 267,
    "start_time": "2022-05-11T19:18:53.479Z"
   },
   {
    "duration": 3,
    "start_time": "2022-05-11T19:18:53.749Z"
   },
   {
    "duration": 328,
    "start_time": "2022-05-11T19:18:53.754Z"
   },
   {
    "duration": 318,
    "start_time": "2022-05-11T19:18:54.084Z"
   },
   {
    "duration": 406,
    "start_time": "2022-05-11T19:18:54.403Z"
   },
   {
    "duration": 7,
    "start_time": "2022-05-11T19:18:54.811Z"
   },
   {
    "duration": 20,
    "start_time": "2022-05-11T19:18:54.819Z"
   },
   {
    "duration": 222,
    "start_time": "2022-05-11T19:18:54.840Z"
   },
   {
    "duration": 0,
    "start_time": "2022-05-11T19:18:55.063Z"
   },
   {
    "duration": 0,
    "start_time": "2022-05-11T19:18:55.064Z"
   },
   {
    "duration": 0,
    "start_time": "2022-05-11T19:18:55.065Z"
   },
   {
    "duration": 0,
    "start_time": "2022-05-11T19:18:55.067Z"
   },
   {
    "duration": 0,
    "start_time": "2022-05-11T19:18:55.068Z"
   },
   {
    "duration": 0,
    "start_time": "2022-05-11T19:18:55.069Z"
   },
   {
    "duration": 21,
    "start_time": "2022-05-11T20:13:45.319Z"
   },
   {
    "duration": 146,
    "start_time": "2022-05-11T20:14:15.127Z"
   },
   {
    "duration": 161,
    "start_time": "2022-05-11T20:14:52.487Z"
   },
   {
    "duration": 177,
    "start_time": "2022-05-11T20:15:33.183Z"
   },
   {
    "duration": 157,
    "start_time": "2022-05-11T20:19:50.351Z"
   },
   {
    "duration": 285,
    "start_time": "2022-05-11T20:20:23.243Z"
   },
   {
    "duration": 383,
    "start_time": "2022-05-11T20:22:12.094Z"
   },
   {
    "duration": 802,
    "start_time": "2022-05-11T20:22:44.447Z"
   },
   {
    "duration": 163,
    "start_time": "2022-05-11T20:23:02.926Z"
   },
   {
    "duration": 169,
    "start_time": "2022-05-11T20:24:32.606Z"
   },
   {
    "duration": 126,
    "start_time": "2022-05-11T20:25:29.617Z"
   },
   {
    "duration": 116,
    "start_time": "2022-05-11T20:25:41.889Z"
   },
   {
    "duration": 111,
    "start_time": "2022-05-11T20:25:54.709Z"
   },
   {
    "duration": 114,
    "start_time": "2022-05-11T20:26:04.553Z"
   },
   {
    "duration": 184,
    "start_time": "2022-05-11T20:26:16.946Z"
   },
   {
    "duration": 167,
    "start_time": "2022-05-11T20:26:29.738Z"
   },
   {
    "duration": 9,
    "start_time": "2022-05-11T20:28:07.473Z"
   },
   {
    "duration": 19,
    "start_time": "2022-05-11T20:31:18.418Z"
   },
   {
    "duration": 157,
    "start_time": "2022-05-11T20:31:20.226Z"
   },
   {
    "duration": 151,
    "start_time": "2022-05-11T20:31:30.122Z"
   },
   {
    "duration": 239,
    "start_time": "2022-05-11T20:32:27.274Z"
   },
   {
    "duration": 106,
    "start_time": "2022-05-11T20:33:11.901Z"
   },
   {
    "duration": 101,
    "start_time": "2022-05-11T20:33:20.377Z"
   },
   {
    "duration": 8,
    "start_time": "2022-05-11T20:35:10.086Z"
   },
   {
    "duration": 1647,
    "start_time": "2022-05-11T21:32:25.197Z"
   },
   {
    "duration": 93,
    "start_time": "2022-05-11T21:32:26.846Z"
   },
   {
    "duration": 23,
    "start_time": "2022-05-11T21:32:26.941Z"
   },
   {
    "duration": 55,
    "start_time": "2022-05-11T21:32:26.967Z"
   },
   {
    "duration": 105,
    "start_time": "2022-05-11T21:32:27.025Z"
   },
   {
    "duration": 179,
    "start_time": "2022-05-11T21:32:27.133Z"
   },
   {
    "duration": 24,
    "start_time": "2022-05-11T21:32:27.314Z"
   },
   {
    "duration": 23,
    "start_time": "2022-05-11T21:32:27.340Z"
   },
   {
    "duration": 16,
    "start_time": "2022-05-11T21:32:27.364Z"
   },
   {
    "duration": 6,
    "start_time": "2022-05-11T21:32:27.383Z"
   },
   {
    "duration": 36,
    "start_time": "2022-05-11T21:32:27.390Z"
   },
   {
    "duration": 32,
    "start_time": "2022-05-11T21:32:27.428Z"
   },
   {
    "duration": 17,
    "start_time": "2022-05-11T21:32:27.463Z"
   },
   {
    "duration": 20,
    "start_time": "2022-05-11T21:32:27.482Z"
   },
   {
    "duration": 7,
    "start_time": "2022-05-11T21:32:27.504Z"
   },
   {
    "duration": 8,
    "start_time": "2022-05-11T21:32:27.513Z"
   },
   {
    "duration": 28,
    "start_time": "2022-05-11T21:32:27.523Z"
   },
   {
    "duration": 23,
    "start_time": "2022-05-11T21:32:27.553Z"
   },
   {
    "duration": 9,
    "start_time": "2022-05-11T21:32:27.578Z"
   },
   {
    "duration": 12,
    "start_time": "2022-05-11T21:32:27.589Z"
   },
   {
    "duration": 19,
    "start_time": "2022-05-11T21:32:27.604Z"
   },
   {
    "duration": 23,
    "start_time": "2022-05-11T21:32:27.626Z"
   },
   {
    "duration": 287,
    "start_time": "2022-05-11T21:32:27.651Z"
   },
   {
    "duration": 235,
    "start_time": "2022-05-11T21:32:27.940Z"
   },
   {
    "duration": 38,
    "start_time": "2022-05-11T21:32:28.200Z"
   },
   {
    "duration": 69,
    "start_time": "2022-05-11T21:32:28.241Z"
   },
   {
    "duration": 507,
    "start_time": "2022-05-11T21:32:28.312Z"
   },
   {
    "duration": 14,
    "start_time": "2022-05-11T21:32:28.824Z"
   },
   {
    "duration": 19,
    "start_time": "2022-05-11T21:32:28.841Z"
   },
   {
    "duration": 22,
    "start_time": "2022-05-11T21:32:28.862Z"
   },
   {
    "duration": 371,
    "start_time": "2022-05-11T21:32:28.886Z"
   },
   {
    "duration": 13,
    "start_time": "2022-05-11T21:32:29.259Z"
   },
   {
    "duration": 3,
    "start_time": "2022-05-11T21:32:29.274Z"
   },
   {
    "duration": 543,
    "start_time": "2022-05-11T21:32:29.279Z"
   },
   {
    "duration": 12,
    "start_time": "2022-05-11T21:32:29.824Z"
   },
   {
    "duration": 472,
    "start_time": "2022-05-11T21:32:29.838Z"
   },
   {
    "duration": 19,
    "start_time": "2022-05-11T21:32:30.313Z"
   },
   {
    "duration": 779,
    "start_time": "2022-05-11T21:32:30.335Z"
   },
   {
    "duration": 17,
    "start_time": "2022-05-11T21:32:31.117Z"
   },
   {
    "duration": 912,
    "start_time": "2022-05-11T21:32:31.136Z"
   },
   {
    "duration": 8,
    "start_time": "2022-05-11T21:32:32.050Z"
   },
   {
    "duration": 32,
    "start_time": "2022-05-11T21:32:32.060Z"
   },
   {
    "duration": 346,
    "start_time": "2022-05-11T21:32:32.094Z"
   },
   {
    "duration": 314,
    "start_time": "2022-05-11T21:32:32.443Z"
   },
   {
    "duration": 308,
    "start_time": "2022-05-11T21:32:32.758Z"
   },
   {
    "duration": 5,
    "start_time": "2022-05-11T21:32:33.067Z"
   },
   {
    "duration": 422,
    "start_time": "2022-05-11T21:32:33.073Z"
   },
   {
    "duration": 348,
    "start_time": "2022-05-11T21:32:33.497Z"
   },
   {
    "duration": 852,
    "start_time": "2022-05-11T21:32:33.847Z"
   },
   {
    "duration": 11,
    "start_time": "2022-05-11T21:32:34.701Z"
   },
   {
    "duration": 124,
    "start_time": "2022-05-11T21:32:34.714Z"
   },
   {
    "duration": 287,
    "start_time": "2022-05-11T21:32:34.840Z"
   },
   {
    "duration": 159,
    "start_time": "2022-05-11T21:32:35.129Z"
   },
   {
    "duration": 24,
    "start_time": "2022-05-11T21:32:35.290Z"
   },
   {
    "duration": 30,
    "start_time": "2022-05-11T21:32:35.317Z"
   },
   {
    "duration": 178,
    "start_time": "2022-05-11T21:32:35.349Z"
   },
   {
    "duration": 136,
    "start_time": "2022-05-11T21:32:35.530Z"
   },
   {
    "duration": 9,
    "start_time": "2022-05-11T21:32:35.668Z"
   },
   {
    "duration": 132,
    "start_time": "2022-05-11T21:35:03.513Z"
   },
   {
    "duration": 248,
    "start_time": "2022-05-11T21:35:49.076Z"
   },
   {
    "duration": 166,
    "start_time": "2022-05-11T21:36:18.300Z"
   },
   {
    "duration": 169,
    "start_time": "2022-05-11T21:40:04.371Z"
   },
   {
    "duration": 1174,
    "start_time": "2022-05-11T21:40:23.456Z"
   },
   {
    "duration": 67,
    "start_time": "2022-05-11T21:40:24.632Z"
   },
   {
    "duration": 20,
    "start_time": "2022-05-11T21:40:24.700Z"
   },
   {
    "duration": 33,
    "start_time": "2022-05-11T21:40:24.722Z"
   },
   {
    "duration": 74,
    "start_time": "2022-05-11T21:40:24.757Z"
   },
   {
    "duration": 7,
    "start_time": "2022-05-11T21:40:24.833Z"
   },
   {
    "duration": 11,
    "start_time": "2022-05-11T21:40:24.841Z"
   },
   {
    "duration": 13,
    "start_time": "2022-05-11T21:40:24.854Z"
   },
   {
    "duration": 50,
    "start_time": "2022-05-11T21:40:24.868Z"
   },
   {
    "duration": 6,
    "start_time": "2022-05-11T21:40:24.919Z"
   },
   {
    "duration": 22,
    "start_time": "2022-05-11T21:40:24.927Z"
   },
   {
    "duration": 20,
    "start_time": "2022-05-11T21:40:24.951Z"
   },
   {
    "duration": 41,
    "start_time": "2022-05-11T21:40:24.973Z"
   },
   {
    "duration": 9,
    "start_time": "2022-05-11T21:40:25.018Z"
   },
   {
    "duration": 5,
    "start_time": "2022-05-11T21:40:25.029Z"
   },
   {
    "duration": 7,
    "start_time": "2022-05-11T21:40:25.036Z"
   },
   {
    "duration": 17,
    "start_time": "2022-05-11T21:40:25.044Z"
   },
   {
    "duration": 41,
    "start_time": "2022-05-11T21:40:25.062Z"
   },
   {
    "duration": 13,
    "start_time": "2022-05-11T21:40:25.104Z"
   },
   {
    "duration": 9,
    "start_time": "2022-05-11T21:40:25.118Z"
   },
   {
    "duration": 10,
    "start_time": "2022-05-11T21:40:25.128Z"
   },
   {
    "duration": 15,
    "start_time": "2022-05-11T21:40:25.139Z"
   },
   {
    "duration": 214,
    "start_time": "2022-05-11T21:40:25.156Z"
   },
   {
    "duration": 179,
    "start_time": "2022-05-11T21:40:25.372Z"
   },
   {
    "duration": 113,
    "start_time": "2022-05-11T21:40:25.553Z"
   },
   {
    "duration": 20,
    "start_time": "2022-05-11T21:40:25.667Z"
   },
   {
    "duration": 21,
    "start_time": "2022-05-11T21:40:25.701Z"
   },
   {
    "duration": 358,
    "start_time": "2022-05-11T21:40:25.724Z"
   },
   {
    "duration": 25,
    "start_time": "2022-05-11T21:40:26.084Z"
   },
   {
    "duration": 24,
    "start_time": "2022-05-11T21:40:26.112Z"
   },
   {
    "duration": 23,
    "start_time": "2022-05-11T21:40:26.138Z"
   },
   {
    "duration": 289,
    "start_time": "2022-05-11T21:40:26.163Z"
   },
   {
    "duration": 12,
    "start_time": "2022-05-11T21:40:26.454Z"
   },
   {
    "duration": 6,
    "start_time": "2022-05-11T21:40:26.468Z"
   },
   {
    "duration": 523,
    "start_time": "2022-05-11T21:40:26.476Z"
   },
   {
    "duration": 23,
    "start_time": "2022-05-11T21:40:27.000Z"
   },
   {
    "duration": 768,
    "start_time": "2022-05-11T21:40:27.026Z"
   },
   {
    "duration": 11,
    "start_time": "2022-05-11T21:40:27.800Z"
   },
   {
    "duration": 464,
    "start_time": "2022-05-11T21:40:27.812Z"
   },
   {
    "duration": 12,
    "start_time": "2022-05-11T21:40:28.278Z"
   },
   {
    "duration": 922,
    "start_time": "2022-05-11T21:40:28.302Z"
   },
   {
    "duration": 8,
    "start_time": "2022-05-11T21:40:29.226Z"
   },
   {
    "duration": 22,
    "start_time": "2022-05-11T21:40:29.236Z"
   },
   {
    "duration": 332,
    "start_time": "2022-05-11T21:40:29.260Z"
   },
   {
    "duration": 416,
    "start_time": "2022-05-11T21:40:29.599Z"
   },
   {
    "duration": 456,
    "start_time": "2022-05-11T21:40:30.017Z"
   },
   {
    "duration": 5,
    "start_time": "2022-05-11T21:40:30.476Z"
   },
   {
    "duration": 357,
    "start_time": "2022-05-11T21:40:30.483Z"
   },
   {
    "duration": 350,
    "start_time": "2022-05-11T21:40:30.842Z"
   },
   {
    "duration": 490,
    "start_time": "2022-05-11T21:40:31.194Z"
   },
   {
    "duration": 17,
    "start_time": "2022-05-11T21:40:31.687Z"
   },
   {
    "duration": 26,
    "start_time": "2022-05-11T21:40:31.706Z"
   },
   {
    "duration": 199,
    "start_time": "2022-05-11T21:40:31.734Z"
   },
   {
    "duration": 124,
    "start_time": "2022-05-11T21:40:31.935Z"
   },
   {
    "duration": 10,
    "start_time": "2022-05-11T21:40:32.061Z"
   },
   {
    "duration": 40,
    "start_time": "2022-05-11T21:40:32.073Z"
   },
   {
    "duration": 192,
    "start_time": "2022-05-11T21:40:32.115Z"
   },
   {
    "duration": 121,
    "start_time": "2022-05-11T21:40:32.309Z"
   },
   {
    "duration": 10,
    "start_time": "2022-05-11T21:40:32.431Z"
   },
   {
    "duration": 1213,
    "start_time": "2022-05-11T21:45:27.439Z"
   },
   {
    "duration": 59,
    "start_time": "2022-05-11T21:45:28.653Z"
   },
   {
    "duration": 17,
    "start_time": "2022-05-11T21:45:28.714Z"
   },
   {
    "duration": 31,
    "start_time": "2022-05-11T21:45:28.733Z"
   },
   {
    "duration": 71,
    "start_time": "2022-05-11T21:45:28.766Z"
   },
   {
    "duration": 6,
    "start_time": "2022-05-11T21:45:28.839Z"
   },
   {
    "duration": 12,
    "start_time": "2022-05-11T21:45:28.846Z"
   },
   {
    "duration": 13,
    "start_time": "2022-05-11T21:45:28.859Z"
   },
   {
    "duration": 43,
    "start_time": "2022-05-11T21:45:28.874Z"
   },
   {
    "duration": 5,
    "start_time": "2022-05-11T21:45:28.920Z"
   },
   {
    "duration": 24,
    "start_time": "2022-05-11T21:45:28.927Z"
   },
   {
    "duration": 19,
    "start_time": "2022-05-11T21:45:28.952Z"
   },
   {
    "duration": 42,
    "start_time": "2022-05-11T21:45:28.972Z"
   },
   {
    "duration": 11,
    "start_time": "2022-05-11T21:45:29.016Z"
   },
   {
    "duration": 10,
    "start_time": "2022-05-11T21:45:29.029Z"
   },
   {
    "duration": 4,
    "start_time": "2022-05-11T21:45:29.041Z"
   },
   {
    "duration": 17,
    "start_time": "2022-05-11T21:45:29.046Z"
   },
   {
    "duration": 46,
    "start_time": "2022-05-11T21:45:29.065Z"
   },
   {
    "duration": 6,
    "start_time": "2022-05-11T21:45:29.115Z"
   },
   {
    "duration": 9,
    "start_time": "2022-05-11T21:45:29.123Z"
   },
   {
    "duration": 7,
    "start_time": "2022-05-11T21:45:29.133Z"
   },
   {
    "duration": 16,
    "start_time": "2022-05-11T21:45:29.141Z"
   },
   {
    "duration": 183,
    "start_time": "2022-05-11T21:45:29.158Z"
   },
   {
    "duration": 108,
    "start_time": "2022-05-11T21:45:29.343Z"
   },
   {
    "duration": 18,
    "start_time": "2022-05-11T21:45:29.452Z"
   },
   {
    "duration": 29,
    "start_time": "2022-05-11T21:45:29.472Z"
   },
   {
    "duration": 243,
    "start_time": "2022-05-11T21:45:29.502Z"
   },
   {
    "duration": 9,
    "start_time": "2022-05-11T21:45:29.749Z"
   },
   {
    "duration": 14,
    "start_time": "2022-05-11T21:45:29.760Z"
   },
   {
    "duration": 40,
    "start_time": "2022-05-11T21:45:29.776Z"
   },
   {
    "duration": 277,
    "start_time": "2022-05-11T21:45:29.817Z"
   },
   {
    "duration": 18,
    "start_time": "2022-05-11T21:45:30.101Z"
   },
   {
    "duration": 5,
    "start_time": "2022-05-11T21:45:30.121Z"
   },
   {
    "duration": 562,
    "start_time": "2022-05-11T21:45:30.128Z"
   },
   {
    "duration": 18,
    "start_time": "2022-05-11T21:45:30.692Z"
   },
   {
    "duration": 558,
    "start_time": "2022-05-11T21:45:30.712Z"
   },
   {
    "duration": 12,
    "start_time": "2022-05-11T21:45:31.271Z"
   },
   {
    "duration": 447,
    "start_time": "2022-05-11T21:45:31.285Z"
   },
   {
    "duration": 12,
    "start_time": "2022-05-11T21:45:31.734Z"
   },
   {
    "duration": 564,
    "start_time": "2022-05-11T21:45:31.748Z"
   },
   {
    "duration": 9,
    "start_time": "2022-05-11T21:45:32.314Z"
   },
   {
    "duration": 18,
    "start_time": "2022-05-11T21:45:32.324Z"
   },
   {
    "duration": 209,
    "start_time": "2022-05-11T21:45:32.343Z"
   },
   {
    "duration": 280,
    "start_time": "2022-05-11T21:45:32.554Z"
   },
   {
    "duration": 394,
    "start_time": "2022-05-11T21:45:32.836Z"
   },
   {
    "duration": 3,
    "start_time": "2022-05-11T21:45:33.232Z"
   },
   {
    "duration": 343,
    "start_time": "2022-05-11T21:45:33.237Z"
   },
   {
    "duration": 345,
    "start_time": "2022-05-11T21:45:33.582Z"
   },
   {
    "duration": 448,
    "start_time": "2022-05-11T21:45:33.929Z"
   },
   {
    "duration": 7,
    "start_time": "2022-05-11T21:45:34.379Z"
   },
   {
    "duration": 37,
    "start_time": "2022-05-11T21:45:34.387Z"
   },
   {
    "duration": 299,
    "start_time": "2022-05-11T21:45:34.426Z"
   },
   {
    "duration": 124,
    "start_time": "2022-05-11T21:45:34.728Z"
   },
   {
    "duration": 9,
    "start_time": "2022-05-11T21:45:34.853Z"
   },
   {
    "duration": 22,
    "start_time": "2022-05-11T21:45:34.863Z"
   },
   {
    "duration": 196,
    "start_time": "2022-05-11T21:45:34.886Z"
   },
   {
    "duration": 117,
    "start_time": "2022-05-11T21:45:35.084Z"
   },
   {
    "duration": 12,
    "start_time": "2022-05-11T21:45:35.203Z"
   },
   {
    "duration": 1289,
    "start_time": "2022-05-11T21:47:48.377Z"
   },
   {
    "duration": 61,
    "start_time": "2022-05-11T21:47:49.668Z"
   },
   {
    "duration": 15,
    "start_time": "2022-05-11T21:47:49.731Z"
   },
   {
    "duration": 54,
    "start_time": "2022-05-11T21:47:49.748Z"
   },
   {
    "duration": 66,
    "start_time": "2022-05-11T21:47:49.804Z"
   },
   {
    "duration": 9,
    "start_time": "2022-05-11T21:47:49.872Z"
   },
   {
    "duration": 25,
    "start_time": "2022-05-11T21:47:49.883Z"
   },
   {
    "duration": 30,
    "start_time": "2022-05-11T21:47:49.911Z"
   },
   {
    "duration": 28,
    "start_time": "2022-05-11T21:47:49.943Z"
   },
   {
    "duration": 32,
    "start_time": "2022-05-11T21:47:49.976Z"
   },
   {
    "duration": 36,
    "start_time": "2022-05-11T21:47:50.015Z"
   },
   {
    "duration": 21,
    "start_time": "2022-05-11T21:47:50.053Z"
   },
   {
    "duration": 39,
    "start_time": "2022-05-11T21:47:50.076Z"
   },
   {
    "duration": 17,
    "start_time": "2022-05-11T21:47:50.117Z"
   },
   {
    "duration": 5,
    "start_time": "2022-05-11T21:47:50.136Z"
   },
   {
    "duration": 6,
    "start_time": "2022-05-11T21:47:50.143Z"
   },
   {
    "duration": 27,
    "start_time": "2022-05-11T21:47:50.151Z"
   },
   {
    "duration": 28,
    "start_time": "2022-05-11T21:47:50.199Z"
   },
   {
    "duration": 10,
    "start_time": "2022-05-11T21:47:50.229Z"
   },
   {
    "duration": 8,
    "start_time": "2022-05-11T21:47:50.241Z"
   },
   {
    "duration": 8,
    "start_time": "2022-05-11T21:47:50.251Z"
   },
   {
    "duration": 46,
    "start_time": "2022-05-11T21:47:50.260Z"
   },
   {
    "duration": 381,
    "start_time": "2022-05-11T21:47:50.310Z"
   },
   {
    "duration": 130,
    "start_time": "2022-05-11T21:47:50.694Z"
   },
   {
    "duration": 32,
    "start_time": "2022-05-11T21:47:50.826Z"
   },
   {
    "duration": 18,
    "start_time": "2022-05-11T21:47:50.861Z"
   },
   {
    "duration": 395,
    "start_time": "2022-05-11T21:47:50.881Z"
   },
   {
    "duration": 23,
    "start_time": "2022-05-11T21:47:51.281Z"
   },
   {
    "duration": 18,
    "start_time": "2022-05-11T21:47:51.307Z"
   },
   {
    "duration": 22,
    "start_time": "2022-05-11T21:47:51.327Z"
   },
   {
    "duration": 308,
    "start_time": "2022-05-11T21:47:51.351Z"
   },
   {
    "duration": 13,
    "start_time": "2022-05-11T21:47:51.661Z"
   },
   {
    "duration": 8,
    "start_time": "2022-05-11T21:47:51.675Z"
   },
   {
    "duration": 934,
    "start_time": "2022-05-11T21:47:51.699Z"
   },
   {
    "duration": 14,
    "start_time": "2022-05-11T21:47:52.635Z"
   },
   {
    "duration": 497,
    "start_time": "2022-05-11T21:47:52.651Z"
   },
   {
    "duration": 12,
    "start_time": "2022-05-11T21:47:53.150Z"
   },
   {
    "duration": 624,
    "start_time": "2022-05-11T21:47:53.163Z"
   },
   {
    "duration": 20,
    "start_time": "2022-05-11T21:47:53.789Z"
   },
   {
    "duration": 1034,
    "start_time": "2022-05-11T21:47:53.813Z"
   },
   {
    "duration": 9,
    "start_time": "2022-05-11T21:47:54.850Z"
   },
   {
    "duration": 21,
    "start_time": "2022-05-11T21:47:54.861Z"
   },
   {
    "duration": 431,
    "start_time": "2022-05-11T21:47:54.884Z"
   },
   {
    "duration": 282,
    "start_time": "2022-05-11T21:47:55.318Z"
   },
   {
    "duration": 303,
    "start_time": "2022-05-11T21:47:55.609Z"
   },
   {
    "duration": 5,
    "start_time": "2022-05-11T21:47:55.914Z"
   },
   {
    "duration": 365,
    "start_time": "2022-05-11T21:47:55.921Z"
   },
   {
    "duration": 373,
    "start_time": "2022-05-11T21:47:56.288Z"
   },
   {
    "duration": 484,
    "start_time": "2022-05-11T21:47:56.663Z"
   },
   {
    "duration": 8,
    "start_time": "2022-05-11T21:47:57.149Z"
   },
   {
    "duration": 54,
    "start_time": "2022-05-11T21:47:57.160Z"
   },
   {
    "duration": 393,
    "start_time": "2022-05-11T21:47:57.217Z"
   },
   {
    "duration": 198,
    "start_time": "2022-05-11T21:47:57.613Z"
   },
   {
    "duration": 10,
    "start_time": "2022-05-11T21:47:57.815Z"
   },
   {
    "duration": 26,
    "start_time": "2022-05-11T21:47:57.827Z"
   },
   {
    "duration": 286,
    "start_time": "2022-05-11T21:47:57.855Z"
   },
   {
    "duration": 187,
    "start_time": "2022-05-11T21:47:58.144Z"
   },
   {
    "duration": 15,
    "start_time": "2022-05-11T21:47:58.334Z"
   },
   {
    "duration": 1631,
    "start_time": "2022-05-11T21:50:37.905Z"
   },
   {
    "duration": 89,
    "start_time": "2022-05-11T21:50:39.539Z"
   },
   {
    "duration": 26,
    "start_time": "2022-05-11T21:50:39.631Z"
   },
   {
    "duration": 53,
    "start_time": "2022-05-11T21:50:39.661Z"
   },
   {
    "duration": 48,
    "start_time": "2022-05-11T21:50:39.716Z"
   },
   {
    "duration": 6,
    "start_time": "2022-05-11T21:50:39.766Z"
   },
   {
    "duration": 29,
    "start_time": "2022-05-11T21:50:39.774Z"
   },
   {
    "duration": 14,
    "start_time": "2022-05-11T21:50:39.805Z"
   },
   {
    "duration": 17,
    "start_time": "2022-05-11T21:50:39.821Z"
   },
   {
    "duration": 6,
    "start_time": "2022-05-11T21:50:39.841Z"
   },
   {
    "duration": 51,
    "start_time": "2022-05-11T21:50:39.849Z"
   },
   {
    "duration": 19,
    "start_time": "2022-05-11T21:50:39.902Z"
   },
   {
    "duration": 11,
    "start_time": "2022-05-11T21:50:39.922Z"
   },
   {
    "duration": 6,
    "start_time": "2022-05-11T21:50:39.935Z"
   },
   {
    "duration": 5,
    "start_time": "2022-05-11T21:50:39.942Z"
   },
   {
    "duration": 5,
    "start_time": "2022-05-11T21:50:39.949Z"
   },
   {
    "duration": 49,
    "start_time": "2022-05-11T21:50:39.955Z"
   },
   {
    "duration": 15,
    "start_time": "2022-05-11T21:50:40.005Z"
   },
   {
    "duration": 7,
    "start_time": "2022-05-11T21:50:40.022Z"
   },
   {
    "duration": 9,
    "start_time": "2022-05-11T21:50:40.030Z"
   },
   {
    "duration": 7,
    "start_time": "2022-05-11T21:50:40.041Z"
   },
   {
    "duration": 14,
    "start_time": "2022-05-11T21:50:40.049Z"
   },
   {
    "duration": 211,
    "start_time": "2022-05-11T21:50:40.065Z"
   },
   {
    "duration": 101,
    "start_time": "2022-05-11T21:50:40.278Z"
   },
   {
    "duration": 29,
    "start_time": "2022-05-11T21:50:40.381Z"
   },
   {
    "duration": 16,
    "start_time": "2022-05-11T21:50:40.411Z"
   },
   {
    "duration": 235,
    "start_time": "2022-05-11T21:50:40.428Z"
   },
   {
    "duration": 10,
    "start_time": "2022-05-11T21:50:40.667Z"
   },
   {
    "duration": 25,
    "start_time": "2022-05-11T21:50:40.679Z"
   },
   {
    "duration": 22,
    "start_time": "2022-05-11T21:50:40.705Z"
   },
   {
    "duration": 265,
    "start_time": "2022-05-11T21:50:40.729Z"
   },
   {
    "duration": 11,
    "start_time": "2022-05-11T21:50:41.000Z"
   },
   {
    "duration": 4,
    "start_time": "2022-05-11T21:50:41.013Z"
   },
   {
    "duration": 506,
    "start_time": "2022-05-11T21:50:41.018Z"
   },
   {
    "duration": 11,
    "start_time": "2022-05-11T21:50:41.526Z"
   },
   {
    "duration": 428,
    "start_time": "2022-05-11T21:50:41.539Z"
   },
   {
    "duration": 12,
    "start_time": "2022-05-11T21:50:41.969Z"
   },
   {
    "duration": 427,
    "start_time": "2022-05-11T21:50:41.982Z"
   },
   {
    "duration": 11,
    "start_time": "2022-05-11T21:50:42.411Z"
   },
   {
    "duration": 509,
    "start_time": "2022-05-11T21:50:42.423Z"
   },
   {
    "duration": 8,
    "start_time": "2022-05-11T21:50:42.935Z"
   },
   {
    "duration": 24,
    "start_time": "2022-05-11T21:50:42.945Z"
   },
   {
    "duration": 332,
    "start_time": "2022-05-11T21:50:42.971Z"
   },
   {
    "duration": 325,
    "start_time": "2022-05-11T21:50:43.305Z"
   },
   {
    "duration": 280,
    "start_time": "2022-05-11T21:50:43.632Z"
   },
   {
    "duration": 3,
    "start_time": "2022-05-11T21:50:43.914Z"
   },
   {
    "duration": 330,
    "start_time": "2022-05-11T21:50:43.919Z"
   },
   {
    "duration": 325,
    "start_time": "2022-05-11T21:50:44.250Z"
   },
   {
    "duration": 441,
    "start_time": "2022-05-11T21:50:44.577Z"
   },
   {
    "duration": 7,
    "start_time": "2022-05-11T21:50:45.019Z"
   },
   {
    "duration": 31,
    "start_time": "2022-05-11T21:50:45.028Z"
   },
   {
    "duration": 299,
    "start_time": "2022-05-11T21:50:45.061Z"
   },
   {
    "duration": 189,
    "start_time": "2022-05-11T21:50:45.362Z"
   },
   {
    "duration": 12,
    "start_time": "2022-05-11T21:50:45.553Z"
   },
   {
    "duration": 41,
    "start_time": "2022-05-11T21:50:45.567Z"
   },
   {
    "duration": 256,
    "start_time": "2022-05-11T21:50:45.610Z"
   },
   {
    "duration": 172,
    "start_time": "2022-05-11T21:50:45.868Z"
   },
   {
    "duration": 13,
    "start_time": "2022-05-11T21:50:46.043Z"
   },
   {
    "duration": 80,
    "start_time": "2022-05-12T13:30:40.748Z"
   },
   {
    "duration": 1521,
    "start_time": "2022-05-12T13:30:56.860Z"
   },
   {
    "duration": 140,
    "start_time": "2022-05-12T13:30:58.384Z"
   },
   {
    "duration": 22,
    "start_time": "2022-05-12T13:30:58.526Z"
   },
   {
    "duration": 63,
    "start_time": "2022-05-12T13:30:58.551Z"
   },
   {
    "duration": 81,
    "start_time": "2022-05-12T13:30:58.616Z"
   },
   {
    "duration": 9,
    "start_time": "2022-05-12T13:30:58.700Z"
   },
   {
    "duration": 41,
    "start_time": "2022-05-12T13:30:58.711Z"
   },
   {
    "duration": 28,
    "start_time": "2022-05-12T13:30:58.755Z"
   },
   {
    "duration": 38,
    "start_time": "2022-05-12T13:30:58.786Z"
   },
   {
    "duration": 8,
    "start_time": "2022-05-12T13:30:58.828Z"
   },
   {
    "duration": 49,
    "start_time": "2022-05-12T13:30:58.838Z"
   },
   {
    "duration": 32,
    "start_time": "2022-05-12T13:30:58.889Z"
   },
   {
    "duration": 40,
    "start_time": "2022-05-12T13:30:58.924Z"
   },
   {
    "duration": 22,
    "start_time": "2022-05-12T13:30:58.967Z"
   },
   {
    "duration": 13,
    "start_time": "2022-05-12T13:30:58.992Z"
   },
   {
    "duration": 13,
    "start_time": "2022-05-12T13:30:59.007Z"
   },
   {
    "duration": 32,
    "start_time": "2022-05-12T13:30:59.022Z"
   },
   {
    "duration": 20,
    "start_time": "2022-05-12T13:30:59.057Z"
   },
   {
    "duration": 14,
    "start_time": "2022-05-12T13:30:59.079Z"
   },
   {
    "duration": 14,
    "start_time": "2022-05-12T13:30:59.096Z"
   },
   {
    "duration": 50,
    "start_time": "2022-05-12T13:30:59.113Z"
   },
   {
    "duration": 86,
    "start_time": "2022-05-12T13:30:59.166Z"
   },
   {
    "duration": 614,
    "start_time": "2022-05-12T13:30:59.255Z"
   },
   {
    "duration": 382,
    "start_time": "2022-05-12T13:30:59.872Z"
   },
   {
    "duration": 32,
    "start_time": "2022-05-12T13:31:00.256Z"
   },
   {
    "duration": 80,
    "start_time": "2022-05-12T13:31:00.290Z"
   },
   {
    "duration": 884,
    "start_time": "2022-05-12T13:31:00.372Z"
   },
   {
    "duration": 15,
    "start_time": "2022-05-12T13:31:01.261Z"
   },
   {
    "duration": 90,
    "start_time": "2022-05-12T13:31:01.279Z"
   },
   {
    "duration": 92,
    "start_time": "2022-05-12T13:31:01.371Z"
   },
   {
    "duration": 795,
    "start_time": "2022-05-12T13:31:01.465Z"
   },
   {
    "duration": 18,
    "start_time": "2022-05-12T13:31:02.263Z"
   },
   {
    "duration": 10,
    "start_time": "2022-05-12T13:31:02.283Z"
   },
   {
    "duration": 888,
    "start_time": "2022-05-12T13:31:02.295Z"
   },
   {
    "duration": 17,
    "start_time": "2022-05-12T13:31:03.185Z"
   },
   {
    "duration": 801,
    "start_time": "2022-05-12T13:31:03.204Z"
   },
   {
    "duration": 17,
    "start_time": "2022-05-12T13:31:04.007Z"
   },
   {
    "duration": 831,
    "start_time": "2022-05-12T13:31:04.027Z"
   },
   {
    "duration": 18,
    "start_time": "2022-05-12T13:31:04.861Z"
   },
   {
    "duration": 896,
    "start_time": "2022-05-12T13:31:04.881Z"
   },
   {
    "duration": 13,
    "start_time": "2022-05-12T13:31:05.780Z"
   },
   {
    "duration": 32,
    "start_time": "2022-05-12T13:31:05.796Z"
   },
   {
    "duration": 431,
    "start_time": "2022-05-12T13:31:05.852Z"
   },
   {
    "duration": 512,
    "start_time": "2022-05-12T13:31:06.286Z"
   },
   {
    "duration": 516,
    "start_time": "2022-05-12T13:31:06.801Z"
   },
   {
    "duration": 6,
    "start_time": "2022-05-12T13:31:07.320Z"
   },
   {
    "duration": 650,
    "start_time": "2022-05-12T13:31:07.329Z"
   },
   {
    "duration": 435,
    "start_time": "2022-05-12T13:31:07.982Z"
   },
   {
    "duration": 735,
    "start_time": "2022-05-12T13:31:08.419Z"
   },
   {
    "duration": 758,
    "start_time": "2022-05-12T13:31:09.157Z"
   },
   {
    "duration": 11,
    "start_time": "2022-05-12T13:31:09.917Z"
   },
   {
    "duration": 51,
    "start_time": "2022-05-12T13:31:09.930Z"
   },
   {
    "duration": 479,
    "start_time": "2022-05-12T13:31:09.983Z"
   },
   {
    "duration": 452,
    "start_time": "2022-05-12T13:31:10.465Z"
   },
   {
    "duration": 18,
    "start_time": "2022-05-12T13:31:10.920Z"
   },
   {
    "duration": 51,
    "start_time": "2022-05-12T13:31:10.953Z"
   },
   {
    "duration": 493,
    "start_time": "2022-05-12T13:31:11.007Z"
   },
   {
    "duration": 209,
    "start_time": "2022-05-12T13:31:11.503Z"
   },
   {
    "duration": 14,
    "start_time": "2022-05-12T13:31:11.715Z"
   },
   {
    "duration": 566,
    "start_time": "2022-05-12T13:32:15.007Z"
   },
   {
    "duration": 443,
    "start_time": "2022-05-12T13:32:38.549Z"
   },
   {
    "duration": 423,
    "start_time": "2022-05-12T13:33:06.430Z"
   },
   {
    "duration": 532,
    "start_time": "2022-05-12T13:33:15.051Z"
   },
   {
    "duration": 1522,
    "start_time": "2022-05-12T13:34:03.345Z"
   },
   {
    "duration": 67,
    "start_time": "2022-05-12T13:34:04.870Z"
   },
   {
    "duration": 30,
    "start_time": "2022-05-12T13:34:04.939Z"
   },
   {
    "duration": 48,
    "start_time": "2022-05-12T13:34:04.972Z"
   },
   {
    "duration": 96,
    "start_time": "2022-05-12T13:34:05.023Z"
   },
   {
    "duration": 9,
    "start_time": "2022-05-12T13:34:05.121Z"
   },
   {
    "duration": 17,
    "start_time": "2022-05-12T13:34:05.152Z"
   },
   {
    "duration": 25,
    "start_time": "2022-05-12T13:34:05.171Z"
   },
   {
    "duration": 53,
    "start_time": "2022-05-12T13:34:05.198Z"
   },
   {
    "duration": 10,
    "start_time": "2022-05-12T13:34:05.257Z"
   },
   {
    "duration": 32,
    "start_time": "2022-05-12T13:34:05.270Z"
   },
   {
    "duration": 67,
    "start_time": "2022-05-12T13:34:05.305Z"
   },
   {
    "duration": 16,
    "start_time": "2022-05-12T13:34:05.374Z"
   },
   {
    "duration": 10,
    "start_time": "2022-05-12T13:34:05.392Z"
   },
   {
    "duration": 11,
    "start_time": "2022-05-12T13:34:05.403Z"
   },
   {
    "duration": 36,
    "start_time": "2022-05-12T13:34:05.416Z"
   },
   {
    "duration": 26,
    "start_time": "2022-05-12T13:34:05.454Z"
   },
   {
    "duration": 20,
    "start_time": "2022-05-12T13:34:05.482Z"
   },
   {
    "duration": 10,
    "start_time": "2022-05-12T13:34:05.504Z"
   },
   {
    "duration": 39,
    "start_time": "2022-05-12T13:34:05.516Z"
   },
   {
    "duration": 12,
    "start_time": "2022-05-12T13:34:05.557Z"
   },
   {
    "duration": 30,
    "start_time": "2022-05-12T13:34:05.571Z"
   },
   {
    "duration": 340,
    "start_time": "2022-05-12T13:34:05.603Z"
   },
   {
    "duration": 189,
    "start_time": "2022-05-12T13:34:05.945Z"
   },
   {
    "duration": 41,
    "start_time": "2022-05-12T13:34:06.136Z"
   },
   {
    "duration": 26,
    "start_time": "2022-05-12T13:34:06.180Z"
   },
   {
    "duration": 446,
    "start_time": "2022-05-12T13:34:06.209Z"
   },
   {
    "duration": 13,
    "start_time": "2022-05-12T13:34:06.661Z"
   },
   {
    "duration": 21,
    "start_time": "2022-05-12T13:34:06.676Z"
   },
   {
    "duration": 60,
    "start_time": "2022-05-12T13:34:06.699Z"
   },
   {
    "duration": 490,
    "start_time": "2022-05-12T13:34:06.761Z"
   },
   {
    "duration": 18,
    "start_time": "2022-05-12T13:34:07.254Z"
   },
   {
    "duration": 11,
    "start_time": "2022-05-12T13:34:07.274Z"
   },
   {
    "duration": 1081,
    "start_time": "2022-05-12T13:34:07.287Z"
   },
   {
    "duration": 17,
    "start_time": "2022-05-12T13:34:08.370Z"
   },
   {
    "duration": 1565,
    "start_time": "2022-05-12T13:34:08.389Z"
   },
   {
    "duration": 17,
    "start_time": "2022-05-12T13:34:09.957Z"
   },
   {
    "duration": 1151,
    "start_time": "2022-05-12T13:34:09.976Z"
   },
   {
    "duration": 26,
    "start_time": "2022-05-12T13:34:11.129Z"
   },
   {
    "duration": 859,
    "start_time": "2022-05-12T13:34:11.157Z"
   },
   {
    "duration": 10,
    "start_time": "2022-05-12T13:34:12.019Z"
   },
   {
    "duration": 38,
    "start_time": "2022-05-12T13:34:12.031Z"
   },
   {
    "duration": 361,
    "start_time": "2022-05-12T13:34:12.071Z"
   },
   {
    "duration": 487,
    "start_time": "2022-05-12T13:34:12.435Z"
   },
   {
    "duration": 503,
    "start_time": "2022-05-12T13:34:12.924Z"
   },
   {
    "duration": 7,
    "start_time": "2022-05-12T13:34:13.430Z"
   },
   {
    "duration": 613,
    "start_time": "2022-05-12T13:34:13.453Z"
   },
   {
    "duration": 494,
    "start_time": "2022-05-12T13:34:14.068Z"
   },
   {
    "duration": 738,
    "start_time": "2022-05-12T13:34:14.564Z"
   },
   {
    "duration": 653,
    "start_time": "2022-05-12T13:34:15.305Z"
   },
   {
    "duration": 11,
    "start_time": "2022-05-12T13:34:15.961Z"
   },
   {
    "duration": 42,
    "start_time": "2022-05-12T13:34:15.974Z"
   },
   {
    "duration": 350,
    "start_time": "2022-05-12T13:34:16.019Z"
   },
   {
    "duration": 218,
    "start_time": "2022-05-12T13:34:16.371Z"
   },
   {
    "duration": 14,
    "start_time": "2022-05-12T13:34:16.591Z"
   },
   {
    "duration": 53,
    "start_time": "2022-05-12T13:34:16.607Z"
   },
   {
    "duration": 296,
    "start_time": "2022-05-12T13:34:16.662Z"
   },
   {
    "duration": 207,
    "start_time": "2022-05-12T13:34:16.961Z"
   },
   {
    "duration": 13,
    "start_time": "2022-05-12T13:34:17.171Z"
   },
   {
    "duration": 107,
    "start_time": "2022-05-12T13:35:34.034Z"
   },
   {
    "duration": 1534,
    "start_time": "2022-05-12T13:40:51.241Z"
   },
   {
    "duration": 139,
    "start_time": "2022-05-12T13:40:52.777Z"
   },
   {
    "duration": 21,
    "start_time": "2022-05-12T13:40:52.918Z"
   },
   {
    "duration": 53,
    "start_time": "2022-05-12T13:40:52.941Z"
   },
   {
    "duration": 101,
    "start_time": "2022-05-12T13:40:52.997Z"
   },
   {
    "duration": 9,
    "start_time": "2022-05-12T13:40:53.100Z"
   },
   {
    "duration": 42,
    "start_time": "2022-05-12T13:40:53.111Z"
   },
   {
    "duration": 22,
    "start_time": "2022-05-12T13:40:53.155Z"
   },
   {
    "duration": 26,
    "start_time": "2022-05-12T13:40:53.179Z"
   },
   {
    "duration": 8,
    "start_time": "2022-05-12T13:40:53.207Z"
   },
   {
    "duration": 32,
    "start_time": "2022-05-12T13:40:53.253Z"
   },
   {
    "duration": 32,
    "start_time": "2022-05-12T13:40:53.287Z"
   },
   {
    "duration": 42,
    "start_time": "2022-05-12T13:40:53.322Z"
   },
   {
    "duration": 11,
    "start_time": "2022-05-12T13:40:53.369Z"
   },
   {
    "duration": 8,
    "start_time": "2022-05-12T13:40:53.382Z"
   },
   {
    "duration": 9,
    "start_time": "2022-05-12T13:40:53.392Z"
   },
   {
    "duration": 65,
    "start_time": "2022-05-12T13:40:53.403Z"
   },
   {
    "duration": 21,
    "start_time": "2022-05-12T13:40:53.470Z"
   },
   {
    "duration": 9,
    "start_time": "2022-05-12T13:40:53.493Z"
   },
   {
    "duration": 48,
    "start_time": "2022-05-12T13:40:53.504Z"
   },
   {
    "duration": 8,
    "start_time": "2022-05-12T13:40:53.554Z"
   },
   {
    "duration": 20,
    "start_time": "2022-05-12T13:40:53.564Z"
   },
   {
    "duration": 350,
    "start_time": "2022-05-12T13:40:53.586Z"
   },
   {
    "duration": 190,
    "start_time": "2022-05-12T13:40:53.938Z"
   },
   {
    "duration": 42,
    "start_time": "2022-05-12T13:40:54.132Z"
   },
   {
    "duration": 24,
    "start_time": "2022-05-12T13:40:54.176Z"
   },
   {
    "duration": 437,
    "start_time": "2022-05-12T13:40:54.203Z"
   },
   {
    "duration": 17,
    "start_time": "2022-05-12T13:40:54.642Z"
   },
   {
    "duration": 20,
    "start_time": "2022-05-12T13:40:54.661Z"
   },
   {
    "duration": 71,
    "start_time": "2022-05-12T13:40:54.683Z"
   },
   {
    "duration": 521,
    "start_time": "2022-05-12T13:40:54.757Z"
   },
   {
    "duration": 20,
    "start_time": "2022-05-12T13:40:55.281Z"
   },
   {
    "duration": 5,
    "start_time": "2022-05-12T13:40:55.304Z"
   },
   {
    "duration": 1001,
    "start_time": "2022-05-12T13:40:55.312Z"
   },
   {
    "duration": 17,
    "start_time": "2022-05-12T13:40:56.316Z"
   },
   {
    "duration": 800,
    "start_time": "2022-05-12T13:40:56.335Z"
   },
   {
    "duration": 26,
    "start_time": "2022-05-12T13:40:57.137Z"
   },
   {
    "duration": 791,
    "start_time": "2022-05-12T13:40:57.165Z"
   },
   {
    "duration": 16,
    "start_time": "2022-05-12T13:40:57.958Z"
   },
   {
    "duration": 876,
    "start_time": "2022-05-12T13:40:57.976Z"
   },
   {
    "duration": 10,
    "start_time": "2022-05-12T13:40:58.858Z"
   },
   {
    "duration": 28,
    "start_time": "2022-05-12T13:40:58.871Z"
   },
   {
    "duration": 396,
    "start_time": "2022-05-12T13:40:58.902Z"
   },
   {
    "duration": 495,
    "start_time": "2022-05-12T13:40:59.301Z"
   },
   {
    "duration": 521,
    "start_time": "2022-05-12T13:40:59.799Z"
   },
   {
    "duration": 6,
    "start_time": "2022-05-12T13:41:00.323Z"
   },
   {
    "duration": 706,
    "start_time": "2022-05-12T13:41:00.331Z"
   },
   {
    "duration": 513,
    "start_time": "2022-05-12T13:41:01.040Z"
   },
   {
    "duration": 762,
    "start_time": "2022-05-12T13:41:01.556Z"
   },
   {
    "duration": 640,
    "start_time": "2022-05-12T13:41:02.321Z"
   },
   {
    "duration": 9,
    "start_time": "2022-05-12T13:41:02.964Z"
   },
   {
    "duration": 52,
    "start_time": "2022-05-12T13:41:02.976Z"
   },
   {
    "duration": 477,
    "start_time": "2022-05-12T13:41:03.051Z"
   },
   {
    "duration": 225,
    "start_time": "2022-05-12T13:41:03.530Z"
   },
   {
    "duration": 14,
    "start_time": "2022-05-12T13:41:03.757Z"
   },
   {
    "duration": 42,
    "start_time": "2022-05-12T13:41:03.774Z"
   },
   {
    "duration": 319,
    "start_time": "2022-05-12T13:41:03.819Z"
   },
   {
    "duration": 206,
    "start_time": "2022-05-12T13:41:04.140Z"
   },
   {
    "duration": 14,
    "start_time": "2022-05-12T13:41:04.352Z"
   },
   {
    "duration": 992,
    "start_time": "2022-06-16T05:16:45.297Z"
   },
   {
    "duration": 184,
    "start_time": "2022-06-16T05:16:46.291Z"
   },
   {
    "duration": 2,
    "start_time": "2022-06-16T05:16:46.477Z"
   },
   {
    "duration": 30,
    "start_time": "2022-06-16T05:16:46.481Z"
   },
   {
    "duration": 19,
    "start_time": "2022-06-16T05:16:46.513Z"
   },
   {
    "duration": 23,
    "start_time": "2022-06-16T05:16:46.534Z"
   },
   {
    "duration": 18,
    "start_time": "2022-06-16T05:16:46.559Z"
   },
   {
    "duration": 33,
    "start_time": "2022-06-16T05:16:46.579Z"
   },
   {
    "duration": 30,
    "start_time": "2022-06-16T05:16:46.614Z"
   },
   {
    "duration": 24,
    "start_time": "2022-06-16T05:16:46.647Z"
   },
   {
    "duration": 7,
    "start_time": "2022-06-16T05:16:46.672Z"
   },
   {
    "duration": 10,
    "start_time": "2022-06-16T05:16:46.681Z"
   },
   {
    "duration": 12,
    "start_time": "2022-06-16T05:16:46.694Z"
   },
   {
    "duration": 18,
    "start_time": "2022-06-16T05:16:46.726Z"
   },
   {
    "duration": 19,
    "start_time": "2022-06-16T05:16:46.747Z"
   },
   {
    "duration": 262,
    "start_time": "2022-06-16T05:16:46.767Z"
   },
   {
    "duration": 146,
    "start_time": "2022-06-16T05:16:47.031Z"
   },
   {
    "duration": 132,
    "start_time": "2022-06-16T05:16:47.178Z"
   },
   {
    "duration": 262,
    "start_time": "2022-06-16T05:16:47.311Z"
   },
   {
    "duration": 141,
    "start_time": "2022-06-16T05:16:47.574Z"
   },
   {
    "duration": 265,
    "start_time": "2022-06-16T05:16:47.716Z"
   },
   {
    "duration": 10,
    "start_time": "2022-06-16T05:16:47.982Z"
   },
   {
    "duration": 135,
    "start_time": "2022-06-16T05:16:47.993Z"
   },
   {
    "duration": 4,
    "start_time": "2022-06-16T05:16:48.130Z"
   },
   {
    "duration": 129,
    "start_time": "2022-06-16T05:16:48.136Z"
   },
   {
    "duration": 4,
    "start_time": "2022-06-16T05:16:48.266Z"
   },
   {
    "duration": 212,
    "start_time": "2022-06-16T05:16:48.272Z"
   },
   {
    "duration": 131,
    "start_time": "2022-06-16T05:16:48.486Z"
   },
   {
    "duration": 25,
    "start_time": "2022-06-16T05:16:48.619Z"
   },
   {
    "duration": 11,
    "start_time": "2022-06-16T05:16:48.646Z"
   },
   {
    "duration": 12,
    "start_time": "2022-06-16T05:16:48.658Z"
   },
   {
    "duration": 11,
    "start_time": "2022-06-16T05:16:48.672Z"
   },
   {
    "duration": 23,
    "start_time": "2022-06-16T05:16:48.684Z"
   },
   {
    "duration": 13,
    "start_time": "2022-06-16T05:16:48.725Z"
   },
   {
    "duration": 4,
    "start_time": "2022-06-16T05:31:03.507Z"
   },
   {
    "duration": 12,
    "start_time": "2022-06-16T05:32:01.778Z"
   },
   {
    "duration": 5,
    "start_time": "2022-06-16T05:32:14.320Z"
   },
   {
    "duration": 5,
    "start_time": "2022-06-16T05:34:50.725Z"
   },
   {
    "duration": 13,
    "start_time": "2022-06-16T05:35:12.930Z"
   },
   {
    "duration": 9,
    "start_time": "2022-06-16T05:35:20.108Z"
   },
   {
    "duration": 51,
    "start_time": "2022-06-16T10:49:35.874Z"
   },
   {
    "duration": 1520,
    "start_time": "2022-06-16T10:49:42.776Z"
   },
   {
    "duration": 214,
    "start_time": "2022-06-16T10:49:44.298Z"
   },
   {
    "duration": 4,
    "start_time": "2022-06-16T10:49:44.515Z"
   },
   {
    "duration": 35,
    "start_time": "2022-06-16T10:49:44.521Z"
   },
   {
    "duration": 17,
    "start_time": "2022-06-16T10:49:44.559Z"
   },
   {
    "duration": 17,
    "start_time": "2022-06-16T10:49:44.578Z"
   },
   {
    "duration": 11,
    "start_time": "2022-06-16T10:49:44.597Z"
   },
   {
    "duration": 64,
    "start_time": "2022-06-16T10:49:44.610Z"
   },
   {
    "duration": 19,
    "start_time": "2022-06-16T10:49:44.676Z"
   },
   {
    "duration": 22,
    "start_time": "2022-06-16T10:49:44.697Z"
   },
   {
    "duration": 12,
    "start_time": "2022-06-16T10:49:44.720Z"
   },
   {
    "duration": 12,
    "start_time": "2022-06-16T10:49:44.734Z"
   },
   {
    "duration": 132,
    "start_time": "2022-06-16T10:49:44.760Z"
   },
   {
    "duration": 0,
    "start_time": "2022-06-16T10:49:44.894Z"
   },
   {
    "duration": 0,
    "start_time": "2022-06-16T10:49:44.895Z"
   },
   {
    "duration": 0,
    "start_time": "2022-06-16T10:49:44.896Z"
   },
   {
    "duration": 0,
    "start_time": "2022-06-16T10:49:44.898Z"
   },
   {
    "duration": 0,
    "start_time": "2022-06-16T10:49:44.899Z"
   },
   {
    "duration": 0,
    "start_time": "2022-06-16T10:49:44.899Z"
   },
   {
    "duration": 0,
    "start_time": "2022-06-16T10:49:44.900Z"
   },
   {
    "duration": 0,
    "start_time": "2022-06-16T10:49:44.901Z"
   },
   {
    "duration": 0,
    "start_time": "2022-06-16T10:49:44.902Z"
   },
   {
    "duration": 0,
    "start_time": "2022-06-16T10:49:44.903Z"
   },
   {
    "duration": 0,
    "start_time": "2022-06-16T10:49:44.904Z"
   },
   {
    "duration": 0,
    "start_time": "2022-06-16T10:49:44.905Z"
   },
   {
    "duration": 0,
    "start_time": "2022-06-16T10:49:44.906Z"
   },
   {
    "duration": 0,
    "start_time": "2022-06-16T10:49:44.907Z"
   },
   {
    "duration": 1,
    "start_time": "2022-06-16T10:49:44.907Z"
   },
   {
    "duration": 0,
    "start_time": "2022-06-16T10:49:44.909Z"
   },
   {
    "duration": 0,
    "start_time": "2022-06-16T10:49:44.910Z"
   },
   {
    "duration": 0,
    "start_time": "2022-06-16T10:49:44.911Z"
   },
   {
    "duration": 0,
    "start_time": "2022-06-16T10:49:44.912Z"
   },
   {
    "duration": 0,
    "start_time": "2022-06-16T10:49:44.914Z"
   },
   {
    "duration": 0,
    "start_time": "2022-06-16T10:49:44.915Z"
   },
   {
    "duration": 0,
    "start_time": "2022-06-16T10:49:44.916Z"
   },
   {
    "duration": 0,
    "start_time": "2022-06-16T10:49:44.917Z"
   },
   {
    "duration": 19,
    "start_time": "2022-06-16T10:50:15.401Z"
   },
   {
    "duration": 16,
    "start_time": "2022-06-16T10:50:44.968Z"
   },
   {
    "duration": 12,
    "start_time": "2022-06-16T10:51:51.681Z"
   },
   {
    "duration": 12,
    "start_time": "2022-06-16T10:52:18.368Z"
   },
   {
    "duration": 7,
    "start_time": "2022-06-16T10:52:41.690Z"
   },
   {
    "duration": 7,
    "start_time": "2022-06-16T10:52:57.201Z"
   },
   {
    "duration": 9,
    "start_time": "2022-06-16T10:53:25.393Z"
   },
   {
    "duration": 7,
    "start_time": "2022-06-16T10:53:46.779Z"
   },
   {
    "duration": 14,
    "start_time": "2022-06-16T10:54:35.812Z"
   },
   {
    "duration": 8,
    "start_time": "2022-06-16T10:55:36.851Z"
   },
   {
    "duration": 66,
    "start_time": "2022-06-16T11:13:22.889Z"
   },
   {
    "duration": 77,
    "start_time": "2022-06-16T11:15:14.506Z"
   },
   {
    "duration": 72,
    "start_time": "2022-06-16T11:15:22.809Z"
   },
   {
    "duration": 6,
    "start_time": "2022-06-16T11:22:44.539Z"
   },
   {
    "duration": 29,
    "start_time": "2022-06-16T11:28:41.069Z"
   },
   {
    "duration": 10,
    "start_time": "2022-06-16T11:28:46.795Z"
   },
   {
    "duration": 9,
    "start_time": "2022-06-16T11:29:01.603Z"
   },
   {
    "duration": 11,
    "start_time": "2022-06-16T11:29:24.279Z"
   },
   {
    "duration": 12,
    "start_time": "2022-06-16T11:29:31.648Z"
   },
   {
    "duration": 7,
    "start_time": "2022-06-16T11:29:38.570Z"
   },
   {
    "duration": 7,
    "start_time": "2022-06-16T11:29:45.782Z"
   },
   {
    "duration": 9,
    "start_time": "2022-06-16T11:30:02.008Z"
   },
   {
    "duration": 8,
    "start_time": "2022-06-16T11:30:05.819Z"
   },
   {
    "duration": 10,
    "start_time": "2022-06-16T11:30:56.279Z"
   },
   {
    "duration": 11,
    "start_time": "2022-06-16T11:31:10.655Z"
   },
   {
    "duration": 9,
    "start_time": "2022-06-16T11:31:35.294Z"
   },
   {
    "duration": 16,
    "start_time": "2022-06-16T11:35:33.762Z"
   },
   {
    "duration": 4,
    "start_time": "2022-06-16T11:45:07.886Z"
   },
   {
    "duration": 8,
    "start_time": "2022-06-16T11:45:08.667Z"
   },
   {
    "duration": 180,
    "start_time": "2022-06-16T12:05:39.166Z"
   },
   {
    "duration": 15,
    "start_time": "2022-06-16T12:22:14.811Z"
   },
   {
    "duration": 10,
    "start_time": "2022-06-16T12:22:19.838Z"
   },
   {
    "duration": 9,
    "start_time": "2022-06-16T12:24:29.498Z"
   },
   {
    "duration": 124,
    "start_time": "2022-06-16T12:27:46.489Z"
   },
   {
    "duration": 139,
    "start_time": "2022-06-16T12:28:13.561Z"
   },
   {
    "duration": 1307,
    "start_time": "2022-06-16T18:01:21.949Z"
   },
   {
    "duration": 258,
    "start_time": "2022-06-16T18:01:23.260Z"
   },
   {
    "duration": 3,
    "start_time": "2022-06-16T18:01:23.520Z"
   },
   {
    "duration": 39,
    "start_time": "2022-06-16T18:01:23.524Z"
   },
   {
    "duration": 15,
    "start_time": "2022-06-16T18:01:23.565Z"
   },
   {
    "duration": 17,
    "start_time": "2022-06-16T18:01:23.582Z"
   },
   {
    "duration": 10,
    "start_time": "2022-06-16T18:01:23.600Z"
   },
   {
    "duration": 43,
    "start_time": "2022-06-16T18:01:23.612Z"
   },
   {
    "duration": 18,
    "start_time": "2022-06-16T18:01:23.657Z"
   },
   {
    "duration": 20,
    "start_time": "2022-06-16T18:01:23.677Z"
   },
   {
    "duration": 10,
    "start_time": "2022-06-16T18:01:23.699Z"
   },
   {
    "duration": 26,
    "start_time": "2022-06-16T18:01:23.710Z"
   },
   {
    "duration": 18,
    "start_time": "2022-06-16T18:01:23.738Z"
   },
   {
    "duration": 71,
    "start_time": "2022-06-16T18:01:23.759Z"
   },
   {
    "duration": 11,
    "start_time": "2022-06-16T18:01:23.832Z"
   },
   {
    "duration": 30,
    "start_time": "2022-06-16T18:01:23.844Z"
   },
   {
    "duration": 14,
    "start_time": "2022-06-16T18:01:23.876Z"
   },
   {
    "duration": 27,
    "start_time": "2022-06-16T18:01:23.892Z"
   },
   {
    "duration": 9,
    "start_time": "2022-06-16T18:01:23.921Z"
   },
   {
    "duration": 140,
    "start_time": "2022-06-16T18:01:23.932Z"
   },
   {
    "duration": 239,
    "start_time": "2022-06-16T18:01:24.073Z"
   },
   {
    "duration": 0,
    "start_time": "2022-06-16T18:01:24.314Z"
   },
   {
    "duration": 0,
    "start_time": "2022-06-16T18:01:24.315Z"
   },
   {
    "duration": 0,
    "start_time": "2022-06-16T18:01:24.316Z"
   },
   {
    "duration": 0,
    "start_time": "2022-06-16T18:01:24.317Z"
   },
   {
    "duration": 0,
    "start_time": "2022-06-16T18:01:24.326Z"
   },
   {
    "duration": 0,
    "start_time": "2022-06-16T18:01:24.328Z"
   },
   {
    "duration": 0,
    "start_time": "2022-06-16T18:01:24.329Z"
   },
   {
    "duration": 0,
    "start_time": "2022-06-16T18:01:24.330Z"
   },
   {
    "duration": 0,
    "start_time": "2022-06-16T18:01:24.331Z"
   },
   {
    "duration": 0,
    "start_time": "2022-06-16T18:01:24.332Z"
   },
   {
    "duration": 0,
    "start_time": "2022-06-16T18:01:24.333Z"
   },
   {
    "duration": 0,
    "start_time": "2022-06-16T18:01:24.334Z"
   },
   {
    "duration": 0,
    "start_time": "2022-06-16T18:01:24.337Z"
   },
   {
    "duration": 0,
    "start_time": "2022-06-16T18:01:24.338Z"
   },
   {
    "duration": 0,
    "start_time": "2022-06-16T18:01:24.339Z"
   },
   {
    "duration": 0,
    "start_time": "2022-06-16T18:01:24.341Z"
   },
   {
    "duration": 0,
    "start_time": "2022-06-16T18:01:24.342Z"
   },
   {
    "duration": 0,
    "start_time": "2022-06-16T18:01:24.343Z"
   },
   {
    "duration": 0,
    "start_time": "2022-06-16T18:01:24.345Z"
   },
   {
    "duration": 0,
    "start_time": "2022-06-16T18:01:24.345Z"
   },
   {
    "duration": 267,
    "start_time": "2022-06-16T18:01:58.759Z"
   },
   {
    "duration": 156,
    "start_time": "2022-06-16T18:01:59.941Z"
   },
   {
    "duration": 9,
    "start_time": "2022-06-16T18:02:31.082Z"
   },
   {
    "duration": 11,
    "start_time": "2022-06-16T18:03:10.586Z"
   },
   {
    "duration": 6,
    "start_time": "2022-06-16T18:03:23.848Z"
   },
   {
    "duration": 5,
    "start_time": "2022-06-16T18:03:32.099Z"
   },
   {
    "duration": 6,
    "start_time": "2022-06-16T18:05:26.493Z"
   },
   {
    "duration": 150,
    "start_time": "2022-06-16T18:06:31.602Z"
   },
   {
    "duration": 179,
    "start_time": "2022-06-16T18:09:14.319Z"
   },
   {
    "duration": 179,
    "start_time": "2022-06-16T18:09:24.166Z"
   },
   {
    "duration": 164,
    "start_time": "2022-06-16T18:18:11.345Z"
   },
   {
    "duration": 163,
    "start_time": "2022-06-16T18:19:14.519Z"
   },
   {
    "duration": 47,
    "start_time": "2022-06-16T21:06:27.223Z"
   },
   {
    "duration": 1306,
    "start_time": "2022-06-16T21:06:33.859Z"
   },
   {
    "duration": 199,
    "start_time": "2022-06-16T21:06:35.167Z"
   },
   {
    "duration": 3,
    "start_time": "2022-06-16T21:06:35.368Z"
   },
   {
    "duration": 29,
    "start_time": "2022-06-16T21:06:35.373Z"
   },
   {
    "duration": 16,
    "start_time": "2022-06-16T21:06:35.405Z"
   },
   {
    "duration": 14,
    "start_time": "2022-06-16T21:06:35.423Z"
   },
   {
    "duration": 11,
    "start_time": "2022-06-16T21:06:35.438Z"
   },
   {
    "duration": 52,
    "start_time": "2022-06-16T21:06:35.451Z"
   },
   {
    "duration": 18,
    "start_time": "2022-06-16T21:06:35.505Z"
   },
   {
    "duration": 20,
    "start_time": "2022-06-16T21:06:35.525Z"
   },
   {
    "duration": 7,
    "start_time": "2022-06-16T21:06:35.547Z"
   },
   {
    "duration": 6,
    "start_time": "2022-06-16T21:06:35.556Z"
   },
   {
    "duration": 33,
    "start_time": "2022-06-16T21:06:35.564Z"
   },
   {
    "duration": 65,
    "start_time": "2022-06-16T21:06:35.599Z"
   },
   {
    "duration": 7,
    "start_time": "2022-06-16T21:06:35.666Z"
   },
   {
    "duration": 30,
    "start_time": "2022-06-16T21:06:35.675Z"
   },
   {
    "duration": 13,
    "start_time": "2022-06-16T21:06:35.707Z"
   },
   {
    "duration": 10,
    "start_time": "2022-06-16T21:06:35.721Z"
   },
   {
    "duration": 5,
    "start_time": "2022-06-16T21:06:35.733Z"
   },
   {
    "duration": 147,
    "start_time": "2022-06-16T21:06:35.739Z"
   },
   {
    "duration": 228,
    "start_time": "2022-06-16T21:06:35.888Z"
   },
   {
    "duration": 0,
    "start_time": "2022-06-16T21:06:36.118Z"
   },
   {
    "duration": 0,
    "start_time": "2022-06-16T21:06:36.119Z"
   },
   {
    "duration": 0,
    "start_time": "2022-06-16T21:06:36.120Z"
   },
   {
    "duration": 0,
    "start_time": "2022-06-16T21:06:36.121Z"
   },
   {
    "duration": 0,
    "start_time": "2022-06-16T21:06:36.122Z"
   },
   {
    "duration": 0,
    "start_time": "2022-06-16T21:06:36.123Z"
   },
   {
    "duration": 0,
    "start_time": "2022-06-16T21:06:36.124Z"
   },
   {
    "duration": 0,
    "start_time": "2022-06-16T21:06:36.126Z"
   },
   {
    "duration": 0,
    "start_time": "2022-06-16T21:06:36.127Z"
   },
   {
    "duration": 0,
    "start_time": "2022-06-16T21:06:36.128Z"
   },
   {
    "duration": 0,
    "start_time": "2022-06-16T21:06:36.129Z"
   },
   {
    "duration": 0,
    "start_time": "2022-06-16T21:06:36.130Z"
   },
   {
    "duration": 0,
    "start_time": "2022-06-16T21:06:36.131Z"
   },
   {
    "duration": 0,
    "start_time": "2022-06-16T21:06:36.132Z"
   },
   {
    "duration": 0,
    "start_time": "2022-06-16T21:06:36.133Z"
   },
   {
    "duration": 0,
    "start_time": "2022-06-16T21:06:36.134Z"
   },
   {
    "duration": 0,
    "start_time": "2022-06-16T21:06:36.135Z"
   },
   {
    "duration": 0,
    "start_time": "2022-06-16T21:06:36.136Z"
   },
   {
    "duration": 0,
    "start_time": "2022-06-16T21:06:36.137Z"
   },
   {
    "duration": 0,
    "start_time": "2022-06-16T21:06:36.138Z"
   },
   {
    "duration": 0,
    "start_time": "2022-06-16T21:06:36.139Z"
   },
   {
    "duration": 0,
    "start_time": "2022-06-16T21:06:36.140Z"
   },
   {
    "duration": 262,
    "start_time": "2022-06-16T21:06:58.311Z"
   },
   {
    "duration": 160,
    "start_time": "2022-06-16T21:06:59.579Z"
   },
   {
    "duration": 9,
    "start_time": "2022-06-16T21:07:00.095Z"
   },
   {
    "duration": 6,
    "start_time": "2022-06-16T21:07:02.666Z"
   },
   {
    "duration": 9,
    "start_time": "2022-06-16T21:07:35.771Z"
   },
   {
    "duration": 8,
    "start_time": "2022-06-16T21:08:07.415Z"
   },
   {
    "duration": 164,
    "start_time": "2022-06-16T21:08:45.879Z"
   },
   {
    "duration": 151,
    "start_time": "2022-06-16T21:09:44.775Z"
   },
   {
    "duration": 5,
    "start_time": "2022-06-16T21:10:42.366Z"
   },
   {
    "duration": 145,
    "start_time": "2022-06-16T21:10:44.823Z"
   },
   {
    "duration": 328,
    "start_time": "2022-06-16T21:10:54.875Z"
   },
   {
    "duration": 154,
    "start_time": "2022-06-16T21:11:02.223Z"
   },
   {
    "duration": 319,
    "start_time": "2022-06-16T21:11:07.175Z"
   },
   {
    "duration": 12,
    "start_time": "2022-06-16T21:11:17.995Z"
   },
   {
    "duration": 122,
    "start_time": "2022-06-16T21:11:24.947Z"
   },
   {
    "duration": 6,
    "start_time": "2022-06-16T21:11:33.314Z"
   },
   {
    "duration": 127,
    "start_time": "2022-06-16T21:11:37.003Z"
   },
   {
    "duration": 6,
    "start_time": "2022-06-16T21:11:39.030Z"
   },
   {
    "duration": 212,
    "start_time": "2022-06-16T21:11:49.315Z"
   },
   {
    "duration": 158,
    "start_time": "2022-06-16T21:20:30.091Z"
   },
   {
    "duration": 32,
    "start_time": "2022-06-16T21:20:33.010Z"
   },
   {
    "duration": 12,
    "start_time": "2022-06-16T21:20:40.402Z"
   },
   {
    "duration": 11,
    "start_time": "2022-06-16T21:21:12.534Z"
   },
   {
    "duration": 10,
    "start_time": "2022-06-16T21:21:27.941Z"
   },
   {
    "duration": 34,
    "start_time": "2022-06-16T21:21:29.310Z"
   },
   {
    "duration": 15,
    "start_time": "2022-06-16T21:21:31.511Z"
   },
   {
    "duration": 162,
    "start_time": "2022-06-16T21:31:20.572Z"
   },
   {
    "duration": 158,
    "start_time": "2022-06-16T21:32:04.090Z"
   },
   {
    "duration": 151,
    "start_time": "2022-06-16T21:32:08.230Z"
   },
   {
    "duration": 143,
    "start_time": "2022-06-16T21:32:13.610Z"
   },
   {
    "duration": 142,
    "start_time": "2022-06-16T21:32:27.242Z"
   },
   {
    "duration": 4,
    "start_time": "2022-06-16T21:48:35.719Z"
   },
   {
    "duration": 13,
    "start_time": "2022-06-16T21:48:42.802Z"
   },
   {
    "duration": 4,
    "start_time": "2022-06-16T21:49:15.906Z"
   },
   {
    "duration": 5,
    "start_time": "2022-06-16T21:49:20.938Z"
   },
   {
    "duration": 6,
    "start_time": "2022-06-16T21:49:26.490Z"
   },
   {
    "duration": 7,
    "start_time": "2022-06-16T21:49:48.975Z"
   },
   {
    "duration": 4,
    "start_time": "2022-06-16T21:50:19.169Z"
   },
   {
    "duration": 11,
    "start_time": "2022-06-16T21:51:09.386Z"
   },
   {
    "duration": 11,
    "start_time": "2022-06-16T21:52:14.610Z"
   },
   {
    "duration": 6,
    "start_time": "2022-06-16T21:52:41.202Z"
   },
   {
    "duration": 59,
    "start_time": "2022-06-16T21:52:44.818Z"
   },
   {
    "duration": 6,
    "start_time": "2022-06-16T21:52:50.986Z"
   },
   {
    "duration": 6,
    "start_time": "2022-06-16T21:52:52.666Z"
   },
   {
    "duration": 8,
    "start_time": "2022-06-16T21:57:01.518Z"
   },
   {
    "duration": 8,
    "start_time": "2022-06-16T22:01:02.102Z"
   },
   {
    "duration": 7,
    "start_time": "2022-06-16T22:04:40.522Z"
   },
   {
    "duration": 6,
    "start_time": "2022-06-16T22:05:12.332Z"
   },
   {
    "duration": 348,
    "start_time": "2022-06-16T22:06:20.585Z"
   },
   {
    "duration": 1186,
    "start_time": "2022-06-16T22:07:12.759Z"
   },
   {
    "duration": 74,
    "start_time": "2022-06-16T22:07:13.947Z"
   },
   {
    "duration": 3,
    "start_time": "2022-06-16T22:07:14.023Z"
   },
   {
    "duration": 26,
    "start_time": "2022-06-16T22:07:14.028Z"
   },
   {
    "duration": 15,
    "start_time": "2022-06-16T22:07:14.057Z"
   },
   {
    "duration": 13,
    "start_time": "2022-06-16T22:07:14.073Z"
   },
   {
    "duration": 15,
    "start_time": "2022-06-16T22:07:14.088Z"
   },
   {
    "duration": 26,
    "start_time": "2022-06-16T22:07:14.104Z"
   },
   {
    "duration": 20,
    "start_time": "2022-06-16T22:07:14.131Z"
   },
   {
    "duration": 43,
    "start_time": "2022-06-16T22:07:14.152Z"
   },
   {
    "duration": 7,
    "start_time": "2022-06-16T22:07:14.197Z"
   },
   {
    "duration": 9,
    "start_time": "2022-06-16T22:07:14.205Z"
   },
   {
    "duration": 9,
    "start_time": "2022-06-16T22:07:14.215Z"
   },
   {
    "duration": 8,
    "start_time": "2022-06-16T22:07:14.227Z"
   },
   {
    "duration": 5,
    "start_time": "2022-06-16T22:07:14.237Z"
   },
   {
    "duration": 154,
    "start_time": "2022-06-16T22:07:14.244Z"
   },
   {
    "duration": 0,
    "start_time": "2022-06-16T22:07:14.400Z"
   },
   {
    "duration": 0,
    "start_time": "2022-06-16T22:07:14.401Z"
   },
   {
    "duration": 0,
    "start_time": "2022-06-16T22:07:14.402Z"
   },
   {
    "duration": 0,
    "start_time": "2022-06-16T22:07:14.403Z"
   },
   {
    "duration": 0,
    "start_time": "2022-06-16T22:07:14.404Z"
   },
   {
    "duration": 0,
    "start_time": "2022-06-16T22:07:14.405Z"
   },
   {
    "duration": 0,
    "start_time": "2022-06-16T22:07:14.406Z"
   },
   {
    "duration": 0,
    "start_time": "2022-06-16T22:07:14.406Z"
   },
   {
    "duration": 0,
    "start_time": "2022-06-16T22:07:14.407Z"
   },
   {
    "duration": 0,
    "start_time": "2022-06-16T22:07:14.408Z"
   },
   {
    "duration": 0,
    "start_time": "2022-06-16T22:07:14.409Z"
   },
   {
    "duration": 0,
    "start_time": "2022-06-16T22:07:14.410Z"
   },
   {
    "duration": 0,
    "start_time": "2022-06-16T22:07:14.411Z"
   },
   {
    "duration": 0,
    "start_time": "2022-06-16T22:07:14.412Z"
   },
   {
    "duration": 0,
    "start_time": "2022-06-16T22:07:14.413Z"
   },
   {
    "duration": 0,
    "start_time": "2022-06-16T22:07:14.414Z"
   },
   {
    "duration": 0,
    "start_time": "2022-06-16T22:07:14.415Z"
   },
   {
    "duration": 0,
    "start_time": "2022-06-16T22:07:14.416Z"
   },
   {
    "duration": 0,
    "start_time": "2022-06-16T22:07:14.417Z"
   },
   {
    "duration": 0,
    "start_time": "2022-06-16T22:07:14.418Z"
   },
   {
    "duration": 0,
    "start_time": "2022-06-16T22:07:14.419Z"
   },
   {
    "duration": 0,
    "start_time": "2022-06-16T22:07:14.420Z"
   },
   {
    "duration": 0,
    "start_time": "2022-06-16T22:07:14.420Z"
   },
   {
    "duration": 0,
    "start_time": "2022-06-16T22:07:14.421Z"
   },
   {
    "duration": 0,
    "start_time": "2022-06-16T22:07:14.422Z"
   },
   {
    "duration": 0,
    "start_time": "2022-06-16T22:07:14.423Z"
   },
   {
    "duration": 0,
    "start_time": "2022-06-16T22:07:14.424Z"
   },
   {
    "duration": 8,
    "start_time": "2022-06-16T22:20:11.899Z"
   },
   {
    "duration": 8,
    "start_time": "2022-06-16T22:20:35.092Z"
   },
   {
    "duration": 6,
    "start_time": "2022-06-16T22:26:35.951Z"
   },
   {
    "duration": 4,
    "start_time": "2022-06-16T22:27:01.252Z"
   },
   {
    "duration": 4,
    "start_time": "2022-06-16T22:27:11.931Z"
   },
   {
    "duration": 13,
    "start_time": "2022-06-16T22:27:55.739Z"
   },
   {
    "duration": 9,
    "start_time": "2022-06-16T22:28:09.389Z"
   },
   {
    "duration": 440,
    "start_time": "2022-06-16T22:31:19.931Z"
   },
   {
    "duration": 5,
    "start_time": "2022-06-16T22:32:20.675Z"
   },
   {
    "duration": 9,
    "start_time": "2022-06-16T22:41:12.736Z"
   },
   {
    "duration": 7,
    "start_time": "2022-06-16T22:41:28.871Z"
   },
   {
    "duration": 2,
    "start_time": "2022-06-16T22:41:54.580Z"
   },
   {
    "duration": 5,
    "start_time": "2022-06-16T22:41:55.696Z"
   },
   {
    "duration": 9,
    "start_time": "2022-06-16T22:42:01.600Z"
   },
   {
    "duration": 5,
    "start_time": "2022-06-16T22:42:10.680Z"
   },
   {
    "duration": 5,
    "start_time": "2022-06-16T22:42:19.952Z"
   },
   {
    "duration": 10,
    "start_time": "2022-06-16T22:46:44.101Z"
   },
   {
    "duration": 12,
    "start_time": "2022-06-16T22:46:44.635Z"
   },
   {
    "duration": 11,
    "start_time": "2022-06-16T22:46:45.080Z"
   },
   {
    "duration": 9,
    "start_time": "2022-06-16T22:46:45.560Z"
   },
   {
    "duration": 5,
    "start_time": "2022-06-16T22:46:46.127Z"
   },
   {
    "duration": 176,
    "start_time": "2022-06-16T22:46:46.698Z"
   },
   {
    "duration": 129,
    "start_time": "2022-06-16T22:46:47.708Z"
   },
   {
    "duration": 256,
    "start_time": "2022-06-16T22:46:53.227Z"
   },
   {
    "duration": 150,
    "start_time": "2022-06-16T22:46:56.412Z"
   },
   {
    "duration": 145,
    "start_time": "2022-06-16T22:47:41.083Z"
   },
   {
    "duration": 4,
    "start_time": "2022-06-16T22:47:43.512Z"
   },
   {
    "duration": 142,
    "start_time": "2022-06-16T22:47:45.791Z"
   },
   {
    "duration": 256,
    "start_time": "2022-06-16T22:47:51.120Z"
   },
   {
    "duration": 139,
    "start_time": "2022-06-16T22:47:54.825Z"
   },
   {
    "duration": 254,
    "start_time": "2022-06-16T22:48:01.507Z"
   },
   {
    "duration": 12,
    "start_time": "2022-06-16T22:48:07.754Z"
   },
   {
    "duration": 192,
    "start_time": "2022-06-16T22:48:08.374Z"
   },
   {
    "duration": 6,
    "start_time": "2022-06-16T22:48:09.443Z"
   },
   {
    "duration": 125,
    "start_time": "2022-06-16T22:48:10.879Z"
   },
   {
    "duration": 5,
    "start_time": "2022-06-16T22:48:11.943Z"
   },
   {
    "duration": 140,
    "start_time": "2022-06-16T22:48:17.529Z"
   },
   {
    "duration": 129,
    "start_time": "2022-06-16T22:48:57.031Z"
   },
   {
    "duration": 7,
    "start_time": "2022-06-16T22:55:32.146Z"
   },
   {
    "duration": 191,
    "start_time": "2022-06-16T22:55:48.862Z"
   },
   {
    "duration": 31,
    "start_time": "2022-06-16T22:56:00.818Z"
   },
   {
    "duration": 37,
    "start_time": "2022-06-16T22:58:37.434Z"
   },
   {
    "duration": 130,
    "start_time": "2022-06-16T22:58:39.578Z"
   },
   {
    "duration": 26,
    "start_time": "2022-06-16T22:58:43.934Z"
   },
   {
    "duration": 13,
    "start_time": "2022-06-16T22:58:50.046Z"
   },
   {
    "duration": 12,
    "start_time": "2022-06-16T22:58:51.478Z"
   },
   {
    "duration": 10,
    "start_time": "2022-06-16T22:58:54.761Z"
   },
   {
    "duration": 23,
    "start_time": "2022-06-16T22:58:56.370Z"
   },
   {
    "duration": 15,
    "start_time": "2022-06-16T22:58:57.678Z"
   },
   {
    "duration": 40,
    "start_time": "2022-06-16T23:03:56.597Z"
   },
   {
    "duration": 1095,
    "start_time": "2022-06-16T23:04:13.857Z"
   },
   {
    "duration": 82,
    "start_time": "2022-06-16T23:04:14.954Z"
   },
   {
    "duration": 4,
    "start_time": "2022-06-16T23:04:15.038Z"
   },
   {
    "duration": 26,
    "start_time": "2022-06-16T23:04:15.043Z"
   },
   {
    "duration": 16,
    "start_time": "2022-06-16T23:04:15.071Z"
   },
   {
    "duration": 14,
    "start_time": "2022-06-16T23:04:15.088Z"
   },
   {
    "duration": 10,
    "start_time": "2022-06-16T23:04:15.104Z"
   },
   {
    "duration": 26,
    "start_time": "2022-06-16T23:04:15.116Z"
   },
   {
    "duration": 19,
    "start_time": "2022-06-16T23:04:15.143Z"
   },
   {
    "duration": 19,
    "start_time": "2022-06-16T23:04:15.194Z"
   },
   {
    "duration": 17,
    "start_time": "2022-06-16T23:04:15.214Z"
   },
   {
    "duration": 25,
    "start_time": "2022-06-16T23:04:15.233Z"
   },
   {
    "duration": 16,
    "start_time": "2022-06-16T23:04:15.259Z"
   },
   {
    "duration": 16,
    "start_time": "2022-06-16T23:04:15.278Z"
   },
   {
    "duration": 5,
    "start_time": "2022-06-16T23:04:15.296Z"
   },
   {
    "duration": 24,
    "start_time": "2022-06-16T23:04:15.303Z"
   },
   {
    "duration": 12,
    "start_time": "2022-06-16T23:04:15.328Z"
   },
   {
    "duration": 29,
    "start_time": "2022-06-16T23:04:15.341Z"
   },
   {
    "duration": 18,
    "start_time": "2022-06-16T23:04:15.372Z"
   },
   {
    "duration": 28,
    "start_time": "2022-06-16T23:04:15.392Z"
   },
   {
    "duration": 41,
    "start_time": "2022-06-16T23:04:15.422Z"
   },
   {
    "duration": 11,
    "start_time": "2022-06-16T23:04:15.465Z"
   },
   {
    "duration": 139,
    "start_time": "2022-06-16T23:04:15.478Z"
   },
   {
    "duration": 225,
    "start_time": "2022-06-16T23:04:15.619Z"
   },
   {
    "duration": 0,
    "start_time": "2022-06-16T23:04:15.845Z"
   },
   {
    "duration": 0,
    "start_time": "2022-06-16T23:04:15.846Z"
   },
   {
    "duration": 0,
    "start_time": "2022-06-16T23:04:15.848Z"
   },
   {
    "duration": 0,
    "start_time": "2022-06-16T23:04:15.849Z"
   },
   {
    "duration": 0,
    "start_time": "2022-06-16T23:04:15.850Z"
   },
   {
    "duration": 0,
    "start_time": "2022-06-16T23:04:15.851Z"
   },
   {
    "duration": 0,
    "start_time": "2022-06-16T23:04:15.852Z"
   },
   {
    "duration": 0,
    "start_time": "2022-06-16T23:04:15.854Z"
   },
   {
    "duration": 0,
    "start_time": "2022-06-16T23:04:15.854Z"
   },
   {
    "duration": 0,
    "start_time": "2022-06-16T23:04:15.855Z"
   },
   {
    "duration": 0,
    "start_time": "2022-06-16T23:04:15.856Z"
   },
   {
    "duration": 0,
    "start_time": "2022-06-16T23:04:15.857Z"
   },
   {
    "duration": 0,
    "start_time": "2022-06-16T23:04:15.858Z"
   },
   {
    "duration": 0,
    "start_time": "2022-06-16T23:04:15.859Z"
   },
   {
    "duration": 0,
    "start_time": "2022-06-16T23:04:15.860Z"
   },
   {
    "duration": 0,
    "start_time": "2022-06-16T23:04:15.861Z"
   },
   {
    "duration": 0,
    "start_time": "2022-06-16T23:04:15.862Z"
   },
   {
    "duration": 0,
    "start_time": "2022-06-16T23:04:15.862Z"
   },
   {
    "duration": 0,
    "start_time": "2022-06-16T23:04:15.863Z"
   },
   {
    "duration": 0,
    "start_time": "2022-06-16T23:04:15.895Z"
   },
   {
    "duration": 259,
    "start_time": "2022-06-16T23:05:39.974Z"
   },
   {
    "duration": 150,
    "start_time": "2022-06-16T23:05:41.032Z"
   },
   {
    "duration": 6,
    "start_time": "2022-06-16T23:05:42.404Z"
   },
   {
    "duration": 150,
    "start_time": "2022-06-16T23:05:44.256Z"
   },
   {
    "duration": 275,
    "start_time": "2022-06-16T23:05:47.853Z"
   },
   {
    "duration": 153,
    "start_time": "2022-06-16T23:05:50.634Z"
   },
   {
    "duration": 270,
    "start_time": "2022-06-16T23:05:55.953Z"
   },
   {
    "duration": 11,
    "start_time": "2022-06-16T23:06:02.769Z"
   },
   {
    "duration": 119,
    "start_time": "2022-06-16T23:06:03.264Z"
   },
   {
    "duration": 5,
    "start_time": "2022-06-16T23:06:04.776Z"
   },
   {
    "duration": 217,
    "start_time": "2022-06-16T23:06:06.140Z"
   },
   {
    "duration": 7,
    "start_time": "2022-06-16T23:06:07.380Z"
   },
   {
    "duration": 37,
    "start_time": "2022-06-16T23:06:10.389Z"
   },
   {
    "duration": 134,
    "start_time": "2022-06-16T23:06:12.745Z"
   },
   {
    "duration": 26,
    "start_time": "2022-06-16T23:06:13.939Z"
   },
   {
    "duration": 13,
    "start_time": "2022-06-16T23:06:16.148Z"
   },
   {
    "duration": 12,
    "start_time": "2022-06-16T23:06:18.377Z"
   },
   {
    "duration": 9,
    "start_time": "2022-06-16T23:06:20.405Z"
   },
   {
    "duration": 23,
    "start_time": "2022-06-16T23:06:21.421Z"
   },
   {
    "duration": 16,
    "start_time": "2022-06-16T23:06:22.361Z"
   },
   {
    "duration": 12,
    "start_time": "2022-06-16T23:14:06.138Z"
   },
   {
    "duration": 9,
    "start_time": "2022-06-16T23:14:51.068Z"
   },
   {
    "duration": 1102,
    "start_time": "2022-06-16T23:16:20.920Z"
   },
   {
    "duration": 73,
    "start_time": "2022-06-16T23:16:22.024Z"
   },
   {
    "duration": 3,
    "start_time": "2022-06-16T23:16:22.099Z"
   },
   {
    "duration": 21,
    "start_time": "2022-06-16T23:16:22.104Z"
   },
   {
    "duration": 17,
    "start_time": "2022-06-16T23:16:22.127Z"
   },
   {
    "duration": 15,
    "start_time": "2022-06-16T23:16:22.146Z"
   },
   {
    "duration": 10,
    "start_time": "2022-06-16T23:16:22.194Z"
   },
   {
    "duration": 23,
    "start_time": "2022-06-16T23:16:22.206Z"
   },
   {
    "duration": 16,
    "start_time": "2022-06-16T23:16:22.230Z"
   },
   {
    "duration": 16,
    "start_time": "2022-06-16T23:16:22.249Z"
   },
   {
    "duration": 8,
    "start_time": "2022-06-16T23:16:22.295Z"
   },
   {
    "duration": 4,
    "start_time": "2022-06-16T23:16:22.304Z"
   },
   {
    "duration": 7,
    "start_time": "2022-06-16T23:16:22.310Z"
   },
   {
    "duration": 6,
    "start_time": "2022-06-16T23:16:22.319Z"
   },
   {
    "duration": 7,
    "start_time": "2022-06-16T23:16:22.327Z"
   },
   {
    "duration": 9,
    "start_time": "2022-06-16T23:16:22.335Z"
   },
   {
    "duration": 11,
    "start_time": "2022-06-16T23:16:22.346Z"
   },
   {
    "duration": 42,
    "start_time": "2022-06-16T23:16:22.359Z"
   },
   {
    "duration": 15,
    "start_time": "2022-06-16T23:16:22.403Z"
   },
   {
    "duration": 5,
    "start_time": "2022-06-16T23:16:22.419Z"
   },
   {
    "duration": 153,
    "start_time": "2022-06-16T23:16:22.425Z"
   },
   {
    "duration": 227,
    "start_time": "2022-06-16T23:16:22.581Z"
   },
   {
    "duration": 0,
    "start_time": "2022-06-16T23:16:22.810Z"
   },
   {
    "duration": 0,
    "start_time": "2022-06-16T23:16:22.812Z"
   },
   {
    "duration": 0,
    "start_time": "2022-06-16T23:16:22.813Z"
   },
   {
    "duration": 0,
    "start_time": "2022-06-16T23:16:22.815Z"
   },
   {
    "duration": 0,
    "start_time": "2022-06-16T23:16:22.816Z"
   },
   {
    "duration": 0,
    "start_time": "2022-06-16T23:16:22.817Z"
   },
   {
    "duration": 0,
    "start_time": "2022-06-16T23:16:22.818Z"
   },
   {
    "duration": 0,
    "start_time": "2022-06-16T23:16:22.820Z"
   },
   {
    "duration": 0,
    "start_time": "2022-06-16T23:16:22.821Z"
   },
   {
    "duration": 0,
    "start_time": "2022-06-16T23:16:22.823Z"
   },
   {
    "duration": 0,
    "start_time": "2022-06-16T23:16:22.824Z"
   },
   {
    "duration": 0,
    "start_time": "2022-06-16T23:16:22.825Z"
   },
   {
    "duration": 0,
    "start_time": "2022-06-16T23:16:22.826Z"
   },
   {
    "duration": 0,
    "start_time": "2022-06-16T23:16:22.827Z"
   },
   {
    "duration": 0,
    "start_time": "2022-06-16T23:16:22.828Z"
   },
   {
    "duration": 0,
    "start_time": "2022-06-16T23:16:22.829Z"
   },
   {
    "duration": 0,
    "start_time": "2022-06-16T23:16:22.830Z"
   },
   {
    "duration": 0,
    "start_time": "2022-06-16T23:16:22.831Z"
   },
   {
    "duration": 0,
    "start_time": "2022-06-16T23:16:22.832Z"
   },
   {
    "duration": 0,
    "start_time": "2022-06-16T23:16:22.833Z"
   },
   {
    "duration": 287,
    "start_time": "2022-06-16T23:16:48.802Z"
   },
   {
    "duration": 149,
    "start_time": "2022-06-16T23:16:50.451Z"
   },
   {
    "duration": 5,
    "start_time": "2022-06-16T23:16:56.535Z"
   },
   {
    "duration": 156,
    "start_time": "2022-06-16T23:17:38.095Z"
   },
   {
    "duration": 258,
    "start_time": "2022-06-16T23:17:47.186Z"
   },
   {
    "duration": 158,
    "start_time": "2022-06-16T23:17:55.107Z"
   },
   {
    "duration": 258,
    "start_time": "2022-06-16T23:18:09.655Z"
   },
   {
    "duration": 11,
    "start_time": "2022-06-16T23:18:47.534Z"
   },
   {
    "duration": 138,
    "start_time": "2022-06-16T23:19:07.146Z"
   },
   {
    "duration": 5,
    "start_time": "2022-06-16T23:19:16.718Z"
   },
   {
    "duration": 202,
    "start_time": "2022-06-16T23:19:34.746Z"
   },
   {
    "duration": 4,
    "start_time": "2022-06-16T23:19:39.850Z"
   },
   {
    "duration": 36,
    "start_time": "2022-06-16T23:19:50.725Z"
   },
   {
    "duration": 135,
    "start_time": "2022-06-16T23:19:53.822Z"
   },
   {
    "duration": 25,
    "start_time": "2022-06-16T23:19:59.190Z"
   },
   {
    "duration": 10,
    "start_time": "2022-06-16T23:20:21.595Z"
   },
   {
    "duration": 12,
    "start_time": "2022-06-16T23:20:29.890Z"
   },
   {
    "duration": 8,
    "start_time": "2022-06-16T23:20:35.366Z"
   },
   {
    "duration": 22,
    "start_time": "2022-06-16T23:20:37.714Z"
   },
   {
    "duration": 14,
    "start_time": "2022-06-16T23:20:47.186Z"
   },
   {
    "duration": 5,
    "start_time": "2022-06-16T23:22:11.130Z"
   },
   {
    "duration": 6,
    "start_time": "2022-06-16T23:33:35.877Z"
   },
   {
    "duration": 36,
    "start_time": "2022-06-16T23:41:05.297Z"
   },
   {
    "duration": 11,
    "start_time": "2022-06-16T23:41:53.568Z"
   },
   {
    "duration": 5,
    "start_time": "2022-06-16T23:41:57.665Z"
   },
   {
    "duration": 6,
    "start_time": "2022-06-16T23:42:01.876Z"
   },
   {
    "duration": 5,
    "start_time": "2022-06-16T23:42:27.532Z"
   },
   {
    "duration": 1166,
    "start_time": "2022-06-17T10:15:57.681Z"
   },
   {
    "duration": 81,
    "start_time": "2022-06-17T10:15:58.848Z"
   },
   {
    "duration": 4,
    "start_time": "2022-06-17T10:15:58.932Z"
   },
   {
    "duration": 61,
    "start_time": "2022-06-17T10:15:58.938Z"
   },
   {
    "duration": 24,
    "start_time": "2022-06-17T10:15:59.003Z"
   },
   {
    "duration": 76,
    "start_time": "2022-06-17T10:15:59.029Z"
   },
   {
    "duration": 15,
    "start_time": "2022-06-17T10:15:59.107Z"
   },
   {
    "duration": 90,
    "start_time": "2022-06-17T10:15:59.124Z"
   },
   {
    "duration": 21,
    "start_time": "2022-06-17T10:15:59.217Z"
   },
   {
    "duration": 61,
    "start_time": "2022-06-17T10:15:59.240Z"
   },
   {
    "duration": 8,
    "start_time": "2022-06-17T10:15:59.303Z"
   },
   {
    "duration": 9,
    "start_time": "2022-06-17T10:15:59.312Z"
   },
   {
    "duration": 8,
    "start_time": "2022-06-17T10:15:59.322Z"
   },
   {
    "duration": 14,
    "start_time": "2022-06-17T10:15:59.333Z"
   },
   {
    "duration": 10,
    "start_time": "2022-06-17T10:15:59.395Z"
   },
   {
    "duration": 11,
    "start_time": "2022-06-17T10:15:59.407Z"
   },
   {
    "duration": 9,
    "start_time": "2022-06-17T10:15:59.420Z"
   },
   {
    "duration": 11,
    "start_time": "2022-06-17T10:15:59.431Z"
   },
   {
    "duration": 50,
    "start_time": "2022-06-17T10:15:59.444Z"
   },
   {
    "duration": 15,
    "start_time": "2022-06-17T10:15:59.497Z"
   },
   {
    "duration": 20,
    "start_time": "2022-06-17T10:15:59.514Z"
   },
   {
    "duration": 8,
    "start_time": "2022-06-17T10:15:59.536Z"
   },
   {
    "duration": 137,
    "start_time": "2022-06-17T10:15:59.545Z"
   },
   {
    "duration": 240,
    "start_time": "2022-06-17T10:15:59.684Z"
   },
   {
    "duration": 0,
    "start_time": "2022-06-17T10:15:59.926Z"
   },
   {
    "duration": 0,
    "start_time": "2022-06-17T10:15:59.927Z"
   },
   {
    "duration": 0,
    "start_time": "2022-06-17T10:15:59.928Z"
   },
   {
    "duration": 0,
    "start_time": "2022-06-17T10:15:59.930Z"
   },
   {
    "duration": 0,
    "start_time": "2022-06-17T10:15:59.931Z"
   },
   {
    "duration": 0,
    "start_time": "2022-06-17T10:15:59.932Z"
   },
   {
    "duration": 0,
    "start_time": "2022-06-17T10:15:59.933Z"
   },
   {
    "duration": 0,
    "start_time": "2022-06-17T10:15:59.934Z"
   },
   {
    "duration": 0,
    "start_time": "2022-06-17T10:15:59.935Z"
   },
   {
    "duration": 0,
    "start_time": "2022-06-17T10:15:59.936Z"
   },
   {
    "duration": 0,
    "start_time": "2022-06-17T10:15:59.937Z"
   },
   {
    "duration": 0,
    "start_time": "2022-06-17T10:15:59.938Z"
   },
   {
    "duration": 0,
    "start_time": "2022-06-17T10:15:59.939Z"
   },
   {
    "duration": 0,
    "start_time": "2022-06-17T10:15:59.940Z"
   },
   {
    "duration": 0,
    "start_time": "2022-06-17T10:15:59.942Z"
   },
   {
    "duration": 0,
    "start_time": "2022-06-17T10:15:59.942Z"
   },
   {
    "duration": 0,
    "start_time": "2022-06-17T10:15:59.944Z"
   },
   {
    "duration": 0,
    "start_time": "2022-06-17T10:15:59.945Z"
   },
   {
    "duration": 0,
    "start_time": "2022-06-17T10:15:59.945Z"
   },
   {
    "duration": 0,
    "start_time": "2022-06-17T10:15:59.946Z"
   },
   {
    "duration": 3,
    "start_time": "2022-06-17T10:17:29.453Z"
   },
   {
    "duration": 1079,
    "start_time": "2022-06-17T10:17:35.629Z"
   },
   {
    "duration": 79,
    "start_time": "2022-06-17T10:17:36.710Z"
   },
   {
    "duration": 3,
    "start_time": "2022-06-17T10:17:36.790Z"
   },
   {
    "duration": 20,
    "start_time": "2022-06-17T10:17:36.795Z"
   },
   {
    "duration": 14,
    "start_time": "2022-06-17T10:17:36.817Z"
   },
   {
    "duration": 14,
    "start_time": "2022-06-17T10:17:36.832Z"
   },
   {
    "duration": 10,
    "start_time": "2022-06-17T10:17:36.847Z"
   },
   {
    "duration": 55,
    "start_time": "2022-06-17T10:17:36.858Z"
   },
   {
    "duration": 18,
    "start_time": "2022-06-17T10:17:36.914Z"
   },
   {
    "duration": 18,
    "start_time": "2022-06-17T10:17:36.934Z"
   },
   {
    "duration": 7,
    "start_time": "2022-06-17T10:17:36.953Z"
   },
   {
    "duration": 5,
    "start_time": "2022-06-17T10:17:36.962Z"
   },
   {
    "duration": 33,
    "start_time": "2022-06-17T10:17:36.968Z"
   },
   {
    "duration": 8,
    "start_time": "2022-06-17T10:17:37.003Z"
   },
   {
    "duration": 8,
    "start_time": "2022-06-17T10:17:37.013Z"
   },
   {
    "duration": 6,
    "start_time": "2022-06-17T10:17:37.022Z"
   },
   {
    "duration": 11,
    "start_time": "2022-06-17T10:17:37.029Z"
   },
   {
    "duration": 8,
    "start_time": "2022-06-17T10:17:37.041Z"
   },
   {
    "duration": 8,
    "start_time": "2022-06-17T10:17:37.051Z"
   },
   {
    "duration": 34,
    "start_time": "2022-06-17T10:17:37.060Z"
   },
   {
    "duration": 17,
    "start_time": "2022-06-17T10:17:37.096Z"
   },
   {
    "duration": 7,
    "start_time": "2022-06-17T10:17:37.114Z"
   },
   {
    "duration": 130,
    "start_time": "2022-06-17T10:17:37.122Z"
   },
   {
    "duration": 2,
    "start_time": "2022-06-17T10:17:37.254Z"
   },
   {
    "duration": 263,
    "start_time": "2022-06-17T10:17:37.258Z"
   },
   {
    "duration": 152,
    "start_time": "2022-06-17T10:17:37.523Z"
   },
   {
    "duration": 4,
    "start_time": "2022-06-17T10:17:37.676Z"
   },
   {
    "duration": 146,
    "start_time": "2022-06-17T10:17:37.693Z"
   },
   {
    "duration": 217,
    "start_time": "2022-06-17T10:17:37.841Z"
   },
   {
    "duration": 157,
    "start_time": "2022-06-17T10:17:38.060Z"
   },
   {
    "duration": 248,
    "start_time": "2022-06-17T10:17:38.219Z"
   },
   {
    "duration": 11,
    "start_time": "2022-06-17T10:17:38.469Z"
   },
   {
    "duration": 146,
    "start_time": "2022-06-17T10:17:38.481Z"
   },
   {
    "duration": 4,
    "start_time": "2022-06-17T10:17:38.628Z"
   },
   {
    "duration": 139,
    "start_time": "2022-06-17T10:17:38.634Z"
   },
   {
    "duration": 4,
    "start_time": "2022-06-17T10:17:38.775Z"
   },
   {
    "duration": 133,
    "start_time": "2022-06-17T10:17:38.794Z"
   },
   {
    "duration": 209,
    "start_time": "2022-06-17T10:17:38.930Z"
   },
   {
    "duration": 29,
    "start_time": "2022-06-17T10:17:39.141Z"
   },
   {
    "duration": 29,
    "start_time": "2022-06-17T10:17:39.172Z"
   },
   {
    "duration": 12,
    "start_time": "2022-06-17T10:17:39.203Z"
   },
   {
    "duration": 8,
    "start_time": "2022-06-17T10:17:39.217Z"
   },
   {
    "duration": 35,
    "start_time": "2022-06-17T10:17:39.226Z"
   },
   {
    "duration": 31,
    "start_time": "2022-06-17T10:17:39.263Z"
   },
   {
    "duration": 158,
    "start_time": "2022-06-17T10:35:59.529Z"
   },
   {
    "duration": 226,
    "start_time": "2022-06-17T10:36:13.389Z"
   },
   {
    "duration": 187,
    "start_time": "2022-06-17T10:36:18.957Z"
   },
   {
    "duration": 165,
    "start_time": "2022-06-17T10:36:23.810Z"
   },
   {
    "duration": 180,
    "start_time": "2022-06-17T10:36:40.989Z"
   },
   {
    "duration": 173,
    "start_time": "2022-06-17T10:38:03.616Z"
   },
   {
    "duration": 216,
    "start_time": "2022-06-17T10:38:28.808Z"
   },
   {
    "duration": 7,
    "start_time": "2022-06-17T10:39:35.192Z"
   },
   {
    "duration": 13,
    "start_time": "2022-06-17T10:39:44.205Z"
   },
   {
    "duration": 9,
    "start_time": "2022-06-17T10:42:44.888Z"
   },
   {
    "duration": 6,
    "start_time": "2022-06-17T10:43:19.122Z"
   },
   {
    "duration": 134,
    "start_time": "2022-06-17T10:44:34.428Z"
   },
   {
    "duration": 155,
    "start_time": "2022-06-17T10:44:41.011Z"
   },
   {
    "duration": 140,
    "start_time": "2022-06-17T10:44:55.412Z"
   },
   {
    "duration": 159,
    "start_time": "2022-06-17T10:45:56.816Z"
   },
   {
    "duration": 239,
    "start_time": "2022-06-17T10:46:13.507Z"
   },
   {
    "duration": 261,
    "start_time": "2022-06-17T10:48:35.986Z"
   },
   {
    "duration": 208,
    "start_time": "2022-06-17T10:49:35.951Z"
   },
   {
    "duration": 350,
    "start_time": "2022-06-17T10:50:38.362Z"
   },
   {
    "duration": 331,
    "start_time": "2022-06-17T10:51:37.287Z"
   },
   {
    "duration": 5,
    "start_time": "2022-06-17T10:53:04.758Z"
   },
   {
    "duration": 319,
    "start_time": "2022-06-17T10:53:08.123Z"
   },
   {
    "duration": 125,
    "start_time": "2022-06-17T10:57:06.602Z"
   },
   {
    "duration": 120,
    "start_time": "2022-06-17T10:57:21.222Z"
   },
   {
    "duration": 132,
    "start_time": "2022-06-17T10:57:43.745Z"
   },
   {
    "duration": 138,
    "start_time": "2022-06-17T11:07:42.540Z"
   },
   {
    "duration": 16,
    "start_time": "2022-06-17T11:08:15.889Z"
   },
   {
    "duration": 130,
    "start_time": "2022-06-17T11:11:19.415Z"
   },
   {
    "duration": 453,
    "start_time": "2022-06-17T11:11:32.272Z"
   },
   {
    "duration": 116,
    "start_time": "2022-06-17T11:11:53.246Z"
   },
   {
    "duration": 321,
    "start_time": "2022-06-17T11:12:13.812Z"
   },
   {
    "duration": 219,
    "start_time": "2022-06-17T11:20:01.987Z"
   },
   {
    "duration": 19,
    "start_time": "2022-06-17T11:25:10.984Z"
   },
   {
    "duration": 20,
    "start_time": "2022-06-17T11:26:05.433Z"
   },
   {
    "duration": 32,
    "start_time": "2022-06-17T11:26:18.690Z"
   },
   {
    "duration": 35,
    "start_time": "2022-06-17T11:26:26.565Z"
   },
   {
    "duration": 10,
    "start_time": "2022-06-17T11:26:38.733Z"
   },
   {
    "duration": 15,
    "start_time": "2022-06-17T11:26:48.061Z"
   },
   {
    "duration": 308,
    "start_time": "2022-06-17T11:38:27.596Z"
   },
   {
    "duration": 411,
    "start_time": "2022-06-17T11:44:40.978Z"
   },
   {
    "duration": 335,
    "start_time": "2022-06-17T11:44:52.307Z"
   },
   {
    "duration": 322,
    "start_time": "2022-06-17T11:46:45.483Z"
   },
   {
    "duration": 326,
    "start_time": "2022-06-17T11:46:56.715Z"
   },
   {
    "duration": 440,
    "start_time": "2022-06-17T11:47:23.883Z"
   },
   {
    "duration": 394,
    "start_time": "2022-06-17T11:47:38.819Z"
   },
   {
    "duration": 164,
    "start_time": "2022-06-17T11:48:00.878Z"
   },
   {
    "duration": 159,
    "start_time": "2022-06-17T11:48:28.131Z"
   },
   {
    "duration": 325,
    "start_time": "2022-06-17T11:53:43.592Z"
   },
   {
    "duration": 356,
    "start_time": "2022-06-17T11:54:03.083Z"
   },
   {
    "duration": 337,
    "start_time": "2022-06-17T11:54:12.809Z"
   },
   {
    "duration": 331,
    "start_time": "2022-06-17T11:54:25.606Z"
   },
   {
    "duration": 313,
    "start_time": "2022-06-17T11:54:38.546Z"
   },
   {
    "duration": 331,
    "start_time": "2022-06-17T11:54:53.102Z"
   },
   {
    "duration": 342,
    "start_time": "2022-06-17T11:55:04.914Z"
   },
   {
    "duration": 421,
    "start_time": "2022-06-17T11:55:15.625Z"
   },
   {
    "duration": 759,
    "start_time": "2022-06-17T11:55:27.283Z"
   },
   {
    "duration": 337,
    "start_time": "2022-06-17T11:55:52.450Z"
   },
   {
    "duration": 338,
    "start_time": "2022-06-17T11:56:02.082Z"
   },
   {
    "duration": 317,
    "start_time": "2022-06-17T11:56:14.118Z"
   },
   {
    "duration": 286,
    "start_time": "2022-06-17T11:58:14.305Z"
   },
   {
    "duration": 285,
    "start_time": "2022-06-17T11:58:47.213Z"
   },
   {
    "duration": 201,
    "start_time": "2022-06-17T12:00:12.185Z"
   },
   {
    "duration": 112,
    "start_time": "2022-06-17T12:00:38.393Z"
   },
   {
    "duration": 378,
    "start_time": "2022-06-17T12:00:58.397Z"
   },
   {
    "duration": 122,
    "start_time": "2022-06-17T12:08:43.972Z"
   },
   {
    "duration": 301,
    "start_time": "2022-06-17T12:09:02.141Z"
   },
   {
    "duration": 78,
    "start_time": "2022-06-17T12:09:45.884Z"
   },
   {
    "duration": 318,
    "start_time": "2022-06-17T12:09:57.984Z"
   },
   {
    "duration": 316,
    "start_time": "2022-06-17T12:10:32.578Z"
   },
   {
    "duration": 286,
    "start_time": "2022-06-17T12:10:51.828Z"
   },
   {
    "duration": 295,
    "start_time": "2022-06-17T12:11:10.303Z"
   },
   {
    "duration": 289,
    "start_time": "2022-06-17T12:11:29.780Z"
   },
   {
    "duration": 276,
    "start_time": "2022-06-17T12:12:34.551Z"
   },
   {
    "duration": 317,
    "start_time": "2022-06-17T12:13:20.551Z"
   },
   {
    "duration": 323,
    "start_time": "2022-06-17T12:13:33.247Z"
   },
   {
    "duration": 270,
    "start_time": "2022-06-17T12:13:54.487Z"
   },
   {
    "duration": 376,
    "start_time": "2022-06-17T12:14:08.339Z"
   },
   {
    "duration": 260,
    "start_time": "2022-06-17T12:21:45.094Z"
   },
   {
    "duration": 290,
    "start_time": "2022-06-17T12:22:18.266Z"
   },
   {
    "duration": 256,
    "start_time": "2022-06-17T12:22:38.038Z"
   },
   {
    "duration": 279,
    "start_time": "2022-06-17T12:29:51.209Z"
   },
   {
    "duration": 272,
    "start_time": "2022-06-17T12:30:45.609Z"
   },
   {
    "duration": 286,
    "start_time": "2022-06-17T12:30:55.706Z"
   },
   {
    "duration": 351,
    "start_time": "2022-06-17T12:31:03.184Z"
   },
   {
    "duration": 105,
    "start_time": "2022-06-17T12:31:12.768Z"
   },
   {
    "duration": 360,
    "start_time": "2022-06-17T12:31:22.682Z"
   },
   {
    "duration": 359,
    "start_time": "2022-06-17T12:31:35.349Z"
   },
   {
    "duration": 410,
    "start_time": "2022-06-17T12:31:44.606Z"
   },
   {
    "duration": 304,
    "start_time": "2022-06-17T12:32:38.288Z"
   },
   {
    "duration": 304,
    "start_time": "2022-06-17T12:32:45.474Z"
   },
   {
    "duration": 319,
    "start_time": "2022-06-17T12:32:53.180Z"
   },
   {
    "duration": 289,
    "start_time": "2022-06-17T12:33:00.952Z"
   },
   {
    "duration": 299,
    "start_time": "2022-06-17T12:33:15.320Z"
   },
   {
    "duration": 301,
    "start_time": "2022-06-17T12:33:22.300Z"
   },
   {
    "duration": 320,
    "start_time": "2022-06-17T12:33:39.715Z"
   },
   {
    "duration": 319,
    "start_time": "2022-06-17T12:34:03.069Z"
   },
   {
    "duration": 308,
    "start_time": "2022-06-17T12:34:11.165Z"
   },
   {
    "duration": 348,
    "start_time": "2022-06-17T12:35:06.172Z"
   },
   {
    "duration": 211,
    "start_time": "2022-06-17T12:35:50.260Z"
   },
   {
    "duration": 266,
    "start_time": "2022-06-17T12:35:58.360Z"
   },
   {
    "duration": 377,
    "start_time": "2022-06-17T12:36:28.969Z"
   },
   {
    "duration": 297,
    "start_time": "2022-06-17T12:37:58.172Z"
   },
   {
    "duration": 305,
    "start_time": "2022-06-17T12:38:08.344Z"
   },
   {
    "duration": 146,
    "start_time": "2022-06-17T12:38:25.068Z"
   },
   {
    "duration": 311,
    "start_time": "2022-06-17T12:38:42.972Z"
   },
   {
    "duration": 18,
    "start_time": "2022-06-17T12:38:55.804Z"
   },
   {
    "duration": 24,
    "start_time": "2022-06-17T12:39:37.616Z"
   },
   {
    "duration": 107,
    "start_time": "2022-06-17T12:39:45.864Z"
   },
   {
    "duration": 384,
    "start_time": "2022-06-17T12:40:03.266Z"
   },
   {
    "duration": 88,
    "start_time": "2022-06-17T12:52:51.060Z"
   },
   {
    "duration": 87,
    "start_time": "2022-06-17T12:53:10.207Z"
   },
   {
    "duration": 525,
    "start_time": "2022-06-17T12:53:53.008Z"
   },
   {
    "duration": 370,
    "start_time": "2022-06-17T12:54:29.447Z"
   },
   {
    "duration": 336,
    "start_time": "2022-06-17T12:55:33.972Z"
   },
   {
    "duration": 339,
    "start_time": "2022-06-17T12:55:46.108Z"
   },
   {
    "duration": 354,
    "start_time": "2022-06-17T12:56:08.383Z"
   },
   {
    "duration": 344,
    "start_time": "2022-06-17T12:56:26.380Z"
   },
   {
    "duration": 346,
    "start_time": "2022-06-17T12:56:49.811Z"
   },
   {
    "duration": 354,
    "start_time": "2022-06-17T12:57:37.909Z"
   },
   {
    "duration": 365,
    "start_time": "2022-06-17T12:58:44.311Z"
   },
   {
    "duration": 364,
    "start_time": "2022-06-17T12:59:21.089Z"
   },
   {
    "duration": 358,
    "start_time": "2022-06-17T12:59:43.879Z"
   },
   {
    "duration": 563,
    "start_time": "2022-06-17T13:00:00.631Z"
   },
   {
    "duration": 395,
    "start_time": "2022-06-17T13:00:13.608Z"
   },
   {
    "duration": 413,
    "start_time": "2022-06-17T13:00:41.607Z"
   },
   {
    "duration": 25,
    "start_time": "2022-06-17T13:02:28.684Z"
   },
   {
    "duration": 370,
    "start_time": "2022-06-17T13:02:47.270Z"
   },
   {
    "duration": 301,
    "start_time": "2022-06-17T13:16:34.725Z"
   },
   {
    "duration": 345,
    "start_time": "2022-06-17T13:17:17.996Z"
   },
   {
    "duration": 314,
    "start_time": "2022-06-17T13:17:26.665Z"
   },
   {
    "duration": 317,
    "start_time": "2022-06-17T13:18:11.429Z"
   },
   {
    "duration": 329,
    "start_time": "2022-06-17T13:18:29.829Z"
   },
   {
    "duration": 338,
    "start_time": "2022-06-17T13:18:46.557Z"
   },
   {
    "duration": 393,
    "start_time": "2022-06-17T13:18:58.141Z"
   },
   {
    "duration": 460,
    "start_time": "2022-06-17T13:19:14.498Z"
   },
   {
    "duration": 347,
    "start_time": "2022-06-17T13:19:28.695Z"
   },
   {
    "duration": 350,
    "start_time": "2022-06-17T13:19:38.197Z"
   },
   {
    "duration": 337,
    "start_time": "2022-06-17T13:20:00.058Z"
   },
   {
    "duration": 311,
    "start_time": "2022-06-17T13:20:17.113Z"
   },
   {
    "duration": 8,
    "start_time": "2022-06-17T13:21:13.185Z"
   },
   {
    "duration": 26,
    "start_time": "2022-06-17T13:21:21.609Z"
   },
   {
    "duration": 326,
    "start_time": "2022-06-17T13:21:33.797Z"
   },
   {
    "duration": 340,
    "start_time": "2022-06-17T13:21:54.785Z"
   },
   {
    "duration": 319,
    "start_time": "2022-06-17T13:22:05.913Z"
   },
   {
    "duration": 355,
    "start_time": "2022-06-17T13:22:17.585Z"
   },
   {
    "duration": 329,
    "start_time": "2022-06-17T13:22:35.061Z"
   },
   {
    "duration": 368,
    "start_time": "2022-06-17T13:26:55.600Z"
   },
   {
    "duration": 506,
    "start_time": "2022-06-17T13:27:31.788Z"
   },
   {
    "duration": 356,
    "start_time": "2022-06-17T13:28:04.978Z"
   },
   {
    "duration": 13,
    "start_time": "2022-06-17T13:50:35.120Z"
   },
   {
    "duration": 1198,
    "start_time": "2022-06-17T13:51:18.029Z"
   },
   {
    "duration": 77,
    "start_time": "2022-06-17T13:51:19.229Z"
   },
   {
    "duration": 3,
    "start_time": "2022-06-17T13:51:19.308Z"
   },
   {
    "duration": 24,
    "start_time": "2022-06-17T13:51:19.313Z"
   },
   {
    "duration": 16,
    "start_time": "2022-06-17T13:51:19.339Z"
   },
   {
    "duration": 14,
    "start_time": "2022-06-17T13:51:19.358Z"
   },
   {
    "duration": 21,
    "start_time": "2022-06-17T13:51:19.394Z"
   },
   {
    "duration": 30,
    "start_time": "2022-06-17T13:51:19.417Z"
   },
   {
    "duration": 19,
    "start_time": "2022-06-17T13:51:19.449Z"
   },
   {
    "duration": 39,
    "start_time": "2022-06-17T13:51:19.471Z"
   },
   {
    "duration": 6,
    "start_time": "2022-06-17T13:51:19.512Z"
   },
   {
    "duration": 5,
    "start_time": "2022-06-17T13:51:19.520Z"
   },
   {
    "duration": 9,
    "start_time": "2022-06-17T13:51:19.527Z"
   },
   {
    "duration": 11,
    "start_time": "2022-06-17T13:51:19.537Z"
   },
   {
    "duration": 52,
    "start_time": "2022-06-17T13:51:19.550Z"
   },
   {
    "duration": 5,
    "start_time": "2022-06-17T13:51:19.604Z"
   },
   {
    "duration": 18,
    "start_time": "2022-06-17T13:51:19.611Z"
   },
   {
    "duration": 9,
    "start_time": "2022-06-17T13:51:19.631Z"
   },
   {
    "duration": 6,
    "start_time": "2022-06-17T13:51:19.642Z"
   },
   {
    "duration": 11,
    "start_time": "2022-06-17T13:51:19.649Z"
   },
   {
    "duration": 38,
    "start_time": "2022-06-17T13:51:19.662Z"
   },
   {
    "duration": 18,
    "start_time": "2022-06-17T13:51:19.702Z"
   },
   {
    "duration": 368,
    "start_time": "2022-06-17T13:51:19.721Z"
   },
   {
    "duration": 9,
    "start_time": "2022-06-17T13:51:20.092Z"
   },
   {
    "duration": 0,
    "start_time": "2022-06-17T13:51:20.104Z"
   },
   {
    "duration": 0,
    "start_time": "2022-06-17T13:51:20.107Z"
   },
   {
    "duration": 1,
    "start_time": "2022-06-17T13:51:20.108Z"
   },
   {
    "duration": 0,
    "start_time": "2022-06-17T13:51:20.110Z"
   },
   {
    "duration": 0,
    "start_time": "2022-06-17T13:51:20.111Z"
   },
   {
    "duration": 0,
    "start_time": "2022-06-17T13:51:20.113Z"
   },
   {
    "duration": 0,
    "start_time": "2022-06-17T13:51:20.115Z"
   },
   {
    "duration": 0,
    "start_time": "2022-06-17T13:51:20.116Z"
   },
   {
    "duration": 0,
    "start_time": "2022-06-17T13:51:20.118Z"
   },
   {
    "duration": 0,
    "start_time": "2022-06-17T13:51:20.119Z"
   },
   {
    "duration": 0,
    "start_time": "2022-06-17T13:51:20.120Z"
   },
   {
    "duration": 0,
    "start_time": "2022-06-17T13:51:20.121Z"
   },
   {
    "duration": 0,
    "start_time": "2022-06-17T13:51:20.122Z"
   },
   {
    "duration": 0,
    "start_time": "2022-06-17T13:51:20.123Z"
   },
   {
    "duration": 0,
    "start_time": "2022-06-17T13:51:20.124Z"
   },
   {
    "duration": 0,
    "start_time": "2022-06-17T13:51:20.125Z"
   },
   {
    "duration": 0,
    "start_time": "2022-06-17T13:51:20.126Z"
   },
   {
    "duration": 0,
    "start_time": "2022-06-17T13:51:20.127Z"
   },
   {
    "duration": 0,
    "start_time": "2022-06-17T13:51:20.128Z"
   },
   {
    "duration": 0,
    "start_time": "2022-06-17T13:51:20.129Z"
   },
   {
    "duration": 14,
    "start_time": "2022-06-17T13:53:05.934Z"
   },
   {
    "duration": 15,
    "start_time": "2022-06-17T13:53:45.442Z"
   },
   {
    "duration": 14,
    "start_time": "2022-06-17T13:54:04.766Z"
   },
   {
    "duration": 9,
    "start_time": "2022-06-17T13:57:12.059Z"
   },
   {
    "duration": 10,
    "start_time": "2022-06-17T13:57:29.721Z"
   },
   {
    "duration": 96,
    "start_time": "2022-06-17T13:57:45.642Z"
   },
   {
    "duration": 1134,
    "start_time": "2022-06-17T13:57:53.912Z"
   },
   {
    "duration": 78,
    "start_time": "2022-06-17T13:57:55.048Z"
   },
   {
    "duration": 3,
    "start_time": "2022-06-17T13:57:55.128Z"
   },
   {
    "duration": 24,
    "start_time": "2022-06-17T13:57:55.133Z"
   },
   {
    "duration": 16,
    "start_time": "2022-06-17T13:57:55.158Z"
   },
   {
    "duration": 20,
    "start_time": "2022-06-17T13:57:55.176Z"
   },
   {
    "duration": 13,
    "start_time": "2022-06-17T13:57:55.198Z"
   },
   {
    "duration": 26,
    "start_time": "2022-06-17T13:57:55.213Z"
   },
   {
    "duration": 22,
    "start_time": "2022-06-17T13:57:55.241Z"
   },
   {
    "duration": 23,
    "start_time": "2022-06-17T13:57:55.297Z"
   },
   {
    "duration": 15,
    "start_time": "2022-06-17T13:57:55.322Z"
   },
   {
    "duration": 6,
    "start_time": "2022-06-17T13:57:55.338Z"
   },
   {
    "duration": 12,
    "start_time": "2022-06-17T13:57:55.346Z"
   },
   {
    "duration": 38,
    "start_time": "2022-06-17T13:57:55.361Z"
   },
   {
    "duration": 11,
    "start_time": "2022-06-17T13:57:55.401Z"
   },
   {
    "duration": 9,
    "start_time": "2022-06-17T13:57:55.414Z"
   },
   {
    "duration": 9,
    "start_time": "2022-06-17T13:57:55.425Z"
   },
   {
    "duration": 12,
    "start_time": "2022-06-17T13:57:55.435Z"
   },
   {
    "duration": 13,
    "start_time": "2022-06-17T13:57:55.449Z"
   },
   {
    "duration": 30,
    "start_time": "2022-06-17T13:57:55.464Z"
   },
   {
    "duration": 23,
    "start_time": "2022-06-17T13:57:55.496Z"
   },
   {
    "duration": 20,
    "start_time": "2022-06-17T13:57:55.521Z"
   },
   {
    "duration": 378,
    "start_time": "2022-06-17T13:57:55.543Z"
   },
   {
    "duration": 9,
    "start_time": "2022-06-17T13:57:55.923Z"
   },
   {
    "duration": 0,
    "start_time": "2022-06-17T13:57:55.934Z"
   },
   {
    "duration": 0,
    "start_time": "2022-06-17T13:57:55.936Z"
   },
   {
    "duration": 0,
    "start_time": "2022-06-17T13:57:55.938Z"
   },
   {
    "duration": 0,
    "start_time": "2022-06-17T13:57:55.939Z"
   },
   {
    "duration": 0,
    "start_time": "2022-06-17T13:57:55.940Z"
   },
   {
    "duration": 0,
    "start_time": "2022-06-17T13:57:55.941Z"
   },
   {
    "duration": 0,
    "start_time": "2022-06-17T13:57:55.943Z"
   },
   {
    "duration": 0,
    "start_time": "2022-06-17T13:57:55.944Z"
   },
   {
    "duration": 0,
    "start_time": "2022-06-17T13:57:55.946Z"
   },
   {
    "duration": 0,
    "start_time": "2022-06-17T13:57:55.947Z"
   },
   {
    "duration": 0,
    "start_time": "2022-06-17T13:57:55.949Z"
   },
   {
    "duration": 0,
    "start_time": "2022-06-17T13:57:55.950Z"
   },
   {
    "duration": 0,
    "start_time": "2022-06-17T13:57:55.951Z"
   },
   {
    "duration": 0,
    "start_time": "2022-06-17T13:57:55.952Z"
   },
   {
    "duration": 0,
    "start_time": "2022-06-17T13:57:55.953Z"
   },
   {
    "duration": 0,
    "start_time": "2022-06-17T13:57:55.955Z"
   },
   {
    "duration": 0,
    "start_time": "2022-06-17T13:57:55.956Z"
   },
   {
    "duration": 0,
    "start_time": "2022-06-17T13:57:55.957Z"
   },
   {
    "duration": 0,
    "start_time": "2022-06-17T13:57:55.959Z"
   },
   {
    "duration": 0,
    "start_time": "2022-06-17T13:57:55.960Z"
   },
   {
    "duration": 1206,
    "start_time": "2022-06-17T14:00:09.042Z"
   },
   {
    "duration": 77,
    "start_time": "2022-06-17T14:00:11.261Z"
   },
   {
    "duration": 4,
    "start_time": "2022-06-17T14:00:13.437Z"
   },
   {
    "duration": 27,
    "start_time": "2022-06-17T14:00:14.029Z"
   },
   {
    "duration": 22,
    "start_time": "2022-06-17T14:00:14.601Z"
   },
   {
    "duration": 17,
    "start_time": "2022-06-17T14:00:15.733Z"
   },
   {
    "duration": 12,
    "start_time": "2022-06-17T14:00:18.145Z"
   },
   {
    "duration": 26,
    "start_time": "2022-06-17T14:00:21.209Z"
   },
   {
    "duration": 19,
    "start_time": "2022-06-17T14:00:21.657Z"
   },
   {
    "duration": 19,
    "start_time": "2022-06-17T14:00:23.341Z"
   },
   {
    "duration": 8,
    "start_time": "2022-06-17T14:00:25.503Z"
   },
   {
    "duration": 6,
    "start_time": "2022-06-17T14:00:25.903Z"
   },
   {
    "duration": 9,
    "start_time": "2022-06-17T14:00:27.364Z"
   },
   {
    "duration": 10,
    "start_time": "2022-06-17T14:00:28.660Z"
   },
   {
    "duration": 10,
    "start_time": "2022-06-17T14:00:29.189Z"
   },
   {
    "duration": 5,
    "start_time": "2022-06-17T14:00:29.617Z"
   },
   {
    "duration": 9,
    "start_time": "2022-06-17T14:00:30.137Z"
   },
   {
    "duration": 9,
    "start_time": "2022-06-17T14:00:34.901Z"
   },
   {
    "duration": 6,
    "start_time": "2022-06-17T14:00:47.813Z"
   },
   {
    "duration": 5,
    "start_time": "2022-06-17T14:00:51.184Z"
   },
   {
    "duration": 11,
    "start_time": "2022-06-17T14:00:58.840Z"
   },
   {
    "duration": 11,
    "start_time": "2022-06-17T14:01:34.965Z"
   },
   {
    "duration": 12,
    "start_time": "2022-06-17T14:02:15.809Z"
   },
   {
    "duration": 13,
    "start_time": "2022-06-17T14:02:44.366Z"
   },
   {
    "duration": 1275,
    "start_time": "2022-06-17T14:03:37.983Z"
   },
   {
    "duration": 94,
    "start_time": "2022-06-17T14:03:39.260Z"
   },
   {
    "duration": 4,
    "start_time": "2022-06-17T14:03:39.356Z"
   },
   {
    "duration": 35,
    "start_time": "2022-06-17T14:03:39.362Z"
   },
   {
    "duration": 16,
    "start_time": "2022-06-17T14:03:39.400Z"
   },
   {
    "duration": 18,
    "start_time": "2022-06-17T14:03:39.418Z"
   },
   {
    "duration": 10,
    "start_time": "2022-06-17T14:03:39.438Z"
   },
   {
    "duration": 65,
    "start_time": "2022-06-17T14:03:39.450Z"
   },
   {
    "duration": 20,
    "start_time": "2022-06-17T14:03:39.517Z"
   },
   {
    "duration": 20,
    "start_time": "2022-06-17T14:03:39.538Z"
   },
   {
    "duration": 7,
    "start_time": "2022-06-17T14:03:39.560Z"
   },
   {
    "duration": 7,
    "start_time": "2022-06-17T14:03:39.595Z"
   },
   {
    "duration": 14,
    "start_time": "2022-06-17T14:03:39.604Z"
   },
   {
    "duration": 14,
    "start_time": "2022-06-17T14:03:39.621Z"
   },
   {
    "duration": 18,
    "start_time": "2022-06-17T14:03:39.638Z"
   },
   {
    "duration": 8,
    "start_time": "2022-06-17T14:03:39.658Z"
   },
   {
    "duration": 30,
    "start_time": "2022-06-17T14:03:39.668Z"
   },
   {
    "duration": 11,
    "start_time": "2022-06-17T14:03:39.700Z"
   },
   {
    "duration": 7,
    "start_time": "2022-06-17T14:03:39.712Z"
   },
   {
    "duration": 9,
    "start_time": "2022-06-17T14:03:39.721Z"
   },
   {
    "duration": 14,
    "start_time": "2022-06-17T14:03:39.732Z"
   },
   {
    "duration": 18,
    "start_time": "2022-06-17T14:03:39.748Z"
   },
   {
    "duration": 4,
    "start_time": "2022-06-17T14:03:39.793Z"
   },
   {
    "duration": 183,
    "start_time": "2022-06-17T14:03:39.799Z"
   },
   {
    "duration": 0,
    "start_time": "2022-06-17T14:03:39.994Z"
   },
   {
    "duration": 0,
    "start_time": "2022-06-17T14:03:39.995Z"
   },
   {
    "duration": 0,
    "start_time": "2022-06-17T14:03:39.996Z"
   },
   {
    "duration": 0,
    "start_time": "2022-06-17T14:03:39.998Z"
   },
   {
    "duration": 0,
    "start_time": "2022-06-17T14:03:39.998Z"
   },
   {
    "duration": 0,
    "start_time": "2022-06-17T14:03:40.000Z"
   },
   {
    "duration": 0,
    "start_time": "2022-06-17T14:03:40.001Z"
   },
   {
    "duration": 0,
    "start_time": "2022-06-17T14:03:40.002Z"
   },
   {
    "duration": 0,
    "start_time": "2022-06-17T14:03:40.003Z"
   },
   {
    "duration": 0,
    "start_time": "2022-06-17T14:03:40.005Z"
   },
   {
    "duration": 0,
    "start_time": "2022-06-17T14:03:40.005Z"
   },
   {
    "duration": 0,
    "start_time": "2022-06-17T14:03:40.006Z"
   },
   {
    "duration": 0,
    "start_time": "2022-06-17T14:03:40.007Z"
   },
   {
    "duration": 0,
    "start_time": "2022-06-17T14:03:40.009Z"
   },
   {
    "duration": 0,
    "start_time": "2022-06-17T14:03:40.010Z"
   },
   {
    "duration": 0,
    "start_time": "2022-06-17T14:03:40.011Z"
   },
   {
    "duration": 0,
    "start_time": "2022-06-17T14:03:40.012Z"
   },
   {
    "duration": 0,
    "start_time": "2022-06-17T14:03:40.013Z"
   },
   {
    "duration": 0,
    "start_time": "2022-06-17T14:03:40.014Z"
   },
   {
    "duration": 0,
    "start_time": "2022-06-17T14:03:40.015Z"
   },
   {
    "duration": 10,
    "start_time": "2022-06-17T14:06:31.529Z"
   },
   {
    "duration": 12,
    "start_time": "2022-06-17T14:06:55.464Z"
   },
   {
    "duration": 12,
    "start_time": "2022-06-17T14:08:41.508Z"
   },
   {
    "duration": 9,
    "start_time": "2022-06-17T14:09:45.732Z"
   },
   {
    "duration": 5,
    "start_time": "2022-06-17T14:10:29.578Z"
   },
   {
    "duration": 13,
    "start_time": "2022-06-17T14:10:36.432Z"
   },
   {
    "duration": 1247,
    "start_time": "2022-06-17T14:11:10.507Z"
   },
   {
    "duration": 83,
    "start_time": "2022-06-17T14:11:11.756Z"
   },
   {
    "duration": 3,
    "start_time": "2022-06-17T14:11:11.841Z"
   },
   {
    "duration": 38,
    "start_time": "2022-06-17T14:11:11.846Z"
   },
   {
    "duration": 15,
    "start_time": "2022-06-17T14:11:11.887Z"
   },
   {
    "duration": 22,
    "start_time": "2022-06-17T14:11:11.903Z"
   },
   {
    "duration": 24,
    "start_time": "2022-06-17T14:11:11.927Z"
   },
   {
    "duration": 31,
    "start_time": "2022-06-17T14:11:11.953Z"
   },
   {
    "duration": 23,
    "start_time": "2022-06-17T14:11:11.986Z"
   },
   {
    "duration": 49,
    "start_time": "2022-06-17T14:11:12.010Z"
   },
   {
    "duration": 24,
    "start_time": "2022-06-17T14:11:12.060Z"
   },
   {
    "duration": 18,
    "start_time": "2022-06-17T14:11:12.086Z"
   },
   {
    "duration": 32,
    "start_time": "2022-06-17T14:11:12.106Z"
   },
   {
    "duration": 14,
    "start_time": "2022-06-17T14:11:12.141Z"
   },
   {
    "duration": 28,
    "start_time": "2022-06-17T14:11:12.156Z"
   },
   {
    "duration": 16,
    "start_time": "2022-06-17T14:11:12.185Z"
   },
   {
    "duration": 25,
    "start_time": "2022-06-17T14:11:12.202Z"
   },
   {
    "duration": 24,
    "start_time": "2022-06-17T14:11:12.228Z"
   },
   {
    "duration": 18,
    "start_time": "2022-06-17T14:11:12.254Z"
   },
   {
    "duration": 13,
    "start_time": "2022-06-17T14:11:12.273Z"
   },
   {
    "duration": 26,
    "start_time": "2022-06-17T14:11:12.287Z"
   },
   {
    "duration": 138,
    "start_time": "2022-06-17T14:11:12.315Z"
   },
   {
    "duration": 0,
    "start_time": "2022-06-17T14:11:12.455Z"
   },
   {
    "duration": 0,
    "start_time": "2022-06-17T14:11:12.456Z"
   },
   {
    "duration": 0,
    "start_time": "2022-06-17T14:11:12.457Z"
   },
   {
    "duration": 1,
    "start_time": "2022-06-17T14:11:12.458Z"
   },
   {
    "duration": 0,
    "start_time": "2022-06-17T14:11:12.459Z"
   },
   {
    "duration": 0,
    "start_time": "2022-06-17T14:11:12.461Z"
   },
   {
    "duration": 0,
    "start_time": "2022-06-17T14:11:12.462Z"
   },
   {
    "duration": 0,
    "start_time": "2022-06-17T14:11:12.463Z"
   },
   {
    "duration": 0,
    "start_time": "2022-06-17T14:11:12.464Z"
   },
   {
    "duration": 0,
    "start_time": "2022-06-17T14:11:12.465Z"
   },
   {
    "duration": 0,
    "start_time": "2022-06-17T14:11:12.466Z"
   },
   {
    "duration": 0,
    "start_time": "2022-06-17T14:11:12.467Z"
   },
   {
    "duration": 0,
    "start_time": "2022-06-17T14:11:12.468Z"
   },
   {
    "duration": 0,
    "start_time": "2022-06-17T14:11:12.494Z"
   },
   {
    "duration": 0,
    "start_time": "2022-06-17T14:11:12.496Z"
   },
   {
    "duration": 0,
    "start_time": "2022-06-17T14:11:12.497Z"
   },
   {
    "duration": 0,
    "start_time": "2022-06-17T14:11:12.500Z"
   },
   {
    "duration": 0,
    "start_time": "2022-06-17T14:11:12.501Z"
   },
   {
    "duration": 0,
    "start_time": "2022-06-17T14:11:12.503Z"
   },
   {
    "duration": 0,
    "start_time": "2022-06-17T14:11:12.503Z"
   },
   {
    "duration": 0,
    "start_time": "2022-06-17T14:11:12.505Z"
   },
   {
    "duration": 0,
    "start_time": "2022-06-17T14:11:12.506Z"
   },
   {
    "duration": 0,
    "start_time": "2022-06-17T14:11:12.507Z"
   },
   {
    "duration": 12,
    "start_time": "2022-06-17T14:12:34.094Z"
   },
   {
    "duration": 12,
    "start_time": "2022-06-17T14:13:02.544Z"
   },
   {
    "duration": 5,
    "start_time": "2022-06-17T14:16:15.220Z"
   },
   {
    "duration": 12,
    "start_time": "2022-06-17T14:16:27.867Z"
   },
   {
    "duration": 1078,
    "start_time": "2022-06-17T14:17:13.535Z"
   },
   {
    "duration": 75,
    "start_time": "2022-06-17T14:17:14.615Z"
   },
   {
    "duration": 3,
    "start_time": "2022-06-17T14:17:14.692Z"
   },
   {
    "duration": 26,
    "start_time": "2022-06-17T14:17:14.696Z"
   },
   {
    "duration": 15,
    "start_time": "2022-06-17T14:17:14.723Z"
   },
   {
    "duration": 14,
    "start_time": "2022-06-17T14:17:14.739Z"
   },
   {
    "duration": 39,
    "start_time": "2022-06-17T14:17:14.755Z"
   },
   {
    "duration": 24,
    "start_time": "2022-06-17T14:17:14.796Z"
   },
   {
    "duration": 17,
    "start_time": "2022-06-17T14:17:14.822Z"
   },
   {
    "duration": 17,
    "start_time": "2022-06-17T14:17:14.841Z"
   },
   {
    "duration": 37,
    "start_time": "2022-06-17T14:17:14.859Z"
   },
   {
    "duration": 6,
    "start_time": "2022-06-17T14:17:14.898Z"
   },
   {
    "duration": 10,
    "start_time": "2022-06-17T14:17:14.905Z"
   },
   {
    "duration": 10,
    "start_time": "2022-06-17T14:17:14.917Z"
   },
   {
    "duration": 8,
    "start_time": "2022-06-17T14:17:14.929Z"
   },
   {
    "duration": 4,
    "start_time": "2022-06-17T14:17:14.938Z"
   },
   {
    "duration": 5,
    "start_time": "2022-06-17T14:17:14.944Z"
   },
   {
    "duration": 46,
    "start_time": "2022-06-17T14:17:14.951Z"
   },
   {
    "duration": 9,
    "start_time": "2022-06-17T14:17:14.999Z"
   },
   {
    "duration": 33,
    "start_time": "2022-06-17T14:17:15.010Z"
   },
   {
    "duration": 21,
    "start_time": "2022-06-17T14:17:15.045Z"
   },
   {
    "duration": 38,
    "start_time": "2022-06-17T14:17:15.068Z"
   },
   {
    "duration": 28,
    "start_time": "2022-06-17T14:17:15.108Z"
   },
   {
    "duration": 22,
    "start_time": "2022-06-17T14:17:15.138Z"
   },
   {
    "duration": 16,
    "start_time": "2022-06-17T14:17:15.162Z"
   },
   {
    "duration": 169,
    "start_time": "2022-06-17T14:17:15.180Z"
   },
   {
    "duration": 0,
    "start_time": "2022-06-17T14:17:15.351Z"
   },
   {
    "duration": 0,
    "start_time": "2022-06-17T14:17:15.352Z"
   },
   {
    "duration": 0,
    "start_time": "2022-06-17T14:17:15.353Z"
   },
   {
    "duration": 0,
    "start_time": "2022-06-17T14:17:15.354Z"
   },
   {
    "duration": 0,
    "start_time": "2022-06-17T14:17:15.355Z"
   },
   {
    "duration": 0,
    "start_time": "2022-06-17T14:17:15.356Z"
   },
   {
    "duration": 0,
    "start_time": "2022-06-17T14:17:15.357Z"
   },
   {
    "duration": 0,
    "start_time": "2022-06-17T14:17:15.358Z"
   },
   {
    "duration": 0,
    "start_time": "2022-06-17T14:17:15.359Z"
   },
   {
    "duration": 0,
    "start_time": "2022-06-17T14:17:15.360Z"
   },
   {
    "duration": 0,
    "start_time": "2022-06-17T14:17:15.361Z"
   },
   {
    "duration": 0,
    "start_time": "2022-06-17T14:17:15.362Z"
   },
   {
    "duration": 0,
    "start_time": "2022-06-17T14:17:15.363Z"
   },
   {
    "duration": 0,
    "start_time": "2022-06-17T14:17:15.364Z"
   },
   {
    "duration": 0,
    "start_time": "2022-06-17T14:17:15.395Z"
   },
   {
    "duration": 0,
    "start_time": "2022-06-17T14:17:15.396Z"
   },
   {
    "duration": 0,
    "start_time": "2022-06-17T14:17:15.397Z"
   },
   {
    "duration": 0,
    "start_time": "2022-06-17T14:17:15.398Z"
   },
   {
    "duration": 0,
    "start_time": "2022-06-17T14:17:15.399Z"
   },
   {
    "duration": 0,
    "start_time": "2022-06-17T14:17:15.400Z"
   },
   {
    "duration": 5,
    "start_time": "2022-06-17T14:19:01.490Z"
   },
   {
    "duration": 13,
    "start_time": "2022-06-17T14:19:08.863Z"
   },
   {
    "duration": 15,
    "start_time": "2022-06-17T14:20:08.468Z"
   },
   {
    "duration": 6,
    "start_time": "2022-06-17T14:20:29.069Z"
   },
   {
    "duration": 8,
    "start_time": "2022-06-17T14:20:35.429Z"
   },
   {
    "duration": 14,
    "start_time": "2022-06-17T14:20:52.060Z"
   },
   {
    "duration": 6,
    "start_time": "2022-06-17T14:22:22.488Z"
   },
   {
    "duration": 12,
    "start_time": "2022-06-17T14:22:28.785Z"
   },
   {
    "duration": 15,
    "start_time": "2022-06-17T14:23:17.435Z"
   },
   {
    "duration": 18,
    "start_time": "2022-06-17T14:24:10.635Z"
   },
   {
    "duration": 16,
    "start_time": "2022-06-17T14:25:43.389Z"
   },
   {
    "duration": 15,
    "start_time": "2022-06-17T14:25:51.648Z"
   },
   {
    "duration": 16,
    "start_time": "2022-06-17T14:26:58.284Z"
   },
   {
    "duration": 13,
    "start_time": "2022-06-17T14:27:56.759Z"
   },
   {
    "duration": 11,
    "start_time": "2022-06-17T14:28:03.547Z"
   },
   {
    "duration": 19,
    "start_time": "2022-06-17T14:29:58.040Z"
   },
   {
    "duration": 13,
    "start_time": "2022-06-17T14:30:10.114Z"
   },
   {
    "duration": 6,
    "start_time": "2022-06-17T14:30:47.790Z"
   },
   {
    "duration": 9,
    "start_time": "2022-06-17T14:31:06.812Z"
   },
   {
    "duration": 1134,
    "start_time": "2022-06-17T14:31:22.808Z"
   },
   {
    "duration": 76,
    "start_time": "2022-06-17T14:31:23.944Z"
   },
   {
    "duration": 3,
    "start_time": "2022-06-17T14:31:24.022Z"
   },
   {
    "duration": 25,
    "start_time": "2022-06-17T14:31:24.027Z"
   },
   {
    "duration": 22,
    "start_time": "2022-06-17T14:31:24.055Z"
   },
   {
    "duration": 26,
    "start_time": "2022-06-17T14:31:24.079Z"
   },
   {
    "duration": 16,
    "start_time": "2022-06-17T14:31:24.107Z"
   },
   {
    "duration": 39,
    "start_time": "2022-06-17T14:31:24.125Z"
   },
   {
    "duration": 56,
    "start_time": "2022-06-17T14:31:24.166Z"
   },
   {
    "duration": 22,
    "start_time": "2022-06-17T14:31:24.225Z"
   },
   {
    "duration": 7,
    "start_time": "2022-06-17T14:31:24.250Z"
   },
   {
    "duration": 7,
    "start_time": "2022-06-17T14:31:24.259Z"
   },
   {
    "duration": 9,
    "start_time": "2022-06-17T14:31:24.294Z"
   },
   {
    "duration": 11,
    "start_time": "2022-06-17T14:31:24.306Z"
   },
   {
    "duration": 9,
    "start_time": "2022-06-17T14:31:24.318Z"
   },
   {
    "duration": 5,
    "start_time": "2022-06-17T14:31:24.329Z"
   },
   {
    "duration": 10,
    "start_time": "2022-06-17T14:31:24.336Z"
   },
   {
    "duration": 11,
    "start_time": "2022-06-17T14:31:24.348Z"
   },
   {
    "duration": 6,
    "start_time": "2022-06-17T14:31:24.393Z"
   },
   {
    "duration": 18,
    "start_time": "2022-06-17T14:31:24.401Z"
   },
   {
    "duration": 18,
    "start_time": "2022-06-17T14:31:24.422Z"
   },
   {
    "duration": 10,
    "start_time": "2022-06-17T14:31:24.443Z"
   },
   {
    "duration": 134,
    "start_time": "2022-06-17T14:31:24.455Z"
   },
   {
    "duration": 0,
    "start_time": "2022-06-17T14:31:24.594Z"
   },
   {
    "duration": 0,
    "start_time": "2022-06-17T14:31:24.595Z"
   },
   {
    "duration": 0,
    "start_time": "2022-06-17T14:31:24.597Z"
   },
   {
    "duration": 0,
    "start_time": "2022-06-17T14:31:24.598Z"
   },
   {
    "duration": 0,
    "start_time": "2022-06-17T14:31:24.599Z"
   },
   {
    "duration": 0,
    "start_time": "2022-06-17T14:31:24.601Z"
   },
   {
    "duration": 0,
    "start_time": "2022-06-17T14:31:24.602Z"
   },
   {
    "duration": 0,
    "start_time": "2022-06-17T14:31:24.603Z"
   },
   {
    "duration": 0,
    "start_time": "2022-06-17T14:31:24.604Z"
   },
   {
    "duration": 0,
    "start_time": "2022-06-17T14:31:24.605Z"
   },
   {
    "duration": 0,
    "start_time": "2022-06-17T14:31:24.606Z"
   },
   {
    "duration": 0,
    "start_time": "2022-06-17T14:31:24.607Z"
   },
   {
    "duration": 0,
    "start_time": "2022-06-17T14:31:24.608Z"
   },
   {
    "duration": 0,
    "start_time": "2022-06-17T14:31:24.609Z"
   },
   {
    "duration": 0,
    "start_time": "2022-06-17T14:31:24.610Z"
   },
   {
    "duration": 0,
    "start_time": "2022-06-17T14:31:24.612Z"
   },
   {
    "duration": 0,
    "start_time": "2022-06-17T14:31:24.615Z"
   },
   {
    "duration": 0,
    "start_time": "2022-06-17T14:31:24.617Z"
   },
   {
    "duration": 0,
    "start_time": "2022-06-17T14:31:24.618Z"
   },
   {
    "duration": 0,
    "start_time": "2022-06-17T14:31:24.620Z"
   },
   {
    "duration": 0,
    "start_time": "2022-06-17T14:31:24.621Z"
   },
   {
    "duration": 0,
    "start_time": "2022-06-17T14:31:24.622Z"
   },
   {
    "duration": 0,
    "start_time": "2022-06-17T14:31:24.624Z"
   },
   {
    "duration": 0,
    "start_time": "2022-06-17T14:31:24.625Z"
   },
   {
    "duration": 52,
    "start_time": "2022-06-17T22:28:45.176Z"
   },
   {
    "duration": 1346,
    "start_time": "2022-06-17T22:28:53.837Z"
   },
   {
    "duration": 231,
    "start_time": "2022-06-17T22:28:55.186Z"
   },
   {
    "duration": 4,
    "start_time": "2022-06-17T22:28:55.418Z"
   },
   {
    "duration": 24,
    "start_time": "2022-06-17T22:28:55.423Z"
   },
   {
    "duration": 20,
    "start_time": "2022-06-17T22:28:55.448Z"
   },
   {
    "duration": 20,
    "start_time": "2022-06-17T22:28:55.470Z"
   },
   {
    "duration": 14,
    "start_time": "2022-06-17T22:28:55.492Z"
   },
   {
    "duration": 62,
    "start_time": "2022-06-17T22:28:55.508Z"
   },
   {
    "duration": 24,
    "start_time": "2022-06-17T22:28:55.572Z"
   },
   {
    "duration": 19,
    "start_time": "2022-06-17T22:28:55.599Z"
   },
   {
    "duration": 9,
    "start_time": "2022-06-17T22:28:55.620Z"
   },
   {
    "duration": 6,
    "start_time": "2022-06-17T22:28:55.658Z"
   },
   {
    "duration": 9,
    "start_time": "2022-06-17T22:28:55.667Z"
   },
   {
    "duration": 15,
    "start_time": "2022-06-17T22:28:55.678Z"
   },
   {
    "duration": 14,
    "start_time": "2022-06-17T22:28:55.695Z"
   },
   {
    "duration": 11,
    "start_time": "2022-06-17T22:28:55.711Z"
   },
   {
    "duration": 8,
    "start_time": "2022-06-17T22:28:55.724Z"
   },
   {
    "duration": 28,
    "start_time": "2022-06-17T22:28:55.733Z"
   },
   {
    "duration": 5,
    "start_time": "2022-06-17T22:28:55.762Z"
   },
   {
    "duration": 8,
    "start_time": "2022-06-17T22:28:55.768Z"
   },
   {
    "duration": 15,
    "start_time": "2022-06-17T22:28:55.778Z"
   },
   {
    "duration": 29,
    "start_time": "2022-06-17T22:28:55.795Z"
   },
   {
    "duration": 37,
    "start_time": "2022-06-17T22:28:55.825Z"
   },
   {
    "duration": 132,
    "start_time": "2022-06-17T22:28:55.864Z"
   },
   {
    "duration": 0,
    "start_time": "2022-06-17T22:28:55.998Z"
   },
   {
    "duration": 0,
    "start_time": "2022-06-17T22:28:55.999Z"
   },
   {
    "duration": 0,
    "start_time": "2022-06-17T22:28:56.000Z"
   },
   {
    "duration": 0,
    "start_time": "2022-06-17T22:28:56.003Z"
   },
   {
    "duration": 0,
    "start_time": "2022-06-17T22:28:56.004Z"
   },
   {
    "duration": 0,
    "start_time": "2022-06-17T22:28:56.005Z"
   },
   {
    "duration": 0,
    "start_time": "2022-06-17T22:28:56.006Z"
   },
   {
    "duration": 0,
    "start_time": "2022-06-17T22:28:56.007Z"
   },
   {
    "duration": 0,
    "start_time": "2022-06-17T22:28:56.008Z"
   },
   {
    "duration": 0,
    "start_time": "2022-06-17T22:28:56.010Z"
   },
   {
    "duration": 0,
    "start_time": "2022-06-17T22:28:56.011Z"
   },
   {
    "duration": 0,
    "start_time": "2022-06-17T22:28:56.012Z"
   },
   {
    "duration": 0,
    "start_time": "2022-06-17T22:28:56.013Z"
   },
   {
    "duration": 0,
    "start_time": "2022-06-17T22:28:56.014Z"
   },
   {
    "duration": 0,
    "start_time": "2022-06-17T22:28:56.015Z"
   },
   {
    "duration": 0,
    "start_time": "2022-06-17T22:28:56.017Z"
   },
   {
    "duration": 0,
    "start_time": "2022-06-17T22:28:56.018Z"
   },
   {
    "duration": 0,
    "start_time": "2022-06-17T22:28:56.020Z"
   },
   {
    "duration": 0,
    "start_time": "2022-06-17T22:28:56.021Z"
   },
   {
    "duration": 0,
    "start_time": "2022-06-17T22:28:56.022Z"
   },
   {
    "duration": 0,
    "start_time": "2022-06-17T22:28:56.060Z"
   },
   {
    "duration": 0,
    "start_time": "2022-06-17T22:28:56.061Z"
   },
   {
    "duration": 0,
    "start_time": "2022-06-17T22:28:56.062Z"
   },
   {
    "duration": 15,
    "start_time": "2022-06-17T22:30:38.400Z"
   },
   {
    "duration": 69,
    "start_time": "2022-06-17T22:30:46.152Z"
   },
   {
    "duration": 11,
    "start_time": "2022-06-17T22:31:54.236Z"
   },
   {
    "duration": 13,
    "start_time": "2022-06-17T22:32:04.964Z"
   },
   {
    "duration": 336,
    "start_time": "2022-06-17T22:33:29.252Z"
   },
   {
    "duration": 298,
    "start_time": "2022-06-17T22:34:42.032Z"
   },
   {
    "duration": 18,
    "start_time": "2022-06-17T22:35:13.636Z"
   },
   {
    "duration": 310,
    "start_time": "2022-06-17T22:35:18.843Z"
   },
   {
    "duration": 117,
    "start_time": "2022-06-17T22:35:44.812Z"
   },
   {
    "duration": 124,
    "start_time": "2022-06-17T22:37:49.357Z"
   },
   {
    "duration": 113,
    "start_time": "2022-06-17T22:38:17.628Z"
   },
   {
    "duration": 114,
    "start_time": "2022-06-17T22:39:49.707Z"
   },
   {
    "duration": 306,
    "start_time": "2022-06-17T22:40:29.943Z"
   },
   {
    "duration": 510,
    "start_time": "2022-06-17T22:43:05.399Z"
   },
   {
    "duration": 264,
    "start_time": "2022-06-17T22:43:21.295Z"
   },
   {
    "duration": 271,
    "start_time": "2022-06-17T22:43:56.182Z"
   },
   {
    "duration": 277,
    "start_time": "2022-06-17T22:44:03.294Z"
   },
   {
    "duration": 300,
    "start_time": "2022-06-17T22:44:13.071Z"
   },
   {
    "duration": 273,
    "start_time": "2022-06-17T22:44:18.438Z"
   },
   {
    "duration": 1123,
    "start_time": "2022-06-18T06:22:17.526Z"
   },
   {
    "duration": 196,
    "start_time": "2022-06-18T06:22:18.651Z"
   },
   {
    "duration": 3,
    "start_time": "2022-06-18T06:22:18.849Z"
   },
   {
    "duration": 23,
    "start_time": "2022-06-18T06:22:18.854Z"
   },
   {
    "duration": 15,
    "start_time": "2022-06-18T06:22:18.878Z"
   },
   {
    "duration": 14,
    "start_time": "2022-06-18T06:22:18.895Z"
   },
   {
    "duration": 25,
    "start_time": "2022-06-18T06:22:18.911Z"
   },
   {
    "duration": 33,
    "start_time": "2022-06-18T06:22:18.938Z"
   },
   {
    "duration": 18,
    "start_time": "2022-06-18T06:22:18.972Z"
   },
   {
    "duration": 39,
    "start_time": "2022-06-18T06:22:18.992Z"
   },
   {
    "duration": 9,
    "start_time": "2022-06-18T06:22:19.032Z"
   },
   {
    "duration": 5,
    "start_time": "2022-06-18T06:22:19.043Z"
   },
   {
    "duration": 29,
    "start_time": "2022-06-18T06:22:19.050Z"
   },
   {
    "duration": 15,
    "start_time": "2022-06-18T06:22:19.080Z"
   },
   {
    "duration": 9,
    "start_time": "2022-06-18T06:22:19.097Z"
   },
   {
    "duration": 4,
    "start_time": "2022-06-18T06:22:19.108Z"
   },
   {
    "duration": 15,
    "start_time": "2022-06-18T06:22:19.114Z"
   },
   {
    "duration": 6,
    "start_time": "2022-06-18T06:22:19.131Z"
   },
   {
    "duration": 5,
    "start_time": "2022-06-18T06:22:19.139Z"
   },
   {
    "duration": 9,
    "start_time": "2022-06-18T06:22:19.145Z"
   },
   {
    "duration": 15,
    "start_time": "2022-06-18T06:22:19.155Z"
   },
   {
    "duration": 340,
    "start_time": "2022-06-18T06:22:19.171Z"
   },
   {
    "duration": 266,
    "start_time": "2022-06-18T06:22:19.512Z"
   },
   {
    "duration": 163,
    "start_time": "2022-06-18T06:22:19.780Z"
   },
   {
    "duration": 4,
    "start_time": "2022-06-18T06:22:19.945Z"
   },
   {
    "duration": 160,
    "start_time": "2022-06-18T06:22:19.951Z"
   },
   {
    "duration": 267,
    "start_time": "2022-06-18T06:22:20.113Z"
   },
   {
    "duration": 177,
    "start_time": "2022-06-18T06:22:20.383Z"
   },
   {
    "duration": 246,
    "start_time": "2022-06-18T06:22:20.561Z"
   },
   {
    "duration": 25,
    "start_time": "2022-06-18T06:22:20.808Z"
   },
   {
    "duration": 147,
    "start_time": "2022-06-18T06:22:20.834Z"
   },
   {
    "duration": 5,
    "start_time": "2022-06-18T06:22:20.983Z"
   },
   {
    "duration": 143,
    "start_time": "2022-06-18T06:22:20.989Z"
   },
   {
    "duration": 5,
    "start_time": "2022-06-18T06:22:21.134Z"
   },
   {
    "duration": 120,
    "start_time": "2022-06-18T06:22:21.141Z"
   },
   {
    "duration": 151,
    "start_time": "2022-06-18T06:22:21.262Z"
   },
   {
    "duration": 33,
    "start_time": "2022-06-18T06:22:21.415Z"
   },
   {
    "duration": 12,
    "start_time": "2022-06-18T06:22:21.449Z"
   },
   {
    "duration": 17,
    "start_time": "2022-06-18T06:22:21.462Z"
   },
   {
    "duration": 8,
    "start_time": "2022-06-18T06:22:21.480Z"
   },
   {
    "duration": 44,
    "start_time": "2022-06-18T06:22:21.489Z"
   },
   {
    "duration": 15,
    "start_time": "2022-06-18T06:22:21.535Z"
   },
   {
    "duration": 275,
    "start_time": "2022-06-18T06:30:59.171Z"
   }
  ],
  "kernelspec": {
   "display_name": "Python 3 (ipykernel)",
   "language": "python",
   "name": "python3"
  },
  "language_info": {
   "codemirror_mode": {
    "name": "ipython",
    "version": 3
   },
   "file_extension": ".py",
   "mimetype": "text/x-python",
   "name": "python",
   "nbconvert_exporter": "python",
   "pygments_lexer": "ipython3",
   "version": "3.9.7"
  },
  "toc": {
   "base_numbering": "1",
   "nav_menu": {},
   "number_sections": true,
   "sideBar": true,
   "skip_h1_title": true,
   "title_cell": "Содержание",
   "title_sidebar": "Contents",
   "toc_cell": true,
   "toc_position": {
    "height": "calc(100% - 180px)",
    "left": "10px",
    "top": "150px",
    "width": "235px"
   },
   "toc_section_display": true,
   "toc_window_display": true
  }
 },
 "nbformat": 4,
 "nbformat_minor": 5
}
