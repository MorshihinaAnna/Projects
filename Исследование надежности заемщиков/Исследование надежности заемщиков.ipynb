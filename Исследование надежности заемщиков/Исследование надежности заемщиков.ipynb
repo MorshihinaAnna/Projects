{
 "cells": [
  {
   "cell_type": "markdown",
   "id": "f41cdc16",
   "metadata": {},
   "source": [
    "# Исследование надежности заемщиков"
   ]
  },
  {
   "cell_type": "markdown",
   "id": "040f8828",
   "metadata": {},
   "source": [
    "Заказчик — кредитный отдел банка. Необходимо выяснить: влияет ли семейное положение и количество детей клиента на факт погашения кредита в срок. \n",
    "\n",
    "Результаты исследования будут учтены при построении модели кредитного скоринга — специальной системы, которая оценивает способность потенциального заёмщика вернуть кредит банку.\n",
    "\n",
    "\n",
    "**Цель исследования** - проверка гипотез:\n",
    "\n",
    "1.\tКоличество детей заемщика влияет на возврат кредита в срок.\n",
    "2.\tСемейное положение заемщика влияет на возврат кредита в срок.\n",
    "3.\tУровень дохода заемщика влияет на возврат кредита в срок.\n",
    "4.\tКак цель кредита влияет на его возврат в срок.\n",
    "\n",
    "\n",
    "**Ход исследования**\n",
    "\n",
    "Входные данные от банка — статистика о платёжеспособности клиентов из файла /datasets/data.csv. \n",
    "О качестве данных известно, что присутствуют пропущенные значения, аномалии и дубликаты строк. \n",
    "Поэтому перед проведением исследования потребуется обзор данных и их предобработка.\n",
    "\n",
    "\n",
    "Исследование пройдёт в три этапа:\n",
    " 1. Обзор данных.\n",
    " 2. Предобработка данных.\n",
    " 3. Проверка гипотез."
   ]
  },
  {
   "cell_type": "markdown",
   "id": "e15d3c5e",
   "metadata": {},
   "source": [
    "## Обзор данных"
   ]
  },
  {
   "cell_type": "code",
   "execution_count": 1,
   "id": "067eb19a",
   "metadata": {},
   "outputs": [],
   "source": [
    "import pandas as pd"
   ]
  },
  {
   "cell_type": "code",
   "execution_count": 2,
   "id": "e56c833c",
   "metadata": {},
   "outputs": [
    {
     "data": {
      "text/html": [
       "<div>\n",
       "<style scoped>\n",
       "    .dataframe tbody tr th:only-of-type {\n",
       "        vertical-align: middle;\n",
       "    }\n",
       "\n",
       "    .dataframe tbody tr th {\n",
       "        vertical-align: top;\n",
       "    }\n",
       "\n",
       "    .dataframe thead th {\n",
       "        text-align: right;\n",
       "    }\n",
       "</style>\n",
       "<table border=\"1\" class=\"dataframe\">\n",
       "  <thead>\n",
       "    <tr style=\"text-align: right;\">\n",
       "      <th></th>\n",
       "      <th>children</th>\n",
       "      <th>days_employed</th>\n",
       "      <th>dob_years</th>\n",
       "      <th>education</th>\n",
       "      <th>education_id</th>\n",
       "      <th>family_status</th>\n",
       "      <th>family_status_id</th>\n",
       "      <th>gender</th>\n",
       "      <th>income_type</th>\n",
       "      <th>debt</th>\n",
       "      <th>total_income</th>\n",
       "      <th>purpose</th>\n",
       "    </tr>\n",
       "  </thead>\n",
       "  <tbody>\n",
       "    <tr>\n",
       "      <th>0</th>\n",
       "      <td>1</td>\n",
       "      <td>-8437.673028</td>\n",
       "      <td>42</td>\n",
       "      <td>высшее</td>\n",
       "      <td>0</td>\n",
       "      <td>женат / замужем</td>\n",
       "      <td>0</td>\n",
       "      <td>F</td>\n",
       "      <td>сотрудник</td>\n",
       "      <td>0</td>\n",
       "      <td>253875.639453</td>\n",
       "      <td>покупка жилья</td>\n",
       "    </tr>\n",
       "    <tr>\n",
       "      <th>1</th>\n",
       "      <td>1</td>\n",
       "      <td>-4024.803754</td>\n",
       "      <td>36</td>\n",
       "      <td>среднее</td>\n",
       "      <td>1</td>\n",
       "      <td>женат / замужем</td>\n",
       "      <td>0</td>\n",
       "      <td>F</td>\n",
       "      <td>сотрудник</td>\n",
       "      <td>0</td>\n",
       "      <td>112080.014102</td>\n",
       "      <td>приобретение автомобиля</td>\n",
       "    </tr>\n",
       "    <tr>\n",
       "      <th>2</th>\n",
       "      <td>0</td>\n",
       "      <td>-5623.422610</td>\n",
       "      <td>33</td>\n",
       "      <td>Среднее</td>\n",
       "      <td>1</td>\n",
       "      <td>женат / замужем</td>\n",
       "      <td>0</td>\n",
       "      <td>M</td>\n",
       "      <td>сотрудник</td>\n",
       "      <td>0</td>\n",
       "      <td>145885.952297</td>\n",
       "      <td>покупка жилья</td>\n",
       "    </tr>\n",
       "    <tr>\n",
       "      <th>3</th>\n",
       "      <td>3</td>\n",
       "      <td>-4124.747207</td>\n",
       "      <td>32</td>\n",
       "      <td>среднее</td>\n",
       "      <td>1</td>\n",
       "      <td>женат / замужем</td>\n",
       "      <td>0</td>\n",
       "      <td>M</td>\n",
       "      <td>сотрудник</td>\n",
       "      <td>0</td>\n",
       "      <td>267628.550329</td>\n",
       "      <td>дополнительное образование</td>\n",
       "    </tr>\n",
       "    <tr>\n",
       "      <th>4</th>\n",
       "      <td>0</td>\n",
       "      <td>340266.072047</td>\n",
       "      <td>53</td>\n",
       "      <td>среднее</td>\n",
       "      <td>1</td>\n",
       "      <td>гражданский брак</td>\n",
       "      <td>1</td>\n",
       "      <td>F</td>\n",
       "      <td>пенсионер</td>\n",
       "      <td>0</td>\n",
       "      <td>158616.077870</td>\n",
       "      <td>сыграть свадьбу</td>\n",
       "    </tr>\n",
       "    <tr>\n",
       "      <th>5</th>\n",
       "      <td>0</td>\n",
       "      <td>-926.185831</td>\n",
       "      <td>27</td>\n",
       "      <td>высшее</td>\n",
       "      <td>0</td>\n",
       "      <td>гражданский брак</td>\n",
       "      <td>1</td>\n",
       "      <td>M</td>\n",
       "      <td>компаньон</td>\n",
       "      <td>0</td>\n",
       "      <td>255763.565419</td>\n",
       "      <td>покупка жилья</td>\n",
       "    </tr>\n",
       "    <tr>\n",
       "      <th>6</th>\n",
       "      <td>0</td>\n",
       "      <td>-2879.202052</td>\n",
       "      <td>43</td>\n",
       "      <td>высшее</td>\n",
       "      <td>0</td>\n",
       "      <td>женат / замужем</td>\n",
       "      <td>0</td>\n",
       "      <td>F</td>\n",
       "      <td>компаньон</td>\n",
       "      <td>0</td>\n",
       "      <td>240525.971920</td>\n",
       "      <td>операции с жильем</td>\n",
       "    </tr>\n",
       "    <tr>\n",
       "      <th>7</th>\n",
       "      <td>0</td>\n",
       "      <td>-152.779569</td>\n",
       "      <td>50</td>\n",
       "      <td>СРЕДНЕЕ</td>\n",
       "      <td>1</td>\n",
       "      <td>женат / замужем</td>\n",
       "      <td>0</td>\n",
       "      <td>M</td>\n",
       "      <td>сотрудник</td>\n",
       "      <td>0</td>\n",
       "      <td>135823.934197</td>\n",
       "      <td>образование</td>\n",
       "    </tr>\n",
       "    <tr>\n",
       "      <th>8</th>\n",
       "      <td>2</td>\n",
       "      <td>-6929.865299</td>\n",
       "      <td>35</td>\n",
       "      <td>ВЫСШЕЕ</td>\n",
       "      <td>0</td>\n",
       "      <td>гражданский брак</td>\n",
       "      <td>1</td>\n",
       "      <td>F</td>\n",
       "      <td>сотрудник</td>\n",
       "      <td>0</td>\n",
       "      <td>95856.832424</td>\n",
       "      <td>на проведение свадьбы</td>\n",
       "    </tr>\n",
       "    <tr>\n",
       "      <th>9</th>\n",
       "      <td>0</td>\n",
       "      <td>-2188.756445</td>\n",
       "      <td>41</td>\n",
       "      <td>среднее</td>\n",
       "      <td>1</td>\n",
       "      <td>женат / замужем</td>\n",
       "      <td>0</td>\n",
       "      <td>M</td>\n",
       "      <td>сотрудник</td>\n",
       "      <td>0</td>\n",
       "      <td>144425.938277</td>\n",
       "      <td>покупка жилья для семьи</td>\n",
       "    </tr>\n",
       "  </tbody>\n",
       "</table>\n",
       "</div>"
      ],
      "text/plain": [
       "   children  days_employed  dob_years education  education_id  \\\n",
       "0         1   -8437.673028         42    высшее             0   \n",
       "1         1   -4024.803754         36   среднее             1   \n",
       "2         0   -5623.422610         33   Среднее             1   \n",
       "3         3   -4124.747207         32   среднее             1   \n",
       "4         0  340266.072047         53   среднее             1   \n",
       "5         0    -926.185831         27    высшее             0   \n",
       "6         0   -2879.202052         43    высшее             0   \n",
       "7         0    -152.779569         50   СРЕДНЕЕ             1   \n",
       "8         2   -6929.865299         35    ВЫСШЕЕ             0   \n",
       "9         0   -2188.756445         41   среднее             1   \n",
       "\n",
       "      family_status  family_status_id gender income_type  debt   total_income  \\\n",
       "0   женат / замужем                 0      F   сотрудник     0  253875.639453   \n",
       "1   женат / замужем                 0      F   сотрудник     0  112080.014102   \n",
       "2   женат / замужем                 0      M   сотрудник     0  145885.952297   \n",
       "3   женат / замужем                 0      M   сотрудник     0  267628.550329   \n",
       "4  гражданский брак                 1      F   пенсионер     0  158616.077870   \n",
       "5  гражданский брак                 1      M   компаньон     0  255763.565419   \n",
       "6   женат / замужем                 0      F   компаньон     0  240525.971920   \n",
       "7   женат / замужем                 0      M   сотрудник     0  135823.934197   \n",
       "8  гражданский брак                 1      F   сотрудник     0   95856.832424   \n",
       "9   женат / замужем                 0      M   сотрудник     0  144425.938277   \n",
       "\n",
       "                      purpose  \n",
       "0               покупка жилья  \n",
       "1     приобретение автомобиля  \n",
       "2               покупка жилья  \n",
       "3  дополнительное образование  \n",
       "4             сыграть свадьбу  \n",
       "5               покупка жилья  \n",
       "6           операции с жильем  \n",
       "7                 образование  \n",
       "8       на проведение свадьбы  \n",
       "9     покупка жилья для семьи  "
      ]
     },
     "execution_count": 2,
     "metadata": {},
     "output_type": "execute_result"
    }
   ],
   "source": [
    "try:\n",
    "    df = pd.read_csv('C:/Users/Anna/Desktop/Обучение/Яндекс практикум/Проект 2/data.csv') # чтение файла с данными и сохранение в df\n",
    "    \n",
    "except FileNotFoundError:\n",
    "    df = pd.read_csv('/datasets/data.csv') # чтение файла с данными и сохранение в df\n",
    "\n",
    "\n",
    "df.head(10)"
   ]
  },
  {
   "cell_type": "code",
   "execution_count": 3,
   "id": "6bff785e",
   "metadata": {},
   "outputs": [
    {
     "name": "stdout",
     "output_type": "stream",
     "text": [
      "<class 'pandas.core.frame.DataFrame'>\n",
      "RangeIndex: 21525 entries, 0 to 21524\n",
      "Data columns (total 12 columns):\n",
      " #   Column            Non-Null Count  Dtype  \n",
      "---  ------            --------------  -----  \n",
      " 0   children          21525 non-null  int64  \n",
      " 1   days_employed     19351 non-null  float64\n",
      " 2   dob_years         21525 non-null  int64  \n",
      " 3   education         21525 non-null  object \n",
      " 4   education_id      21525 non-null  int64  \n",
      " 5   family_status     21525 non-null  object \n",
      " 6   family_status_id  21525 non-null  int64  \n",
      " 7   gender            21525 non-null  object \n",
      " 8   income_type       21525 non-null  object \n",
      " 9   debt              21525 non-null  int64  \n",
      " 10  total_income      19351 non-null  float64\n",
      " 11  purpose           21525 non-null  object \n",
      "dtypes: float64(2), int64(5), object(5)\n",
      "memory usage: 2.0+ MB\n"
     ]
    }
   ],
   "source": [
    "df.info() # получение общей информации о данных в таблице df"
   ]
  },
  {
   "cell_type": "markdown",
   "id": "e3fe1824",
   "metadata": {},
   "source": [
    "Итак, в таблице двенадцать столбцов. \n",
    "Типы данных столбцов: int64, float64, object \n",
    "\n",
    "Согласно документации к данным:\n",
    "\n",
    "* `children` — количество детей в семье\n",
    "* `days_employed` — общий трудовой стаж в днях\n",
    "* `dob_years` — возраст клиента в годах\n",
    "* `education` — уровень образования клиента\n",
    "* `education_id` — идентификатор уровня образования\n",
    "* `family_status` — семейное положение\n",
    "* `family_status_id` — идентификатор семейного положения\n",
    "* `gender` — пол клиента\n",
    "* `income_type` — тип занятости\n",
    "* `debt` — имел ли задолженность по возврату кредитов\n",
    "* `total_income` — ежемесячный доход\n",
    "* `purpose` — цель получения кредита\n",
    "\n",
    "Количество значений в столбцах различается. Значит, в данных есть пропущенные значения.\n",
    "\n",
    "\n",
    "**Выводы**\n",
    "\n",
    "В каждой строке таблицы — данные о заемщике. Часть колонок описывает кредитоспособность заемщика: тип занятости, задолженность по возврату кредита, ежемесячный доход, цель получения кредита. Остальные данные рассказывают о самом заемщике: количество детей, трудовой стаж, возраст, образование, семейное положение, пол.\n",
    "\n",
    "Предварительно можно утверждать, что, данных достаточно для проверки гипотез. Но встречаются пропуски в данных и некорректные значения.\n",
    "\n",
    "Необходимо устранить проблемы в данных."
   ]
  },
  {
   "cell_type": "markdown",
   "id": "79fd715e",
   "metadata": {},
   "source": [
    "## Предобработка данных\n"
   ]
  },
  {
   "cell_type": "markdown",
   "id": "71641170",
   "metadata": {},
   "source": [
    "### Проверка данных на аномалии и исправления.\n",
    "В столбце `days_employed` данные представлены с ошибкой -  отрицательное количество дней трудового стажа.\n",
    "В 5 строке столбца `days_employed` видим некорректное значение. Переводим трудовой стаж - 340266 / 365 = 932 года, что невозможно при возрасте клиента 53 года. Чтобы избавиться от отрицательных значений, возьмем модуль значений столбца `days_employed`."
   ]
  },
  {
   "cell_type": "code",
   "execution_count": 4,
   "id": "788aa53f",
   "metadata": {},
   "outputs": [],
   "source": [
    "df['days_employed'] = abs(df['days_employed']) #берем модуль столбца `days_employed` избавляемся от отрицательных значений"
   ]
  },
  {
   "cell_type": "markdown",
   "id": "b70e4f18",
   "metadata": {},
   "source": [
    "Для заполнения аномально больших данных в столбце `days_employed` рассчитаем медианное значение трудового стажа для каждого возраста"
   ]
  },
  {
   "cell_type": "code",
   "execution_count": 5,
   "id": "bab28492",
   "metadata": {},
   "outputs": [
    {
     "data": {
      "text/plain": [
       "dob_years\n",
       "0       1759.038033\n",
       "19       724.492610\n",
       "20       674.838979\n",
       "21       618.733817\n",
       "22       703.310078\n",
       "23       690.204208\n",
       "24       947.731043\n",
       "25       919.199388\n",
       "26      1083.658132\n",
       "27      1166.212160\n",
       "28      1141.705450\n",
       "29      1315.453550\n",
       "30      1420.586863\n",
       "31      1308.901135\n",
       "32      1446.622542\n",
       "33      1426.415003\n",
       "34      1615.910188\n",
       "35      1613.494818\n",
       "36      1799.520465\n",
       "37      1816.713382\n",
       "38      1817.194286\n",
       "39      1891.388566\n",
       "40      1728.936706\n",
       "41      1864.657692\n",
       "42      2253.981630\n",
       "43      1869.019899\n",
       "44      2084.330015\n",
       "45      2254.431130\n",
       "46      2100.473217\n",
       "47      2203.078545\n",
       "48      2429.674518\n",
       "49      2560.317106\n",
       "50      2626.986257\n",
       "51      2846.080700\n",
       "52      3395.639568\n",
       "53      3650.007523\n",
       "54      4026.541145\n",
       "55      7043.471139\n",
       "56      6850.179463\n",
       "57    333953.491811\n",
       "58    331245.976666\n",
       "59    344372.337365\n",
       "60    349414.537285\n",
       "61    343984.931910\n",
       "62    354981.718187\n",
       "63    358482.295938\n",
       "64    355781.562599\n",
       "65    357103.967291\n",
       "66    363827.438951\n",
       "67    357222.855215\n",
       "68    365278.194581\n",
       "69    362313.375280\n",
       "70    362787.772498\n",
       "71    359700.938607\n",
       "72    367378.973169\n",
       "73    364291.049263\n",
       "74    343075.981127\n",
       "75      1678.969771\n",
       "Name: days_employed, dtype: float64"
      ]
     },
     "execution_count": 5,
     "metadata": {},
     "output_type": "execute_result"
    }
   ],
   "source": [
    "df.groupby('dob_years')['days_employed'].median() #расчитываем медианные значения для каждой возрастной группы"
   ]
  },
  {
   "cell_type": "markdown",
   "id": "ef93d5f3",
   "metadata": {},
   "source": [
    "Возрастной диапазон находится в пределах от 19 до 75, что соответствует логике, однако в данных присутствует значение возраста - 0 лет, что является ошибкой. Заменим аномальное значение 0 лет - возрастом ближе всего подходящим по медианным значениям трудового стажа. \n",
    "\n",
    "Аномально большие значения в данных характерны для возрастного диапазона 59-74 года."
   ]
  },
  {
   "cell_type": "code",
   "execution_count": 6,
   "id": "e89eb97f",
   "metadata": {},
   "outputs": [
    {
     "data": {
      "text/plain": [
       "dob_years\n",
       "19     724.492610\n",
       "20     674.838979\n",
       "21     618.733817\n",
       "22     703.310078\n",
       "23     690.204208\n",
       "24     947.731043\n",
       "25     919.199388\n",
       "26    1083.658132\n",
       "27    1166.212160\n",
       "28    1141.705450\n",
       "Name: days_employed, dtype: float64"
      ]
     },
     "execution_count": 6,
     "metadata": {},
     "output_type": "execute_result"
    }
   ],
   "source": [
    "''' Cгруппируем данные по медианному значению трудового стажа для каждой возрастной группы. \n",
    "Создадим функцию, в которой будем проверять корректность данных о возрасте заемщиков, возьмем начало трудовой деятельности\n",
    "возраст 18 лет. Функция будет заменять значения некорректного возраста  - возрастом ближе всего подходящим по медиане \n",
    "трудового стажа'''\n",
    "\n",
    "df_grouped = df.groupby('dob_years')['days_employed'].median()\n",
    " \n",
    "def func(row):\n",
    "    if row['dob_years'] < 18:\n",
    "        return df_grouped.loc[row['dob_years']]\n",
    "    return row['dob_years']\n",
    " \n",
    "df['dob_years'] = df.apply(func, axis=1).astype('int') \n",
    "df.groupby('dob_years')['days_employed'].median().head(10)   "
   ]
  },
  {
   "cell_type": "markdown",
   "id": "4cd2c89e",
   "metadata": {},
   "source": [
    "Возможными причинами возникновения данных ошибок могут являтся: ошибки ввода информации, ошибки при копировании или переносе данных из других источников. Часть информации могла быть введена в годах, а другая в днях.\n",
    "\n",
    "Для корректировки данных столбца `days_employed`, проверяем условие, что трудовой стаж не превышает возраст клиента с начала его трудовой деятельности."
   ]
  },
  {
   "cell_type": "code",
   "execution_count": 7,
   "id": "d01ec8a0",
   "metadata": {},
   "outputs": [],
   "source": [
    "# проверяем условие, что трудовой стаж не превышает возраст клиента с 18 лет, если условие не выполнено, то меняем значение\n",
    "# столбца 'days_employed' на максимально возможный трудовой стаж исходя из возраста клиента\n",
    "\n",
    "df.loc[(df['days_employed'] > (df['dob_years'] - 18)*365), 'days_employed'] = (df['dob_years'] - 18)*365"
   ]
  },
  {
   "cell_type": "code",
   "execution_count": 8,
   "id": "979dd83a",
   "metadata": {
    "scrolled": true
   },
   "outputs": [
    {
     "data": {
      "text/plain": [
       "dob_years\n",
       "19        365.000000\n",
       "20        674.838979\n",
       "21        618.733817\n",
       "22        703.310078\n",
       "23        690.204208\n",
       "24        947.731043\n",
       "25        919.199388\n",
       "26       1083.658132\n",
       "27       1166.212160\n",
       "28       1141.705450\n",
       "29       1315.453550\n",
       "30       1420.586863\n",
       "31       1308.901135\n",
       "32       1446.622542\n",
       "33       1426.415003\n",
       "34       1615.910188\n",
       "35       1613.494818\n",
       "36       1799.520465\n",
       "37       1816.713382\n",
       "38       1817.194286\n",
       "39       1891.388566\n",
       "40       1728.936706\n",
       "41       1864.657692\n",
       "42       2253.981630\n",
       "43       1869.019899\n",
       "44       2084.330015\n",
       "45       2254.431130\n",
       "46       2100.473217\n",
       "47       2203.078545\n",
       "48       2429.674518\n",
       "49       2560.317106\n",
       "50       2626.986257\n",
       "51       2846.080700\n",
       "52       3395.639568\n",
       "53       3650.007523\n",
       "54       4026.541145\n",
       "55       7043.471139\n",
       "56       6850.179463\n",
       "57      14235.000000\n",
       "58      14600.000000\n",
       "59      14965.000000\n",
       "60      15330.000000\n",
       "61      15695.000000\n",
       "62      16060.000000\n",
       "63      16425.000000\n",
       "64      16790.000000\n",
       "65      17155.000000\n",
       "66      17520.000000\n",
       "67      17885.000000\n",
       "68      18250.000000\n",
       "69      18615.000000\n",
       "70      18980.000000\n",
       "71      19345.000000\n",
       "72      19710.000000\n",
       "73      20075.000000\n",
       "74      20440.000000\n",
       "75       1678.969771\n",
       "1759     1759.038033\n",
       "Name: days_employed, dtype: float64"
      ]
     },
     "execution_count": 8,
     "metadata": {},
     "output_type": "execute_result"
    }
   ],
   "source": [
    "df.groupby('dob_years')['days_employed'].median() #медианное значение в каждой возрастной группе не превышает допустимые значения"
   ]
  },
  {
   "cell_type": "markdown",
   "id": "ec7b3220",
   "metadata": {},
   "source": [
    "Проверим на аномалии столбцы со значениями необходимые нам для исследования"
   ]
  },
  {
   "cell_type": "code",
   "execution_count": 9,
   "id": "d3fd0899",
   "metadata": {},
   "outputs": [
    {
     "data": {
      "text/plain": [
       "array([ 1,  0,  3,  2, -1,  4, 20,  5], dtype=int64)"
      ]
     },
     "execution_count": 9,
     "metadata": {},
     "output_type": "execute_result"
    }
   ],
   "source": [
    "df['children'].unique() #проверяем значения столбца 'children'"
   ]
  },
  {
   "cell_type": "code",
   "execution_count": 10,
   "id": "74cb3cac",
   "metadata": {},
   "outputs": [
    {
     "data": {
      "text/plain": [
       " 0     14149\n",
       " 1      4818\n",
       " 2      2055\n",
       " 3       330\n",
       " 20       76\n",
       "-1        47\n",
       " 4        41\n",
       " 5         9\n",
       "Name: children, dtype: int64"
      ]
     },
     "execution_count": 10,
     "metadata": {},
     "output_type": "execute_result"
    }
   ],
   "source": [
    "df['children'].value_counts() #рассчитываем количество заемщиков по группам количества детей"
   ]
  },
  {
   "cell_type": "markdown",
   "id": "ce622028",
   "metadata": {},
   "source": [
    "В столбце `children` присутствует отрицательное значение количества детей, что не соответствует действительности.\n",
    "Исправим отрицательные значения взяв модуль столбца `children`. В данных присутствует 76 строк со значение количества детей 20, что не соответствует действительности, т.к.  не известно какие точно данные должны быть в строке 0 или 2, замени недостающие данные медианным значением. Причиной возникновения данной ошибки предположительно является ошибка ввода информации."
   ]
  },
  {
   "cell_type": "code",
   "execution_count": 11,
   "id": "372150e6",
   "metadata": {},
   "outputs": [],
   "source": [
    "df.loc[(df['children'] == 20), 'children'] = df['children'].median()"
   ]
  },
  {
   "cell_type": "code",
   "execution_count": 12,
   "id": "6c407a93",
   "metadata": {},
   "outputs": [
    {
     "data": {
      "text/plain": [
       "array([1, 0, 3, 2, 4, 5])"
      ]
     },
     "execution_count": 12,
     "metadata": {},
     "output_type": "execute_result"
    }
   ],
   "source": [
    "df['children'] = df['children'].abs().astype('int')\n",
    "df['children'].unique() #проверяем произведенные изменения"
   ]
  },
  {
   "cell_type": "code",
   "execution_count": 13,
   "id": "0e88af87",
   "metadata": {},
   "outputs": [
    {
     "data": {
      "text/plain": [
       "array(['F', 'M', 'XNA'], dtype=object)"
      ]
     },
     "execution_count": 13,
     "metadata": {},
     "output_type": "execute_result"
    }
   ],
   "source": [
    "df['gender'].unique() #проверяем значения столбца 'gender' "
   ]
  },
  {
   "cell_type": "markdown",
   "id": "b7c10f94",
   "metadata": {},
   "source": [
    "В столбце 'gender' обнаружено значение 'XNA', выведем все строки со значением 'XNA'."
   ]
  },
  {
   "cell_type": "code",
   "execution_count": 14,
   "id": "cddabc7e",
   "metadata": {},
   "outputs": [
    {
     "data": {
      "text/html": [
       "<div>\n",
       "<style scoped>\n",
       "    .dataframe tbody tr th:only-of-type {\n",
       "        vertical-align: middle;\n",
       "    }\n",
       "\n",
       "    .dataframe tbody tr th {\n",
       "        vertical-align: top;\n",
       "    }\n",
       "\n",
       "    .dataframe thead th {\n",
       "        text-align: right;\n",
       "    }\n",
       "</style>\n",
       "<table border=\"1\" class=\"dataframe\">\n",
       "  <thead>\n",
       "    <tr style=\"text-align: right;\">\n",
       "      <th></th>\n",
       "      <th>children</th>\n",
       "      <th>days_employed</th>\n",
       "      <th>dob_years</th>\n",
       "      <th>education</th>\n",
       "      <th>education_id</th>\n",
       "      <th>family_status</th>\n",
       "      <th>family_status_id</th>\n",
       "      <th>gender</th>\n",
       "      <th>income_type</th>\n",
       "      <th>debt</th>\n",
       "      <th>total_income</th>\n",
       "      <th>purpose</th>\n",
       "    </tr>\n",
       "  </thead>\n",
       "  <tbody>\n",
       "    <tr>\n",
       "      <th>10701</th>\n",
       "      <td>0</td>\n",
       "      <td>2190.0</td>\n",
       "      <td>24</td>\n",
       "      <td>неоконченное высшее</td>\n",
       "      <td>2</td>\n",
       "      <td>гражданский брак</td>\n",
       "      <td>1</td>\n",
       "      <td>XNA</td>\n",
       "      <td>компаньон</td>\n",
       "      <td>0</td>\n",
       "      <td>203905.157261</td>\n",
       "      <td>покупка недвижимости</td>\n",
       "    </tr>\n",
       "  </tbody>\n",
       "</table>\n",
       "</div>"
      ],
      "text/plain": [
       "       children  days_employed  dob_years            education  education_id  \\\n",
       "10701         0         2190.0         24  неоконченное высшее             2   \n",
       "\n",
       "          family_status  family_status_id gender income_type  debt  \\\n",
       "10701  гражданский брак                 1    XNA   компаньон     0   \n",
       "\n",
       "        total_income               purpose  \n",
       "10701  203905.157261  покупка недвижимости  "
      ]
     },
     "execution_count": 14,
     "metadata": {},
     "output_type": "execute_result"
    }
   ],
   "source": [
    "df[df['gender'] == 'XNA']"
   ]
  },
  {
   "cell_type": "markdown",
   "id": "f5f00dbe",
   "metadata": {},
   "source": [
    "Строк со значением 'XNA' только 1, для проверки гипотез пол клиента нам не важен, заменим значение на 'M'. Скорее всего это тоже ошибка ввода информации или пропущенное значение."
   ]
  },
  {
   "cell_type": "code",
   "execution_count": 15,
   "id": "ca770b8b",
   "metadata": {},
   "outputs": [],
   "source": [
    "df.loc[(df['gender'] == 'XNA'), 'gender'] = 'M'"
   ]
  },
  {
   "cell_type": "code",
   "execution_count": 16,
   "id": "4a425058",
   "metadata": {},
   "outputs": [
    {
     "data": {
      "text/plain": [
       "array(['F', 'M'], dtype=object)"
      ]
     },
     "execution_count": 16,
     "metadata": {},
     "output_type": "execute_result"
    }
   ],
   "source": [
    "df['gender'].unique() #проверяем внесенные изменения"
   ]
  },
  {
   "cell_type": "markdown",
   "id": "e61a0d9c",
   "metadata": {},
   "source": [
    "### Заполнение пропусков\n",
    "\n",
    "Проверим наличие пропусков в данных\n"
   ]
  },
  {
   "cell_type": "code",
   "execution_count": 17,
   "id": "1fc5e1ca",
   "metadata": {},
   "outputs": [
    {
     "data": {
      "text/plain": [
       "children               0\n",
       "days_employed       2174\n",
       "dob_years              0\n",
       "education              0\n",
       "education_id           0\n",
       "family_status          0\n",
       "family_status_id       0\n",
       "gender                 0\n",
       "income_type            0\n",
       "debt                   0\n",
       "total_income        2174\n",
       "purpose                0\n",
       "dtype: int64"
      ]
     },
     "execution_count": 17,
     "metadata": {},
     "output_type": "execute_result"
    }
   ],
   "source": [
    "df.isna().sum() # подсчёт пропусков"
   ]
  },
  {
   "cell_type": "markdown",
   "id": "3e2d61c2",
   "metadata": {},
   "source": [
    "Обнаружено по 2174 пропущенных значения в столбцах `days_employed`-общий трудовой стаж в днях и `total_income`-ежемесячный доход.\n",
    "Доля пропущенных значений в каждом из столбцов составляет 10%, что может существенно повлиять на выводы исследования.\n",
    "Причинами пропуска данных могли явиться намеренное сокрытие информации. Т.к. число пропусков в обоих столбцах одиноково: следовательно данные пропуски не являются случайными. \n",
    "\n",
    "Процент пропусков данных составляет существенную часть и эти данные необходимы для исследования. Пропущенные данные в столбцах являются количественными переменными, соответственно для заполнения пропусков мы можем выбрать заполнение средними значениями или медианными."
   ]
  },
  {
   "cell_type": "code",
   "execution_count": 18,
   "id": "ad5b58a8",
   "metadata": {},
   "outputs": [
    {
     "data": {
      "text/html": [
       "<div>\n",
       "<style scoped>\n",
       "    .dataframe tbody tr th:only-of-type {\n",
       "        vertical-align: middle;\n",
       "    }\n",
       "\n",
       "    .dataframe tbody tr th {\n",
       "        vertical-align: top;\n",
       "    }\n",
       "\n",
       "    .dataframe thead tr th {\n",
       "        text-align: left;\n",
       "    }\n",
       "\n",
       "    .dataframe thead tr:last-of-type th {\n",
       "        text-align: right;\n",
       "    }\n",
       "</style>\n",
       "<table border=\"1\" class=\"dataframe\">\n",
       "  <thead>\n",
       "    <tr>\n",
       "      <th></th>\n",
       "      <th colspan=\"2\" halign=\"left\">days_employed</th>\n",
       "      <th colspan=\"2\" halign=\"left\">total_income</th>\n",
       "    </tr>\n",
       "    <tr>\n",
       "      <th></th>\n",
       "      <th>mean</th>\n",
       "      <th>median</th>\n",
       "      <th>mean</th>\n",
       "      <th>median</th>\n",
       "    </tr>\n",
       "    <tr>\n",
       "      <th>debt</th>\n",
       "      <th></th>\n",
       "      <th></th>\n",
       "      <th></th>\n",
       "      <th></th>\n",
       "    </tr>\n",
       "  </thead>\n",
       "  <tbody>\n",
       "    <tr>\n",
       "      <th>0</th>\n",
       "      <td>5044.225901</td>\n",
       "      <td>2258.679577</td>\n",
       "      <td>167804.131651</td>\n",
       "      <td>145161.906773</td>\n",
       "    </tr>\n",
       "    <tr>\n",
       "      <th>1</th>\n",
       "      <td>3518.702377</td>\n",
       "      <td>1495.893009</td>\n",
       "      <td>163100.897062</td>\n",
       "      <td>143302.999614</td>\n",
       "    </tr>\n",
       "  </tbody>\n",
       "</table>\n",
       "</div>"
      ],
      "text/plain": [
       "     days_employed                total_income               \n",
       "              mean       median           mean         median\n",
       "debt                                                         \n",
       "0      5044.225901  2258.679577  167804.131651  145161.906773\n",
       "1      3518.702377  1495.893009  163100.897062  143302.999614"
      ]
     },
     "execution_count": 18,
     "metadata": {},
     "output_type": "execute_result"
    }
   ],
   "source": [
    "#сравнеие среднего значения и медианы в столбце 'days_employed' и 'total_income' для выбора способа заполнения пропусков\n",
    "\n",
    "df.groupby('debt').agg({'days_employed': ['mean', 'median'], 'total_income': ['mean', 'median']})"
   ]
  },
  {
   "cell_type": "markdown",
   "id": "eba7974b",
   "metadata": {},
   "source": [
    " При сравнение среднего арифметического и медианы их значения не совпадают, значит распределение несимметрично из-за возможных выбросов в данных. Значение медианы  будет объективнее описывать характерное значение данных.\n",
    "\n"
   ]
  },
  {
   "cell_type": "code",
   "execution_count": 19,
   "id": "c08980fc",
   "metadata": {},
   "outputs": [],
   "source": [
    "# заполняем пропущенные значения медианными значениями по столбцам по категориям тип занятости\n",
    "df['days_employed'] = df.groupby('income_type')['days_employed'].apply(lambda s: s.fillna(s.mean()))\n",
    "df['total_income'] = df.groupby('income_type')['total_income'].apply(lambda s: s.fillna(s.mean()))"
   ]
  },
  {
   "cell_type": "code",
   "execution_count": 20,
   "id": "8e75e0c3",
   "metadata": {
    "scrolled": true
   },
   "outputs": [
    {
     "data": {
      "text/plain": [
       "children            0\n",
       "days_employed       0\n",
       "dob_years           0\n",
       "education           0\n",
       "education_id        0\n",
       "family_status       0\n",
       "family_status_id    0\n",
       "gender              0\n",
       "income_type         0\n",
       "debt                0\n",
       "total_income        0\n",
       "purpose             0\n",
       "dtype: int64"
      ]
     },
     "execution_count": 20,
     "metadata": {},
     "output_type": "execute_result"
    }
   ],
   "source": [
    "df.isna().sum() # проверяем отсутствие пропусков в данных"
   ]
  },
  {
   "cell_type": "markdown",
   "id": "d738573d",
   "metadata": {},
   "source": [
    "### Изменение типов данных.\n",
    "\n",
    "Заменим типы данных в столбцах `days_employed` и `total_income` на целочисленный, с помощью метода astype()."
   ]
  },
  {
   "cell_type": "code",
   "execution_count": 21,
   "id": "07ec51e3",
   "metadata": {},
   "outputs": [],
   "source": [
    "df['days_employed'] = df['days_employed'].astype('int') #изменяем тип данных в столбце `days_employed`"
   ]
  },
  {
   "cell_type": "code",
   "execution_count": 22,
   "id": "c914ca0c",
   "metadata": {},
   "outputs": [],
   "source": [
    "df['total_income'] = df['total_income'].astype('int') #изменяем тип данных в столбце 'total_income'\n"
   ]
  },
  {
   "cell_type": "code",
   "execution_count": 23,
   "id": "3337914c",
   "metadata": {},
   "outputs": [
    {
     "name": "stdout",
     "output_type": "stream",
     "text": [
      "<class 'pandas.core.frame.DataFrame'>\n",
      "RangeIndex: 21525 entries, 0 to 21524\n",
      "Data columns (total 12 columns):\n",
      " #   Column            Non-Null Count  Dtype \n",
      "---  ------            --------------  ----- \n",
      " 0   children          21525 non-null  int32 \n",
      " 1   days_employed     21525 non-null  int32 \n",
      " 2   dob_years         21525 non-null  int32 \n",
      " 3   education         21525 non-null  object\n",
      " 4   education_id      21525 non-null  int64 \n",
      " 5   family_status     21525 non-null  object\n",
      " 6   family_status_id  21525 non-null  int64 \n",
      " 7   gender            21525 non-null  object\n",
      " 8   income_type       21525 non-null  object\n",
      " 9   debt              21525 non-null  int64 \n",
      " 10  total_income      21525 non-null  int32 \n",
      " 11  purpose           21525 non-null  object\n",
      "dtypes: int32(4), int64(3), object(5)\n",
      "memory usage: 1.6+ MB\n"
     ]
    }
   ],
   "source": [
    "df.info() #проверяем внесенные изменения"
   ]
  },
  {
   "cell_type": "markdown",
   "id": "ce72e9e2",
   "metadata": {},
   "source": [
    "### Удаление дубликатов.\n",
    "\n",
    "В таблице могут присутствовать дубликаты строк. Проверим их наличие и подсчитаем количество."
   ]
  },
  {
   "cell_type": "code",
   "execution_count": 24,
   "id": "6a235c8e",
   "metadata": {},
   "outputs": [
    {
     "data": {
      "text/plain": [
       "54"
      ]
     },
     "execution_count": 24,
     "metadata": {},
     "output_type": "execute_result"
    }
   ],
   "source": [
    "df.duplicated().sum() # подсчет явных дабликатов"
   ]
  },
  {
   "cell_type": "code",
   "execution_count": 25,
   "id": "c53f0108",
   "metadata": {},
   "outputs": [
    {
     "data": {
      "text/plain": [
       "0"
      ]
     },
     "execution_count": 25,
     "metadata": {},
     "output_type": "execute_result"
    }
   ],
   "source": [
    "df = df.drop_duplicates().reset_index(drop=True) # удаление явных дубликатов (с удалением старых индексов и формированием новых)\n",
    "df.duplicated().sum() # проверка наличия явных дубликатов"
   ]
  },
  {
   "cell_type": "markdown",
   "id": "477129a4",
   "metadata": {},
   "source": [
    "Были удалены все явные дубликаты, но в данных могли остаться неявные дубликаты. Проверим значения по столбцам `education`, `family_status` и `income_type`."
   ]
  },
  {
   "cell_type": "code",
   "execution_count": 26,
   "id": "c6fdc9b9",
   "metadata": {},
   "outputs": [
    {
     "data": {
      "text/plain": [
       "array(['высшее', 'среднее', 'Среднее', 'СРЕДНЕЕ', 'ВЫСШЕЕ',\n",
       "       'неоконченное высшее', 'начальное', 'Высшее',\n",
       "       'НЕОКОНЧЕННОЕ ВЫСШЕЕ', 'Неоконченное высшее', 'НАЧАЛЬНОЕ',\n",
       "       'Начальное', 'Ученая степень', 'УЧЕНАЯ СТЕПЕНЬ', 'ученая степень'],\n",
       "      dtype=object)"
      ]
     },
     "execution_count": 26,
     "metadata": {},
     "output_type": "execute_result"
    }
   ],
   "source": [
    "df['education'].unique() # вывод уникальных значений столбца 'education'"
   ]
  },
  {
   "cell_type": "markdown",
   "id": "07c58d87",
   "metadata": {},
   "source": [
    "В списке 'education' присутствуют неявные дубликаты: различное написание одного и того же уровня образования строчными и заглавными буквами. Такие дубликаты могли появиться из-за ошибок во время ввода данных.\n",
    "Приведем все символы в строке к нижнему регистру."
   ]
  },
  {
   "cell_type": "code",
   "execution_count": 27,
   "id": "1692f08d",
   "metadata": {},
   "outputs": [
    {
     "data": {
      "text/plain": [
       "array(['высшее', 'среднее', 'неоконченное высшее', 'начальное',\n",
       "       'ученая степень'], dtype=object)"
      ]
     },
     "execution_count": 27,
     "metadata": {},
     "output_type": "execute_result"
    }
   ],
   "source": [
    "df['education'] = df['education'].str.lower()\n",
    "df['education'].unique() #проверка исправленных значений в столбце'education'"
   ]
  },
  {
   "cell_type": "code",
   "execution_count": 28,
   "id": "fd946263",
   "metadata": {},
   "outputs": [
    {
     "data": {
      "text/plain": [
       "array(['женат / замужем', 'гражданский брак', 'вдовец / вдова',\n",
       "       'в разводе', 'Не женат / не замужем'], dtype=object)"
      ]
     },
     "execution_count": 28,
     "metadata": {},
     "output_type": "execute_result"
    }
   ],
   "source": [
    "df['family_status'].unique() #вывод уникальных значений 'family_status'"
   ]
  },
  {
   "cell_type": "markdown",
   "id": "777aa367",
   "metadata": {},
   "source": [
    "В списке 'family_status' неявных дубликатов не обнаружено"
   ]
  },
  {
   "cell_type": "code",
   "execution_count": 29,
   "id": "44dd495f",
   "metadata": {},
   "outputs": [
    {
     "data": {
      "text/plain": [
       "array(['сотрудник', 'пенсионер', 'компаньон', 'госслужащий',\n",
       "       'безработный', 'предприниматель', 'студент', 'в декрете'],\n",
       "      dtype=object)"
      ]
     },
     "execution_count": 29,
     "metadata": {},
     "output_type": "execute_result"
    }
   ],
   "source": [
    "df['income_type'].unique() #вывод уникальных значений income_type"
   ]
  },
  {
   "cell_type": "markdown",
   "id": "02e6adee",
   "metadata": {},
   "source": [
    "В списке 'family_status' неявных дубликатов не обнаружено\n",
    "\n",
    "После исправления дубликатов в столбце 'education', проверим наличие дубликатов строк в таблице. При их обнаружении удалим строки дубликаты и проверим результат выполнения функции."
   ]
  },
  {
   "cell_type": "code",
   "execution_count": 30,
   "id": "4752e6db",
   "metadata": {},
   "outputs": [
    {
     "data": {
      "text/plain": [
       "17"
      ]
     },
     "execution_count": 30,
     "metadata": {},
     "output_type": "execute_result"
    }
   ],
   "source": [
    "df.duplicated().sum() #подсчет дубликатов"
   ]
  },
  {
   "cell_type": "code",
   "execution_count": 31,
   "id": "8bc61b99",
   "metadata": {},
   "outputs": [
    {
     "data": {
      "text/plain": [
       "0"
      ]
     },
     "execution_count": 31,
     "metadata": {},
     "output_type": "execute_result"
    }
   ],
   "source": [
    "df = df.drop_duplicates().reset_index(drop=True) # удаление дубликатов (с удалением старых индексов и формированием новых)\n",
    "df.duplicated().sum() # проверка наличия дубликатов"
   ]
  },
  {
   "cell_type": "markdown",
   "id": "5b93a051",
   "metadata": {},
   "source": [
    "### Формирование дополнительных датафреймов словарей, декомпозиция исходного датафрейма.\n",
    "\n",
    "Создадим два новых датафрейма(словаря) со столбцами:\n",
    "-\teducation_id и education — в первом;\n",
    "-\tfamily_status_id и family_status — во втором.\n"
   ]
  },
  {
   "cell_type": "code",
   "execution_count": 32,
   "id": "94ff6e5e",
   "metadata": {},
   "outputs": [
    {
     "data": {
      "text/html": [
       "<div>\n",
       "<style scoped>\n",
       "    .dataframe tbody tr th:only-of-type {\n",
       "        vertical-align: middle;\n",
       "    }\n",
       "\n",
       "    .dataframe tbody tr th {\n",
       "        vertical-align: top;\n",
       "    }\n",
       "\n",
       "    .dataframe thead th {\n",
       "        text-align: right;\n",
       "    }\n",
       "</style>\n",
       "<table border=\"1\" class=\"dataframe\">\n",
       "  <thead>\n",
       "    <tr style=\"text-align: right;\">\n",
       "      <th></th>\n",
       "      <th>education_id</th>\n",
       "      <th>education</th>\n",
       "    </tr>\n",
       "  </thead>\n",
       "  <tbody>\n",
       "    <tr>\n",
       "      <th>0</th>\n",
       "      <td>0</td>\n",
       "      <td>высшее</td>\n",
       "    </tr>\n",
       "    <tr>\n",
       "      <th>1</th>\n",
       "      <td>1</td>\n",
       "      <td>среднее</td>\n",
       "    </tr>\n",
       "    <tr>\n",
       "      <th>2</th>\n",
       "      <td>2</td>\n",
       "      <td>неоконченное высшее</td>\n",
       "    </tr>\n",
       "    <tr>\n",
       "      <th>3</th>\n",
       "      <td>3</td>\n",
       "      <td>начальное</td>\n",
       "    </tr>\n",
       "    <tr>\n",
       "      <th>4</th>\n",
       "      <td>4</td>\n",
       "      <td>ученая степень</td>\n",
       "    </tr>\n",
       "  </tbody>\n",
       "</table>\n",
       "</div>"
      ],
      "text/plain": [
       "   education_id            education\n",
       "0             0               высшее\n",
       "1             1              среднее\n",
       "2             2  неоконченное высшее\n",
       "3             3            начальное\n",
       "4             4       ученая степень"
      ]
     },
     "execution_count": 32,
     "metadata": {},
     "output_type": "execute_result"
    }
   ],
   "source": [
    "df_education = df[['education_id', 'education']] # создаем словарь 'education'\n",
    "df_education = df_education.drop_duplicates().reset_index(drop=True) #удаляем дубликаты строк\n",
    "df_education #проверяем словарь 'education'"
   ]
  },
  {
   "cell_type": "code",
   "execution_count": 33,
   "id": "49fd65da",
   "metadata": {},
   "outputs": [
    {
     "data": {
      "text/html": [
       "<div>\n",
       "<style scoped>\n",
       "    .dataframe tbody tr th:only-of-type {\n",
       "        vertical-align: middle;\n",
       "    }\n",
       "\n",
       "    .dataframe tbody tr th {\n",
       "        vertical-align: top;\n",
       "    }\n",
       "\n",
       "    .dataframe thead th {\n",
       "        text-align: right;\n",
       "    }\n",
       "</style>\n",
       "<table border=\"1\" class=\"dataframe\">\n",
       "  <thead>\n",
       "    <tr style=\"text-align: right;\">\n",
       "      <th></th>\n",
       "      <th>family_status_id</th>\n",
       "      <th>family_status</th>\n",
       "    </tr>\n",
       "  </thead>\n",
       "  <tbody>\n",
       "    <tr>\n",
       "      <th>0</th>\n",
       "      <td>0</td>\n",
       "      <td>женат / замужем</td>\n",
       "    </tr>\n",
       "    <tr>\n",
       "      <th>1</th>\n",
       "      <td>1</td>\n",
       "      <td>гражданский брак</td>\n",
       "    </tr>\n",
       "    <tr>\n",
       "      <th>2</th>\n",
       "      <td>2</td>\n",
       "      <td>вдовец / вдова</td>\n",
       "    </tr>\n",
       "    <tr>\n",
       "      <th>3</th>\n",
       "      <td>3</td>\n",
       "      <td>в разводе</td>\n",
       "    </tr>\n",
       "    <tr>\n",
       "      <th>4</th>\n",
       "      <td>4</td>\n",
       "      <td>Не женат / не замужем</td>\n",
       "    </tr>\n",
       "  </tbody>\n",
       "</table>\n",
       "</div>"
      ],
      "text/plain": [
       "   family_status_id          family_status\n",
       "0                 0        женат / замужем\n",
       "1                 1       гражданский брак\n",
       "2                 2         вдовец / вдова\n",
       "3                 3              в разводе\n",
       "4                 4  Не женат / не замужем"
      ]
     },
     "execution_count": 33,
     "metadata": {},
     "output_type": "execute_result"
    }
   ],
   "source": [
    "df_family_status = df[['family_status_id', 'family_status']] # создаем словарь 'family_status'\n",
    "df_family_status = df_family_status.drop_duplicates().reset_index(drop=True) #удаляем дубликаты строк\n",
    "df_family_status #проверяем словарь 'education'"
   ]
  },
  {
   "cell_type": "code",
   "execution_count": 34,
   "id": "92bf7e55",
   "metadata": {},
   "outputs": [
    {
     "data": {
      "text/html": [
       "<div>\n",
       "<style scoped>\n",
       "    .dataframe tbody tr th:only-of-type {\n",
       "        vertical-align: middle;\n",
       "    }\n",
       "\n",
       "    .dataframe tbody tr th {\n",
       "        vertical-align: top;\n",
       "    }\n",
       "\n",
       "    .dataframe thead th {\n",
       "        text-align: right;\n",
       "    }\n",
       "</style>\n",
       "<table border=\"1\" class=\"dataframe\">\n",
       "  <thead>\n",
       "    <tr style=\"text-align: right;\">\n",
       "      <th></th>\n",
       "      <th>children</th>\n",
       "      <th>days_employed</th>\n",
       "      <th>dob_years</th>\n",
       "      <th>education_id</th>\n",
       "      <th>family_status_id</th>\n",
       "      <th>gender</th>\n",
       "      <th>income_type</th>\n",
       "      <th>debt</th>\n",
       "      <th>total_income</th>\n",
       "      <th>purpose</th>\n",
       "    </tr>\n",
       "  </thead>\n",
       "  <tbody>\n",
       "    <tr>\n",
       "      <th>0</th>\n",
       "      <td>1</td>\n",
       "      <td>8437</td>\n",
       "      <td>42</td>\n",
       "      <td>0</td>\n",
       "      <td>0</td>\n",
       "      <td>F</td>\n",
       "      <td>сотрудник</td>\n",
       "      <td>0</td>\n",
       "      <td>253875</td>\n",
       "      <td>покупка жилья</td>\n",
       "    </tr>\n",
       "    <tr>\n",
       "      <th>1</th>\n",
       "      <td>1</td>\n",
       "      <td>4024</td>\n",
       "      <td>36</td>\n",
       "      <td>1</td>\n",
       "      <td>0</td>\n",
       "      <td>F</td>\n",
       "      <td>сотрудник</td>\n",
       "      <td>0</td>\n",
       "      <td>112080</td>\n",
       "      <td>приобретение автомобиля</td>\n",
       "    </tr>\n",
       "    <tr>\n",
       "      <th>2</th>\n",
       "      <td>0</td>\n",
       "      <td>5475</td>\n",
       "      <td>33</td>\n",
       "      <td>1</td>\n",
       "      <td>0</td>\n",
       "      <td>M</td>\n",
       "      <td>сотрудник</td>\n",
       "      <td>0</td>\n",
       "      <td>145885</td>\n",
       "      <td>покупка жилья</td>\n",
       "    </tr>\n",
       "    <tr>\n",
       "      <th>3</th>\n",
       "      <td>3</td>\n",
       "      <td>4124</td>\n",
       "      <td>32</td>\n",
       "      <td>1</td>\n",
       "      <td>0</td>\n",
       "      <td>M</td>\n",
       "      <td>сотрудник</td>\n",
       "      <td>0</td>\n",
       "      <td>267628</td>\n",
       "      <td>дополнительное образование</td>\n",
       "    </tr>\n",
       "    <tr>\n",
       "      <th>4</th>\n",
       "      <td>0</td>\n",
       "      <td>12775</td>\n",
       "      <td>53</td>\n",
       "      <td>1</td>\n",
       "      <td>1</td>\n",
       "      <td>F</td>\n",
       "      <td>пенсионер</td>\n",
       "      <td>0</td>\n",
       "      <td>158616</td>\n",
       "      <td>сыграть свадьбу</td>\n",
       "    </tr>\n",
       "  </tbody>\n",
       "</table>\n",
       "</div>"
      ],
      "text/plain": [
       "   children  days_employed  dob_years  education_id  family_status_id gender  \\\n",
       "0         1           8437         42             0                 0      F   \n",
       "1         1           4024         36             1                 0      F   \n",
       "2         0           5475         33             1                 0      M   \n",
       "3         3           4124         32             1                 0      M   \n",
       "4         0          12775         53             1                 1      F   \n",
       "\n",
       "  income_type  debt  total_income                     purpose  \n",
       "0   сотрудник     0        253875               покупка жилья  \n",
       "1   сотрудник     0        112080     приобретение автомобиля  \n",
       "2   сотрудник     0        145885               покупка жилья  \n",
       "3   сотрудник     0        267628  дополнительное образование  \n",
       "4   пенсионер     0        158616             сыграть свадьбу  "
      ]
     },
     "execution_count": 34,
     "metadata": {},
     "output_type": "execute_result"
    }
   ],
   "source": [
    "df.drop(columns = ['education', 'family_status'],axis = 1, inplace=True) # удаляем столбцы 'education', 'family_status' из исходной таблицы\n",
    "df.head()"
   ]
  },
  {
   "cell_type": "markdown",
   "id": "0ca7d19f",
   "metadata": {},
   "source": [
    "### Категоризация дохода.\n",
    "\n",
    "Общий доход клиентов напрямую связан с полученным образованием, рассчитаем диапазон зарплат исходя из уровня образования.\n"
   ]
  },
  {
   "cell_type": "code",
   "execution_count": 35,
   "id": "0a14ef34",
   "metadata": {},
   "outputs": [
    {
     "data": {
      "text/plain": [
       "1    15172\n",
       "0     5250\n",
       "2      744\n",
       "3      282\n",
       "4        6\n",
       "Name: education_id, dtype: int64"
      ]
     },
     "execution_count": 35,
     "metadata": {},
     "output_type": "execute_result"
    }
   ],
   "source": [
    "df['education_id'].value_counts() "
   ]
  },
  {
   "cell_type": "markdown",
   "id": "70c67ac5",
   "metadata": {},
   "source": [
    "Распределим общий доход каждого клиента по 5 категориям в соответствии с уровнями образования.\n",
    "Cоздадим столбец `total_income_category` с категориями:\n",
    "-\t0–30000 — 'E';\n",
    "-\t30001–50000 — 'D';\n",
    "-\t50001–200000 — 'C';\n",
    "-\t200001–1000000 — 'B';\n",
    "-\t1000001 и выше — 'A'.\n",
    "\n",
    "Для этого напишем функцию income_category(), которая принимает на вход один параметр 'income' и возвращает категорию заработной платы клиента. \n",
    "Применим функцию income_category() к столбцу `total_income` и таким образом присвоим каждому клиенту категорию заработной платы.\n"
   ]
  },
  {
   "cell_type": "code",
   "execution_count": 36,
   "id": "e0211e9a",
   "metadata": {},
   "outputs": [
    {
     "data": {
      "text/plain": [
       "C    15514\n",
       "B     5543\n",
       "D      350\n",
       "A       25\n",
       "E       22\n",
       "Name: total_income_category, dtype: int64"
      ]
     },
     "execution_count": 36,
     "metadata": {},
     "output_type": "execute_result"
    }
   ],
   "source": [
    "def income_category(income):\n",
    "    if 0 <= income <= 30000:\n",
    "        return 'E'\n",
    "    if 30001 <= income <= 50000:\n",
    "        return 'D'\n",
    "    if 50001 <= income <= 200000:\n",
    "        return 'C'\n",
    "    if 200001 <= income <= 1000000:\n",
    "        return 'B'\n",
    "    return 'A'\n",
    "\n",
    "df['total_income_category'] = df['total_income'].apply(income_category)\n",
    "df['total_income_category'].value_counts() #выведем статистику распределени клиентов по уровню доходов\n"
   ]
  },
  {
   "cell_type": "markdown",
   "id": "737bfb0a",
   "metadata": {},
   "source": [
    "### Категоризация целей кредита.\n",
    "\n",
    "Вызовим метод unique() для столбца `purpose` и проверим все уникальные значения целей кредита."
   ]
  },
  {
   "cell_type": "code",
   "execution_count": 37,
   "id": "8471c452",
   "metadata": {},
   "outputs": [
    {
     "data": {
      "text/plain": [
       "array(['покупка жилья', 'приобретение автомобиля',\n",
       "       'дополнительное образование', 'сыграть свадьбу',\n",
       "       'операции с жильем', 'образование', 'на проведение свадьбы',\n",
       "       'покупка жилья для семьи', 'покупка недвижимости',\n",
       "       'покупка коммерческой недвижимости', 'покупка жилой недвижимости',\n",
       "       'строительство собственной недвижимости', 'недвижимость',\n",
       "       'строительство недвижимости', 'на покупку подержанного автомобиля',\n",
       "       'на покупку своего автомобиля',\n",
       "       'операции с коммерческой недвижимостью',\n",
       "       'строительство жилой недвижимости', 'жилье',\n",
       "       'операции со своей недвижимостью', 'автомобили',\n",
       "       'заняться образованием', 'сделка с подержанным автомобилем',\n",
       "       'получение образования', 'автомобиль', 'свадьба',\n",
       "       'получение дополнительного образования', 'покупка своего жилья',\n",
       "       'операции с недвижимостью', 'получение высшего образования',\n",
       "       'свой автомобиль', 'сделка с автомобилем',\n",
       "       'профильное образование', 'высшее образование',\n",
       "       'покупка жилья для сдачи', 'на покупку автомобиля', 'ремонт жилью',\n",
       "       'заняться высшим образованием'], dtype=object)"
      ]
     },
     "execution_count": 37,
     "metadata": {},
     "output_type": "execute_result"
    }
   ],
   "source": [
    "df['purpose'].unique() #изучим значения столбца 'purpose'"
   ]
  },
  {
   "cell_type": "markdown",
   "id": "f2a66fcd",
   "metadata": {},
   "source": [
    "В списке представлены 38 различных значений цели кредита, но по смыслу все значения можно разделить на 4 категории:\n",
    "- ‘операции с автомобилем’,\n",
    "- ‘операции с недвижимостью’,\n",
    "- ‘проведение свадьбы’,\n",
    "- ‘получение образования’.\n",
    "\n",
    "Сформируем новый столбец `purpose_category`, заполним его с помощью функции purpose_category() с одним входным параметром 'purpose'."
   ]
  },
  {
   "cell_type": "code",
   "execution_count": 38,
   "id": "baaebe32",
   "metadata": {},
   "outputs": [
    {
     "data": {
      "text/plain": [
       "операции с недвижимостью    10811\n",
       "операции с автомобилем       4306\n",
       "получение образования        4013\n",
       "проведение свадьбы           2324\n",
       "Name: purpose_category, dtype: int64"
      ]
     },
     "execution_count": 38,
     "metadata": {},
     "output_type": "execute_result"
    }
   ],
   "source": [
    "def purpose_category (purpose):\n",
    "    if 'автомоб' in purpose:\n",
    "        return 'операции с автомобилем'\n",
    "    if 'недвиж'in purpose or 'жиль' in purpose:\n",
    "        return 'операции с недвижимостью'\n",
    "    if 'свадьб' in purpose:\n",
    "        return 'проведение свадьбы'\n",
    "    if 'образ' in purpose:\n",
    "        return 'получение образования'\n",
    "df['purpose_category'] = df['purpose'].apply(purpose_category)\n",
    "df['purpose_category'].value_counts() #выведем статистику по целям кредита\n"
   ]
  },
  {
   "cell_type": "markdown",
   "id": "300c720a",
   "metadata": {},
   "source": [
    "**Выводы**\n",
    "\n",
    "\n",
    "Предобработка обнаружила проблемы в данных:\n",
    "\n",
    "- пропущенные и отрицательные значения,\n",
    "- аномалии в данных,\n",
    "- дубликаты — явные и неявные.\n",
    "\n",
    "Удаление дубликатов и корректрировка аномалий позволит получить более точные результаты.\n",
    "Сформированы 2 датафрейма-словаря с данными о семейном положении и уровне образования клиентов.\n",
    "Уровень доходов клиентов был разделен на 5 категорий в соответствии с уровнем образования клиента.\n",
    "Все представленные в данных цели кредита разделены по смыслу на 4 категории.\n"
   ]
  },
  {
   "cell_type": "markdown",
   "id": "b54db0b8",
   "metadata": {},
   "source": [
    "## Проверка гипотез"
   ]
  },
  {
   "cell_type": "markdown",
   "id": "66ef61ce",
   "metadata": {},
   "source": [
    "Для проверки гипотез "
   ]
  },
  {
   "cell_type": "code",
   "execution_count": 39,
   "id": "7caf562a",
   "metadata": {},
   "outputs": [],
   "source": [
    "def pivot_share(column):\n",
    "    df_pivot = df.pivot_table(index=[column], columns=['debt'], values='total_income', aggfunc='count')\n",
    "    df_pivot['share_debt'] = df.groupby(column)['debt'].mean()\n",
    "    return df_pivot.sort_values(by='share_debt')"
   ]
  },
  {
   "cell_type": "markdown",
   "id": "9e56b9e3",
   "metadata": {},
   "source": [
    "### Проверка первой гипотезы:\n",
    "Количество детей заемщика влияет на возврат кредита в срок.\n",
    "Используем функцию debt() для столбца 'children'."
   ]
  },
  {
   "cell_type": "code",
   "execution_count": 40,
   "id": "97bbf1c5",
   "metadata": {},
   "outputs": [
    {
     "data": {
      "text/html": [
       "<div>\n",
       "<style scoped>\n",
       "    .dataframe tbody tr th:only-of-type {\n",
       "        vertical-align: middle;\n",
       "    }\n",
       "\n",
       "    .dataframe tbody tr th {\n",
       "        vertical-align: top;\n",
       "    }\n",
       "\n",
       "    .dataframe thead th {\n",
       "        text-align: right;\n",
       "    }\n",
       "</style>\n",
       "<table border=\"1\" class=\"dataframe\">\n",
       "  <thead>\n",
       "    <tr style=\"text-align: right;\">\n",
       "      <th>debt</th>\n",
       "      <th>0</th>\n",
       "      <th>1</th>\n",
       "      <th>share_debt</th>\n",
       "    </tr>\n",
       "    <tr>\n",
       "      <th>children</th>\n",
       "      <th></th>\n",
       "      <th></th>\n",
       "      <th></th>\n",
       "    </tr>\n",
       "  </thead>\n",
       "  <tbody>\n",
       "    <tr>\n",
       "      <th>5</th>\n",
       "      <td>9.0</td>\n",
       "      <td>NaN</td>\n",
       "      <td>0.000000</td>\n",
       "    </tr>\n",
       "    <tr>\n",
       "      <th>0</th>\n",
       "      <td>13096.0</td>\n",
       "      <td>1071.0</td>\n",
       "      <td>0.075598</td>\n",
       "    </tr>\n",
       "    <tr>\n",
       "      <th>3</th>\n",
       "      <td>303.0</td>\n",
       "      <td>27.0</td>\n",
       "      <td>0.081818</td>\n",
       "    </tr>\n",
       "    <tr>\n",
       "      <th>1</th>\n",
       "      <td>4410.0</td>\n",
       "      <td>445.0</td>\n",
       "      <td>0.091658</td>\n",
       "    </tr>\n",
       "    <tr>\n",
       "      <th>2</th>\n",
       "      <td>1858.0</td>\n",
       "      <td>194.0</td>\n",
       "      <td>0.094542</td>\n",
       "    </tr>\n",
       "    <tr>\n",
       "      <th>4</th>\n",
       "      <td>37.0</td>\n",
       "      <td>4.0</td>\n",
       "      <td>0.097561</td>\n",
       "    </tr>\n",
       "  </tbody>\n",
       "</table>\n",
       "</div>"
      ],
      "text/plain": [
       "debt            0       1  share_debt\n",
       "children                             \n",
       "5             9.0     NaN    0.000000\n",
       "0         13096.0  1071.0    0.075598\n",
       "3           303.0    27.0    0.081818\n",
       "1          4410.0   445.0    0.091658\n",
       "2          1858.0   194.0    0.094542\n",
       "4            37.0     4.0    0.097561"
      ]
     },
     "execution_count": 40,
     "metadata": {},
     "output_type": "execute_result"
    }
   ],
   "source": [
    "pivot_share('children')\n"
   ]
  },
  {
   "cell_type": "markdown",
   "id": "a7aeb0dd",
   "metadata": {},
   "source": [
    "**Выводы**\n",
    "\n",
    "Гипотеза подтвердилась частично. Доля клиентов с детьми, имеющих задолженность по кредиту выше чем, у клиентов без детей. Прослеживается тенденция роста доли клиентов, имеющих задолженность с увеличением количества детей, но в тоже время у клиентов с 3 детьми доля должников ниже чем в остальных категориях. Для клиентов с 5 детьми однозначные выводы сделать невозможно из-за небольшого их количества. \n"
   ]
  },
  {
   "cell_type": "markdown",
   "id": "b2fabf94",
   "metadata": {},
   "source": [
    "### Проверка второй гипотезы: \n",
    "Семейное положение заемщика влияет на возврат кредита в срок.  \n",
    "\n",
    "Создадим функцию, которая принимает на вход один параметр - столбец для анализа данных. Функция рассчитывает долю клиентов, которые имели задодолженность по возврату кредита по группам. \n",
    "\n",
    "На выходе получаем таблицу с тремя столбцами - `total_count`, `debt_sum`, `share_debt` отсортированную в порядке возрастания доли клиентов должников по анализируемому столбцу.\n",
    "Используем функцию debt() для столбца `family_status_id`."
   ]
  },
  {
   "cell_type": "code",
   "execution_count": 41,
   "id": "ae57c952",
   "metadata": {},
   "outputs": [],
   "source": [
    "def debt (column): #функция для расчета доли клиентов, которые имели задолженность по возврату кредита\n",
    "    debt_share = pd.DataFrame()\n",
    "    debt_share['total_count'] = df.groupby(column)['debt'].count() #общее число клиентов, разделенное по группам\n",
    "    debt_share['debt_sum'] = df.groupby(column)['debt'].sum()      #суммарное число клиентов по группам, имеющих задолженность\n",
    "    debt_share['share_debt'] = df.groupby(column)['debt'].mean()   #доля клиентов имеющих задолженность от общего числа клиентов по группам\n",
    "    debt_share = debt_share.sort_values(by=('share_debt'))         #сортировка в порядке возрастания доли клиентов должников\n",
    "    return debt_share \n",
    "\n"
   ]
  },
  {
   "cell_type": "code",
   "execution_count": 42,
   "id": "e7985176",
   "metadata": {},
   "outputs": [
    {
     "data": {
      "text/html": [
       "<div>\n",
       "<style scoped>\n",
       "    .dataframe tbody tr th:only-of-type {\n",
       "        vertical-align: middle;\n",
       "    }\n",
       "\n",
       "    .dataframe tbody tr th {\n",
       "        vertical-align: top;\n",
       "    }\n",
       "\n",
       "    .dataframe thead th {\n",
       "        text-align: right;\n",
       "    }\n",
       "</style>\n",
       "<table border=\"1\" class=\"dataframe\">\n",
       "  <thead>\n",
       "    <tr style=\"text-align: right;\">\n",
       "      <th></th>\n",
       "      <th>total_count</th>\n",
       "      <th>debt_sum</th>\n",
       "      <th>share_debt</th>\n",
       "    </tr>\n",
       "    <tr>\n",
       "      <th>family_status_id</th>\n",
       "      <th></th>\n",
       "      <th></th>\n",
       "      <th></th>\n",
       "    </tr>\n",
       "  </thead>\n",
       "  <tbody>\n",
       "    <tr>\n",
       "      <th>2</th>\n",
       "      <td>959</td>\n",
       "      <td>63</td>\n",
       "      <td>0.065693</td>\n",
       "    </tr>\n",
       "    <tr>\n",
       "      <th>3</th>\n",
       "      <td>1195</td>\n",
       "      <td>85</td>\n",
       "      <td>0.071130</td>\n",
       "    </tr>\n",
       "    <tr>\n",
       "      <th>0</th>\n",
       "      <td>12339</td>\n",
       "      <td>931</td>\n",
       "      <td>0.075452</td>\n",
       "    </tr>\n",
       "    <tr>\n",
       "      <th>1</th>\n",
       "      <td>4151</td>\n",
       "      <td>388</td>\n",
       "      <td>0.093471</td>\n",
       "    </tr>\n",
       "    <tr>\n",
       "      <th>4</th>\n",
       "      <td>2810</td>\n",
       "      <td>274</td>\n",
       "      <td>0.097509</td>\n",
       "    </tr>\n",
       "  </tbody>\n",
       "</table>\n",
       "</div>"
      ],
      "text/plain": [
       "                  total_count  debt_sum  share_debt\n",
       "family_status_id                                   \n",
       "2                         959        63    0.065693\n",
       "3                        1195        85    0.071130\n",
       "0                       12339       931    0.075452\n",
       "1                        4151       388    0.093471\n",
       "4                        2810       274    0.097509"
      ]
     },
     "execution_count": 42,
     "metadata": {},
     "output_type": "execute_result"
    }
   ],
   "source": [
    "debt_family_status = debt('family_status_id')\n",
    "debt_family_status"
   ]
  },
  {
   "cell_type": "markdown",
   "id": "1534c5cc",
   "metadata": {},
   "source": [
    "Для наглядной интерпретации полученных результатов объединим полученные данные со словарем family_status."
   ]
  },
  {
   "cell_type": "code",
   "execution_count": 43,
   "id": "5758aa7b",
   "metadata": {},
   "outputs": [
    {
     "data": {
      "text/html": [
       "<div>\n",
       "<style scoped>\n",
       "    .dataframe tbody tr th:only-of-type {\n",
       "        vertical-align: middle;\n",
       "    }\n",
       "\n",
       "    .dataframe tbody tr th {\n",
       "        vertical-align: top;\n",
       "    }\n",
       "\n",
       "    .dataframe thead th {\n",
       "        text-align: right;\n",
       "    }\n",
       "</style>\n",
       "<table border=\"1\" class=\"dataframe\">\n",
       "  <thead>\n",
       "    <tr style=\"text-align: right;\">\n",
       "      <th></th>\n",
       "      <th>family_status</th>\n",
       "      <th>total_count</th>\n",
       "      <th>debt_sum</th>\n",
       "      <th>share_debt</th>\n",
       "    </tr>\n",
       "  </thead>\n",
       "  <tbody>\n",
       "    <tr>\n",
       "      <th>2</th>\n",
       "      <td>вдовец / вдова</td>\n",
       "      <td>959</td>\n",
       "      <td>63</td>\n",
       "      <td>0.065693</td>\n",
       "    </tr>\n",
       "    <tr>\n",
       "      <th>3</th>\n",
       "      <td>в разводе</td>\n",
       "      <td>1195</td>\n",
       "      <td>85</td>\n",
       "      <td>0.071130</td>\n",
       "    </tr>\n",
       "    <tr>\n",
       "      <th>0</th>\n",
       "      <td>женат / замужем</td>\n",
       "      <td>12339</td>\n",
       "      <td>931</td>\n",
       "      <td>0.075452</td>\n",
       "    </tr>\n",
       "    <tr>\n",
       "      <th>1</th>\n",
       "      <td>гражданский брак</td>\n",
       "      <td>4151</td>\n",
       "      <td>388</td>\n",
       "      <td>0.093471</td>\n",
       "    </tr>\n",
       "    <tr>\n",
       "      <th>4</th>\n",
       "      <td>Не женат / не замужем</td>\n",
       "      <td>2810</td>\n",
       "      <td>274</td>\n",
       "      <td>0.097509</td>\n",
       "    </tr>\n",
       "  </tbody>\n",
       "</table>\n",
       "</div>"
      ],
      "text/plain": [
       "           family_status  total_count  debt_sum  share_debt\n",
       "2         вдовец / вдова          959        63    0.065693\n",
       "3              в разводе         1195        85    0.071130\n",
       "0        женат / замужем        12339       931    0.075452\n",
       "1       гражданский брак         4151       388    0.093471\n",
       "4  Не женат / не замужем         2810       274    0.097509"
      ]
     },
     "execution_count": 43,
     "metadata": {},
     "output_type": "execute_result"
    }
   ],
   "source": [
    "debt_family_status = df_family_status.merge(debt_family_status, on='family_status_id', how='left',)\n",
    "debt_family_status = debt_family_status.drop(columns=['family_status_id'])\n",
    "debt_family_status.sort_values(by=('share_debt'))"
   ]
  },
  {
   "cell_type": "markdown",
   "id": "e4935218",
   "metadata": {},
   "source": [
    "**Выводы**\n",
    "\n",
    "Гипотеза подтвердилась. Максимальное количество клиентов, имеющих задолженность по кредиту приходится на группу 'не женатых/не замужних' и 'гражданский брак'. Меньше всего клиентов, имеющих задолженность по кредиту в группе 'вдовец/вдова'. Такие результаты могут быть связаны с возрастом клиентов, возможно люди более старшего возраста могут более ответственно подходить к вопросу возврата кредита в срок. "
   ]
  },
  {
   "cell_type": "markdown",
   "id": "4e16fc06",
   "metadata": {},
   "source": [
    "Рассмотрим гипотезу влияния возраста клиентов на возврат кредита в срок. Распределим всех клиентов в соответствии с возрастом на 4 категории: до 18 - дети, от 19 до 44 - молодой возраст, от 45 до 59 - средний возраст, от 59 и старше - пожилой возраст."
   ]
  },
  {
   "cell_type": "code",
   "execution_count": 44,
   "id": "59defd46",
   "metadata": {},
   "outputs": [
    {
     "data": {
      "text/plain": [
       "молодой возраст    11707\n",
       "средний возраст     7146\n",
       "пожилой возраст     2601\n",
       "Name: age_category, dtype: int64"
      ]
     },
     "execution_count": 44,
     "metadata": {},
     "output_type": "execute_result"
    }
   ],
   "source": [
    "def age_category(age):\n",
    "    if age <= 18:\n",
    "        return 'дети'  #добавила данную категорию для дополнительной проверки отсутствия некорректного возраста\n",
    "    if 19 <= age <= 44:\n",
    "        return 'молодой возраст'\n",
    "    if 45 <= age <= 59:\n",
    "        return 'средний возраст'\n",
    "    return 'пожилой возраст'\n",
    "\n",
    "df['age_category'] = df['dob_years'].apply(age_category)\n",
    "df['age_category'].value_counts() #выведем статистику распределения клиентов по возрасту"
   ]
  },
  {
   "cell_type": "code",
   "execution_count": 45,
   "id": "0fe88e71",
   "metadata": {},
   "outputs": [
    {
     "data": {
      "text/html": [
       "<div>\n",
       "<style scoped>\n",
       "    .dataframe tbody tr th:only-of-type {\n",
       "        vertical-align: middle;\n",
       "    }\n",
       "\n",
       "    .dataframe tbody tr th {\n",
       "        vertical-align: top;\n",
       "    }\n",
       "\n",
       "    .dataframe thead th {\n",
       "        text-align: right;\n",
       "    }\n",
       "</style>\n",
       "<table border=\"1\" class=\"dataframe\">\n",
       "  <thead>\n",
       "    <tr style=\"text-align: right;\">\n",
       "      <th>debt</th>\n",
       "      <th>0</th>\n",
       "      <th>1</th>\n",
       "      <th>share_debt</th>\n",
       "    </tr>\n",
       "    <tr>\n",
       "      <th>age_category</th>\n",
       "      <th></th>\n",
       "      <th></th>\n",
       "      <th></th>\n",
       "    </tr>\n",
       "  </thead>\n",
       "  <tbody>\n",
       "    <tr>\n",
       "      <th>пожилой возраст</th>\n",
       "      <td>2470</td>\n",
       "      <td>131</td>\n",
       "      <td>0.050365</td>\n",
       "    </tr>\n",
       "    <tr>\n",
       "      <th>средний возраст</th>\n",
       "      <td>6661</td>\n",
       "      <td>485</td>\n",
       "      <td>0.067870</td>\n",
       "    </tr>\n",
       "    <tr>\n",
       "      <th>молодой возраст</th>\n",
       "      <td>10582</td>\n",
       "      <td>1125</td>\n",
       "      <td>0.096096</td>\n",
       "    </tr>\n",
       "  </tbody>\n",
       "</table>\n",
       "</div>"
      ],
      "text/plain": [
       "debt                 0     1  share_debt\n",
       "age_category                            \n",
       "пожилой возраст   2470   131    0.050365\n",
       "средний возраст   6661   485    0.067870\n",
       "молодой возраст  10582  1125    0.096096"
      ]
     },
     "execution_count": 45,
     "metadata": {},
     "output_type": "execute_result"
    }
   ],
   "source": [
    "pivot_share('age_category')"
   ]
  },
  {
   "cell_type": "markdown",
   "id": "3cbb6f61",
   "metadata": {},
   "source": [
    "Гипотеза подтвердилась. Доля заемщиков, имеющих задолженность по кредиту уменьшается с увеличением возраста. Больше всего должников в группе 'молодой возраст', а меньше всего в группе пожилой возраст."
   ]
  },
  {
   "cell_type": "markdown",
   "id": "0b451e2e",
   "metadata": {},
   "source": [
    "### Проверка третьей гипотезы:\t\n",
    "Уровень дохода заемщика влияет на возврат кредита в срок. "
   ]
  },
  {
   "cell_type": "code",
   "execution_count": 46,
   "id": "e016b903",
   "metadata": {},
   "outputs": [
    {
     "data": {
      "text/html": [
       "<div>\n",
       "<style scoped>\n",
       "    .dataframe tbody tr th:only-of-type {\n",
       "        vertical-align: middle;\n",
       "    }\n",
       "\n",
       "    .dataframe tbody tr th {\n",
       "        vertical-align: top;\n",
       "    }\n",
       "\n",
       "    .dataframe thead th {\n",
       "        text-align: right;\n",
       "    }\n",
       "</style>\n",
       "<table border=\"1\" class=\"dataframe\">\n",
       "  <thead>\n",
       "    <tr style=\"text-align: right;\">\n",
       "      <th>debt</th>\n",
       "      <th>0</th>\n",
       "      <th>1</th>\n",
       "      <th>share_debt</th>\n",
       "    </tr>\n",
       "    <tr>\n",
       "      <th>total_income_category</th>\n",
       "      <th></th>\n",
       "      <th></th>\n",
       "      <th></th>\n",
       "    </tr>\n",
       "  </thead>\n",
       "  <tbody>\n",
       "    <tr>\n",
       "      <th>D</th>\n",
       "      <td>329</td>\n",
       "      <td>21</td>\n",
       "      <td>0.060000</td>\n",
       "    </tr>\n",
       "    <tr>\n",
       "      <th>B</th>\n",
       "      <td>5157</td>\n",
       "      <td>386</td>\n",
       "      <td>0.069637</td>\n",
       "    </tr>\n",
       "    <tr>\n",
       "      <th>A</th>\n",
       "      <td>23</td>\n",
       "      <td>2</td>\n",
       "      <td>0.080000</td>\n",
       "    </tr>\n",
       "    <tr>\n",
       "      <th>C</th>\n",
       "      <td>14184</td>\n",
       "      <td>1330</td>\n",
       "      <td>0.085729</td>\n",
       "    </tr>\n",
       "    <tr>\n",
       "      <th>E</th>\n",
       "      <td>20</td>\n",
       "      <td>2</td>\n",
       "      <td>0.090909</td>\n",
       "    </tr>\n",
       "  </tbody>\n",
       "</table>\n",
       "</div>"
      ],
      "text/plain": [
       "debt                       0     1  share_debt\n",
       "total_income_category                         \n",
       "D                        329    21    0.060000\n",
       "B                       5157   386    0.069637\n",
       "A                         23     2    0.080000\n",
       "C                      14184  1330    0.085729\n",
       "E                         20     2    0.090909"
      ]
     },
     "execution_count": 46,
     "metadata": {},
     "output_type": "execute_result"
    }
   ],
   "source": [
    "pivot_share('total_income_category')\n"
   ]
  },
  {
   "cell_type": "markdown",
   "id": "35d06522",
   "metadata": {},
   "source": [
    "**Выводы**\n",
    "\n",
    "Гипотеза не подтвердилась. Уровень дохода заемщика не влияет на возврат кредита в срок. Меньше всего клиентов, имеющих задолженность по кредиту в группе клиентов с доходом ниже среднего, а больше всего в группе с самым низким доходом, но количество этих клиентов крайне мало, что не позволяет сделать объективных выводов."
   ]
  },
  {
   "cell_type": "markdown",
   "id": "6aa334ab",
   "metadata": {},
   "source": [
    "### Проверка четвертой гипотезы:\t\n",
    "Как разные цели кредита влияют на его возврат в срок. "
   ]
  },
  {
   "cell_type": "code",
   "execution_count": 47,
   "id": "fe43a4df",
   "metadata": {},
   "outputs": [
    {
     "data": {
      "text/html": [
       "<div>\n",
       "<style scoped>\n",
       "    .dataframe tbody tr th:only-of-type {\n",
       "        vertical-align: middle;\n",
       "    }\n",
       "\n",
       "    .dataframe tbody tr th {\n",
       "        vertical-align: top;\n",
       "    }\n",
       "\n",
       "    .dataframe thead th {\n",
       "        text-align: right;\n",
       "    }\n",
       "</style>\n",
       "<table border=\"1\" class=\"dataframe\">\n",
       "  <thead>\n",
       "    <tr style=\"text-align: right;\">\n",
       "      <th>debt</th>\n",
       "      <th>0</th>\n",
       "      <th>1</th>\n",
       "      <th>share_debt</th>\n",
       "    </tr>\n",
       "    <tr>\n",
       "      <th>purpose_category</th>\n",
       "      <th></th>\n",
       "      <th></th>\n",
       "      <th></th>\n",
       "    </tr>\n",
       "  </thead>\n",
       "  <tbody>\n",
       "    <tr>\n",
       "      <th>операции с недвижимостью</th>\n",
       "      <td>10029</td>\n",
       "      <td>782</td>\n",
       "      <td>0.072334</td>\n",
       "    </tr>\n",
       "    <tr>\n",
       "      <th>проведение свадьбы</th>\n",
       "      <td>2138</td>\n",
       "      <td>186</td>\n",
       "      <td>0.080034</td>\n",
       "    </tr>\n",
       "    <tr>\n",
       "      <th>получение образования</th>\n",
       "      <td>3643</td>\n",
       "      <td>370</td>\n",
       "      <td>0.092200</td>\n",
       "    </tr>\n",
       "    <tr>\n",
       "      <th>операции с автомобилем</th>\n",
       "      <td>3903</td>\n",
       "      <td>403</td>\n",
       "      <td>0.093590</td>\n",
       "    </tr>\n",
       "  </tbody>\n",
       "</table>\n",
       "</div>"
      ],
      "text/plain": [
       "debt                          0    1  share_debt\n",
       "purpose_category                                \n",
       "операции с недвижимостью  10029  782    0.072334\n",
       "проведение свадьбы         2138  186    0.080034\n",
       "получение образования      3643  370    0.092200\n",
       "операции с автомобилем     3903  403    0.093590"
      ]
     },
     "execution_count": 47,
     "metadata": {},
     "output_type": "execute_result"
    }
   ],
   "source": [
    "pivot_share('purpose_category')"
   ]
  },
  {
   "cell_type": "markdown",
   "id": "6b036f14",
   "metadata": {},
   "source": [
    "**Выводы**\n",
    "\n",
    "Меньше всего задолженностей по кредиту в категории 'операции с недвижимостью', чуть больше доля должников по кредиту в категории 'проведение свадьбы'. Самая большая доля клиентов, имеющих задолженность в категории 'получение образования' и 'операции с автомобилем'. По этим двум категориям доли должников почти равны. \t"
   ]
  },
  {
   "cell_type": "markdown",
   "id": "bf039e10",
   "metadata": {},
   "source": [
    "## Общий вывод:"
   ]
  },
  {
   "cell_type": "markdown",
   "id": "ce54406d",
   "metadata": {},
   "source": [
    "При обзоре данных были выявлены аномалии, пропуски значений. Были устранены следущие проблемы в данных: \n",
    "- пропущенные и отрицательные значения,\n",
    "- аномалии в данных,\n",
    "- дубликаты — явные и неявные.\n",
    "\n",
    "Некорректные значения в столбце `days_employed` заменили на положительные числа , а значения аномального возраста и трудового стажа, а также аномальные значения  в столбце `children` заполнили логически подходящими медианны данными.\n",
    "Рассчитав среднее и медиану по данным приняли решение заполнить пропущенные значения в данных медианой.\n",
    "Привели типы данных к наиболее подходящему целочисленному типу.\n",
    "После проверки проверки были удалены 54 явных дубликата, проверили столбцы на наличие неявных дубликатов. Привели данные в столбце `education`  к однообразному виду и после этого обнаружили и удалили еще 17 дубликатов.\n",
    "Сформировали 2 дополнительных датафрейма-словаря для упрощения работы и наглядного вывода результатов.\n",
    "Категоризировали доход клиентов исходя из уровня их образования, результаты занесли в новый столбец `total_income_category`. Объединили цели кредита в 4 основные категории, результаты занесли в столбец `purpose_category`.\n",
    "\n",
    "Были проверены 4 гипотезы, исходя из имеющихся данных установлено:\n",
    "1. Гипотеза подтвердилась частично для клиентов с 1,2,4 детьми, для клиентов с 3 и 5 детьми одонозначный вывод сделать нельзя.\n",
    "2. Гипотеза подтвердилась. Семейное положение влияет на возврат кредита в срок. Меньше всего доля клиентов, имеющих задолженность у банка в группе 'вдовец / вдова', больше всего доля в группе 'Не женат / не замужем'.\n",
    "3. Гипотеза не подтвердилась. Уровень дохода заемщика не влияет на возврат кредита в срок. \n",
    "4. Меньше всего задолженностей по кредиту в категории 'операции с недвижимостью', чуть больше доля должников по кредиту в категории 'проведение свадьбы'. Самая большая доля клиентов, имеющих задолженность в категории 'получение образования' и 'операции с автомобилем'. По этим двум категориям доли должников почти равны.\n",
    "\n",
    "Взаимосвязь семейного положения клиентов и возврат кредита в срок может быть обусловлена в большей степени возрастом клиента, а не его семейным положением. В качестве дополнения была рассмотрена зависимость возврата кредита в срок от возраста клиентов. Она полностью подтверждена. Возраст клиента влияет на возврат кредита в срок.\n",
    "\n",
    "\n"
   ]
  }
 ],
 "metadata": {
  "ExecuteTimeLog": [
   {
    "duration": 75,
    "start_time": "2022-03-17T11:18:14.096Z"
   },
   {
    "duration": 481,
    "start_time": "2022-03-17T11:18:24.780Z"
   },
   {
    "duration": 89,
    "start_time": "2022-03-17T11:18:25.345Z"
   },
   {
    "duration": 95,
    "start_time": "2022-03-17T11:19:01.024Z"
   },
   {
    "duration": 23,
    "start_time": "2022-03-17T11:19:47.984Z"
   },
   {
    "duration": 48,
    "start_time": "2022-03-17T20:26:44.821Z"
   },
   {
    "duration": 456,
    "start_time": "2022-03-17T20:26:59.720Z"
   },
   {
    "duration": 83,
    "start_time": "2022-03-17T20:27:00.179Z"
   },
   {
    "duration": 16,
    "start_time": "2022-03-17T20:27:00.264Z"
   },
   {
    "duration": 24,
    "start_time": "2022-03-17T20:27:00.282Z"
   },
   {
    "duration": 6,
    "start_time": "2022-03-17T20:37:43.046Z"
   },
   {
    "duration": 429,
    "start_time": "2022-03-18T10:27:02.806Z"
   },
   {
    "duration": 79,
    "start_time": "2022-03-18T10:27:03.237Z"
   },
   {
    "duration": 16,
    "start_time": "2022-03-18T10:27:03.318Z"
   },
   {
    "duration": 10,
    "start_time": "2022-03-18T10:27:03.339Z"
   },
   {
    "duration": 128,
    "start_time": "2022-03-18T10:27:03.351Z"
   },
   {
    "duration": 11,
    "start_time": "2022-03-18T10:48:38.059Z"
   },
   {
    "duration": 12,
    "start_time": "2022-03-18T10:49:00.339Z"
   },
   {
    "duration": 4,
    "start_time": "2022-03-18T11:06:13.298Z"
   },
   {
    "duration": 6,
    "start_time": "2022-03-18T11:06:29.698Z"
   },
   {
    "duration": 5,
    "start_time": "2022-03-18T11:06:47.613Z"
   },
   {
    "duration": 5,
    "start_time": "2022-03-18T11:06:50.450Z"
   },
   {
    "duration": 5,
    "start_time": "2022-03-18T11:07:43.502Z"
   },
   {
    "duration": 5,
    "start_time": "2022-03-18T11:08:29.822Z"
   },
   {
    "duration": 5,
    "start_time": "2022-03-18T11:08:32.243Z"
   },
   {
    "duration": 6,
    "start_time": "2022-03-18T11:08:35.518Z"
   },
   {
    "duration": 5,
    "start_time": "2022-03-18T11:08:38.518Z"
   },
   {
    "duration": 4,
    "start_time": "2022-03-18T11:09:54.967Z"
   },
   {
    "duration": 4,
    "start_time": "2022-03-18T11:10:13.767Z"
   },
   {
    "duration": 5,
    "start_time": "2022-03-18T11:10:24.360Z"
   },
   {
    "duration": 7,
    "start_time": "2022-03-18T11:11:04.859Z"
   },
   {
    "duration": 8,
    "start_time": "2022-03-18T11:11:22.091Z"
   },
   {
    "duration": 6,
    "start_time": "2022-03-18T11:11:43.836Z"
   },
   {
    "duration": 7,
    "start_time": "2022-03-18T11:13:53.852Z"
   },
   {
    "duration": 45,
    "start_time": "2022-03-18T20:34:46.285Z"
   },
   {
    "duration": 416,
    "start_time": "2022-03-18T20:34:56.717Z"
   },
   {
    "duration": 71,
    "start_time": "2022-03-18T20:34:57.135Z"
   },
   {
    "duration": 14,
    "start_time": "2022-03-18T20:34:57.208Z"
   },
   {
    "duration": 18,
    "start_time": "2022-03-18T20:34:57.224Z"
   },
   {
    "duration": 10,
    "start_time": "2022-03-18T20:34:57.244Z"
   },
   {
    "duration": 5,
    "start_time": "2022-03-18T20:34:57.256Z"
   },
   {
    "duration": 11,
    "start_time": "2022-03-18T21:08:06.937Z"
   },
   {
    "duration": 6,
    "start_time": "2022-03-18T21:08:10.425Z"
   },
   {
    "duration": 7,
    "start_time": "2022-03-18T21:08:12.617Z"
   },
   {
    "duration": 127,
    "start_time": "2022-03-18T21:18:12.891Z"
   },
   {
    "duration": 100,
    "start_time": "2022-03-18T21:18:23.847Z"
   },
   {
    "duration": 4,
    "start_time": "2022-03-18T21:18:35.107Z"
   },
   {
    "duration": 5,
    "start_time": "2022-03-18T21:19:18.203Z"
   },
   {
    "duration": 5,
    "start_time": "2022-03-18T21:20:04.595Z"
   },
   {
    "duration": 6,
    "start_time": "2022-03-18T21:21:04.771Z"
   },
   {
    "duration": 7,
    "start_time": "2022-03-18T21:22:39.694Z"
   },
   {
    "duration": 13,
    "start_time": "2022-03-18T21:23:03.179Z"
   },
   {
    "duration": 7,
    "start_time": "2022-03-18T21:23:20.322Z"
   },
   {
    "duration": 10,
    "start_time": "2022-03-18T21:23:43.735Z"
   },
   {
    "duration": 5,
    "start_time": "2022-03-18T21:50:48.383Z"
   },
   {
    "duration": 3,
    "start_time": "2022-03-18T21:52:36.538Z"
   },
   {
    "duration": 4,
    "start_time": "2022-03-18T21:52:42.119Z"
   },
   {
    "duration": 4,
    "start_time": "2022-03-18T22:04:45.326Z"
   },
   {
    "duration": 3,
    "start_time": "2022-03-18T22:04:50.298Z"
   },
   {
    "duration": 14,
    "start_time": "2022-03-18T22:05:08.098Z"
   },
   {
    "duration": 52,
    "start_time": "2022-03-19T10:51:42.774Z"
   },
   {
    "duration": 422,
    "start_time": "2022-03-19T10:51:54.135Z"
   },
   {
    "duration": 134,
    "start_time": "2022-03-19T10:51:54.559Z"
   },
   {
    "duration": 16,
    "start_time": "2022-03-19T10:51:54.694Z"
   },
   {
    "duration": 10,
    "start_time": "2022-03-19T10:51:54.712Z"
   },
   {
    "duration": 14,
    "start_time": "2022-03-19T10:51:54.724Z"
   },
   {
    "duration": 5,
    "start_time": "2022-03-19T10:51:54.740Z"
   },
   {
    "duration": 7,
    "start_time": "2022-03-19T10:51:54.747Z"
   },
   {
    "duration": 10,
    "start_time": "2022-03-19T10:51:54.755Z"
   },
   {
    "duration": 16,
    "start_time": "2022-03-19T10:51:54.767Z"
   },
   {
    "duration": 7,
    "start_time": "2022-03-19T11:15:09.757Z"
   },
   {
    "duration": 69,
    "start_time": "2022-03-19T11:15:26.505Z"
   },
   {
    "duration": 28,
    "start_time": "2022-03-19T11:16:15.452Z"
   },
   {
    "duration": 21,
    "start_time": "2022-03-19T11:17:05.747Z"
   },
   {
    "duration": 24,
    "start_time": "2022-03-19T11:17:33.740Z"
   },
   {
    "duration": 22,
    "start_time": "2022-03-19T11:18:01.216Z"
   },
   {
    "duration": 25,
    "start_time": "2022-03-19T11:18:55.556Z"
   },
   {
    "duration": 35,
    "start_time": "2022-03-19T11:19:31.456Z"
   },
   {
    "duration": 431,
    "start_time": "2022-03-19T11:19:53.810Z"
   },
   {
    "duration": 79,
    "start_time": "2022-03-19T11:19:54.243Z"
   },
   {
    "duration": 22,
    "start_time": "2022-03-19T11:19:54.324Z"
   },
   {
    "duration": 15,
    "start_time": "2022-03-19T11:19:54.348Z"
   },
   {
    "duration": 6,
    "start_time": "2022-03-19T11:19:54.365Z"
   },
   {
    "duration": 9,
    "start_time": "2022-03-19T11:19:54.372Z"
   },
   {
    "duration": 15,
    "start_time": "2022-03-19T11:19:54.383Z"
   },
   {
    "duration": 15,
    "start_time": "2022-03-19T11:19:54.399Z"
   },
   {
    "duration": 39,
    "start_time": "2022-03-19T11:19:54.416Z"
   },
   {
    "duration": 14,
    "start_time": "2022-03-19T11:19:54.457Z"
   },
   {
    "duration": 28,
    "start_time": "2022-03-19T11:19:54.473Z"
   },
   {
    "duration": 29,
    "start_time": "2022-03-19T11:20:42.031Z"
   },
   {
    "duration": 391,
    "start_time": "2022-03-19T11:21:11.558Z"
   },
   {
    "duration": 77,
    "start_time": "2022-03-19T11:21:11.951Z"
   },
   {
    "duration": 19,
    "start_time": "2022-03-19T11:21:12.030Z"
   },
   {
    "duration": 14,
    "start_time": "2022-03-19T11:21:12.052Z"
   },
   {
    "duration": 6,
    "start_time": "2022-03-19T11:21:12.068Z"
   },
   {
    "duration": 12,
    "start_time": "2022-03-19T11:21:12.075Z"
   },
   {
    "duration": 6,
    "start_time": "2022-03-19T11:21:12.089Z"
   },
   {
    "duration": 12,
    "start_time": "2022-03-19T11:21:12.096Z"
   },
   {
    "duration": 27,
    "start_time": "2022-03-19T11:21:12.138Z"
   },
   {
    "duration": 15,
    "start_time": "2022-03-19T11:21:12.167Z"
   },
   {
    "duration": 57,
    "start_time": "2022-03-19T11:21:12.184Z"
   },
   {
    "duration": 29,
    "start_time": "2022-03-19T11:21:45.218Z"
   },
   {
    "duration": 402,
    "start_time": "2022-03-19T11:22:01.267Z"
   },
   {
    "duration": 84,
    "start_time": "2022-03-19T11:22:01.672Z"
   },
   {
    "duration": 17,
    "start_time": "2022-03-19T11:22:01.758Z"
   },
   {
    "duration": 16,
    "start_time": "2022-03-19T11:22:01.778Z"
   },
   {
    "duration": 24,
    "start_time": "2022-03-19T11:22:01.796Z"
   },
   {
    "duration": 19,
    "start_time": "2022-03-19T11:22:01.822Z"
   },
   {
    "duration": 20,
    "start_time": "2022-03-19T11:22:01.843Z"
   },
   {
    "duration": 20,
    "start_time": "2022-03-19T11:22:01.865Z"
   },
   {
    "duration": 44,
    "start_time": "2022-03-19T11:22:01.887Z"
   },
   {
    "duration": 15,
    "start_time": "2022-03-19T11:22:01.933Z"
   },
   {
    "duration": 29,
    "start_time": "2022-03-19T11:22:01.950Z"
   },
   {
    "duration": 4,
    "start_time": "2022-03-19T11:33:41.312Z"
   },
   {
    "duration": 17,
    "start_time": "2022-03-19T11:33:49.755Z"
   },
   {
    "duration": 14,
    "start_time": "2022-03-19T11:34:19.711Z"
   },
   {
    "duration": 14,
    "start_time": "2022-03-19T11:34:29.936Z"
   },
   {
    "duration": 6,
    "start_time": "2022-03-19T11:34:49.683Z"
   },
   {
    "duration": 7,
    "start_time": "2022-03-19T11:34:58.123Z"
   },
   {
    "duration": 6,
    "start_time": "2022-03-19T11:35:43.575Z"
   },
   {
    "duration": 8,
    "start_time": "2022-03-19T11:52:59.905Z"
   },
   {
    "duration": 8,
    "start_time": "2022-03-19T11:53:23.226Z"
   },
   {
    "duration": 112,
    "start_time": "2022-03-19T11:54:38.825Z"
   },
   {
    "duration": 5,
    "start_time": "2022-03-19T11:55:01.297Z"
   },
   {
    "duration": 5,
    "start_time": "2022-03-19T11:55:25.101Z"
   },
   {
    "duration": 3,
    "start_time": "2022-03-19T11:56:06.057Z"
   },
   {
    "duration": 14,
    "start_time": "2022-03-19T11:56:25.773Z"
   },
   {
    "duration": 19,
    "start_time": "2022-03-19T11:57:15.245Z"
   },
   {
    "duration": 66,
    "start_time": "2022-03-19T11:58:08.541Z"
   },
   {
    "duration": 9,
    "start_time": "2022-03-19T11:58:54.949Z"
   },
   {
    "duration": 115,
    "start_time": "2022-03-19T11:59:00.557Z"
   },
   {
    "duration": 9,
    "start_time": "2022-03-19T11:59:07.097Z"
   },
   {
    "duration": 9,
    "start_time": "2022-03-19T11:59:24.097Z"
   },
   {
    "duration": 9,
    "start_time": "2022-03-19T11:59:44.400Z"
   },
   {
    "duration": 7,
    "start_time": "2022-03-19T12:00:41.224Z"
   },
   {
    "duration": 17,
    "start_time": "2022-03-19T12:00:53.732Z"
   },
   {
    "duration": 25,
    "start_time": "2022-03-19T12:01:19.516Z"
   },
   {
    "duration": 2180,
    "start_time": "2022-03-19T12:02:42.888Z"
   },
   {
    "duration": 2049,
    "start_time": "2022-03-19T12:02:46.339Z"
   },
   {
    "duration": 2201,
    "start_time": "2022-03-19T12:02:53.644Z"
   },
   {
    "duration": 3062,
    "start_time": "2022-03-19T12:03:15.215Z"
   },
   {
    "duration": 7,
    "start_time": "2022-03-19T12:04:52.171Z"
   },
   {
    "duration": 6,
    "start_time": "2022-03-19T12:19:03.780Z"
   },
   {
    "duration": 4,
    "start_time": "2022-03-19T12:19:15.084Z"
   },
   {
    "duration": 12,
    "start_time": "2022-03-19T12:19:29.218Z"
   },
   {
    "duration": 7,
    "start_time": "2022-03-19T12:20:01.576Z"
   },
   {
    "duration": 8,
    "start_time": "2022-03-19T12:20:58.476Z"
   },
   {
    "duration": 22,
    "start_time": "2022-03-19T12:21:19.868Z"
   },
   {
    "duration": 24,
    "start_time": "2022-03-19T12:21:29.063Z"
   },
   {
    "duration": 19,
    "start_time": "2022-03-19T12:21:47.465Z"
   },
   {
    "duration": 27,
    "start_time": "2022-03-19T12:26:20.474Z"
   },
   {
    "duration": 24,
    "start_time": "2022-03-19T12:26:42.890Z"
   },
   {
    "duration": 129,
    "start_time": "2022-03-19T12:27:08.318Z"
   },
   {
    "duration": 107,
    "start_time": "2022-03-19T12:27:14.451Z"
   },
   {
    "duration": 6,
    "start_time": "2022-03-19T12:27:25.578Z"
   },
   {
    "duration": 21,
    "start_time": "2022-03-19T12:31:06.207Z"
   },
   {
    "duration": 43,
    "start_time": "2022-03-19T12:31:36.475Z"
   },
   {
    "duration": 22,
    "start_time": "2022-03-19T12:32:01.323Z"
   },
   {
    "duration": 12,
    "start_time": "2022-03-19T12:32:17.074Z"
   },
   {
    "duration": 22,
    "start_time": "2022-03-19T12:32:26.115Z"
   },
   {
    "duration": 534,
    "start_time": "2022-03-19T12:34:11.726Z"
   },
   {
    "duration": 7,
    "start_time": "2022-03-19T12:34:24.671Z"
   },
   {
    "duration": 69,
    "start_time": "2022-03-19T18:10:25.229Z"
   },
   {
    "duration": 486,
    "start_time": "2022-03-19T18:10:35.577Z"
   },
   {
    "duration": 102,
    "start_time": "2022-03-19T18:10:36.068Z"
   },
   {
    "duration": 21,
    "start_time": "2022-03-19T18:10:36.172Z"
   },
   {
    "duration": 13,
    "start_time": "2022-03-19T18:10:36.195Z"
   },
   {
    "duration": 8,
    "start_time": "2022-03-19T18:10:36.211Z"
   },
   {
    "duration": 48,
    "start_time": "2022-03-19T18:10:36.221Z"
   },
   {
    "duration": 8,
    "start_time": "2022-03-19T18:10:36.271Z"
   },
   {
    "duration": 13,
    "start_time": "2022-03-19T18:10:36.282Z"
   },
   {
    "duration": 13,
    "start_time": "2022-03-19T18:10:36.297Z"
   },
   {
    "duration": 66,
    "start_time": "2022-03-19T18:10:36.312Z"
   },
   {
    "duration": 20,
    "start_time": "2022-03-19T18:10:36.380Z"
   },
   {
    "duration": 8,
    "start_time": "2022-03-19T18:10:36.402Z"
   },
   {
    "duration": 6,
    "start_time": "2022-03-19T18:10:36.413Z"
   },
   {
    "duration": 98,
    "start_time": "2022-03-19T18:11:48.557Z"
   },
   {
    "duration": 16,
    "start_time": "2022-03-19T18:12:26.160Z"
   },
   {
    "duration": 7,
    "start_time": "2022-03-19T18:13:53.372Z"
   },
   {
    "duration": 25,
    "start_time": "2022-03-19T18:14:04.396Z"
   },
   {
    "duration": 8,
    "start_time": "2022-03-19T18:14:16.509Z"
   },
   {
    "duration": 26,
    "start_time": "2022-03-19T18:14:40.356Z"
   },
   {
    "duration": 25,
    "start_time": "2022-03-19T18:14:44.188Z"
   },
   {
    "duration": 8,
    "start_time": "2022-03-19T18:14:53.812Z"
   },
   {
    "duration": 11,
    "start_time": "2022-03-19T18:15:30.841Z"
   },
   {
    "duration": 9,
    "start_time": "2022-03-19T18:15:46.118Z"
   },
   {
    "duration": 25,
    "start_time": "2022-03-19T18:15:53.072Z"
   },
   {
    "duration": 7,
    "start_time": "2022-03-19T20:05:04.617Z"
   },
   {
    "duration": 7,
    "start_time": "2022-03-19T20:05:16.354Z"
   },
   {
    "duration": 7,
    "start_time": "2022-03-19T20:10:31.873Z"
   },
   {
    "duration": 12,
    "start_time": "2022-03-19T20:12:01.124Z"
   },
   {
    "duration": 12,
    "start_time": "2022-03-19T20:28:05.290Z"
   },
   {
    "duration": 8,
    "start_time": "2022-03-19T20:34:36.925Z"
   },
   {
    "duration": 12,
    "start_time": "2022-03-19T20:38:54.940Z"
   },
   {
    "duration": 5,
    "start_time": "2022-03-19T20:39:12.853Z"
   },
   {
    "duration": 7,
    "start_time": "2022-03-19T20:40:16.520Z"
   },
   {
    "duration": 30,
    "start_time": "2022-03-19T20:40:43.204Z"
   },
   {
    "duration": 25,
    "start_time": "2022-03-19T20:41:24.984Z"
   },
   {
    "duration": 28,
    "start_time": "2022-03-19T20:42:15.597Z"
   },
   {
    "duration": 12,
    "start_time": "2022-03-19T20:51:15.051Z"
   },
   {
    "duration": 6,
    "start_time": "2022-03-19T21:20:48.087Z"
   },
   {
    "duration": 4,
    "start_time": "2022-03-19T21:26:30.659Z"
   },
   {
    "duration": 4,
    "start_time": "2022-03-19T21:26:33.627Z"
   },
   {
    "duration": 6,
    "start_time": "2022-03-19T21:26:55.829Z"
   },
   {
    "duration": 6,
    "start_time": "2022-03-19T21:27:12.153Z"
   },
   {
    "duration": 7,
    "start_time": "2022-03-19T21:37:28.764Z"
   },
   {
    "duration": 8,
    "start_time": "2022-03-19T21:38:22.508Z"
   },
   {
    "duration": 8,
    "start_time": "2022-03-19T21:38:51.959Z"
   },
   {
    "duration": 8,
    "start_time": "2022-03-19T21:39:19.255Z"
   },
   {
    "duration": 7,
    "start_time": "2022-03-19T21:40:53.311Z"
   },
   {
    "duration": 21,
    "start_time": "2022-03-19T21:41:30.135Z"
   },
   {
    "duration": 13,
    "start_time": "2022-03-19T21:53:03.670Z"
   },
   {
    "duration": 11,
    "start_time": "2022-03-19T21:55:34.980Z"
   },
   {
    "duration": 12,
    "start_time": "2022-03-19T21:56:24.894Z"
   },
   {
    "duration": 12,
    "start_time": "2022-03-19T21:56:57.290Z"
   },
   {
    "duration": 531,
    "start_time": "2022-03-19T21:59:34.429Z"
   },
   {
    "duration": 100,
    "start_time": "2022-03-19T21:59:34.963Z"
   },
   {
    "duration": 21,
    "start_time": "2022-03-19T21:59:35.068Z"
   },
   {
    "duration": 13,
    "start_time": "2022-03-19T21:59:35.092Z"
   },
   {
    "duration": 15,
    "start_time": "2022-03-19T21:59:35.107Z"
   },
   {
    "duration": 14,
    "start_time": "2022-03-19T21:59:35.124Z"
   },
   {
    "duration": 32,
    "start_time": "2022-03-19T21:59:35.140Z"
   },
   {
    "duration": 18,
    "start_time": "2022-03-19T21:59:35.174Z"
   },
   {
    "duration": 30,
    "start_time": "2022-03-19T21:59:35.195Z"
   },
   {
    "duration": 111,
    "start_time": "2022-03-19T21:59:35.229Z"
   },
   {
    "duration": 0,
    "start_time": "2022-03-19T21:59:35.342Z"
   },
   {
    "duration": 0,
    "start_time": "2022-03-19T21:59:35.344Z"
   },
   {
    "duration": 0,
    "start_time": "2022-03-19T21:59:35.346Z"
   },
   {
    "duration": 0,
    "start_time": "2022-03-19T21:59:35.347Z"
   },
   {
    "duration": 7,
    "start_time": "2022-03-19T22:00:18.423Z"
   },
   {
    "duration": 15,
    "start_time": "2022-03-19T22:00:22.695Z"
   },
   {
    "duration": 8,
    "start_time": "2022-03-19T22:04:18.447Z"
   },
   {
    "duration": 8,
    "start_time": "2022-03-19T22:04:52.231Z"
   },
   {
    "duration": 12,
    "start_time": "2022-03-19T22:06:48.351Z"
   },
   {
    "duration": 12,
    "start_time": "2022-03-19T22:07:08.787Z"
   },
   {
    "duration": 12,
    "start_time": "2022-03-19T22:07:38.878Z"
   },
   {
    "duration": 11,
    "start_time": "2022-03-19T22:07:49.975Z"
   },
   {
    "duration": 28,
    "start_time": "2022-03-19T22:18:19.933Z"
   },
   {
    "duration": 19,
    "start_time": "2022-03-19T22:19:26.585Z"
   },
   {
    "duration": 114,
    "start_time": "2022-03-19T22:33:41.179Z"
   },
   {
    "duration": 12,
    "start_time": "2022-03-19T22:34:14.507Z"
   },
   {
    "duration": 12,
    "start_time": "2022-03-19T22:34:47.959Z"
   },
   {
    "duration": 127,
    "start_time": "2022-03-19T22:36:54.939Z"
   },
   {
    "duration": 2058,
    "start_time": "2022-03-19T22:37:24.535Z"
   },
   {
    "duration": 1957,
    "start_time": "2022-03-19T22:37:32.235Z"
   },
   {
    "duration": 23,
    "start_time": "2022-03-19T22:37:48.062Z"
   },
   {
    "duration": 17,
    "start_time": "2022-03-19T22:38:00.846Z"
   },
   {
    "duration": 13,
    "start_time": "2022-03-19T22:38:22.058Z"
   },
   {
    "duration": 11,
    "start_time": "2022-03-19T22:46:19.817Z"
   },
   {
    "duration": 106,
    "start_time": "2022-03-19T22:47:56.562Z"
   },
   {
    "duration": 21,
    "start_time": "2022-03-19T22:48:03.045Z"
   },
   {
    "duration": 8,
    "start_time": "2022-03-19T22:48:26.581Z"
   },
   {
    "duration": 8,
    "start_time": "2022-03-19T22:48:48.221Z"
   },
   {
    "duration": 10,
    "start_time": "2022-03-19T22:48:53.600Z"
   },
   {
    "duration": 8,
    "start_time": "2022-03-19T22:48:59.730Z"
   },
   {
    "duration": 9,
    "start_time": "2022-03-19T22:49:14.609Z"
   },
   {
    "duration": 10,
    "start_time": "2022-03-19T22:49:38.478Z"
   },
   {
    "duration": 5,
    "start_time": "2022-03-19T22:50:38.236Z"
   },
   {
    "duration": 11,
    "start_time": "2022-03-19T22:50:47.104Z"
   },
   {
    "duration": 15,
    "start_time": "2022-03-19T22:51:31.653Z"
   },
   {
    "duration": 14,
    "start_time": "2022-03-19T22:51:43.757Z"
   },
   {
    "duration": 14,
    "start_time": "2022-03-19T22:52:18.645Z"
   },
   {
    "duration": 21,
    "start_time": "2022-03-19T22:52:32.917Z"
   },
   {
    "duration": 96,
    "start_time": "2022-03-19T22:58:17.809Z"
   },
   {
    "duration": 29,
    "start_time": "2022-03-19T22:58:46.244Z"
   },
   {
    "duration": 32,
    "start_time": "2022-03-19T23:00:22.412Z"
   },
   {
    "duration": 30,
    "start_time": "2022-03-19T23:01:00.672Z"
   },
   {
    "duration": 578,
    "start_time": "2022-03-19T23:03:06.670Z"
   },
   {
    "duration": 101,
    "start_time": "2022-03-19T23:03:07.251Z"
   },
   {
    "duration": 29,
    "start_time": "2022-03-19T23:03:07.357Z"
   },
   {
    "duration": 13,
    "start_time": "2022-03-19T23:03:07.389Z"
   },
   {
    "duration": 18,
    "start_time": "2022-03-19T23:03:07.404Z"
   },
   {
    "duration": 45,
    "start_time": "2022-03-19T23:03:07.424Z"
   },
   {
    "duration": 7,
    "start_time": "2022-03-19T23:03:07.471Z"
   },
   {
    "duration": 20,
    "start_time": "2022-03-19T23:03:07.480Z"
   },
   {
    "duration": 27,
    "start_time": "2022-03-19T23:03:07.502Z"
   },
   {
    "duration": 40,
    "start_time": "2022-03-19T23:03:07.531Z"
   },
   {
    "duration": 22,
    "start_time": "2022-03-19T23:03:07.573Z"
   },
   {
    "duration": 7,
    "start_time": "2022-03-19T23:03:07.597Z"
   },
   {
    "duration": 8,
    "start_time": "2022-03-19T23:03:07.607Z"
   },
   {
    "duration": 25,
    "start_time": "2022-03-19T23:11:49.168Z"
   },
   {
    "duration": 486,
    "start_time": "2022-03-19T23:13:28.620Z"
   },
   {
    "duration": 104,
    "start_time": "2022-03-19T23:13:29.110Z"
   },
   {
    "duration": 22,
    "start_time": "2022-03-19T23:13:29.216Z"
   },
   {
    "duration": 28,
    "start_time": "2022-03-19T23:13:29.241Z"
   },
   {
    "duration": 28,
    "start_time": "2022-03-19T23:13:29.272Z"
   },
   {
    "duration": 7,
    "start_time": "2022-03-19T23:13:29.302Z"
   },
   {
    "duration": 15,
    "start_time": "2022-03-19T23:13:29.311Z"
   },
   {
    "duration": 45,
    "start_time": "2022-03-19T23:13:29.328Z"
   },
   {
    "duration": 26,
    "start_time": "2022-03-19T23:13:29.375Z"
   },
   {
    "duration": 12,
    "start_time": "2022-03-19T23:13:29.403Z"
   },
   {
    "duration": 59,
    "start_time": "2022-03-19T23:13:29.417Z"
   },
   {
    "duration": 7,
    "start_time": "2022-03-19T23:13:29.478Z"
   },
   {
    "duration": 10,
    "start_time": "2022-03-19T23:13:29.487Z"
   },
   {
    "duration": 26,
    "start_time": "2022-03-19T23:15:16.323Z"
   },
   {
    "duration": 90,
    "start_time": "2022-03-19T23:21:18.731Z"
   },
   {
    "duration": 6,
    "start_time": "2022-03-19T23:21:30.995Z"
   },
   {
    "duration": 10,
    "start_time": "2022-03-19T23:22:10.206Z"
   },
   {
    "duration": 59,
    "start_time": "2022-03-19T23:22:31.358Z"
   },
   {
    "duration": 7,
    "start_time": "2022-03-19T23:22:50.079Z"
   },
   {
    "duration": 10,
    "start_time": "2022-03-19T23:23:23.670Z"
   },
   {
    "duration": 33,
    "start_time": "2022-03-19T23:24:20.130Z"
   },
   {
    "duration": 34,
    "start_time": "2022-03-19T23:24:29.454Z"
   },
   {
    "duration": 8,
    "start_time": "2022-03-19T23:25:02.051Z"
   },
   {
    "duration": 9,
    "start_time": "2022-03-19T23:25:11.726Z"
   },
   {
    "duration": 9,
    "start_time": "2022-03-19T23:25:15.786Z"
   },
   {
    "duration": 34,
    "start_time": "2022-03-19T23:25:43.198Z"
   },
   {
    "duration": 16,
    "start_time": "2022-03-19T23:26:00.546Z"
   },
   {
    "duration": 32,
    "start_time": "2022-03-19T23:27:17.790Z"
   },
   {
    "duration": 11,
    "start_time": "2022-03-19T23:28:55.130Z"
   },
   {
    "duration": 9,
    "start_time": "2022-03-19T23:29:29.513Z"
   },
   {
    "duration": 12,
    "start_time": "2022-03-19T23:34:18.358Z"
   },
   {
    "duration": 508,
    "start_time": "2022-03-19T23:34:30.451Z"
   },
   {
    "duration": 103,
    "start_time": "2022-03-19T23:34:30.962Z"
   },
   {
    "duration": 24,
    "start_time": "2022-03-19T23:34:31.068Z"
   },
   {
    "duration": 16,
    "start_time": "2022-03-19T23:34:31.096Z"
   },
   {
    "duration": 68,
    "start_time": "2022-03-19T23:34:31.115Z"
   },
   {
    "duration": 9,
    "start_time": "2022-03-19T23:34:31.185Z"
   },
   {
    "duration": 21,
    "start_time": "2022-03-19T23:34:31.196Z"
   },
   {
    "duration": 10,
    "start_time": "2022-03-19T23:34:31.220Z"
   },
   {
    "duration": 46,
    "start_time": "2022-03-19T23:34:31.233Z"
   },
   {
    "duration": 75,
    "start_time": "2022-03-19T23:34:31.284Z"
   },
   {
    "duration": 25,
    "start_time": "2022-03-19T23:34:31.361Z"
   },
   {
    "duration": 22,
    "start_time": "2022-03-19T23:34:31.389Z"
   },
   {
    "duration": 8,
    "start_time": "2022-03-19T23:34:31.413Z"
   },
   {
    "duration": 23,
    "start_time": "2022-03-19T23:34:31.424Z"
   },
   {
    "duration": 523,
    "start_time": "2022-03-20T19:37:28.131Z"
   },
   {
    "duration": 116,
    "start_time": "2022-03-20T19:37:28.657Z"
   },
   {
    "duration": 30,
    "start_time": "2022-03-20T19:37:28.776Z"
   },
   {
    "duration": 35,
    "start_time": "2022-03-20T19:37:28.811Z"
   },
   {
    "duration": 34,
    "start_time": "2022-03-20T19:37:28.848Z"
   },
   {
    "duration": 9,
    "start_time": "2022-03-20T19:37:28.885Z"
   },
   {
    "duration": 50,
    "start_time": "2022-03-20T19:37:28.896Z"
   },
   {
    "duration": 8,
    "start_time": "2022-03-20T19:37:28.948Z"
   },
   {
    "duration": 18,
    "start_time": "2022-03-20T19:37:28.958Z"
   },
   {
    "duration": 28,
    "start_time": "2022-03-20T19:37:28.979Z"
   },
   {
    "duration": 35,
    "start_time": "2022-03-20T19:37:29.009Z"
   },
   {
    "duration": 21,
    "start_time": "2022-03-20T19:37:29.046Z"
   },
   {
    "duration": 8,
    "start_time": "2022-03-20T19:37:29.069Z"
   },
   {
    "duration": 14,
    "start_time": "2022-03-20T19:37:29.080Z"
   },
   {
    "duration": 231,
    "start_time": "2022-03-20T19:51:17.353Z"
   },
   {
    "duration": 510,
    "start_time": "2022-03-20T20:47:41.599Z"
   },
   {
    "duration": 111,
    "start_time": "2022-03-20T20:47:42.112Z"
   },
   {
    "duration": 25,
    "start_time": "2022-03-20T20:47:42.225Z"
   },
   {
    "duration": 13,
    "start_time": "2022-03-20T20:47:42.253Z"
   },
   {
    "duration": 25,
    "start_time": "2022-03-20T20:47:42.269Z"
   },
   {
    "duration": 9,
    "start_time": "2022-03-20T20:47:42.296Z"
   },
   {
    "duration": 15,
    "start_time": "2022-03-20T20:47:42.343Z"
   },
   {
    "duration": 21,
    "start_time": "2022-03-20T20:47:42.360Z"
   },
   {
    "duration": 12,
    "start_time": "2022-03-20T20:47:42.384Z"
   },
   {
    "duration": 47,
    "start_time": "2022-03-20T20:47:42.398Z"
   },
   {
    "duration": 11,
    "start_time": "2022-03-20T20:47:42.447Z"
   },
   {
    "duration": 21,
    "start_time": "2022-03-20T20:47:42.460Z"
   },
   {
    "duration": 7,
    "start_time": "2022-03-20T20:47:42.483Z"
   },
   {
    "duration": 54,
    "start_time": "2022-03-20T20:47:42.493Z"
   },
   {
    "duration": 21,
    "start_time": "2022-03-20T21:10:08.348Z"
   },
   {
    "duration": 15,
    "start_time": "2022-03-20T21:10:33.212Z"
   },
   {
    "duration": 14,
    "start_time": "2022-03-20T21:12:22.756Z"
   },
   {
    "duration": 14,
    "start_time": "2022-03-20T21:15:35.956Z"
   },
   {
    "duration": 542,
    "start_time": "2022-03-20T21:19:12.503Z"
   },
   {
    "duration": 109,
    "start_time": "2022-03-20T21:19:13.048Z"
   },
   {
    "duration": 22,
    "start_time": "2022-03-20T21:19:13.160Z"
   },
   {
    "duration": 13,
    "start_time": "2022-03-20T21:19:13.185Z"
   },
   {
    "duration": 54,
    "start_time": "2022-03-20T21:19:13.200Z"
   },
   {
    "duration": 8,
    "start_time": "2022-03-20T21:19:13.256Z"
   },
   {
    "duration": 14,
    "start_time": "2022-03-20T21:19:13.267Z"
   },
   {
    "duration": 6,
    "start_time": "2022-03-20T21:19:13.283Z"
   },
   {
    "duration": 53,
    "start_time": "2022-03-20T21:19:13.291Z"
   },
   {
    "duration": 17,
    "start_time": "2022-03-20T21:19:13.347Z"
   },
   {
    "duration": 24,
    "start_time": "2022-03-20T21:19:13.366Z"
   },
   {
    "duration": 11,
    "start_time": "2022-03-20T21:19:13.392Z"
   },
   {
    "duration": 22,
    "start_time": "2022-03-20T21:19:13.405Z"
   },
   {
    "duration": 15,
    "start_time": "2022-03-20T21:19:13.429Z"
   },
   {
    "duration": 13,
    "start_time": "2022-03-20T21:19:13.446Z"
   },
   {
    "duration": 522,
    "start_time": "2022-03-20T21:22:08.746Z"
   },
   {
    "duration": 107,
    "start_time": "2022-03-20T21:22:09.270Z"
   },
   {
    "duration": 23,
    "start_time": "2022-03-20T21:22:09.380Z"
   },
   {
    "duration": 36,
    "start_time": "2022-03-20T21:22:09.407Z"
   },
   {
    "duration": 26,
    "start_time": "2022-03-20T21:22:09.446Z"
   },
   {
    "duration": 8,
    "start_time": "2022-03-20T21:22:09.475Z"
   },
   {
    "duration": 13,
    "start_time": "2022-03-20T21:22:09.485Z"
   },
   {
    "duration": 43,
    "start_time": "2022-03-20T21:22:09.500Z"
   },
   {
    "duration": 12,
    "start_time": "2022-03-20T21:22:09.545Z"
   },
   {
    "duration": 15,
    "start_time": "2022-03-20T21:22:09.560Z"
   },
   {
    "duration": 7,
    "start_time": "2022-03-20T21:22:09.578Z"
   },
   {
    "duration": 15,
    "start_time": "2022-03-20T21:22:09.588Z"
   },
   {
    "duration": 30,
    "start_time": "2022-03-20T21:22:09.644Z"
   },
   {
    "duration": 9,
    "start_time": "2022-03-20T21:22:09.677Z"
   },
   {
    "duration": 13,
    "start_time": "2022-03-20T21:22:09.689Z"
   },
   {
    "duration": 11,
    "start_time": "2022-03-20T21:23:54.330Z"
   },
   {
    "duration": 10,
    "start_time": "2022-03-20T21:38:38.648Z"
   },
   {
    "duration": 26,
    "start_time": "2022-03-20T21:40:28.691Z"
   },
   {
    "duration": 29,
    "start_time": "2022-03-20T21:52:21.596Z"
   },
   {
    "duration": 48,
    "start_time": "2022-03-20T21:52:35.306Z"
   },
   {
    "duration": 473,
    "start_time": "2022-03-20T21:59:26.787Z"
   },
   {
    "duration": 117,
    "start_time": "2022-03-20T21:59:27.263Z"
   },
   {
    "duration": 22,
    "start_time": "2022-03-20T21:59:27.383Z"
   },
   {
    "duration": 12,
    "start_time": "2022-03-20T21:59:27.407Z"
   },
   {
    "duration": 25,
    "start_time": "2022-03-20T21:59:27.443Z"
   },
   {
    "duration": 9,
    "start_time": "2022-03-20T21:59:27.470Z"
   },
   {
    "duration": 20,
    "start_time": "2022-03-20T21:59:27.481Z"
   },
   {
    "duration": 5,
    "start_time": "2022-03-20T21:59:27.503Z"
   },
   {
    "duration": 43,
    "start_time": "2022-03-20T21:59:27.510Z"
   },
   {
    "duration": 17,
    "start_time": "2022-03-20T21:59:27.555Z"
   },
   {
    "duration": 8,
    "start_time": "2022-03-20T21:59:27.574Z"
   },
   {
    "duration": 11,
    "start_time": "2022-03-20T21:59:27.585Z"
   },
   {
    "duration": 62,
    "start_time": "2022-03-20T21:59:27.598Z"
   },
   {
    "duration": 25,
    "start_time": "2022-03-20T21:59:27.663Z"
   },
   {
    "duration": 73,
    "start_time": "2022-03-20T21:59:27.690Z"
   },
   {
    "duration": 9,
    "start_time": "2022-03-20T21:59:27.765Z"
   },
   {
    "duration": 8,
    "start_time": "2022-03-20T21:59:27.776Z"
   },
   {
    "duration": 7,
    "start_time": "2022-03-20T21:59:27.786Z"
   },
   {
    "duration": 47,
    "start_time": "2022-03-20T21:59:27.795Z"
   },
   {
    "duration": 8,
    "start_time": "2022-03-20T21:59:27.845Z"
   },
   {
    "duration": 203,
    "start_time": "2022-03-20T22:09:12.817Z"
   },
   {
    "duration": 20,
    "start_time": "2022-03-20T22:09:55.808Z"
   },
   {
    "duration": 15,
    "start_time": "2022-03-20T22:10:25.704Z"
   },
   {
    "duration": 21,
    "start_time": "2022-03-20T22:10:33.736Z"
   },
   {
    "duration": 25,
    "start_time": "2022-03-20T22:11:05.280Z"
   },
   {
    "duration": 506,
    "start_time": "2022-03-20T22:18:36.734Z"
   },
   {
    "duration": 117,
    "start_time": "2022-03-20T22:18:37.242Z"
   },
   {
    "duration": 20,
    "start_time": "2022-03-20T22:18:37.361Z"
   },
   {
    "duration": 14,
    "start_time": "2022-03-20T22:18:37.384Z"
   },
   {
    "duration": 61,
    "start_time": "2022-03-20T22:18:37.400Z"
   },
   {
    "duration": 8,
    "start_time": "2022-03-20T22:18:37.463Z"
   },
   {
    "duration": 13,
    "start_time": "2022-03-20T22:18:37.474Z"
   },
   {
    "duration": 6,
    "start_time": "2022-03-20T22:18:37.489Z"
   },
   {
    "duration": 45,
    "start_time": "2022-03-20T22:18:37.497Z"
   },
   {
    "duration": 14,
    "start_time": "2022-03-20T22:18:37.546Z"
   },
   {
    "duration": 7,
    "start_time": "2022-03-20T22:18:37.562Z"
   },
   {
    "duration": 13,
    "start_time": "2022-03-20T22:18:37.572Z"
   },
   {
    "duration": 65,
    "start_time": "2022-03-20T22:18:37.587Z"
   },
   {
    "duration": 26,
    "start_time": "2022-03-20T22:18:37.655Z"
   },
   {
    "duration": 24,
    "start_time": "2022-03-20T22:18:37.684Z"
   },
   {
    "duration": 38,
    "start_time": "2022-03-20T22:18:37.710Z"
   },
   {
    "duration": 20,
    "start_time": "2022-03-20T22:18:37.750Z"
   },
   {
    "duration": 23,
    "start_time": "2022-03-20T22:18:37.772Z"
   },
   {
    "duration": 46,
    "start_time": "2022-03-20T22:18:37.798Z"
   },
   {
    "duration": 8,
    "start_time": "2022-03-20T22:18:37.846Z"
   },
   {
    "duration": 9,
    "start_time": "2022-03-20T22:18:37.856Z"
   },
   {
    "duration": 6,
    "start_time": "2022-03-20T22:19:53.930Z"
   },
   {
    "duration": 8,
    "start_time": "2022-03-20T22:20:10.254Z"
   },
   {
    "duration": 96,
    "start_time": "2022-03-20T22:20:22.110Z"
   },
   {
    "duration": 8,
    "start_time": "2022-03-20T22:20:39.922Z"
   },
   {
    "duration": 8,
    "start_time": "2022-03-20T22:20:52.623Z"
   },
   {
    "duration": 337,
    "start_time": "2022-03-21T10:49:46.184Z"
   },
   {
    "duration": 77,
    "start_time": "2022-03-21T10:49:46.523Z"
   },
   {
    "duration": 15,
    "start_time": "2022-03-21T10:49:46.601Z"
   },
   {
    "duration": 14,
    "start_time": "2022-03-21T10:49:46.619Z"
   },
   {
    "duration": 15,
    "start_time": "2022-03-21T10:49:46.635Z"
   },
   {
    "duration": 5,
    "start_time": "2022-03-21T10:49:46.652Z"
   },
   {
    "duration": 11,
    "start_time": "2022-03-21T10:49:46.659Z"
   },
   {
    "duration": 5,
    "start_time": "2022-03-21T10:49:46.671Z"
   },
   {
    "duration": 14,
    "start_time": "2022-03-21T10:49:46.677Z"
   },
   {
    "duration": 10,
    "start_time": "2022-03-21T10:49:46.693Z"
   },
   {
    "duration": 5,
    "start_time": "2022-03-21T10:49:46.733Z"
   },
   {
    "duration": 8,
    "start_time": "2022-03-21T10:49:46.740Z"
   },
   {
    "duration": 15,
    "start_time": "2022-03-21T10:49:46.750Z"
   },
   {
    "duration": 16,
    "start_time": "2022-03-21T10:49:46.767Z"
   },
   {
    "duration": 14,
    "start_time": "2022-03-21T10:49:46.785Z"
   },
   {
    "duration": 32,
    "start_time": "2022-03-21T10:49:46.801Z"
   },
   {
    "duration": 14,
    "start_time": "2022-03-21T10:49:46.835Z"
   },
   {
    "duration": 20,
    "start_time": "2022-03-21T10:49:46.850Z"
   },
   {
    "duration": 4,
    "start_time": "2022-03-21T10:49:46.872Z"
   },
   {
    "duration": 7,
    "start_time": "2022-03-21T10:49:46.877Z"
   },
   {
    "duration": 6,
    "start_time": "2022-03-21T10:49:46.886Z"
   },
   {
    "duration": 120,
    "start_time": "2022-03-21T10:54:09.849Z"
   },
   {
    "duration": 32,
    "start_time": "2022-03-21T10:54:28.805Z"
   },
   {
    "duration": 5,
    "start_time": "2022-03-21T11:01:30.405Z"
   },
   {
    "duration": 385,
    "start_time": "2022-03-21T11:02:18.149Z"
   },
   {
    "duration": 72,
    "start_time": "2022-03-21T11:02:18.536Z"
   },
   {
    "duration": 23,
    "start_time": "2022-03-21T11:02:18.610Z"
   },
   {
    "duration": 9,
    "start_time": "2022-03-21T11:02:18.635Z"
   },
   {
    "duration": 14,
    "start_time": "2022-03-21T11:02:18.646Z"
   },
   {
    "duration": 6,
    "start_time": "2022-03-21T11:02:18.662Z"
   },
   {
    "duration": 9,
    "start_time": "2022-03-21T11:02:18.669Z"
   },
   {
    "duration": 3,
    "start_time": "2022-03-21T11:02:18.680Z"
   },
   {
    "duration": 9,
    "start_time": "2022-03-21T11:02:18.685Z"
   },
   {
    "duration": 44,
    "start_time": "2022-03-21T11:02:18.696Z"
   },
   {
    "duration": 6,
    "start_time": "2022-03-21T11:02:18.741Z"
   },
   {
    "duration": 16,
    "start_time": "2022-03-21T11:02:18.748Z"
   },
   {
    "duration": 25,
    "start_time": "2022-03-21T11:02:18.766Z"
   },
   {
    "duration": 41,
    "start_time": "2022-03-21T11:02:18.793Z"
   },
   {
    "duration": 45,
    "start_time": "2022-03-21T11:02:18.835Z"
   },
   {
    "duration": 6,
    "start_time": "2022-03-21T11:02:18.882Z"
   },
   {
    "duration": 17,
    "start_time": "2022-03-21T11:02:18.889Z"
   },
   {
    "duration": 27,
    "start_time": "2022-03-21T11:02:18.908Z"
   },
   {
    "duration": 12,
    "start_time": "2022-03-21T11:02:18.937Z"
   },
   {
    "duration": 18,
    "start_time": "2022-03-21T11:02:18.950Z"
   },
   {
    "duration": 31,
    "start_time": "2022-03-21T11:02:18.970Z"
   },
   {
    "duration": 5,
    "start_time": "2022-03-21T11:02:19.003Z"
   },
   {
    "duration": 24,
    "start_time": "2022-03-21T11:02:19.010Z"
   },
   {
    "duration": 101,
    "start_time": "2022-03-21T20:28:39.780Z"
   },
   {
    "duration": 10,
    "start_time": "2022-03-21T20:28:52.112Z"
   },
   {
    "duration": 683,
    "start_time": "2022-03-21T20:29:07.690Z"
   },
   {
    "duration": 111,
    "start_time": "2022-03-21T20:29:08.377Z"
   },
   {
    "duration": 22,
    "start_time": "2022-03-21T20:29:08.491Z"
   },
   {
    "duration": 15,
    "start_time": "2022-03-21T20:29:08.516Z"
   },
   {
    "duration": 26,
    "start_time": "2022-03-21T20:29:08.569Z"
   },
   {
    "duration": 10,
    "start_time": "2022-03-21T20:29:08.599Z"
   },
   {
    "duration": 14,
    "start_time": "2022-03-21T20:29:08.612Z"
   },
   {
    "duration": 5,
    "start_time": "2022-03-21T20:29:08.669Z"
   },
   {
    "duration": 14,
    "start_time": "2022-03-21T20:29:08.677Z"
   },
   {
    "duration": 13,
    "start_time": "2022-03-21T20:29:08.697Z"
   },
   {
    "duration": 8,
    "start_time": "2022-03-21T20:29:08.713Z"
   },
   {
    "duration": 19,
    "start_time": "2022-03-21T20:29:08.767Z"
   },
   {
    "duration": 27,
    "start_time": "2022-03-21T20:29:08.789Z"
   },
   {
    "duration": 60,
    "start_time": "2022-03-21T20:29:08.818Z"
   },
   {
    "duration": 49,
    "start_time": "2022-03-21T20:29:08.880Z"
   },
   {
    "duration": 36,
    "start_time": "2022-03-21T20:29:08.932Z"
   },
   {
    "duration": 21,
    "start_time": "2022-03-21T20:29:08.970Z"
   },
   {
    "duration": 8,
    "start_time": "2022-03-21T20:29:08.994Z"
   },
   {
    "duration": 10,
    "start_time": "2022-03-21T20:29:09.005Z"
   },
   {
    "duration": 68,
    "start_time": "2022-03-21T20:29:09.018Z"
   },
   {
    "duration": 46,
    "start_time": "2022-03-21T20:29:09.089Z"
   },
   {
    "duration": 51,
    "start_time": "2022-03-21T20:29:09.138Z"
   },
   {
    "duration": 8,
    "start_time": "2022-03-21T20:29:09.191Z"
   },
   {
    "duration": 10,
    "start_time": "2022-03-21T20:29:09.201Z"
   },
   {
    "duration": 36,
    "start_time": "2022-03-21T20:29:48.758Z"
   },
   {
    "duration": 675,
    "start_time": "2022-03-21T20:30:03.809Z"
   },
   {
    "duration": 110,
    "start_time": "2022-03-21T20:30:04.487Z"
   },
   {
    "duration": 35,
    "start_time": "2022-03-21T20:30:04.600Z"
   },
   {
    "duration": 42,
    "start_time": "2022-03-21T20:30:04.640Z"
   },
   {
    "duration": 26,
    "start_time": "2022-03-21T20:30:04.684Z"
   },
   {
    "duration": 9,
    "start_time": "2022-03-21T20:30:04.713Z"
   },
   {
    "duration": 48,
    "start_time": "2022-03-21T20:30:04.725Z"
   },
   {
    "duration": 6,
    "start_time": "2022-03-21T20:30:04.775Z"
   },
   {
    "duration": 14,
    "start_time": "2022-03-21T20:30:04.785Z"
   },
   {
    "duration": 18,
    "start_time": "2022-03-21T20:30:04.805Z"
   },
   {
    "duration": 10,
    "start_time": "2022-03-21T20:30:04.868Z"
   },
   {
    "duration": 14,
    "start_time": "2022-03-21T20:30:04.880Z"
   },
   {
    "duration": 21,
    "start_time": "2022-03-21T20:30:04.897Z"
   },
   {
    "duration": 60,
    "start_time": "2022-03-21T20:30:04.920Z"
   },
   {
    "duration": 48,
    "start_time": "2022-03-21T20:30:04.982Z"
   },
   {
    "duration": 38,
    "start_time": "2022-03-21T20:30:05.032Z"
   },
   {
    "duration": 24,
    "start_time": "2022-03-21T20:30:05.072Z"
   },
   {
    "duration": 10,
    "start_time": "2022-03-21T20:30:05.099Z"
   },
   {
    "duration": 10,
    "start_time": "2022-03-21T20:30:05.112Z"
   },
   {
    "duration": 63,
    "start_time": "2022-03-21T20:30:05.124Z"
   },
   {
    "duration": 87,
    "start_time": "2022-03-21T20:30:05.189Z"
   },
   {
    "duration": 218,
    "start_time": "2022-03-21T20:30:05.280Z"
   },
   {
    "duration": 0,
    "start_time": "2022-03-21T20:30:05.501Z"
   },
   {
    "duration": 0,
    "start_time": "2022-03-21T20:30:05.504Z"
   },
   {
    "duration": 22,
    "start_time": "2022-03-21T20:30:46.353Z"
   },
   {
    "duration": 14,
    "start_time": "2022-03-21T20:32:00.148Z"
   },
   {
    "duration": 9,
    "start_time": "2022-03-21T20:35:24.607Z"
   },
   {
    "duration": 16,
    "start_time": "2022-03-21T20:39:03.284Z"
   },
   {
    "duration": 20,
    "start_time": "2022-03-21T20:45:22.074Z"
   },
   {
    "duration": 518,
    "start_time": "2022-03-21T20:45:35.549Z"
   },
   {
    "duration": 107,
    "start_time": "2022-03-21T20:45:36.070Z"
   },
   {
    "duration": 23,
    "start_time": "2022-03-21T20:45:36.179Z"
   },
   {
    "duration": 16,
    "start_time": "2022-03-21T20:45:36.205Z"
   },
   {
    "duration": 59,
    "start_time": "2022-03-21T20:45:36.223Z"
   },
   {
    "duration": 11,
    "start_time": "2022-03-21T20:45:36.284Z"
   },
   {
    "duration": 16,
    "start_time": "2022-03-21T20:45:36.298Z"
   },
   {
    "duration": 7,
    "start_time": "2022-03-21T20:45:36.316Z"
   },
   {
    "duration": 51,
    "start_time": "2022-03-21T20:45:36.327Z"
   },
   {
    "duration": 14,
    "start_time": "2022-03-21T20:45:36.384Z"
   },
   {
    "duration": 9,
    "start_time": "2022-03-21T20:45:36.401Z"
   },
   {
    "duration": 12,
    "start_time": "2022-03-21T20:45:36.412Z"
   },
   {
    "duration": 23,
    "start_time": "2022-03-21T20:45:36.468Z"
   },
   {
    "duration": 27,
    "start_time": "2022-03-21T20:45:36.493Z"
   },
   {
    "duration": 76,
    "start_time": "2022-03-21T20:45:36.522Z"
   },
   {
    "duration": 9,
    "start_time": "2022-03-21T20:45:36.600Z"
   },
   {
    "duration": 21,
    "start_time": "2022-03-21T20:45:36.612Z"
   },
   {
    "duration": 36,
    "start_time": "2022-03-21T20:45:36.635Z"
   },
   {
    "duration": 8,
    "start_time": "2022-03-21T20:45:36.674Z"
   },
   {
    "duration": 25,
    "start_time": "2022-03-21T20:45:36.684Z"
   },
   {
    "duration": 84,
    "start_time": "2022-03-21T20:45:36.711Z"
   },
   {
    "duration": 29,
    "start_time": "2022-03-21T20:45:36.798Z"
   },
   {
    "duration": 39,
    "start_time": "2022-03-21T20:45:36.829Z"
   },
   {
    "duration": 9,
    "start_time": "2022-03-21T20:45:36.870Z"
   },
   {
    "duration": 93,
    "start_time": "2022-03-21T20:47:54.810Z"
   },
   {
    "duration": 9,
    "start_time": "2022-03-21T20:51:02.951Z"
   },
   {
    "duration": 12,
    "start_time": "2022-03-21T20:51:22.666Z"
   },
   {
    "duration": 502,
    "start_time": "2022-03-21T20:51:30.594Z"
   },
   {
    "duration": 108,
    "start_time": "2022-03-21T20:51:31.099Z"
   },
   {
    "duration": 24,
    "start_time": "2022-03-21T20:51:31.209Z"
   },
   {
    "duration": 34,
    "start_time": "2022-03-21T20:51:31.235Z"
   },
   {
    "duration": 27,
    "start_time": "2022-03-21T20:51:31.272Z"
   },
   {
    "duration": 10,
    "start_time": "2022-03-21T20:51:31.302Z"
   },
   {
    "duration": 55,
    "start_time": "2022-03-21T20:51:31.314Z"
   },
   {
    "duration": 6,
    "start_time": "2022-03-21T20:51:31.371Z"
   },
   {
    "duration": 20,
    "start_time": "2022-03-21T20:51:31.380Z"
   },
   {
    "duration": 14,
    "start_time": "2022-03-21T20:51:31.402Z"
   },
   {
    "duration": 10,
    "start_time": "2022-03-21T20:51:31.419Z"
   },
   {
    "duration": 15,
    "start_time": "2022-03-21T20:51:31.469Z"
   },
   {
    "duration": 23,
    "start_time": "2022-03-21T20:51:31.487Z"
   },
   {
    "duration": 60,
    "start_time": "2022-03-21T20:51:31.514Z"
   },
   {
    "duration": 49,
    "start_time": "2022-03-21T20:51:31.576Z"
   },
   {
    "duration": 7,
    "start_time": "2022-03-21T20:51:31.627Z"
   },
   {
    "duration": 50,
    "start_time": "2022-03-21T20:51:31.637Z"
   },
   {
    "duration": 7,
    "start_time": "2022-03-21T20:51:31.689Z"
   },
   {
    "duration": 11,
    "start_time": "2022-03-21T20:51:31.698Z"
   },
   {
    "duration": 59,
    "start_time": "2022-03-21T20:51:31.712Z"
   },
   {
    "duration": 50,
    "start_time": "2022-03-21T20:51:31.773Z"
   },
   {
    "duration": 49,
    "start_time": "2022-03-21T20:51:31.826Z"
   },
   {
    "duration": 192,
    "start_time": "2022-03-21T20:51:31.878Z"
   },
   {
    "duration": 1,
    "start_time": "2022-03-21T20:51:32.073Z"
   },
   {
    "duration": 0,
    "start_time": "2022-03-21T20:51:32.077Z"
   },
   {
    "duration": 28,
    "start_time": "2022-03-21T20:52:02.615Z"
   },
   {
    "duration": 522,
    "start_time": "2022-03-21T20:52:14.559Z"
   },
   {
    "duration": 107,
    "start_time": "2022-03-21T20:52:15.084Z"
   },
   {
    "duration": 23,
    "start_time": "2022-03-21T20:52:15.193Z"
   },
   {
    "duration": 14,
    "start_time": "2022-03-21T20:52:15.219Z"
   },
   {
    "duration": 52,
    "start_time": "2022-03-21T20:52:15.236Z"
   },
   {
    "duration": 9,
    "start_time": "2022-03-21T20:52:15.290Z"
   },
   {
    "duration": 14,
    "start_time": "2022-03-21T20:52:15.302Z"
   },
   {
    "duration": 5,
    "start_time": "2022-03-21T20:52:15.319Z"
   },
   {
    "duration": 47,
    "start_time": "2022-03-21T20:52:15.327Z"
   },
   {
    "duration": 14,
    "start_time": "2022-03-21T20:52:15.379Z"
   },
   {
    "duration": 10,
    "start_time": "2022-03-21T20:52:15.396Z"
   },
   {
    "duration": 12,
    "start_time": "2022-03-21T20:52:15.408Z"
   },
   {
    "duration": 58,
    "start_time": "2022-03-21T20:52:15.423Z"
   },
   {
    "duration": 26,
    "start_time": "2022-03-21T20:52:15.483Z"
   },
   {
    "duration": 78,
    "start_time": "2022-03-21T20:52:15.511Z"
   },
   {
    "duration": 7,
    "start_time": "2022-03-21T20:52:15.591Z"
   },
   {
    "duration": 27,
    "start_time": "2022-03-21T20:52:15.600Z"
   },
   {
    "duration": 12,
    "start_time": "2022-03-21T20:52:15.629Z"
   },
   {
    "duration": 30,
    "start_time": "2022-03-21T20:52:15.643Z"
   },
   {
    "duration": 26,
    "start_time": "2022-03-21T20:52:15.676Z"
   },
   {
    "duration": 77,
    "start_time": "2022-03-21T20:52:15.705Z"
   },
   {
    "duration": 24,
    "start_time": "2022-03-21T20:52:15.784Z"
   },
   {
    "duration": 204,
    "start_time": "2022-03-21T20:52:15.812Z"
   },
   {
    "duration": 0,
    "start_time": "2022-03-21T20:52:16.018Z"
   },
   {
    "duration": 0,
    "start_time": "2022-03-21T20:52:16.020Z"
   },
   {
    "duration": 749,
    "start_time": "2022-03-21T20:54:36.425Z"
   },
   {
    "duration": 157,
    "start_time": "2022-03-21T20:54:37.179Z"
   },
   {
    "duration": 45,
    "start_time": "2022-03-21T20:54:37.340Z"
   },
   {
    "duration": 13,
    "start_time": "2022-03-21T20:54:37.388Z"
   },
   {
    "duration": 24,
    "start_time": "2022-03-21T20:54:37.404Z"
   },
   {
    "duration": 36,
    "start_time": "2022-03-21T20:54:37.431Z"
   },
   {
    "duration": 15,
    "start_time": "2022-03-21T20:54:37.470Z"
   },
   {
    "duration": 7,
    "start_time": "2022-03-21T20:54:37.487Z"
   },
   {
    "duration": 12,
    "start_time": "2022-03-21T20:54:37.498Z"
   },
   {
    "duration": 58,
    "start_time": "2022-03-21T20:54:37.515Z"
   },
   {
    "duration": 8,
    "start_time": "2022-03-21T20:54:37.575Z"
   },
   {
    "duration": 11,
    "start_time": "2022-03-21T20:54:37.586Z"
   },
   {
    "duration": 23,
    "start_time": "2022-03-21T20:54:37.600Z"
   },
   {
    "duration": 34,
    "start_time": "2022-03-21T20:54:37.669Z"
   },
   {
    "duration": 93,
    "start_time": "2022-03-21T20:54:37.707Z"
   },
   {
    "duration": 12,
    "start_time": "2022-03-21T20:54:37.803Z"
   },
   {
    "duration": 51,
    "start_time": "2022-03-21T20:54:37.818Z"
   },
   {
    "duration": 10,
    "start_time": "2022-03-21T20:54:37.873Z"
   },
   {
    "duration": 9,
    "start_time": "2022-03-21T20:54:37.887Z"
   },
   {
    "duration": 24,
    "start_time": "2022-03-21T20:54:37.898Z"
   },
   {
    "duration": 86,
    "start_time": "2022-03-21T20:54:37.925Z"
   },
   {
    "duration": 28,
    "start_time": "2022-03-21T20:54:38.013Z"
   },
   {
    "duration": 125,
    "start_time": "2022-03-21T20:54:38.043Z"
   },
   {
    "duration": 0,
    "start_time": "2022-03-21T20:54:38.170Z"
   },
   {
    "duration": 0,
    "start_time": "2022-03-21T20:54:38.171Z"
   },
   {
    "duration": 19,
    "start_time": "2022-03-21T20:55:08.593Z"
   },
   {
    "duration": 15,
    "start_time": "2022-03-21T20:56:22.509Z"
   },
   {
    "duration": 486,
    "start_time": "2022-03-21T20:56:34.016Z"
   },
   {
    "duration": 104,
    "start_time": "2022-03-21T20:56:34.504Z"
   },
   {
    "duration": 23,
    "start_time": "2022-03-21T20:56:34.610Z"
   },
   {
    "duration": 39,
    "start_time": "2022-03-21T20:56:34.636Z"
   },
   {
    "duration": 25,
    "start_time": "2022-03-21T20:56:34.677Z"
   },
   {
    "duration": 10,
    "start_time": "2022-03-21T20:56:34.705Z"
   },
   {
    "duration": 52,
    "start_time": "2022-03-21T20:56:34.718Z"
   },
   {
    "duration": 6,
    "start_time": "2022-03-21T20:56:34.772Z"
   },
   {
    "duration": 14,
    "start_time": "2022-03-21T20:56:34.780Z"
   },
   {
    "duration": 13,
    "start_time": "2022-03-21T20:56:34.796Z"
   },
   {
    "duration": 7,
    "start_time": "2022-03-21T20:56:34.812Z"
   },
   {
    "duration": 53,
    "start_time": "2022-03-21T20:56:34.821Z"
   },
   {
    "duration": 23,
    "start_time": "2022-03-21T20:56:34.878Z"
   },
   {
    "duration": 27,
    "start_time": "2022-03-21T20:56:34.903Z"
   },
   {
    "duration": 95,
    "start_time": "2022-03-21T20:56:34.933Z"
   },
   {
    "duration": 9,
    "start_time": "2022-03-21T20:56:35.032Z"
   },
   {
    "duration": 50,
    "start_time": "2022-03-21T20:56:35.045Z"
   },
   {
    "duration": 11,
    "start_time": "2022-03-21T20:56:35.098Z"
   },
   {
    "duration": 9,
    "start_time": "2022-03-21T20:56:35.112Z"
   },
   {
    "duration": 74,
    "start_time": "2022-03-21T20:56:35.124Z"
   },
   {
    "duration": 81,
    "start_time": "2022-03-21T20:56:35.201Z"
   },
   {
    "duration": 31,
    "start_time": "2022-03-21T20:56:35.286Z"
   },
   {
    "duration": 3,
    "start_time": "2022-03-21T20:56:35.321Z"
   },
   {
    "duration": 42,
    "start_time": "2022-03-21T20:56:35.327Z"
   },
   {
    "duration": 9,
    "start_time": "2022-03-21T20:56:35.372Z"
   },
   {
    "duration": 468,
    "start_time": "2022-03-21T20:57:37.295Z"
   },
   {
    "duration": 104,
    "start_time": "2022-03-21T20:57:37.765Z"
   },
   {
    "duration": 23,
    "start_time": "2022-03-21T20:57:37.872Z"
   },
   {
    "duration": 14,
    "start_time": "2022-03-21T20:57:37.899Z"
   },
   {
    "duration": 58,
    "start_time": "2022-03-21T20:57:37.916Z"
   },
   {
    "duration": 8,
    "start_time": "2022-03-21T20:57:37.977Z"
   },
   {
    "duration": 13,
    "start_time": "2022-03-21T20:57:37.988Z"
   },
   {
    "duration": 6,
    "start_time": "2022-03-21T20:57:38.003Z"
   },
   {
    "duration": 55,
    "start_time": "2022-03-21T20:57:38.013Z"
   },
   {
    "duration": 15,
    "start_time": "2022-03-21T20:57:38.077Z"
   },
   {
    "duration": 7,
    "start_time": "2022-03-21T20:57:38.095Z"
   },
   {
    "duration": 11,
    "start_time": "2022-03-21T20:57:38.105Z"
   },
   {
    "duration": 59,
    "start_time": "2022-03-21T20:57:38.119Z"
   },
   {
    "duration": 35,
    "start_time": "2022-03-21T20:57:38.181Z"
   },
   {
    "duration": 92,
    "start_time": "2022-03-21T20:57:38.219Z"
   },
   {
    "duration": 7,
    "start_time": "2022-03-21T20:57:38.315Z"
   },
   {
    "duration": 44,
    "start_time": "2022-03-21T20:57:38.324Z"
   },
   {
    "duration": 7,
    "start_time": "2022-03-21T20:57:38.371Z"
   },
   {
    "duration": 8,
    "start_time": "2022-03-21T20:57:38.380Z"
   },
   {
    "duration": 27,
    "start_time": "2022-03-21T20:57:38.390Z"
   },
   {
    "duration": 94,
    "start_time": "2022-03-21T20:57:38.419Z"
   },
   {
    "duration": 20,
    "start_time": "2022-03-21T20:57:38.515Z"
   },
   {
    "duration": 31,
    "start_time": "2022-03-21T20:57:38.537Z"
   },
   {
    "duration": 12,
    "start_time": "2022-03-21T20:57:38.570Z"
   },
   {
    "duration": 9,
    "start_time": "2022-03-21T20:57:38.584Z"
   },
   {
    "duration": 23,
    "start_time": "2022-03-21T20:58:15.357Z"
   },
   {
    "duration": 28,
    "start_time": "2022-03-21T20:59:24.869Z"
   },
   {
    "duration": 111,
    "start_time": "2022-03-21T20:59:44.629Z"
   },
   {
    "duration": 16,
    "start_time": "2022-03-21T21:02:05.764Z"
   },
   {
    "duration": 15,
    "start_time": "2022-03-21T21:02:08.805Z"
   },
   {
    "duration": 566,
    "start_time": "2022-03-21T21:02:15.885Z"
   },
   {
    "duration": 106,
    "start_time": "2022-03-21T21:02:16.453Z"
   },
   {
    "duration": 24,
    "start_time": "2022-03-21T21:02:16.570Z"
   },
   {
    "duration": 13,
    "start_time": "2022-03-21T21:02:16.598Z"
   },
   {
    "duration": 67,
    "start_time": "2022-03-21T21:02:16.614Z"
   },
   {
    "duration": 10,
    "start_time": "2022-03-21T21:02:16.684Z"
   },
   {
    "duration": 13,
    "start_time": "2022-03-21T21:02:16.697Z"
   },
   {
    "duration": 6,
    "start_time": "2022-03-21T21:02:16.712Z"
   },
   {
    "duration": 52,
    "start_time": "2022-03-21T21:02:16.721Z"
   },
   {
    "duration": 13,
    "start_time": "2022-03-21T21:02:16.776Z"
   },
   {
    "duration": 7,
    "start_time": "2022-03-21T21:02:16.792Z"
   },
   {
    "duration": 11,
    "start_time": "2022-03-21T21:02:16.802Z"
   },
   {
    "duration": 58,
    "start_time": "2022-03-21T21:02:16.817Z"
   },
   {
    "duration": 26,
    "start_time": "2022-03-21T21:02:16.878Z"
   },
   {
    "duration": 74,
    "start_time": "2022-03-21T21:02:16.906Z"
   },
   {
    "duration": 8,
    "start_time": "2022-03-21T21:02:16.982Z"
   },
   {
    "duration": 22,
    "start_time": "2022-03-21T21:02:16.992Z"
   },
   {
    "duration": 7,
    "start_time": "2022-03-21T21:02:17.017Z"
   },
   {
    "duration": 46,
    "start_time": "2022-03-21T21:02:17.027Z"
   },
   {
    "duration": 24,
    "start_time": "2022-03-21T21:02:17.076Z"
   },
   {
    "duration": 75,
    "start_time": "2022-03-21T21:02:17.103Z"
   },
   {
    "duration": 17,
    "start_time": "2022-03-21T21:02:17.180Z"
   },
   {
    "duration": 16,
    "start_time": "2022-03-21T21:02:17.199Z"
   },
   {
    "duration": 53,
    "start_time": "2022-03-21T21:02:17.217Z"
   },
   {
    "duration": 5,
    "start_time": "2022-03-21T21:02:17.273Z"
   },
   {
    "duration": 12,
    "start_time": "2022-03-21T21:02:17.280Z"
   },
   {
    "duration": 8,
    "start_time": "2022-03-21T21:02:17.294Z"
   },
   {
    "duration": 103,
    "start_time": "2022-03-21T21:14:47.654Z"
   },
   {
    "duration": 16,
    "start_time": "2022-03-21T21:15:11.954Z"
   },
   {
    "duration": 36,
    "start_time": "2022-03-21T21:15:19.358Z"
   },
   {
    "duration": 30,
    "start_time": "2022-03-21T21:15:59.538Z"
   },
   {
    "duration": 27,
    "start_time": "2022-03-21T21:46:10.523Z"
   },
   {
    "duration": 42,
    "start_time": "2022-03-21T21:46:49.612Z"
   },
   {
    "duration": 36,
    "start_time": "2022-03-21T21:54:39.978Z"
   },
   {
    "duration": 523,
    "start_time": "2022-03-21T21:54:54.384Z"
   },
   {
    "duration": 118,
    "start_time": "2022-03-21T21:54:54.910Z"
   },
   {
    "duration": 22,
    "start_time": "2022-03-21T21:54:55.030Z"
   },
   {
    "duration": 19,
    "start_time": "2022-03-21T21:54:55.055Z"
   },
   {
    "duration": 26,
    "start_time": "2022-03-21T21:54:55.077Z"
   },
   {
    "duration": 9,
    "start_time": "2022-03-21T21:54:55.105Z"
   },
   {
    "duration": 18,
    "start_time": "2022-03-21T21:54:55.116Z"
   },
   {
    "duration": 6,
    "start_time": "2022-03-21T21:54:55.136Z"
   },
   {
    "duration": 13,
    "start_time": "2022-03-21T21:54:55.144Z"
   },
   {
    "duration": 15,
    "start_time": "2022-03-21T21:54:55.170Z"
   },
   {
    "duration": 10,
    "start_time": "2022-03-21T21:54:55.188Z"
   },
   {
    "duration": 20,
    "start_time": "2022-03-21T21:54:55.201Z"
   },
   {
    "duration": 23,
    "start_time": "2022-03-21T21:54:55.223Z"
   },
   {
    "duration": 31,
    "start_time": "2022-03-21T21:54:55.248Z"
   },
   {
    "duration": 57,
    "start_time": "2022-03-21T21:54:55.281Z"
   },
   {
    "duration": 8,
    "start_time": "2022-03-21T21:54:55.340Z"
   },
   {
    "duration": 36,
    "start_time": "2022-03-21T21:54:55.351Z"
   },
   {
    "duration": 9,
    "start_time": "2022-03-21T21:54:55.390Z"
   },
   {
    "duration": 8,
    "start_time": "2022-03-21T21:54:55.401Z"
   },
   {
    "duration": 33,
    "start_time": "2022-03-21T21:54:55.412Z"
   },
   {
    "duration": 137,
    "start_time": "2022-03-21T21:54:55.447Z"
   },
   {
    "duration": 16,
    "start_time": "2022-03-21T21:54:55.587Z"
   },
   {
    "duration": 16,
    "start_time": "2022-03-21T21:54:55.605Z"
   },
   {
    "duration": 19,
    "start_time": "2022-03-21T21:54:55.623Z"
   },
   {
    "duration": 51,
    "start_time": "2022-03-21T21:54:55.644Z"
   },
   {
    "duration": 71,
    "start_time": "2022-03-21T21:54:55.698Z"
   },
   {
    "duration": 11,
    "start_time": "2022-03-21T21:54:55.772Z"
   },
   {
    "duration": 94,
    "start_time": "2022-03-21T21:54:55.791Z"
   },
   {
    "duration": 29,
    "start_time": "2022-03-21T21:55:34.163Z"
   },
   {
    "duration": 110,
    "start_time": "2022-03-21T21:56:14.784Z"
   },
   {
    "duration": 35,
    "start_time": "2022-03-21T21:56:21.031Z"
   },
   {
    "duration": 570,
    "start_time": "2022-03-21T21:56:32.413Z"
   },
   {
    "duration": 103,
    "start_time": "2022-03-21T21:56:32.986Z"
   },
   {
    "duration": 21,
    "start_time": "2022-03-21T21:56:33.091Z"
   },
   {
    "duration": 13,
    "start_time": "2022-03-21T21:56:33.115Z"
   },
   {
    "duration": 54,
    "start_time": "2022-03-21T21:56:33.130Z"
   },
   {
    "duration": 12,
    "start_time": "2022-03-21T21:56:33.188Z"
   },
   {
    "duration": 18,
    "start_time": "2022-03-21T21:56:33.203Z"
   },
   {
    "duration": 45,
    "start_time": "2022-03-21T21:56:33.223Z"
   },
   {
    "duration": 13,
    "start_time": "2022-03-21T21:56:33.270Z"
   },
   {
    "duration": 14,
    "start_time": "2022-03-21T21:56:33.291Z"
   },
   {
    "duration": 8,
    "start_time": "2022-03-21T21:56:33.308Z"
   },
   {
    "duration": 52,
    "start_time": "2022-03-21T21:56:33.318Z"
   },
   {
    "duration": 23,
    "start_time": "2022-03-21T21:56:33.372Z"
   },
   {
    "duration": 24,
    "start_time": "2022-03-21T21:56:33.397Z"
   },
   {
    "duration": 90,
    "start_time": "2022-03-21T21:56:33.423Z"
   },
   {
    "duration": 6,
    "start_time": "2022-03-21T21:56:33.516Z"
   },
   {
    "duration": 56,
    "start_time": "2022-03-21T21:56:33.524Z"
   },
   {
    "duration": 7,
    "start_time": "2022-03-21T21:56:33.583Z"
   },
   {
    "duration": 7,
    "start_time": "2022-03-21T21:56:33.593Z"
   },
   {
    "duration": 70,
    "start_time": "2022-03-21T21:56:33.602Z"
   },
   {
    "duration": 47,
    "start_time": "2022-03-21T21:56:33.674Z"
   },
   {
    "duration": 46,
    "start_time": "2022-03-21T21:56:33.723Z"
   },
   {
    "duration": 18,
    "start_time": "2022-03-21T21:56:33.771Z"
   },
   {
    "duration": 17,
    "start_time": "2022-03-21T21:56:33.791Z"
   },
   {
    "duration": 74,
    "start_time": "2022-03-21T21:56:33.811Z"
   },
   {
    "duration": 28,
    "start_time": "2022-03-21T21:56:33.888Z"
   },
   {
    "duration": 8,
    "start_time": "2022-03-21T21:56:33.918Z"
   },
   {
    "duration": 56,
    "start_time": "2022-03-21T21:56:33.931Z"
   },
   {
    "duration": 29,
    "start_time": "2022-03-21T21:58:29.555Z"
   },
   {
    "duration": 35,
    "start_time": "2022-03-21T21:58:37.681Z"
   },
   {
    "duration": 10,
    "start_time": "2022-03-21T22:00:24.305Z"
   },
   {
    "duration": 9,
    "start_time": "2022-03-21T22:02:12.716Z"
   },
   {
    "duration": 96,
    "start_time": "2022-03-21T22:03:48.788Z"
   },
   {
    "duration": 712,
    "start_time": "2022-03-22T10:15:21.976Z"
   },
   {
    "duration": 108,
    "start_time": "2022-03-22T10:15:22.691Z"
   },
   {
    "duration": 22,
    "start_time": "2022-03-22T10:15:22.801Z"
   },
   {
    "duration": 15,
    "start_time": "2022-03-22T10:15:22.825Z"
   },
   {
    "duration": 67,
    "start_time": "2022-03-22T10:15:22.844Z"
   },
   {
    "duration": 15,
    "start_time": "2022-03-22T10:15:22.914Z"
   },
   {
    "duration": 17,
    "start_time": "2022-03-22T10:15:22.932Z"
   },
   {
    "duration": 33,
    "start_time": "2022-03-22T10:15:22.952Z"
   },
   {
    "duration": 18,
    "start_time": "2022-03-22T10:15:22.988Z"
   },
   {
    "duration": 22,
    "start_time": "2022-03-22T10:15:23.009Z"
   },
   {
    "duration": 10,
    "start_time": "2022-03-22T10:15:23.034Z"
   },
   {
    "duration": 17,
    "start_time": "2022-03-22T10:15:23.082Z"
   },
   {
    "duration": 31,
    "start_time": "2022-03-22T10:15:23.102Z"
   },
   {
    "duration": 57,
    "start_time": "2022-03-22T10:15:23.138Z"
   },
   {
    "duration": 64,
    "start_time": "2022-03-22T10:15:23.198Z"
   },
   {
    "duration": 10,
    "start_time": "2022-03-22T10:15:23.282Z"
   },
   {
    "duration": 31,
    "start_time": "2022-03-22T10:15:23.295Z"
   },
   {
    "duration": 9,
    "start_time": "2022-03-22T10:15:23.329Z"
   },
   {
    "duration": 47,
    "start_time": "2022-03-22T10:15:23.341Z"
   },
   {
    "duration": 29,
    "start_time": "2022-03-22T10:15:23.391Z"
   },
   {
    "duration": 87,
    "start_time": "2022-03-22T10:15:23.423Z"
   },
   {
    "duration": 21,
    "start_time": "2022-03-22T10:15:23.513Z"
   },
   {
    "duration": 52,
    "start_time": "2022-03-22T10:15:23.537Z"
   },
   {
    "duration": 22,
    "start_time": "2022-03-22T10:15:23.592Z"
   },
   {
    "duration": 129,
    "start_time": "2022-03-22T10:15:23.617Z"
   },
   {
    "duration": 0,
    "start_time": "2022-03-22T10:15:23.749Z"
   },
   {
    "duration": 0,
    "start_time": "2022-03-22T10:15:23.750Z"
   },
   {
    "duration": 0,
    "start_time": "2022-03-22T10:15:23.752Z"
   },
   {
    "duration": 29,
    "start_time": "2022-03-22T10:17:36.815Z"
   },
   {
    "duration": 12,
    "start_time": "2022-03-22T10:25:46.927Z"
   },
   {
    "duration": 9,
    "start_time": "2022-03-22T10:27:36.219Z"
   },
   {
    "duration": 7,
    "start_time": "2022-03-22T10:31:04.450Z"
   },
   {
    "duration": 6,
    "start_time": "2022-03-22T10:31:36.470Z"
   },
   {
    "duration": 6,
    "start_time": "2022-03-22T10:34:20.926Z"
   },
   {
    "duration": 9,
    "start_time": "2022-03-22T10:34:29.570Z"
   },
   {
    "duration": 8,
    "start_time": "2022-03-22T10:35:19.042Z"
   },
   {
    "duration": 10,
    "start_time": "2022-03-22T10:35:56.761Z"
   },
   {
    "duration": 10,
    "start_time": "2022-03-22T10:36:25.246Z"
   },
   {
    "duration": 8,
    "start_time": "2022-03-22T10:36:51.002Z"
   },
   {
    "duration": 0,
    "start_time": "2022-03-22T10:37:29.513Z"
   },
   {
    "duration": 8,
    "start_time": "2022-03-22T10:37:39.872Z"
   },
   {
    "duration": 0,
    "start_time": "2022-03-22T10:38:35.006Z"
   },
   {
    "duration": 11,
    "start_time": "2022-03-22T10:38:48.328Z"
   },
   {
    "duration": 19,
    "start_time": "2022-03-22T10:40:18.683Z"
   },
   {
    "duration": 7,
    "start_time": "2022-03-22T10:41:02.217Z"
   },
   {
    "duration": 8,
    "start_time": "2022-03-22T10:44:42.689Z"
   },
   {
    "duration": 10,
    "start_time": "2022-03-22T10:46:07.288Z"
   },
   {
    "duration": 17,
    "start_time": "2022-03-22T10:47:30.099Z"
   },
   {
    "duration": 6,
    "start_time": "2022-03-22T10:52:49.739Z"
   },
   {
    "duration": 8,
    "start_time": "2022-03-22T10:53:17.284Z"
   },
   {
    "duration": 10,
    "start_time": "2022-03-22T10:54:10.947Z"
   },
   {
    "duration": 8,
    "start_time": "2022-03-22T10:54:40.979Z"
   },
   {
    "duration": 10,
    "start_time": "2022-03-22T10:54:55.958Z"
   },
   {
    "duration": 8,
    "start_time": "2022-03-22T10:55:06.707Z"
   },
   {
    "duration": 635,
    "start_time": "2022-03-22T14:22:50.985Z"
   },
   {
    "duration": 146,
    "start_time": "2022-03-22T14:22:51.623Z"
   },
   {
    "duration": 29,
    "start_time": "2022-03-22T14:22:51.772Z"
   },
   {
    "duration": 19,
    "start_time": "2022-03-22T14:22:51.806Z"
   },
   {
    "duration": 64,
    "start_time": "2022-03-22T14:22:51.827Z"
   },
   {
    "duration": 10,
    "start_time": "2022-03-22T14:22:51.893Z"
   },
   {
    "duration": 26,
    "start_time": "2022-03-22T14:22:51.906Z"
   },
   {
    "duration": 7,
    "start_time": "2022-03-22T14:22:51.934Z"
   },
   {
    "duration": 39,
    "start_time": "2022-03-22T14:22:51.943Z"
   },
   {
    "duration": 13,
    "start_time": "2022-03-22T14:22:51.988Z"
   },
   {
    "duration": 14,
    "start_time": "2022-03-22T14:22:52.003Z"
   },
   {
    "duration": 19,
    "start_time": "2022-03-22T14:22:52.019Z"
   },
   {
    "duration": 42,
    "start_time": "2022-03-22T14:22:52.040Z"
   },
   {
    "duration": 22,
    "start_time": "2022-03-22T14:22:52.085Z"
   },
   {
    "duration": 22,
    "start_time": "2022-03-22T14:22:52.108Z"
   },
   {
    "duration": 44,
    "start_time": "2022-03-22T14:22:52.133Z"
   },
   {
    "duration": 17,
    "start_time": "2022-03-22T14:22:52.184Z"
   },
   {
    "duration": 21,
    "start_time": "2022-03-22T14:22:52.203Z"
   },
   {
    "duration": 55,
    "start_time": "2022-03-22T14:22:52.228Z"
   },
   {
    "duration": 42,
    "start_time": "2022-03-22T14:22:52.285Z"
   },
   {
    "duration": 63,
    "start_time": "2022-03-22T14:22:52.330Z"
   },
   {
    "duration": 8,
    "start_time": "2022-03-22T14:22:52.396Z"
   },
   {
    "duration": 39,
    "start_time": "2022-03-22T14:22:52.407Z"
   },
   {
    "duration": 29,
    "start_time": "2022-03-22T14:22:52.448Z"
   },
   {
    "duration": 24,
    "start_time": "2022-03-22T14:22:52.483Z"
   },
   {
    "duration": 27,
    "start_time": "2022-03-22T14:22:52.509Z"
   },
   {
    "duration": 64,
    "start_time": "2022-03-22T14:22:52.538Z"
   },
   {
    "duration": 16,
    "start_time": "2022-03-22T14:22:52.607Z"
   },
   {
    "duration": 44,
    "start_time": "2022-03-22T14:22:52.625Z"
   },
   {
    "duration": 22,
    "start_time": "2022-03-22T14:22:52.671Z"
   },
   {
    "duration": 35,
    "start_time": "2022-03-22T14:22:52.696Z"
   },
   {
    "duration": 45,
    "start_time": "2022-03-22T14:22:52.733Z"
   },
   {
    "duration": 27,
    "start_time": "2022-03-22T14:22:52.782Z"
   },
   {
    "duration": 29,
    "start_time": "2022-03-22T14:22:52.811Z"
   },
   {
    "duration": 610,
    "start_time": "2022-03-22T14:34:13.753Z"
   },
   {
    "duration": 119,
    "start_time": "2022-03-22T14:34:14.368Z"
   },
   {
    "duration": 20,
    "start_time": "2022-03-22T14:34:14.490Z"
   },
   {
    "duration": 15,
    "start_time": "2022-03-22T14:34:14.513Z"
   },
   {
    "duration": 73,
    "start_time": "2022-03-22T14:34:14.531Z"
   },
   {
    "duration": 12,
    "start_time": "2022-03-22T14:34:14.607Z"
   },
   {
    "duration": 19,
    "start_time": "2022-03-22T14:34:14.622Z"
   },
   {
    "duration": 37,
    "start_time": "2022-03-22T14:34:14.644Z"
   },
   {
    "duration": 33,
    "start_time": "2022-03-22T14:34:14.685Z"
   },
   {
    "duration": 24,
    "start_time": "2022-03-22T14:34:14.724Z"
   },
   {
    "duration": 23,
    "start_time": "2022-03-22T14:34:14.752Z"
   },
   {
    "duration": 24,
    "start_time": "2022-03-22T14:34:14.780Z"
   },
   {
    "duration": 15,
    "start_time": "2022-03-22T14:34:14.808Z"
   },
   {
    "duration": 12,
    "start_time": "2022-03-22T14:34:14.827Z"
   },
   {
    "duration": 25,
    "start_time": "2022-03-22T14:34:14.842Z"
   },
   {
    "duration": 28,
    "start_time": "2022-03-22T14:34:14.870Z"
   },
   {
    "duration": 19,
    "start_time": "2022-03-22T14:34:14.901Z"
   },
   {
    "duration": 11,
    "start_time": "2022-03-22T14:34:14.923Z"
   },
   {
    "duration": 67,
    "start_time": "2022-03-22T14:34:14.937Z"
   },
   {
    "duration": 25,
    "start_time": "2022-03-22T14:34:15.007Z"
   },
   {
    "duration": 71,
    "start_time": "2022-03-22T14:34:15.034Z"
   },
   {
    "duration": 7,
    "start_time": "2022-03-22T14:34:15.107Z"
   },
   {
    "duration": 22,
    "start_time": "2022-03-22T14:34:15.116Z"
   },
   {
    "duration": 10,
    "start_time": "2022-03-22T14:34:15.175Z"
   },
   {
    "duration": 20,
    "start_time": "2022-03-22T14:34:15.187Z"
   },
   {
    "duration": 25,
    "start_time": "2022-03-22T14:34:15.209Z"
   },
   {
    "duration": 77,
    "start_time": "2022-03-22T14:34:15.236Z"
   },
   {
    "duration": 17,
    "start_time": "2022-03-22T14:34:15.317Z"
   },
   {
    "duration": 50,
    "start_time": "2022-03-22T14:34:15.336Z"
   },
   {
    "duration": 18,
    "start_time": "2022-03-22T14:34:15.388Z"
   },
   {
    "duration": 7,
    "start_time": "2022-03-22T14:34:15.410Z"
   },
   {
    "duration": 57,
    "start_time": "2022-03-22T14:34:15.419Z"
   },
   {
    "duration": 20,
    "start_time": "2022-03-22T14:34:15.478Z"
   },
   {
    "duration": 29,
    "start_time": "2022-03-22T14:34:15.500Z"
   },
   {
    "duration": 24,
    "start_time": "2022-03-22T14:38:14.876Z"
   },
   {
    "duration": 19,
    "start_time": "2022-03-22T14:39:54.827Z"
   },
   {
    "duration": 159,
    "start_time": "2022-03-22T14:43:55.849Z"
   },
   {
    "duration": 12,
    "start_time": "2022-03-22T14:44:44.110Z"
   },
   {
    "duration": 14,
    "start_time": "2022-03-22T14:44:50.879Z"
   },
   {
    "duration": 8,
    "start_time": "2022-03-22T14:45:15.518Z"
   },
   {
    "duration": 8,
    "start_time": "2022-03-22T14:45:31.149Z"
   },
   {
    "duration": 9,
    "start_time": "2022-03-22T14:45:55.101Z"
   },
   {
    "duration": 10,
    "start_time": "2022-03-22T14:45:57.993Z"
   },
   {
    "duration": 12,
    "start_time": "2022-03-22T14:46:42.695Z"
   },
   {
    "duration": 9,
    "start_time": "2022-03-22T14:46:52.021Z"
   },
   {
    "duration": 14,
    "start_time": "2022-03-22T14:50:38.459Z"
   },
   {
    "duration": 462,
    "start_time": "2022-03-22T18:29:48.778Z"
   },
   {
    "duration": 408,
    "start_time": "2022-03-22T18:29:49.244Z"
   },
   {
    "duration": 22,
    "start_time": "2022-03-22T18:29:49.654Z"
   },
   {
    "duration": 12,
    "start_time": "2022-03-22T18:29:49.679Z"
   },
   {
    "duration": 56,
    "start_time": "2022-03-22T18:29:49.693Z"
   },
   {
    "duration": 9,
    "start_time": "2022-03-22T18:29:49.751Z"
   },
   {
    "duration": 12,
    "start_time": "2022-03-22T18:29:49.763Z"
   },
   {
    "duration": 5,
    "start_time": "2022-03-22T18:29:49.778Z"
   },
   {
    "duration": 13,
    "start_time": "2022-03-22T18:29:49.785Z"
   },
   {
    "duration": 15,
    "start_time": "2022-03-22T18:29:49.844Z"
   },
   {
    "duration": 8,
    "start_time": "2022-03-22T18:29:49.861Z"
   },
   {
    "duration": 11,
    "start_time": "2022-03-22T18:29:49.871Z"
   },
   {
    "duration": 5,
    "start_time": "2022-03-22T18:29:49.884Z"
   },
   {
    "duration": 11,
    "start_time": "2022-03-22T18:29:49.891Z"
   },
   {
    "duration": 41,
    "start_time": "2022-03-22T18:29:49.905Z"
   },
   {
    "duration": 21,
    "start_time": "2022-03-22T18:29:49.947Z"
   },
   {
    "duration": 6,
    "start_time": "2022-03-22T18:29:49.971Z"
   },
   {
    "duration": 10,
    "start_time": "2022-03-22T18:29:49.980Z"
   },
   {
    "duration": 58,
    "start_time": "2022-03-22T18:29:49.992Z"
   },
   {
    "duration": 26,
    "start_time": "2022-03-22T18:29:50.053Z"
   },
   {
    "duration": 77,
    "start_time": "2022-03-22T18:29:50.081Z"
   },
   {
    "duration": 10,
    "start_time": "2022-03-22T18:29:50.160Z"
   },
   {
    "duration": 21,
    "start_time": "2022-03-22T18:29:50.172Z"
   },
   {
    "duration": 8,
    "start_time": "2022-03-22T18:29:50.196Z"
   },
   {
    "duration": 8,
    "start_time": "2022-03-22T18:29:50.242Z"
   },
   {
    "duration": 31,
    "start_time": "2022-03-22T18:29:50.252Z"
   },
   {
    "duration": 69,
    "start_time": "2022-03-22T18:29:50.286Z"
   },
   {
    "duration": 17,
    "start_time": "2022-03-22T18:29:50.360Z"
   },
   {
    "duration": 16,
    "start_time": "2022-03-22T18:29:50.379Z"
   },
   {
    "duration": 53,
    "start_time": "2022-03-22T18:29:50.398Z"
   },
   {
    "duration": 9,
    "start_time": "2022-03-22T18:29:50.453Z"
   },
   {
    "duration": 11,
    "start_time": "2022-03-22T18:29:50.464Z"
   },
   {
    "duration": 10,
    "start_time": "2022-03-22T18:29:50.478Z"
   },
   {
    "duration": 64,
    "start_time": "2022-03-22T18:29:50.490Z"
   },
   {
    "duration": 9,
    "start_time": "2022-03-22T18:29:50.556Z"
   },
   {
    "duration": 24,
    "start_time": "2022-03-22T18:29:50.567Z"
   },
   {
    "duration": 99,
    "start_time": "2022-03-22T19:46:09.289Z"
   },
   {
    "duration": 11,
    "start_time": "2022-03-22T19:46:15.393Z"
   },
   {
    "duration": 18,
    "start_time": "2022-03-22T19:50:25.240Z"
   },
   {
    "duration": 17,
    "start_time": "2022-03-22T19:50:32.268Z"
   },
   {
    "duration": 27,
    "start_time": "2022-03-22T21:30:28.803Z"
   },
   {
    "duration": 9,
    "start_time": "2022-03-22T21:32:45.708Z"
   },
   {
    "duration": 6,
    "start_time": "2022-03-22T21:37:00.710Z"
   },
   {
    "duration": 8,
    "start_time": "2022-03-22T21:37:03.026Z"
   },
   {
    "duration": 8,
    "start_time": "2022-03-22T21:37:10.505Z"
   },
   {
    "duration": 499,
    "start_time": "2022-03-22T21:37:29.268Z"
   },
   {
    "duration": 113,
    "start_time": "2022-03-22T21:37:29.770Z"
   },
   {
    "duration": 22,
    "start_time": "2022-03-22T21:37:29.886Z"
   },
   {
    "duration": 49,
    "start_time": "2022-03-22T21:37:29.910Z"
   },
   {
    "duration": 25,
    "start_time": "2022-03-22T21:37:29.962Z"
   },
   {
    "duration": 8,
    "start_time": "2022-03-22T21:37:29.989Z"
   },
   {
    "duration": 19,
    "start_time": "2022-03-22T21:37:29.999Z"
   },
   {
    "duration": 7,
    "start_time": "2022-03-22T21:37:30.044Z"
   },
   {
    "duration": 24,
    "start_time": "2022-03-22T21:37:30.054Z"
   },
   {
    "duration": 19,
    "start_time": "2022-03-22T21:37:30.080Z"
   },
   {
    "duration": 8,
    "start_time": "2022-03-22T21:37:30.102Z"
   },
   {
    "duration": 47,
    "start_time": "2022-03-22T21:37:30.113Z"
   },
   {
    "duration": 12,
    "start_time": "2022-03-22T21:37:30.162Z"
   },
   {
    "duration": 7,
    "start_time": "2022-03-22T21:37:30.179Z"
   },
   {
    "duration": 14,
    "start_time": "2022-03-22T21:37:30.187Z"
   },
   {
    "duration": 13,
    "start_time": "2022-03-22T21:37:30.203Z"
   },
   {
    "duration": 33,
    "start_time": "2022-03-22T21:37:30.218Z"
   },
   {
    "duration": 35,
    "start_time": "2022-03-22T21:37:30.255Z"
   },
   {
    "duration": 7,
    "start_time": "2022-03-22T21:37:30.293Z"
   },
   {
    "duration": 29,
    "start_time": "2022-03-22T21:37:30.302Z"
   },
   {
    "duration": 40,
    "start_time": "2022-03-22T21:37:30.333Z"
   },
   {
    "duration": 25,
    "start_time": "2022-03-22T21:37:30.375Z"
   },
   {
    "duration": 73,
    "start_time": "2022-03-22T21:37:30.402Z"
   },
   {
    "duration": 7,
    "start_time": "2022-03-22T21:37:30.477Z"
   },
   {
    "duration": 27,
    "start_time": "2022-03-22T21:37:30.486Z"
   },
   {
    "duration": 33,
    "start_time": "2022-03-22T21:37:30.515Z"
   },
   {
    "duration": 18,
    "start_time": "2022-03-22T21:37:30.555Z"
   },
   {
    "duration": 30,
    "start_time": "2022-03-22T21:37:30.575Z"
   },
   {
    "duration": 67,
    "start_time": "2022-03-22T21:37:30.607Z"
   },
   {
    "duration": 18,
    "start_time": "2022-03-22T21:37:30.676Z"
   },
   {
    "duration": 24,
    "start_time": "2022-03-22T21:37:30.696Z"
   },
   {
    "duration": 47,
    "start_time": "2022-03-22T21:37:30.722Z"
   },
   {
    "duration": 14,
    "start_time": "2022-03-22T21:37:30.772Z"
   },
   {
    "duration": 47,
    "start_time": "2022-03-22T21:37:30.788Z"
   },
   {
    "duration": 45,
    "start_time": "2022-03-22T21:37:30.837Z"
   },
   {
    "duration": 38,
    "start_time": "2022-03-22T21:37:30.885Z"
   },
   {
    "duration": 12,
    "start_time": "2022-03-22T21:37:30.925Z"
   },
   {
    "duration": 34,
    "start_time": "2022-03-22T21:37:30.940Z"
   },
   {
    "duration": 22,
    "start_time": "2022-03-22T21:42:01.179Z"
   },
   {
    "duration": 15,
    "start_time": "2022-03-22T21:42:20.499Z"
   },
   {
    "duration": 104,
    "start_time": "2022-03-22T21:52:08.091Z"
   },
   {
    "duration": 31,
    "start_time": "2022-03-22T21:53:19.599Z"
   },
   {
    "duration": 4,
    "start_time": "2022-03-22T21:54:15.371Z"
   },
   {
    "duration": 4,
    "start_time": "2022-03-22T21:54:46.735Z"
   },
   {
    "duration": 14,
    "start_time": "2022-03-22T21:55:02.843Z"
   },
   {
    "duration": 13,
    "start_time": "2022-03-22T21:56:26.699Z"
   },
   {
    "duration": 501,
    "start_time": "2022-03-22T21:58:48.866Z"
   },
   {
    "duration": 107,
    "start_time": "2022-03-22T21:58:49.369Z"
   },
   {
    "duration": 21,
    "start_time": "2022-03-22T21:58:49.478Z"
   },
   {
    "duration": 42,
    "start_time": "2022-03-22T21:58:49.502Z"
   },
   {
    "duration": 35,
    "start_time": "2022-03-22T21:58:49.547Z"
   },
   {
    "duration": 10,
    "start_time": "2022-03-22T21:58:49.584Z"
   },
   {
    "duration": 18,
    "start_time": "2022-03-22T21:58:49.597Z"
   },
   {
    "duration": 7,
    "start_time": "2022-03-22T21:58:49.643Z"
   },
   {
    "duration": 17,
    "start_time": "2022-03-22T21:58:49.653Z"
   },
   {
    "duration": 21,
    "start_time": "2022-03-22T21:58:49.676Z"
   },
   {
    "duration": 8,
    "start_time": "2022-03-22T21:58:49.700Z"
   },
   {
    "duration": 12,
    "start_time": "2022-03-22T21:58:49.743Z"
   },
   {
    "duration": 5,
    "start_time": "2022-03-22T21:58:49.757Z"
   },
   {
    "duration": 8,
    "start_time": "2022-03-22T21:58:49.765Z"
   },
   {
    "duration": 8,
    "start_time": "2022-03-22T21:58:49.775Z"
   },
   {
    "duration": 8,
    "start_time": "2022-03-22T21:58:49.785Z"
   },
   {
    "duration": 8,
    "start_time": "2022-03-22T21:58:49.842Z"
   },
   {
    "duration": 20,
    "start_time": "2022-03-22T21:58:49.852Z"
   },
   {
    "duration": 7,
    "start_time": "2022-03-22T21:58:49.874Z"
   },
   {
    "duration": 9,
    "start_time": "2022-03-22T21:58:49.883Z"
   },
   {
    "duration": 63,
    "start_time": "2022-03-22T21:58:49.894Z"
   },
   {
    "duration": 26,
    "start_time": "2022-03-22T21:58:49.959Z"
   },
   {
    "duration": 79,
    "start_time": "2022-03-22T21:58:49.987Z"
   },
   {
    "duration": 8,
    "start_time": "2022-03-22T21:58:50.069Z"
   },
   {
    "duration": 22,
    "start_time": "2022-03-22T21:58:50.080Z"
   },
   {
    "duration": 41,
    "start_time": "2022-03-22T21:58:50.105Z"
   },
   {
    "duration": 8,
    "start_time": "2022-03-22T21:58:50.149Z"
   },
   {
    "duration": 24,
    "start_time": "2022-03-22T21:58:50.162Z"
   },
   {
    "duration": 84,
    "start_time": "2022-03-22T21:58:50.188Z"
   },
   {
    "duration": 17,
    "start_time": "2022-03-22T21:58:50.275Z"
   },
   {
    "duration": 17,
    "start_time": "2022-03-22T21:58:50.294Z"
   },
   {
    "duration": 46,
    "start_time": "2022-03-22T21:58:50.314Z"
   },
   {
    "duration": 12,
    "start_time": "2022-03-22T21:58:50.363Z"
   },
   {
    "duration": 30,
    "start_time": "2022-03-22T21:58:50.377Z"
   },
   {
    "duration": 41,
    "start_time": "2022-03-22T21:58:50.409Z"
   },
   {
    "duration": 23,
    "start_time": "2022-03-22T21:58:50.452Z"
   },
   {
    "duration": 16,
    "start_time": "2022-03-22T21:58:50.477Z"
   },
   {
    "duration": 9,
    "start_time": "2022-03-22T21:58:50.496Z"
   },
   {
    "duration": 19,
    "start_time": "2022-03-22T22:08:43.499Z"
   },
   {
    "duration": 609,
    "start_time": "2022-03-22T22:12:52.354Z"
   },
   {
    "duration": 147,
    "start_time": "2022-03-22T22:12:52.966Z"
   },
   {
    "duration": 37,
    "start_time": "2022-03-22T22:12:53.116Z"
   },
   {
    "duration": 18,
    "start_time": "2022-03-22T22:12:53.157Z"
   },
   {
    "duration": 25,
    "start_time": "2022-03-22T22:12:53.178Z"
   },
   {
    "duration": 38,
    "start_time": "2022-03-22T22:12:53.205Z"
   },
   {
    "duration": 13,
    "start_time": "2022-03-22T22:12:53.246Z"
   },
   {
    "duration": 6,
    "start_time": "2022-03-22T22:12:53.261Z"
   },
   {
    "duration": 18,
    "start_time": "2022-03-22T22:12:53.269Z"
   },
   {
    "duration": 52,
    "start_time": "2022-03-22T22:12:53.292Z"
   },
   {
    "duration": 10,
    "start_time": "2022-03-22T22:12:53.346Z"
   },
   {
    "duration": 13,
    "start_time": "2022-03-22T22:12:53.358Z"
   },
   {
    "duration": 6,
    "start_time": "2022-03-22T22:12:53.374Z"
   },
   {
    "duration": 7,
    "start_time": "2022-03-22T22:12:53.383Z"
   },
   {
    "duration": 5,
    "start_time": "2022-03-22T22:12:53.392Z"
   },
   {
    "duration": 49,
    "start_time": "2022-03-22T22:12:53.399Z"
   },
   {
    "duration": 7,
    "start_time": "2022-03-22T22:12:53.450Z"
   },
   {
    "duration": 23,
    "start_time": "2022-03-22T22:12:53.460Z"
   },
   {
    "duration": 7,
    "start_time": "2022-03-22T22:12:53.485Z"
   },
   {
    "duration": 50,
    "start_time": "2022-03-22T22:12:53.495Z"
   },
   {
    "duration": 21,
    "start_time": "2022-03-22T22:12:53.547Z"
   },
   {
    "duration": 24,
    "start_time": "2022-03-22T22:12:53.571Z"
   },
   {
    "duration": 80,
    "start_time": "2022-03-22T22:12:53.597Z"
   },
   {
    "duration": 8,
    "start_time": "2022-03-22T22:12:53.679Z"
   },
   {
    "duration": 23,
    "start_time": "2022-03-22T22:12:53.689Z"
   },
   {
    "duration": 37,
    "start_time": "2022-03-22T22:12:53.714Z"
   },
   {
    "duration": 9,
    "start_time": "2022-03-22T22:12:53.753Z"
   },
   {
    "duration": 25,
    "start_time": "2022-03-22T22:12:53.767Z"
   },
   {
    "duration": 86,
    "start_time": "2022-03-22T22:12:53.794Z"
   },
   {
    "duration": 15,
    "start_time": "2022-03-22T22:12:53.882Z"
   },
   {
    "duration": 15,
    "start_time": "2022-03-22T22:12:53.899Z"
   },
   {
    "duration": 20,
    "start_time": "2022-03-22T22:12:53.942Z"
   },
   {
    "duration": 9,
    "start_time": "2022-03-22T22:12:53.965Z"
   },
   {
    "duration": 34,
    "start_time": "2022-03-22T22:12:53.976Z"
   },
   {
    "duration": 42,
    "start_time": "2022-03-22T22:12:54.012Z"
   },
   {
    "duration": 28,
    "start_time": "2022-03-22T22:12:54.057Z"
   },
   {
    "duration": 18,
    "start_time": "2022-03-22T22:12:54.088Z"
   },
   {
    "duration": 39,
    "start_time": "2022-03-22T22:12:54.109Z"
   },
   {
    "duration": 12,
    "start_time": "2022-03-22T22:12:54.150Z"
   },
   {
    "duration": 9,
    "start_time": "2022-03-22T22:12:54.164Z"
   },
   {
    "duration": 12,
    "start_time": "2022-03-22T22:12:54.176Z"
   },
   {
    "duration": 55,
    "start_time": "2022-03-22T22:12:54.191Z"
   },
   {
    "duration": 18,
    "start_time": "2022-03-22T22:12:54.249Z"
   },
   {
    "duration": 12,
    "start_time": "2022-03-22T22:12:54.269Z"
   },
   {
    "duration": 481,
    "start_time": "2022-03-23T10:08:37.820Z"
   },
   {
    "duration": 75,
    "start_time": "2022-03-23T10:08:38.303Z"
   },
   {
    "duration": 13,
    "start_time": "2022-03-23T10:08:38.380Z"
   },
   {
    "duration": 13,
    "start_time": "2022-03-23T10:08:38.395Z"
   },
   {
    "duration": 14,
    "start_time": "2022-03-23T10:08:38.410Z"
   },
   {
    "duration": 5,
    "start_time": "2022-03-23T10:08:38.425Z"
   },
   {
    "duration": 10,
    "start_time": "2022-03-23T10:08:38.431Z"
   },
   {
    "duration": 4,
    "start_time": "2022-03-23T10:08:38.442Z"
   },
   {
    "duration": 8,
    "start_time": "2022-03-23T10:08:38.447Z"
   },
   {
    "duration": 42,
    "start_time": "2022-03-23T10:08:38.459Z"
   },
   {
    "duration": 5,
    "start_time": "2022-03-23T10:08:38.502Z"
   },
   {
    "duration": 7,
    "start_time": "2022-03-23T10:08:38.509Z"
   },
   {
    "duration": 3,
    "start_time": "2022-03-23T10:08:38.518Z"
   },
   {
    "duration": 8,
    "start_time": "2022-03-23T10:08:38.523Z"
   },
   {
    "duration": 8,
    "start_time": "2022-03-23T10:08:38.532Z"
   },
   {
    "duration": 8,
    "start_time": "2022-03-23T10:08:38.541Z"
   },
   {
    "duration": 7,
    "start_time": "2022-03-23T10:08:38.551Z"
   },
   {
    "duration": 16,
    "start_time": "2022-03-23T10:08:38.559Z"
   },
   {
    "duration": 26,
    "start_time": "2022-03-23T10:08:38.576Z"
   },
   {
    "duration": 7,
    "start_time": "2022-03-23T10:08:38.604Z"
   },
   {
    "duration": 18,
    "start_time": "2022-03-23T10:08:38.612Z"
   },
   {
    "duration": 17,
    "start_time": "2022-03-23T10:08:38.632Z"
   },
   {
    "duration": 51,
    "start_time": "2022-03-23T10:08:38.651Z"
   },
   {
    "duration": 5,
    "start_time": "2022-03-23T10:08:38.704Z"
   },
   {
    "duration": 15,
    "start_time": "2022-03-23T10:08:38.710Z"
   },
   {
    "duration": 5,
    "start_time": "2022-03-23T10:08:38.727Z"
   },
   {
    "duration": 7,
    "start_time": "2022-03-23T10:08:38.733Z"
   },
   {
    "duration": 17,
    "start_time": "2022-03-23T10:08:38.743Z"
   },
   {
    "duration": 63,
    "start_time": "2022-03-23T10:08:38.761Z"
   },
   {
    "duration": 11,
    "start_time": "2022-03-23T10:08:38.826Z"
   },
   {
    "duration": 11,
    "start_time": "2022-03-23T10:08:38.839Z"
   },
   {
    "duration": 10,
    "start_time": "2022-03-23T10:08:38.852Z"
   },
   {
    "duration": 6,
    "start_time": "2022-03-23T10:08:38.864Z"
   },
   {
    "duration": 16,
    "start_time": "2022-03-23T10:08:38.901Z"
   },
   {
    "duration": 8,
    "start_time": "2022-03-23T10:08:38.919Z"
   },
   {
    "duration": 13,
    "start_time": "2022-03-23T10:08:38.928Z"
   },
   {
    "duration": 13,
    "start_time": "2022-03-23T10:08:38.943Z"
   },
   {
    "duration": 8,
    "start_time": "2022-03-23T10:08:38.958Z"
   },
   {
    "duration": 7,
    "start_time": "2022-03-23T10:08:38.967Z"
   },
   {
    "duration": 8,
    "start_time": "2022-03-23T10:08:39.001Z"
   },
   {
    "duration": 8,
    "start_time": "2022-03-23T10:08:39.010Z"
   },
   {
    "duration": 6,
    "start_time": "2022-03-23T10:08:39.019Z"
   },
   {
    "duration": 11,
    "start_time": "2022-03-23T10:08:39.027Z"
   },
   {
    "duration": 6,
    "start_time": "2022-03-23T10:08:39.039Z"
   },
   {
    "duration": 6,
    "start_time": "2022-03-23T10:23:29.397Z"
   },
   {
    "duration": 6,
    "start_time": "2022-03-23T10:23:33.841Z"
   },
   {
    "duration": 5,
    "start_time": "2022-03-23T10:23:54.985Z"
   },
   {
    "duration": 5,
    "start_time": "2022-03-23T10:23:56.419Z"
   },
   {
    "duration": 6,
    "start_time": "2022-03-23T10:24:59.993Z"
   },
   {
    "duration": 426,
    "start_time": "2022-03-23T10:25:30.768Z"
   },
   {
    "duration": 72,
    "start_time": "2022-03-23T10:25:31.196Z"
   },
   {
    "duration": 14,
    "start_time": "2022-03-23T10:25:31.270Z"
   },
   {
    "duration": 15,
    "start_time": "2022-03-23T10:25:31.286Z"
   },
   {
    "duration": 14,
    "start_time": "2022-03-23T10:25:31.303Z"
   },
   {
    "duration": 6,
    "start_time": "2022-03-23T10:25:31.318Z"
   },
   {
    "duration": 15,
    "start_time": "2022-03-23T10:25:31.326Z"
   },
   {
    "duration": 8,
    "start_time": "2022-03-23T10:25:31.343Z"
   },
   {
    "duration": 16,
    "start_time": "2022-03-23T10:25:31.352Z"
   },
   {
    "duration": 11,
    "start_time": "2022-03-23T10:25:31.372Z"
   },
   {
    "duration": 20,
    "start_time": "2022-03-23T10:25:31.384Z"
   },
   {
    "duration": 10,
    "start_time": "2022-03-23T10:25:31.406Z"
   },
   {
    "duration": 4,
    "start_time": "2022-03-23T10:25:31.418Z"
   },
   {
    "duration": 11,
    "start_time": "2022-03-23T10:25:31.424Z"
   },
   {
    "duration": 9,
    "start_time": "2022-03-23T10:25:31.436Z"
   },
   {
    "duration": 9,
    "start_time": "2022-03-23T10:25:31.446Z"
   },
   {
    "duration": 12,
    "start_time": "2022-03-23T10:25:31.456Z"
   },
   {
    "duration": 17,
    "start_time": "2022-03-23T10:25:31.469Z"
   },
   {
    "duration": 14,
    "start_time": "2022-03-23T10:25:31.488Z"
   },
   {
    "duration": 4,
    "start_time": "2022-03-23T10:25:31.503Z"
   },
   {
    "duration": 21,
    "start_time": "2022-03-23T10:25:31.509Z"
   },
   {
    "duration": 19,
    "start_time": "2022-03-23T10:25:31.532Z"
   },
   {
    "duration": 31,
    "start_time": "2022-03-23T10:25:31.553Z"
   },
   {
    "duration": 19,
    "start_time": "2022-03-23T10:25:31.585Z"
   },
   {
    "duration": 16,
    "start_time": "2022-03-23T10:25:31.606Z"
   },
   {
    "duration": 5,
    "start_time": "2022-03-23T10:25:31.624Z"
   },
   {
    "duration": 14,
    "start_time": "2022-03-23T10:25:31.630Z"
   },
   {
    "duration": 19,
    "start_time": "2022-03-23T10:25:31.647Z"
   },
   {
    "duration": 54,
    "start_time": "2022-03-23T10:25:31.667Z"
   },
   {
    "duration": 10,
    "start_time": "2022-03-23T10:25:31.723Z"
   },
   {
    "duration": 23,
    "start_time": "2022-03-23T10:25:31.735Z"
   },
   {
    "duration": 21,
    "start_time": "2022-03-23T10:25:31.759Z"
   },
   {
    "duration": 24,
    "start_time": "2022-03-23T10:25:31.781Z"
   },
   {
    "duration": 36,
    "start_time": "2022-03-23T10:25:31.807Z"
   },
   {
    "duration": 27,
    "start_time": "2022-03-23T10:25:31.845Z"
   },
   {
    "duration": 35,
    "start_time": "2022-03-23T10:25:31.873Z"
   },
   {
    "duration": 33,
    "start_time": "2022-03-23T10:25:31.910Z"
   },
   {
    "duration": 14,
    "start_time": "2022-03-23T10:25:31.945Z"
   },
   {
    "duration": 33,
    "start_time": "2022-03-23T10:25:31.960Z"
   },
   {
    "duration": 10,
    "start_time": "2022-03-23T10:25:31.995Z"
   },
   {
    "duration": 22,
    "start_time": "2022-03-23T10:25:32.007Z"
   },
   {
    "duration": 17,
    "start_time": "2022-03-23T10:25:32.031Z"
   },
   {
    "duration": 24,
    "start_time": "2022-03-23T10:25:32.050Z"
   },
   {
    "duration": 22,
    "start_time": "2022-03-23T10:25:32.076Z"
   },
   {
    "duration": 74,
    "start_time": "2022-03-23T10:37:19.407Z"
   },
   {
    "duration": 11,
    "start_time": "2022-03-23T10:37:36.859Z"
   },
   {
    "duration": 371,
    "start_time": "2022-03-23T10:37:59.627Z"
   },
   {
    "duration": 79,
    "start_time": "2022-03-23T10:38:00.002Z"
   },
   {
    "duration": 16,
    "start_time": "2022-03-23T10:38:00.082Z"
   },
   {
    "duration": 12,
    "start_time": "2022-03-23T10:38:00.100Z"
   },
   {
    "duration": 22,
    "start_time": "2022-03-23T10:38:00.114Z"
   },
   {
    "duration": 7,
    "start_time": "2022-03-23T10:38:00.137Z"
   },
   {
    "duration": 22,
    "start_time": "2022-03-23T10:38:00.145Z"
   },
   {
    "duration": 17,
    "start_time": "2022-03-23T10:38:00.169Z"
   },
   {
    "duration": 24,
    "start_time": "2022-03-23T10:38:00.188Z"
   },
   {
    "duration": 19,
    "start_time": "2022-03-23T10:38:00.214Z"
   },
   {
    "duration": 22,
    "start_time": "2022-03-23T10:38:00.234Z"
   },
   {
    "duration": 18,
    "start_time": "2022-03-23T10:38:00.257Z"
   },
   {
    "duration": 19,
    "start_time": "2022-03-23T10:38:00.277Z"
   },
   {
    "duration": 22,
    "start_time": "2022-03-23T10:38:00.299Z"
   },
   {
    "duration": 17,
    "start_time": "2022-03-23T10:38:00.323Z"
   },
   {
    "duration": 22,
    "start_time": "2022-03-23T10:38:00.342Z"
   },
   {
    "duration": 45,
    "start_time": "2022-03-23T10:38:00.365Z"
   },
   {
    "duration": 32,
    "start_time": "2022-03-23T10:38:00.411Z"
   },
   {
    "duration": 13,
    "start_time": "2022-03-23T10:38:00.445Z"
   },
   {
    "duration": 22,
    "start_time": "2022-03-23T10:38:00.459Z"
   },
   {
    "duration": 34,
    "start_time": "2022-03-23T10:38:00.483Z"
   },
   {
    "duration": 31,
    "start_time": "2022-03-23T10:38:00.519Z"
   },
   {
    "duration": 48,
    "start_time": "2022-03-23T10:38:00.552Z"
   },
   {
    "duration": 11,
    "start_time": "2022-03-23T10:38:00.602Z"
   },
   {
    "duration": 24,
    "start_time": "2022-03-23T10:38:00.615Z"
   },
   {
    "duration": 23,
    "start_time": "2022-03-23T10:38:00.641Z"
   },
   {
    "duration": 27,
    "start_time": "2022-03-23T10:38:00.666Z"
   },
   {
    "duration": 27,
    "start_time": "2022-03-23T10:38:00.695Z"
   },
   {
    "duration": 50,
    "start_time": "2022-03-23T10:38:00.724Z"
   },
   {
    "duration": 11,
    "start_time": "2022-03-23T10:38:00.776Z"
   },
   {
    "duration": 24,
    "start_time": "2022-03-23T10:38:00.788Z"
   },
   {
    "duration": 41,
    "start_time": "2022-03-23T10:38:00.813Z"
   },
   {
    "duration": 22,
    "start_time": "2022-03-23T10:38:00.855Z"
   },
   {
    "duration": 26,
    "start_time": "2022-03-23T10:38:00.878Z"
   },
   {
    "duration": 58,
    "start_time": "2022-03-23T10:38:00.906Z"
   },
   {
    "duration": 30,
    "start_time": "2022-03-23T10:38:00.965Z"
   },
   {
    "duration": 88,
    "start_time": "2022-03-23T10:38:00.997Z"
   },
   {
    "duration": 0,
    "start_time": "2022-03-23T10:38:01.087Z"
   },
   {
    "duration": 0,
    "start_time": "2022-03-23T10:38:01.088Z"
   },
   {
    "duration": 0,
    "start_time": "2022-03-23T10:38:01.089Z"
   },
   {
    "duration": 0,
    "start_time": "2022-03-23T10:38:01.090Z"
   },
   {
    "duration": 0,
    "start_time": "2022-03-23T10:38:01.091Z"
   },
   {
    "duration": 0,
    "start_time": "2022-03-23T10:38:01.092Z"
   },
   {
    "duration": 0,
    "start_time": "2022-03-23T10:38:01.093Z"
   },
   {
    "duration": 6,
    "start_time": "2022-03-23T10:38:23.891Z"
   },
   {
    "duration": 9,
    "start_time": "2022-03-23T10:38:51.895Z"
   },
   {
    "duration": 8,
    "start_time": "2022-03-23T10:38:55.354Z"
   },
   {
    "duration": 10,
    "start_time": "2022-03-23T10:41:40.454Z"
   },
   {
    "duration": 11,
    "start_time": "2022-03-23T10:42:57.471Z"
   },
   {
    "duration": 15,
    "start_time": "2022-03-23T10:44:09.738Z"
   },
   {
    "duration": 378,
    "start_time": "2022-03-23T14:37:33.500Z"
   },
   {
    "duration": 71,
    "start_time": "2022-03-23T14:37:33.881Z"
   },
   {
    "duration": 14,
    "start_time": "2022-03-23T14:37:33.954Z"
   },
   {
    "duration": 13,
    "start_time": "2022-03-23T14:37:33.969Z"
   },
   {
    "duration": 19,
    "start_time": "2022-03-23T14:37:33.983Z"
   },
   {
    "duration": 5,
    "start_time": "2022-03-23T14:37:34.003Z"
   },
   {
    "duration": 8,
    "start_time": "2022-03-23T14:37:34.010Z"
   },
   {
    "duration": 4,
    "start_time": "2022-03-23T14:37:34.019Z"
   },
   {
    "duration": 9,
    "start_time": "2022-03-23T14:37:34.024Z"
   },
   {
    "duration": 7,
    "start_time": "2022-03-23T14:37:34.036Z"
   },
   {
    "duration": 5,
    "start_time": "2022-03-23T14:37:34.044Z"
   },
   {
    "duration": 34,
    "start_time": "2022-03-23T14:37:34.050Z"
   },
   {
    "duration": 4,
    "start_time": "2022-03-23T14:37:34.085Z"
   },
   {
    "duration": 7,
    "start_time": "2022-03-23T14:37:34.090Z"
   },
   {
    "duration": 4,
    "start_time": "2022-03-23T14:37:34.098Z"
   },
   {
    "duration": 6,
    "start_time": "2022-03-23T14:37:34.103Z"
   },
   {
    "duration": 5,
    "start_time": "2022-03-23T14:37:34.110Z"
   },
   {
    "duration": 13,
    "start_time": "2022-03-23T14:37:34.116Z"
   },
   {
    "duration": 4,
    "start_time": "2022-03-23T14:37:34.130Z"
   },
   {
    "duration": 6,
    "start_time": "2022-03-23T14:37:34.135Z"
   },
   {
    "duration": 51,
    "start_time": "2022-03-23T14:37:34.142Z"
   },
   {
    "duration": 15,
    "start_time": "2022-03-23T14:37:34.195Z"
   },
   {
    "duration": 28,
    "start_time": "2022-03-23T14:37:34.212Z"
   },
   {
    "duration": 6,
    "start_time": "2022-03-23T14:37:34.241Z"
   },
   {
    "duration": 44,
    "start_time": "2022-03-23T14:37:34.248Z"
   },
   {
    "duration": 6,
    "start_time": "2022-03-23T14:37:34.293Z"
   },
   {
    "duration": 5,
    "start_time": "2022-03-23T14:37:34.300Z"
   },
   {
    "duration": 15,
    "start_time": "2022-03-23T14:37:34.308Z"
   },
   {
    "duration": 29,
    "start_time": "2022-03-23T14:37:34.324Z"
   },
   {
    "duration": 10,
    "start_time": "2022-03-23T14:37:34.381Z"
   },
   {
    "duration": 10,
    "start_time": "2022-03-23T14:37:34.392Z"
   },
   {
    "duration": 9,
    "start_time": "2022-03-23T14:37:34.403Z"
   },
   {
    "duration": 6,
    "start_time": "2022-03-23T14:37:34.413Z"
   },
   {
    "duration": 15,
    "start_time": "2022-03-23T14:37:34.421Z"
   },
   {
    "duration": 4,
    "start_time": "2022-03-23T14:37:34.438Z"
   },
   {
    "duration": 46,
    "start_time": "2022-03-23T14:37:34.444Z"
   },
   {
    "duration": 17,
    "start_time": "2022-03-23T14:37:34.492Z"
   },
   {
    "duration": 6,
    "start_time": "2022-03-23T14:37:34.510Z"
   },
   {
    "duration": 11,
    "start_time": "2022-03-23T14:37:34.518Z"
   },
   {
    "duration": 7,
    "start_time": "2022-03-23T14:37:34.531Z"
   },
   {
    "duration": 6,
    "start_time": "2022-03-23T14:37:34.539Z"
   },
   {
    "duration": 10,
    "start_time": "2022-03-23T14:37:34.546Z"
   },
   {
    "duration": 7,
    "start_time": "2022-03-23T14:37:34.581Z"
   },
   {
    "duration": 8,
    "start_time": "2022-03-23T14:37:34.589Z"
   },
   {
    "duration": 6,
    "start_time": "2022-03-23T14:37:34.598Z"
   },
   {
    "duration": 60,
    "start_time": "2022-03-23T14:41:54.345Z"
   },
   {
    "duration": 5,
    "start_time": "2022-03-23T14:45:13.141Z"
   },
   {
    "duration": 10,
    "start_time": "2022-03-23T14:46:27.377Z"
   },
   {
    "duration": 393,
    "start_time": "2022-03-23T18:32:04.576Z"
   },
   {
    "duration": 87,
    "start_time": "2022-03-23T18:32:04.972Z"
   },
   {
    "duration": 18,
    "start_time": "2022-03-23T18:32:05.060Z"
   },
   {
    "duration": 12,
    "start_time": "2022-03-23T18:32:05.080Z"
   },
   {
    "duration": 45,
    "start_time": "2022-03-23T18:32:05.093Z"
   },
   {
    "duration": 9,
    "start_time": "2022-03-23T18:32:05.140Z"
   },
   {
    "duration": 19,
    "start_time": "2022-03-23T18:32:05.151Z"
   },
   {
    "duration": 4,
    "start_time": "2022-03-23T18:32:05.173Z"
   },
   {
    "duration": 13,
    "start_time": "2022-03-23T18:32:05.179Z"
   },
   {
    "duration": 11,
    "start_time": "2022-03-23T18:32:05.196Z"
   },
   {
    "duration": 7,
    "start_time": "2022-03-23T18:32:05.232Z"
   },
   {
    "duration": 14,
    "start_time": "2022-03-23T18:32:05.241Z"
   },
   {
    "duration": 4,
    "start_time": "2022-03-23T18:32:05.258Z"
   },
   {
    "duration": 8,
    "start_time": "2022-03-23T18:32:05.265Z"
   },
   {
    "duration": 11,
    "start_time": "2022-03-23T18:32:05.275Z"
   },
   {
    "duration": 12,
    "start_time": "2022-03-23T18:32:05.288Z"
   },
   {
    "duration": 34,
    "start_time": "2022-03-23T18:32:05.302Z"
   },
   {
    "duration": 31,
    "start_time": "2022-03-23T18:32:05.337Z"
   },
   {
    "duration": 9,
    "start_time": "2022-03-23T18:32:05.369Z"
   },
   {
    "duration": 9,
    "start_time": "2022-03-23T18:32:05.380Z"
   },
   {
    "duration": 20,
    "start_time": "2022-03-23T18:32:05.390Z"
   },
   {
    "duration": 26,
    "start_time": "2022-03-23T18:32:05.412Z"
   },
   {
    "duration": 35,
    "start_time": "2022-03-23T18:32:05.440Z"
   },
   {
    "duration": 6,
    "start_time": "2022-03-23T18:32:05.477Z"
   },
   {
    "duration": 24,
    "start_time": "2022-03-23T18:32:05.484Z"
   },
   {
    "duration": 27,
    "start_time": "2022-03-23T18:32:05.509Z"
   },
   {
    "duration": 9,
    "start_time": "2022-03-23T18:32:05.538Z"
   },
   {
    "duration": 18,
    "start_time": "2022-03-23T18:32:05.550Z"
   },
   {
    "duration": 61,
    "start_time": "2022-03-23T18:32:05.570Z"
   },
   {
    "duration": 13,
    "start_time": "2022-03-23T18:32:05.634Z"
   },
   {
    "duration": 15,
    "start_time": "2022-03-23T18:32:05.649Z"
   },
   {
    "duration": 25,
    "start_time": "2022-03-23T18:32:05.666Z"
   },
   {
    "duration": 22,
    "start_time": "2022-03-23T18:32:05.697Z"
   },
   {
    "duration": 28,
    "start_time": "2022-03-23T18:32:05.721Z"
   },
   {
    "duration": 12,
    "start_time": "2022-03-23T18:32:05.751Z"
   },
   {
    "duration": 20,
    "start_time": "2022-03-23T18:32:05.765Z"
   },
   {
    "duration": 13,
    "start_time": "2022-03-23T18:32:05.787Z"
   },
   {
    "duration": 35,
    "start_time": "2022-03-23T18:32:05.802Z"
   },
   {
    "duration": 200,
    "start_time": "2022-03-23T18:32:05.839Z"
   },
   {
    "duration": 0,
    "start_time": "2022-03-23T18:32:06.040Z"
   },
   {
    "duration": 0,
    "start_time": "2022-03-23T18:32:06.042Z"
   },
   {
    "duration": 0,
    "start_time": "2022-03-23T18:32:06.044Z"
   },
   {
    "duration": 0,
    "start_time": "2022-03-23T18:32:06.045Z"
   },
   {
    "duration": 0,
    "start_time": "2022-03-23T18:32:06.047Z"
   },
   {
    "duration": 0,
    "start_time": "2022-03-23T18:32:06.048Z"
   },
   {
    "duration": 9,
    "start_time": "2022-03-23T18:50:17.174Z"
   },
   {
    "duration": 14,
    "start_time": "2022-03-23T18:50:27.750Z"
   },
   {
    "duration": 17,
    "start_time": "2022-03-23T18:51:02.292Z"
   },
   {
    "duration": 9,
    "start_time": "2022-03-23T18:52:40.880Z"
   },
   {
    "duration": 71,
    "start_time": "2022-03-23T18:56:14.288Z"
   },
   {
    "duration": 19,
    "start_time": "2022-03-23T18:57:03.931Z"
   },
   {
    "duration": 15,
    "start_time": "2022-03-23T18:57:34.855Z"
   },
   {
    "duration": 3018,
    "start_time": "2022-03-23T19:00:00.281Z"
   },
   {
    "duration": 12,
    "start_time": "2022-03-23T19:01:50.743Z"
   },
   {
    "duration": 16,
    "start_time": "2022-03-23T19:04:08.015Z"
   },
   {
    "duration": 3,
    "start_time": "2022-03-23T19:11:25.110Z"
   },
   {
    "duration": 14,
    "start_time": "2022-03-23T19:12:00.853Z"
   },
   {
    "duration": 14,
    "start_time": "2022-03-23T19:13:23.793Z"
   },
   {
    "duration": 21,
    "start_time": "2022-03-23T19:14:07.857Z"
   },
   {
    "duration": 16,
    "start_time": "2022-03-23T19:14:35.287Z"
   },
   {
    "duration": 13,
    "start_time": "2022-03-23T20:55:07.320Z"
   },
   {
    "duration": 13,
    "start_time": "2022-03-23T21:12:40.795Z"
   },
   {
    "duration": 18,
    "start_time": "2022-03-23T21:21:46.159Z"
   },
   {
    "duration": 21,
    "start_time": "2022-03-23T21:24:01.343Z"
   },
   {
    "duration": 20,
    "start_time": "2022-03-23T21:27:50.323Z"
   },
   {
    "duration": 34,
    "start_time": "2022-03-23T21:28:24.260Z"
   },
   {
    "duration": 19,
    "start_time": "2022-03-23T21:28:42.342Z"
   },
   {
    "duration": 8,
    "start_time": "2022-03-23T21:29:39.763Z"
   },
   {
    "duration": 9,
    "start_time": "2022-03-23T21:29:55.926Z"
   },
   {
    "duration": 20,
    "start_time": "2022-03-23T21:30:07.430Z"
   },
   {
    "duration": 2,
    "start_time": "2022-03-23T21:31:49.546Z"
   },
   {
    "duration": 10,
    "start_time": "2022-03-23T21:32:48.658Z"
   },
   {
    "duration": 157,
    "start_time": "2022-03-23T21:33:16.593Z"
   },
   {
    "duration": 16,
    "start_time": "2022-03-23T21:35:06.617Z"
   },
   {
    "duration": 7,
    "start_time": "2022-03-23T21:36:06.624Z"
   },
   {
    "duration": 8,
    "start_time": "2022-03-23T21:36:31.188Z"
   },
   {
    "duration": 4,
    "start_time": "2022-03-23T21:36:48.272Z"
   },
   {
    "duration": 15,
    "start_time": "2022-03-23T21:36:51.372Z"
   },
   {
    "duration": 419,
    "start_time": "2022-03-24T10:02:43.920Z"
   },
   {
    "duration": 80,
    "start_time": "2022-03-24T10:02:44.341Z"
   },
   {
    "duration": 16,
    "start_time": "2022-03-24T10:02:44.423Z"
   },
   {
    "duration": 11,
    "start_time": "2022-03-24T10:02:44.442Z"
   },
   {
    "duration": 26,
    "start_time": "2022-03-24T10:02:44.454Z"
   },
   {
    "duration": 7,
    "start_time": "2022-03-24T10:02:44.502Z"
   },
   {
    "duration": 13,
    "start_time": "2022-03-24T10:02:44.511Z"
   },
   {
    "duration": 4,
    "start_time": "2022-03-24T10:02:44.526Z"
   },
   {
    "duration": 12,
    "start_time": "2022-03-24T10:02:44.532Z"
   },
   {
    "duration": 10,
    "start_time": "2022-03-24T10:02:44.548Z"
   },
   {
    "duration": 7,
    "start_time": "2022-03-24T10:02:44.559Z"
   },
   {
    "duration": 42,
    "start_time": "2022-03-24T10:02:44.567Z"
   },
   {
    "duration": 8,
    "start_time": "2022-03-24T10:02:44.611Z"
   },
   {
    "duration": 18,
    "start_time": "2022-03-24T10:02:44.621Z"
   },
   {
    "duration": 13,
    "start_time": "2022-03-24T10:02:44.641Z"
   },
   {
    "duration": 14,
    "start_time": "2022-03-24T10:02:44.655Z"
   },
   {
    "duration": 29,
    "start_time": "2022-03-24T10:02:44.670Z"
   },
   {
    "duration": 29,
    "start_time": "2022-03-24T10:02:44.701Z"
   },
   {
    "duration": 7,
    "start_time": "2022-03-24T10:02:44.732Z"
   },
   {
    "duration": 13,
    "start_time": "2022-03-24T10:02:44.741Z"
   },
   {
    "duration": 28,
    "start_time": "2022-03-24T10:02:44.756Z"
   },
   {
    "duration": 31,
    "start_time": "2022-03-24T10:02:44.786Z"
   },
   {
    "duration": 52,
    "start_time": "2022-03-24T10:02:44.819Z"
   },
   {
    "duration": 6,
    "start_time": "2022-03-24T10:02:44.873Z"
   },
   {
    "duration": 21,
    "start_time": "2022-03-24T10:02:44.881Z"
   },
   {
    "duration": 11,
    "start_time": "2022-03-24T10:02:44.903Z"
   },
   {
    "duration": 9,
    "start_time": "2022-03-24T10:02:44.915Z"
   },
   {
    "duration": 20,
    "start_time": "2022-03-24T10:02:44.927Z"
   },
   {
    "duration": 63,
    "start_time": "2022-03-24T10:02:44.949Z"
   },
   {
    "duration": 16,
    "start_time": "2022-03-24T10:02:45.015Z"
   },
   {
    "duration": 15,
    "start_time": "2022-03-24T10:02:45.033Z"
   },
   {
    "duration": 14,
    "start_time": "2022-03-24T10:02:45.050Z"
   },
   {
    "duration": 40,
    "start_time": "2022-03-24T10:02:45.066Z"
   },
   {
    "duration": 25,
    "start_time": "2022-03-24T10:02:45.108Z"
   },
   {
    "duration": 14,
    "start_time": "2022-03-24T10:02:45.135Z"
   },
   {
    "duration": 16,
    "start_time": "2022-03-24T10:02:45.151Z"
   },
   {
    "duration": 32,
    "start_time": "2022-03-24T10:02:45.169Z"
   },
   {
    "duration": 11,
    "start_time": "2022-03-24T10:02:45.203Z"
   },
   {
    "duration": 17,
    "start_time": "2022-03-24T10:02:45.216Z"
   },
   {
    "duration": 13,
    "start_time": "2022-03-24T10:02:45.235Z"
   },
   {
    "duration": 167,
    "start_time": "2022-03-24T10:02:45.250Z"
   },
   {
    "duration": 0,
    "start_time": "2022-03-24T10:02:45.419Z"
   },
   {
    "duration": 0,
    "start_time": "2022-03-24T10:02:45.420Z"
   },
   {
    "duration": 14,
    "start_time": "2022-03-24T10:13:12.747Z"
   },
   {
    "duration": 13,
    "start_time": "2022-03-24T10:13:25.524Z"
   },
   {
    "duration": 16,
    "start_time": "2022-03-24T10:14:01.843Z"
   },
   {
    "duration": 15,
    "start_time": "2022-03-24T10:17:24.839Z"
   },
   {
    "duration": 204,
    "start_time": "2022-03-24T10:17:33.339Z"
   },
   {
    "duration": 15,
    "start_time": "2022-03-24T10:17:44.987Z"
   },
   {
    "duration": 8,
    "start_time": "2022-03-24T10:22:14.607Z"
   },
   {
    "duration": 2832,
    "start_time": "2022-03-24T10:22:29.926Z"
   },
   {
    "duration": 9,
    "start_time": "2022-03-24T10:22:57.246Z"
   },
   {
    "duration": 16,
    "start_time": "2022-03-24T10:23:16.668Z"
   },
   {
    "duration": 18,
    "start_time": "2022-03-24T10:35:35.768Z"
   },
   {
    "duration": 4,
    "start_time": "2022-03-24T10:35:50.065Z"
   },
   {
    "duration": 25,
    "start_time": "2022-03-24T10:35:52.285Z"
   },
   {
    "duration": 473,
    "start_time": "2022-03-24T10:36:09.385Z"
   },
   {
    "duration": 100,
    "start_time": "2022-03-24T10:36:09.861Z"
   },
   {
    "duration": 23,
    "start_time": "2022-03-24T10:36:09.963Z"
   },
   {
    "duration": 26,
    "start_time": "2022-03-24T10:36:10.006Z"
   },
   {
    "duration": 30,
    "start_time": "2022-03-24T10:36:10.036Z"
   },
   {
    "duration": 9,
    "start_time": "2022-03-24T10:36:10.069Z"
   },
   {
    "duration": 35,
    "start_time": "2022-03-24T10:36:10.080Z"
   },
   {
    "duration": 16,
    "start_time": "2022-03-24T10:36:10.119Z"
   },
   {
    "duration": 26,
    "start_time": "2022-03-24T10:36:10.137Z"
   },
   {
    "duration": 12,
    "start_time": "2022-03-24T10:36:10.165Z"
   },
   {
    "duration": 34,
    "start_time": "2022-03-24T10:36:10.179Z"
   },
   {
    "duration": 23,
    "start_time": "2022-03-24T10:36:10.216Z"
   },
   {
    "duration": 11,
    "start_time": "2022-03-24T10:36:10.241Z"
   },
   {
    "duration": 27,
    "start_time": "2022-03-24T10:36:10.256Z"
   },
   {
    "duration": 11,
    "start_time": "2022-03-24T10:36:10.286Z"
   },
   {
    "duration": 26,
    "start_time": "2022-03-24T10:36:10.299Z"
   },
   {
    "duration": 12,
    "start_time": "2022-03-24T10:36:10.328Z"
   },
   {
    "duration": 18,
    "start_time": "2022-03-24T10:36:10.343Z"
   },
   {
    "duration": 7,
    "start_time": "2022-03-24T10:36:10.363Z"
   },
   {
    "duration": 46,
    "start_time": "2022-03-24T10:36:10.372Z"
   },
   {
    "duration": 22,
    "start_time": "2022-03-24T10:36:10.420Z"
   },
   {
    "duration": 20,
    "start_time": "2022-03-24T10:36:10.444Z"
   },
   {
    "duration": 48,
    "start_time": "2022-03-24T10:36:10.466Z"
   },
   {
    "duration": 6,
    "start_time": "2022-03-24T10:36:10.517Z"
   },
   {
    "duration": 20,
    "start_time": "2022-03-24T10:36:10.526Z"
   },
   {
    "duration": 16,
    "start_time": "2022-03-24T10:36:10.548Z"
   },
   {
    "duration": 12,
    "start_time": "2022-03-24T10:36:10.566Z"
   },
   {
    "duration": 58,
    "start_time": "2022-03-24T10:36:10.580Z"
   },
   {
    "duration": 37,
    "start_time": "2022-03-24T10:36:10.641Z"
   },
   {
    "duration": 33,
    "start_time": "2022-03-24T10:36:10.680Z"
   },
   {
    "duration": 14,
    "start_time": "2022-03-24T10:36:10.715Z"
   },
   {
    "duration": 14,
    "start_time": "2022-03-24T10:36:10.731Z"
   },
   {
    "duration": 14,
    "start_time": "2022-03-24T10:36:10.747Z"
   },
   {
    "duration": 53,
    "start_time": "2022-03-24T10:36:10.762Z"
   },
   {
    "duration": 14,
    "start_time": "2022-03-24T10:36:10.818Z"
   },
   {
    "duration": 20,
    "start_time": "2022-03-24T10:36:10.834Z"
   },
   {
    "duration": 4,
    "start_time": "2022-03-24T10:36:10.856Z"
   },
   {
    "duration": 121,
    "start_time": "2022-03-24T10:36:10.862Z"
   },
   {
    "duration": 0,
    "start_time": "2022-03-24T10:36:10.985Z"
   },
   {
    "duration": 0,
    "start_time": "2022-03-24T10:36:10.987Z"
   },
   {
    "duration": 0,
    "start_time": "2022-03-24T10:36:10.987Z"
   },
   {
    "duration": 0,
    "start_time": "2022-03-24T10:36:10.989Z"
   },
   {
    "duration": 6,
    "start_time": "2022-03-24T10:36:39.990Z"
   },
   {
    "duration": 14,
    "start_time": "2022-03-24T10:36:42.638Z"
   },
   {
    "duration": 4,
    "start_time": "2022-03-24T10:37:55.330Z"
   },
   {
    "duration": 15,
    "start_time": "2022-03-24T10:37:57.638Z"
   },
   {
    "duration": 6,
    "start_time": "2022-03-24T10:38:17.815Z"
   },
   {
    "duration": 14,
    "start_time": "2022-03-24T10:38:19.138Z"
   },
   {
    "duration": 4,
    "start_time": "2022-03-24T10:38:31.146Z"
   },
   {
    "duration": 21,
    "start_time": "2022-03-24T10:38:34.093Z"
   },
   {
    "duration": 12,
    "start_time": "2022-03-24T10:38:55.938Z"
   },
   {
    "duration": 10,
    "start_time": "2022-03-24T10:39:06.281Z"
   },
   {
    "duration": 15,
    "start_time": "2022-03-24T10:39:22.334Z"
   },
   {
    "duration": 4,
    "start_time": "2022-03-24T10:40:59.187Z"
   },
   {
    "duration": 21,
    "start_time": "2022-03-24T10:41:02.946Z"
   },
   {
    "duration": 15,
    "start_time": "2022-03-24T10:42:19.341Z"
   },
   {
    "duration": 18,
    "start_time": "2022-03-24T10:46:52.142Z"
   },
   {
    "duration": 20,
    "start_time": "2022-03-24T10:47:40.794Z"
   },
   {
    "duration": 16,
    "start_time": "2022-03-24T10:48:08.442Z"
   },
   {
    "duration": 521,
    "start_time": "2022-03-24T10:49:43.739Z"
   },
   {
    "duration": 92,
    "start_time": "2022-03-24T10:49:44.262Z"
   },
   {
    "duration": 17,
    "start_time": "2022-03-24T10:49:44.356Z"
   },
   {
    "duration": 39,
    "start_time": "2022-03-24T10:49:44.375Z"
   },
   {
    "duration": 19,
    "start_time": "2022-03-24T10:49:44.419Z"
   },
   {
    "duration": 8,
    "start_time": "2022-03-24T10:49:44.440Z"
   },
   {
    "duration": 22,
    "start_time": "2022-03-24T10:49:44.450Z"
   },
   {
    "duration": 35,
    "start_time": "2022-03-24T10:49:44.474Z"
   },
   {
    "duration": 19,
    "start_time": "2022-03-24T10:49:44.512Z"
   },
   {
    "duration": 13,
    "start_time": "2022-03-24T10:49:44.534Z"
   },
   {
    "duration": 7,
    "start_time": "2022-03-24T10:49:44.550Z"
   },
   {
    "duration": 15,
    "start_time": "2022-03-24T10:49:44.559Z"
   },
   {
    "duration": 29,
    "start_time": "2022-03-24T10:49:44.576Z"
   },
   {
    "duration": 16,
    "start_time": "2022-03-24T10:49:44.613Z"
   },
   {
    "duration": 9,
    "start_time": "2022-03-24T10:49:44.631Z"
   },
   {
    "duration": 16,
    "start_time": "2022-03-24T10:49:44.642Z"
   },
   {
    "duration": 14,
    "start_time": "2022-03-24T10:49:44.661Z"
   },
   {
    "duration": 24,
    "start_time": "2022-03-24T10:49:44.678Z"
   },
   {
    "duration": 10,
    "start_time": "2022-03-24T10:49:44.704Z"
   },
   {
    "duration": 12,
    "start_time": "2022-03-24T10:49:44.716Z"
   },
   {
    "duration": 26,
    "start_time": "2022-03-24T10:49:44.731Z"
   },
   {
    "duration": 50,
    "start_time": "2022-03-24T10:49:44.759Z"
   },
   {
    "duration": 36,
    "start_time": "2022-03-24T10:49:44.813Z"
   },
   {
    "duration": 5,
    "start_time": "2022-03-24T10:49:44.851Z"
   },
   {
    "duration": 27,
    "start_time": "2022-03-24T10:49:44.858Z"
   },
   {
    "duration": 9,
    "start_time": "2022-03-24T10:49:44.902Z"
   },
   {
    "duration": 11,
    "start_time": "2022-03-24T10:49:44.920Z"
   },
   {
    "duration": 24,
    "start_time": "2022-03-24T10:49:44.933Z"
   },
   {
    "duration": 63,
    "start_time": "2022-03-24T10:49:44.958Z"
   },
   {
    "duration": 16,
    "start_time": "2022-03-24T10:49:45.022Z"
   },
   {
    "duration": 28,
    "start_time": "2022-03-24T10:49:45.040Z"
   },
   {
    "duration": 22,
    "start_time": "2022-03-24T10:49:45.070Z"
   },
   {
    "duration": 32,
    "start_time": "2022-03-24T10:49:45.093Z"
   },
   {
    "duration": 22,
    "start_time": "2022-03-24T10:49:45.128Z"
   },
   {
    "duration": 16,
    "start_time": "2022-03-24T10:49:45.152Z"
   },
   {
    "duration": 17,
    "start_time": "2022-03-24T10:49:45.169Z"
   },
   {
    "duration": 19,
    "start_time": "2022-03-24T10:49:45.188Z"
   },
   {
    "duration": 35,
    "start_time": "2022-03-24T10:49:45.209Z"
   },
   {
    "duration": 14,
    "start_time": "2022-03-24T10:49:45.246Z"
   },
   {
    "duration": 25,
    "start_time": "2022-03-24T10:49:45.262Z"
   },
   {
    "duration": 45,
    "start_time": "2022-03-24T10:49:45.291Z"
   },
   {
    "duration": 22,
    "start_time": "2022-03-24T10:49:45.338Z"
   },
   {
    "duration": 75,
    "start_time": "2022-03-24T10:52:54.399Z"
   },
   {
    "duration": 15,
    "start_time": "2022-03-24T10:53:06.031Z"
   },
   {
    "duration": 15,
    "start_time": "2022-03-24T10:53:28.115Z"
   },
   {
    "duration": 10,
    "start_time": "2022-03-24T10:54:13.667Z"
   },
   {
    "duration": 20,
    "start_time": "2022-03-24T10:54:21.350Z"
   },
   {
    "duration": 477,
    "start_time": "2022-03-24T10:54:32.269Z"
   },
   {
    "duration": 88,
    "start_time": "2022-03-24T10:54:32.749Z"
   },
   {
    "duration": 20,
    "start_time": "2022-03-24T10:54:32.841Z"
   },
   {
    "duration": 43,
    "start_time": "2022-03-24T10:54:32.864Z"
   },
   {
    "duration": 23,
    "start_time": "2022-03-24T10:54:32.909Z"
   },
   {
    "duration": 9,
    "start_time": "2022-03-24T10:54:32.934Z"
   },
   {
    "duration": 22,
    "start_time": "2022-03-24T10:54:32.945Z"
   },
   {
    "duration": 36,
    "start_time": "2022-03-24T10:54:32.969Z"
   },
   {
    "duration": 14,
    "start_time": "2022-03-24T10:54:33.008Z"
   },
   {
    "duration": 22,
    "start_time": "2022-03-24T10:54:33.025Z"
   },
   {
    "duration": 9,
    "start_time": "2022-03-24T10:54:33.050Z"
   },
   {
    "duration": 14,
    "start_time": "2022-03-24T10:54:33.062Z"
   },
   {
    "duration": 30,
    "start_time": "2022-03-24T10:54:33.082Z"
   },
   {
    "duration": 17,
    "start_time": "2022-03-24T10:54:33.114Z"
   },
   {
    "duration": 11,
    "start_time": "2022-03-24T10:54:33.133Z"
   },
   {
    "duration": 14,
    "start_time": "2022-03-24T10:54:33.146Z"
   },
   {
    "duration": 22,
    "start_time": "2022-03-24T10:54:33.162Z"
   },
   {
    "duration": 36,
    "start_time": "2022-03-24T10:54:33.186Z"
   },
   {
    "duration": 22,
    "start_time": "2022-03-24T10:54:33.225Z"
   },
   {
    "duration": 13,
    "start_time": "2022-03-24T10:54:33.249Z"
   },
   {
    "duration": 26,
    "start_time": "2022-03-24T10:54:33.264Z"
   },
   {
    "duration": 36,
    "start_time": "2022-03-24T10:54:33.292Z"
   },
   {
    "duration": 55,
    "start_time": "2022-03-24T10:54:33.330Z"
   },
   {
    "duration": 23,
    "start_time": "2022-03-24T10:54:33.387Z"
   },
   {
    "duration": 27,
    "start_time": "2022-03-24T10:54:33.413Z"
   },
   {
    "duration": 10,
    "start_time": "2022-03-24T10:54:33.442Z"
   },
   {
    "duration": 13,
    "start_time": "2022-03-24T10:54:33.455Z"
   },
   {
    "duration": 60,
    "start_time": "2022-03-24T10:54:33.470Z"
   },
   {
    "duration": 39,
    "start_time": "2022-03-24T10:54:33.532Z"
   },
   {
    "duration": 14,
    "start_time": "2022-03-24T10:54:33.573Z"
   },
   {
    "duration": 30,
    "start_time": "2022-03-24T10:54:33.589Z"
   },
   {
    "duration": 25,
    "start_time": "2022-03-24T10:54:33.621Z"
   },
   {
    "duration": 19,
    "start_time": "2022-03-24T10:54:33.648Z"
   },
   {
    "duration": 21,
    "start_time": "2022-03-24T10:54:33.669Z"
   },
   {
    "duration": 11,
    "start_time": "2022-03-24T10:54:33.705Z"
   },
   {
    "duration": 31,
    "start_time": "2022-03-24T10:54:33.719Z"
   },
   {
    "duration": 16,
    "start_time": "2022-03-24T10:54:33.752Z"
   },
   {
    "duration": 21,
    "start_time": "2022-03-24T10:54:33.770Z"
   },
   {
    "duration": 24,
    "start_time": "2022-03-24T10:54:33.793Z"
   },
   {
    "duration": 14,
    "start_time": "2022-03-24T10:54:33.821Z"
   },
   {
    "duration": 27,
    "start_time": "2022-03-24T10:54:33.837Z"
   },
   {
    "duration": 22,
    "start_time": "2022-03-24T10:54:33.866Z"
   },
   {
    "duration": 16,
    "start_time": "2022-03-24T10:54:56.838Z"
   },
   {
    "duration": 545,
    "start_time": "2022-03-24T10:55:06.490Z"
   },
   {
    "duration": 119,
    "start_time": "2022-03-24T10:55:07.038Z"
   },
   {
    "duration": 25,
    "start_time": "2022-03-24T10:55:07.160Z"
   },
   {
    "duration": 18,
    "start_time": "2022-03-24T10:55:07.202Z"
   },
   {
    "duration": 34,
    "start_time": "2022-03-24T10:55:07.224Z"
   },
   {
    "duration": 8,
    "start_time": "2022-03-24T10:55:07.260Z"
   },
   {
    "duration": 47,
    "start_time": "2022-03-24T10:55:07.269Z"
   },
   {
    "duration": 5,
    "start_time": "2022-03-24T10:55:07.319Z"
   },
   {
    "duration": 20,
    "start_time": "2022-03-24T10:55:07.326Z"
   },
   {
    "duration": 12,
    "start_time": "2022-03-24T10:55:07.348Z"
   },
   {
    "duration": 6,
    "start_time": "2022-03-24T10:55:07.363Z"
   },
   {
    "duration": 40,
    "start_time": "2022-03-24T10:55:07.371Z"
   },
   {
    "duration": 5,
    "start_time": "2022-03-24T10:55:07.413Z"
   },
   {
    "duration": 18,
    "start_time": "2022-03-24T10:55:07.423Z"
   },
   {
    "duration": 10,
    "start_time": "2022-03-24T10:55:07.444Z"
   },
   {
    "duration": 10,
    "start_time": "2022-03-24T10:55:07.456Z"
   },
   {
    "duration": 13,
    "start_time": "2022-03-24T10:55:07.468Z"
   },
   {
    "duration": 40,
    "start_time": "2022-03-24T10:55:07.483Z"
   },
   {
    "duration": 12,
    "start_time": "2022-03-24T10:55:07.526Z"
   },
   {
    "duration": 11,
    "start_time": "2022-03-24T10:55:07.540Z"
   },
   {
    "duration": 28,
    "start_time": "2022-03-24T10:55:07.554Z"
   },
   {
    "duration": 29,
    "start_time": "2022-03-24T10:55:07.602Z"
   },
   {
    "duration": 37,
    "start_time": "2022-03-24T10:55:07.633Z"
   },
   {
    "duration": 34,
    "start_time": "2022-03-24T10:55:07.672Z"
   },
   {
    "duration": 23,
    "start_time": "2022-03-24T10:55:07.708Z"
   },
   {
    "duration": 22,
    "start_time": "2022-03-24T10:55:07.733Z"
   },
   {
    "duration": 9,
    "start_time": "2022-03-24T10:55:07.758Z"
   },
   {
    "duration": 52,
    "start_time": "2022-03-24T10:55:07.769Z"
   },
   {
    "duration": 56,
    "start_time": "2022-03-24T10:55:07.823Z"
   },
   {
    "duration": 38,
    "start_time": "2022-03-24T10:55:07.881Z"
   },
   {
    "duration": 22,
    "start_time": "2022-03-24T10:55:07.922Z"
   },
   {
    "duration": 19,
    "start_time": "2022-03-24T10:55:07.946Z"
   },
   {
    "duration": 13,
    "start_time": "2022-03-24T10:55:07.967Z"
   },
   {
    "duration": 27,
    "start_time": "2022-03-24T10:55:08.002Z"
   },
   {
    "duration": 8,
    "start_time": "2022-03-24T10:55:08.030Z"
   },
   {
    "duration": 19,
    "start_time": "2022-03-24T10:55:08.041Z"
   },
   {
    "duration": 7,
    "start_time": "2022-03-24T10:55:08.062Z"
   },
   {
    "duration": 50,
    "start_time": "2022-03-24T10:55:08.071Z"
   },
   {
    "duration": 19,
    "start_time": "2022-03-24T10:55:08.123Z"
   },
   {
    "duration": 15,
    "start_time": "2022-03-24T10:55:08.144Z"
   },
   {
    "duration": 53,
    "start_time": "2022-03-24T10:55:08.163Z"
   },
   {
    "duration": 23,
    "start_time": "2022-03-24T10:55:08.218Z"
   },
   {
    "duration": 15,
    "start_time": "2022-03-24T10:56:11.565Z"
   },
   {
    "duration": 472,
    "start_time": "2022-03-24T10:56:49.177Z"
   },
   {
    "duration": 91,
    "start_time": "2022-03-24T10:56:49.651Z"
   },
   {
    "duration": 17,
    "start_time": "2022-03-24T10:56:49.744Z"
   },
   {
    "duration": 12,
    "start_time": "2022-03-24T10:56:49.763Z"
   },
   {
    "duration": 44,
    "start_time": "2022-03-24T10:56:49.777Z"
   },
   {
    "duration": 8,
    "start_time": "2022-03-24T10:56:49.823Z"
   },
   {
    "duration": 26,
    "start_time": "2022-03-24T10:56:49.833Z"
   },
   {
    "duration": 11,
    "start_time": "2022-03-24T10:56:49.861Z"
   },
   {
    "duration": 20,
    "start_time": "2022-03-24T10:56:49.874Z"
   },
   {
    "duration": 21,
    "start_time": "2022-03-24T10:56:49.900Z"
   },
   {
    "duration": 8,
    "start_time": "2022-03-24T10:56:49.923Z"
   },
   {
    "duration": 11,
    "start_time": "2022-03-24T10:56:49.934Z"
   },
   {
    "duration": 6,
    "start_time": "2022-03-24T10:56:49.947Z"
   },
   {
    "duration": 18,
    "start_time": "2022-03-24T10:56:49.958Z"
   },
   {
    "duration": 29,
    "start_time": "2022-03-24T10:56:49.979Z"
   },
   {
    "duration": 19,
    "start_time": "2022-03-24T10:56:50.010Z"
   },
   {
    "duration": 23,
    "start_time": "2022-03-24T10:56:50.031Z"
   },
   {
    "duration": 21,
    "start_time": "2022-03-24T10:56:50.056Z"
   },
   {
    "duration": 6,
    "start_time": "2022-03-24T10:56:50.079Z"
   },
   {
    "duration": 22,
    "start_time": "2022-03-24T10:56:50.087Z"
   },
   {
    "duration": 26,
    "start_time": "2022-03-24T10:56:50.110Z"
   },
   {
    "duration": 32,
    "start_time": "2022-03-24T10:56:50.139Z"
   },
   {
    "duration": 40,
    "start_time": "2022-03-24T10:56:50.173Z"
   },
   {
    "duration": 7,
    "start_time": "2022-03-24T10:56:50.215Z"
   },
   {
    "duration": 28,
    "start_time": "2022-03-24T10:56:50.224Z"
   },
   {
    "duration": 9,
    "start_time": "2022-03-24T10:56:50.254Z"
   },
   {
    "duration": 10,
    "start_time": "2022-03-24T10:56:50.265Z"
   },
   {
    "duration": 51,
    "start_time": "2022-03-24T10:56:50.277Z"
   },
   {
    "duration": 35,
    "start_time": "2022-03-24T10:56:50.330Z"
   },
   {
    "duration": 15,
    "start_time": "2022-03-24T10:56:50.366Z"
   },
   {
    "duration": 16,
    "start_time": "2022-03-24T10:56:50.401Z"
   },
   {
    "duration": 28,
    "start_time": "2022-03-24T10:56:50.419Z"
   },
   {
    "duration": 9,
    "start_time": "2022-03-24T10:56:50.449Z"
   },
   {
    "duration": 22,
    "start_time": "2022-03-24T10:56:50.460Z"
   },
   {
    "duration": 31,
    "start_time": "2022-03-24T10:56:50.484Z"
   },
   {
    "duration": 118,
    "start_time": "2022-03-24T10:56:50.517Z"
   },
   {
    "duration": 41,
    "start_time": "2022-03-24T10:56:50.637Z"
   },
   {
    "duration": 38,
    "start_time": "2022-03-24T10:56:50.680Z"
   },
   {
    "duration": 15,
    "start_time": "2022-03-24T10:56:50.720Z"
   },
   {
    "duration": 14,
    "start_time": "2022-03-24T10:56:50.737Z"
   },
   {
    "duration": 29,
    "start_time": "2022-03-24T10:56:50.756Z"
   },
   {
    "duration": 37,
    "start_time": "2022-03-24T10:56:50.787Z"
   },
   {
    "duration": 16,
    "start_time": "2022-03-24T10:57:46.509Z"
   },
   {
    "duration": 447,
    "start_time": "2022-03-24T11:00:47.077Z"
   },
   {
    "duration": 87,
    "start_time": "2022-03-24T11:00:47.526Z"
   },
   {
    "duration": 17,
    "start_time": "2022-03-24T11:00:47.615Z"
   },
   {
    "duration": 11,
    "start_time": "2022-03-24T11:00:47.634Z"
   },
   {
    "duration": 23,
    "start_time": "2022-03-24T11:00:47.648Z"
   },
   {
    "duration": 32,
    "start_time": "2022-03-24T11:00:47.673Z"
   },
   {
    "duration": 11,
    "start_time": "2022-03-24T11:00:47.707Z"
   },
   {
    "duration": 4,
    "start_time": "2022-03-24T11:00:47.720Z"
   },
   {
    "duration": 9,
    "start_time": "2022-03-24T11:00:47.726Z"
   },
   {
    "duration": 11,
    "start_time": "2022-03-24T11:00:47.738Z"
   },
   {
    "duration": 7,
    "start_time": "2022-03-24T11:00:47.752Z"
   },
   {
    "duration": 55,
    "start_time": "2022-03-24T11:00:47.761Z"
   },
   {
    "duration": 6,
    "start_time": "2022-03-24T11:00:47.819Z"
   },
   {
    "duration": 7,
    "start_time": "2022-03-24T11:00:47.830Z"
   },
   {
    "duration": 8,
    "start_time": "2022-03-24T11:00:47.839Z"
   },
   {
    "duration": 9,
    "start_time": "2022-03-24T11:00:47.849Z"
   },
   {
    "duration": 42,
    "start_time": "2022-03-24T11:00:47.861Z"
   },
   {
    "duration": 17,
    "start_time": "2022-03-24T11:00:47.905Z"
   },
   {
    "duration": 6,
    "start_time": "2022-03-24T11:00:47.924Z"
   },
   {
    "duration": 14,
    "start_time": "2022-03-24T11:00:47.931Z"
   },
   {
    "duration": 26,
    "start_time": "2022-03-24T11:00:47.947Z"
   },
   {
    "duration": 39,
    "start_time": "2022-03-24T11:00:47.975Z"
   },
   {
    "duration": 36,
    "start_time": "2022-03-24T11:00:48.016Z"
   },
   {
    "duration": 5,
    "start_time": "2022-03-24T11:00:48.054Z"
   },
   {
    "duration": 42,
    "start_time": "2022-03-24T11:00:48.061Z"
   },
   {
    "duration": 6,
    "start_time": "2022-03-24T11:00:48.105Z"
   },
   {
    "duration": 9,
    "start_time": "2022-03-24T11:00:48.113Z"
   },
   {
    "duration": 21,
    "start_time": "2022-03-24T11:00:48.124Z"
   },
   {
    "duration": 61,
    "start_time": "2022-03-24T11:00:48.147Z"
   },
   {
    "duration": 14,
    "start_time": "2022-03-24T11:00:48.210Z"
   },
   {
    "duration": 16,
    "start_time": "2022-03-24T11:00:48.225Z"
   },
   {
    "duration": 14,
    "start_time": "2022-03-24T11:00:48.243Z"
   },
   {
    "duration": 11,
    "start_time": "2022-03-24T11:00:48.259Z"
   },
   {
    "duration": 46,
    "start_time": "2022-03-24T11:00:48.272Z"
   },
   {
    "duration": 12,
    "start_time": "2022-03-24T11:00:48.319Z"
   },
   {
    "duration": 19,
    "start_time": "2022-03-24T11:00:48.333Z"
   },
   {
    "duration": 10,
    "start_time": "2022-03-24T11:00:48.354Z"
   },
   {
    "duration": 39,
    "start_time": "2022-03-24T11:00:48.366Z"
   },
   {
    "duration": 14,
    "start_time": "2022-03-24T11:00:48.407Z"
   },
   {
    "duration": 14,
    "start_time": "2022-03-24T11:00:48.422Z"
   },
   {
    "duration": 23,
    "start_time": "2022-03-24T11:00:48.440Z"
   },
   {
    "duration": 48,
    "start_time": "2022-03-24T11:00:48.465Z"
   },
   {
    "duration": 457,
    "start_time": "2022-03-24T18:42:10.060Z"
   },
   {
    "duration": 77,
    "start_time": "2022-03-24T18:42:10.519Z"
   },
   {
    "duration": 13,
    "start_time": "2022-03-24T18:42:10.598Z"
   },
   {
    "duration": 37,
    "start_time": "2022-03-24T18:42:10.613Z"
   },
   {
    "duration": 28,
    "start_time": "2022-03-24T18:42:10.652Z"
   },
   {
    "duration": 38,
    "start_time": "2022-03-24T18:42:10.682Z"
   },
   {
    "duration": 34,
    "start_time": "2022-03-24T18:42:10.722Z"
   },
   {
    "duration": 34,
    "start_time": "2022-03-24T18:42:10.758Z"
   },
   {
    "duration": 27,
    "start_time": "2022-03-24T18:42:10.794Z"
   },
   {
    "duration": 45,
    "start_time": "2022-03-24T18:42:10.824Z"
   },
   {
    "duration": 30,
    "start_time": "2022-03-24T18:42:10.871Z"
   },
   {
    "duration": 45,
    "start_time": "2022-03-24T18:42:10.903Z"
   },
   {
    "duration": 40,
    "start_time": "2022-03-24T18:42:10.949Z"
   },
   {
    "duration": 28,
    "start_time": "2022-03-24T18:42:10.990Z"
   },
   {
    "duration": 51,
    "start_time": "2022-03-24T18:42:11.020Z"
   },
   {
    "duration": 25,
    "start_time": "2022-03-24T18:42:11.072Z"
   },
   {
    "duration": 36,
    "start_time": "2022-03-24T18:42:11.099Z"
   },
   {
    "duration": 67,
    "start_time": "2022-03-24T18:42:11.137Z"
   },
   {
    "duration": 9,
    "start_time": "2022-03-24T18:42:11.206Z"
   },
   {
    "duration": 49,
    "start_time": "2022-03-24T18:42:11.217Z"
   },
   {
    "duration": 53,
    "start_time": "2022-03-24T18:42:11.268Z"
   },
   {
    "duration": 30,
    "start_time": "2022-03-24T18:42:11.323Z"
   },
   {
    "duration": 40,
    "start_time": "2022-03-24T18:42:11.354Z"
   },
   {
    "duration": 13,
    "start_time": "2022-03-24T18:42:11.396Z"
   },
   {
    "duration": 50,
    "start_time": "2022-03-24T18:42:11.411Z"
   },
   {
    "duration": 42,
    "start_time": "2022-03-24T18:42:11.463Z"
   },
   {
    "duration": 43,
    "start_time": "2022-03-24T18:42:11.507Z"
   },
   {
    "duration": 43,
    "start_time": "2022-03-24T18:42:11.554Z"
   },
   {
    "duration": 54,
    "start_time": "2022-03-24T18:42:11.599Z"
   },
   {
    "duration": 24,
    "start_time": "2022-03-24T18:42:11.655Z"
   },
   {
    "duration": 31,
    "start_time": "2022-03-24T18:42:11.680Z"
   },
   {
    "duration": 31,
    "start_time": "2022-03-24T18:42:11.713Z"
   },
   {
    "duration": 29,
    "start_time": "2022-03-24T18:42:11.746Z"
   },
   {
    "duration": 54,
    "start_time": "2022-03-24T18:42:11.777Z"
   },
   {
    "duration": 23,
    "start_time": "2022-03-24T18:42:11.833Z"
   },
   {
    "duration": 40,
    "start_time": "2022-03-24T18:42:11.858Z"
   },
   {
    "duration": 35,
    "start_time": "2022-03-24T18:42:11.901Z"
   },
   {
    "duration": 46,
    "start_time": "2022-03-24T18:42:11.938Z"
   },
   {
    "duration": 21,
    "start_time": "2022-03-24T18:42:11.987Z"
   },
   {
    "duration": 21,
    "start_time": "2022-03-24T18:42:12.010Z"
   },
   {
    "duration": 43,
    "start_time": "2022-03-24T18:42:12.033Z"
   },
   {
    "duration": 51,
    "start_time": "2022-03-24T18:42:12.079Z"
   },
   {
    "duration": 414,
    "start_time": "2022-03-24T18:52:45.860Z"
   },
   {
    "duration": 72,
    "start_time": "2022-03-24T18:52:46.277Z"
   },
   {
    "duration": 21,
    "start_time": "2022-03-24T18:52:46.350Z"
   },
   {
    "duration": 11,
    "start_time": "2022-03-24T18:52:46.373Z"
   },
   {
    "duration": 16,
    "start_time": "2022-03-24T18:52:46.386Z"
   },
   {
    "duration": 6,
    "start_time": "2022-03-24T18:52:46.404Z"
   },
   {
    "duration": 25,
    "start_time": "2022-03-24T18:52:46.412Z"
   },
   {
    "duration": 26,
    "start_time": "2022-03-24T18:52:46.439Z"
   },
   {
    "duration": 11,
    "start_time": "2022-03-24T18:52:46.467Z"
   },
   {
    "duration": 11,
    "start_time": "2022-03-24T18:52:46.479Z"
   },
   {
    "duration": 8,
    "start_time": "2022-03-24T18:52:46.491Z"
   },
   {
    "duration": 12,
    "start_time": "2022-03-24T18:52:46.501Z"
   },
   {
    "duration": 47,
    "start_time": "2022-03-24T18:52:46.515Z"
   },
   {
    "duration": 5,
    "start_time": "2022-03-24T18:52:46.566Z"
   },
   {
    "duration": 8,
    "start_time": "2022-03-24T18:52:46.573Z"
   },
   {
    "duration": 5,
    "start_time": "2022-03-24T18:52:46.583Z"
   },
   {
    "duration": 7,
    "start_time": "2022-03-24T18:52:46.590Z"
   },
   {
    "duration": 13,
    "start_time": "2022-03-24T18:52:46.598Z"
   },
   {
    "duration": 4,
    "start_time": "2022-03-24T18:52:46.613Z"
   },
   {
    "duration": 11,
    "start_time": "2022-03-24T18:52:46.619Z"
   },
   {
    "duration": 14,
    "start_time": "2022-03-24T18:52:46.663Z"
   },
   {
    "duration": 17,
    "start_time": "2022-03-24T18:52:46.679Z"
   },
   {
    "duration": 31,
    "start_time": "2022-03-24T18:52:46.700Z"
   },
   {
    "duration": 30,
    "start_time": "2022-03-24T18:52:46.733Z"
   },
   {
    "duration": 22,
    "start_time": "2022-03-24T18:52:46.765Z"
   },
   {
    "duration": 7,
    "start_time": "2022-03-24T18:52:46.789Z"
   },
   {
    "duration": 6,
    "start_time": "2022-03-24T18:52:46.798Z"
   },
   {
    "duration": 25,
    "start_time": "2022-03-24T18:52:46.806Z"
   },
   {
    "duration": 45,
    "start_time": "2022-03-24T18:52:46.864Z"
   },
   {
    "duration": 13,
    "start_time": "2022-03-24T18:52:46.911Z"
   },
   {
    "duration": 11,
    "start_time": "2022-03-24T18:52:46.925Z"
   },
   {
    "duration": 37,
    "start_time": "2022-03-24T18:52:46.938Z"
   },
   {
    "duration": 8,
    "start_time": "2022-03-24T18:52:46.977Z"
   },
   {
    "duration": 26,
    "start_time": "2022-03-24T18:52:46.987Z"
   },
   {
    "duration": 11,
    "start_time": "2022-03-24T18:52:47.015Z"
   },
   {
    "duration": 46,
    "start_time": "2022-03-24T18:52:47.028Z"
   },
   {
    "duration": 6,
    "start_time": "2022-03-24T18:52:47.076Z"
   },
   {
    "duration": 17,
    "start_time": "2022-03-24T18:52:47.084Z"
   },
   {
    "duration": 19,
    "start_time": "2022-03-24T18:52:47.103Z"
   },
   {
    "duration": 48,
    "start_time": "2022-03-24T18:52:47.125Z"
   },
   {
    "duration": 19,
    "start_time": "2022-03-24T18:52:47.178Z"
   },
   {
    "duration": 18,
    "start_time": "2022-03-24T18:52:47.199Z"
   },
   {
    "duration": 151,
    "start_time": "2022-03-24T18:59:40.671Z"
   },
   {
    "duration": 374,
    "start_time": "2022-03-24T18:59:57.606Z"
   },
   {
    "duration": 82,
    "start_time": "2022-03-24T18:59:57.982Z"
   },
   {
    "duration": 19,
    "start_time": "2022-03-24T18:59:58.066Z"
   },
   {
    "duration": 18,
    "start_time": "2022-03-24T18:59:58.088Z"
   },
   {
    "duration": 24,
    "start_time": "2022-03-24T18:59:58.108Z"
   },
   {
    "duration": 34,
    "start_time": "2022-03-24T18:59:58.134Z"
   },
   {
    "duration": 13,
    "start_time": "2022-03-24T18:59:58.170Z"
   },
   {
    "duration": 5,
    "start_time": "2022-03-24T18:59:58.185Z"
   },
   {
    "duration": 14,
    "start_time": "2022-03-24T18:59:58.192Z"
   },
   {
    "duration": 12,
    "start_time": "2022-03-24T18:59:58.212Z"
   },
   {
    "duration": 38,
    "start_time": "2022-03-24T18:59:58.227Z"
   },
   {
    "duration": 11,
    "start_time": "2022-03-24T18:59:58.267Z"
   },
   {
    "duration": 6,
    "start_time": "2022-03-24T18:59:58.280Z"
   },
   {
    "duration": 7,
    "start_time": "2022-03-24T18:59:58.288Z"
   },
   {
    "duration": 7,
    "start_time": "2022-03-24T18:59:58.297Z"
   },
   {
    "duration": 12,
    "start_time": "2022-03-24T18:59:58.306Z"
   },
   {
    "duration": 49,
    "start_time": "2022-03-24T18:59:58.321Z"
   },
   {
    "duration": 23,
    "start_time": "2022-03-24T18:59:58.372Z"
   },
   {
    "duration": 8,
    "start_time": "2022-03-24T18:59:58.397Z"
   },
   {
    "duration": 24,
    "start_time": "2022-03-24T18:59:58.407Z"
   },
   {
    "duration": 21,
    "start_time": "2022-03-24T18:59:58.433Z"
   },
   {
    "duration": 24,
    "start_time": "2022-03-24T18:59:58.463Z"
   },
   {
    "duration": 48,
    "start_time": "2022-03-24T18:59:58.489Z"
   },
   {
    "duration": 28,
    "start_time": "2022-03-24T18:59:58.539Z"
   },
   {
    "duration": 24,
    "start_time": "2022-03-24T18:59:58.569Z"
   },
   {
    "duration": 7,
    "start_time": "2022-03-24T18:59:58.595Z"
   },
   {
    "duration": 7,
    "start_time": "2022-03-24T18:59:58.604Z"
   },
   {
    "duration": 60,
    "start_time": "2022-03-24T18:59:58.616Z"
   },
   {
    "duration": 35,
    "start_time": "2022-03-24T18:59:58.677Z"
   },
   {
    "duration": 15,
    "start_time": "2022-03-24T18:59:58.714Z"
   },
   {
    "duration": 37,
    "start_time": "2022-03-24T18:59:58.731Z"
   },
   {
    "duration": 13,
    "start_time": "2022-03-24T18:59:58.770Z"
   },
   {
    "duration": 9,
    "start_time": "2022-03-24T18:59:58.785Z"
   },
   {
    "duration": 20,
    "start_time": "2022-03-24T18:59:58.796Z"
   },
   {
    "duration": 13,
    "start_time": "2022-03-24T18:59:58.818Z"
   },
   {
    "duration": 46,
    "start_time": "2022-03-24T18:59:58.833Z"
   },
   {
    "duration": 5,
    "start_time": "2022-03-24T18:59:58.880Z"
   },
   {
    "duration": 24,
    "start_time": "2022-03-24T18:59:58.887Z"
   },
   {
    "duration": 14,
    "start_time": "2022-03-24T18:59:58.913Z"
   },
   {
    "duration": 149,
    "start_time": "2022-03-24T18:59:58.928Z"
   },
   {
    "duration": 0,
    "start_time": "2022-03-24T18:59:59.080Z"
   },
   {
    "duration": 0,
    "start_time": "2022-03-24T18:59:59.081Z"
   },
   {
    "duration": 14,
    "start_time": "2022-03-24T19:00:07.753Z"
   },
   {
    "duration": 489,
    "start_time": "2022-03-24T19:10:50.721Z"
   },
   {
    "duration": 81,
    "start_time": "2022-03-24T19:10:51.213Z"
   },
   {
    "duration": 17,
    "start_time": "2022-03-24T19:10:51.296Z"
   },
   {
    "duration": 12,
    "start_time": "2022-03-24T19:10:51.315Z"
   },
   {
    "duration": 38,
    "start_time": "2022-03-24T19:10:51.329Z"
   },
   {
    "duration": 6,
    "start_time": "2022-03-24T19:10:51.369Z"
   },
   {
    "duration": 10,
    "start_time": "2022-03-24T19:10:51.377Z"
   },
   {
    "duration": 4,
    "start_time": "2022-03-24T19:10:51.389Z"
   },
   {
    "duration": 10,
    "start_time": "2022-03-24T19:10:51.394Z"
   },
   {
    "duration": 16,
    "start_time": "2022-03-24T19:10:51.406Z"
   },
   {
    "duration": 43,
    "start_time": "2022-03-24T19:10:51.424Z"
   },
   {
    "duration": 8,
    "start_time": "2022-03-24T19:10:51.469Z"
   },
   {
    "duration": 4,
    "start_time": "2022-03-24T19:10:51.479Z"
   },
   {
    "duration": 6,
    "start_time": "2022-03-24T19:10:51.486Z"
   },
   {
    "duration": 9,
    "start_time": "2022-03-24T19:10:51.493Z"
   },
   {
    "duration": 5,
    "start_time": "2022-03-24T19:10:51.504Z"
   },
   {
    "duration": 7,
    "start_time": "2022-03-24T19:10:51.510Z"
   },
   {
    "duration": 55,
    "start_time": "2022-03-24T19:10:51.519Z"
   },
   {
    "duration": 5,
    "start_time": "2022-03-24T19:10:51.576Z"
   },
   {
    "duration": 8,
    "start_time": "2022-03-24T19:10:51.582Z"
   },
   {
    "duration": 17,
    "start_time": "2022-03-24T19:10:51.591Z"
   },
   {
    "duration": 16,
    "start_time": "2022-03-24T19:10:51.610Z"
   },
   {
    "duration": 82,
    "start_time": "2022-03-24T19:10:51.629Z"
   },
   {
    "duration": 8,
    "start_time": "2022-03-24T19:10:51.713Z"
   },
   {
    "duration": 43,
    "start_time": "2022-03-24T19:10:51.723Z"
   },
   {
    "duration": 8,
    "start_time": "2022-03-24T19:10:51.768Z"
   },
   {
    "duration": 7,
    "start_time": "2022-03-24T19:10:51.778Z"
   },
   {
    "duration": 17,
    "start_time": "2022-03-24T19:10:51.787Z"
   },
   {
    "duration": 65,
    "start_time": "2022-03-24T19:10:51.806Z"
   },
   {
    "duration": 13,
    "start_time": "2022-03-24T19:10:51.872Z"
   },
   {
    "duration": 13,
    "start_time": "2022-03-24T19:10:51.886Z"
   },
   {
    "duration": 12,
    "start_time": "2022-03-24T19:10:51.901Z"
   },
   {
    "duration": 8,
    "start_time": "2022-03-24T19:10:51.915Z"
   },
   {
    "duration": 54,
    "start_time": "2022-03-24T19:10:51.925Z"
   },
   {
    "duration": 8,
    "start_time": "2022-03-24T19:10:51.981Z"
   },
   {
    "duration": 15,
    "start_time": "2022-03-24T19:10:51.991Z"
   },
   {
    "duration": 7,
    "start_time": "2022-03-24T19:10:52.007Z"
   },
   {
    "duration": 23,
    "start_time": "2022-03-24T19:10:52.015Z"
   },
   {
    "duration": 29,
    "start_time": "2022-03-24T19:10:52.040Z"
   },
   {
    "duration": 12,
    "start_time": "2022-03-24T19:10:52.071Z"
   },
   {
    "duration": 11,
    "start_time": "2022-03-24T19:10:52.087Z"
   },
   {
    "duration": 27,
    "start_time": "2022-03-24T19:10:52.100Z"
   },
   {
    "duration": 22,
    "start_time": "2022-03-24T19:11:17.701Z"
   },
   {
    "duration": 449,
    "start_time": "2022-03-24T19:11:24.176Z"
   },
   {
    "duration": 85,
    "start_time": "2022-03-24T19:11:24.627Z"
   },
   {
    "duration": 17,
    "start_time": "2022-03-24T19:11:24.713Z"
   },
   {
    "duration": 16,
    "start_time": "2022-03-24T19:11:24.732Z"
   },
   {
    "duration": 17,
    "start_time": "2022-03-24T19:11:24.763Z"
   },
   {
    "duration": 14,
    "start_time": "2022-03-24T19:11:24.782Z"
   },
   {
    "duration": 18,
    "start_time": "2022-03-24T19:11:24.798Z"
   },
   {
    "duration": 12,
    "start_time": "2022-03-24T19:11:24.818Z"
   },
   {
    "duration": 15,
    "start_time": "2022-03-24T19:11:24.832Z"
   },
   {
    "duration": 20,
    "start_time": "2022-03-24T19:11:24.848Z"
   },
   {
    "duration": 6,
    "start_time": "2022-03-24T19:11:24.870Z"
   },
   {
    "duration": 10,
    "start_time": "2022-03-24T19:11:24.878Z"
   },
   {
    "duration": 5,
    "start_time": "2022-03-24T19:11:24.889Z"
   },
   {
    "duration": 6,
    "start_time": "2022-03-24T19:11:24.899Z"
   },
   {
    "duration": 7,
    "start_time": "2022-03-24T19:11:24.907Z"
   },
   {
    "duration": 7,
    "start_time": "2022-03-24T19:11:24.915Z"
   },
   {
    "duration": 6,
    "start_time": "2022-03-24T19:11:24.964Z"
   },
   {
    "duration": 16,
    "start_time": "2022-03-24T19:11:24.971Z"
   },
   {
    "duration": 6,
    "start_time": "2022-03-24T19:11:24.988Z"
   },
   {
    "duration": 7,
    "start_time": "2022-03-24T19:11:24.996Z"
   },
   {
    "duration": 21,
    "start_time": "2022-03-24T19:11:25.005Z"
   },
   {
    "duration": 62,
    "start_time": "2022-03-24T19:11:25.028Z"
   },
   {
    "duration": 34,
    "start_time": "2022-03-24T19:11:25.092Z"
   },
   {
    "duration": 5,
    "start_time": "2022-03-24T19:11:25.128Z"
   },
   {
    "duration": 41,
    "start_time": "2022-03-24T19:11:25.135Z"
   },
   {
    "duration": 6,
    "start_time": "2022-03-24T19:11:25.178Z"
   },
   {
    "duration": 6,
    "start_time": "2022-03-24T19:11:25.186Z"
   },
   {
    "duration": 18,
    "start_time": "2022-03-24T19:11:25.194Z"
   },
   {
    "duration": 77,
    "start_time": "2022-03-24T19:11:25.215Z"
   },
   {
    "duration": 13,
    "start_time": "2022-03-24T19:11:25.294Z"
   },
   {
    "duration": 11,
    "start_time": "2022-03-24T19:11:25.309Z"
   },
   {
    "duration": 15,
    "start_time": "2022-03-24T19:11:25.322Z"
   },
   {
    "duration": 6,
    "start_time": "2022-03-24T19:11:25.363Z"
   },
   {
    "duration": 19,
    "start_time": "2022-03-24T19:11:25.371Z"
   },
   {
    "duration": 9,
    "start_time": "2022-03-24T19:11:25.392Z"
   },
   {
    "duration": 15,
    "start_time": "2022-03-24T19:11:25.402Z"
   },
   {
    "duration": 5,
    "start_time": "2022-03-24T19:11:25.419Z"
   },
   {
    "duration": 47,
    "start_time": "2022-03-24T19:11:25.425Z"
   },
   {
    "duration": 13,
    "start_time": "2022-03-24T19:11:25.474Z"
   },
   {
    "duration": 12,
    "start_time": "2022-03-24T19:11:25.489Z"
   },
   {
    "duration": 15,
    "start_time": "2022-03-24T19:11:25.505Z"
   },
   {
    "duration": 43,
    "start_time": "2022-03-24T19:11:25.521Z"
   },
   {
    "duration": 540,
    "start_time": "2022-03-24T19:12:24.082Z"
   },
   {
    "duration": 104,
    "start_time": "2022-03-24T19:12:24.625Z"
   },
   {
    "duration": 32,
    "start_time": "2022-03-24T19:12:24.731Z"
   },
   {
    "duration": 14,
    "start_time": "2022-03-24T19:12:24.765Z"
   },
   {
    "duration": 14,
    "start_time": "2022-03-24T19:12:24.782Z"
   },
   {
    "duration": 9,
    "start_time": "2022-03-24T19:12:24.798Z"
   },
   {
    "duration": 11,
    "start_time": "2022-03-24T19:12:24.809Z"
   },
   {
    "duration": 4,
    "start_time": "2022-03-24T19:12:24.822Z"
   },
   {
    "duration": 42,
    "start_time": "2022-03-24T19:12:24.827Z"
   },
   {
    "duration": 12,
    "start_time": "2022-03-24T19:12:24.870Z"
   },
   {
    "duration": 7,
    "start_time": "2022-03-24T19:12:24.884Z"
   },
   {
    "duration": 8,
    "start_time": "2022-03-24T19:12:24.892Z"
   },
   {
    "duration": 4,
    "start_time": "2022-03-24T19:12:24.902Z"
   },
   {
    "duration": 7,
    "start_time": "2022-03-24T19:12:24.908Z"
   },
   {
    "duration": 6,
    "start_time": "2022-03-24T19:12:24.916Z"
   },
   {
    "duration": 40,
    "start_time": "2022-03-24T19:12:24.924Z"
   },
   {
    "duration": 6,
    "start_time": "2022-03-24T19:12:24.965Z"
   },
   {
    "duration": 17,
    "start_time": "2022-03-24T19:12:24.972Z"
   },
   {
    "duration": 5,
    "start_time": "2022-03-24T19:12:24.991Z"
   },
   {
    "duration": 8,
    "start_time": "2022-03-24T19:12:24.997Z"
   },
   {
    "duration": 18,
    "start_time": "2022-03-24T19:12:25.007Z"
   },
   {
    "duration": 52,
    "start_time": "2022-03-24T19:12:25.026Z"
   },
   {
    "duration": 34,
    "start_time": "2022-03-24T19:12:25.079Z"
   },
   {
    "duration": 5,
    "start_time": "2022-03-24T19:12:25.115Z"
   },
   {
    "duration": 42,
    "start_time": "2022-03-24T19:12:25.122Z"
   },
   {
    "duration": 7,
    "start_time": "2022-03-24T19:12:25.165Z"
   },
   {
    "duration": 6,
    "start_time": "2022-03-24T19:12:25.173Z"
   },
   {
    "duration": 17,
    "start_time": "2022-03-24T19:12:25.181Z"
   },
   {
    "duration": 34,
    "start_time": "2022-03-24T19:12:25.199Z"
   },
   {
    "duration": 40,
    "start_time": "2022-03-24T19:12:25.234Z"
   },
   {
    "duration": 12,
    "start_time": "2022-03-24T19:12:25.276Z"
   },
   {
    "duration": 12,
    "start_time": "2022-03-24T19:12:25.290Z"
   },
   {
    "duration": 7,
    "start_time": "2022-03-24T19:12:25.303Z"
   },
   {
    "duration": 16,
    "start_time": "2022-03-24T19:12:25.311Z"
   },
   {
    "duration": 7,
    "start_time": "2022-03-24T19:12:25.364Z"
   },
   {
    "duration": 20,
    "start_time": "2022-03-24T19:12:25.374Z"
   },
   {
    "duration": 5,
    "start_time": "2022-03-24T19:12:25.397Z"
   },
   {
    "duration": 19,
    "start_time": "2022-03-24T19:12:25.403Z"
   },
   {
    "duration": 40,
    "start_time": "2022-03-24T19:12:25.424Z"
   },
   {
    "duration": 12,
    "start_time": "2022-03-24T19:12:25.466Z"
   },
   {
    "duration": 14,
    "start_time": "2022-03-24T19:12:25.483Z"
   },
   {
    "duration": 17,
    "start_time": "2022-03-24T19:12:25.499Z"
   },
   {
    "duration": 445,
    "start_time": "2022-03-24T19:12:43.030Z"
   },
   {
    "duration": 77,
    "start_time": "2022-03-24T19:12:43.477Z"
   },
   {
    "duration": 16,
    "start_time": "2022-03-24T19:12:43.556Z"
   },
   {
    "duration": 11,
    "start_time": "2022-03-24T19:12:43.573Z"
   },
   {
    "duration": 19,
    "start_time": "2022-03-24T19:12:43.587Z"
   },
   {
    "duration": 6,
    "start_time": "2022-03-24T19:12:43.607Z"
   },
   {
    "duration": 15,
    "start_time": "2022-03-24T19:12:43.615Z"
   },
   {
    "duration": 31,
    "start_time": "2022-03-24T19:12:43.632Z"
   },
   {
    "duration": 10,
    "start_time": "2022-03-24T19:12:43.665Z"
   },
   {
    "duration": 9,
    "start_time": "2022-03-24T19:12:43.677Z"
   },
   {
    "duration": 6,
    "start_time": "2022-03-24T19:12:43.687Z"
   },
   {
    "duration": 21,
    "start_time": "2022-03-24T19:12:43.695Z"
   },
   {
    "duration": 15,
    "start_time": "2022-03-24T19:12:43.718Z"
   },
   {
    "duration": 31,
    "start_time": "2022-03-24T19:12:43.736Z"
   },
   {
    "duration": 11,
    "start_time": "2022-03-24T19:12:43.768Z"
   },
   {
    "duration": 27,
    "start_time": "2022-03-24T19:12:43.781Z"
   },
   {
    "duration": 23,
    "start_time": "2022-03-24T19:12:43.810Z"
   },
   {
    "duration": 23,
    "start_time": "2022-03-24T19:12:43.835Z"
   },
   {
    "duration": 6,
    "start_time": "2022-03-24T19:12:43.860Z"
   },
   {
    "duration": 10,
    "start_time": "2022-03-24T19:12:43.867Z"
   },
   {
    "duration": 22,
    "start_time": "2022-03-24T19:12:43.879Z"
   },
   {
    "duration": 16,
    "start_time": "2022-03-24T19:12:43.903Z"
   },
   {
    "duration": 47,
    "start_time": "2022-03-24T19:12:43.920Z"
   },
   {
    "duration": 6,
    "start_time": "2022-03-24T19:12:43.968Z"
   },
   {
    "duration": 20,
    "start_time": "2022-03-24T19:12:43.975Z"
   },
   {
    "duration": 6,
    "start_time": "2022-03-24T19:12:43.996Z"
   },
   {
    "duration": 22,
    "start_time": "2022-03-24T19:12:44.004Z"
   },
   {
    "duration": 24,
    "start_time": "2022-03-24T19:12:44.027Z"
   },
   {
    "duration": 33,
    "start_time": "2022-03-24T19:12:44.062Z"
   },
   {
    "duration": 12,
    "start_time": "2022-03-24T19:12:44.097Z"
   },
   {
    "duration": 11,
    "start_time": "2022-03-24T19:12:44.110Z"
   },
   {
    "duration": 44,
    "start_time": "2022-03-24T19:12:44.122Z"
   },
   {
    "duration": 19,
    "start_time": "2022-03-24T19:12:44.167Z"
   },
   {
    "duration": 26,
    "start_time": "2022-03-24T19:12:44.188Z"
   },
   {
    "duration": 13,
    "start_time": "2022-03-24T19:12:44.216Z"
   },
   {
    "duration": 38,
    "start_time": "2022-03-24T19:12:44.231Z"
   },
   {
    "duration": 5,
    "start_time": "2022-03-24T19:12:44.271Z"
   },
   {
    "duration": 56,
    "start_time": "2022-03-24T19:12:44.278Z"
   },
   {
    "duration": 27,
    "start_time": "2022-03-24T19:12:44.337Z"
   },
   {
    "duration": 18,
    "start_time": "2022-03-24T19:12:44.367Z"
   },
   {
    "duration": 16,
    "start_time": "2022-03-24T19:12:44.391Z"
   },
   {
    "duration": 23,
    "start_time": "2022-03-24T19:12:44.409Z"
   },
   {
    "duration": 14,
    "start_time": "2022-03-24T19:12:59.166Z"
   },
   {
    "duration": 506,
    "start_time": "2022-03-24T19:13:06.483Z"
   },
   {
    "duration": 74,
    "start_time": "2022-03-24T19:13:06.991Z"
   },
   {
    "duration": 23,
    "start_time": "2022-03-24T19:13:07.067Z"
   },
   {
    "duration": 14,
    "start_time": "2022-03-24T19:13:07.093Z"
   },
   {
    "duration": 23,
    "start_time": "2022-03-24T19:13:07.109Z"
   },
   {
    "duration": 35,
    "start_time": "2022-03-24T19:13:07.134Z"
   },
   {
    "duration": 14,
    "start_time": "2022-03-24T19:13:07.171Z"
   },
   {
    "duration": 6,
    "start_time": "2022-03-24T19:13:07.187Z"
   },
   {
    "duration": 11,
    "start_time": "2022-03-24T19:13:07.194Z"
   },
   {
    "duration": 9,
    "start_time": "2022-03-24T19:13:07.209Z"
   },
   {
    "duration": 5,
    "start_time": "2022-03-24T19:13:07.220Z"
   },
   {
    "duration": 43,
    "start_time": "2022-03-24T19:13:07.226Z"
   },
   {
    "duration": 4,
    "start_time": "2022-03-24T19:13:07.271Z"
   },
   {
    "duration": 8,
    "start_time": "2022-03-24T19:13:07.277Z"
   },
   {
    "duration": 15,
    "start_time": "2022-03-24T19:13:07.287Z"
   },
   {
    "duration": 6,
    "start_time": "2022-03-24T19:13:07.304Z"
   },
   {
    "duration": 9,
    "start_time": "2022-03-24T19:13:07.311Z"
   },
   {
    "duration": 15,
    "start_time": "2022-03-24T19:13:07.322Z"
   },
   {
    "duration": 6,
    "start_time": "2022-03-24T19:13:07.363Z"
   },
   {
    "duration": 7,
    "start_time": "2022-03-24T19:13:07.371Z"
   },
   {
    "duration": 17,
    "start_time": "2022-03-24T19:13:07.379Z"
   },
   {
    "duration": 16,
    "start_time": "2022-03-24T19:13:07.398Z"
   },
   {
    "duration": 62,
    "start_time": "2022-03-24T19:13:07.416Z"
   },
   {
    "duration": 5,
    "start_time": "2022-03-24T19:13:07.479Z"
   },
   {
    "duration": 17,
    "start_time": "2022-03-24T19:13:07.486Z"
   },
   {
    "duration": 5,
    "start_time": "2022-03-24T19:13:07.504Z"
   },
   {
    "duration": 6,
    "start_time": "2022-03-24T19:13:07.511Z"
   },
   {
    "duration": 47,
    "start_time": "2022-03-24T19:13:07.520Z"
   },
   {
    "duration": 32,
    "start_time": "2022-03-24T19:13:07.568Z"
   },
   {
    "duration": 11,
    "start_time": "2022-03-24T19:13:07.602Z"
   },
   {
    "duration": 11,
    "start_time": "2022-03-24T19:13:07.615Z"
   },
   {
    "duration": 37,
    "start_time": "2022-03-24T19:13:07.628Z"
   },
   {
    "duration": 7,
    "start_time": "2022-03-24T19:13:07.668Z"
   },
   {
    "duration": 18,
    "start_time": "2022-03-24T19:13:07.676Z"
   },
   {
    "duration": 7,
    "start_time": "2022-03-24T19:13:07.695Z"
   },
   {
    "duration": 15,
    "start_time": "2022-03-24T19:13:07.703Z"
   },
   {
    "duration": 5,
    "start_time": "2022-03-24T19:13:07.720Z"
   },
   {
    "duration": 47,
    "start_time": "2022-03-24T19:13:07.727Z"
   },
   {
    "duration": 12,
    "start_time": "2022-03-24T19:13:07.776Z"
   },
   {
    "duration": 10,
    "start_time": "2022-03-24T19:13:07.790Z"
   },
   {
    "duration": 11,
    "start_time": "2022-03-24T19:13:07.801Z"
   },
   {
    "duration": 51,
    "start_time": "2022-03-24T19:13:07.813Z"
   },
   {
    "duration": 440,
    "start_time": "2022-03-24T19:13:43.137Z"
   },
   {
    "duration": 73,
    "start_time": "2022-03-24T19:13:43.579Z"
   },
   {
    "duration": 20,
    "start_time": "2022-03-24T19:13:43.653Z"
   },
   {
    "duration": 15,
    "start_time": "2022-03-24T19:13:43.675Z"
   },
   {
    "duration": 26,
    "start_time": "2022-03-24T19:13:43.693Z"
   },
   {
    "duration": 9,
    "start_time": "2022-03-24T19:13:43.721Z"
   },
   {
    "duration": 39,
    "start_time": "2022-03-24T19:13:43.732Z"
   },
   {
    "duration": 7,
    "start_time": "2022-03-24T19:13:43.773Z"
   },
   {
    "duration": 11,
    "start_time": "2022-03-24T19:13:43.782Z"
   },
   {
    "duration": 9,
    "start_time": "2022-03-24T19:13:43.795Z"
   },
   {
    "duration": 5,
    "start_time": "2022-03-24T19:13:43.806Z"
   },
   {
    "duration": 9,
    "start_time": "2022-03-24T19:13:43.812Z"
   },
   {
    "duration": 12,
    "start_time": "2022-03-24T19:13:43.822Z"
   },
   {
    "duration": 7,
    "start_time": "2022-03-24T19:13:43.865Z"
   },
   {
    "duration": 12,
    "start_time": "2022-03-24T19:13:43.874Z"
   },
   {
    "duration": 7,
    "start_time": "2022-03-24T19:13:43.888Z"
   },
   {
    "duration": 6,
    "start_time": "2022-03-24T19:13:43.896Z"
   },
   {
    "duration": 17,
    "start_time": "2022-03-24T19:13:43.904Z"
   },
   {
    "duration": 5,
    "start_time": "2022-03-24T19:13:43.923Z"
   },
   {
    "duration": 9,
    "start_time": "2022-03-24T19:13:43.929Z"
   },
   {
    "duration": 39,
    "start_time": "2022-03-24T19:13:43.939Z"
   },
   {
    "duration": 17,
    "start_time": "2022-03-24T19:13:43.979Z"
   },
   {
    "duration": 43,
    "start_time": "2022-03-24T19:13:43.997Z"
   },
   {
    "duration": 21,
    "start_time": "2022-03-24T19:13:44.042Z"
   },
   {
    "duration": 16,
    "start_time": "2022-03-24T19:13:44.065Z"
   },
   {
    "duration": 7,
    "start_time": "2022-03-24T19:13:44.083Z"
   },
   {
    "duration": 6,
    "start_time": "2022-03-24T19:13:44.091Z"
   },
   {
    "duration": 18,
    "start_time": "2022-03-24T19:13:44.098Z"
   },
   {
    "duration": 77,
    "start_time": "2022-03-24T19:13:44.117Z"
   },
   {
    "duration": 12,
    "start_time": "2022-03-24T19:13:44.196Z"
   },
   {
    "duration": 10,
    "start_time": "2022-03-24T19:13:44.210Z"
   },
   {
    "duration": 11,
    "start_time": "2022-03-24T19:13:44.222Z"
   },
   {
    "duration": 8,
    "start_time": "2022-03-24T19:13:44.264Z"
   },
   {
    "duration": 17,
    "start_time": "2022-03-24T19:13:44.274Z"
   },
   {
    "duration": 7,
    "start_time": "2022-03-24T19:13:44.293Z"
   },
   {
    "duration": 13,
    "start_time": "2022-03-24T19:13:44.302Z"
   },
   {
    "duration": 4,
    "start_time": "2022-03-24T19:13:44.317Z"
   },
   {
    "duration": 48,
    "start_time": "2022-03-24T19:13:44.323Z"
   },
   {
    "duration": 13,
    "start_time": "2022-03-24T19:13:44.373Z"
   },
   {
    "duration": 12,
    "start_time": "2022-03-24T19:13:44.388Z"
   },
   {
    "duration": 18,
    "start_time": "2022-03-24T19:13:44.404Z"
   },
   {
    "duration": 40,
    "start_time": "2022-03-24T19:13:44.424Z"
   },
   {
    "duration": 179,
    "start_time": "2022-03-24T19:20:14.212Z"
   },
   {
    "duration": 366,
    "start_time": "2022-03-24T19:26:12.803Z"
   },
   {
    "duration": 74,
    "start_time": "2022-03-24T19:26:13.171Z"
   },
   {
    "duration": 24,
    "start_time": "2022-03-24T19:26:13.247Z"
   },
   {
    "duration": 10,
    "start_time": "2022-03-24T19:26:13.273Z"
   },
   {
    "duration": 16,
    "start_time": "2022-03-24T19:26:13.285Z"
   },
   {
    "duration": 5,
    "start_time": "2022-03-24T19:26:13.304Z"
   },
   {
    "duration": 14,
    "start_time": "2022-03-24T19:26:13.310Z"
   },
   {
    "duration": 7,
    "start_time": "2022-03-24T19:26:13.326Z"
   },
   {
    "duration": 34,
    "start_time": "2022-03-24T19:26:13.335Z"
   },
   {
    "duration": 9,
    "start_time": "2022-03-24T19:26:13.373Z"
   },
   {
    "duration": 5,
    "start_time": "2022-03-24T19:26:13.383Z"
   },
   {
    "duration": 9,
    "start_time": "2022-03-24T19:26:13.389Z"
   },
   {
    "duration": 3,
    "start_time": "2022-03-24T19:26:13.400Z"
   },
   {
    "duration": 5,
    "start_time": "2022-03-24T19:26:13.405Z"
   },
   {
    "duration": 8,
    "start_time": "2022-03-24T19:26:13.412Z"
   },
   {
    "duration": 7,
    "start_time": "2022-03-24T19:26:13.422Z"
   },
   {
    "duration": 36,
    "start_time": "2022-03-24T19:26:13.430Z"
   },
   {
    "duration": 15,
    "start_time": "2022-03-24T19:26:13.468Z"
   },
   {
    "duration": 5,
    "start_time": "2022-03-24T19:26:13.484Z"
   },
   {
    "duration": 10,
    "start_time": "2022-03-24T19:26:13.490Z"
   },
   {
    "duration": 17,
    "start_time": "2022-03-24T19:26:13.501Z"
   },
   {
    "duration": 43,
    "start_time": "2022-03-24T19:26:13.520Z"
   },
   {
    "duration": 32,
    "start_time": "2022-03-24T19:26:13.565Z"
   },
   {
    "duration": 6,
    "start_time": "2022-03-24T19:26:13.598Z"
   },
   {
    "duration": 21,
    "start_time": "2022-03-24T19:26:13.606Z"
   },
   {
    "duration": 5,
    "start_time": "2022-03-24T19:26:13.630Z"
   },
   {
    "duration": 30,
    "start_time": "2022-03-24T19:26:13.637Z"
   },
   {
    "duration": 18,
    "start_time": "2022-03-24T19:26:13.671Z"
   },
   {
    "duration": 32,
    "start_time": "2022-03-24T19:26:13.690Z"
   },
   {
    "duration": 11,
    "start_time": "2022-03-24T19:26:13.723Z"
   },
   {
    "duration": 15,
    "start_time": "2022-03-24T19:26:13.763Z"
   },
   {
    "duration": 16,
    "start_time": "2022-03-24T19:26:13.780Z"
   },
   {
    "duration": 7,
    "start_time": "2022-03-24T19:26:13.797Z"
   },
   {
    "duration": 15,
    "start_time": "2022-03-24T19:26:13.806Z"
   },
   {
    "duration": 41,
    "start_time": "2022-03-24T19:26:13.822Z"
   },
   {
    "duration": 15,
    "start_time": "2022-03-24T19:26:13.866Z"
   },
   {
    "duration": 8,
    "start_time": "2022-03-24T19:26:13.882Z"
   },
   {
    "duration": 24,
    "start_time": "2022-03-24T19:26:13.892Z"
   },
   {
    "duration": 11,
    "start_time": "2022-03-24T19:26:13.918Z"
   },
   {
    "duration": 11,
    "start_time": "2022-03-24T19:26:13.930Z"
   },
   {
    "duration": 28,
    "start_time": "2022-03-24T19:26:13.943Z"
   },
   {
    "duration": 21,
    "start_time": "2022-03-24T19:26:13.972Z"
   },
   {
    "duration": 18,
    "start_time": "2022-03-24T19:27:14.507Z"
   },
   {
    "duration": 67,
    "start_time": "2022-03-24T20:11:10.047Z"
   },
   {
    "duration": 409,
    "start_time": "2022-03-24T20:11:31.555Z"
   },
   {
    "duration": 80,
    "start_time": "2022-03-24T20:11:31.966Z"
   },
   {
    "duration": 26,
    "start_time": "2022-03-24T20:11:32.048Z"
   },
   {
    "duration": 10,
    "start_time": "2022-03-24T20:11:32.077Z"
   },
   {
    "duration": 17,
    "start_time": "2022-03-24T20:11:32.089Z"
   },
   {
    "duration": 6,
    "start_time": "2022-03-24T20:11:32.108Z"
   },
   {
    "duration": 50,
    "start_time": "2022-03-24T20:11:32.115Z"
   },
   {
    "duration": 4,
    "start_time": "2022-03-24T20:11:32.167Z"
   },
   {
    "duration": 12,
    "start_time": "2022-03-24T20:11:32.172Z"
   },
   {
    "duration": 10,
    "start_time": "2022-03-24T20:11:32.187Z"
   },
   {
    "duration": 6,
    "start_time": "2022-03-24T20:11:32.199Z"
   },
   {
    "duration": 9,
    "start_time": "2022-03-24T20:11:32.206Z"
   },
   {
    "duration": 4,
    "start_time": "2022-03-24T20:11:32.216Z"
   },
   {
    "duration": 43,
    "start_time": "2022-03-24T20:11:32.221Z"
   },
   {
    "duration": 6,
    "start_time": "2022-03-24T20:11:32.265Z"
   },
   {
    "duration": 6,
    "start_time": "2022-03-24T20:11:32.273Z"
   },
   {
    "duration": 6,
    "start_time": "2022-03-24T20:11:32.281Z"
   },
   {
    "duration": 14,
    "start_time": "2022-03-24T20:11:32.288Z"
   },
   {
    "duration": 4,
    "start_time": "2022-03-24T20:11:32.304Z"
   },
   {
    "duration": 7,
    "start_time": "2022-03-24T20:11:32.310Z"
   },
   {
    "duration": 47,
    "start_time": "2022-03-24T20:11:32.319Z"
   },
   {
    "duration": 16,
    "start_time": "2022-03-24T20:11:32.368Z"
   },
   {
    "duration": 31,
    "start_time": "2022-03-24T20:11:32.385Z"
   },
   {
    "duration": 8,
    "start_time": "2022-03-24T20:11:32.418Z"
   },
   {
    "duration": 47,
    "start_time": "2022-03-24T20:11:32.428Z"
   },
   {
    "duration": 5,
    "start_time": "2022-03-24T20:11:32.477Z"
   },
   {
    "duration": 7,
    "start_time": "2022-03-24T20:11:32.483Z"
   },
   {
    "duration": 17,
    "start_time": "2022-03-24T20:11:32.493Z"
   },
   {
    "duration": 62,
    "start_time": "2022-03-24T20:11:32.512Z"
   },
   {
    "duration": 11,
    "start_time": "2022-03-24T20:11:32.575Z"
   },
   {
    "duration": 12,
    "start_time": "2022-03-24T20:11:32.588Z"
   },
   {
    "duration": 12,
    "start_time": "2022-03-24T20:11:32.601Z"
   },
   {
    "duration": 7,
    "start_time": "2022-03-24T20:11:32.616Z"
   },
   {
    "duration": 46,
    "start_time": "2022-03-24T20:11:32.624Z"
   },
   {
    "duration": 9,
    "start_time": "2022-03-24T20:11:32.672Z"
   },
   {
    "duration": 23,
    "start_time": "2022-03-24T20:11:32.683Z"
   },
   {
    "duration": 5,
    "start_time": "2022-03-24T20:11:32.708Z"
   },
   {
    "duration": 24,
    "start_time": "2022-03-24T20:11:32.715Z"
   },
   {
    "duration": 27,
    "start_time": "2022-03-24T20:11:32.747Z"
   },
   {
    "duration": 13,
    "start_time": "2022-03-24T20:11:32.776Z"
   },
   {
    "duration": 22,
    "start_time": "2022-03-24T20:11:32.791Z"
   },
   {
    "duration": 18,
    "start_time": "2022-03-24T20:11:32.815Z"
   },
   {
    "duration": 70,
    "start_time": "2022-03-24T20:11:32.862Z"
   },
   {
    "duration": 11,
    "start_time": "2022-03-24T20:13:38.636Z"
   },
   {
    "duration": 10,
    "start_time": "2022-03-24T20:17:23.163Z"
   },
   {
    "duration": 10,
    "start_time": "2022-03-24T20:19:40.663Z"
   },
   {
    "duration": 15,
    "start_time": "2022-03-24T20:23:06.526Z"
   },
   {
    "duration": 12,
    "start_time": "2022-03-24T20:23:32.735Z"
   },
   {
    "duration": 20,
    "start_time": "2022-03-24T20:25:03.658Z"
   },
   {
    "duration": 40,
    "start_time": "2022-03-24T20:25:18.866Z"
   },
   {
    "duration": 434,
    "start_time": "2022-03-24T20:26:31.239Z"
   },
   {
    "duration": 77,
    "start_time": "2022-03-24T20:26:31.676Z"
   },
   {
    "duration": 22,
    "start_time": "2022-03-24T20:26:31.755Z"
   },
   {
    "duration": 24,
    "start_time": "2022-03-24T20:26:31.780Z"
   },
   {
    "duration": 37,
    "start_time": "2022-03-24T20:26:31.806Z"
   },
   {
    "duration": 19,
    "start_time": "2022-03-24T20:26:31.845Z"
   },
   {
    "duration": 29,
    "start_time": "2022-03-24T20:26:31.865Z"
   },
   {
    "duration": 25,
    "start_time": "2022-03-24T20:26:31.896Z"
   },
   {
    "duration": 32,
    "start_time": "2022-03-24T20:26:31.923Z"
   },
   {
    "duration": 35,
    "start_time": "2022-03-24T20:26:31.958Z"
   },
   {
    "duration": 17,
    "start_time": "2022-03-24T20:26:31.995Z"
   },
   {
    "duration": 53,
    "start_time": "2022-03-24T20:26:32.013Z"
   },
   {
    "duration": 24,
    "start_time": "2022-03-24T20:26:32.068Z"
   },
   {
    "duration": 31,
    "start_time": "2022-03-24T20:26:32.094Z"
   },
   {
    "duration": 25,
    "start_time": "2022-03-24T20:26:32.127Z"
   },
   {
    "duration": 18,
    "start_time": "2022-03-24T20:26:32.154Z"
   },
   {
    "duration": 34,
    "start_time": "2022-03-24T20:26:32.173Z"
   },
   {
    "duration": 32,
    "start_time": "2022-03-24T20:26:32.209Z"
   },
   {
    "duration": 15,
    "start_time": "2022-03-24T20:26:32.243Z"
   },
   {
    "duration": 33,
    "start_time": "2022-03-24T20:26:32.260Z"
   },
   {
    "duration": 39,
    "start_time": "2022-03-24T20:26:32.295Z"
   },
   {
    "duration": 37,
    "start_time": "2022-03-24T20:26:32.336Z"
   },
   {
    "duration": 35,
    "start_time": "2022-03-24T20:26:32.374Z"
   },
   {
    "duration": 4,
    "start_time": "2022-03-24T20:26:32.411Z"
   },
   {
    "duration": 34,
    "start_time": "2022-03-24T20:26:32.417Z"
   },
   {
    "duration": 23,
    "start_time": "2022-03-24T20:26:32.453Z"
   },
   {
    "duration": 26,
    "start_time": "2022-03-24T20:26:32.478Z"
   },
   {
    "duration": 44,
    "start_time": "2022-03-24T20:26:32.507Z"
   },
   {
    "duration": 36,
    "start_time": "2022-03-24T20:26:32.553Z"
   },
   {
    "duration": 12,
    "start_time": "2022-03-24T20:26:32.591Z"
   },
   {
    "duration": 32,
    "start_time": "2022-03-24T20:26:32.605Z"
   },
   {
    "duration": 29,
    "start_time": "2022-03-24T20:26:32.639Z"
   },
   {
    "duration": 41,
    "start_time": "2022-03-24T20:26:32.671Z"
   },
   {
    "duration": 36,
    "start_time": "2022-03-24T20:26:32.714Z"
   },
   {
    "duration": 13,
    "start_time": "2022-03-24T20:26:32.752Z"
   },
   {
    "duration": 45,
    "start_time": "2022-03-24T20:26:32.767Z"
   },
   {
    "duration": 20,
    "start_time": "2022-03-24T20:26:32.814Z"
   },
   {
    "duration": 47,
    "start_time": "2022-03-24T20:26:32.836Z"
   },
   {
    "duration": 34,
    "start_time": "2022-03-24T20:26:32.885Z"
   },
   {
    "duration": 24,
    "start_time": "2022-03-24T20:26:32.921Z"
   },
   {
    "duration": 35,
    "start_time": "2022-03-24T20:26:32.946Z"
   },
   {
    "duration": 29,
    "start_time": "2022-03-24T20:26:32.983Z"
   },
   {
    "duration": 21,
    "start_time": "2022-03-24T20:26:33.013Z"
   },
   {
    "duration": 47,
    "start_time": "2022-03-24T20:26:33.035Z"
   },
   {
    "duration": 77,
    "start_time": "2022-03-24T20:27:43.431Z"
   },
   {
    "duration": 397,
    "start_time": "2022-03-24T20:27:54.180Z"
   },
   {
    "duration": 74,
    "start_time": "2022-03-24T20:27:54.579Z"
   },
   {
    "duration": 20,
    "start_time": "2022-03-24T20:27:54.654Z"
   },
   {
    "duration": 11,
    "start_time": "2022-03-24T20:27:54.675Z"
   },
   {
    "duration": 15,
    "start_time": "2022-03-24T20:27:54.688Z"
   },
   {
    "duration": 11,
    "start_time": "2022-03-24T20:27:54.704Z"
   },
   {
    "duration": 33,
    "start_time": "2022-03-24T20:27:54.717Z"
   },
   {
    "duration": 23,
    "start_time": "2022-03-24T20:27:54.752Z"
   },
   {
    "duration": 16,
    "start_time": "2022-03-24T20:27:54.777Z"
   },
   {
    "duration": 31,
    "start_time": "2022-03-24T20:27:54.795Z"
   },
   {
    "duration": 6,
    "start_time": "2022-03-24T20:27:54.828Z"
   },
   {
    "duration": 29,
    "start_time": "2022-03-24T20:27:54.836Z"
   },
   {
    "duration": 23,
    "start_time": "2022-03-24T20:27:54.866Z"
   },
   {
    "duration": 20,
    "start_time": "2022-03-24T20:27:54.893Z"
   },
   {
    "duration": 20,
    "start_time": "2022-03-24T20:27:54.915Z"
   },
   {
    "duration": 22,
    "start_time": "2022-03-24T20:27:54.937Z"
   },
   {
    "duration": 16,
    "start_time": "2022-03-24T20:27:54.961Z"
   },
   {
    "duration": 41,
    "start_time": "2022-03-24T20:27:54.979Z"
   },
   {
    "duration": 13,
    "start_time": "2022-03-24T20:27:55.022Z"
   },
   {
    "duration": 20,
    "start_time": "2022-03-24T20:27:55.037Z"
   },
   {
    "duration": 36,
    "start_time": "2022-03-24T20:27:55.059Z"
   },
   {
    "duration": 16,
    "start_time": "2022-03-24T20:27:55.096Z"
   },
   {
    "duration": 39,
    "start_time": "2022-03-24T20:27:55.114Z"
   },
   {
    "duration": 5,
    "start_time": "2022-03-24T20:27:55.155Z"
   },
   {
    "duration": 32,
    "start_time": "2022-03-24T20:27:55.162Z"
   },
   {
    "duration": 14,
    "start_time": "2022-03-24T20:27:55.195Z"
   },
   {
    "duration": 16,
    "start_time": "2022-03-24T20:27:55.211Z"
   },
   {
    "duration": 31,
    "start_time": "2022-03-24T20:27:55.229Z"
   },
   {
    "duration": 32,
    "start_time": "2022-03-24T20:27:55.262Z"
   },
   {
    "duration": 16,
    "start_time": "2022-03-24T20:27:55.297Z"
   },
   {
    "duration": 20,
    "start_time": "2022-03-24T20:27:55.315Z"
   },
   {
    "duration": 30,
    "start_time": "2022-03-24T20:27:55.337Z"
   },
   {
    "duration": 31,
    "start_time": "2022-03-24T20:27:55.369Z"
   },
   {
    "duration": 26,
    "start_time": "2022-03-24T20:27:55.402Z"
   },
   {
    "duration": 33,
    "start_time": "2022-03-24T20:27:55.430Z"
   },
   {
    "duration": 27,
    "start_time": "2022-03-24T20:27:55.465Z"
   },
   {
    "duration": 15,
    "start_time": "2022-03-24T20:27:55.494Z"
   },
   {
    "duration": 47,
    "start_time": "2022-03-24T20:27:55.511Z"
   },
   {
    "duration": 18,
    "start_time": "2022-03-24T20:27:55.560Z"
   },
   {
    "duration": 16,
    "start_time": "2022-03-24T20:27:55.580Z"
   },
   {
    "duration": 38,
    "start_time": "2022-03-24T20:27:55.599Z"
   },
   {
    "duration": 22,
    "start_time": "2022-03-24T20:27:55.639Z"
   },
   {
    "duration": 89,
    "start_time": "2022-03-24T20:27:55.662Z"
   },
   {
    "duration": 16,
    "start_time": "2022-03-24T20:28:29.606Z"
   },
   {
    "duration": 150,
    "start_time": "2022-03-24T20:35:45.004Z"
   },
   {
    "duration": 7,
    "start_time": "2022-03-24T20:36:02.917Z"
   },
   {
    "duration": 8,
    "start_time": "2022-03-24T20:36:09.102Z"
   },
   {
    "duration": 22,
    "start_time": "2022-03-24T20:37:04.245Z"
   },
   {
    "duration": 10,
    "start_time": "2022-03-24T20:37:54.273Z"
   },
   {
    "duration": 20,
    "start_time": "2022-03-24T20:39:08.857Z"
   },
   {
    "duration": 15,
    "start_time": "2022-03-24T20:43:11.879Z"
   },
   {
    "duration": 22,
    "start_time": "2022-03-24T20:43:42.876Z"
   },
   {
    "duration": 11,
    "start_time": "2022-03-24T20:44:14.542Z"
   },
   {
    "duration": 24,
    "start_time": "2022-03-24T20:44:19.889Z"
   },
   {
    "duration": 5,
    "start_time": "2022-03-24T20:45:12.088Z"
   },
   {
    "duration": 11,
    "start_time": "2022-03-24T20:45:38.304Z"
   },
   {
    "duration": 31,
    "start_time": "2022-03-24T20:45:52.196Z"
   },
   {
    "duration": 27,
    "start_time": "2022-03-24T20:46:27.055Z"
   },
   {
    "duration": 17,
    "start_time": "2022-03-24T20:46:45.166Z"
   },
   {
    "duration": 19,
    "start_time": "2022-03-24T20:47:20.642Z"
   },
   {
    "duration": 18,
    "start_time": "2022-03-24T20:49:35.582Z"
   },
   {
    "duration": 159,
    "start_time": "2022-03-24T20:50:58.825Z"
   },
   {
    "duration": 21,
    "start_time": "2022-03-24T20:52:30.890Z"
   },
   {
    "duration": 33,
    "start_time": "2022-03-24T20:54:12.556Z"
   },
   {
    "duration": 54,
    "start_time": "2022-03-24T20:55:21.434Z"
   },
   {
    "duration": 22,
    "start_time": "2022-03-24T20:55:42.406Z"
   },
   {
    "duration": 19,
    "start_time": "2022-03-24T20:56:14.595Z"
   },
   {
    "duration": 19,
    "start_time": "2022-03-24T20:58:47.634Z"
   },
   {
    "duration": 22,
    "start_time": "2022-03-24T20:59:07.350Z"
   },
   {
    "duration": 4,
    "start_time": "2022-03-24T21:03:36.165Z"
   },
   {
    "duration": 25,
    "start_time": "2022-03-24T21:04:10.365Z"
   },
   {
    "duration": 479,
    "start_time": "2022-03-24T21:06:24.957Z"
   },
   {
    "duration": 81,
    "start_time": "2022-03-24T21:06:25.439Z"
   },
   {
    "duration": 17,
    "start_time": "2022-03-24T21:06:25.522Z"
   },
   {
    "duration": 27,
    "start_time": "2022-03-24T21:06:25.540Z"
   },
   {
    "duration": 34,
    "start_time": "2022-03-24T21:06:25.570Z"
   },
   {
    "duration": 20,
    "start_time": "2022-03-24T21:06:25.606Z"
   },
   {
    "duration": 28,
    "start_time": "2022-03-24T21:06:25.627Z"
   },
   {
    "duration": 20,
    "start_time": "2022-03-24T21:06:25.657Z"
   },
   {
    "duration": 24,
    "start_time": "2022-03-24T21:06:25.679Z"
   },
   {
    "duration": 54,
    "start_time": "2022-03-24T21:06:25.705Z"
   },
   {
    "duration": 30,
    "start_time": "2022-03-24T21:06:25.761Z"
   },
   {
    "duration": 45,
    "start_time": "2022-03-24T21:06:25.793Z"
   },
   {
    "duration": 25,
    "start_time": "2022-03-24T21:06:25.840Z"
   },
   {
    "duration": 40,
    "start_time": "2022-03-24T21:06:25.869Z"
   },
   {
    "duration": 35,
    "start_time": "2022-03-24T21:06:25.910Z"
   },
   {
    "duration": 41,
    "start_time": "2022-03-24T21:06:25.947Z"
   },
   {
    "duration": 42,
    "start_time": "2022-03-24T21:06:25.990Z"
   },
   {
    "duration": 30,
    "start_time": "2022-03-24T21:06:26.034Z"
   },
   {
    "duration": 6,
    "start_time": "2022-03-24T21:06:26.066Z"
   },
   {
    "duration": 33,
    "start_time": "2022-03-24T21:06:26.074Z"
   },
   {
    "duration": 39,
    "start_time": "2022-03-24T21:06:26.109Z"
   },
   {
    "duration": 20,
    "start_time": "2022-03-24T21:06:26.149Z"
   },
   {
    "duration": 46,
    "start_time": "2022-03-24T21:06:26.171Z"
   },
   {
    "duration": 6,
    "start_time": "2022-03-24T21:06:26.218Z"
   },
   {
    "duration": 39,
    "start_time": "2022-03-24T21:06:26.226Z"
   },
   {
    "duration": 19,
    "start_time": "2022-03-24T21:06:26.267Z"
   },
   {
    "duration": 18,
    "start_time": "2022-03-24T21:06:26.288Z"
   },
   {
    "duration": 39,
    "start_time": "2022-03-24T21:06:26.308Z"
   },
   {
    "duration": 36,
    "start_time": "2022-03-24T21:06:26.349Z"
   },
   {
    "duration": 13,
    "start_time": "2022-03-24T21:06:26.387Z"
   },
   {
    "duration": 39,
    "start_time": "2022-03-24T21:06:26.402Z"
   },
   {
    "duration": 40,
    "start_time": "2022-03-24T21:06:26.443Z"
   },
   {
    "duration": 24,
    "start_time": "2022-03-24T21:06:26.484Z"
   },
   {
    "duration": 36,
    "start_time": "2022-03-24T21:06:26.509Z"
   },
   {
    "duration": 26,
    "start_time": "2022-03-24T21:06:26.546Z"
   },
   {
    "duration": 39,
    "start_time": "2022-03-24T21:06:26.573Z"
   },
   {
    "duration": 22,
    "start_time": "2022-03-24T21:06:26.613Z"
   },
   {
    "duration": 34,
    "start_time": "2022-03-24T21:06:26.636Z"
   },
   {
    "duration": 72,
    "start_time": "2022-03-24T21:06:26.671Z"
   },
   {
    "duration": 18,
    "start_time": "2022-03-24T21:06:26.744Z"
   },
   {
    "duration": 32,
    "start_time": "2022-03-24T21:06:26.768Z"
   },
   {
    "duration": 28,
    "start_time": "2022-03-24T21:06:26.802Z"
   },
   {
    "duration": 5,
    "start_time": "2022-03-24T21:06:26.833Z"
   },
   {
    "duration": 56,
    "start_time": "2022-03-24T21:06:26.840Z"
   },
   {
    "duration": 28,
    "start_time": "2022-03-24T21:07:29.267Z"
   },
   {
    "duration": 31,
    "start_time": "2022-03-24T21:08:31.031Z"
   },
   {
    "duration": 428,
    "start_time": "2022-03-24T21:42:23.858Z"
   },
   {
    "duration": 83,
    "start_time": "2022-03-24T21:42:24.288Z"
   },
   {
    "duration": 17,
    "start_time": "2022-03-24T21:42:24.372Z"
   },
   {
    "duration": 10,
    "start_time": "2022-03-24T21:42:24.392Z"
   },
   {
    "duration": 16,
    "start_time": "2022-03-24T21:42:24.403Z"
   },
   {
    "duration": 6,
    "start_time": "2022-03-24T21:42:24.421Z"
   },
   {
    "duration": 38,
    "start_time": "2022-03-24T21:42:24.428Z"
   },
   {
    "duration": 9,
    "start_time": "2022-03-24T21:42:24.468Z"
   },
   {
    "duration": 17,
    "start_time": "2022-03-24T21:42:24.479Z"
   },
   {
    "duration": 9,
    "start_time": "2022-03-24T21:42:24.500Z"
   },
   {
    "duration": 5,
    "start_time": "2022-03-24T21:42:24.511Z"
   },
   {
    "duration": 12,
    "start_time": "2022-03-24T21:42:24.518Z"
   },
   {
    "duration": 5,
    "start_time": "2022-03-24T21:42:24.532Z"
   },
   {
    "duration": 26,
    "start_time": "2022-03-24T21:42:24.538Z"
   },
   {
    "duration": 6,
    "start_time": "2022-03-24T21:42:24.565Z"
   },
   {
    "duration": 8,
    "start_time": "2022-03-24T21:42:24.572Z"
   },
   {
    "duration": 7,
    "start_time": "2022-03-24T21:42:24.582Z"
   },
   {
    "duration": 17,
    "start_time": "2022-03-24T21:42:24.590Z"
   },
   {
    "duration": 7,
    "start_time": "2022-03-24T21:42:24.608Z"
   },
   {
    "duration": 6,
    "start_time": "2022-03-24T21:42:24.617Z"
   },
   {
    "duration": 53,
    "start_time": "2022-03-24T21:42:24.625Z"
   },
   {
    "duration": 18,
    "start_time": "2022-03-24T21:42:24.679Z"
   },
   {
    "duration": 32,
    "start_time": "2022-03-24T21:42:24.699Z"
   },
   {
    "duration": 6,
    "start_time": "2022-03-24T21:42:24.732Z"
   },
   {
    "duration": 16,
    "start_time": "2022-03-24T21:42:24.763Z"
   },
   {
    "duration": 9,
    "start_time": "2022-03-24T21:42:24.780Z"
   },
   {
    "duration": 6,
    "start_time": "2022-03-24T21:42:24.790Z"
   },
   {
    "duration": 17,
    "start_time": "2022-03-24T21:42:24.799Z"
   },
   {
    "duration": 57,
    "start_time": "2022-03-24T21:42:24.818Z"
   },
   {
    "duration": 12,
    "start_time": "2022-03-24T21:42:24.877Z"
   },
   {
    "duration": 12,
    "start_time": "2022-03-24T21:42:24.890Z"
   },
   {
    "duration": 11,
    "start_time": "2022-03-24T21:42:24.903Z"
   },
   {
    "duration": 6,
    "start_time": "2022-03-24T21:42:24.916Z"
   },
   {
    "duration": 45,
    "start_time": "2022-03-24T21:42:24.924Z"
   },
   {
    "duration": 7,
    "start_time": "2022-03-24T21:42:24.971Z"
   },
   {
    "duration": 13,
    "start_time": "2022-03-24T21:42:24.980Z"
   },
   {
    "duration": 7,
    "start_time": "2022-03-24T21:42:24.994Z"
   },
   {
    "duration": 11,
    "start_time": "2022-03-24T21:42:25.003Z"
   },
   {
    "duration": 23,
    "start_time": "2022-03-24T21:42:25.016Z"
   },
   {
    "duration": 34,
    "start_time": "2022-03-24T21:42:25.041Z"
   },
   {
    "duration": 17,
    "start_time": "2022-03-24T21:42:25.076Z"
   },
   {
    "duration": 12,
    "start_time": "2022-03-24T21:42:25.095Z"
   },
   {
    "duration": 22,
    "start_time": "2022-03-24T21:42:25.109Z"
   },
   {
    "duration": 45,
    "start_time": "2022-03-24T21:42:25.132Z"
   },
   {
    "duration": 385,
    "start_time": "2022-03-24T22:21:30.985Z"
   },
   {
    "duration": 76,
    "start_time": "2022-03-24T22:21:31.373Z"
   },
   {
    "duration": 23,
    "start_time": "2022-03-24T22:21:31.450Z"
   },
   {
    "duration": 16,
    "start_time": "2022-03-24T22:21:31.476Z"
   },
   {
    "duration": 22,
    "start_time": "2022-03-24T22:21:31.494Z"
   },
   {
    "duration": 9,
    "start_time": "2022-03-24T22:21:31.517Z"
   },
   {
    "duration": 37,
    "start_time": "2022-03-24T22:21:31.527Z"
   },
   {
    "duration": 22,
    "start_time": "2022-03-24T22:21:31.565Z"
   },
   {
    "duration": 46,
    "start_time": "2022-03-24T22:21:31.588Z"
   },
   {
    "duration": 17,
    "start_time": "2022-03-24T22:21:31.637Z"
   },
   {
    "duration": 19,
    "start_time": "2022-03-24T22:21:31.656Z"
   },
   {
    "duration": 32,
    "start_time": "2022-03-24T22:21:31.677Z"
   },
   {
    "duration": 8,
    "start_time": "2022-03-24T22:21:31.710Z"
   },
   {
    "duration": 22,
    "start_time": "2022-03-24T22:21:31.720Z"
   },
   {
    "duration": 19,
    "start_time": "2022-03-24T22:21:31.744Z"
   },
   {
    "duration": 23,
    "start_time": "2022-03-24T22:21:31.765Z"
   },
   {
    "duration": 23,
    "start_time": "2022-03-24T22:21:31.790Z"
   },
   {
    "duration": 49,
    "start_time": "2022-03-24T22:21:31.814Z"
   },
   {
    "duration": 20,
    "start_time": "2022-03-24T22:21:31.865Z"
   },
   {
    "duration": 39,
    "start_time": "2022-03-24T22:21:31.887Z"
   },
   {
    "duration": 39,
    "start_time": "2022-03-24T22:21:31.927Z"
   },
   {
    "duration": 37,
    "start_time": "2022-03-24T22:21:31.968Z"
   },
   {
    "duration": 44,
    "start_time": "2022-03-24T22:21:32.007Z"
   },
   {
    "duration": 5,
    "start_time": "2022-03-24T22:21:32.053Z"
   },
   {
    "duration": 58,
    "start_time": "2022-03-24T22:21:32.060Z"
   },
   {
    "duration": 37,
    "start_time": "2022-03-24T22:21:32.119Z"
   },
   {
    "duration": 24,
    "start_time": "2022-03-24T22:21:32.158Z"
   },
   {
    "duration": 46,
    "start_time": "2022-03-24T22:21:32.186Z"
   },
   {
    "duration": 40,
    "start_time": "2022-03-24T22:21:32.233Z"
   },
   {
    "duration": 11,
    "start_time": "2022-03-24T22:21:32.275Z"
   },
   {
    "duration": 29,
    "start_time": "2022-03-24T22:21:32.287Z"
   },
   {
    "duration": 22,
    "start_time": "2022-03-24T22:21:32.317Z"
   },
   {
    "duration": 32,
    "start_time": "2022-03-24T22:21:32.340Z"
   },
   {
    "duration": 34,
    "start_time": "2022-03-24T22:21:32.374Z"
   },
   {
    "duration": 56,
    "start_time": "2022-03-24T22:21:32.409Z"
   },
   {
    "duration": 38,
    "start_time": "2022-03-24T22:21:32.467Z"
   },
   {
    "duration": 26,
    "start_time": "2022-03-24T22:21:32.507Z"
   },
   {
    "duration": 42,
    "start_time": "2022-03-24T22:21:32.535Z"
   },
   {
    "duration": 9,
    "start_time": "2022-03-24T22:21:32.578Z"
   },
   {
    "duration": 53,
    "start_time": "2022-03-24T22:21:32.588Z"
   },
   {
    "duration": 12,
    "start_time": "2022-03-24T22:21:32.643Z"
   },
   {
    "duration": 53,
    "start_time": "2022-03-24T22:21:32.657Z"
   },
   {
    "duration": 32,
    "start_time": "2022-03-24T22:21:32.712Z"
   },
   {
    "duration": 367,
    "start_time": "2022-04-05T04:09:28.407Z"
   },
   {
    "duration": 87,
    "start_time": "2022-04-05T04:09:28.776Z"
   },
   {
    "duration": 15,
    "start_time": "2022-04-05T04:09:28.865Z"
   },
   {
    "duration": 10,
    "start_time": "2022-04-05T04:09:28.882Z"
   },
   {
    "duration": 14,
    "start_time": "2022-04-05T04:09:28.893Z"
   },
   {
    "duration": 6,
    "start_time": "2022-04-05T04:09:28.909Z"
   },
   {
    "duration": 10,
    "start_time": "2022-04-05T04:09:28.916Z"
   },
   {
    "duration": 4,
    "start_time": "2022-04-05T04:09:28.927Z"
   },
   {
    "duration": 8,
    "start_time": "2022-04-05T04:09:28.933Z"
   },
   {
    "duration": 9,
    "start_time": "2022-04-05T04:09:28.981Z"
   },
   {
    "duration": 5,
    "start_time": "2022-04-05T04:09:28.992Z"
   },
   {
    "duration": 8,
    "start_time": "2022-04-05T04:09:28.999Z"
   },
   {
    "duration": 5,
    "start_time": "2022-04-05T04:09:29.008Z"
   },
   {
    "duration": 5,
    "start_time": "2022-04-05T04:09:29.015Z"
   },
   {
    "duration": 5,
    "start_time": "2022-04-05T04:09:29.022Z"
   },
   {
    "duration": 54,
    "start_time": "2022-04-05T04:09:29.028Z"
   },
   {
    "duration": 5,
    "start_time": "2022-04-05T04:09:29.084Z"
   },
   {
    "duration": 13,
    "start_time": "2022-04-05T04:09:29.091Z"
   },
   {
    "duration": 4,
    "start_time": "2022-04-05T04:09:29.106Z"
   },
   {
    "duration": 9,
    "start_time": "2022-04-05T04:09:29.112Z"
   },
   {
    "duration": 14,
    "start_time": "2022-04-05T04:09:29.123Z"
   },
   {
    "duration": 48,
    "start_time": "2022-04-05T04:09:29.139Z"
   },
   {
    "duration": 28,
    "start_time": "2022-04-05T04:09:29.188Z"
   },
   {
    "duration": 5,
    "start_time": "2022-04-05T04:09:29.218Z"
   },
   {
    "duration": 15,
    "start_time": "2022-04-05T04:09:29.225Z"
   },
   {
    "duration": 6,
    "start_time": "2022-04-05T04:09:29.241Z"
   },
   {
    "duration": 34,
    "start_time": "2022-04-05T04:09:29.248Z"
   },
   {
    "duration": 15,
    "start_time": "2022-04-05T04:09:29.286Z"
   },
   {
    "duration": 28,
    "start_time": "2022-04-05T04:09:29.303Z"
   },
   {
    "duration": 11,
    "start_time": "2022-04-05T04:09:29.332Z"
   },
   {
    "duration": 38,
    "start_time": "2022-04-05T04:09:29.345Z"
   },
   {
    "duration": 11,
    "start_time": "2022-04-05T04:09:29.384Z"
   },
   {
    "duration": 6,
    "start_time": "2022-04-05T04:09:29.396Z"
   },
   {
    "duration": 15,
    "start_time": "2022-04-05T04:09:29.403Z"
   },
   {
    "duration": 5,
    "start_time": "2022-04-05T04:09:29.420Z"
   },
   {
    "duration": 15,
    "start_time": "2022-04-05T04:09:29.426Z"
   },
   {
    "duration": 5,
    "start_time": "2022-04-05T04:09:29.443Z"
   },
   {
    "duration": 47,
    "start_time": "2022-04-05T04:09:29.449Z"
   },
   {
    "duration": 4,
    "start_time": "2022-04-05T04:09:29.497Z"
   },
   {
    "duration": 12,
    "start_time": "2022-04-05T04:09:29.502Z"
   },
   {
    "duration": 10,
    "start_time": "2022-04-05T04:09:29.516Z"
   },
   {
    "duration": 21,
    "start_time": "2022-04-05T04:09:29.527Z"
   },
   {
    "duration": 42,
    "start_time": "2022-04-05T04:09:29.550Z"
   },
   {
    "duration": 369,
    "start_time": "2022-04-05T05:15:09.522Z"
   },
   {
    "duration": 79,
    "start_time": "2022-04-05T05:15:09.893Z"
   },
   {
    "duration": 15,
    "start_time": "2022-04-05T05:15:09.973Z"
   },
   {
    "duration": 9,
    "start_time": "2022-04-05T05:15:09.990Z"
   },
   {
    "duration": 14,
    "start_time": "2022-04-05T05:15:10.002Z"
   },
   {
    "duration": 6,
    "start_time": "2022-04-05T05:15:10.018Z"
   },
   {
    "duration": 11,
    "start_time": "2022-04-05T05:15:10.026Z"
   },
   {
    "duration": 4,
    "start_time": "2022-04-05T05:15:10.039Z"
   },
   {
    "duration": 40,
    "start_time": "2022-04-05T05:15:10.045Z"
   },
   {
    "duration": 10,
    "start_time": "2022-04-05T05:15:10.087Z"
   },
   {
    "duration": 6,
    "start_time": "2022-04-05T05:15:10.099Z"
   },
   {
    "duration": 11,
    "start_time": "2022-04-05T05:15:10.107Z"
   },
   {
    "duration": 5,
    "start_time": "2022-04-05T05:15:10.120Z"
   },
   {
    "duration": 6,
    "start_time": "2022-04-05T05:15:10.129Z"
   },
   {
    "duration": 44,
    "start_time": "2022-04-05T05:15:10.137Z"
   },
   {
    "duration": 6,
    "start_time": "2022-04-05T05:15:10.183Z"
   },
   {
    "duration": 6,
    "start_time": "2022-04-05T05:15:10.191Z"
   },
   {
    "duration": 18,
    "start_time": "2022-04-05T05:15:10.199Z"
   },
   {
    "duration": 5,
    "start_time": "2022-04-05T05:15:10.218Z"
   },
   {
    "duration": 10,
    "start_time": "2022-04-05T05:15:10.224Z"
   },
   {
    "duration": 23,
    "start_time": "2022-04-05T05:15:10.235Z"
   },
   {
    "duration": 33,
    "start_time": "2022-04-05T05:15:10.259Z"
   },
   {
    "duration": 31,
    "start_time": "2022-04-05T05:15:10.293Z"
   },
   {
    "duration": 5,
    "start_time": "2022-04-05T05:15:10.325Z"
   },
   {
    "duration": 21,
    "start_time": "2022-04-05T05:15:10.331Z"
   },
   {
    "duration": 5,
    "start_time": "2022-04-05T05:15:10.353Z"
   },
   {
    "duration": 5,
    "start_time": "2022-04-05T05:15:10.381Z"
   },
   {
    "duration": 18,
    "start_time": "2022-04-05T05:15:10.387Z"
   },
   {
    "duration": 30,
    "start_time": "2022-04-05T05:15:10.406Z"
   },
   {
    "duration": 11,
    "start_time": "2022-04-05T05:15:10.437Z"
   },
   {
    "duration": 35,
    "start_time": "2022-04-05T05:15:10.449Z"
   },
   {
    "duration": 11,
    "start_time": "2022-04-05T05:15:10.486Z"
   },
   {
    "duration": 18,
    "start_time": "2022-04-05T05:15:10.498Z"
   },
   {
    "duration": 25,
    "start_time": "2022-04-05T05:15:10.518Z"
   },
   {
    "duration": 5,
    "start_time": "2022-04-05T05:15:10.544Z"
   },
   {
    "duration": 26,
    "start_time": "2022-04-05T05:15:10.550Z"
   },
   {
    "duration": 3,
    "start_time": "2022-04-05T05:15:10.581Z"
   },
   {
    "duration": 23,
    "start_time": "2022-04-05T05:15:10.586Z"
   },
   {
    "duration": 4,
    "start_time": "2022-04-05T05:15:10.611Z"
   },
   {
    "duration": 14,
    "start_time": "2022-04-05T05:15:10.617Z"
   },
   {
    "duration": 11,
    "start_time": "2022-04-05T05:15:10.636Z"
   },
   {
    "duration": 48,
    "start_time": "2022-04-05T05:15:10.650Z"
   },
   {
    "duration": 19,
    "start_time": "2022-04-05T05:15:10.700Z"
   },
   {
    "duration": 408,
    "start_time": "2022-04-05T05:16:05.175Z"
   },
   {
    "duration": 74,
    "start_time": "2022-04-05T05:16:05.585Z"
   },
   {
    "duration": 14,
    "start_time": "2022-04-05T05:16:05.661Z"
   },
   {
    "duration": 12,
    "start_time": "2022-04-05T05:16:05.676Z"
   },
   {
    "duration": 16,
    "start_time": "2022-04-05T05:16:05.690Z"
   },
   {
    "duration": 6,
    "start_time": "2022-04-05T05:16:05.707Z"
   },
   {
    "duration": 13,
    "start_time": "2022-04-05T05:16:05.714Z"
   },
   {
    "duration": 4,
    "start_time": "2022-04-05T05:16:05.729Z"
   },
   {
    "duration": 11,
    "start_time": "2022-04-05T05:16:05.735Z"
   },
   {
    "duration": 38,
    "start_time": "2022-04-05T05:16:05.747Z"
   },
   {
    "duration": 5,
    "start_time": "2022-04-05T05:16:05.786Z"
   },
   {
    "duration": 8,
    "start_time": "2022-04-05T05:16:05.793Z"
   },
   {
    "duration": 3,
    "start_time": "2022-04-05T05:16:05.803Z"
   },
   {
    "duration": 7,
    "start_time": "2022-04-05T05:16:05.809Z"
   },
   {
    "duration": 5,
    "start_time": "2022-04-05T05:16:05.817Z"
   },
   {
    "duration": 5,
    "start_time": "2022-04-05T05:16:05.823Z"
   },
   {
    "duration": 6,
    "start_time": "2022-04-05T05:16:05.829Z"
   },
   {
    "duration": 45,
    "start_time": "2022-04-05T05:16:05.837Z"
   },
   {
    "duration": 5,
    "start_time": "2022-04-05T05:16:05.883Z"
   },
   {
    "duration": 7,
    "start_time": "2022-04-05T05:16:05.890Z"
   },
   {
    "duration": 14,
    "start_time": "2022-04-05T05:16:05.899Z"
   },
   {
    "duration": 14,
    "start_time": "2022-04-05T05:16:05.915Z"
   },
   {
    "duration": 28,
    "start_time": "2022-04-05T05:16:05.930Z"
   },
   {
    "duration": 5,
    "start_time": "2022-04-05T05:16:05.981Z"
   },
   {
    "duration": 19,
    "start_time": "2022-04-05T05:16:05.987Z"
   },
   {
    "duration": 4,
    "start_time": "2022-04-05T05:16:06.007Z"
   },
   {
    "duration": 7,
    "start_time": "2022-04-05T05:16:06.012Z"
   },
   {
    "duration": 15,
    "start_time": "2022-04-05T05:16:06.021Z"
   },
   {
    "duration": 58,
    "start_time": "2022-04-05T05:16:06.037Z"
   },
   {
    "duration": 10,
    "start_time": "2022-04-05T05:16:06.096Z"
   },
   {
    "duration": 10,
    "start_time": "2022-04-05T05:16:06.107Z"
   },
   {
    "duration": 11,
    "start_time": "2022-04-05T05:16:06.118Z"
   },
   {
    "duration": 8,
    "start_time": "2022-04-05T05:16:06.130Z"
   },
   {
    "duration": 15,
    "start_time": "2022-04-05T05:16:06.139Z"
   },
   {
    "duration": 5,
    "start_time": "2022-04-05T05:16:06.181Z"
   },
   {
    "duration": 15,
    "start_time": "2022-04-05T05:16:06.187Z"
   },
   {
    "duration": 4,
    "start_time": "2022-04-05T05:16:06.203Z"
   },
   {
    "duration": 20,
    "start_time": "2022-04-05T05:16:06.208Z"
   },
   {
    "duration": 4,
    "start_time": "2022-04-05T05:16:06.230Z"
   },
   {
    "duration": 23,
    "start_time": "2022-04-05T05:16:06.235Z"
   },
   {
    "duration": 28,
    "start_time": "2022-04-05T05:16:06.261Z"
   },
   {
    "duration": 19,
    "start_time": "2022-04-05T05:16:06.290Z"
   },
   {
    "duration": 19,
    "start_time": "2022-04-05T05:16:06.310Z"
   },
   {
    "duration": 437,
    "start_time": "2022-04-05T10:58:18.030Z"
   },
   {
    "duration": 73,
    "start_time": "2022-04-05T10:58:18.469Z"
   },
   {
    "duration": 15,
    "start_time": "2022-04-05T10:58:18.544Z"
   },
   {
    "duration": 90,
    "start_time": "2022-04-05T10:58:18.561Z"
   },
   {
    "duration": 0,
    "start_time": "2022-04-05T10:58:18.656Z"
   },
   {
    "duration": 0,
    "start_time": "2022-04-05T10:58:18.657Z"
   },
   {
    "duration": 0,
    "start_time": "2022-04-05T10:58:18.658Z"
   },
   {
    "duration": 0,
    "start_time": "2022-04-05T10:58:18.659Z"
   },
   {
    "duration": 0,
    "start_time": "2022-04-05T10:58:18.660Z"
   },
   {
    "duration": 0,
    "start_time": "2022-04-05T10:58:18.661Z"
   },
   {
    "duration": 0,
    "start_time": "2022-04-05T10:58:18.662Z"
   },
   {
    "duration": 0,
    "start_time": "2022-04-05T10:58:18.663Z"
   },
   {
    "duration": 0,
    "start_time": "2022-04-05T10:58:18.664Z"
   },
   {
    "duration": 0,
    "start_time": "2022-04-05T10:58:18.665Z"
   },
   {
    "duration": 0,
    "start_time": "2022-04-05T10:58:18.666Z"
   },
   {
    "duration": 0,
    "start_time": "2022-04-05T10:58:18.667Z"
   },
   {
    "duration": 0,
    "start_time": "2022-04-05T10:58:18.668Z"
   },
   {
    "duration": 0,
    "start_time": "2022-04-05T10:58:18.669Z"
   },
   {
    "duration": 0,
    "start_time": "2022-04-05T10:58:18.670Z"
   },
   {
    "duration": 0,
    "start_time": "2022-04-05T10:58:18.672Z"
   },
   {
    "duration": 0,
    "start_time": "2022-04-05T10:58:18.673Z"
   },
   {
    "duration": 0,
    "start_time": "2022-04-05T10:58:18.674Z"
   },
   {
    "duration": 0,
    "start_time": "2022-04-05T10:58:18.675Z"
   },
   {
    "duration": 0,
    "start_time": "2022-04-05T10:58:18.676Z"
   },
   {
    "duration": 0,
    "start_time": "2022-04-05T10:58:18.677Z"
   },
   {
    "duration": 0,
    "start_time": "2022-04-05T10:58:18.678Z"
   },
   {
    "duration": 0,
    "start_time": "2022-04-05T10:58:18.679Z"
   },
   {
    "duration": 0,
    "start_time": "2022-04-05T10:58:18.681Z"
   },
   {
    "duration": 0,
    "start_time": "2022-04-05T10:58:18.683Z"
   },
   {
    "duration": 0,
    "start_time": "2022-04-05T10:58:18.685Z"
   },
   {
    "duration": 0,
    "start_time": "2022-04-05T10:58:18.738Z"
   },
   {
    "duration": 0,
    "start_time": "2022-04-05T10:58:18.740Z"
   },
   {
    "duration": 0,
    "start_time": "2022-04-05T10:58:18.741Z"
   },
   {
    "duration": 0,
    "start_time": "2022-04-05T10:58:18.743Z"
   },
   {
    "duration": 0,
    "start_time": "2022-04-05T10:58:18.744Z"
   },
   {
    "duration": 0,
    "start_time": "2022-04-05T10:58:18.745Z"
   },
   {
    "duration": 0,
    "start_time": "2022-04-05T10:58:18.746Z"
   },
   {
    "duration": 0,
    "start_time": "2022-04-05T10:58:18.747Z"
   },
   {
    "duration": 0,
    "start_time": "2022-04-05T10:58:18.748Z"
   },
   {
    "duration": 0,
    "start_time": "2022-04-05T10:58:18.749Z"
   },
   {
    "duration": 0,
    "start_time": "2022-04-05T10:58:18.750Z"
   },
   {
    "duration": 0,
    "start_time": "2022-04-05T10:58:18.752Z"
   },
   {
    "duration": 0,
    "start_time": "2022-04-05T10:58:18.753Z"
   },
   {
    "duration": 4,
    "start_time": "2022-04-05T11:02:05.330Z"
   },
   {
    "duration": 8,
    "start_time": "2022-04-05T11:02:15.167Z"
   },
   {
    "duration": 9,
    "start_time": "2022-04-05T11:20:21.805Z"
   },
   {
    "duration": 11,
    "start_time": "2022-04-05T11:21:34.896Z"
   },
   {
    "duration": 13,
    "start_time": "2022-04-05T11:22:34.730Z"
   },
   {
    "duration": 10,
    "start_time": "2022-04-05T11:22:36.944Z"
   },
   {
    "duration": 368,
    "start_time": "2022-04-05T11:22:43.478Z"
   },
   {
    "duration": 80,
    "start_time": "2022-04-05T11:22:43.849Z"
   },
   {
    "duration": 17,
    "start_time": "2022-04-05T11:22:43.930Z"
   },
   {
    "duration": 4,
    "start_time": "2022-04-05T11:22:43.950Z"
   },
   {
    "duration": 84,
    "start_time": "2022-04-05T11:22:43.956Z"
   },
   {
    "duration": 0,
    "start_time": "2022-04-05T11:22:44.045Z"
   },
   {
    "duration": 0,
    "start_time": "2022-04-05T11:22:44.046Z"
   },
   {
    "duration": 0,
    "start_time": "2022-04-05T11:22:44.047Z"
   },
   {
    "duration": 0,
    "start_time": "2022-04-05T11:22:44.048Z"
   },
   {
    "duration": 0,
    "start_time": "2022-04-05T11:22:44.050Z"
   },
   {
    "duration": 0,
    "start_time": "2022-04-05T11:22:44.050Z"
   },
   {
    "duration": 0,
    "start_time": "2022-04-05T11:22:44.051Z"
   },
   {
    "duration": 0,
    "start_time": "2022-04-05T11:22:44.052Z"
   },
   {
    "duration": 0,
    "start_time": "2022-04-05T11:22:44.054Z"
   },
   {
    "duration": 0,
    "start_time": "2022-04-05T11:22:44.054Z"
   },
   {
    "duration": 0,
    "start_time": "2022-04-05T11:22:44.056Z"
   },
   {
    "duration": 0,
    "start_time": "2022-04-05T11:22:44.056Z"
   },
   {
    "duration": 0,
    "start_time": "2022-04-05T11:22:44.058Z"
   },
   {
    "duration": 0,
    "start_time": "2022-04-05T11:22:44.058Z"
   },
   {
    "duration": 0,
    "start_time": "2022-04-05T11:22:44.059Z"
   },
   {
    "duration": 0,
    "start_time": "2022-04-05T11:22:44.060Z"
   },
   {
    "duration": 0,
    "start_time": "2022-04-05T11:22:44.061Z"
   },
   {
    "duration": 0,
    "start_time": "2022-04-05T11:22:44.063Z"
   },
   {
    "duration": 0,
    "start_time": "2022-04-05T11:22:44.064Z"
   },
   {
    "duration": 0,
    "start_time": "2022-04-05T11:22:44.065Z"
   },
   {
    "duration": 0,
    "start_time": "2022-04-05T11:22:44.066Z"
   },
   {
    "duration": 0,
    "start_time": "2022-04-05T11:22:44.067Z"
   },
   {
    "duration": 0,
    "start_time": "2022-04-05T11:22:44.068Z"
   },
   {
    "duration": 0,
    "start_time": "2022-04-05T11:22:44.069Z"
   },
   {
    "duration": 0,
    "start_time": "2022-04-05T11:22:44.070Z"
   },
   {
    "duration": 0,
    "start_time": "2022-04-05T11:22:44.071Z"
   },
   {
    "duration": 0,
    "start_time": "2022-04-05T11:22:44.072Z"
   },
   {
    "duration": 0,
    "start_time": "2022-04-05T11:22:44.073Z"
   },
   {
    "duration": 0,
    "start_time": "2022-04-05T11:22:44.074Z"
   },
   {
    "duration": 0,
    "start_time": "2022-04-05T11:22:44.075Z"
   },
   {
    "duration": 0,
    "start_time": "2022-04-05T11:22:44.076Z"
   },
   {
    "duration": 0,
    "start_time": "2022-04-05T11:22:44.077Z"
   },
   {
    "duration": 0,
    "start_time": "2022-04-05T11:22:44.078Z"
   },
   {
    "duration": 0,
    "start_time": "2022-04-05T11:22:44.079Z"
   },
   {
    "duration": 0,
    "start_time": "2022-04-05T11:22:44.080Z"
   },
   {
    "duration": 0,
    "start_time": "2022-04-05T11:22:44.137Z"
   },
   {
    "duration": 0,
    "start_time": "2022-04-05T11:22:44.139Z"
   },
   {
    "duration": 0,
    "start_time": "2022-04-05T11:22:44.140Z"
   },
   {
    "duration": 8,
    "start_time": "2022-04-05T11:22:59.398Z"
   },
   {
    "duration": 386,
    "start_time": "2022-04-05T11:23:06.476Z"
   },
   {
    "duration": 78,
    "start_time": "2022-04-05T11:23:06.864Z"
   },
   {
    "duration": 17,
    "start_time": "2022-04-05T11:23:06.944Z"
   },
   {
    "duration": 3,
    "start_time": "2022-04-05T11:23:06.964Z"
   },
   {
    "duration": 10,
    "start_time": "2022-04-05T11:23:06.969Z"
   },
   {
    "duration": 11,
    "start_time": "2022-04-05T11:23:06.981Z"
   },
   {
    "duration": 44,
    "start_time": "2022-04-05T11:23:06.994Z"
   },
   {
    "duration": 10,
    "start_time": "2022-04-05T11:23:07.040Z"
   },
   {
    "duration": 6,
    "start_time": "2022-04-05T11:23:07.052Z"
   },
   {
    "duration": 7,
    "start_time": "2022-04-05T11:23:07.061Z"
   },
   {
    "duration": 7,
    "start_time": "2022-04-05T11:23:07.070Z"
   },
   {
    "duration": 6,
    "start_time": "2022-04-05T11:23:07.079Z"
   },
   {
    "duration": 6,
    "start_time": "2022-04-05T11:23:07.087Z"
   },
   {
    "duration": 56,
    "start_time": "2022-04-05T11:23:07.095Z"
   },
   {
    "duration": 6,
    "start_time": "2022-04-05T11:23:07.153Z"
   },
   {
    "duration": 9,
    "start_time": "2022-04-05T11:23:07.161Z"
   },
   {
    "duration": 15,
    "start_time": "2022-04-05T11:23:07.172Z"
   },
   {
    "duration": 17,
    "start_time": "2022-04-05T11:23:07.189Z"
   },
   {
    "duration": 36,
    "start_time": "2022-04-05T11:23:07.208Z"
   },
   {
    "duration": 14,
    "start_time": "2022-04-05T11:23:07.246Z"
   },
   {
    "duration": 29,
    "start_time": "2022-04-05T11:23:07.262Z"
   },
   {
    "duration": 18,
    "start_time": "2022-04-05T11:23:07.293Z"
   },
   {
    "duration": 54,
    "start_time": "2022-04-05T11:23:07.313Z"
   },
   {
    "duration": 6,
    "start_time": "2022-04-05T11:23:07.369Z"
   },
   {
    "duration": 25,
    "start_time": "2022-04-05T11:23:07.376Z"
   },
   {
    "duration": 6,
    "start_time": "2022-04-05T11:23:07.403Z"
   },
   {
    "duration": 6,
    "start_time": "2022-04-05T11:23:07.411Z"
   },
   {
    "duration": 18,
    "start_time": "2022-04-05T11:23:07.440Z"
   },
   {
    "duration": 35,
    "start_time": "2022-04-05T11:23:07.460Z"
   },
   {
    "duration": 46,
    "start_time": "2022-04-05T11:23:07.497Z"
   },
   {
    "duration": 12,
    "start_time": "2022-04-05T11:23:07.545Z"
   },
   {
    "duration": 14,
    "start_time": "2022-04-05T11:23:07.559Z"
   },
   {
    "duration": 16,
    "start_time": "2022-04-05T11:23:07.574Z"
   },
   {
    "duration": 18,
    "start_time": "2022-04-05T11:23:07.592Z"
   },
   {
    "duration": 12,
    "start_time": "2022-04-05T11:23:07.612Z"
   },
   {
    "duration": 16,
    "start_time": "2022-04-05T11:23:07.625Z"
   },
   {
    "duration": 7,
    "start_time": "2022-04-05T11:23:07.643Z"
   },
   {
    "duration": 30,
    "start_time": "2022-04-05T11:23:07.651Z"
   },
   {
    "duration": 4,
    "start_time": "2022-04-05T11:23:07.683Z"
   },
   {
    "duration": 24,
    "start_time": "2022-04-05T11:23:07.689Z"
   },
   {
    "duration": 14,
    "start_time": "2022-04-05T11:23:07.714Z"
   },
   {
    "duration": 28,
    "start_time": "2022-04-05T11:23:07.730Z"
   },
   {
    "duration": 22,
    "start_time": "2022-04-05T11:23:07.760Z"
   },
   {
    "duration": 5,
    "start_time": "2022-04-05T11:33:52.032Z"
   },
   {
    "duration": 15,
    "start_time": "2022-04-05T11:36:01.291Z"
   },
   {
    "duration": 4,
    "start_time": "2022-04-05T12:27:59.535Z"
   },
   {
    "duration": 225,
    "start_time": "2022-04-05T13:05:07.692Z"
   },
   {
    "duration": 384,
    "start_time": "2022-04-05T13:05:16.778Z"
   },
   {
    "duration": 74,
    "start_time": "2022-04-05T13:05:17.164Z"
   },
   {
    "duration": 18,
    "start_time": "2022-04-05T13:05:17.240Z"
   },
   {
    "duration": 200,
    "start_time": "2022-04-05T13:05:17.260Z"
   },
   {
    "duration": 0,
    "start_time": "2022-04-05T13:05:17.464Z"
   },
   {
    "duration": 0,
    "start_time": "2022-04-05T13:05:17.466Z"
   },
   {
    "duration": 0,
    "start_time": "2022-04-05T13:05:17.467Z"
   },
   {
    "duration": 0,
    "start_time": "2022-04-05T13:05:17.469Z"
   },
   {
    "duration": 0,
    "start_time": "2022-04-05T13:05:17.470Z"
   },
   {
    "duration": 0,
    "start_time": "2022-04-05T13:05:17.471Z"
   },
   {
    "duration": 0,
    "start_time": "2022-04-05T13:05:17.472Z"
   },
   {
    "duration": 0,
    "start_time": "2022-04-05T13:05:17.474Z"
   },
   {
    "duration": 0,
    "start_time": "2022-04-05T13:05:17.475Z"
   },
   {
    "duration": 0,
    "start_time": "2022-04-05T13:05:17.477Z"
   },
   {
    "duration": 0,
    "start_time": "2022-04-05T13:05:17.478Z"
   },
   {
    "duration": 0,
    "start_time": "2022-04-05T13:05:17.479Z"
   },
   {
    "duration": 0,
    "start_time": "2022-04-05T13:05:17.481Z"
   },
   {
    "duration": 0,
    "start_time": "2022-04-05T13:05:17.482Z"
   },
   {
    "duration": 0,
    "start_time": "2022-04-05T13:05:17.484Z"
   },
   {
    "duration": 0,
    "start_time": "2022-04-05T13:05:17.485Z"
   },
   {
    "duration": 0,
    "start_time": "2022-04-05T13:05:17.486Z"
   },
   {
    "duration": 0,
    "start_time": "2022-04-05T13:05:17.487Z"
   },
   {
    "duration": 0,
    "start_time": "2022-04-05T13:05:17.489Z"
   },
   {
    "duration": 0,
    "start_time": "2022-04-05T13:05:17.490Z"
   },
   {
    "duration": 0,
    "start_time": "2022-04-05T13:05:17.492Z"
   },
   {
    "duration": 0,
    "start_time": "2022-04-05T13:05:17.493Z"
   },
   {
    "duration": 0,
    "start_time": "2022-04-05T13:05:17.494Z"
   },
   {
    "duration": 1,
    "start_time": "2022-04-05T13:05:17.495Z"
   },
   {
    "duration": 0,
    "start_time": "2022-04-05T13:05:17.497Z"
   },
   {
    "duration": 0,
    "start_time": "2022-04-05T13:05:17.498Z"
   },
   {
    "duration": 0,
    "start_time": "2022-04-05T13:05:17.499Z"
   },
   {
    "duration": 0,
    "start_time": "2022-04-05T13:05:17.501Z"
   },
   {
    "duration": 0,
    "start_time": "2022-04-05T13:05:17.538Z"
   },
   {
    "duration": 0,
    "start_time": "2022-04-05T13:05:17.540Z"
   },
   {
    "duration": 0,
    "start_time": "2022-04-05T13:05:17.541Z"
   },
   {
    "duration": 0,
    "start_time": "2022-04-05T13:05:17.543Z"
   },
   {
    "duration": 0,
    "start_time": "2022-04-05T13:05:17.544Z"
   },
   {
    "duration": 0,
    "start_time": "2022-04-05T13:05:17.545Z"
   },
   {
    "duration": 0,
    "start_time": "2022-04-05T13:05:17.546Z"
   },
   {
    "duration": 0,
    "start_time": "2022-04-05T13:05:17.547Z"
   },
   {
    "duration": 0,
    "start_time": "2022-04-05T13:05:17.548Z"
   },
   {
    "duration": 0,
    "start_time": "2022-04-05T13:05:17.549Z"
   },
   {
    "duration": 0,
    "start_time": "2022-04-05T13:05:17.550Z"
   },
   {
    "duration": 0,
    "start_time": "2022-04-05T13:05:17.551Z"
   },
   {
    "duration": 0,
    "start_time": "2022-04-05T13:05:17.552Z"
   },
   {
    "duration": 0,
    "start_time": "2022-04-05T13:05:17.553Z"
   },
   {
    "duration": 2171,
    "start_time": "2022-04-05T13:25:23.628Z"
   },
   {
    "duration": 423,
    "start_time": "2022-04-05T13:26:10.908Z"
   },
   {
    "duration": 77,
    "start_time": "2022-04-05T13:26:11.333Z"
   },
   {
    "duration": 14,
    "start_time": "2022-04-05T13:26:11.412Z"
   },
   {
    "duration": 12,
    "start_time": "2022-04-05T13:26:11.427Z"
   },
   {
    "duration": 16,
    "start_time": "2022-04-05T13:26:11.442Z"
   },
   {
    "duration": 9,
    "start_time": "2022-04-05T13:26:11.459Z"
   },
   {
    "duration": 6,
    "start_time": "2022-04-05T13:26:11.470Z"
   },
   {
    "duration": 8,
    "start_time": "2022-04-05T13:26:11.477Z"
   },
   {
    "duration": 4,
    "start_time": "2022-04-05T13:26:11.486Z"
   },
   {
    "duration": 6,
    "start_time": "2022-04-05T13:26:11.492Z"
   },
   {
    "duration": 6,
    "start_time": "2022-04-05T13:26:11.500Z"
   },
   {
    "duration": 6,
    "start_time": "2022-04-05T13:26:11.537Z"
   },
   {
    "duration": 7,
    "start_time": "2022-04-05T13:26:11.545Z"
   },
   {
    "duration": 13,
    "start_time": "2022-04-05T13:26:11.555Z"
   },
   {
    "duration": 5,
    "start_time": "2022-04-05T13:26:11.569Z"
   },
   {
    "duration": 6,
    "start_time": "2022-04-05T13:26:11.576Z"
   },
   {
    "duration": 11,
    "start_time": "2022-04-05T13:26:11.583Z"
   },
   {
    "duration": 48,
    "start_time": "2022-04-05T13:26:11.596Z"
   },
   {
    "duration": 12,
    "start_time": "2022-04-05T13:26:11.646Z"
   },
   {
    "duration": 12,
    "start_time": "2022-04-05T13:26:11.659Z"
   },
   {
    "duration": 88,
    "start_time": "2022-04-05T13:26:11.673Z"
   },
   {
    "duration": 0,
    "start_time": "2022-04-05T13:26:11.763Z"
   },
   {
    "duration": 0,
    "start_time": "2022-04-05T13:26:11.764Z"
   },
   {
    "duration": 0,
    "start_time": "2022-04-05T13:26:11.765Z"
   },
   {
    "duration": 0,
    "start_time": "2022-04-05T13:26:11.766Z"
   },
   {
    "duration": 0,
    "start_time": "2022-04-05T13:26:11.767Z"
   },
   {
    "duration": 0,
    "start_time": "2022-04-05T13:26:11.767Z"
   },
   {
    "duration": 0,
    "start_time": "2022-04-05T13:26:11.768Z"
   },
   {
    "duration": 0,
    "start_time": "2022-04-05T13:26:11.769Z"
   },
   {
    "duration": 0,
    "start_time": "2022-04-05T13:26:11.770Z"
   },
   {
    "duration": 0,
    "start_time": "2022-04-05T13:26:11.770Z"
   },
   {
    "duration": 0,
    "start_time": "2022-04-05T13:26:11.771Z"
   },
   {
    "duration": 0,
    "start_time": "2022-04-05T13:26:11.772Z"
   },
   {
    "duration": 0,
    "start_time": "2022-04-05T13:26:11.773Z"
   },
   {
    "duration": 0,
    "start_time": "2022-04-05T13:26:11.774Z"
   },
   {
    "duration": 0,
    "start_time": "2022-04-05T13:26:11.775Z"
   },
   {
    "duration": 0,
    "start_time": "2022-04-05T13:26:11.775Z"
   },
   {
    "duration": 0,
    "start_time": "2022-04-05T13:26:11.776Z"
   },
   {
    "duration": 0,
    "start_time": "2022-04-05T13:26:11.777Z"
   },
   {
    "duration": 0,
    "start_time": "2022-04-05T13:26:11.779Z"
   },
   {
    "duration": 0,
    "start_time": "2022-04-05T13:26:11.780Z"
   },
   {
    "duration": 0,
    "start_time": "2022-04-05T13:26:11.781Z"
   },
   {
    "duration": 0,
    "start_time": "2022-04-05T13:26:11.781Z"
   },
   {
    "duration": 0,
    "start_time": "2022-04-05T13:26:11.783Z"
   },
   {
    "duration": 0,
    "start_time": "2022-04-05T13:26:11.784Z"
   },
   {
    "duration": 0,
    "start_time": "2022-04-05T13:26:11.785Z"
   },
   {
    "duration": 364,
    "start_time": "2022-04-05T13:28:22.281Z"
   },
   {
    "duration": 72,
    "start_time": "2022-04-05T13:28:22.647Z"
   },
   {
    "duration": 24,
    "start_time": "2022-04-05T13:28:22.720Z"
   },
   {
    "duration": 4,
    "start_time": "2022-04-05T13:28:22.746Z"
   },
   {
    "duration": 12,
    "start_time": "2022-04-05T13:28:22.751Z"
   },
   {
    "duration": 13,
    "start_time": "2022-04-05T13:28:22.764Z"
   },
   {
    "duration": 7,
    "start_time": "2022-04-05T13:28:22.779Z"
   },
   {
    "duration": 9,
    "start_time": "2022-04-05T13:28:22.788Z"
   },
   {
    "duration": 5,
    "start_time": "2022-04-05T13:28:22.799Z"
   },
   {
    "duration": 36,
    "start_time": "2022-04-05T13:28:22.807Z"
   },
   {
    "duration": 8,
    "start_time": "2022-04-05T13:28:22.844Z"
   },
   {
    "duration": 5,
    "start_time": "2022-04-05T13:28:22.854Z"
   },
   {
    "duration": 7,
    "start_time": "2022-04-05T13:28:22.861Z"
   },
   {
    "duration": 14,
    "start_time": "2022-04-05T13:28:22.869Z"
   },
   {
    "duration": 4,
    "start_time": "2022-04-05T13:28:22.885Z"
   },
   {
    "duration": 7,
    "start_time": "2022-04-05T13:28:22.891Z"
   },
   {
    "duration": 44,
    "start_time": "2022-04-05T13:28:22.900Z"
   },
   {
    "duration": 20,
    "start_time": "2022-04-05T13:28:22.946Z"
   },
   {
    "duration": 12,
    "start_time": "2022-04-05T13:28:22.968Z"
   },
   {
    "duration": 6,
    "start_time": "2022-04-05T13:28:22.981Z"
   },
   {
    "duration": 20,
    "start_time": "2022-04-05T13:28:22.989Z"
   },
   {
    "duration": 13,
    "start_time": "2022-04-05T13:28:23.010Z"
   },
   {
    "duration": 4,
    "start_time": "2022-04-05T13:28:23.037Z"
   },
   {
    "duration": 19,
    "start_time": "2022-04-05T13:28:23.043Z"
   },
   {
    "duration": 17,
    "start_time": "2022-04-05T13:28:23.064Z"
   },
   {
    "duration": 31,
    "start_time": "2022-04-05T13:28:23.083Z"
   },
   {
    "duration": 27,
    "start_time": "2022-04-05T13:28:23.115Z"
   },
   {
    "duration": 17,
    "start_time": "2022-04-05T13:28:23.145Z"
   },
   {
    "duration": 7,
    "start_time": "2022-04-05T13:28:23.164Z"
   },
   {
    "duration": 11,
    "start_time": "2022-04-05T13:28:23.173Z"
   },
   {
    "duration": 18,
    "start_time": "2022-04-05T13:28:23.186Z"
   },
   {
    "duration": 63,
    "start_time": "2022-04-05T13:28:23.205Z"
   },
   {
    "duration": 11,
    "start_time": "2022-04-05T13:28:23.270Z"
   },
   {
    "duration": 11,
    "start_time": "2022-04-05T13:28:23.282Z"
   },
   {
    "duration": 12,
    "start_time": "2022-04-05T13:28:23.295Z"
   },
   {
    "duration": 33,
    "start_time": "2022-04-05T13:28:23.309Z"
   },
   {
    "duration": 20,
    "start_time": "2022-04-05T13:28:23.343Z"
   },
   {
    "duration": 9,
    "start_time": "2022-04-05T13:28:23.365Z"
   },
   {
    "duration": 14,
    "start_time": "2022-04-05T13:28:23.375Z"
   },
   {
    "duration": 5,
    "start_time": "2022-04-05T13:28:23.391Z"
   },
   {
    "duration": 45,
    "start_time": "2022-04-05T13:28:23.398Z"
   },
   {
    "duration": 4,
    "start_time": "2022-04-05T13:28:23.445Z"
   },
   {
    "duration": 20,
    "start_time": "2022-04-05T13:28:23.451Z"
   },
   {
    "duration": 12,
    "start_time": "2022-04-05T13:28:23.473Z"
   },
   {
    "duration": 2430,
    "start_time": "2022-04-05T13:28:23.487Z"
   },
   {
    "duration": 0,
    "start_time": "2022-04-05T13:28:25.918Z"
   },
   {
    "duration": 0,
    "start_time": "2022-04-05T13:28:25.920Z"
   },
   {
    "duration": 13,
    "start_time": "2022-04-05T13:30:06.997Z"
   },
   {
    "duration": 23,
    "start_time": "2022-04-05T13:32:16.300Z"
   },
   {
    "duration": 19,
    "start_time": "2022-04-05T13:32:51.651Z"
   },
   {
    "duration": 20,
    "start_time": "2022-04-05T13:33:12.505Z"
   },
   {
    "duration": 16,
    "start_time": "2022-04-05T13:42:23.852Z"
   },
   {
    "duration": 1848,
    "start_time": "2022-04-05T14:11:38.259Z"
   },
   {
    "duration": 15,
    "start_time": "2022-04-05T14:12:02.626Z"
   },
   {
    "duration": 2037,
    "start_time": "2022-04-05T14:12:17.763Z"
   },
   {
    "duration": 10,
    "start_time": "2022-04-05T14:14:34.614Z"
   },
   {
    "duration": 9,
    "start_time": "2022-04-05T14:15:05.971Z"
   },
   {
    "duration": 15,
    "start_time": "2022-04-05T14:16:01.106Z"
   },
   {
    "duration": 11,
    "start_time": "2022-04-05T14:16:35.186Z"
   },
   {
    "duration": 10,
    "start_time": "2022-04-05T14:17:38.551Z"
   },
   {
    "duration": 14,
    "start_time": "2022-04-05T14:18:36.626Z"
   },
   {
    "duration": 10,
    "start_time": "2022-04-05T14:19:36.066Z"
   },
   {
    "duration": 427,
    "start_time": "2022-04-05T14:19:49.838Z"
   },
   {
    "duration": 85,
    "start_time": "2022-04-05T14:19:50.267Z"
   },
   {
    "duration": 18,
    "start_time": "2022-04-05T14:19:50.354Z"
   },
   {
    "duration": 4,
    "start_time": "2022-04-05T14:19:50.375Z"
   },
   {
    "duration": 14,
    "start_time": "2022-04-05T14:19:50.381Z"
   },
   {
    "duration": 167,
    "start_time": "2022-04-05T14:19:50.397Z"
   },
   {
    "duration": 0,
    "start_time": "2022-04-05T14:19:50.568Z"
   },
   {
    "duration": 0,
    "start_time": "2022-04-05T14:19:50.569Z"
   },
   {
    "duration": 0,
    "start_time": "2022-04-05T14:19:50.570Z"
   },
   {
    "duration": 0,
    "start_time": "2022-04-05T14:19:50.572Z"
   },
   {
    "duration": 0,
    "start_time": "2022-04-05T14:19:50.573Z"
   },
   {
    "duration": 0,
    "start_time": "2022-04-05T14:19:50.574Z"
   },
   {
    "duration": 0,
    "start_time": "2022-04-05T14:19:50.575Z"
   },
   {
    "duration": 0,
    "start_time": "2022-04-05T14:19:50.576Z"
   },
   {
    "duration": 0,
    "start_time": "2022-04-05T14:19:50.577Z"
   },
   {
    "duration": 0,
    "start_time": "2022-04-05T14:19:50.578Z"
   },
   {
    "duration": 0,
    "start_time": "2022-04-05T14:19:50.579Z"
   },
   {
    "duration": 0,
    "start_time": "2022-04-05T14:19:50.580Z"
   },
   {
    "duration": 0,
    "start_time": "2022-04-05T14:19:50.581Z"
   },
   {
    "duration": 0,
    "start_time": "2022-04-05T14:19:50.582Z"
   },
   {
    "duration": 0,
    "start_time": "2022-04-05T14:19:50.583Z"
   },
   {
    "duration": 0,
    "start_time": "2022-04-05T14:19:50.584Z"
   },
   {
    "duration": 0,
    "start_time": "2022-04-05T14:19:50.585Z"
   },
   {
    "duration": 0,
    "start_time": "2022-04-05T14:19:50.587Z"
   },
   {
    "duration": 0,
    "start_time": "2022-04-05T14:19:50.587Z"
   },
   {
    "duration": 0,
    "start_time": "2022-04-05T14:19:50.589Z"
   },
   {
    "duration": 0,
    "start_time": "2022-04-05T14:19:50.590Z"
   },
   {
    "duration": 0,
    "start_time": "2022-04-05T14:19:50.591Z"
   },
   {
    "duration": 0,
    "start_time": "2022-04-05T14:19:50.592Z"
   },
   {
    "duration": 0,
    "start_time": "2022-04-05T14:19:50.593Z"
   },
   {
    "duration": 0,
    "start_time": "2022-04-05T14:19:50.594Z"
   },
   {
    "duration": 0,
    "start_time": "2022-04-05T14:19:50.595Z"
   },
   {
    "duration": 0,
    "start_time": "2022-04-05T14:19:50.596Z"
   },
   {
    "duration": 0,
    "start_time": "2022-04-05T14:19:50.597Z"
   },
   {
    "duration": 0,
    "start_time": "2022-04-05T14:19:50.598Z"
   },
   {
    "duration": 0,
    "start_time": "2022-04-05T14:19:50.599Z"
   },
   {
    "duration": 0,
    "start_time": "2022-04-05T14:19:50.600Z"
   },
   {
    "duration": 0,
    "start_time": "2022-04-05T14:19:50.601Z"
   },
   {
    "duration": 0,
    "start_time": "2022-04-05T14:19:50.602Z"
   },
   {
    "duration": 0,
    "start_time": "2022-04-05T14:19:50.603Z"
   },
   {
    "duration": 0,
    "start_time": "2022-04-05T14:19:50.604Z"
   },
   {
    "duration": 0,
    "start_time": "2022-04-05T14:19:50.644Z"
   },
   {
    "duration": 0,
    "start_time": "2022-04-05T14:19:50.646Z"
   },
   {
    "duration": 0,
    "start_time": "2022-04-05T14:19:50.649Z"
   },
   {
    "duration": 0,
    "start_time": "2022-04-05T14:19:50.651Z"
   },
   {
    "duration": 0,
    "start_time": "2022-04-05T14:19:50.653Z"
   },
   {
    "duration": 0,
    "start_time": "2022-04-05T14:19:50.654Z"
   },
   {
    "duration": 0,
    "start_time": "2022-04-05T14:19:50.656Z"
   },
   {
    "duration": 0,
    "start_time": "2022-04-05T14:19:50.658Z"
   },
   {
    "duration": 7,
    "start_time": "2022-04-05T14:22:15.964Z"
   },
   {
    "duration": 7,
    "start_time": "2022-04-05T14:23:15.453Z"
   },
   {
    "duration": 10,
    "start_time": "2022-04-05T14:23:49.632Z"
   },
   {
    "duration": 64,
    "start_time": "2022-04-05T14:40:30.107Z"
   },
   {
    "duration": 11,
    "start_time": "2022-04-05T14:40:56.303Z"
   },
   {
    "duration": 4,
    "start_time": "2022-04-05T14:41:22.135Z"
   },
   {
    "duration": 4,
    "start_time": "2022-04-05T14:41:49.031Z"
   },
   {
    "duration": 381,
    "start_time": "2022-04-05T14:42:00.975Z"
   },
   {
    "duration": 76,
    "start_time": "2022-04-05T14:42:01.358Z"
   },
   {
    "duration": 14,
    "start_time": "2022-04-05T14:42:01.436Z"
   },
   {
    "duration": 12,
    "start_time": "2022-04-05T14:42:01.452Z"
   },
   {
    "duration": 29,
    "start_time": "2022-04-05T14:42:01.466Z"
   },
   {
    "duration": 9,
    "start_time": "2022-04-05T14:42:01.497Z"
   },
   {
    "duration": 16,
    "start_time": "2022-04-05T14:42:01.507Z"
   },
   {
    "duration": 11,
    "start_time": "2022-04-05T14:42:01.524Z"
   },
   {
    "duration": 11,
    "start_time": "2022-04-05T14:42:01.536Z"
   },
   {
    "duration": 7,
    "start_time": "2022-04-05T14:42:01.549Z"
   },
   {
    "duration": 14,
    "start_time": "2022-04-05T14:42:01.558Z"
   },
   {
    "duration": 12,
    "start_time": "2022-04-05T14:42:01.574Z"
   },
   {
    "duration": 13,
    "start_time": "2022-04-05T14:42:01.588Z"
   },
   {
    "duration": 11,
    "start_time": "2022-04-05T14:42:01.605Z"
   },
   {
    "duration": 23,
    "start_time": "2022-04-05T14:42:01.618Z"
   },
   {
    "duration": 6,
    "start_time": "2022-04-05T14:42:01.642Z"
   },
   {
    "duration": 11,
    "start_time": "2022-04-05T14:42:01.649Z"
   },
   {
    "duration": 17,
    "start_time": "2022-04-05T14:42:01.661Z"
   },
   {
    "duration": 46,
    "start_time": "2022-04-05T14:42:01.680Z"
   },
   {
    "duration": 13,
    "start_time": "2022-04-05T14:42:01.728Z"
   },
   {
    "duration": 16,
    "start_time": "2022-04-05T14:42:01.743Z"
   },
   {
    "duration": 26,
    "start_time": "2022-04-05T14:42:01.761Z"
   },
   {
    "duration": 10,
    "start_time": "2022-04-05T14:42:01.789Z"
   },
   {
    "duration": 9,
    "start_time": "2022-04-05T14:42:01.801Z"
   },
   {
    "duration": 28,
    "start_time": "2022-04-05T14:42:01.812Z"
   },
   {
    "duration": 27,
    "start_time": "2022-04-05T14:42:01.841Z"
   },
   {
    "duration": 31,
    "start_time": "2022-04-05T14:42:01.870Z"
   },
   {
    "duration": 6,
    "start_time": "2022-04-05T14:42:01.903Z"
   },
   {
    "duration": 34,
    "start_time": "2022-04-05T14:42:01.910Z"
   },
   {
    "duration": 18,
    "start_time": "2022-04-05T14:42:01.946Z"
   },
   {
    "duration": 16,
    "start_time": "2022-04-05T14:42:01.967Z"
   },
   {
    "duration": 32,
    "start_time": "2022-04-05T14:42:01.985Z"
   },
   {
    "duration": 32,
    "start_time": "2022-04-05T14:42:02.019Z"
   },
   {
    "duration": 12,
    "start_time": "2022-04-05T14:42:02.053Z"
   },
   {
    "duration": 27,
    "start_time": "2022-04-05T14:42:02.067Z"
   },
   {
    "duration": 24,
    "start_time": "2022-04-05T14:42:02.096Z"
   },
   {
    "duration": 12,
    "start_time": "2022-04-05T14:42:02.122Z"
   },
   {
    "duration": 23,
    "start_time": "2022-04-05T14:42:02.135Z"
   },
   {
    "duration": 18,
    "start_time": "2022-04-05T14:42:02.160Z"
   },
   {
    "duration": 14,
    "start_time": "2022-04-05T14:42:02.179Z"
   },
   {
    "duration": 3,
    "start_time": "2022-04-05T14:42:02.197Z"
   },
   {
    "duration": 35,
    "start_time": "2022-04-05T14:42:02.201Z"
   },
   {
    "duration": 4,
    "start_time": "2022-04-05T14:42:02.238Z"
   },
   {
    "duration": 27,
    "start_time": "2022-04-05T14:42:02.243Z"
   },
   {
    "duration": 12,
    "start_time": "2022-04-05T14:42:02.272Z"
   },
   {
    "duration": 21,
    "start_time": "2022-04-05T14:42:02.285Z"
   },
   {
    "duration": 34,
    "start_time": "2022-04-05T14:42:02.308Z"
   },
   {
    "duration": 32,
    "start_time": "2022-04-05T14:42:02.344Z"
   },
   {
    "duration": 21,
    "start_time": "2022-04-05T14:42:02.378Z"
   },
   {
    "duration": 429,
    "start_time": "2022-04-05T20:39:42.930Z"
   },
   {
    "duration": 76,
    "start_time": "2022-04-05T20:39:43.361Z"
   },
   {
    "duration": 17,
    "start_time": "2022-04-05T20:39:43.439Z"
   },
   {
    "duration": 6,
    "start_time": "2022-04-05T20:39:43.459Z"
   },
   {
    "duration": 17,
    "start_time": "2022-04-05T20:39:43.467Z"
   },
   {
    "duration": 4,
    "start_time": "2022-04-05T20:39:43.486Z"
   },
   {
    "duration": 11,
    "start_time": "2022-04-05T20:39:43.492Z"
   },
   {
    "duration": 7,
    "start_time": "2022-04-05T20:39:43.537Z"
   },
   {
    "duration": 11,
    "start_time": "2022-04-05T20:39:43.546Z"
   },
   {
    "duration": 4,
    "start_time": "2022-04-05T20:39:43.562Z"
   },
   {
    "duration": 7,
    "start_time": "2022-04-05T20:39:43.568Z"
   },
   {
    "duration": 7,
    "start_time": "2022-04-05T20:39:43.576Z"
   },
   {
    "duration": 6,
    "start_time": "2022-04-05T20:39:43.585Z"
   },
   {
    "duration": 46,
    "start_time": "2022-04-05T20:39:43.593Z"
   },
   {
    "duration": 19,
    "start_time": "2022-04-05T20:39:43.641Z"
   },
   {
    "duration": 6,
    "start_time": "2022-04-05T20:39:43.662Z"
   },
   {
    "duration": 11,
    "start_time": "2022-04-05T20:39:43.670Z"
   },
   {
    "duration": 16,
    "start_time": "2022-04-05T20:39:43.683Z"
   },
   {
    "duration": 18,
    "start_time": "2022-04-05T20:39:43.701Z"
   },
   {
    "duration": 14,
    "start_time": "2022-04-05T20:39:43.737Z"
   },
   {
    "duration": 7,
    "start_time": "2022-04-05T20:39:43.752Z"
   },
   {
    "duration": 10,
    "start_time": "2022-04-05T20:39:43.760Z"
   },
   {
    "duration": 4,
    "start_time": "2022-04-05T20:39:43.772Z"
   },
   {
    "duration": 4,
    "start_time": "2022-04-05T20:39:43.778Z"
   },
   {
    "duration": 17,
    "start_time": "2022-04-05T20:39:43.784Z"
   },
   {
    "duration": 18,
    "start_time": "2022-04-05T20:39:43.838Z"
   },
   {
    "duration": 32,
    "start_time": "2022-04-05T20:39:43.858Z"
   },
   {
    "duration": 6,
    "start_time": "2022-04-05T20:39:43.893Z"
   },
   {
    "duration": 42,
    "start_time": "2022-04-05T20:39:43.900Z"
   },
   {
    "duration": 7,
    "start_time": "2022-04-05T20:39:43.945Z"
   },
   {
    "duration": 6,
    "start_time": "2022-04-05T20:39:43.954Z"
   },
   {
    "duration": 22,
    "start_time": "2022-04-05T20:39:43.961Z"
   },
   {
    "duration": 54,
    "start_time": "2022-04-05T20:39:43.987Z"
   },
   {
    "duration": 12,
    "start_time": "2022-04-05T20:39:44.043Z"
   },
   {
    "duration": 10,
    "start_time": "2022-04-05T20:39:44.057Z"
   },
   {
    "duration": 12,
    "start_time": "2022-04-05T20:39:44.069Z"
   },
   {
    "duration": 9,
    "start_time": "2022-04-05T20:39:44.083Z"
   },
   {
    "duration": 45,
    "start_time": "2022-04-05T20:39:44.094Z"
   },
   {
    "duration": 6,
    "start_time": "2022-04-05T20:39:44.140Z"
   },
   {
    "duration": 18,
    "start_time": "2022-04-05T20:39:44.147Z"
   },
   {
    "duration": 10,
    "start_time": "2022-04-05T20:39:44.166Z"
   },
   {
    "duration": 25,
    "start_time": "2022-04-05T20:39:44.177Z"
   },
   {
    "duration": 35,
    "start_time": "2022-04-05T20:39:44.204Z"
   },
   {
    "duration": 20,
    "start_time": "2022-04-05T20:39:44.241Z"
   },
   {
    "duration": 13,
    "start_time": "2022-04-05T20:39:44.263Z"
   },
   {
    "duration": 22,
    "start_time": "2022-04-05T20:39:44.277Z"
   },
   {
    "duration": 39,
    "start_time": "2022-04-05T20:39:44.301Z"
   },
   {
    "duration": 29,
    "start_time": "2022-04-05T20:39:44.342Z"
   },
   {
    "duration": 21,
    "start_time": "2022-04-05T20:39:44.373Z"
   },
   {
    "duration": 425,
    "start_time": "2022-04-05T20:47:06.320Z"
   },
   {
    "duration": 73,
    "start_time": "2022-04-05T20:47:06.747Z"
   },
   {
    "duration": 19,
    "start_time": "2022-04-05T20:47:06.821Z"
   },
   {
    "duration": 3,
    "start_time": "2022-04-05T20:47:06.843Z"
   },
   {
    "duration": 19,
    "start_time": "2022-04-05T20:47:06.847Z"
   },
   {
    "duration": 3,
    "start_time": "2022-04-05T20:47:06.868Z"
   },
   {
    "duration": 31,
    "start_time": "2022-04-05T20:47:06.872Z"
   },
   {
    "duration": 20,
    "start_time": "2022-04-05T20:47:06.905Z"
   },
   {
    "duration": 17,
    "start_time": "2022-04-05T20:47:06.927Z"
   },
   {
    "duration": 8,
    "start_time": "2022-04-05T20:47:06.946Z"
   },
   {
    "duration": 7,
    "start_time": "2022-04-05T20:47:06.956Z"
   },
   {
    "duration": 7,
    "start_time": "2022-04-05T20:47:06.965Z"
   },
   {
    "duration": 15,
    "start_time": "2022-04-05T20:47:06.974Z"
   },
   {
    "duration": 18,
    "start_time": "2022-04-05T20:47:06.991Z"
   },
   {
    "duration": 26,
    "start_time": "2022-04-05T20:47:07.011Z"
   },
   {
    "duration": 14,
    "start_time": "2022-04-05T20:47:07.038Z"
   },
   {
    "duration": 16,
    "start_time": "2022-04-05T20:47:07.053Z"
   },
   {
    "duration": 25,
    "start_time": "2022-04-05T20:47:07.070Z"
   },
   {
    "duration": 24,
    "start_time": "2022-04-05T20:47:07.097Z"
   },
   {
    "duration": 27,
    "start_time": "2022-04-05T20:47:07.123Z"
   },
   {
    "duration": 3,
    "start_time": "2022-04-05T20:47:07.151Z"
   },
   {
    "duration": 22,
    "start_time": "2022-04-05T20:47:07.156Z"
   },
   {
    "duration": 6,
    "start_time": "2022-04-05T20:47:07.180Z"
   },
   {
    "duration": 9,
    "start_time": "2022-04-05T20:47:07.187Z"
   },
   {
    "duration": 26,
    "start_time": "2022-04-05T20:47:07.197Z"
   },
   {
    "duration": 17,
    "start_time": "2022-04-05T20:47:07.225Z"
   },
   {
    "duration": 31,
    "start_time": "2022-04-05T20:47:07.244Z"
   },
   {
    "duration": 5,
    "start_time": "2022-04-05T20:47:07.279Z"
   },
   {
    "duration": 23,
    "start_time": "2022-04-05T20:47:07.285Z"
   },
   {
    "duration": 13,
    "start_time": "2022-04-05T20:47:07.310Z"
   },
   {
    "duration": 8,
    "start_time": "2022-04-05T20:47:07.337Z"
   },
   {
    "duration": 25,
    "start_time": "2022-04-05T20:47:07.347Z"
   },
   {
    "duration": 33,
    "start_time": "2022-04-05T20:47:07.374Z"
   },
   {
    "duration": 31,
    "start_time": "2022-04-05T20:47:07.408Z"
   },
   {
    "duration": 12,
    "start_time": "2022-04-05T20:47:07.441Z"
   },
   {
    "duration": 16,
    "start_time": "2022-04-05T20:47:07.454Z"
   },
   {
    "duration": 24,
    "start_time": "2022-04-05T20:47:07.471Z"
   },
   {
    "duration": 19,
    "start_time": "2022-04-05T20:47:07.497Z"
   },
   {
    "duration": 21,
    "start_time": "2022-04-05T20:47:07.518Z"
   },
   {
    "duration": 19,
    "start_time": "2022-04-05T20:47:07.541Z"
   },
   {
    "duration": 3,
    "start_time": "2022-04-05T20:47:07.562Z"
   },
   {
    "duration": 29,
    "start_time": "2022-04-05T20:47:07.567Z"
   },
   {
    "duration": 4,
    "start_time": "2022-04-05T20:47:07.598Z"
   },
   {
    "duration": 23,
    "start_time": "2022-04-05T20:47:07.603Z"
   },
   {
    "duration": 19,
    "start_time": "2022-04-05T20:47:07.627Z"
   },
   {
    "duration": 46,
    "start_time": "2022-04-05T20:47:07.648Z"
   },
   {
    "duration": 34,
    "start_time": "2022-04-05T20:47:07.696Z"
   },
   {
    "duration": 19,
    "start_time": "2022-04-05T20:47:07.731Z"
   },
   {
    "duration": 26,
    "start_time": "2022-04-05T20:47:07.752Z"
   },
   {
    "duration": 10,
    "start_time": "2022-04-05T20:53:11.504Z"
   },
   {
    "duration": 424,
    "start_time": "2022-04-05T21:21:39.022Z"
   },
   {
    "duration": 74,
    "start_time": "2022-04-05T21:21:39.448Z"
   },
   {
    "duration": 20,
    "start_time": "2022-04-05T21:21:39.524Z"
   },
   {
    "duration": 3,
    "start_time": "2022-04-05T21:21:39.546Z"
   },
   {
    "duration": 8,
    "start_time": "2022-04-05T21:21:39.551Z"
   },
   {
    "duration": 2,
    "start_time": "2022-04-05T21:21:39.561Z"
   },
   {
    "duration": 12,
    "start_time": "2022-04-05T21:21:39.565Z"
   },
   {
    "duration": 5,
    "start_time": "2022-04-05T21:21:39.579Z"
   },
   {
    "duration": 9,
    "start_time": "2022-04-05T21:21:39.586Z"
   },
   {
    "duration": 9,
    "start_time": "2022-04-05T21:21:39.598Z"
   },
   {
    "duration": 5,
    "start_time": "2022-04-05T21:21:39.638Z"
   },
   {
    "duration": 7,
    "start_time": "2022-04-05T21:21:39.645Z"
   },
   {
    "duration": 6,
    "start_time": "2022-04-05T21:21:39.653Z"
   },
   {
    "duration": 5,
    "start_time": "2022-04-05T21:21:39.660Z"
   },
   {
    "duration": 16,
    "start_time": "2022-04-05T21:21:39.667Z"
   },
   {
    "duration": 5,
    "start_time": "2022-04-05T21:21:39.684Z"
   },
   {
    "duration": 6,
    "start_time": "2022-04-05T21:21:39.690Z"
   },
   {
    "duration": 43,
    "start_time": "2022-04-05T21:21:39.698Z"
   },
   {
    "duration": 14,
    "start_time": "2022-04-05T21:21:39.743Z"
   },
   {
    "duration": 20,
    "start_time": "2022-04-05T21:21:39.759Z"
   },
   {
    "duration": 10,
    "start_time": "2022-04-05T21:21:39.780Z"
   },
   {
    "duration": 5,
    "start_time": "2022-04-05T21:21:39.791Z"
   },
   {
    "duration": 9,
    "start_time": "2022-04-05T21:21:39.798Z"
   },
   {
    "duration": 40,
    "start_time": "2022-04-05T21:21:39.808Z"
   },
   {
    "duration": 15,
    "start_time": "2022-04-05T21:21:39.850Z"
   },
   {
    "duration": 31,
    "start_time": "2022-04-05T21:21:39.867Z"
   },
   {
    "duration": 5,
    "start_time": "2022-04-05T21:21:39.900Z"
   },
   {
    "duration": 44,
    "start_time": "2022-04-05T21:21:39.908Z"
   },
   {
    "duration": 9,
    "start_time": "2022-04-05T21:21:39.954Z"
   },
   {
    "duration": 5,
    "start_time": "2022-04-05T21:21:39.965Z"
   },
   {
    "duration": 17,
    "start_time": "2022-04-05T21:21:39.972Z"
   },
   {
    "duration": 57,
    "start_time": "2022-04-05T21:21:39.991Z"
   },
   {
    "duration": 11,
    "start_time": "2022-04-05T21:21:40.050Z"
   },
   {
    "duration": 10,
    "start_time": "2022-04-05T21:21:40.063Z"
   },
   {
    "duration": 12,
    "start_time": "2022-04-05T21:21:40.075Z"
   },
   {
    "duration": 8,
    "start_time": "2022-04-05T21:21:40.089Z"
   },
   {
    "duration": 46,
    "start_time": "2022-04-05T21:21:40.098Z"
   },
   {
    "duration": 5,
    "start_time": "2022-04-05T21:21:40.146Z"
   },
   {
    "duration": 17,
    "start_time": "2022-04-05T21:21:40.153Z"
   },
   {
    "duration": 4,
    "start_time": "2022-04-05T21:21:40.171Z"
   },
   {
    "duration": 23,
    "start_time": "2022-04-05T21:21:40.177Z"
   },
   {
    "duration": 4,
    "start_time": "2022-04-05T21:21:40.202Z"
   },
   {
    "duration": 14,
    "start_time": "2022-04-05T21:21:40.237Z"
   },
   {
    "duration": 12,
    "start_time": "2022-04-05T21:21:40.252Z"
   },
   {
    "duration": 17,
    "start_time": "2022-04-05T21:21:40.265Z"
   },
   {
    "duration": 31,
    "start_time": "2022-04-05T21:21:40.283Z"
   },
   {
    "duration": 19,
    "start_time": "2022-04-05T21:21:40.337Z"
   },
   {
    "duration": 19,
    "start_time": "2022-04-05T21:21:40.358Z"
   },
   {
    "duration": 388,
    "start_time": "2022-04-06T10:04:32.950Z"
   },
   {
    "duration": 72,
    "start_time": "2022-04-06T10:04:33.340Z"
   },
   {
    "duration": 14,
    "start_time": "2022-04-06T10:04:33.413Z"
   },
   {
    "duration": 3,
    "start_time": "2022-04-06T10:04:33.437Z"
   },
   {
    "duration": 10,
    "start_time": "2022-04-06T10:04:33.441Z"
   },
   {
    "duration": 186,
    "start_time": "2022-04-06T10:04:33.452Z"
   },
   {
    "duration": 2,
    "start_time": "2022-04-06T10:04:33.640Z"
   },
   {
    "duration": 10,
    "start_time": "2022-04-06T10:04:33.644Z"
   },
   {
    "duration": 9,
    "start_time": "2022-04-06T10:04:33.655Z"
   },
   {
    "duration": 4,
    "start_time": "2022-04-06T10:04:33.667Z"
   },
   {
    "duration": 7,
    "start_time": "2022-04-06T10:04:33.673Z"
   },
   {
    "duration": 8,
    "start_time": "2022-04-06T10:04:33.682Z"
   },
   {
    "duration": 5,
    "start_time": "2022-04-06T10:04:33.692Z"
   },
   {
    "duration": 12,
    "start_time": "2022-04-06T10:04:33.699Z"
   },
   {
    "duration": 15,
    "start_time": "2022-04-06T10:04:33.738Z"
   },
   {
    "duration": 5,
    "start_time": "2022-04-06T10:04:33.755Z"
   },
   {
    "duration": 11,
    "start_time": "2022-04-06T10:04:33.762Z"
   },
   {
    "duration": 11,
    "start_time": "2022-04-06T10:04:33.775Z"
   },
   {
    "duration": 15,
    "start_time": "2022-04-06T10:04:33.788Z"
   },
   {
    "duration": 22,
    "start_time": "2022-04-06T10:04:33.837Z"
   },
   {
    "duration": 11,
    "start_time": "2022-04-06T10:04:33.861Z"
   },
   {
    "duration": 4,
    "start_time": "2022-04-06T10:04:33.874Z"
   },
   {
    "duration": 8,
    "start_time": "2022-04-06T10:04:33.879Z"
   },
   {
    "duration": 15,
    "start_time": "2022-04-06T10:04:33.889Z"
   },
   {
    "duration": 47,
    "start_time": "2022-04-06T10:04:33.906Z"
   },
   {
    "duration": 31,
    "start_time": "2022-04-06T10:04:33.955Z"
   },
   {
    "duration": 6,
    "start_time": "2022-04-06T10:04:33.988Z"
   },
   {
    "duration": 40,
    "start_time": "2022-04-06T10:04:33.998Z"
   },
   {
    "duration": 7,
    "start_time": "2022-04-06T10:04:34.040Z"
   },
   {
    "duration": 5,
    "start_time": "2022-04-06T10:04:34.049Z"
   },
   {
    "duration": 17,
    "start_time": "2022-04-06T10:04:34.056Z"
   },
   {
    "duration": 31,
    "start_time": "2022-04-06T10:04:34.074Z"
   },
   {
    "duration": 12,
    "start_time": "2022-04-06T10:04:34.138Z"
   },
   {
    "duration": 10,
    "start_time": "2022-04-06T10:04:34.151Z"
   },
   {
    "duration": 11,
    "start_time": "2022-04-06T10:04:34.163Z"
   },
   {
    "duration": 8,
    "start_time": "2022-04-06T10:04:34.175Z"
   },
   {
    "duration": 13,
    "start_time": "2022-04-06T10:04:34.184Z"
   },
   {
    "duration": 39,
    "start_time": "2022-04-06T10:04:34.199Z"
   },
   {
    "duration": 13,
    "start_time": "2022-04-06T10:04:34.240Z"
   },
   {
    "duration": 8,
    "start_time": "2022-04-06T10:04:34.254Z"
   },
   {
    "duration": 22,
    "start_time": "2022-04-06T10:04:34.264Z"
   },
   {
    "duration": 3,
    "start_time": "2022-04-06T10:04:34.288Z"
   },
   {
    "duration": 16,
    "start_time": "2022-04-06T10:04:34.293Z"
   },
   {
    "duration": 29,
    "start_time": "2022-04-06T10:04:34.310Z"
   },
   {
    "duration": 14,
    "start_time": "2022-04-06T10:04:34.340Z"
   },
   {
    "duration": 24,
    "start_time": "2022-04-06T10:04:34.355Z"
   },
   {
    "duration": 18,
    "start_time": "2022-04-06T10:04:34.381Z"
   },
   {
    "duration": 49,
    "start_time": "2022-04-06T10:04:34.400Z"
   },
   {
    "duration": 392,
    "start_time": "2022-04-06T10:08:55.047Z"
   },
   {
    "duration": 75,
    "start_time": "2022-04-06T10:08:55.441Z"
   },
   {
    "duration": 20,
    "start_time": "2022-04-06T10:08:55.517Z"
   },
   {
    "duration": 4,
    "start_time": "2022-04-06T10:08:55.539Z"
   },
   {
    "duration": 11,
    "start_time": "2022-04-06T10:08:55.544Z"
   },
   {
    "duration": 191,
    "start_time": "2022-04-06T10:08:55.557Z"
   },
   {
    "duration": 2,
    "start_time": "2022-04-06T10:08:55.749Z"
   },
   {
    "duration": 10,
    "start_time": "2022-04-06T10:08:55.753Z"
   },
   {
    "duration": 8,
    "start_time": "2022-04-06T10:08:55.765Z"
   },
   {
    "duration": 3,
    "start_time": "2022-04-06T10:08:55.776Z"
   },
   {
    "duration": 11,
    "start_time": "2022-04-06T10:08:55.781Z"
   },
   {
    "duration": 6,
    "start_time": "2022-04-06T10:08:55.794Z"
   },
   {
    "duration": 5,
    "start_time": "2022-04-06T10:08:55.802Z"
   },
   {
    "duration": 33,
    "start_time": "2022-04-06T10:08:55.808Z"
   },
   {
    "duration": 20,
    "start_time": "2022-04-06T10:08:55.842Z"
   },
   {
    "duration": 7,
    "start_time": "2022-04-06T10:08:55.863Z"
   },
   {
    "duration": 8,
    "start_time": "2022-04-06T10:08:55.872Z"
   },
   {
    "duration": 11,
    "start_time": "2022-04-06T10:08:55.881Z"
   },
   {
    "duration": 14,
    "start_time": "2022-04-06T10:08:55.894Z"
   },
   {
    "duration": 41,
    "start_time": "2022-04-06T10:08:55.910Z"
   },
   {
    "duration": 9,
    "start_time": "2022-04-06T10:08:55.953Z"
   },
   {
    "duration": 4,
    "start_time": "2022-04-06T10:08:55.963Z"
   },
   {
    "duration": 5,
    "start_time": "2022-04-06T10:08:55.969Z"
   },
   {
    "duration": 15,
    "start_time": "2022-04-06T10:08:55.976Z"
   },
   {
    "duration": 15,
    "start_time": "2022-04-06T10:08:55.993Z"
   },
   {
    "duration": 53,
    "start_time": "2022-04-06T10:08:56.009Z"
   },
   {
    "duration": 5,
    "start_time": "2022-04-06T10:08:56.063Z"
   },
   {
    "duration": 17,
    "start_time": "2022-04-06T10:08:56.071Z"
   },
   {
    "duration": 5,
    "start_time": "2022-04-06T10:08:56.090Z"
   },
   {
    "duration": 11,
    "start_time": "2022-04-06T10:08:56.097Z"
   },
   {
    "duration": 43,
    "start_time": "2022-04-06T10:08:56.110Z"
   },
   {
    "duration": 30,
    "start_time": "2022-04-06T10:08:56.155Z"
   },
   {
    "duration": 12,
    "start_time": "2022-04-06T10:08:56.186Z"
   },
   {
    "duration": 9,
    "start_time": "2022-04-06T10:08:56.200Z"
   },
   {
    "duration": 37,
    "start_time": "2022-04-06T10:08:56.211Z"
   },
   {
    "duration": 7,
    "start_time": "2022-04-06T10:08:56.249Z"
   },
   {
    "duration": 14,
    "start_time": "2022-04-06T10:08:56.257Z"
   },
   {
    "duration": 5,
    "start_time": "2022-04-06T10:08:56.273Z"
   },
   {
    "duration": 12,
    "start_time": "2022-04-06T10:08:56.280Z"
   },
   {
    "duration": 6,
    "start_time": "2022-04-06T10:08:56.293Z"
   },
   {
    "duration": 54,
    "start_time": "2022-04-06T10:08:56.301Z"
   },
   {
    "duration": 4,
    "start_time": "2022-04-06T10:08:56.357Z"
   },
   {
    "duration": 14,
    "start_time": "2022-04-06T10:08:56.362Z"
   },
   {
    "duration": 11,
    "start_time": "2022-04-06T10:08:56.378Z"
   },
   {
    "duration": 12,
    "start_time": "2022-04-06T10:08:56.390Z"
   },
   {
    "duration": 49,
    "start_time": "2022-04-06T10:08:56.404Z"
   },
   {
    "duration": 17,
    "start_time": "2022-04-06T10:08:56.455Z"
   },
   {
    "duration": 19,
    "start_time": "2022-04-06T10:08:56.473Z"
   },
   {
    "duration": 383,
    "start_time": "2022-04-06T10:11:46.966Z"
   },
   {
    "duration": 74,
    "start_time": "2022-04-06T10:11:47.351Z"
   },
   {
    "duration": 21,
    "start_time": "2022-04-06T10:11:47.427Z"
   },
   {
    "duration": 4,
    "start_time": "2022-04-06T10:11:47.450Z"
   },
   {
    "duration": 14,
    "start_time": "2022-04-06T10:11:47.457Z"
   },
   {
    "duration": 1451,
    "start_time": "2022-04-06T10:11:47.473Z"
   },
   {
    "duration": 0,
    "start_time": "2022-04-06T10:11:48.928Z"
   },
   {
    "duration": 0,
    "start_time": "2022-04-06T10:11:48.929Z"
   },
   {
    "duration": 0,
    "start_time": "2022-04-06T10:11:48.930Z"
   },
   {
    "duration": 0,
    "start_time": "2022-04-06T10:11:48.931Z"
   },
   {
    "duration": 0,
    "start_time": "2022-04-06T10:11:48.932Z"
   },
   {
    "duration": 0,
    "start_time": "2022-04-06T10:11:48.933Z"
   },
   {
    "duration": 0,
    "start_time": "2022-04-06T10:11:48.933Z"
   },
   {
    "duration": 0,
    "start_time": "2022-04-06T10:11:48.934Z"
   },
   {
    "duration": 0,
    "start_time": "2022-04-06T10:11:48.935Z"
   },
   {
    "duration": 0,
    "start_time": "2022-04-06T10:11:48.936Z"
   },
   {
    "duration": 0,
    "start_time": "2022-04-06T10:11:48.937Z"
   },
   {
    "duration": 0,
    "start_time": "2022-04-06T10:11:48.938Z"
   },
   {
    "duration": 0,
    "start_time": "2022-04-06T10:11:48.939Z"
   },
   {
    "duration": 0,
    "start_time": "2022-04-06T10:11:48.940Z"
   },
   {
    "duration": 0,
    "start_time": "2022-04-06T10:11:48.941Z"
   },
   {
    "duration": 0,
    "start_time": "2022-04-06T10:11:48.941Z"
   },
   {
    "duration": 0,
    "start_time": "2022-04-06T10:11:48.942Z"
   },
   {
    "duration": 0,
    "start_time": "2022-04-06T10:11:48.943Z"
   },
   {
    "duration": 0,
    "start_time": "2022-04-06T10:11:48.944Z"
   },
   {
    "duration": 0,
    "start_time": "2022-04-06T10:11:48.945Z"
   },
   {
    "duration": 0,
    "start_time": "2022-04-06T10:11:48.946Z"
   },
   {
    "duration": 0,
    "start_time": "2022-04-06T10:11:48.947Z"
   },
   {
    "duration": 0,
    "start_time": "2022-04-06T10:11:48.949Z"
   },
   {
    "duration": 0,
    "start_time": "2022-04-06T10:11:48.949Z"
   },
   {
    "duration": 0,
    "start_time": "2022-04-06T10:11:48.950Z"
   },
   {
    "duration": 0,
    "start_time": "2022-04-06T10:11:48.951Z"
   },
   {
    "duration": 0,
    "start_time": "2022-04-06T10:11:48.952Z"
   },
   {
    "duration": 0,
    "start_time": "2022-04-06T10:11:48.953Z"
   },
   {
    "duration": 0,
    "start_time": "2022-04-06T10:11:48.954Z"
   },
   {
    "duration": 0,
    "start_time": "2022-04-06T10:11:48.955Z"
   },
   {
    "duration": 0,
    "start_time": "2022-04-06T10:11:48.956Z"
   },
   {
    "duration": 0,
    "start_time": "2022-04-06T10:11:48.957Z"
   },
   {
    "duration": 0,
    "start_time": "2022-04-06T10:11:48.958Z"
   },
   {
    "duration": 0,
    "start_time": "2022-04-06T10:11:48.959Z"
   },
   {
    "duration": 0,
    "start_time": "2022-04-06T10:11:48.960Z"
   },
   {
    "duration": 0,
    "start_time": "2022-04-06T10:11:48.961Z"
   },
   {
    "duration": 0,
    "start_time": "2022-04-06T10:11:48.962Z"
   },
   {
    "duration": 0,
    "start_time": "2022-04-06T10:11:48.963Z"
   },
   {
    "duration": 0,
    "start_time": "2022-04-06T10:11:48.964Z"
   },
   {
    "duration": 0,
    "start_time": "2022-04-06T10:11:48.965Z"
   },
   {
    "duration": 0,
    "start_time": "2022-04-06T10:11:48.966Z"
   },
   {
    "duration": 0,
    "start_time": "2022-04-06T10:11:48.968Z"
   },
   {
    "duration": 176,
    "start_time": "2022-04-06T10:14:23.315Z"
   },
   {
    "duration": 175,
    "start_time": "2022-04-06T10:17:18.278Z"
   },
   {
    "duration": 374,
    "start_time": "2022-04-06T10:21:04.672Z"
   },
   {
    "duration": 74,
    "start_time": "2022-04-06T10:21:05.048Z"
   },
   {
    "duration": 20,
    "start_time": "2022-04-06T10:21:05.124Z"
   },
   {
    "duration": 3,
    "start_time": "2022-04-06T10:21:05.147Z"
   },
   {
    "duration": 12,
    "start_time": "2022-04-06T10:21:05.151Z"
   },
   {
    "duration": 366,
    "start_time": "2022-04-06T10:21:05.165Z"
   },
   {
    "duration": 2,
    "start_time": "2022-04-06T10:21:05.537Z"
   },
   {
    "duration": 12,
    "start_time": "2022-04-06T10:21:05.541Z"
   },
   {
    "duration": 12,
    "start_time": "2022-04-06T10:21:05.555Z"
   },
   {
    "duration": 7,
    "start_time": "2022-04-06T10:21:05.569Z"
   },
   {
    "duration": 8,
    "start_time": "2022-04-06T10:21:05.577Z"
   },
   {
    "duration": 6,
    "start_time": "2022-04-06T10:21:05.586Z"
   },
   {
    "duration": 9,
    "start_time": "2022-04-06T10:21:05.593Z"
   },
   {
    "duration": 6,
    "start_time": "2022-04-06T10:21:05.603Z"
   },
   {
    "duration": 37,
    "start_time": "2022-04-06T10:21:05.610Z"
   },
   {
    "duration": 6,
    "start_time": "2022-04-06T10:21:05.649Z"
   },
   {
    "duration": 10,
    "start_time": "2022-04-06T10:21:05.656Z"
   },
   {
    "duration": 17,
    "start_time": "2022-04-06T10:21:05.668Z"
   },
   {
    "duration": 21,
    "start_time": "2022-04-06T10:21:05.687Z"
   },
   {
    "duration": 34,
    "start_time": "2022-04-06T10:21:05.710Z"
   },
   {
    "duration": 9,
    "start_time": "2022-04-06T10:21:05.746Z"
   },
   {
    "duration": 10,
    "start_time": "2022-04-06T10:21:05.756Z"
   },
   {
    "duration": 9,
    "start_time": "2022-04-06T10:21:05.767Z"
   },
   {
    "duration": 21,
    "start_time": "2022-04-06T10:21:05.777Z"
   },
   {
    "duration": 15,
    "start_time": "2022-04-06T10:21:05.800Z"
   },
   {
    "duration": 47,
    "start_time": "2022-04-06T10:21:05.817Z"
   },
   {
    "duration": 5,
    "start_time": "2022-04-06T10:21:05.866Z"
   },
   {
    "duration": 15,
    "start_time": "2022-04-06T10:21:05.874Z"
   },
   {
    "duration": 10,
    "start_time": "2022-04-06T10:21:05.891Z"
   },
   {
    "duration": 5,
    "start_time": "2022-04-06T10:21:05.903Z"
   },
   {
    "duration": 42,
    "start_time": "2022-04-06T10:21:05.909Z"
   },
   {
    "duration": 32,
    "start_time": "2022-04-06T10:21:05.953Z"
   },
   {
    "duration": 14,
    "start_time": "2022-04-06T10:21:05.987Z"
   },
   {
    "duration": 36,
    "start_time": "2022-04-06T10:21:06.003Z"
   },
   {
    "duration": 12,
    "start_time": "2022-04-06T10:21:06.041Z"
   },
   {
    "duration": 8,
    "start_time": "2022-04-06T10:21:06.055Z"
   },
   {
    "duration": 15,
    "start_time": "2022-04-06T10:21:06.064Z"
   },
   {
    "duration": 7,
    "start_time": "2022-04-06T10:21:06.081Z"
   },
   {
    "duration": 14,
    "start_time": "2022-04-06T10:21:06.089Z"
   },
   {
    "duration": 34,
    "start_time": "2022-04-06T10:21:06.104Z"
   },
   {
    "duration": 24,
    "start_time": "2022-04-06T10:21:06.139Z"
   },
   {
    "duration": 4,
    "start_time": "2022-04-06T10:21:06.164Z"
   },
   {
    "duration": 15,
    "start_time": "2022-04-06T10:21:06.169Z"
   },
   {
    "duration": 11,
    "start_time": "2022-04-06T10:21:06.186Z"
   },
   {
    "duration": 20,
    "start_time": "2022-04-06T10:21:06.199Z"
   },
   {
    "duration": 24,
    "start_time": "2022-04-06T10:21:06.238Z"
   },
   {
    "duration": 19,
    "start_time": "2022-04-06T10:21:06.264Z"
   },
   {
    "duration": 19,
    "start_time": "2022-04-06T10:21:06.285Z"
   },
   {
    "duration": 369,
    "start_time": "2022-04-06T10:26:53.872Z"
   },
   {
    "duration": 75,
    "start_time": "2022-04-06T10:26:54.243Z"
   },
   {
    "duration": 24,
    "start_time": "2022-04-06T10:26:54.319Z"
   },
   {
    "duration": 4,
    "start_time": "2022-04-06T10:26:54.346Z"
   },
   {
    "duration": 11,
    "start_time": "2022-04-06T10:26:54.352Z"
   },
   {
    "duration": 200,
    "start_time": "2022-04-06T10:26:54.365Z"
   },
   {
    "duration": 2,
    "start_time": "2022-04-06T10:26:54.567Z"
   },
   {
    "duration": 8,
    "start_time": "2022-04-06T10:26:54.571Z"
   },
   {
    "duration": 7,
    "start_time": "2022-04-06T10:26:54.581Z"
   },
   {
    "duration": 4,
    "start_time": "2022-04-06T10:26:54.592Z"
   },
   {
    "duration": 7,
    "start_time": "2022-04-06T10:26:54.598Z"
   },
   {
    "duration": 7,
    "start_time": "2022-04-06T10:26:54.637Z"
   },
   {
    "duration": 7,
    "start_time": "2022-04-06T10:26:54.646Z"
   },
   {
    "duration": 6,
    "start_time": "2022-04-06T10:26:54.654Z"
   },
   {
    "duration": 14,
    "start_time": "2022-04-06T10:26:54.662Z"
   },
   {
    "duration": 5,
    "start_time": "2022-04-06T10:26:54.677Z"
   },
   {
    "duration": 6,
    "start_time": "2022-04-06T10:26:54.684Z"
   },
   {
    "duration": 48,
    "start_time": "2022-04-06T10:26:54.691Z"
   },
   {
    "duration": 19,
    "start_time": "2022-04-06T10:26:54.740Z"
   },
   {
    "duration": 20,
    "start_time": "2022-04-06T10:26:54.760Z"
   },
   {
    "duration": 9,
    "start_time": "2022-04-06T10:26:54.782Z"
   },
   {
    "duration": 8,
    "start_time": "2022-04-06T10:26:54.793Z"
   },
   {
    "duration": 5,
    "start_time": "2022-04-06T10:26:54.803Z"
   },
   {
    "duration": 37,
    "start_time": "2022-04-06T10:26:54.809Z"
   },
   {
    "duration": 16,
    "start_time": "2022-04-06T10:26:54.848Z"
   },
   {
    "duration": 31,
    "start_time": "2022-04-06T10:26:54.866Z"
   },
   {
    "duration": 6,
    "start_time": "2022-04-06T10:26:54.899Z"
   },
   {
    "duration": 16,
    "start_time": "2022-04-06T10:26:54.937Z"
   },
   {
    "duration": 7,
    "start_time": "2022-04-06T10:26:54.955Z"
   },
   {
    "duration": 6,
    "start_time": "2022-04-06T10:26:54.964Z"
   },
   {
    "duration": 22,
    "start_time": "2022-04-06T10:26:54.971Z"
   },
   {
    "duration": 59,
    "start_time": "2022-04-06T10:26:54.995Z"
   },
   {
    "duration": 14,
    "start_time": "2022-04-06T10:26:55.056Z"
   },
   {
    "duration": 12,
    "start_time": "2022-04-06T10:26:55.073Z"
   },
   {
    "duration": 14,
    "start_time": "2022-04-06T10:26:55.087Z"
   },
   {
    "duration": 36,
    "start_time": "2022-04-06T10:26:55.103Z"
   },
   {
    "duration": 16,
    "start_time": "2022-04-06T10:26:55.141Z"
   },
   {
    "duration": 8,
    "start_time": "2022-04-06T10:26:55.159Z"
   },
   {
    "duration": 15,
    "start_time": "2022-04-06T10:26:55.169Z"
   },
   {
    "duration": 3,
    "start_time": "2022-04-06T10:26:55.185Z"
   },
   {
    "duration": 58,
    "start_time": "2022-04-06T10:26:55.189Z"
   },
   {
    "duration": 4,
    "start_time": "2022-04-06T10:26:55.249Z"
   },
   {
    "duration": 15,
    "start_time": "2022-04-06T10:26:55.254Z"
   },
   {
    "duration": 11,
    "start_time": "2022-04-06T10:26:55.271Z"
   },
   {
    "duration": 16,
    "start_time": "2022-04-06T10:26:55.284Z"
   },
   {
    "duration": 44,
    "start_time": "2022-04-06T10:26:55.301Z"
   },
   {
    "duration": 19,
    "start_time": "2022-04-06T10:26:55.346Z"
   },
   {
    "duration": 21,
    "start_time": "2022-04-06T10:26:55.366Z"
   },
   {
    "duration": 180,
    "start_time": "2022-04-06T10:27:55.428Z"
   },
   {
    "duration": 424,
    "start_time": "2022-04-06T10:28:03.321Z"
   },
   {
    "duration": 76,
    "start_time": "2022-04-06T10:28:03.747Z"
   },
   {
    "duration": 15,
    "start_time": "2022-04-06T10:28:03.824Z"
   },
   {
    "duration": 4,
    "start_time": "2022-04-06T10:28:03.842Z"
   },
   {
    "duration": 17,
    "start_time": "2022-04-06T10:28:03.847Z"
   },
   {
    "duration": 201,
    "start_time": "2022-04-06T10:28:03.865Z"
   },
   {
    "duration": 3,
    "start_time": "2022-04-06T10:28:04.067Z"
   },
   {
    "duration": 16,
    "start_time": "2022-04-06T10:28:04.071Z"
   },
   {
    "duration": 9,
    "start_time": "2022-04-06T10:28:04.089Z"
   },
   {
    "duration": 11,
    "start_time": "2022-04-06T10:28:04.101Z"
   },
   {
    "duration": 10,
    "start_time": "2022-04-06T10:28:04.114Z"
   },
   {
    "duration": 19,
    "start_time": "2022-04-06T10:28:04.125Z"
   },
   {
    "duration": 6,
    "start_time": "2022-04-06T10:28:04.146Z"
   },
   {
    "duration": 10,
    "start_time": "2022-04-06T10:28:04.154Z"
   },
   {
    "duration": 26,
    "start_time": "2022-04-06T10:28:04.165Z"
   },
   {
    "duration": 5,
    "start_time": "2022-04-06T10:28:04.193Z"
   },
   {
    "duration": 9,
    "start_time": "2022-04-06T10:28:04.199Z"
   },
   {
    "duration": 32,
    "start_time": "2022-04-06T10:28:04.210Z"
   },
   {
    "duration": 17,
    "start_time": "2022-04-06T10:28:04.243Z"
   },
   {
    "duration": 22,
    "start_time": "2022-04-06T10:28:04.262Z"
   },
   {
    "duration": 10,
    "start_time": "2022-04-06T10:28:04.286Z"
   },
   {
    "duration": 4,
    "start_time": "2022-04-06T10:28:04.298Z"
   },
   {
    "duration": 37,
    "start_time": "2022-04-06T10:28:04.303Z"
   },
   {
    "duration": 21,
    "start_time": "2022-04-06T10:28:04.342Z"
   },
   {
    "duration": 17,
    "start_time": "2022-04-06T10:28:04.364Z"
   },
   {
    "duration": 32,
    "start_time": "2022-04-06T10:28:04.382Z"
   },
   {
    "duration": 22,
    "start_time": "2022-04-06T10:28:04.416Z"
   },
   {
    "duration": 16,
    "start_time": "2022-04-06T10:28:04.442Z"
   },
   {
    "duration": 18,
    "start_time": "2022-04-06T10:28:04.460Z"
   },
   {
    "duration": 25,
    "start_time": "2022-04-06T10:28:04.479Z"
   },
   {
    "duration": 23,
    "start_time": "2022-04-06T10:28:04.506Z"
   },
   {
    "duration": 30,
    "start_time": "2022-04-06T10:28:04.531Z"
   },
   {
    "duration": 12,
    "start_time": "2022-04-06T10:28:04.562Z"
   },
   {
    "duration": 10,
    "start_time": "2022-04-06T10:28:04.576Z"
   },
   {
    "duration": 12,
    "start_time": "2022-04-06T10:28:04.588Z"
   },
   {
    "duration": 19,
    "start_time": "2022-04-06T10:28:04.601Z"
   },
   {
    "duration": 28,
    "start_time": "2022-04-06T10:28:04.621Z"
   },
   {
    "duration": 9,
    "start_time": "2022-04-06T10:28:04.651Z"
   },
   {
    "duration": 17,
    "start_time": "2022-04-06T10:28:04.661Z"
   },
   {
    "duration": 14,
    "start_time": "2022-04-06T10:28:04.679Z"
   },
   {
    "duration": 26,
    "start_time": "2022-04-06T10:28:04.694Z"
   },
   {
    "duration": 16,
    "start_time": "2022-04-06T10:28:04.722Z"
   },
   {
    "duration": 17,
    "start_time": "2022-04-06T10:28:04.740Z"
   },
   {
    "duration": 11,
    "start_time": "2022-04-06T10:28:04.759Z"
   },
   {
    "duration": 16,
    "start_time": "2022-04-06T10:28:04.771Z"
   },
   {
    "duration": 25,
    "start_time": "2022-04-06T10:28:04.788Z"
   },
   {
    "duration": 40,
    "start_time": "2022-04-06T10:28:04.814Z"
   },
   {
    "duration": 20,
    "start_time": "2022-04-06T10:28:04.855Z"
   },
   {
    "duration": 383,
    "start_time": "2022-04-06T10:29:32.267Z"
   },
   {
    "duration": 73,
    "start_time": "2022-04-06T10:29:32.653Z"
   },
   {
    "duration": 18,
    "start_time": "2022-04-06T10:29:32.728Z"
   },
   {
    "duration": 4,
    "start_time": "2022-04-06T10:29:32.749Z"
   },
   {
    "duration": 13,
    "start_time": "2022-04-06T10:29:32.754Z"
   },
   {
    "duration": 195,
    "start_time": "2022-04-06T10:29:32.770Z"
   },
   {
    "duration": 2,
    "start_time": "2022-04-06T10:29:32.967Z"
   },
   {
    "duration": 15,
    "start_time": "2022-04-06T10:29:32.971Z"
   },
   {
    "duration": 12,
    "start_time": "2022-04-06T10:29:32.987Z"
   },
   {
    "duration": 4,
    "start_time": "2022-04-06T10:29:33.001Z"
   },
   {
    "duration": 8,
    "start_time": "2022-04-06T10:29:33.007Z"
   },
   {
    "duration": 25,
    "start_time": "2022-04-06T10:29:33.017Z"
   },
   {
    "duration": 6,
    "start_time": "2022-04-06T10:29:33.044Z"
   },
   {
    "duration": 9,
    "start_time": "2022-04-06T10:29:33.052Z"
   },
   {
    "duration": 25,
    "start_time": "2022-04-06T10:29:33.063Z"
   },
   {
    "duration": 5,
    "start_time": "2022-04-06T10:29:33.090Z"
   },
   {
    "duration": 13,
    "start_time": "2022-04-06T10:29:33.097Z"
   },
   {
    "duration": 29,
    "start_time": "2022-04-06T10:29:33.112Z"
   },
   {
    "duration": 16,
    "start_time": "2022-04-06T10:29:33.143Z"
   },
   {
    "duration": 21,
    "start_time": "2022-04-06T10:29:33.160Z"
   },
   {
    "duration": 10,
    "start_time": "2022-04-06T10:29:33.183Z"
   },
   {
    "duration": 9,
    "start_time": "2022-04-06T10:29:33.194Z"
   },
   {
    "duration": 7,
    "start_time": "2022-04-06T10:29:33.204Z"
   },
   {
    "duration": 15,
    "start_time": "2022-04-06T10:29:33.238Z"
   },
   {
    "duration": 16,
    "start_time": "2022-04-06T10:29:33.255Z"
   },
   {
    "duration": 33,
    "start_time": "2022-04-06T10:29:33.273Z"
   },
   {
    "duration": 31,
    "start_time": "2022-04-06T10:29:33.308Z"
   },
   {
    "duration": 18,
    "start_time": "2022-04-06T10:29:33.342Z"
   },
   {
    "duration": 6,
    "start_time": "2022-04-06T10:29:33.362Z"
   },
   {
    "duration": 7,
    "start_time": "2022-04-06T10:29:33.369Z"
   },
   {
    "duration": 21,
    "start_time": "2022-04-06T10:29:33.378Z"
   },
   {
    "duration": 53,
    "start_time": "2022-04-06T10:29:33.401Z"
   },
   {
    "duration": 11,
    "start_time": "2022-04-06T10:29:33.456Z"
   },
   {
    "duration": 11,
    "start_time": "2022-04-06T10:29:33.469Z"
   },
   {
    "duration": 13,
    "start_time": "2022-04-06T10:29:33.482Z"
   },
   {
    "duration": 6,
    "start_time": "2022-04-06T10:29:33.496Z"
   },
   {
    "duration": 43,
    "start_time": "2022-04-06T10:29:33.504Z"
   },
   {
    "duration": 9,
    "start_time": "2022-04-06T10:29:33.549Z"
   },
   {
    "duration": 12,
    "start_time": "2022-04-06T10:29:33.560Z"
   },
   {
    "duration": 5,
    "start_time": "2022-04-06T10:29:33.574Z"
   },
   {
    "duration": 25,
    "start_time": "2022-04-06T10:29:33.580Z"
   },
   {
    "duration": 4,
    "start_time": "2022-04-06T10:29:33.606Z"
   },
   {
    "duration": 38,
    "start_time": "2022-04-06T10:29:33.611Z"
   },
   {
    "duration": 11,
    "start_time": "2022-04-06T10:29:33.651Z"
   },
   {
    "duration": 15,
    "start_time": "2022-04-06T10:29:33.663Z"
   },
   {
    "duration": 27,
    "start_time": "2022-04-06T10:29:33.679Z"
   },
   {
    "duration": 47,
    "start_time": "2022-04-06T10:29:33.708Z"
   },
   {
    "duration": 20,
    "start_time": "2022-04-06T10:29:33.757Z"
   },
   {
    "duration": 394,
    "start_time": "2022-04-06T10:30:41.300Z"
   },
   {
    "duration": 71,
    "start_time": "2022-04-06T10:30:41.696Z"
   },
   {
    "duration": 16,
    "start_time": "2022-04-06T10:30:41.769Z"
   },
   {
    "duration": 3,
    "start_time": "2022-04-06T10:30:41.788Z"
   },
   {
    "duration": 11,
    "start_time": "2022-04-06T10:30:41.793Z"
   },
   {
    "duration": 207,
    "start_time": "2022-04-06T10:30:41.805Z"
   },
   {
    "duration": 2,
    "start_time": "2022-04-06T10:30:42.013Z"
   },
   {
    "duration": 15,
    "start_time": "2022-04-06T10:30:42.017Z"
   },
   {
    "duration": 7,
    "start_time": "2022-04-06T10:30:42.037Z"
   },
   {
    "duration": 4,
    "start_time": "2022-04-06T10:30:42.047Z"
   },
   {
    "duration": 7,
    "start_time": "2022-04-06T10:30:42.053Z"
   },
   {
    "duration": 6,
    "start_time": "2022-04-06T10:30:42.061Z"
   },
   {
    "duration": 6,
    "start_time": "2022-04-06T10:30:42.069Z"
   },
   {
    "duration": 12,
    "start_time": "2022-04-06T10:30:42.076Z"
   },
   {
    "duration": 14,
    "start_time": "2022-04-06T10:30:42.090Z"
   },
   {
    "duration": 34,
    "start_time": "2022-04-06T10:30:42.106Z"
   },
   {
    "duration": 7,
    "start_time": "2022-04-06T10:30:42.141Z"
   },
   {
    "duration": 15,
    "start_time": "2022-04-06T10:30:42.150Z"
   },
   {
    "duration": 15,
    "start_time": "2022-04-06T10:30:42.166Z"
   },
   {
    "duration": 19,
    "start_time": "2022-04-06T10:30:42.182Z"
   },
   {
    "duration": 9,
    "start_time": "2022-04-06T10:30:42.203Z"
   },
   {
    "duration": 4,
    "start_time": "2022-04-06T10:30:42.239Z"
   },
   {
    "duration": 7,
    "start_time": "2022-04-06T10:30:42.245Z"
   },
   {
    "duration": 18,
    "start_time": "2022-04-06T10:30:42.253Z"
   },
   {
    "duration": 17,
    "start_time": "2022-04-06T10:30:42.272Z"
   },
   {
    "duration": 56,
    "start_time": "2022-04-06T10:30:42.291Z"
   },
   {
    "duration": 5,
    "start_time": "2022-04-06T10:30:42.348Z"
   },
   {
    "duration": 26,
    "start_time": "2022-04-06T10:30:42.357Z"
   },
   {
    "duration": 5,
    "start_time": "2022-04-06T10:30:42.384Z"
   },
   {
    "duration": 7,
    "start_time": "2022-04-06T10:30:42.391Z"
   },
   {
    "duration": 43,
    "start_time": "2022-04-06T10:30:42.399Z"
   },
   {
    "duration": 34,
    "start_time": "2022-04-06T10:30:42.444Z"
   },
   {
    "duration": 11,
    "start_time": "2022-04-06T10:30:42.480Z"
   },
   {
    "duration": 13,
    "start_time": "2022-04-06T10:30:42.493Z"
   },
   {
    "duration": 34,
    "start_time": "2022-04-06T10:30:42.507Z"
   },
   {
    "duration": 9,
    "start_time": "2022-04-06T10:30:42.543Z"
   },
   {
    "duration": 19,
    "start_time": "2022-04-06T10:30:42.554Z"
   },
   {
    "duration": 17,
    "start_time": "2022-04-06T10:30:42.574Z"
   },
   {
    "duration": 17,
    "start_time": "2022-04-06T10:30:42.593Z"
   },
   {
    "duration": 7,
    "start_time": "2022-04-06T10:30:42.612Z"
   },
   {
    "duration": 22,
    "start_time": "2022-04-06T10:30:42.637Z"
   },
   {
    "duration": 4,
    "start_time": "2022-04-06T10:30:42.661Z"
   },
   {
    "duration": 20,
    "start_time": "2022-04-06T10:30:42.666Z"
   },
   {
    "duration": 13,
    "start_time": "2022-04-06T10:30:42.688Z"
   },
   {
    "duration": 37,
    "start_time": "2022-04-06T10:30:42.702Z"
   },
   {
    "duration": 24,
    "start_time": "2022-04-06T10:30:42.740Z"
   },
   {
    "duration": 18,
    "start_time": "2022-04-06T10:30:42.766Z"
   },
   {
    "duration": 20,
    "start_time": "2022-04-06T10:30:42.786Z"
   },
   {
    "duration": 1820,
    "start_time": "2022-04-06T10:31:18.050Z"
   },
   {
    "duration": 408,
    "start_time": "2022-04-06T10:31:26.035Z"
   },
   {
    "duration": 77,
    "start_time": "2022-04-06T10:31:26.445Z"
   },
   {
    "duration": 23,
    "start_time": "2022-04-06T10:31:26.524Z"
   },
   {
    "duration": 4,
    "start_time": "2022-04-06T10:31:26.549Z"
   },
   {
    "duration": 14,
    "start_time": "2022-04-06T10:31:26.555Z"
   },
   {
    "duration": 1464,
    "start_time": "2022-04-06T10:31:26.571Z"
   },
   {
    "duration": 0,
    "start_time": "2022-04-06T10:31:28.038Z"
   },
   {
    "duration": 0,
    "start_time": "2022-04-06T10:31:28.039Z"
   },
   {
    "duration": 0,
    "start_time": "2022-04-06T10:31:28.040Z"
   },
   {
    "duration": 0,
    "start_time": "2022-04-06T10:31:28.041Z"
   },
   {
    "duration": 0,
    "start_time": "2022-04-06T10:31:28.042Z"
   },
   {
    "duration": 0,
    "start_time": "2022-04-06T10:31:28.042Z"
   },
   {
    "duration": 0,
    "start_time": "2022-04-06T10:31:28.043Z"
   },
   {
    "duration": 0,
    "start_time": "2022-04-06T10:31:28.044Z"
   },
   {
    "duration": 0,
    "start_time": "2022-04-06T10:31:28.045Z"
   },
   {
    "duration": 0,
    "start_time": "2022-04-06T10:31:28.046Z"
   },
   {
    "duration": 0,
    "start_time": "2022-04-06T10:31:28.048Z"
   },
   {
    "duration": 0,
    "start_time": "2022-04-06T10:31:28.049Z"
   },
   {
    "duration": 0,
    "start_time": "2022-04-06T10:31:28.050Z"
   },
   {
    "duration": 0,
    "start_time": "2022-04-06T10:31:28.052Z"
   },
   {
    "duration": 0,
    "start_time": "2022-04-06T10:31:28.053Z"
   },
   {
    "duration": 1,
    "start_time": "2022-04-06T10:31:28.054Z"
   },
   {
    "duration": 0,
    "start_time": "2022-04-06T10:31:28.056Z"
   },
   {
    "duration": 0,
    "start_time": "2022-04-06T10:31:28.057Z"
   },
   {
    "duration": 0,
    "start_time": "2022-04-06T10:31:28.059Z"
   },
   {
    "duration": 0,
    "start_time": "2022-04-06T10:31:28.061Z"
   },
   {
    "duration": 0,
    "start_time": "2022-04-06T10:31:28.063Z"
   },
   {
    "duration": 0,
    "start_time": "2022-04-06T10:31:28.064Z"
   },
   {
    "duration": 0,
    "start_time": "2022-04-06T10:31:28.065Z"
   },
   {
    "duration": 0,
    "start_time": "2022-04-06T10:31:28.066Z"
   },
   {
    "duration": 0,
    "start_time": "2022-04-06T10:31:28.068Z"
   },
   {
    "duration": 0,
    "start_time": "2022-04-06T10:31:28.070Z"
   },
   {
    "duration": 0,
    "start_time": "2022-04-06T10:31:28.071Z"
   },
   {
    "duration": 0,
    "start_time": "2022-04-06T10:31:28.072Z"
   },
   {
    "duration": 0,
    "start_time": "2022-04-06T10:31:28.073Z"
   },
   {
    "duration": 0,
    "start_time": "2022-04-06T10:31:28.075Z"
   },
   {
    "duration": 0,
    "start_time": "2022-04-06T10:31:28.076Z"
   },
   {
    "duration": 0,
    "start_time": "2022-04-06T10:31:28.077Z"
   },
   {
    "duration": 0,
    "start_time": "2022-04-06T10:31:28.078Z"
   },
   {
    "duration": 0,
    "start_time": "2022-04-06T10:31:28.080Z"
   },
   {
    "duration": 0,
    "start_time": "2022-04-06T10:31:28.081Z"
   },
   {
    "duration": 0,
    "start_time": "2022-04-06T10:31:28.082Z"
   },
   {
    "duration": 0,
    "start_time": "2022-04-06T10:31:28.138Z"
   },
   {
    "duration": 0,
    "start_time": "2022-04-06T10:31:28.140Z"
   },
   {
    "duration": 0,
    "start_time": "2022-04-06T10:31:28.146Z"
   },
   {
    "duration": 0,
    "start_time": "2022-04-06T10:31:28.148Z"
   },
   {
    "duration": 0,
    "start_time": "2022-04-06T10:31:28.149Z"
   },
   {
    "duration": 0,
    "start_time": "2022-04-06T10:31:28.150Z"
   },
   {
    "duration": 179,
    "start_time": "2022-04-06T10:32:35.210Z"
   },
   {
    "duration": 181,
    "start_time": "2022-04-06T10:33:43.958Z"
   },
   {
    "duration": 364,
    "start_time": "2022-04-06T10:33:54.581Z"
   },
   {
    "duration": 72,
    "start_time": "2022-04-06T10:33:54.948Z"
   },
   {
    "duration": 21,
    "start_time": "2022-04-06T10:33:55.022Z"
   },
   {
    "duration": 4,
    "start_time": "2022-04-06T10:33:55.045Z"
   },
   {
    "duration": 12,
    "start_time": "2022-04-06T10:33:55.050Z"
   },
   {
    "duration": 198,
    "start_time": "2022-04-06T10:33:55.064Z"
   },
   {
    "duration": 2,
    "start_time": "2022-04-06T10:33:55.264Z"
   },
   {
    "duration": 10,
    "start_time": "2022-04-06T10:33:55.267Z"
   },
   {
    "duration": 21,
    "start_time": "2022-04-06T10:33:55.279Z"
   },
   {
    "duration": 6,
    "start_time": "2022-04-06T10:33:55.303Z"
   },
   {
    "duration": 6,
    "start_time": "2022-04-06T10:33:55.310Z"
   },
   {
    "duration": 11,
    "start_time": "2022-04-06T10:33:55.318Z"
   },
   {
    "duration": 5,
    "start_time": "2022-04-06T10:33:55.338Z"
   },
   {
    "duration": 11,
    "start_time": "2022-04-06T10:33:55.345Z"
   },
   {
    "duration": 16,
    "start_time": "2022-04-06T10:33:55.357Z"
   },
   {
    "duration": 7,
    "start_time": "2022-04-06T10:33:55.375Z"
   },
   {
    "duration": 9,
    "start_time": "2022-04-06T10:33:55.384Z"
   },
   {
    "duration": 11,
    "start_time": "2022-04-06T10:33:55.394Z"
   },
   {
    "duration": 36,
    "start_time": "2022-04-06T10:33:55.406Z"
   },
   {
    "duration": 19,
    "start_time": "2022-04-06T10:33:55.443Z"
   },
   {
    "duration": 10,
    "start_time": "2022-04-06T10:33:55.464Z"
   },
   {
    "duration": 5,
    "start_time": "2022-04-06T10:33:55.475Z"
   },
   {
    "duration": 5,
    "start_time": "2022-04-06T10:33:55.482Z"
   },
   {
    "duration": 15,
    "start_time": "2022-04-06T10:33:55.488Z"
   },
   {
    "duration": 40,
    "start_time": "2022-04-06T10:33:55.505Z"
   },
   {
    "duration": 29,
    "start_time": "2022-04-06T10:33:55.547Z"
   },
   {
    "duration": 5,
    "start_time": "2022-04-06T10:33:55.578Z"
   },
   {
    "duration": 25,
    "start_time": "2022-04-06T10:33:55.586Z"
   },
   {
    "duration": 9,
    "start_time": "2022-04-06T10:33:55.613Z"
   },
   {
    "duration": 19,
    "start_time": "2022-04-06T10:33:55.623Z"
   },
   {
    "duration": 18,
    "start_time": "2022-04-06T10:33:55.643Z"
   },
   {
    "duration": 29,
    "start_time": "2022-04-06T10:33:55.663Z"
   },
   {
    "duration": 11,
    "start_time": "2022-04-06T10:33:55.693Z"
   },
   {
    "duration": 35,
    "start_time": "2022-04-06T10:33:55.706Z"
   },
   {
    "duration": 13,
    "start_time": "2022-04-06T10:33:55.742Z"
   },
   {
    "duration": 8,
    "start_time": "2022-04-06T10:33:55.756Z"
   },
   {
    "duration": 15,
    "start_time": "2022-04-06T10:33:55.765Z"
   },
   {
    "duration": 9,
    "start_time": "2022-04-06T10:33:55.781Z"
   },
   {
    "duration": 12,
    "start_time": "2022-04-06T10:33:55.792Z"
   },
   {
    "duration": 2,
    "start_time": "2022-04-06T10:33:55.806Z"
   },
   {
    "duration": 22,
    "start_time": "2022-04-06T10:33:55.837Z"
   },
   {
    "duration": 3,
    "start_time": "2022-04-06T10:33:55.861Z"
   },
   {
    "duration": 17,
    "start_time": "2022-04-06T10:33:55.865Z"
   },
   {
    "duration": 11,
    "start_time": "2022-04-06T10:33:55.883Z"
   },
   {
    "duration": 14,
    "start_time": "2022-04-06T10:33:55.896Z"
   },
   {
    "duration": 47,
    "start_time": "2022-04-06T10:33:55.912Z"
   },
   {
    "duration": 20,
    "start_time": "2022-04-06T10:33:55.961Z"
   },
   {
    "duration": 21,
    "start_time": "2022-04-06T10:33:55.983Z"
   },
   {
    "duration": 173,
    "start_time": "2022-04-06T10:38:44.342Z"
   },
   {
    "duration": 398,
    "start_time": "2022-04-06T10:38:53.343Z"
   },
   {
    "duration": 72,
    "start_time": "2022-04-06T10:38:53.743Z"
   },
   {
    "duration": 22,
    "start_time": "2022-04-06T10:38:53.816Z"
   },
   {
    "duration": 3,
    "start_time": "2022-04-06T10:38:53.840Z"
   },
   {
    "duration": 13,
    "start_time": "2022-04-06T10:38:53.846Z"
   },
   {
    "duration": 194,
    "start_time": "2022-04-06T10:38:53.860Z"
   },
   {
    "duration": 2,
    "start_time": "2022-04-06T10:38:54.056Z"
   },
   {
    "duration": 9,
    "start_time": "2022-04-06T10:38:54.059Z"
   },
   {
    "duration": 7,
    "start_time": "2022-04-06T10:38:54.069Z"
   },
   {
    "duration": 5,
    "start_time": "2022-04-06T10:38:54.077Z"
   },
   {
    "duration": 7,
    "start_time": "2022-04-06T10:38:54.083Z"
   },
   {
    "duration": 6,
    "start_time": "2022-04-06T10:38:54.091Z"
   },
   {
    "duration": 5,
    "start_time": "2022-04-06T10:38:54.098Z"
   },
   {
    "duration": 4,
    "start_time": "2022-04-06T10:38:54.106Z"
   },
   {
    "duration": 12,
    "start_time": "2022-04-06T10:38:54.138Z"
   },
   {
    "duration": 4,
    "start_time": "2022-04-06T10:38:54.152Z"
   },
   {
    "duration": 6,
    "start_time": "2022-04-06T10:38:54.157Z"
   },
   {
    "duration": 11,
    "start_time": "2022-04-06T10:38:54.164Z"
   },
   {
    "duration": 14,
    "start_time": "2022-04-06T10:38:54.176Z"
   },
   {
    "duration": 49,
    "start_time": "2022-04-06T10:38:54.192Z"
   },
   {
    "duration": 10,
    "start_time": "2022-04-06T10:38:54.242Z"
   },
   {
    "duration": 4,
    "start_time": "2022-04-06T10:38:54.254Z"
   },
   {
    "duration": 9,
    "start_time": "2022-04-06T10:38:54.259Z"
   },
   {
    "duration": 20,
    "start_time": "2022-04-06T10:38:54.269Z"
   },
   {
    "duration": 16,
    "start_time": "2022-04-06T10:38:54.290Z"
   },
   {
    "duration": 55,
    "start_time": "2022-04-06T10:38:54.308Z"
   },
   {
    "duration": 4,
    "start_time": "2022-04-06T10:38:54.365Z"
   },
   {
    "duration": 17,
    "start_time": "2022-04-06T10:38:54.371Z"
   },
   {
    "duration": 5,
    "start_time": "2022-04-06T10:38:54.389Z"
   },
   {
    "duration": 7,
    "start_time": "2022-04-06T10:38:54.395Z"
   },
   {
    "duration": 44,
    "start_time": "2022-04-06T10:38:54.403Z"
   },
   {
    "duration": 32,
    "start_time": "2022-04-06T10:38:54.449Z"
   },
   {
    "duration": 11,
    "start_time": "2022-04-06T10:38:54.483Z"
   },
   {
    "duration": 11,
    "start_time": "2022-04-06T10:38:54.496Z"
   },
   {
    "duration": 34,
    "start_time": "2022-04-06T10:38:54.508Z"
   },
   {
    "duration": 10,
    "start_time": "2022-04-06T10:38:54.543Z"
   },
   {
    "duration": 15,
    "start_time": "2022-04-06T10:38:54.555Z"
   },
   {
    "duration": 6,
    "start_time": "2022-04-06T10:38:54.571Z"
   },
   {
    "duration": 14,
    "start_time": "2022-04-06T10:38:54.578Z"
   },
   {
    "duration": 3,
    "start_time": "2022-04-06T10:38:54.593Z"
   },
   {
    "duration": 53,
    "start_time": "2022-04-06T10:38:54.600Z"
   },
   {
    "duration": 3,
    "start_time": "2022-04-06T10:38:54.655Z"
   },
   {
    "duration": 17,
    "start_time": "2022-04-06T10:38:54.660Z"
   },
   {
    "duration": 11,
    "start_time": "2022-04-06T10:38:54.678Z"
   },
   {
    "duration": 13,
    "start_time": "2022-04-06T10:38:54.691Z"
   },
   {
    "duration": 48,
    "start_time": "2022-04-06T10:38:54.706Z"
   },
   {
    "duration": 18,
    "start_time": "2022-04-06T10:38:54.756Z"
   },
   {
    "duration": 19,
    "start_time": "2022-04-06T10:38:54.776Z"
   },
   {
    "duration": 427,
    "start_time": "2022-04-06T10:39:25.105Z"
   },
   {
    "duration": 74,
    "start_time": "2022-04-06T10:39:25.534Z"
   },
   {
    "duration": 29,
    "start_time": "2022-04-06T10:39:25.612Z"
   },
   {
    "duration": 3,
    "start_time": "2022-04-06T10:39:25.643Z"
   },
   {
    "duration": 9,
    "start_time": "2022-04-06T10:39:25.647Z"
   },
   {
    "duration": 193,
    "start_time": "2022-04-06T10:39:25.658Z"
   },
   {
    "duration": 2,
    "start_time": "2022-04-06T10:39:25.853Z"
   },
   {
    "duration": 12,
    "start_time": "2022-04-06T10:39:25.857Z"
   },
   {
    "duration": 13,
    "start_time": "2022-04-06T10:39:25.872Z"
   },
   {
    "duration": 5,
    "start_time": "2022-04-06T10:39:25.887Z"
   },
   {
    "duration": 8,
    "start_time": "2022-04-06T10:39:25.894Z"
   },
   {
    "duration": 9,
    "start_time": "2022-04-06T10:39:25.903Z"
   },
   {
    "duration": 24,
    "start_time": "2022-04-06T10:39:25.914Z"
   },
   {
    "duration": 5,
    "start_time": "2022-04-06T10:39:25.940Z"
   },
   {
    "duration": 22,
    "start_time": "2022-04-06T10:39:25.947Z"
   },
   {
    "duration": 5,
    "start_time": "2022-04-06T10:39:25.971Z"
   },
   {
    "duration": 7,
    "start_time": "2022-04-06T10:39:25.978Z"
   },
   {
    "duration": 12,
    "start_time": "2022-04-06T10:39:25.986Z"
   },
   {
    "duration": 42,
    "start_time": "2022-04-06T10:39:25.999Z"
   },
   {
    "duration": 21,
    "start_time": "2022-04-06T10:39:26.042Z"
   },
   {
    "duration": 10,
    "start_time": "2022-04-06T10:39:26.064Z"
   },
   {
    "duration": 4,
    "start_time": "2022-04-06T10:39:26.076Z"
   },
   {
    "duration": 6,
    "start_time": "2022-04-06T10:39:26.081Z"
   },
   {
    "duration": 17,
    "start_time": "2022-04-06T10:39:26.089Z"
   },
   {
    "duration": 45,
    "start_time": "2022-04-06T10:39:26.107Z"
   },
   {
    "duration": 31,
    "start_time": "2022-04-06T10:39:26.154Z"
   },
   {
    "duration": 5,
    "start_time": "2022-04-06T10:39:26.188Z"
   },
   {
    "duration": 20,
    "start_time": "2022-04-06T10:39:26.194Z"
   },
   {
    "duration": 6,
    "start_time": "2022-04-06T10:39:26.237Z"
   },
   {
    "duration": 6,
    "start_time": "2022-04-06T10:39:26.244Z"
   },
   {
    "duration": 18,
    "start_time": "2022-04-06T10:39:26.251Z"
   },
   {
    "duration": 32,
    "start_time": "2022-04-06T10:39:26.271Z"
   },
   {
    "duration": 44,
    "start_time": "2022-04-06T10:39:26.305Z"
   },
   {
    "duration": 12,
    "start_time": "2022-04-06T10:39:26.351Z"
   },
   {
    "duration": 13,
    "start_time": "2022-04-06T10:39:26.365Z"
   },
   {
    "duration": 6,
    "start_time": "2022-04-06T10:39:26.380Z"
   },
   {
    "duration": 52,
    "start_time": "2022-04-06T10:39:26.387Z"
   },
   {
    "duration": 6,
    "start_time": "2022-04-06T10:39:26.441Z"
   },
   {
    "duration": 15,
    "start_time": "2022-04-06T10:39:26.449Z"
   },
   {
    "duration": 4,
    "start_time": "2022-04-06T10:39:26.466Z"
   },
   {
    "duration": 26,
    "start_time": "2022-04-06T10:39:26.472Z"
   },
   {
    "duration": 5,
    "start_time": "2022-04-06T10:39:26.500Z"
   },
   {
    "duration": 15,
    "start_time": "2022-04-06T10:39:26.537Z"
   },
   {
    "duration": 13,
    "start_time": "2022-04-06T10:39:26.555Z"
   },
   {
    "duration": 16,
    "start_time": "2022-04-06T10:39:26.570Z"
   },
   {
    "duration": 53,
    "start_time": "2022-04-06T10:39:26.588Z"
   },
   {
    "duration": 20,
    "start_time": "2022-04-06T10:39:26.644Z"
   },
   {
    "duration": 21,
    "start_time": "2022-04-06T10:39:26.666Z"
   },
   {
    "duration": 379,
    "start_time": "2022-04-06T10:41:32.896Z"
   },
   {
    "duration": 78,
    "start_time": "2022-04-06T10:41:33.277Z"
   },
   {
    "duration": 16,
    "start_time": "2022-04-06T10:41:33.356Z"
   },
   {
    "duration": 4,
    "start_time": "2022-04-06T10:41:33.375Z"
   },
   {
    "duration": 21,
    "start_time": "2022-04-06T10:41:33.381Z"
   },
   {
    "duration": 204,
    "start_time": "2022-04-06T10:41:33.404Z"
   },
   {
    "duration": 2,
    "start_time": "2022-04-06T10:41:33.609Z"
   },
   {
    "duration": 13,
    "start_time": "2022-04-06T10:41:33.613Z"
   },
   {
    "duration": 13,
    "start_time": "2022-04-06T10:41:33.628Z"
   },
   {
    "duration": 18,
    "start_time": "2022-04-06T10:41:33.643Z"
   },
   {
    "duration": 23,
    "start_time": "2022-04-06T10:41:33.662Z"
   },
   {
    "duration": 24,
    "start_time": "2022-04-06T10:41:33.687Z"
   },
   {
    "duration": 19,
    "start_time": "2022-04-06T10:41:33.714Z"
   },
   {
    "duration": 32,
    "start_time": "2022-04-06T10:41:33.734Z"
   },
   {
    "duration": 25,
    "start_time": "2022-04-06T10:41:33.768Z"
   },
   {
    "duration": 6,
    "start_time": "2022-04-06T10:41:33.795Z"
   },
   {
    "duration": 10,
    "start_time": "2022-04-06T10:41:33.802Z"
   },
   {
    "duration": 18,
    "start_time": "2022-04-06T10:41:33.814Z"
   },
   {
    "duration": 42,
    "start_time": "2022-04-06T10:41:33.834Z"
   },
   {
    "duration": 20,
    "start_time": "2022-04-06T10:41:33.878Z"
   },
   {
    "duration": 9,
    "start_time": "2022-04-06T10:41:33.900Z"
   },
   {
    "duration": 25,
    "start_time": "2022-04-06T10:41:33.911Z"
   },
   {
    "duration": 23,
    "start_time": "2022-04-06T10:41:33.937Z"
   },
   {
    "duration": 33,
    "start_time": "2022-04-06T10:41:33.961Z"
   },
   {
    "duration": 16,
    "start_time": "2022-04-06T10:41:33.995Z"
   },
   {
    "duration": 40,
    "start_time": "2022-04-06T10:41:34.013Z"
   },
   {
    "duration": 5,
    "start_time": "2022-04-06T10:41:34.055Z"
   },
   {
    "duration": 34,
    "start_time": "2022-04-06T10:41:34.063Z"
   },
   {
    "duration": 23,
    "start_time": "2022-04-06T10:41:34.098Z"
   },
   {
    "duration": 18,
    "start_time": "2022-04-06T10:41:34.123Z"
   },
   {
    "duration": 44,
    "start_time": "2022-04-06T10:41:34.142Z"
   },
   {
    "duration": 47,
    "start_time": "2022-04-06T10:41:34.188Z"
   },
   {
    "duration": 12,
    "start_time": "2022-04-06T10:41:34.236Z"
   },
   {
    "duration": 35,
    "start_time": "2022-04-06T10:41:34.249Z"
   },
   {
    "duration": 24,
    "start_time": "2022-04-06T10:41:34.285Z"
   },
   {
    "duration": 34,
    "start_time": "2022-04-06T10:41:34.311Z"
   },
   {
    "duration": 38,
    "start_time": "2022-04-06T10:41:34.346Z"
   },
   {
    "duration": 54,
    "start_time": "2022-04-06T10:41:34.386Z"
   },
   {
    "duration": 41,
    "start_time": "2022-04-06T10:41:34.441Z"
   },
   {
    "duration": 25,
    "start_time": "2022-04-06T10:41:34.484Z"
   },
   {
    "duration": 48,
    "start_time": "2022-04-06T10:41:34.510Z"
   },
   {
    "duration": 7,
    "start_time": "2022-04-06T10:41:34.559Z"
   },
   {
    "duration": 25,
    "start_time": "2022-04-06T10:41:34.568Z"
   },
   {
    "duration": 13,
    "start_time": "2022-04-06T10:41:34.595Z"
   },
   {
    "duration": 26,
    "start_time": "2022-04-06T10:41:34.610Z"
   },
   {
    "duration": 27,
    "start_time": "2022-04-06T10:41:34.638Z"
   },
   {
    "duration": 20,
    "start_time": "2022-04-06T10:41:34.667Z"
   },
   {
    "duration": 20,
    "start_time": "2022-04-06T10:41:34.689Z"
   },
   {
    "duration": 405,
    "start_time": "2022-04-06T10:46:48.804Z"
   },
   {
    "duration": 73,
    "start_time": "2022-04-06T10:46:49.211Z"
   },
   {
    "duration": 16,
    "start_time": "2022-04-06T10:46:49.286Z"
   },
   {
    "duration": 12,
    "start_time": "2022-04-06T10:46:49.305Z"
   },
   {
    "duration": 19,
    "start_time": "2022-04-06T10:46:49.319Z"
   },
   {
    "duration": 198,
    "start_time": "2022-04-06T10:46:49.340Z"
   },
   {
    "duration": 8,
    "start_time": "2022-04-06T10:46:49.540Z"
   },
   {
    "duration": 8,
    "start_time": "2022-04-06T10:46:49.549Z"
   },
   {
    "duration": 5,
    "start_time": "2022-04-06T10:46:49.559Z"
   },
   {
    "duration": 7,
    "start_time": "2022-04-06T10:46:49.567Z"
   },
   {
    "duration": 13,
    "start_time": "2022-04-06T10:46:49.575Z"
   },
   {
    "duration": 6,
    "start_time": "2022-04-06T10:46:49.590Z"
   },
   {
    "duration": 41,
    "start_time": "2022-04-06T10:46:49.597Z"
   },
   {
    "duration": 14,
    "start_time": "2022-04-06T10:46:49.640Z"
   },
   {
    "duration": 5,
    "start_time": "2022-04-06T10:46:49.655Z"
   },
   {
    "duration": 29,
    "start_time": "2022-04-06T10:46:49.661Z"
   },
   {
    "duration": 12,
    "start_time": "2022-04-06T10:46:49.692Z"
   },
   {
    "duration": 15,
    "start_time": "2022-04-06T10:46:49.705Z"
   },
   {
    "duration": 29,
    "start_time": "2022-04-06T10:46:49.721Z"
   },
   {
    "duration": 9,
    "start_time": "2022-04-06T10:46:49.752Z"
   },
   {
    "duration": 6,
    "start_time": "2022-04-06T10:46:49.762Z"
   },
   {
    "duration": 5,
    "start_time": "2022-04-06T10:46:49.770Z"
   },
   {
    "duration": 22,
    "start_time": "2022-04-06T10:46:49.777Z"
   },
   {
    "duration": 19,
    "start_time": "2022-04-06T10:46:49.801Z"
   },
   {
    "duration": 30,
    "start_time": "2022-04-06T10:46:49.838Z"
   },
   {
    "duration": 5,
    "start_time": "2022-04-06T10:46:49.870Z"
   },
   {
    "duration": 21,
    "start_time": "2022-04-06T10:46:49.876Z"
   },
   {
    "duration": 6,
    "start_time": "2022-04-06T10:46:49.901Z"
   },
   {
    "duration": 30,
    "start_time": "2022-04-06T10:46:49.908Z"
   },
   {
    "duration": 17,
    "start_time": "2022-04-06T10:46:49.940Z"
   },
   {
    "duration": 31,
    "start_time": "2022-04-06T10:46:49.958Z"
   },
   {
    "duration": 12,
    "start_time": "2022-04-06T10:46:49.991Z"
   },
   {
    "duration": 41,
    "start_time": "2022-04-06T10:46:50.005Z"
   },
   {
    "duration": 13,
    "start_time": "2022-04-06T10:46:50.048Z"
   },
   {
    "duration": 15,
    "start_time": "2022-04-06T10:46:50.063Z"
   },
   {
    "duration": 19,
    "start_time": "2022-04-06T10:46:50.079Z"
   },
   {
    "duration": 11,
    "start_time": "2022-04-06T10:46:50.099Z"
   },
   {
    "duration": 36,
    "start_time": "2022-04-06T10:46:50.112Z"
   },
   {
    "duration": 3,
    "start_time": "2022-04-06T10:46:50.150Z"
   },
   {
    "duration": 28,
    "start_time": "2022-04-06T10:46:50.154Z"
   },
   {
    "duration": 4,
    "start_time": "2022-04-06T10:46:50.184Z"
   },
   {
    "duration": 24,
    "start_time": "2022-04-06T10:46:50.189Z"
   },
   {
    "duration": 29,
    "start_time": "2022-04-06T10:46:50.214Z"
   },
   {
    "duration": 14,
    "start_time": "2022-04-06T10:46:50.245Z"
   },
   {
    "duration": 22,
    "start_time": "2022-04-06T10:46:50.261Z"
   },
   {
    "duration": 19,
    "start_time": "2022-04-06T10:46:50.285Z"
   },
   {
    "duration": 47,
    "start_time": "2022-04-06T10:46:50.306Z"
   },
   {
    "duration": 183,
    "start_time": "2022-04-06T10:52:59.414Z"
   },
   {
    "duration": 394,
    "start_time": "2022-04-06T10:53:07.651Z"
   },
   {
    "duration": 75,
    "start_time": "2022-04-06T10:53:08.047Z"
   },
   {
    "duration": 21,
    "start_time": "2022-04-06T10:53:08.125Z"
   },
   {
    "duration": 3,
    "start_time": "2022-04-06T10:53:08.148Z"
   },
   {
    "duration": 9,
    "start_time": "2022-04-06T10:53:08.153Z"
   },
   {
    "duration": 201,
    "start_time": "2022-04-06T10:53:08.163Z"
   },
   {
    "duration": 7,
    "start_time": "2022-04-06T10:53:08.366Z"
   },
   {
    "duration": 7,
    "start_time": "2022-04-06T10:53:08.374Z"
   },
   {
    "duration": 5,
    "start_time": "2022-04-06T10:53:08.382Z"
   },
   {
    "duration": 10,
    "start_time": "2022-04-06T10:53:08.388Z"
   },
   {
    "duration": 7,
    "start_time": "2022-04-06T10:53:08.399Z"
   },
   {
    "duration": 32,
    "start_time": "2022-04-06T10:53:08.408Z"
   },
   {
    "duration": 4,
    "start_time": "2022-04-06T10:53:08.442Z"
   },
   {
    "duration": 14,
    "start_time": "2022-04-06T10:53:08.450Z"
   },
   {
    "duration": 5,
    "start_time": "2022-04-06T10:53:08.466Z"
   },
   {
    "duration": 9,
    "start_time": "2022-04-06T10:53:08.472Z"
   },
   {
    "duration": 14,
    "start_time": "2022-04-06T10:53:08.483Z"
   },
   {
    "duration": 40,
    "start_time": "2022-04-06T10:53:08.499Z"
   },
   {
    "duration": 20,
    "start_time": "2022-04-06T10:53:08.541Z"
   },
   {
    "duration": 10,
    "start_time": "2022-04-06T10:53:08.563Z"
   },
   {
    "duration": 4,
    "start_time": "2022-04-06T10:53:08.575Z"
   },
   {
    "duration": 6,
    "start_time": "2022-04-06T10:53:08.580Z"
   },
   {
    "duration": 15,
    "start_time": "2022-04-06T10:53:08.588Z"
   },
   {
    "duration": 46,
    "start_time": "2022-04-06T10:53:08.605Z"
   },
   {
    "duration": 30,
    "start_time": "2022-04-06T10:53:08.653Z"
   },
   {
    "duration": 4,
    "start_time": "2022-04-06T10:53:08.685Z"
   },
   {
    "duration": 19,
    "start_time": "2022-04-06T10:53:08.691Z"
   },
   {
    "duration": 27,
    "start_time": "2022-04-06T10:53:08.712Z"
   },
   {
    "duration": 8,
    "start_time": "2022-04-06T10:53:08.741Z"
   },
   {
    "duration": 33,
    "start_time": "2022-04-06T10:53:08.751Z"
   },
   {
    "duration": 34,
    "start_time": "2022-04-06T10:53:08.785Z"
   },
   {
    "duration": 26,
    "start_time": "2022-04-06T10:53:08.820Z"
   },
   {
    "duration": 11,
    "start_time": "2022-04-06T10:53:08.847Z"
   },
   {
    "duration": 13,
    "start_time": "2022-04-06T10:53:08.860Z"
   },
   {
    "duration": 10,
    "start_time": "2022-04-06T10:53:08.874Z"
   },
   {
    "duration": 18,
    "start_time": "2022-04-06T10:53:08.886Z"
   },
   {
    "duration": 13,
    "start_time": "2022-04-06T10:53:08.905Z"
   },
   {
    "duration": 14,
    "start_time": "2022-04-06T10:53:08.938Z"
   },
   {
    "duration": 7,
    "start_time": "2022-04-06T10:53:08.953Z"
   },
   {
    "duration": 25,
    "start_time": "2022-04-06T10:53:08.961Z"
   },
   {
    "duration": 3,
    "start_time": "2022-04-06T10:53:08.990Z"
   },
   {
    "duration": 23,
    "start_time": "2022-04-06T10:53:08.995Z"
   },
   {
    "duration": 29,
    "start_time": "2022-04-06T10:53:09.020Z"
   },
   {
    "duration": 17,
    "start_time": "2022-04-06T10:53:09.051Z"
   },
   {
    "duration": 25,
    "start_time": "2022-04-06T10:53:09.069Z"
   },
   {
    "duration": 20,
    "start_time": "2022-04-06T10:53:09.095Z"
   },
   {
    "duration": 22,
    "start_time": "2022-04-06T10:53:09.138Z"
   },
   {
    "duration": 381,
    "start_time": "2022-04-06T10:58:39.271Z"
   },
   {
    "duration": 77,
    "start_time": "2022-04-06T10:58:39.653Z"
   },
   {
    "duration": 20,
    "start_time": "2022-04-06T10:58:39.731Z"
   },
   {
    "duration": 4,
    "start_time": "2022-04-06T10:58:39.754Z"
   },
   {
    "duration": 19,
    "start_time": "2022-04-06T10:58:39.759Z"
   },
   {
    "duration": 195,
    "start_time": "2022-04-06T10:58:39.780Z"
   },
   {
    "duration": 7,
    "start_time": "2022-04-06T10:58:39.976Z"
   },
   {
    "duration": 7,
    "start_time": "2022-04-06T10:58:39.985Z"
   },
   {
    "duration": 8,
    "start_time": "2022-04-06T10:58:39.994Z"
   },
   {
    "duration": 7,
    "start_time": "2022-04-06T10:58:40.005Z"
   },
   {
    "duration": 7,
    "start_time": "2022-04-06T10:58:40.037Z"
   },
   {
    "duration": 9,
    "start_time": "2022-04-06T10:58:40.046Z"
   },
   {
    "duration": 6,
    "start_time": "2022-04-06T10:58:40.056Z"
   },
   {
    "duration": 15,
    "start_time": "2022-04-06T10:58:40.064Z"
   },
   {
    "duration": 5,
    "start_time": "2022-04-06T10:58:40.080Z"
   },
   {
    "duration": 20,
    "start_time": "2022-04-06T10:58:40.087Z"
   },
   {
    "duration": 30,
    "start_time": "2022-04-06T10:58:40.109Z"
   },
   {
    "duration": 15,
    "start_time": "2022-04-06T10:58:40.141Z"
   },
   {
    "duration": 21,
    "start_time": "2022-04-06T10:58:40.158Z"
   },
   {
    "duration": 9,
    "start_time": "2022-04-06T10:58:40.181Z"
   },
   {
    "duration": 16,
    "start_time": "2022-04-06T10:58:40.192Z"
   },
   {
    "duration": 5,
    "start_time": "2022-04-06T10:58:40.210Z"
   },
   {
    "duration": 33,
    "start_time": "2022-04-06T10:58:40.216Z"
   },
   {
    "duration": 17,
    "start_time": "2022-04-06T10:58:40.250Z"
   },
   {
    "duration": 31,
    "start_time": "2022-04-06T10:58:40.269Z"
   },
   {
    "duration": 5,
    "start_time": "2022-04-06T10:58:40.302Z"
   },
   {
    "duration": 43,
    "start_time": "2022-04-06T10:58:40.309Z"
   },
   {
    "duration": 5,
    "start_time": "2022-04-06T10:58:40.355Z"
   },
   {
    "duration": 8,
    "start_time": "2022-04-06T10:58:40.362Z"
   },
   {
    "duration": 22,
    "start_time": "2022-04-06T10:58:40.372Z"
   },
   {
    "duration": 58,
    "start_time": "2022-04-06T10:58:40.395Z"
   },
   {
    "duration": 11,
    "start_time": "2022-04-06T10:58:40.455Z"
   },
   {
    "duration": 11,
    "start_time": "2022-04-06T10:58:40.467Z"
   },
   {
    "duration": 11,
    "start_time": "2022-04-06T10:58:40.480Z"
   },
   {
    "duration": 10,
    "start_time": "2022-04-06T10:58:40.493Z"
   },
   {
    "duration": 44,
    "start_time": "2022-04-06T10:58:40.505Z"
   },
   {
    "duration": 6,
    "start_time": "2022-04-06T10:58:40.550Z"
   },
   {
    "duration": 14,
    "start_time": "2022-04-06T10:58:40.557Z"
   },
   {
    "duration": 4,
    "start_time": "2022-04-06T10:58:40.572Z"
   },
   {
    "duration": 26,
    "start_time": "2022-04-06T10:58:40.578Z"
   },
   {
    "duration": 4,
    "start_time": "2022-04-06T10:58:40.606Z"
   },
   {
    "duration": 24,
    "start_time": "2022-04-06T10:58:40.638Z"
   },
   {
    "duration": 13,
    "start_time": "2022-04-06T10:58:40.664Z"
   },
   {
    "duration": 15,
    "start_time": "2022-04-06T10:58:40.678Z"
   },
   {
    "duration": 55,
    "start_time": "2022-04-06T10:58:40.695Z"
   },
   {
    "duration": 21,
    "start_time": "2022-04-06T10:58:40.752Z"
   },
   {
    "duration": 20,
    "start_time": "2022-04-06T10:58:40.775Z"
   },
   {
    "duration": 536,
    "start_time": "2022-04-07T08:51:04.788Z"
   },
   {
    "duration": 100,
    "start_time": "2022-04-07T08:51:05.326Z"
   },
   {
    "duration": 20,
    "start_time": "2022-04-07T08:51:05.429Z"
   },
   {
    "duration": 24,
    "start_time": "2022-04-07T08:51:05.452Z"
   },
   {
    "duration": 18,
    "start_time": "2022-04-07T08:51:05.483Z"
   },
   {
    "duration": 357,
    "start_time": "2022-04-07T08:51:05.504Z"
   },
   {
    "duration": 25,
    "start_time": "2022-04-07T08:51:05.863Z"
   },
   {
    "duration": 15,
    "start_time": "2022-04-07T08:51:05.892Z"
   },
   {
    "duration": 7,
    "start_time": "2022-04-07T08:51:05.909Z"
   },
   {
    "duration": 11,
    "start_time": "2022-04-07T08:51:05.918Z"
   },
   {
    "duration": 7,
    "start_time": "2022-04-07T08:51:05.931Z"
   },
   {
    "duration": 42,
    "start_time": "2022-04-07T08:51:05.940Z"
   },
   {
    "duration": 20,
    "start_time": "2022-04-07T08:51:05.985Z"
   },
   {
    "duration": 20,
    "start_time": "2022-04-07T08:51:06.011Z"
   },
   {
    "duration": 6,
    "start_time": "2022-04-07T08:51:06.033Z"
   },
   {
    "duration": 40,
    "start_time": "2022-04-07T08:51:06.041Z"
   },
   {
    "duration": 14,
    "start_time": "2022-04-07T08:51:06.083Z"
   },
   {
    "duration": 22,
    "start_time": "2022-04-07T08:51:06.100Z"
   },
   {
    "duration": 56,
    "start_time": "2022-04-07T08:51:06.124Z"
   },
   {
    "duration": 15,
    "start_time": "2022-04-07T08:51:06.183Z"
   },
   {
    "duration": 8,
    "start_time": "2022-04-07T08:51:06.199Z"
   },
   {
    "duration": 15,
    "start_time": "2022-04-07T08:51:06.209Z"
   },
   {
    "duration": 27,
    "start_time": "2022-04-07T08:51:06.226Z"
   },
   {
    "duration": 40,
    "start_time": "2022-04-07T08:51:06.256Z"
   },
   {
    "duration": 48,
    "start_time": "2022-04-07T08:51:06.298Z"
   },
   {
    "duration": 33,
    "start_time": "2022-04-07T08:51:06.349Z"
   },
   {
    "duration": 31,
    "start_time": "2022-04-07T08:51:06.384Z"
   },
   {
    "duration": 11,
    "start_time": "2022-04-07T08:51:06.418Z"
   },
   {
    "duration": 12,
    "start_time": "2022-04-07T08:51:06.431Z"
   },
   {
    "duration": 52,
    "start_time": "2022-04-07T08:51:06.445Z"
   },
   {
    "duration": 47,
    "start_time": "2022-04-07T08:51:06.499Z"
   },
   {
    "duration": 32,
    "start_time": "2022-04-07T08:51:06.548Z"
   },
   {
    "duration": 17,
    "start_time": "2022-04-07T08:51:06.584Z"
   },
   {
    "duration": 18,
    "start_time": "2022-04-07T08:51:06.603Z"
   },
   {
    "duration": 15,
    "start_time": "2022-04-07T08:51:06.623Z"
   },
   {
    "duration": 58,
    "start_time": "2022-04-07T08:51:06.640Z"
   },
   {
    "duration": 19,
    "start_time": "2022-04-07T08:51:06.700Z"
   },
   {
    "duration": 23,
    "start_time": "2022-04-07T08:51:06.721Z"
   },
   {
    "duration": 9,
    "start_time": "2022-04-07T08:51:06.746Z"
   },
   {
    "duration": 33,
    "start_time": "2022-04-07T08:51:06.773Z"
   },
   {
    "duration": 5,
    "start_time": "2022-04-07T08:51:06.811Z"
   },
   {
    "duration": 26,
    "start_time": "2022-04-07T08:51:06.818Z"
   },
   {
    "duration": 44,
    "start_time": "2022-04-07T08:51:06.847Z"
   },
   {
    "duration": 23,
    "start_time": "2022-04-07T08:51:06.893Z"
   },
   {
    "duration": 35,
    "start_time": "2022-04-07T08:51:06.918Z"
   },
   {
    "duration": 31,
    "start_time": "2022-04-07T08:51:06.979Z"
   },
   {
    "duration": 32,
    "start_time": "2022-04-07T08:51:07.012Z"
   },
   {
    "duration": 500,
    "start_time": "2022-04-07T09:04:30.889Z"
   },
   {
    "duration": 104,
    "start_time": "2022-04-07T09:04:31.392Z"
   },
   {
    "duration": 21,
    "start_time": "2022-04-07T09:04:31.498Z"
   },
   {
    "duration": 6,
    "start_time": "2022-04-07T09:04:31.522Z"
   },
   {
    "duration": 23,
    "start_time": "2022-04-07T09:04:31.530Z"
   },
   {
    "duration": 368,
    "start_time": "2022-04-07T09:04:31.555Z"
   },
   {
    "duration": 12,
    "start_time": "2022-04-07T09:04:31.925Z"
   },
   {
    "duration": 23,
    "start_time": "2022-04-07T09:04:31.940Z"
   },
   {
    "duration": 34,
    "start_time": "2022-04-07T09:04:31.966Z"
   },
   {
    "duration": 19,
    "start_time": "2022-04-07T09:04:32.004Z"
   },
   {
    "duration": 23,
    "start_time": "2022-04-07T09:04:32.025Z"
   },
   {
    "duration": 42,
    "start_time": "2022-04-07T09:04:32.050Z"
   },
   {
    "duration": 8,
    "start_time": "2022-04-07T09:04:32.094Z"
   },
   {
    "duration": 41,
    "start_time": "2022-04-07T09:04:32.104Z"
   },
   {
    "duration": 9,
    "start_time": "2022-04-07T09:04:32.147Z"
   },
   {
    "duration": 24,
    "start_time": "2022-04-07T09:04:32.158Z"
   },
   {
    "duration": 27,
    "start_time": "2022-04-07T09:04:32.185Z"
   },
   {
    "duration": 21,
    "start_time": "2022-04-07T09:04:32.214Z"
   },
   {
    "duration": 44,
    "start_time": "2022-04-07T09:04:32.237Z"
   },
   {
    "duration": 13,
    "start_time": "2022-04-07T09:04:32.284Z"
   },
   {
    "duration": 6,
    "start_time": "2022-04-07T09:04:32.298Z"
   },
   {
    "duration": 5,
    "start_time": "2022-04-07T09:04:32.306Z"
   },
   {
    "duration": 24,
    "start_time": "2022-04-07T09:04:32.313Z"
   },
   {
    "duration": 53,
    "start_time": "2022-04-07T09:04:32.339Z"
   },
   {
    "duration": 50,
    "start_time": "2022-04-07T09:04:32.394Z"
   },
   {
    "duration": 8,
    "start_time": "2022-04-07T09:04:32.446Z"
   },
   {
    "duration": 27,
    "start_time": "2022-04-07T09:04:32.473Z"
   },
   {
    "duration": 6,
    "start_time": "2022-04-07T09:04:32.505Z"
   },
   {
    "duration": 21,
    "start_time": "2022-04-07T09:04:32.513Z"
   },
   {
    "duration": 54,
    "start_time": "2022-04-07T09:04:32.536Z"
   },
   {
    "duration": 46,
    "start_time": "2022-04-07T09:04:32.592Z"
   },
   {
    "duration": 44,
    "start_time": "2022-04-07T09:04:32.641Z"
   },
   {
    "duration": 19,
    "start_time": "2022-04-07T09:04:32.688Z"
   },
   {
    "duration": 19,
    "start_time": "2022-04-07T09:04:32.709Z"
   },
   {
    "duration": 18,
    "start_time": "2022-04-07T09:04:32.731Z"
   },
   {
    "duration": 50,
    "start_time": "2022-04-07T09:04:32.752Z"
   },
   {
    "duration": 10,
    "start_time": "2022-04-07T09:04:32.805Z"
   },
   {
    "duration": 22,
    "start_time": "2022-04-07T09:04:32.817Z"
   },
   {
    "duration": 8,
    "start_time": "2022-04-07T09:04:32.877Z"
   },
   {
    "duration": 40,
    "start_time": "2022-04-07T09:04:32.888Z"
   },
   {
    "duration": 5,
    "start_time": "2022-04-07T09:04:32.930Z"
   },
   {
    "duration": 31,
    "start_time": "2022-04-07T09:04:32.937Z"
   },
   {
    "duration": 18,
    "start_time": "2022-04-07T09:04:32.982Z"
   },
   {
    "duration": 22,
    "start_time": "2022-04-07T09:04:33.003Z"
   },
   {
    "duration": 52,
    "start_time": "2022-04-07T09:04:33.027Z"
   },
   {
    "duration": 29,
    "start_time": "2022-04-07T09:04:33.081Z"
   },
   {
    "duration": 31,
    "start_time": "2022-04-07T09:04:33.112Z"
   },
   {
    "duration": 508,
    "start_time": "2022-04-07T09:05:19.311Z"
   },
   {
    "duration": 108,
    "start_time": "2022-04-07T09:05:19.822Z"
   },
   {
    "duration": 23,
    "start_time": "2022-04-07T09:05:19.933Z"
   },
   {
    "duration": 5,
    "start_time": "2022-04-07T09:05:19.981Z"
   },
   {
    "duration": 24,
    "start_time": "2022-04-07T09:05:19.989Z"
   },
   {
    "duration": 356,
    "start_time": "2022-04-07T09:05:20.015Z"
   },
   {
    "duration": 13,
    "start_time": "2022-04-07T09:05:20.378Z"
   },
   {
    "duration": 11,
    "start_time": "2022-04-07T09:05:20.394Z"
   },
   {
    "duration": 7,
    "start_time": "2022-04-07T09:05:20.408Z"
   },
   {
    "duration": 10,
    "start_time": "2022-04-07T09:05:20.418Z"
   },
   {
    "duration": 52,
    "start_time": "2022-04-07T09:05:20.430Z"
   },
   {
    "duration": 16,
    "start_time": "2022-04-07T09:05:20.484Z"
   },
   {
    "duration": 7,
    "start_time": "2022-04-07T09:05:20.502Z"
   },
   {
    "duration": 18,
    "start_time": "2022-04-07T09:05:20.514Z"
   },
   {
    "duration": 6,
    "start_time": "2022-04-07T09:05:20.534Z"
   },
   {
    "duration": 8,
    "start_time": "2022-04-07T09:05:20.575Z"
   },
   {
    "duration": 27,
    "start_time": "2022-04-07T09:05:20.585Z"
   },
   {
    "duration": 22,
    "start_time": "2022-04-07T09:05:20.614Z"
   },
   {
    "duration": 49,
    "start_time": "2022-04-07T09:05:20.638Z"
   },
   {
    "duration": 13,
    "start_time": "2022-04-07T09:05:20.690Z"
   },
   {
    "duration": 9,
    "start_time": "2022-04-07T09:05:20.705Z"
   },
   {
    "duration": 11,
    "start_time": "2022-04-07T09:05:20.716Z"
   },
   {
    "duration": 31,
    "start_time": "2022-04-07T09:05:20.729Z"
   },
   {
    "duration": 28,
    "start_time": "2022-04-07T09:05:20.774Z"
   },
   {
    "duration": 47,
    "start_time": "2022-04-07T09:05:20.805Z"
   },
   {
    "duration": 9,
    "start_time": "2022-04-07T09:05:20.873Z"
   },
   {
    "duration": 25,
    "start_time": "2022-04-07T09:05:20.887Z"
   },
   {
    "duration": 8,
    "start_time": "2022-04-07T09:05:20.915Z"
   },
   {
    "duration": 12,
    "start_time": "2022-04-07T09:05:20.925Z"
   },
   {
    "duration": 67,
    "start_time": "2022-04-07T09:05:20.939Z"
   },
   {
    "duration": 73,
    "start_time": "2022-04-07T09:05:21.008Z"
   },
   {
    "duration": 17,
    "start_time": "2022-04-07T09:05:21.084Z"
   },
   {
    "duration": 16,
    "start_time": "2022-04-07T09:05:21.104Z"
   },
   {
    "duration": 18,
    "start_time": "2022-04-07T09:05:21.122Z"
   },
   {
    "duration": 38,
    "start_time": "2022-04-07T09:05:21.142Z"
   },
   {
    "duration": 31,
    "start_time": "2022-04-07T09:05:21.182Z"
   },
   {
    "duration": 7,
    "start_time": "2022-04-07T09:05:21.215Z"
   },
   {
    "duration": 20,
    "start_time": "2022-04-07T09:05:21.224Z"
   },
   {
    "duration": 6,
    "start_time": "2022-04-07T09:05:21.282Z"
   },
   {
    "duration": 32,
    "start_time": "2022-04-07T09:05:21.290Z"
   },
   {
    "duration": 5,
    "start_time": "2022-04-07T09:05:21.328Z"
   },
   {
    "duration": 44,
    "start_time": "2022-04-07T09:05:21.335Z"
   },
   {
    "duration": 19,
    "start_time": "2022-04-07T09:05:21.381Z"
   },
   {
    "duration": 23,
    "start_time": "2022-04-07T09:05:21.402Z"
   },
   {
    "duration": 51,
    "start_time": "2022-04-07T09:05:21.427Z"
   },
   {
    "duration": 30,
    "start_time": "2022-04-07T09:05:21.481Z"
   },
   {
    "duration": 32,
    "start_time": "2022-04-07T09:05:21.513Z"
   }
  ],
  "kernelspec": {
   "display_name": "Python 3 (ipykernel)",
   "language": "python",
   "name": "python3"
  },
  "language_info": {
   "codemirror_mode": {
    "name": "ipython",
    "version": 3
   },
   "file_extension": ".py",
   "mimetype": "text/x-python",
   "name": "python",
   "nbconvert_exporter": "python",
   "pygments_lexer": "ipython3",
   "version": "3.9.7"
  },
  "toc": {
   "base_numbering": 1,
   "nav_menu": {},
   "number_sections": true,
   "sideBar": true,
   "skip_h1_title": true,
   "title_cell": "Table of Contents",
   "title_sidebar": "Contents",
   "toc_cell": false,
   "toc_position": {},
   "toc_section_display": true,
   "toc_window_display": false
  }
 },
 "nbformat": 4,
 "nbformat_minor": 5
}
