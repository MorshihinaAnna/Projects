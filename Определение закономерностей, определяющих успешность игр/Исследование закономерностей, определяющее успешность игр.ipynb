{
 "cells": [
  {
   "cell_type": "markdown",
   "id": "f72eb20f",
   "metadata": {},
   "source": [
    "# Исследование закономерностей определяющих успешность игр"
   ]
  },
  {
   "cell_type": "markdown",
   "id": "faec6c50",
   "metadata": {},
   "source": [
    "Интернет-магазин «Стримчик» продаёт по всему миру компьютерные игры. Из открытых источников доступны исторические данные о продажах игр, оценки пользователей и экспертов, жанры и платформы. Необходимо выявить определяющие успешность игры закономерности. Это позволит сделать ставку на потенциально популярный продукт и спланировать рекламные кампании. Представлены данные до 2016 года. Необходимо спланировать кампанию на 2017-й. \n",
    "\n",
    "В наборе данных попадается аббревиатура ESRB (Entertainment Software Rating Board) — это ассоциация, определяющая возрастной рейтинг компьютерных игр. ESRB оценивает игровой контент и присваивает ему подходящую возрастную категорию, например, «Для взрослых», «Для детей младшего возраста» или «Для подростков». \n",
    "\n",
    "**Цель исследования:** выявление закономерностей, определяющих успешность игры, проверка гипотез:\n",
    "\n",
    "- cредние пользовательские рейтинги платформ Xbox One и PC одинаковые;\n",
    "- cредние пользовательские рейтинги жанров Action и Sports разные.\n",
    "\n",
    "**Ход исследования:**\n",
    "Данные представлены в таблицe: `games.csv`. О качестве данных ничего не известно, поэтому потребуется предобработка данных.\n",
    "\n",
    "Исследование пройдет в 5 этапов:\n",
    "\n",
    "- обзор данных;\n",
    "- предобработка данных;\n",
    "- анализ данных;\n",
    "- портрет пользователя;\n",
    "- проверка гипотез"
   ]
  },
  {
   "cell_type": "markdown",
   "id": "87ac8267",
   "metadata": {
    "toc": true
   },
   "source": [
    "<h1>Содержание<span class=\"tocSkip\"></span></h1>\n",
    "<div class=\"toc\"><ul class=\"toc-item\"><li><span><a href=\"#Обзор-данных\" data-toc-modified-id=\"Обзор-данных-1\"><span class=\"toc-item-num\">1&nbsp;&nbsp;</span>Обзор данных</a></span></li><li><span><a href=\"#Предобработка-данных\" data-toc-modified-id=\"Предобработка-данных-2\"><span class=\"toc-item-num\">2&nbsp;&nbsp;</span>Предобработка данных</a></span><ul class=\"toc-item\"><li><span><a href=\"#Проверка-данных-на-аномалии-и-исправление\" data-toc-modified-id=\"Проверка-данных-на-аномалии-и-исправление-2.1\"><span class=\"toc-item-num\">2.1&nbsp;&nbsp;</span>Проверка данных на аномалии и исправление</a></span></li><li><span><a href=\"#Пропущенные-значения\" data-toc-modified-id=\"Пропущенные-значения-2.2\"><span class=\"toc-item-num\">2.2&nbsp;&nbsp;</span>Пропущенные значения</a></span></li><li><span><a href=\"#Изменение-типов-данных\" data-toc-modified-id=\"Изменение-типов-данных-2.3\"><span class=\"toc-item-num\">2.3&nbsp;&nbsp;</span>Изменение типов данных</a></span></li><li><span><a href=\"#Удаление-дубликатов\" data-toc-modified-id=\"Удаление-дубликатов-2.4\"><span class=\"toc-item-num\">2.4&nbsp;&nbsp;</span>Удаление дубликатов</a></span></li><li><span><a href=\"#Добавляем-данные-в-таблицу\" data-toc-modified-id=\"Добавляем-данные-в-таблицу-2.5\"><span class=\"toc-item-num\">2.5&nbsp;&nbsp;</span>Добавляем данные в таблицу</a></span></li></ul></li><li><span><a href=\"#Анализ-данных\" data-toc-modified-id=\"Анализ-данных-3\"><span class=\"toc-item-num\">3&nbsp;&nbsp;</span>Анализ данных</a></span></li><li><span><a href=\"#Портрет-пользователя\" data-toc-modified-id=\"Портрет-пользователя-4\"><span class=\"toc-item-num\">4&nbsp;&nbsp;</span>Портрет пользователя</a></span></li><li><span><a href=\"#Проверка-гипотез\" data-toc-modified-id=\"Проверка-гипотез-5\"><span class=\"toc-item-num\">5&nbsp;&nbsp;</span>Проверка гипотез</a></span><ul class=\"toc-item\"><li><span><a href=\"#Проверка-первой-гипотезы\" data-toc-modified-id=\"Проверка-первой-гипотезы-5.1\"><span class=\"toc-item-num\">5.1&nbsp;&nbsp;</span>Проверка первой гипотезы</a></span></li><li><span><a href=\"#Проверка-второй-гипотезы\" data-toc-modified-id=\"Проверка-второй-гипотезы-5.2\"><span class=\"toc-item-num\">5.2&nbsp;&nbsp;</span>Проверка второй гипотезы</a></span></li></ul></li><li><span><a href=\"#Итоги-исследования\" data-toc-modified-id=\"Итоги-исследования-6\"><span class=\"toc-item-num\">6&nbsp;&nbsp;</span>Итоги исследования</a></span></li></ul></div>"
   ]
  },
  {
   "cell_type": "markdown",
   "id": "575753fc",
   "metadata": {},
   "source": [
    "## Обзор данных"
   ]
  },
  {
   "cell_type": "code",
   "execution_count": 1,
   "id": "f702bc88",
   "metadata": {},
   "outputs": [],
   "source": [
    "import pandas as pd\n",
    "import numpy as np\n",
    "import seaborn as sns\n",
    "import matplotlib.pyplot as plt\n",
    "import math\n",
    "from scipy import stats as st"
   ]
  },
  {
   "cell_type": "code",
   "execution_count": 2,
   "id": "58d6b24b",
   "metadata": {},
   "outputs": [
    {
     "data": {
      "text/html": [
       "<div>\n",
       "<style scoped>\n",
       "    .dataframe tbody tr th:only-of-type {\n",
       "        vertical-align: middle;\n",
       "    }\n",
       "\n",
       "    .dataframe tbody tr th {\n",
       "        vertical-align: top;\n",
       "    }\n",
       "\n",
       "    .dataframe thead th {\n",
       "        text-align: right;\n",
       "    }\n",
       "</style>\n",
       "<table border=\"1\" class=\"dataframe\">\n",
       "  <thead>\n",
       "    <tr style=\"text-align: right;\">\n",
       "      <th></th>\n",
       "      <th>Name</th>\n",
       "      <th>Platform</th>\n",
       "      <th>Year_of_Release</th>\n",
       "      <th>Genre</th>\n",
       "      <th>NA_sales</th>\n",
       "      <th>EU_sales</th>\n",
       "      <th>JP_sales</th>\n",
       "      <th>Other_sales</th>\n",
       "      <th>Critic_Score</th>\n",
       "      <th>User_Score</th>\n",
       "      <th>Rating</th>\n",
       "    </tr>\n",
       "  </thead>\n",
       "  <tbody>\n",
       "    <tr>\n",
       "      <th>0</th>\n",
       "      <td>Wii Sports</td>\n",
       "      <td>Wii</td>\n",
       "      <td>2006.0</td>\n",
       "      <td>Sports</td>\n",
       "      <td>41.36</td>\n",
       "      <td>28.96</td>\n",
       "      <td>3.77</td>\n",
       "      <td>8.45</td>\n",
       "      <td>76.0</td>\n",
       "      <td>8</td>\n",
       "      <td>E</td>\n",
       "    </tr>\n",
       "    <tr>\n",
       "      <th>1</th>\n",
       "      <td>Super Mario Bros.</td>\n",
       "      <td>NES</td>\n",
       "      <td>1985.0</td>\n",
       "      <td>Platform</td>\n",
       "      <td>29.08</td>\n",
       "      <td>3.58</td>\n",
       "      <td>6.81</td>\n",
       "      <td>0.77</td>\n",
       "      <td>NaN</td>\n",
       "      <td>NaN</td>\n",
       "      <td>NaN</td>\n",
       "    </tr>\n",
       "    <tr>\n",
       "      <th>2</th>\n",
       "      <td>Mario Kart Wii</td>\n",
       "      <td>Wii</td>\n",
       "      <td>2008.0</td>\n",
       "      <td>Racing</td>\n",
       "      <td>15.68</td>\n",
       "      <td>12.76</td>\n",
       "      <td>3.79</td>\n",
       "      <td>3.29</td>\n",
       "      <td>82.0</td>\n",
       "      <td>8.3</td>\n",
       "      <td>E</td>\n",
       "    </tr>\n",
       "    <tr>\n",
       "      <th>3</th>\n",
       "      <td>Wii Sports Resort</td>\n",
       "      <td>Wii</td>\n",
       "      <td>2009.0</td>\n",
       "      <td>Sports</td>\n",
       "      <td>15.61</td>\n",
       "      <td>10.93</td>\n",
       "      <td>3.28</td>\n",
       "      <td>2.95</td>\n",
       "      <td>80.0</td>\n",
       "      <td>8</td>\n",
       "      <td>E</td>\n",
       "    </tr>\n",
       "    <tr>\n",
       "      <th>4</th>\n",
       "      <td>Pokemon Red/Pokemon Blue</td>\n",
       "      <td>GB</td>\n",
       "      <td>1996.0</td>\n",
       "      <td>Role-Playing</td>\n",
       "      <td>11.27</td>\n",
       "      <td>8.89</td>\n",
       "      <td>10.22</td>\n",
       "      <td>1.00</td>\n",
       "      <td>NaN</td>\n",
       "      <td>NaN</td>\n",
       "      <td>NaN</td>\n",
       "    </tr>\n",
       "  </tbody>\n",
       "</table>\n",
       "</div>"
      ],
      "text/plain": [
       "                       Name Platform  Year_of_Release         Genre  NA_sales  \\\n",
       "0                Wii Sports      Wii           2006.0        Sports     41.36   \n",
       "1         Super Mario Bros.      NES           1985.0      Platform     29.08   \n",
       "2            Mario Kart Wii      Wii           2008.0        Racing     15.68   \n",
       "3         Wii Sports Resort      Wii           2009.0        Sports     15.61   \n",
       "4  Pokemon Red/Pokemon Blue       GB           1996.0  Role-Playing     11.27   \n",
       "\n",
       "   EU_sales  JP_sales  Other_sales  Critic_Score User_Score Rating  \n",
       "0     28.96      3.77         8.45          76.0          8      E  \n",
       "1      3.58      6.81         0.77           NaN        NaN    NaN  \n",
       "2     12.76      3.79         3.29          82.0        8.3      E  \n",
       "3     10.93      3.28         2.95          80.0          8      E  \n",
       "4      8.89     10.22         1.00           NaN        NaN    NaN  "
      ]
     },
     "execution_count": 2,
     "metadata": {},
     "output_type": "execute_result"
    }
   ],
   "source": [
    "try:\n",
    "    games = pd.read_csv('C:/Users/Anna/Desktop/Обучение/Яндекс практикум/Сборный проект-1/games.csv')\n",
    "   \n",
    "except FileNotFoundError:\n",
    "    games = pd.read_csv('/datasets/games.csv')\n",
    "\n",
    "games.head()"
   ]
  },
  {
   "cell_type": "code",
   "execution_count": 3,
   "id": "e64977cf",
   "metadata": {},
   "outputs": [
    {
     "name": "stdout",
     "output_type": "stream",
     "text": [
      "<class 'pandas.core.frame.DataFrame'>\n",
      "RangeIndex: 16715 entries, 0 to 16714\n",
      "Data columns (total 11 columns):\n",
      " #   Column           Non-Null Count  Dtype  \n",
      "---  ------           --------------  -----  \n",
      " 0   Name             16713 non-null  object \n",
      " 1   Platform         16715 non-null  object \n",
      " 2   Year_of_Release  16446 non-null  float64\n",
      " 3   Genre            16713 non-null  object \n",
      " 4   NA_sales         16715 non-null  float64\n",
      " 5   EU_sales         16715 non-null  float64\n",
      " 6   JP_sales         16715 non-null  float64\n",
      " 7   Other_sales      16715 non-null  float64\n",
      " 8   Critic_Score     8137 non-null   float64\n",
      " 9   User_Score       10014 non-null  object \n",
      " 10  Rating           9949 non-null   object \n",
      "dtypes: float64(6), object(5)\n",
      "memory usage: 1.4+ MB\n"
     ]
    }
   ],
   "source": [
    "games.info() #получаем информацию о данных"
   ]
  },
  {
   "cell_type": "markdown",
   "id": "050d7393",
   "metadata": {},
   "source": [
    "В таблице games 11 столбцов и 16715 строк, тип данных представленный в таблице object, float64. \n",
    "\n",
    "Согласно документации к таблице:\n",
    "- `Name` — название игры \n",
    "- `Platform` — платформа \n",
    "- `Year_of_Release` — год выпуска \n",
    "- `Genre` — жанр игры \n",
    "- `NA_sales` — продажи в Северной Америке (миллионы проданных копий) \n",
    "- `EU_sales` — продажи в Европе (миллионы проданных копий) \n",
    "- `JP_sales` — продажи в Японии (миллионы проданных копий) \n",
    "- `Other_sales` — продажи в других странах (миллионы проданных копий) \n",
    "- `Critic_Score` — оценка критиков (максимум 100) \n",
    "- `User_Score` — оценка пользователей (максимум 10) \n",
    "- `Rating` — рейтинг от организации ESRB (англ. Entertainment Software Rating Board). Эта ассоциация определяет рейтинг компьютерных игр и присваивает им подходящую возрастную категорию. \n",
    "\n",
    "Данные за 2016 год могут быть неполными."
   ]
  },
  {
   "cell_type": "markdown",
   "id": "86680d76",
   "metadata": {},
   "source": [
    "**Выводы:** \n",
    "Таблица 'games.csv' содержит столбцы с данными об играх: название, платформа, год выпуска, жанр, также количество проданных копий в Северной Америке, Европе, Японии и других странах, и оценки критиков, пользователей и рейтинг от организации ESRB.\n",
    "Обнаружены и требуют исправления:\n",
    "- некорректные названия столбцов;\n",
    "- типы данных в столбцах требуют замены;\n",
    "- пропущенные значения в столбцах:  `Name`, `Year_of_Release`, `Genre`, `Critic_Score`, `User_Score`, `Rating`."
   ]
  },
  {
   "cell_type": "markdown",
   "id": "d2d610cc",
   "metadata": {},
   "source": [
    "## Предобработка данных"
   ]
  },
  {
   "cell_type": "markdown",
   "id": "ee448690",
   "metadata": {},
   "source": [
    "Сначала приведем все названия столбцов таблицы, а также категориальные столбцы к нижнему регистру."
   ]
  },
  {
   "cell_type": "code",
   "execution_count": 4,
   "id": "a4f5990f",
   "metadata": {},
   "outputs": [
    {
     "data": {
      "text/html": [
       "<div>\n",
       "<style scoped>\n",
       "    .dataframe tbody tr th:only-of-type {\n",
       "        vertical-align: middle;\n",
       "    }\n",
       "\n",
       "    .dataframe tbody tr th {\n",
       "        vertical-align: top;\n",
       "    }\n",
       "\n",
       "    .dataframe thead th {\n",
       "        text-align: right;\n",
       "    }\n",
       "</style>\n",
       "<table border=\"1\" class=\"dataframe\">\n",
       "  <thead>\n",
       "    <tr style=\"text-align: right;\">\n",
       "      <th></th>\n",
       "      <th>name</th>\n",
       "      <th>platform</th>\n",
       "      <th>year_of_release</th>\n",
       "      <th>genre</th>\n",
       "      <th>na_sales</th>\n",
       "      <th>eu_sales</th>\n",
       "      <th>jp_sales</th>\n",
       "      <th>other_sales</th>\n",
       "      <th>critic_score</th>\n",
       "      <th>user_score</th>\n",
       "      <th>rating</th>\n",
       "    </tr>\n",
       "  </thead>\n",
       "  <tbody>\n",
       "    <tr>\n",
       "      <th>0</th>\n",
       "      <td>wii sports</td>\n",
       "      <td>wii</td>\n",
       "      <td>2006.0</td>\n",
       "      <td>sports</td>\n",
       "      <td>41.36</td>\n",
       "      <td>28.96</td>\n",
       "      <td>3.77</td>\n",
       "      <td>8.45</td>\n",
       "      <td>76.0</td>\n",
       "      <td>8</td>\n",
       "      <td>e</td>\n",
       "    </tr>\n",
       "    <tr>\n",
       "      <th>1</th>\n",
       "      <td>super mario bros.</td>\n",
       "      <td>nes</td>\n",
       "      <td>1985.0</td>\n",
       "      <td>platform</td>\n",
       "      <td>29.08</td>\n",
       "      <td>3.58</td>\n",
       "      <td>6.81</td>\n",
       "      <td>0.77</td>\n",
       "      <td>NaN</td>\n",
       "      <td>NaN</td>\n",
       "      <td>NaN</td>\n",
       "    </tr>\n",
       "    <tr>\n",
       "      <th>2</th>\n",
       "      <td>mario kart wii</td>\n",
       "      <td>wii</td>\n",
       "      <td>2008.0</td>\n",
       "      <td>racing</td>\n",
       "      <td>15.68</td>\n",
       "      <td>12.76</td>\n",
       "      <td>3.79</td>\n",
       "      <td>3.29</td>\n",
       "      <td>82.0</td>\n",
       "      <td>8.3</td>\n",
       "      <td>e</td>\n",
       "    </tr>\n",
       "    <tr>\n",
       "      <th>3</th>\n",
       "      <td>wii sports resort</td>\n",
       "      <td>wii</td>\n",
       "      <td>2009.0</td>\n",
       "      <td>sports</td>\n",
       "      <td>15.61</td>\n",
       "      <td>10.93</td>\n",
       "      <td>3.28</td>\n",
       "      <td>2.95</td>\n",
       "      <td>80.0</td>\n",
       "      <td>8</td>\n",
       "      <td>e</td>\n",
       "    </tr>\n",
       "    <tr>\n",
       "      <th>4</th>\n",
       "      <td>pokemon red/pokemon blue</td>\n",
       "      <td>gb</td>\n",
       "      <td>1996.0</td>\n",
       "      <td>role-playing</td>\n",
       "      <td>11.27</td>\n",
       "      <td>8.89</td>\n",
       "      <td>10.22</td>\n",
       "      <td>1.00</td>\n",
       "      <td>NaN</td>\n",
       "      <td>NaN</td>\n",
       "      <td>NaN</td>\n",
       "    </tr>\n",
       "  </tbody>\n",
       "</table>\n",
       "</div>"
      ],
      "text/plain": [
       "                       name platform  year_of_release         genre  na_sales  \\\n",
       "0                wii sports      wii           2006.0        sports     41.36   \n",
       "1         super mario bros.      nes           1985.0      platform     29.08   \n",
       "2            mario kart wii      wii           2008.0        racing     15.68   \n",
       "3         wii sports resort      wii           2009.0        sports     15.61   \n",
       "4  pokemon red/pokemon blue       gb           1996.0  role-playing     11.27   \n",
       "\n",
       "   eu_sales  jp_sales  other_sales  critic_score user_score rating  \n",
       "0     28.96      3.77         8.45          76.0          8      e  \n",
       "1      3.58      6.81         0.77           NaN        NaN    NaN  \n",
       "2     12.76      3.79         3.29          82.0        8.3      e  \n",
       "3     10.93      3.28         2.95          80.0          8      e  \n",
       "4      8.89     10.22         1.00           NaN        NaN    NaN  "
      ]
     },
     "execution_count": 4,
     "metadata": {},
     "output_type": "execute_result"
    }
   ],
   "source": [
    "games.columns =games.columns.str.lower() # приводим названия столбцов к нижнему регистру\n",
    "games['name'] = games['name'].str.lower() # приводим содержание столбцов к нижнему регистру\n",
    "games['platform'] = games['platform'].str.lower()\n",
    "games['genre'] = games['genre'].str.lower()\n",
    "games['rating'] = games['rating'].str.lower()\n",
    "games.head() # проверяем произведенные изменения"
   ]
  },
  {
   "cell_type": "markdown",
   "id": "220c5839",
   "metadata": {},
   "source": [
    "### Проверка данных на аномалии и исправление"
   ]
  },
  {
   "cell_type": "markdown",
   "id": "697a6654",
   "metadata": {},
   "source": [
    "Для проверки данных на аномалии воспользуемся методом describe() с параметром 'include', чтобы получить описание в столбцах, содержащих не только количественные, но и качественные данные. "
   ]
  },
  {
   "cell_type": "code",
   "execution_count": 5,
   "id": "bc01861b",
   "metadata": {},
   "outputs": [
    {
     "data": {
      "text/html": [
       "<div>\n",
       "<style scoped>\n",
       "    .dataframe tbody tr th:only-of-type {\n",
       "        vertical-align: middle;\n",
       "    }\n",
       "\n",
       "    .dataframe tbody tr th {\n",
       "        vertical-align: top;\n",
       "    }\n",
       "\n",
       "    .dataframe thead th {\n",
       "        text-align: right;\n",
       "    }\n",
       "</style>\n",
       "<table border=\"1\" class=\"dataframe\">\n",
       "  <thead>\n",
       "    <tr style=\"text-align: right;\">\n",
       "      <th></th>\n",
       "      <th>count</th>\n",
       "      <th>unique</th>\n",
       "      <th>top</th>\n",
       "      <th>freq</th>\n",
       "      <th>mean</th>\n",
       "      <th>std</th>\n",
       "      <th>min</th>\n",
       "      <th>25%</th>\n",
       "      <th>50%</th>\n",
       "      <th>75%</th>\n",
       "      <th>max</th>\n",
       "    </tr>\n",
       "  </thead>\n",
       "  <tbody>\n",
       "    <tr>\n",
       "      <th>name</th>\n",
       "      <td>16713</td>\n",
       "      <td>11559</td>\n",
       "      <td>need for speed: most wanted</td>\n",
       "      <td>12</td>\n",
       "      <td>NaN</td>\n",
       "      <td>NaN</td>\n",
       "      <td>NaN</td>\n",
       "      <td>NaN</td>\n",
       "      <td>NaN</td>\n",
       "      <td>NaN</td>\n",
       "      <td>NaN</td>\n",
       "    </tr>\n",
       "    <tr>\n",
       "      <th>platform</th>\n",
       "      <td>16715</td>\n",
       "      <td>31</td>\n",
       "      <td>ps2</td>\n",
       "      <td>2161</td>\n",
       "      <td>NaN</td>\n",
       "      <td>NaN</td>\n",
       "      <td>NaN</td>\n",
       "      <td>NaN</td>\n",
       "      <td>NaN</td>\n",
       "      <td>NaN</td>\n",
       "      <td>NaN</td>\n",
       "    </tr>\n",
       "    <tr>\n",
       "      <th>year_of_release</th>\n",
       "      <td>16446.0</td>\n",
       "      <td>NaN</td>\n",
       "      <td>NaN</td>\n",
       "      <td>NaN</td>\n",
       "      <td>2006.484616</td>\n",
       "      <td>5.87705</td>\n",
       "      <td>1980.0</td>\n",
       "      <td>2003.0</td>\n",
       "      <td>2007.0</td>\n",
       "      <td>2010.0</td>\n",
       "      <td>2016.0</td>\n",
       "    </tr>\n",
       "    <tr>\n",
       "      <th>genre</th>\n",
       "      <td>16713</td>\n",
       "      <td>12</td>\n",
       "      <td>action</td>\n",
       "      <td>3369</td>\n",
       "      <td>NaN</td>\n",
       "      <td>NaN</td>\n",
       "      <td>NaN</td>\n",
       "      <td>NaN</td>\n",
       "      <td>NaN</td>\n",
       "      <td>NaN</td>\n",
       "      <td>NaN</td>\n",
       "    </tr>\n",
       "    <tr>\n",
       "      <th>na_sales</th>\n",
       "      <td>16715.0</td>\n",
       "      <td>NaN</td>\n",
       "      <td>NaN</td>\n",
       "      <td>NaN</td>\n",
       "      <td>0.263377</td>\n",
       "      <td>0.813604</td>\n",
       "      <td>0.0</td>\n",
       "      <td>0.0</td>\n",
       "      <td>0.08</td>\n",
       "      <td>0.24</td>\n",
       "      <td>41.36</td>\n",
       "    </tr>\n",
       "    <tr>\n",
       "      <th>eu_sales</th>\n",
       "      <td>16715.0</td>\n",
       "      <td>NaN</td>\n",
       "      <td>NaN</td>\n",
       "      <td>NaN</td>\n",
       "      <td>0.14506</td>\n",
       "      <td>0.503339</td>\n",
       "      <td>0.0</td>\n",
       "      <td>0.0</td>\n",
       "      <td>0.02</td>\n",
       "      <td>0.11</td>\n",
       "      <td>28.96</td>\n",
       "    </tr>\n",
       "    <tr>\n",
       "      <th>jp_sales</th>\n",
       "      <td>16715.0</td>\n",
       "      <td>NaN</td>\n",
       "      <td>NaN</td>\n",
       "      <td>NaN</td>\n",
       "      <td>0.077617</td>\n",
       "      <td>0.308853</td>\n",
       "      <td>0.0</td>\n",
       "      <td>0.0</td>\n",
       "      <td>0.0</td>\n",
       "      <td>0.04</td>\n",
       "      <td>10.22</td>\n",
       "    </tr>\n",
       "    <tr>\n",
       "      <th>other_sales</th>\n",
       "      <td>16715.0</td>\n",
       "      <td>NaN</td>\n",
       "      <td>NaN</td>\n",
       "      <td>NaN</td>\n",
       "      <td>0.047342</td>\n",
       "      <td>0.186731</td>\n",
       "      <td>0.0</td>\n",
       "      <td>0.0</td>\n",
       "      <td>0.01</td>\n",
       "      <td>0.03</td>\n",
       "      <td>10.57</td>\n",
       "    </tr>\n",
       "    <tr>\n",
       "      <th>critic_score</th>\n",
       "      <td>8137.0</td>\n",
       "      <td>NaN</td>\n",
       "      <td>NaN</td>\n",
       "      <td>NaN</td>\n",
       "      <td>68.967679</td>\n",
       "      <td>13.938165</td>\n",
       "      <td>13.0</td>\n",
       "      <td>60.0</td>\n",
       "      <td>71.0</td>\n",
       "      <td>79.0</td>\n",
       "      <td>98.0</td>\n",
       "    </tr>\n",
       "    <tr>\n",
       "      <th>user_score</th>\n",
       "      <td>10014</td>\n",
       "      <td>96</td>\n",
       "      <td>tbd</td>\n",
       "      <td>2424</td>\n",
       "      <td>NaN</td>\n",
       "      <td>NaN</td>\n",
       "      <td>NaN</td>\n",
       "      <td>NaN</td>\n",
       "      <td>NaN</td>\n",
       "      <td>NaN</td>\n",
       "      <td>NaN</td>\n",
       "    </tr>\n",
       "    <tr>\n",
       "      <th>rating</th>\n",
       "      <td>9949</td>\n",
       "      <td>8</td>\n",
       "      <td>e</td>\n",
       "      <td>3990</td>\n",
       "      <td>NaN</td>\n",
       "      <td>NaN</td>\n",
       "      <td>NaN</td>\n",
       "      <td>NaN</td>\n",
       "      <td>NaN</td>\n",
       "      <td>NaN</td>\n",
       "      <td>NaN</td>\n",
       "    </tr>\n",
       "  </tbody>\n",
       "</table>\n",
       "</div>"
      ],
      "text/plain": [
       "                   count unique                          top  freq  \\\n",
       "name               16713  11559  need for speed: most wanted    12   \n",
       "platform           16715     31                          ps2  2161   \n",
       "year_of_release  16446.0    NaN                          NaN   NaN   \n",
       "genre              16713     12                       action  3369   \n",
       "na_sales         16715.0    NaN                          NaN   NaN   \n",
       "eu_sales         16715.0    NaN                          NaN   NaN   \n",
       "jp_sales         16715.0    NaN                          NaN   NaN   \n",
       "other_sales      16715.0    NaN                          NaN   NaN   \n",
       "critic_score      8137.0    NaN                          NaN   NaN   \n",
       "user_score         10014     96                          tbd  2424   \n",
       "rating              9949      8                            e  3990   \n",
       "\n",
       "                        mean        std     min     25%     50%     75%  \\\n",
       "name                     NaN        NaN     NaN     NaN     NaN     NaN   \n",
       "platform                 NaN        NaN     NaN     NaN     NaN     NaN   \n",
       "year_of_release  2006.484616    5.87705  1980.0  2003.0  2007.0  2010.0   \n",
       "genre                    NaN        NaN     NaN     NaN     NaN     NaN   \n",
       "na_sales            0.263377   0.813604     0.0     0.0    0.08    0.24   \n",
       "eu_sales             0.14506   0.503339     0.0     0.0    0.02    0.11   \n",
       "jp_sales            0.077617   0.308853     0.0     0.0     0.0    0.04   \n",
       "other_sales         0.047342   0.186731     0.0     0.0    0.01    0.03   \n",
       "critic_score       68.967679  13.938165    13.0    60.0    71.0    79.0   \n",
       "user_score               NaN        NaN     NaN     NaN     NaN     NaN   \n",
       "rating                   NaN        NaN     NaN     NaN     NaN     NaN   \n",
       "\n",
       "                    max  \n",
       "name                NaN  \n",
       "platform            NaN  \n",
       "year_of_release  2016.0  \n",
       "genre               NaN  \n",
       "na_sales          41.36  \n",
       "eu_sales          28.96  \n",
       "jp_sales          10.22  \n",
       "other_sales       10.57  \n",
       "critic_score       98.0  \n",
       "user_score          NaN  \n",
       "rating              NaN  "
      ]
     },
     "execution_count": 5,
     "metadata": {},
     "output_type": "execute_result"
    }
   ],
   "source": [
    "games.describe(include = 'all').T"
   ]
  },
  {
   "cell_type": "markdown",
   "id": "573e864c",
   "metadata": {},
   "source": [
    "В описании данных видим, что в столбце `name` отсутствуют 2 значения, уникальных названий игр 11559, самая часто встречающаяся игра 'Need for Speed: Most Wanted' (12), уникальных платформ 31, самая распространенная PS2 (2161), уникальных жанров игр 12, самый популярный жанр Action (3369).\n",
    "Проверим адекватность данных, в документации указано, что `Critic_Score`- максимум 100, это соответствует описанию данных, а  `User_Score` - максимум 10, но в описании указано tbd (2424 значения) - это значит, что рейтинг игре еще не выставлен, что можно рассматривать, как пропущенные значения.\n",
    "Данные в столбце `year_of_release` соответствуют действительности самый ранний год 1980, а последний 2016.\n",
    "В столбце `rating` также присутствует большое количество пропущенных значений, самым популярным рейтингом является - 'E'(3990).\n",
    "\n",
    "Проверим на аномалии столбец `rating`. Согласно: https://dic.academic.ru/dic.nsf/ruwiki/140779, cуществующие рейтинги ESRB для игр:\n",
    "\n",
    "- «EC» («Early childhood») — «Для детей младшего возраста»\n",
    "- «E» («Everyone») — «Для всех»\n",
    "- «E10+» («Everyone 10 and older»)\n",
    "- «T» («Teen») — «Подросткам»\n",
    "- «M» («Mature») — «От 17 лет»\n",
    "- «AO» («Adults Only 18+») — «Только для взрослых»\n",
    "- «RP» («Rating Pending»\") — «Рейтинг ожидается»: Продукт был отправлен в ESRB и ожидает присвоения рейтинга. \n",
    "\n",
    "Устаревшие:\n",
    "- «K-A» («Kids to Adults»)— «Для детей и взрослых»"
   ]
  },
  {
   "cell_type": "code",
   "execution_count": 6,
   "id": "bb53ac7a",
   "metadata": {},
   "outputs": [
    {
     "data": {
      "text/plain": [
       "e       3990\n",
       "t       2961\n",
       "m       1563\n",
       "e10+    1420\n",
       "ec         8\n",
       "k-a        3\n",
       "rp         3\n",
       "ao         1\n",
       "Name: rating, dtype: int64"
      ]
     },
     "execution_count": 6,
     "metadata": {},
     "output_type": "execute_result"
    }
   ],
   "source": [
    "games['rating'].value_counts()"
   ]
  },
  {
   "cell_type": "markdown",
   "id": "c833159a",
   "metadata": {},
   "source": [
    "Аномалий в значениях не обнаружено."
   ]
  },
  {
   "cell_type": "markdown",
   "id": "f4f51e91",
   "metadata": {},
   "source": [
    "### Пропущенные значения\n",
    "\n",
    "Подсчитаем процент пропущенных значений по каждому столбцу."
   ]
  },
  {
   "cell_type": "code",
   "execution_count": 7,
   "id": "49df824b",
   "metadata": {
    "scrolled": true
   },
   "outputs": [
    {
     "data": {
      "text/plain": [
       "platform            0.0\n",
       "na_sales            0.0\n",
       "eu_sales            0.0\n",
       "jp_sales            0.0\n",
       "other_sales         0.0\n",
       "name                0.0\n",
       "genre               0.0\n",
       "year_of_release     1.6\n",
       "user_score         40.1\n",
       "rating             40.5\n",
       "critic_score       51.3\n",
       "dtype: float64"
      ]
     },
     "execution_count": 7,
     "metadata": {},
     "output_type": "execute_result"
    }
   ],
   "source": [
    "# считаем процент пропущенных значений в каждом столбце\n",
    "(games.isna().sum()/len(games)*100).sort_values().round(1) "
   ]
  },
  {
   "cell_type": "markdown",
   "id": "8ba2f07b",
   "metadata": {},
   "source": [
    "В таблице присутствуют пропущенные значения в столбцах: `year_of_release`, `user_score`, `rating`, `critic_score`, но в обзоре данных мы также обнаружили по 2 пропущенных значения в столбцах `name` и `genre`. Обработаем данные пропуски."
   ]
  },
  {
   "cell_type": "code",
   "execution_count": 8,
   "id": "06c09018",
   "metadata": {
    "scrolled": true
   },
   "outputs": [
    {
     "data": {
      "text/html": [
       "<div>\n",
       "<style scoped>\n",
       "    .dataframe tbody tr th:only-of-type {\n",
       "        vertical-align: middle;\n",
       "    }\n",
       "\n",
       "    .dataframe tbody tr th {\n",
       "        vertical-align: top;\n",
       "    }\n",
       "\n",
       "    .dataframe thead th {\n",
       "        text-align: right;\n",
       "    }\n",
       "</style>\n",
       "<table border=\"1\" class=\"dataframe\">\n",
       "  <thead>\n",
       "    <tr style=\"text-align: right;\">\n",
       "      <th></th>\n",
       "      <th>name</th>\n",
       "      <th>platform</th>\n",
       "      <th>year_of_release</th>\n",
       "      <th>genre</th>\n",
       "      <th>na_sales</th>\n",
       "      <th>eu_sales</th>\n",
       "      <th>jp_sales</th>\n",
       "      <th>other_sales</th>\n",
       "      <th>critic_score</th>\n",
       "      <th>user_score</th>\n",
       "      <th>rating</th>\n",
       "    </tr>\n",
       "  </thead>\n",
       "  <tbody>\n",
       "    <tr>\n",
       "      <th>659</th>\n",
       "      <td>NaN</td>\n",
       "      <td>gen</td>\n",
       "      <td>1993.0</td>\n",
       "      <td>NaN</td>\n",
       "      <td>1.78</td>\n",
       "      <td>0.53</td>\n",
       "      <td>0.00</td>\n",
       "      <td>0.08</td>\n",
       "      <td>NaN</td>\n",
       "      <td>NaN</td>\n",
       "      <td>NaN</td>\n",
       "    </tr>\n",
       "    <tr>\n",
       "      <th>14244</th>\n",
       "      <td>NaN</td>\n",
       "      <td>gen</td>\n",
       "      <td>1993.0</td>\n",
       "      <td>NaN</td>\n",
       "      <td>0.00</td>\n",
       "      <td>0.00</td>\n",
       "      <td>0.03</td>\n",
       "      <td>0.00</td>\n",
       "      <td>NaN</td>\n",
       "      <td>NaN</td>\n",
       "      <td>NaN</td>\n",
       "    </tr>\n",
       "  </tbody>\n",
       "</table>\n",
       "</div>"
      ],
      "text/plain": [
       "      name platform  year_of_release genre  na_sales  eu_sales  jp_sales  \\\n",
       "659    NaN      gen           1993.0   NaN      1.78      0.53      0.00   \n",
       "14244  NaN      gen           1993.0   NaN      0.00      0.00      0.03   \n",
       "\n",
       "       other_sales  critic_score user_score rating  \n",
       "659           0.08           NaN        NaN    NaN  \n",
       "14244         0.00           NaN        NaN    NaN  "
      ]
     },
     "execution_count": 8,
     "metadata": {},
     "output_type": "execute_result"
    }
   ],
   "source": [
    "# Выведем строки с пропущенными названиями игр\n",
    "games.query('name != name')"
   ]
  },
  {
   "cell_type": "markdown",
   "id": "d411b61a",
   "metadata": {},
   "source": [
    "Пропущенные значения в столбцах `name` и `genre` присутствуют в одних и тех же строках, скорее всего эта ошибка возникла при заполнении данных, т.к. восстановить их не представляется возможным и количество строк ничтожно мало, то удалим эти строки из таблицы."
   ]
  },
  {
   "cell_type": "code",
   "execution_count": 9,
   "id": "9d273e6e",
   "metadata": {},
   "outputs": [
    {
     "data": {
      "text/html": [
       "<div>\n",
       "<style scoped>\n",
       "    .dataframe tbody tr th:only-of-type {\n",
       "        vertical-align: middle;\n",
       "    }\n",
       "\n",
       "    .dataframe tbody tr th {\n",
       "        vertical-align: top;\n",
       "    }\n",
       "\n",
       "    .dataframe thead th {\n",
       "        text-align: right;\n",
       "    }\n",
       "</style>\n",
       "<table border=\"1\" class=\"dataframe\">\n",
       "  <thead>\n",
       "    <tr style=\"text-align: right;\">\n",
       "      <th></th>\n",
       "      <th>name</th>\n",
       "      <th>platform</th>\n",
       "      <th>year_of_release</th>\n",
       "      <th>genre</th>\n",
       "      <th>na_sales</th>\n",
       "      <th>eu_sales</th>\n",
       "      <th>jp_sales</th>\n",
       "      <th>other_sales</th>\n",
       "      <th>critic_score</th>\n",
       "      <th>user_score</th>\n",
       "      <th>rating</th>\n",
       "    </tr>\n",
       "  </thead>\n",
       "  <tbody>\n",
       "  </tbody>\n",
       "</table>\n",
       "</div>"
      ],
      "text/plain": [
       "Empty DataFrame\n",
       "Columns: [name, platform, year_of_release, genre, na_sales, eu_sales, jp_sales, other_sales, critic_score, user_score, rating]\n",
       "Index: []"
      ]
     },
     "execution_count": 9,
     "metadata": {},
     "output_type": "execute_result"
    }
   ],
   "source": [
    "# удаляем строки с пропущенным значением в столбце 'name'\n",
    "games.dropna(subset=['name'], inplace=True)\n",
    "games.query('name != name')"
   ]
  },
  {
   "cell_type": "markdown",
   "id": "2d3cd539",
   "metadata": {},
   "source": [
    "Пропущенные значения в столбцах `name` и `genre` удалены. \n",
    "\n",
    "Подсчитаем количество пропущенных значений в столбце `year_of_release`, а также посмотрим как распределяются пропущенные значения относительно других столбцов, есть ли закономерность в пропущенных значениях."
   ]
  },
  {
   "cell_type": "code",
   "execution_count": 10,
   "id": "35b02b2a",
   "metadata": {},
   "outputs": [
    {
     "data": {
      "text/plain": [
       "False    16444\n",
       "True       269\n",
       "Name: year_of_release, dtype: int64"
      ]
     },
     "execution_count": 10,
     "metadata": {},
     "output_type": "execute_result"
    }
   ],
   "source": [
    "games['year_of_release'].isna().value_counts()"
   ]
  },
  {
   "cell_type": "code",
   "execution_count": 11,
   "id": "12caa793",
   "metadata": {},
   "outputs": [
    {
     "data": {
      "text/html": [
       "<div>\n",
       "<style scoped>\n",
       "    .dataframe tbody tr th:only-of-type {\n",
       "        vertical-align: middle;\n",
       "    }\n",
       "\n",
       "    .dataframe tbody tr th {\n",
       "        vertical-align: top;\n",
       "    }\n",
       "\n",
       "    .dataframe thead th {\n",
       "        text-align: right;\n",
       "    }\n",
       "</style>\n",
       "<table border=\"1\" class=\"dataframe\">\n",
       "  <thead>\n",
       "    <tr style=\"text-align: right;\">\n",
       "      <th></th>\n",
       "      <th>name</th>\n",
       "      <th>platform</th>\n",
       "      <th>year_of_release</th>\n",
       "      <th>genre</th>\n",
       "      <th>na_sales</th>\n",
       "      <th>eu_sales</th>\n",
       "      <th>jp_sales</th>\n",
       "      <th>other_sales</th>\n",
       "      <th>critic_score</th>\n",
       "      <th>user_score</th>\n",
       "      <th>rating</th>\n",
       "    </tr>\n",
       "  </thead>\n",
       "  <tbody>\n",
       "    <tr>\n",
       "      <th>183</th>\n",
       "      <td>madden nfl 2004</td>\n",
       "      <td>ps2</td>\n",
       "      <td>NaN</td>\n",
       "      <td>sports</td>\n",
       "      <td>4.26</td>\n",
       "      <td>0.26</td>\n",
       "      <td>0.01</td>\n",
       "      <td>0.71</td>\n",
       "      <td>94.0</td>\n",
       "      <td>8.5</td>\n",
       "      <td>e</td>\n",
       "    </tr>\n",
       "    <tr>\n",
       "      <th>377</th>\n",
       "      <td>fifa soccer 2004</td>\n",
       "      <td>ps2</td>\n",
       "      <td>NaN</td>\n",
       "      <td>sports</td>\n",
       "      <td>0.59</td>\n",
       "      <td>2.36</td>\n",
       "      <td>0.04</td>\n",
       "      <td>0.51</td>\n",
       "      <td>84.0</td>\n",
       "      <td>6.4</td>\n",
       "      <td>e</td>\n",
       "    </tr>\n",
       "    <tr>\n",
       "      <th>456</th>\n",
       "      <td>lego batman: the videogame</td>\n",
       "      <td>wii</td>\n",
       "      <td>NaN</td>\n",
       "      <td>action</td>\n",
       "      <td>1.80</td>\n",
       "      <td>0.97</td>\n",
       "      <td>0.00</td>\n",
       "      <td>0.29</td>\n",
       "      <td>74.0</td>\n",
       "      <td>7.9</td>\n",
       "      <td>e10+</td>\n",
       "    </tr>\n",
       "    <tr>\n",
       "      <th>475</th>\n",
       "      <td>wwe smackdown vs. raw 2006</td>\n",
       "      <td>ps2</td>\n",
       "      <td>NaN</td>\n",
       "      <td>fighting</td>\n",
       "      <td>1.57</td>\n",
       "      <td>1.02</td>\n",
       "      <td>0.00</td>\n",
       "      <td>0.41</td>\n",
       "      <td>NaN</td>\n",
       "      <td>NaN</td>\n",
       "      <td>NaN</td>\n",
       "    </tr>\n",
       "    <tr>\n",
       "      <th>609</th>\n",
       "      <td>space invaders</td>\n",
       "      <td>2600</td>\n",
       "      <td>NaN</td>\n",
       "      <td>shooter</td>\n",
       "      <td>2.36</td>\n",
       "      <td>0.14</td>\n",
       "      <td>0.00</td>\n",
       "      <td>0.03</td>\n",
       "      <td>NaN</td>\n",
       "      <td>NaN</td>\n",
       "      <td>NaN</td>\n",
       "    </tr>\n",
       "    <tr>\n",
       "      <th>...</th>\n",
       "      <td>...</td>\n",
       "      <td>...</td>\n",
       "      <td>...</td>\n",
       "      <td>...</td>\n",
       "      <td>...</td>\n",
       "      <td>...</td>\n",
       "      <td>...</td>\n",
       "      <td>...</td>\n",
       "      <td>...</td>\n",
       "      <td>...</td>\n",
       "      <td>...</td>\n",
       "    </tr>\n",
       "    <tr>\n",
       "      <th>16373</th>\n",
       "      <td>pdc world championship darts 2008</td>\n",
       "      <td>psp</td>\n",
       "      <td>NaN</td>\n",
       "      <td>sports</td>\n",
       "      <td>0.01</td>\n",
       "      <td>0.00</td>\n",
       "      <td>0.00</td>\n",
       "      <td>0.00</td>\n",
       "      <td>43.0</td>\n",
       "      <td>tbd</td>\n",
       "      <td>e10+</td>\n",
       "    </tr>\n",
       "    <tr>\n",
       "      <th>16405</th>\n",
       "      <td>freaky flyers</td>\n",
       "      <td>gc</td>\n",
       "      <td>NaN</td>\n",
       "      <td>racing</td>\n",
       "      <td>0.01</td>\n",
       "      <td>0.00</td>\n",
       "      <td>0.00</td>\n",
       "      <td>0.00</td>\n",
       "      <td>69.0</td>\n",
       "      <td>6.5</td>\n",
       "      <td>t</td>\n",
       "    </tr>\n",
       "    <tr>\n",
       "      <th>16448</th>\n",
       "      <td>inversion</td>\n",
       "      <td>pc</td>\n",
       "      <td>NaN</td>\n",
       "      <td>shooter</td>\n",
       "      <td>0.01</td>\n",
       "      <td>0.00</td>\n",
       "      <td>0.00</td>\n",
       "      <td>0.00</td>\n",
       "      <td>59.0</td>\n",
       "      <td>6.7</td>\n",
       "      <td>m</td>\n",
       "    </tr>\n",
       "    <tr>\n",
       "      <th>16458</th>\n",
       "      <td>hakuouki: shinsengumi kitan</td>\n",
       "      <td>ps3</td>\n",
       "      <td>NaN</td>\n",
       "      <td>adventure</td>\n",
       "      <td>0.01</td>\n",
       "      <td>0.00</td>\n",
       "      <td>0.00</td>\n",
       "      <td>0.00</td>\n",
       "      <td>NaN</td>\n",
       "      <td>NaN</td>\n",
       "      <td>NaN</td>\n",
       "    </tr>\n",
       "    <tr>\n",
       "      <th>16522</th>\n",
       "      <td>virtua quest</td>\n",
       "      <td>gc</td>\n",
       "      <td>NaN</td>\n",
       "      <td>role-playing</td>\n",
       "      <td>0.01</td>\n",
       "      <td>0.00</td>\n",
       "      <td>0.00</td>\n",
       "      <td>0.00</td>\n",
       "      <td>55.0</td>\n",
       "      <td>5.5</td>\n",
       "      <td>t</td>\n",
       "    </tr>\n",
       "  </tbody>\n",
       "</table>\n",
       "<p>269 rows × 11 columns</p>\n",
       "</div>"
      ],
      "text/plain": [
       "                                    name platform  year_of_release  \\\n",
       "183                      madden nfl 2004      ps2              NaN   \n",
       "377                     fifa soccer 2004      ps2              NaN   \n",
       "456           lego batman: the videogame      wii              NaN   \n",
       "475           wwe smackdown vs. raw 2006      ps2              NaN   \n",
       "609                       space invaders     2600              NaN   \n",
       "...                                  ...      ...              ...   \n",
       "16373  pdc world championship darts 2008      psp              NaN   \n",
       "16405                      freaky flyers       gc              NaN   \n",
       "16448                          inversion       pc              NaN   \n",
       "16458        hakuouki: shinsengumi kitan      ps3              NaN   \n",
       "16522                       virtua quest       gc              NaN   \n",
       "\n",
       "              genre  na_sales  eu_sales  jp_sales  other_sales  critic_score  \\\n",
       "183          sports      4.26      0.26      0.01         0.71          94.0   \n",
       "377          sports      0.59      2.36      0.04         0.51          84.0   \n",
       "456          action      1.80      0.97      0.00         0.29          74.0   \n",
       "475        fighting      1.57      1.02      0.00         0.41           NaN   \n",
       "609         shooter      2.36      0.14      0.00         0.03           NaN   \n",
       "...             ...       ...       ...       ...          ...           ...   \n",
       "16373        sports      0.01      0.00      0.00         0.00          43.0   \n",
       "16405        racing      0.01      0.00      0.00         0.00          69.0   \n",
       "16448       shooter      0.01      0.00      0.00         0.00          59.0   \n",
       "16458     adventure      0.01      0.00      0.00         0.00           NaN   \n",
       "16522  role-playing      0.01      0.00      0.00         0.00          55.0   \n",
       "\n",
       "      user_score rating  \n",
       "183          8.5      e  \n",
       "377          6.4      e  \n",
       "456          7.9   e10+  \n",
       "475          NaN    NaN  \n",
       "609          NaN    NaN  \n",
       "...          ...    ...  \n",
       "16373        tbd   e10+  \n",
       "16405        6.5      t  \n",
       "16448        6.7      m  \n",
       "16458        NaN    NaN  \n",
       "16522        5.5      t  \n",
       "\n",
       "[269 rows x 11 columns]"
      ]
     },
     "execution_count": 11,
     "metadata": {},
     "output_type": "execute_result"
    }
   ],
   "source": [
    "games.query('year_of_release != year_of_release')"
   ]
  },
  {
   "cell_type": "markdown",
   "id": "172c3c5d",
   "metadata": {},
   "source": [
    "Пропущенные значения в столбце `year_of_release`, могли появиться в результате случайной ошибки заполнения данных. Пропущенные значения не связаны с названием игры, платформой, жанром, продажами или рейтингом, т.е. являются абсолютно случайными.  Заполним средним значением исходя из названия платформы, т.к. игры выпускались в период популярности платформы, а при обновлении платформы новые игры выпускались уже для нее."
   ]
  },
  {
   "cell_type": "code",
   "execution_count": 12,
   "id": "9fcbea8b",
   "metadata": {},
   "outputs": [
    {
     "data": {
      "text/plain": [
       "False    16713\n",
       "Name: year_of_release, dtype: int64"
      ]
     },
     "execution_count": 12,
     "metadata": {},
     "output_type": "execute_result"
    }
   ],
   "source": [
    "games['year_of_release'] = games.groupby('platform')['year_of_release'].apply(lambda s: s.fillna(s.mean()))\n",
    "games['year_of_release'].isna().value_counts() # проверяем количество пропущенных значений"
   ]
  },
  {
   "cell_type": "markdown",
   "id": "8661692a",
   "metadata": {},
   "source": [
    "Столбец `rating` содержит большое количество пропусков, заполним пропущенные значения значением рейтинга RP (рейтнг ожидается). Также сократим количество категорий, объединив устаревший рейтинг K-A и рейтинг EC (для детей младшего возраста, т.к. если он подходит для детей младшего возраста, то подойдет и всем), с рейтингом  E (для всех)."
   ]
  },
  {
   "cell_type": "code",
   "execution_count": 13,
   "id": "2f82f525",
   "metadata": {},
   "outputs": [
    {
     "data": {
      "text/plain": [
       "rp      6767\n",
       "e       4001\n",
       "t       2961\n",
       "m       1563\n",
       "e10+    1420\n",
       "ao         1\n",
       "Name: rating, dtype: int64"
      ]
     },
     "execution_count": 13,
     "metadata": {},
     "output_type": "execute_result"
    }
   ],
   "source": [
    "games['rating'] = games['rating'].fillna('rp')\n",
    "games['rating'] = games['rating'].replace(['k-a', 'ec'], 'e')\n",
    "\n",
    "games['rating'].value_counts() # проверим произведенные изменения"
   ]
  },
  {
   "cell_type": "markdown",
   "id": "ae4fb63b",
   "metadata": {},
   "source": [
    "Пропущенных значений в столбцах `critic_score` и `user_score` слишком много, корректно заполнить пропущенные данные не представляется возможным, а удаление такого большого количества данных может повлиять на результаты исследования, заполнение значением '0', также может повлиять на ход исследования, привести к смещению данных,  поэтому оставим данные столбцы без изменения, т.к. пропущенные значения не влияют на результаты исследования, а объем данных с полными данными достаточно велик. Эти пропущенные значения могли появиться вследствие ошибки при выгрузке данных."
   ]
  },
  {
   "cell_type": "markdown",
   "id": "d1b106d9",
   "metadata": {},
   "source": [
    "В столбце `user_score` указан \"tbd\" - это означает, что рейтинг игры еще ожидается, подсчитаем количество значений в данном столбце."
   ]
  },
  {
   "cell_type": "code",
   "execution_count": 14,
   "id": "8d220de1",
   "metadata": {},
   "outputs": [
    {
     "data": {
      "text/plain": [
       "2424"
      ]
     },
     "execution_count": 14,
     "metadata": {},
     "output_type": "execute_result"
    }
   ],
   "source": [
    "len(games.query('user_score == \"tbd\"'))"
   ]
  },
  {
   "cell_type": "markdown",
   "id": "4376629f",
   "metadata": {},
   "source": [
    "Заменим значения \"tbd\" в столбце `user_score` на пропущенные значения, чтобы можно было производить математические расчеты с данным столбцом."
   ]
  },
  {
   "cell_type": "code",
   "execution_count": 15,
   "id": "b2ccaec4",
   "metadata": {},
   "outputs": [],
   "source": [
    "games.loc[games['user_score'] == \"tbd\", 'user_score'] = np.nan"
   ]
  },
  {
   "cell_type": "markdown",
   "id": "0a2f9d2c",
   "metadata": {},
   "source": [
    "### Изменение типов данных"
   ]
  },
  {
   "cell_type": "markdown",
   "id": "084d3bc8",
   "metadata": {},
   "source": [
    "Заменим тип столбца `year_of_release` на 'int', заменим тип данных столбца `user_score` на 'float'."
   ]
  },
  {
   "cell_type": "code",
   "execution_count": 16,
   "id": "89099e04",
   "metadata": {},
   "outputs": [],
   "source": [
    "games['year_of_release'] = games['year_of_release'].astype('int')"
   ]
  },
  {
   "cell_type": "code",
   "execution_count": 17,
   "id": "6fbcb82f",
   "metadata": {},
   "outputs": [
    {
     "name": "stdout",
     "output_type": "stream",
     "text": [
      "<class 'pandas.core.frame.DataFrame'>\n",
      "Int64Index: 16713 entries, 0 to 16714\n",
      "Data columns (total 11 columns):\n",
      " #   Column           Non-Null Count  Dtype  \n",
      "---  ------           --------------  -----  \n",
      " 0   name             16713 non-null  object \n",
      " 1   platform         16713 non-null  object \n",
      " 2   year_of_release  16713 non-null  int32  \n",
      " 3   genre            16713 non-null  object \n",
      " 4   na_sales         16713 non-null  float64\n",
      " 5   eu_sales         16713 non-null  float64\n",
      " 6   jp_sales         16713 non-null  float64\n",
      " 7   other_sales      16713 non-null  float64\n",
      " 8   critic_score     8137 non-null   float64\n",
      " 9   user_score       7590 non-null   float64\n",
      " 10  rating           16713 non-null  object \n",
      "dtypes: float64(6), int32(1), object(4)\n",
      "memory usage: 1.5+ MB\n"
     ]
    }
   ],
   "source": [
    "games['user_score'] = games['user_score'].astype('float')\n",
    "games.info()"
   ]
  },
  {
   "cell_type": "markdown",
   "id": "1d40c272",
   "metadata": {},
   "source": [
    "### Удаление дубликатов"
   ]
  },
  {
   "cell_type": "markdown",
   "id": "c1ed778d",
   "metadata": {},
   "source": [
    "Подсчитаем количество явных дубликатов данных."
   ]
  },
  {
   "cell_type": "code",
   "execution_count": 18,
   "id": "397e55b1",
   "metadata": {},
   "outputs": [
    {
     "data": {
      "text/plain": [
       "0"
      ]
     },
     "execution_count": 18,
     "metadata": {},
     "output_type": "execute_result"
    }
   ],
   "source": [
    "games.duplicated().sum()"
   ]
  },
  {
   "cell_type": "markdown",
   "id": "1a3b87cf",
   "metadata": {},
   "source": [
    "Явных дубликатов не обнаружено. Проверим неявные дубликаты в столбцах, содержащих качественные значения: `platform` и `genre`"
   ]
  },
  {
   "cell_type": "code",
   "execution_count": 19,
   "id": "d107e78c",
   "metadata": {},
   "outputs": [
    {
     "data": {
      "text/plain": [
       "ps2     2161\n",
       "ds      2151\n",
       "ps3     1331\n",
       "wii     1320\n",
       "x360    1262\n",
       "psp     1209\n",
       "ps      1197\n",
       "pc       974\n",
       "xb       824\n",
       "gba      822\n",
       "gc       556\n",
       "3ds      520\n",
       "psv      430\n",
       "ps4      392\n",
       "n64      319\n",
       "xone     247\n",
       "snes     239\n",
       "sat      173\n",
       "wiiu     147\n",
       "2600     133\n",
       "nes       98\n",
       "gb        98\n",
       "dc        52\n",
       "gen       27\n",
       "ng        12\n",
       "scd        6\n",
       "ws         6\n",
       "3do        3\n",
       "tg16       2\n",
       "gg         1\n",
       "pcfx       1\n",
       "Name: platform, dtype: int64"
      ]
     },
     "execution_count": 19,
     "metadata": {},
     "output_type": "execute_result"
    }
   ],
   "source": [
    "games['platform'].value_counts()"
   ]
  },
  {
   "cell_type": "code",
   "execution_count": 20,
   "id": "c918475f",
   "metadata": {},
   "outputs": [
    {
     "data": {
      "text/plain": [
       "action          3369\n",
       "sports          2348\n",
       "misc            1750\n",
       "role-playing    1498\n",
       "shooter         1323\n",
       "adventure       1303\n",
       "racing          1249\n",
       "platform         888\n",
       "simulation       873\n",
       "fighting         849\n",
       "strategy         683\n",
       "puzzle           580\n",
       "Name: genre, dtype: int64"
      ]
     },
     "execution_count": 20,
     "metadata": {},
     "output_type": "execute_result"
    }
   ],
   "source": [
    "games['genre'].value_counts()"
   ]
  },
  {
   "cell_type": "markdown",
   "id": "e3cda8dd",
   "metadata": {},
   "source": [
    "Неявных дубикатов в данных не обнаружено."
   ]
  },
  {
   "cell_type": "markdown",
   "id": "1d161e98",
   "metadata": {},
   "source": [
    "### Добавляем данные в таблицу\n",
    "Добавим в таблицу столбец `total_sales` в который запишем суммарные продажи по всем регионам. "
   ]
  },
  {
   "cell_type": "code",
   "execution_count": 21,
   "id": "c3a83fb0",
   "metadata": {},
   "outputs": [],
   "source": [
    "games['total_sales'] = games[['na_sales','eu_sales','jp_sales', 'other_sales']].sum(axis = 1)"
   ]
  },
  {
   "cell_type": "code",
   "execution_count": 22,
   "id": "bf3fc61c",
   "metadata": {},
   "outputs": [
    {
     "data": {
      "text/html": [
       "<div>\n",
       "<style scoped>\n",
       "    .dataframe tbody tr th:only-of-type {\n",
       "        vertical-align: middle;\n",
       "    }\n",
       "\n",
       "    .dataframe tbody tr th {\n",
       "        vertical-align: top;\n",
       "    }\n",
       "\n",
       "    .dataframe thead th {\n",
       "        text-align: right;\n",
       "    }\n",
       "</style>\n",
       "<table border=\"1\" class=\"dataframe\">\n",
       "  <thead>\n",
       "    <tr style=\"text-align: right;\">\n",
       "      <th></th>\n",
       "      <th>name</th>\n",
       "      <th>platform</th>\n",
       "      <th>year_of_release</th>\n",
       "      <th>genre</th>\n",
       "      <th>na_sales</th>\n",
       "      <th>eu_sales</th>\n",
       "      <th>jp_sales</th>\n",
       "      <th>other_sales</th>\n",
       "      <th>critic_score</th>\n",
       "      <th>user_score</th>\n",
       "      <th>rating</th>\n",
       "      <th>total_sales</th>\n",
       "    </tr>\n",
       "  </thead>\n",
       "  <tbody>\n",
       "    <tr>\n",
       "      <th>0</th>\n",
       "      <td>wii sports</td>\n",
       "      <td>wii</td>\n",
       "      <td>2006</td>\n",
       "      <td>sports</td>\n",
       "      <td>41.36</td>\n",
       "      <td>28.96</td>\n",
       "      <td>3.77</td>\n",
       "      <td>8.45</td>\n",
       "      <td>76.0</td>\n",
       "      <td>8.0</td>\n",
       "      <td>e</td>\n",
       "      <td>82.54</td>\n",
       "    </tr>\n",
       "    <tr>\n",
       "      <th>1</th>\n",
       "      <td>super mario bros.</td>\n",
       "      <td>nes</td>\n",
       "      <td>1985</td>\n",
       "      <td>platform</td>\n",
       "      <td>29.08</td>\n",
       "      <td>3.58</td>\n",
       "      <td>6.81</td>\n",
       "      <td>0.77</td>\n",
       "      <td>NaN</td>\n",
       "      <td>NaN</td>\n",
       "      <td>rp</td>\n",
       "      <td>40.24</td>\n",
       "    </tr>\n",
       "    <tr>\n",
       "      <th>2</th>\n",
       "      <td>mario kart wii</td>\n",
       "      <td>wii</td>\n",
       "      <td>2008</td>\n",
       "      <td>racing</td>\n",
       "      <td>15.68</td>\n",
       "      <td>12.76</td>\n",
       "      <td>3.79</td>\n",
       "      <td>3.29</td>\n",
       "      <td>82.0</td>\n",
       "      <td>8.3</td>\n",
       "      <td>e</td>\n",
       "      <td>35.52</td>\n",
       "    </tr>\n",
       "    <tr>\n",
       "      <th>3</th>\n",
       "      <td>wii sports resort</td>\n",
       "      <td>wii</td>\n",
       "      <td>2009</td>\n",
       "      <td>sports</td>\n",
       "      <td>15.61</td>\n",
       "      <td>10.93</td>\n",
       "      <td>3.28</td>\n",
       "      <td>2.95</td>\n",
       "      <td>80.0</td>\n",
       "      <td>8.0</td>\n",
       "      <td>e</td>\n",
       "      <td>32.77</td>\n",
       "    </tr>\n",
       "    <tr>\n",
       "      <th>4</th>\n",
       "      <td>pokemon red/pokemon blue</td>\n",
       "      <td>gb</td>\n",
       "      <td>1996</td>\n",
       "      <td>role-playing</td>\n",
       "      <td>11.27</td>\n",
       "      <td>8.89</td>\n",
       "      <td>10.22</td>\n",
       "      <td>1.00</td>\n",
       "      <td>NaN</td>\n",
       "      <td>NaN</td>\n",
       "      <td>rp</td>\n",
       "      <td>31.38</td>\n",
       "    </tr>\n",
       "  </tbody>\n",
       "</table>\n",
       "</div>"
      ],
      "text/plain": [
       "                       name platform  year_of_release         genre  na_sales  \\\n",
       "0                wii sports      wii             2006        sports     41.36   \n",
       "1         super mario bros.      nes             1985      platform     29.08   \n",
       "2            mario kart wii      wii             2008        racing     15.68   \n",
       "3         wii sports resort      wii             2009        sports     15.61   \n",
       "4  pokemon red/pokemon blue       gb             1996  role-playing     11.27   \n",
       "\n",
       "   eu_sales  jp_sales  other_sales  critic_score  user_score rating  \\\n",
       "0     28.96      3.77         8.45          76.0         8.0      e   \n",
       "1      3.58      6.81         0.77           NaN         NaN     rp   \n",
       "2     12.76      3.79         3.29          82.0         8.3      e   \n",
       "3     10.93      3.28         2.95          80.0         8.0      e   \n",
       "4      8.89     10.22         1.00           NaN         NaN     rp   \n",
       "\n",
       "   total_sales  \n",
       "0        82.54  \n",
       "1        40.24  \n",
       "2        35.52  \n",
       "3        32.77  \n",
       "4        31.38  "
      ]
     },
     "execution_count": 22,
     "metadata": {},
     "output_type": "execute_result"
    }
   ],
   "source": [
    "games.head()"
   ]
  },
  {
   "cell_type": "markdown",
   "id": "c1a4bd73",
   "metadata": {},
   "source": [
    "**Выводы:**\n",
    "\n",
    "Обработали пропущенные значения в столбцах `name`, `genre`, `year_of_release`, `user_score`, `rating`, `critic_score`.\n",
    "Привели  столбцы `year_of_release` к типу 'int', столбец `user_score` к 'float'.\n",
    "В данных не обнаружены явные и неявные дубликаты.\n",
    "Добавили в таблицу столбец с суммарным значением продаж по всем регионам.\n",
    "Данные обработаны и готовы к анализу."
   ]
  },
  {
   "cell_type": "markdown",
   "id": "e9c8afc5",
   "metadata": {},
   "source": [
    "## Анализ данных"
   ]
  },
  {
   "cell_type": "markdown",
   "id": "b7393115",
   "metadata": {},
   "source": [
    "Проверим распределение количества игр по годам. Построим гистограмму по столбцу `year_of_release`."
   ]
  },
  {
   "cell_type": "code",
   "execution_count": 23,
   "id": "02bbe3b3",
   "metadata": {},
   "outputs": [
    {
     "data": {
      "image/png": "[encoded data removed]",
      "text/plain": [
       "<Figure size 432x288 with 1 Axes>"
      ]
     },
     "metadata": {
      "needs_background": "light"
     },
     "output_type": "display_data"
    }
   ],
   "source": [
    "ax = games.hist(column='year_of_release', bins=37, grid=True)\n",
    "ax = ax[0]\n",
    "ax[0].set_title(\"\")\n",
    "ax[0].set_xlabel(\"year_of_release\", labelpad=5, weight='bold', size=12)\n",
    "ax[0].set_ylabel(\"games_count\", labelpad=5, weight='bold', size=12);"
   ]
  },
  {
   "cell_type": "markdown",
   "id": "34c78285",
   "metadata": {},
   "source": [
    "Из гистограммы видно, что до 1993 года выпускалось очень мало игр, пик по объему выпускаемых игр приходится на 2007-2011, с 2012 количество игр резко пошло на спад."
   ]
  },
  {
   "cell_type": "code",
   "execution_count": 24,
   "id": "047ce4fd",
   "metadata": {},
   "outputs": [
    {
     "data": {
      "image/png": "[encoded data removed]",
      "text/plain": [
       "<Figure size 432x288 with 1 Axes>"
      ]
     },
     "metadata": {
      "needs_background": "light"
     },
     "output_type": "display_data"
    }
   ],
   "source": [
    "games.boxplot('year_of_release');"
   ]
  },
  {
   "cell_type": "markdown",
   "id": "2ccfc951",
   "metadata": {},
   "source": [
    "Посмотрим, как менялись продажи по платформам. \n",
    "Выберем платформы с наибольшими суммарными продажами и построим распределение по годам. "
   ]
  },
  {
   "cell_type": "code",
   "execution_count": 25,
   "id": "133560a1",
   "metadata": {},
   "outputs": [
    {
     "data": {
      "text/html": [
       "<div>\n",
       "<style scoped>\n",
       "    .dataframe tbody tr th:only-of-type {\n",
       "        vertical-align: middle;\n",
       "    }\n",
       "\n",
       "    .dataframe tbody tr th {\n",
       "        vertical-align: top;\n",
       "    }\n",
       "\n",
       "    .dataframe thead th {\n",
       "        text-align: right;\n",
       "    }\n",
       "</style>\n",
       "<table border=\"1\" class=\"dataframe\">\n",
       "  <thead>\n",
       "    <tr style=\"text-align: right;\">\n",
       "      <th></th>\n",
       "      <th></th>\n",
       "      <th>total_sales</th>\n",
       "    </tr>\n",
       "    <tr>\n",
       "      <th>platform</th>\n",
       "      <th>year_of_release</th>\n",
       "      <th></th>\n",
       "    </tr>\n",
       "  </thead>\n",
       "  <tbody>\n",
       "    <tr>\n",
       "      <th rowspan=\"5\" valign=\"top\">2600</th>\n",
       "      <th>1980</th>\n",
       "      <td>11.38</td>\n",
       "    </tr>\n",
       "    <tr>\n",
       "      <th>1981</th>\n",
       "      <td>35.68</td>\n",
       "    </tr>\n",
       "    <tr>\n",
       "      <th>1982</th>\n",
       "      <td>39.38</td>\n",
       "    </tr>\n",
       "    <tr>\n",
       "      <th>1983</th>\n",
       "      <td>5.84</td>\n",
       "    </tr>\n",
       "    <tr>\n",
       "      <th>1984</th>\n",
       "      <td>0.27</td>\n",
       "    </tr>\n",
       "    <tr>\n",
       "      <th>...</th>\n",
       "      <th>...</th>\n",
       "      <td>...</td>\n",
       "    </tr>\n",
       "    <tr>\n",
       "      <th>xb</th>\n",
       "      <th>2008</th>\n",
       "      <td>0.18</td>\n",
       "    </tr>\n",
       "    <tr>\n",
       "      <th rowspan=\"4\" valign=\"top\">xone</th>\n",
       "      <th>2013</th>\n",
       "      <td>18.96</td>\n",
       "    </tr>\n",
       "    <tr>\n",
       "      <th>2014</th>\n",
       "      <td>54.07</td>\n",
       "    </tr>\n",
       "    <tr>\n",
       "      <th>2015</th>\n",
       "      <td>60.14</td>\n",
       "    </tr>\n",
       "    <tr>\n",
       "      <th>2016</th>\n",
       "      <td>26.15</td>\n",
       "    </tr>\n",
       "  </tbody>\n",
       "</table>\n",
       "<p>238 rows × 1 columns</p>\n",
       "</div>"
      ],
      "text/plain": [
       "                          total_sales\n",
       "platform year_of_release             \n",
       "2600     1980                   11.38\n",
       "         1981                   35.68\n",
       "         1982                   39.38\n",
       "         1983                    5.84\n",
       "         1984                    0.27\n",
       "...                               ...\n",
       "xb       2008                    0.18\n",
       "xone     2013                   18.96\n",
       "         2014                   54.07\n",
       "         2015                   60.14\n",
       "         2016                   26.15\n",
       "\n",
       "[238 rows x 1 columns]"
      ]
     },
     "execution_count": 25,
     "metadata": {},
     "output_type": "execute_result"
    }
   ],
   "source": [
    "games_platform = games.pivot_table(index=['platform', 'year_of_release'], values='total_sales', aggfunc='sum')\n",
    "games_platform"
   ]
  },
  {
   "cell_type": "code",
   "execution_count": 26,
   "id": "f5c419d6",
   "metadata": {},
   "outputs": [
    {
     "data": {
      "text/html": [
       "<div>\n",
       "<style scoped>\n",
       "    .dataframe tbody tr th:only-of-type {\n",
       "        vertical-align: middle;\n",
       "    }\n",
       "\n",
       "    .dataframe tbody tr th {\n",
       "        vertical-align: top;\n",
       "    }\n",
       "\n",
       "    .dataframe thead th {\n",
       "        text-align: right;\n",
       "    }\n",
       "</style>\n",
       "<table border=\"1\" class=\"dataframe\">\n",
       "  <thead>\n",
       "    <tr style=\"text-align: right;\">\n",
       "      <th></th>\n",
       "      <th>platform</th>\n",
       "      <th>total_sales</th>\n",
       "    </tr>\n",
       "  </thead>\n",
       "  <tbody>\n",
       "    <tr>\n",
       "      <th>0</th>\n",
       "      <td>ps2</td>\n",
       "      <td>1255.77</td>\n",
       "    </tr>\n",
       "    <tr>\n",
       "      <th>1</th>\n",
       "      <td>x360</td>\n",
       "      <td>971.42</td>\n",
       "    </tr>\n",
       "    <tr>\n",
       "      <th>2</th>\n",
       "      <td>ps3</td>\n",
       "      <td>939.65</td>\n",
       "    </tr>\n",
       "    <tr>\n",
       "      <th>3</th>\n",
       "      <td>wii</td>\n",
       "      <td>907.51</td>\n",
       "    </tr>\n",
       "    <tr>\n",
       "      <th>4</th>\n",
       "      <td>ds</td>\n",
       "      <td>806.12</td>\n",
       "    </tr>\n",
       "  </tbody>\n",
       "</table>\n",
       "</div>"
      ],
      "text/plain": [
       "  platform  total_sales\n",
       "0      ps2      1255.77\n",
       "1     x360       971.42\n",
       "2      ps3       939.65\n",
       "3      wii       907.51\n",
       "4       ds       806.12"
      ]
     },
     "execution_count": 26,
     "metadata": {},
     "output_type": "execute_result"
    }
   ],
   "source": [
    "# вычислим топ-5 платформ с наибольшим количеством проданных копий игр\n",
    "games_platform_top = (\n",
    "    games\n",
    "    .pivot_table(index='platform', values='total_sales', aggfunc='sum').round(2)\n",
    ")\n",
    "games_platform_top.columns = ['total_sales']\n",
    "games_platform_top = games_platform_top.sort_values(by='total_sales', ascending=False, axis=0).reset_index().head(5)\n",
    "games_platform_top"
   ]
  },
  {
   "cell_type": "code",
   "execution_count": 27,
   "id": "1694b4dc",
   "metadata": {},
   "outputs": [
    {
     "data": {
      "image/png": "[encoded data removed]",
      "text/plain": [
       "<Figure size 1080x432 with 1 Axes>"
      ]
     },
     "metadata": {
      "needs_background": "light"
     },
     "output_type": "display_data"
    }
   ],
   "source": [
    "top = games_platform_top['platform']\n",
    "games_platform = games_platform.query(\"platform in @top\").reset_index()\n",
    "plt.figure(figsize=(15,6))\n",
    "plt.title('Распределение проданных игр на различных платформах по годам')\n",
    "plt.xlabel('Годы выпуска игр')\n",
    "plt.ylabel('Количество проданных копий, млн.шт')\n",
    "sns.lineplot(x='year_of_release', y='total_sales',  hue='platform',  data=games_platform);"
   ]
  },
  {
   "cell_type": "markdown",
   "id": "53d84c14",
   "metadata": {},
   "source": [
    "Выбивается из общей тенденции платформа DS. Сгруппируем и отсортируем данные по году выпуска, чтобы рассмотреть период времени выпуска платформы DS. "
   ]
  },
  {
   "cell_type": "code",
   "execution_count": 28,
   "id": "22e71b18",
   "metadata": {},
   "outputs": [
    {
     "data": {
      "text/plain": [
       "year_of_release\n",
       "1985      1\n",
       "2013      8\n",
       "2004     23\n",
       "2012     23\n",
       "2005    118\n",
       "2011    153\n",
       "2006    201\n",
       "2010    323\n",
       "2007    376\n",
       "2009    403\n",
       "2008    522\n",
       "Name: year_of_release, dtype: int64"
      ]
     },
     "execution_count": 28,
     "metadata": {},
     "output_type": "execute_result"
    }
   ],
   "source": [
    "games.query('platform == \"ds\"').groupby('year_of_release')['year_of_release'].count().sort_values()\n"
   ]
  },
  {
   "cell_type": "markdown",
   "id": "2d6e1e16",
   "metadata": {},
   "source": [
    "Полученные данные указывают на то, что запись об игре в 1985 году является ошибочной. Отсортируем данные по правильному периоду выпуска игр для платформы DS."
   ]
  },
  {
   "cell_type": "code",
   "execution_count": 29,
   "id": "28dbe06a",
   "metadata": {},
   "outputs": [
    {
     "data": {
      "text/plain": [
       "year_of_release\n",
       "2013      8\n",
       "2004     23\n",
       "2012     23\n",
       "2005    118\n",
       "2011    153\n",
       "2006    201\n",
       "2010    323\n",
       "2007    376\n",
       "2009    403\n",
       "2008    522\n",
       "Name: year_of_release, dtype: int64"
      ]
     },
     "execution_count": 29,
     "metadata": {},
     "output_type": "execute_result"
    }
   ],
   "source": [
    "games = games.query(('platform == \"ds\"') and ('year_of_release >= 2004')) # фильтруем таблицу для платформы DS\n",
    "games.query('platform == \"ds\"').groupby('year_of_release')['year_of_release'].count().sort_values() # проверяем полученные результаты\n"
   ]
  },
  {
   "cell_type": "markdown",
   "id": "148f4508",
   "metadata": {},
   "source": [
    "Из графика видно, что характерным временем появления и исчезновения платформ является - **10 лет**. Наибольшее количество платформ появилось в период начиная с 2005 года. \n",
    "При анализе данных учитываем, что согласно документации данные за 2016 год могут быть не полными. С 2010 года отмечается общее снижение количества приобретаемых игр,а с 2013 резкое сокращение количества проданных копий и дальнейшая тенденция к снижению, скорее всего это связано с потерей популярности игр на платформах и развитие новых направлений игр. Актуальными на 2016 год остаются платформы Wii, X360 и PS3. По количеству проданных копий за период с 2005 года лидирует Wii, но с 2009 она потеряла свою популярность и сильно отстает от платформ X360 и PS3, которые можно назвать потенциально прибыльными. Для более корректного прогноза на 2017 год, будем использовать данные с **2013 года**, т.к. после этого года заметно резкое снижение количества игр."
   ]
  },
  {
   "cell_type": "markdown",
   "id": "f0bf03da",
   "metadata": {},
   "source": [
    "Создадим переменную actual_games в которую запишем данные об играх за актуальный период с 2013 года."
   ]
  },
  {
   "cell_type": "code",
   "execution_count": 30,
   "id": "f1b8cb41",
   "metadata": {},
   "outputs": [
    {
     "data": {
      "text/html": [
       "<div>\n",
       "<style scoped>\n",
       "    .dataframe tbody tr th:only-of-type {\n",
       "        vertical-align: middle;\n",
       "    }\n",
       "\n",
       "    .dataframe tbody tr th {\n",
       "        vertical-align: top;\n",
       "    }\n",
       "\n",
       "    .dataframe thead th {\n",
       "        text-align: right;\n",
       "    }\n",
       "</style>\n",
       "<table border=\"1\" class=\"dataframe\">\n",
       "  <thead>\n",
       "    <tr style=\"text-align: right;\">\n",
       "      <th></th>\n",
       "      <th>name</th>\n",
       "      <th>platform</th>\n",
       "      <th>year_of_release</th>\n",
       "      <th>genre</th>\n",
       "      <th>na_sales</th>\n",
       "      <th>eu_sales</th>\n",
       "      <th>jp_sales</th>\n",
       "      <th>other_sales</th>\n",
       "      <th>critic_score</th>\n",
       "      <th>user_score</th>\n",
       "      <th>rating</th>\n",
       "      <th>total_sales</th>\n",
       "    </tr>\n",
       "  </thead>\n",
       "  <tbody>\n",
       "    <tr>\n",
       "      <th>0</th>\n",
       "      <td>grand theft auto v</td>\n",
       "      <td>ps3</td>\n",
       "      <td>2013</td>\n",
       "      <td>action</td>\n",
       "      <td>7.02</td>\n",
       "      <td>9.09</td>\n",
       "      <td>0.98</td>\n",
       "      <td>3.96</td>\n",
       "      <td>97.0</td>\n",
       "      <td>8.2</td>\n",
       "      <td>m</td>\n",
       "      <td>21.05</td>\n",
       "    </tr>\n",
       "    <tr>\n",
       "      <th>1</th>\n",
       "      <td>grand theft auto v</td>\n",
       "      <td>x360</td>\n",
       "      <td>2013</td>\n",
       "      <td>action</td>\n",
       "      <td>9.66</td>\n",
       "      <td>5.14</td>\n",
       "      <td>0.06</td>\n",
       "      <td>1.41</td>\n",
       "      <td>97.0</td>\n",
       "      <td>8.1</td>\n",
       "      <td>m</td>\n",
       "      <td>16.27</td>\n",
       "    </tr>\n",
       "    <tr>\n",
       "      <th>2</th>\n",
       "      <td>call of duty: black ops 3</td>\n",
       "      <td>ps4</td>\n",
       "      <td>2015</td>\n",
       "      <td>shooter</td>\n",
       "      <td>6.03</td>\n",
       "      <td>5.86</td>\n",
       "      <td>0.36</td>\n",
       "      <td>2.38</td>\n",
       "      <td>NaN</td>\n",
       "      <td>NaN</td>\n",
       "      <td>rp</td>\n",
       "      <td>14.63</td>\n",
       "    </tr>\n",
       "    <tr>\n",
       "      <th>3</th>\n",
       "      <td>pokemon x/pokemon y</td>\n",
       "      <td>3ds</td>\n",
       "      <td>2013</td>\n",
       "      <td>role-playing</td>\n",
       "      <td>5.28</td>\n",
       "      <td>4.19</td>\n",
       "      <td>4.35</td>\n",
       "      <td>0.78</td>\n",
       "      <td>NaN</td>\n",
       "      <td>NaN</td>\n",
       "      <td>rp</td>\n",
       "      <td>14.60</td>\n",
       "    </tr>\n",
       "    <tr>\n",
       "      <th>4</th>\n",
       "      <td>grand theft auto v</td>\n",
       "      <td>ps4</td>\n",
       "      <td>2014</td>\n",
       "      <td>action</td>\n",
       "      <td>3.96</td>\n",
       "      <td>6.31</td>\n",
       "      <td>0.38</td>\n",
       "      <td>1.97</td>\n",
       "      <td>97.0</td>\n",
       "      <td>8.3</td>\n",
       "      <td>m</td>\n",
       "      <td>12.62</td>\n",
       "    </tr>\n",
       "    <tr>\n",
       "      <th>...</th>\n",
       "      <td>...</td>\n",
       "      <td>...</td>\n",
       "      <td>...</td>\n",
       "      <td>...</td>\n",
       "      <td>...</td>\n",
       "      <td>...</td>\n",
       "      <td>...</td>\n",
       "      <td>...</td>\n",
       "      <td>...</td>\n",
       "      <td>...</td>\n",
       "      <td>...</td>\n",
       "      <td>...</td>\n",
       "    </tr>\n",
       "    <tr>\n",
       "      <th>2237</th>\n",
       "      <td>strawberry nauts</td>\n",
       "      <td>psv</td>\n",
       "      <td>2016</td>\n",
       "      <td>adventure</td>\n",
       "      <td>0.00</td>\n",
       "      <td>0.00</td>\n",
       "      <td>0.01</td>\n",
       "      <td>0.00</td>\n",
       "      <td>NaN</td>\n",
       "      <td>NaN</td>\n",
       "      <td>rp</td>\n",
       "      <td>0.01</td>\n",
       "    </tr>\n",
       "    <tr>\n",
       "      <th>2238</th>\n",
       "      <td>aiyoku no eustia</td>\n",
       "      <td>psv</td>\n",
       "      <td>2014</td>\n",
       "      <td>misc</td>\n",
       "      <td>0.00</td>\n",
       "      <td>0.00</td>\n",
       "      <td>0.01</td>\n",
       "      <td>0.00</td>\n",
       "      <td>NaN</td>\n",
       "      <td>NaN</td>\n",
       "      <td>rp</td>\n",
       "      <td>0.01</td>\n",
       "    </tr>\n",
       "    <tr>\n",
       "      <th>2239</th>\n",
       "      <td>samurai warriors: sanada maru</td>\n",
       "      <td>ps3</td>\n",
       "      <td>2016</td>\n",
       "      <td>action</td>\n",
       "      <td>0.00</td>\n",
       "      <td>0.00</td>\n",
       "      <td>0.01</td>\n",
       "      <td>0.00</td>\n",
       "      <td>NaN</td>\n",
       "      <td>NaN</td>\n",
       "      <td>rp</td>\n",
       "      <td>0.01</td>\n",
       "    </tr>\n",
       "    <tr>\n",
       "      <th>2240</th>\n",
       "      <td>haitaka no psychedelica</td>\n",
       "      <td>psv</td>\n",
       "      <td>2016</td>\n",
       "      <td>adventure</td>\n",
       "      <td>0.00</td>\n",
       "      <td>0.00</td>\n",
       "      <td>0.01</td>\n",
       "      <td>0.00</td>\n",
       "      <td>NaN</td>\n",
       "      <td>NaN</td>\n",
       "      <td>rp</td>\n",
       "      <td>0.01</td>\n",
       "    </tr>\n",
       "    <tr>\n",
       "      <th>2241</th>\n",
       "      <td>winning post 8 2016</td>\n",
       "      <td>psv</td>\n",
       "      <td>2016</td>\n",
       "      <td>simulation</td>\n",
       "      <td>0.00</td>\n",
       "      <td>0.00</td>\n",
       "      <td>0.01</td>\n",
       "      <td>0.00</td>\n",
       "      <td>NaN</td>\n",
       "      <td>NaN</td>\n",
       "      <td>rp</td>\n",
       "      <td>0.01</td>\n",
       "    </tr>\n",
       "  </tbody>\n",
       "</table>\n",
       "<p>2242 rows × 12 columns</p>\n",
       "</div>"
      ],
      "text/plain": [
       "                               name platform  year_of_release         genre  \\\n",
       "0                grand theft auto v      ps3             2013        action   \n",
       "1                grand theft auto v     x360             2013        action   \n",
       "2         call of duty: black ops 3      ps4             2015       shooter   \n",
       "3               pokemon x/pokemon y      3ds             2013  role-playing   \n",
       "4                grand theft auto v      ps4             2014        action   \n",
       "...                             ...      ...              ...           ...   \n",
       "2237               strawberry nauts      psv             2016     adventure   \n",
       "2238               aiyoku no eustia      psv             2014          misc   \n",
       "2239  samurai warriors: sanada maru      ps3             2016        action   \n",
       "2240        haitaka no psychedelica      psv             2016     adventure   \n",
       "2241            winning post 8 2016      psv             2016    simulation   \n",
       "\n",
       "      na_sales  eu_sales  jp_sales  other_sales  critic_score  user_score  \\\n",
       "0         7.02      9.09      0.98         3.96          97.0         8.2   \n",
       "1         9.66      5.14      0.06         1.41          97.0         8.1   \n",
       "2         6.03      5.86      0.36         2.38           NaN         NaN   \n",
       "3         5.28      4.19      4.35         0.78           NaN         NaN   \n",
       "4         3.96      6.31      0.38         1.97          97.0         8.3   \n",
       "...        ...       ...       ...          ...           ...         ...   \n",
       "2237      0.00      0.00      0.01         0.00           NaN         NaN   \n",
       "2238      0.00      0.00      0.01         0.00           NaN         NaN   \n",
       "2239      0.00      0.00      0.01         0.00           NaN         NaN   \n",
       "2240      0.00      0.00      0.01         0.00           NaN         NaN   \n",
       "2241      0.00      0.00      0.01         0.00           NaN         NaN   \n",
       "\n",
       "     rating  total_sales  \n",
       "0         m        21.05  \n",
       "1         m        16.27  \n",
       "2        rp        14.63  \n",
       "3        rp        14.60  \n",
       "4         m        12.62  \n",
       "...     ...          ...  \n",
       "2237     rp         0.01  \n",
       "2238     rp         0.01  \n",
       "2239     rp         0.01  \n",
       "2240     rp         0.01  \n",
       "2241     rp         0.01  \n",
       "\n",
       "[2242 rows x 12 columns]"
      ]
     },
     "execution_count": 30,
     "metadata": {},
     "output_type": "execute_result"
    }
   ],
   "source": [
    "actual_games = games.query('year_of_release >= 2013').reset_index(drop=True)\n",
    "actual_games"
   ]
  },
  {
   "cell_type": "markdown",
   "id": "6caae21c",
   "metadata": {},
   "source": [
    "Построим график «ящик с усами» по глобальным продажам игр в разбивке по платформам."
   ]
  },
  {
   "cell_type": "code",
   "execution_count": 31,
   "id": "c39e7862",
   "metadata": {},
   "outputs": [
    {
     "data": {
      "image/png": "[encoded data removed]",
      "text/plain": [
       "<Figure size 1080x576 with 1 Axes>"
      ]
     },
     "metadata": {
      "needs_background": "light"
     },
     "output_type": "display_data"
    }
   ],
   "source": [
    "plt.figure(figsize=(15,8))\n",
    "plt.title('Распределение количества проданных игр на различных платформах')\n",
    "sns.boxplot(x='platform', y='total_sales', data=actual_games)\n",
    "plt.xlabel('Платформы')\n",
    "plt.ylabel('Количество проданных копий, млн.шт')\n",
    "plt.ylim(0, 1.75);"
   ]
  },
  {
   "cell_type": "markdown",
   "id": "fce0b53a",
   "metadata": {},
   "source": [
    "За актуальный период наибольшее количество проданных игр было у платформ **X360, PS4, XOne, WiiU, Wii**. Наименьшее количество игр у платформ PS3, PC, PSV, DC, PSP. В среднем популярные платформы продают по **0,2 млн.** копий игр, а наименее популярные меньше 0,05 млн.шт. "
   ]
  },
  {
   "cell_type": "markdown",
   "id": "eb6d385c",
   "metadata": {},
   "source": [
    "Посмотрим, как влияют на продажи внутри одной популярной платформы отзывы пользователей и критиков. Построим диаграмму рассеяния и посчитаем корреляцию между отзывами и продажами."
   ]
  },
  {
   "cell_type": "code",
   "execution_count": 32,
   "id": "9cf81471",
   "metadata": {},
   "outputs": [
    {
     "data": {
      "text/html": [
       "<div>\n",
       "<style scoped>\n",
       "    .dataframe tbody tr th:only-of-type {\n",
       "        vertical-align: middle;\n",
       "    }\n",
       "\n",
       "    .dataframe tbody tr th {\n",
       "        vertical-align: top;\n",
       "    }\n",
       "\n",
       "    .dataframe thead th {\n",
       "        text-align: right;\n",
       "    }\n",
       "</style>\n",
       "<table border=\"1\" class=\"dataframe\">\n",
       "  <thead>\n",
       "    <tr style=\"text-align: right;\">\n",
       "      <th></th>\n",
       "      <th>critic_score</th>\n",
       "      <th>user_score</th>\n",
       "      <th>total_sales</th>\n",
       "    </tr>\n",
       "  </thead>\n",
       "  <tbody>\n",
       "    <tr>\n",
       "      <th>critic_score</th>\n",
       "      <td>1.000000</td>\n",
       "      <td>0.557654</td>\n",
       "      <td>0.406568</td>\n",
       "    </tr>\n",
       "    <tr>\n",
       "      <th>user_score</th>\n",
       "      <td>0.557654</td>\n",
       "      <td>1.000000</td>\n",
       "      <td>-0.031957</td>\n",
       "    </tr>\n",
       "    <tr>\n",
       "      <th>total_sales</th>\n",
       "      <td>0.406568</td>\n",
       "      <td>-0.031957</td>\n",
       "      <td>1.000000</td>\n",
       "    </tr>\n",
       "  </tbody>\n",
       "</table>\n",
       "</div>"
      ],
      "text/plain": [
       "              critic_score  user_score  total_sales\n",
       "critic_score      1.000000    0.557654     0.406568\n",
       "user_score        0.557654    1.000000    -0.031957\n",
       "total_sales       0.406568   -0.031957     1.000000"
      ]
     },
     "execution_count": 32,
     "metadata": {},
     "output_type": "execute_result"
    }
   ],
   "source": [
    "actual_games.query('platform == \"ps4\"')[['platform', 'critic_score', 'user_score', 'total_sales']].corr()"
   ]
  },
  {
   "cell_type": "code",
   "execution_count": 33,
   "id": "c8348697",
   "metadata": {},
   "outputs": [],
   "source": [
    "# создаем функцию для построения матрицы диаграммы рассеивания по платформе\n",
    "def platform_sales_corr(platform):\n",
    "    actual_games_matrix = actual_games.query('platform == @platform')[['platform', 'critic_score', 'user_score', 'total_sales']]\n",
    "    return pd.plotting.scatter_matrix(actual_games_matrix, figsize=(7, 7))\n"
   ]
  },
  {
   "cell_type": "code",
   "execution_count": 34,
   "id": "cae82c02",
   "metadata": {},
   "outputs": [
    {
     "data": {
      "image/png": "[encoded data removed]",
      "text/plain": [
       "<Figure size 504x504 with 9 Axes>"
      ]
     },
     "metadata": {
      "needs_background": "light"
     },
     "output_type": "display_data"
    }
   ],
   "source": [
    "# применяем функцию platform_sales_corr для платформы 'PS4'\n",
    "platform_sales_corr('ps4');"
   ]
  },
  {
   "cell_type": "markdown",
   "id": "857e2643",
   "metadata": {},
   "source": [
    "Из диаграммы рассеивания видно, что связь оценки критиков и общих продаж игр на платформе **'ps4'** прямая и умеренная, а оценки пользователей вообще не влияют на количество проданных копий (связь отсутствует). Связь оценок пользователей и оценок критиков прямая и заметная.\n",
    "\n",
    "Сравним полученные выводы с продажами игр на других платформах."
   ]
  },
  {
   "cell_type": "code",
   "execution_count": 35,
   "id": "e209aa76",
   "metadata": {},
   "outputs": [
    {
     "data": {
      "text/html": [
       "<div>\n",
       "<style scoped>\n",
       "    .dataframe tbody tr th:only-of-type {\n",
       "        vertical-align: middle;\n",
       "    }\n",
       "\n",
       "    .dataframe tbody tr th {\n",
       "        vertical-align: top;\n",
       "    }\n",
       "\n",
       "    .dataframe thead th {\n",
       "        text-align: right;\n",
       "    }\n",
       "</style>\n",
       "<table border=\"1\" class=\"dataframe\">\n",
       "  <thead>\n",
       "    <tr style=\"text-align: right;\">\n",
       "      <th></th>\n",
       "      <th>critic_score</th>\n",
       "      <th>user_score</th>\n",
       "      <th>total_sales</th>\n",
       "    </tr>\n",
       "  </thead>\n",
       "  <tbody>\n",
       "    <tr>\n",
       "      <th>critic_score</th>\n",
       "      <td>1.000000</td>\n",
       "      <td>0.520946</td>\n",
       "      <td>0.350345</td>\n",
       "    </tr>\n",
       "    <tr>\n",
       "      <th>user_score</th>\n",
       "      <td>0.520946</td>\n",
       "      <td>1.000000</td>\n",
       "      <td>-0.011742</td>\n",
       "    </tr>\n",
       "    <tr>\n",
       "      <th>total_sales</th>\n",
       "      <td>0.350345</td>\n",
       "      <td>-0.011742</td>\n",
       "      <td>1.000000</td>\n",
       "    </tr>\n",
       "  </tbody>\n",
       "</table>\n",
       "</div>"
      ],
      "text/plain": [
       "              critic_score  user_score  total_sales\n",
       "critic_score      1.000000    0.520946     0.350345\n",
       "user_score        0.520946    1.000000    -0.011742\n",
       "total_sales       0.350345   -0.011742     1.000000"
      ]
     },
     "execution_count": 35,
     "metadata": {},
     "output_type": "execute_result"
    }
   ],
   "source": [
    "# рассчитаем корреляцию для платформы \"x360\"\n",
    "actual_games.query('platform == \"x360\"')[['platform', 'critic_score', 'user_score', 'total_sales']].corr()"
   ]
  },
  {
   "cell_type": "code",
   "execution_count": 36,
   "id": "f75293f4",
   "metadata": {
    "scrolled": true
   },
   "outputs": [
    {
     "data": {
      "image/png": "[encoded data removed]",
      "text/plain": [
       "<Figure size 504x504 with 9 Axes>"
      ]
     },
     "metadata": {
      "needs_background": "light"
     },
     "output_type": "display_data"
    }
   ],
   "source": [
    "platform_sales_corr('x360');"
   ]
  },
  {
   "cell_type": "markdown",
   "id": "fca986f4",
   "metadata": {},
   "source": [
    "Связь общего количества проданных копий на платформе **'x360'** с оценкой критиков прямая и умеренная, а оценки пользователей вообще не влияют на количество проданных копий (связь отсутсвует). Связь оценок пользователей и оценок критиков прямая и заметная."
   ]
  },
  {
   "cell_type": "code",
   "execution_count": 37,
   "id": "5d214c5c",
   "metadata": {},
   "outputs": [
    {
     "data": {
      "text/html": [
       "<div>\n",
       "<style scoped>\n",
       "    .dataframe tbody tr th:only-of-type {\n",
       "        vertical-align: middle;\n",
       "    }\n",
       "\n",
       "    .dataframe tbody tr th {\n",
       "        vertical-align: top;\n",
       "    }\n",
       "\n",
       "    .dataframe thead th {\n",
       "        text-align: right;\n",
       "    }\n",
       "</style>\n",
       "<table border=\"1\" class=\"dataframe\">\n",
       "  <thead>\n",
       "    <tr style=\"text-align: right;\">\n",
       "      <th></th>\n",
       "      <th>critic_score</th>\n",
       "      <th>user_score</th>\n",
       "      <th>total_sales</th>\n",
       "    </tr>\n",
       "  </thead>\n",
       "  <tbody>\n",
       "    <tr>\n",
       "      <th>critic_score</th>\n",
       "      <td>1.000000</td>\n",
       "      <td>0.472462</td>\n",
       "      <td>0.416998</td>\n",
       "    </tr>\n",
       "    <tr>\n",
       "      <th>user_score</th>\n",
       "      <td>0.472462</td>\n",
       "      <td>1.000000</td>\n",
       "      <td>-0.068925</td>\n",
       "    </tr>\n",
       "    <tr>\n",
       "      <th>total_sales</th>\n",
       "      <td>0.416998</td>\n",
       "      <td>-0.068925</td>\n",
       "      <td>1.000000</td>\n",
       "    </tr>\n",
       "  </tbody>\n",
       "</table>\n",
       "</div>"
      ],
      "text/plain": [
       "              critic_score  user_score  total_sales\n",
       "critic_score      1.000000    0.472462     0.416998\n",
       "user_score        0.472462    1.000000    -0.068925\n",
       "total_sales       0.416998   -0.068925     1.000000"
      ]
     },
     "execution_count": 37,
     "metadata": {},
     "output_type": "execute_result"
    }
   ],
   "source": [
    "actual_games.query('platform == \"xone\"')[['platform', 'critic_score', 'user_score', 'total_sales']].corr()"
   ]
  },
  {
   "cell_type": "code",
   "execution_count": 38,
   "id": "73004ac9",
   "metadata": {},
   "outputs": [
    {
     "data": {
      "image/png": "[encoded data removed]",
      "text/plain": [
       "<Figure size 504x504 with 9 Axes>"
      ]
     },
     "metadata": {
      "needs_background": "light"
     },
     "output_type": "display_data"
    }
   ],
   "source": [
    "platform_sales_corr('xone');"
   ]
  },
  {
   "cell_type": "markdown",
   "id": "39702b6c",
   "metadata": {},
   "source": [
    "Связь общих продаж игр и оценок критиков на платформе **'xone'** прямая и умеренная, а оценки пользователей вообще не влияют на количество проданных копий (связь отсутсвует). Связь оценок пользователей и оценок критиков прямая и умеренная."
   ]
  },
  {
   "cell_type": "code",
   "execution_count": 39,
   "id": "cbda179e",
   "metadata": {},
   "outputs": [
    {
     "data": {
      "text/html": [
       "<div>\n",
       "<style scoped>\n",
       "    .dataframe tbody tr th:only-of-type {\n",
       "        vertical-align: middle;\n",
       "    }\n",
       "\n",
       "    .dataframe tbody tr th {\n",
       "        vertical-align: top;\n",
       "    }\n",
       "\n",
       "    .dataframe thead th {\n",
       "        text-align: right;\n",
       "    }\n",
       "</style>\n",
       "<table border=\"1\" class=\"dataframe\">\n",
       "  <thead>\n",
       "    <tr style=\"text-align: right;\">\n",
       "      <th></th>\n",
       "      <th>critic_score</th>\n",
       "      <th>user_score</th>\n",
       "      <th>total_sales</th>\n",
       "    </tr>\n",
       "  </thead>\n",
       "  <tbody>\n",
       "    <tr>\n",
       "      <th>critic_score</th>\n",
       "      <td>1.000000</td>\n",
       "      <td>0.721313</td>\n",
       "      <td>0.376415</td>\n",
       "    </tr>\n",
       "    <tr>\n",
       "      <th>user_score</th>\n",
       "      <td>0.721313</td>\n",
       "      <td>1.000000</td>\n",
       "      <td>0.419330</td>\n",
       "    </tr>\n",
       "    <tr>\n",
       "      <th>total_sales</th>\n",
       "      <td>0.376415</td>\n",
       "      <td>0.419330</td>\n",
       "      <td>1.000000</td>\n",
       "    </tr>\n",
       "  </tbody>\n",
       "</table>\n",
       "</div>"
      ],
      "text/plain": [
       "              critic_score  user_score  total_sales\n",
       "critic_score      1.000000    0.721313     0.376415\n",
       "user_score        0.721313    1.000000     0.419330\n",
       "total_sales       0.376415    0.419330     1.000000"
      ]
     },
     "execution_count": 39,
     "metadata": {},
     "output_type": "execute_result"
    }
   ],
   "source": [
    "actual_games.query('platform == \"wiiu\"')[['platform', 'critic_score', 'user_score', 'total_sales']].corr()"
   ]
  },
  {
   "cell_type": "code",
   "execution_count": 40,
   "id": "2cd93dc1",
   "metadata": {
    "scrolled": true
   },
   "outputs": [
    {
     "data": {
      "image/png": "[encoded data removed]",
      "text/plain": [
       "<Figure size 504x504 with 9 Axes>"
      ]
     },
     "metadata": {
      "needs_background": "light"
     },
     "output_type": "display_data"
    }
   ],
   "source": [
    "platform_sales_corr('wiiu');"
   ]
  },
  {
   "cell_type": "markdown",
   "id": "a69dc4d4",
   "metadata": {},
   "source": [
    "Связь общего количество проданных копий на платформе **'wiiu'** от оценки критиков, прямая и умеренная, а оценки пользователей немного сильнее влияют на количество проданных копий (связь прямая и умеренная). Связь оценок пользователей и оценок критиков прямая и высокая."
   ]
  },
  {
   "cell_type": "code",
   "execution_count": 41,
   "id": "15cd8615",
   "metadata": {},
   "outputs": [
    {
     "data": {
      "text/plain": [
       "23"
      ]
     },
     "execution_count": 41,
     "metadata": {},
     "output_type": "execute_result"
    }
   ],
   "source": [
    "len(actual_games.query('platform == \"wii\"'))"
   ]
  },
  {
   "cell_type": "markdown",
   "id": "528a15e7",
   "metadata": {},
   "source": [
    "Данных для платформы **wii** недостаточно для формирования корректных выводов."
   ]
  },
  {
   "cell_type": "code",
   "execution_count": 42,
   "id": "d516ae55",
   "metadata": {},
   "outputs": [
    {
     "data": {
      "text/html": [
       "<div>\n",
       "<style scoped>\n",
       "    .dataframe tbody tr th:only-of-type {\n",
       "        vertical-align: middle;\n",
       "    }\n",
       "\n",
       "    .dataframe tbody tr th {\n",
       "        vertical-align: top;\n",
       "    }\n",
       "\n",
       "    .dataframe thead th {\n",
       "        text-align: right;\n",
       "    }\n",
       "</style>\n",
       "<table border=\"1\" class=\"dataframe\">\n",
       "  <thead>\n",
       "    <tr style=\"text-align: right;\">\n",
       "      <th></th>\n",
       "      <th>genre</th>\n",
       "      <th>total_sales</th>\n",
       "    </tr>\n",
       "  </thead>\n",
       "  <tbody>\n",
       "    <tr>\n",
       "      <th>0</th>\n",
       "      <td>action</td>\n",
       "      <td>322.27</td>\n",
       "    </tr>\n",
       "    <tr>\n",
       "      <th>1</th>\n",
       "      <td>shooter</td>\n",
       "      <td>233.05</td>\n",
       "    </tr>\n",
       "    <tr>\n",
       "      <th>2</th>\n",
       "      <td>sports</td>\n",
       "      <td>150.67</td>\n",
       "    </tr>\n",
       "    <tr>\n",
       "      <th>3</th>\n",
       "      <td>role-playing</td>\n",
       "      <td>146.18</td>\n",
       "    </tr>\n",
       "    <tr>\n",
       "      <th>4</th>\n",
       "      <td>misc</td>\n",
       "      <td>62.82</td>\n",
       "    </tr>\n",
       "    <tr>\n",
       "      <th>5</th>\n",
       "      <td>platform</td>\n",
       "      <td>42.63</td>\n",
       "    </tr>\n",
       "    <tr>\n",
       "      <th>6</th>\n",
       "      <td>racing</td>\n",
       "      <td>39.98</td>\n",
       "    </tr>\n",
       "    <tr>\n",
       "      <th>7</th>\n",
       "      <td>fighting</td>\n",
       "      <td>35.31</td>\n",
       "    </tr>\n",
       "    <tr>\n",
       "      <th>8</th>\n",
       "      <td>adventure</td>\n",
       "      <td>23.73</td>\n",
       "    </tr>\n",
       "    <tr>\n",
       "      <th>9</th>\n",
       "      <td>simulation</td>\n",
       "      <td>22.25</td>\n",
       "    </tr>\n",
       "    <tr>\n",
       "      <th>10</th>\n",
       "      <td>strategy</td>\n",
       "      <td>10.08</td>\n",
       "    </tr>\n",
       "    <tr>\n",
       "      <th>11</th>\n",
       "      <td>puzzle</td>\n",
       "      <td>3.17</td>\n",
       "    </tr>\n",
       "  </tbody>\n",
       "</table>\n",
       "</div>"
      ],
      "text/plain": [
       "           genre  total_sales\n",
       "0         action       322.27\n",
       "1        shooter       233.05\n",
       "2         sports       150.67\n",
       "3   role-playing       146.18\n",
       "4           misc        62.82\n",
       "5       platform        42.63\n",
       "6         racing        39.98\n",
       "7       fighting        35.31\n",
       "8      adventure        23.73\n",
       "9     simulation        22.25\n",
       "10      strategy        10.08\n",
       "11        puzzle         3.17"
      ]
     },
     "execution_count": 42,
     "metadata": {},
     "output_type": "execute_result"
    }
   ],
   "source": [
    "# распределение игр по жанрам\n",
    "actual_games_genre = (\n",
    "    actual_games\n",
    "    .pivot_table(index='genre', values='total_sales', aggfunc='sum').round(2)\n",
    ")\n",
    "actual_games_genre = actual_games_genre.sort_values(by='total_sales', ascending=False, axis=0).reset_index()\n",
    "actual_games_genre"
   ]
  },
  {
   "cell_type": "code",
   "execution_count": 43,
   "id": "762158ef",
   "metadata": {},
   "outputs": [
    {
     "data": {
      "image/png": "[encoded data removed]",
      "text/plain": [
       "<Figure size 936x432 with 1 Axes>"
      ]
     },
     "metadata": {
      "needs_background": "light"
     },
     "output_type": "display_data"
    }
   ],
   "source": [
    "actual_games_genre.plot(x='genre', y='total_sales', grid=True,figsize=(13,6),kind='bar', alpha=0.9)\n",
    "plt.title('Количество проданных игр в зависимости от жанра')\n",
    "plt.xlabel('Жанры')\n",
    "plt.ylabel('Количество проданных копий, млн.шт')\n",
    "plt.show()"
   ]
  },
  {
   "cell_type": "markdown",
   "id": "2dd70d19",
   "metadata": {},
   "source": [
    "Для более точного анализа прибыльности построим для жанров диаграммы размаха."
   ]
  },
  {
   "cell_type": "code",
   "execution_count": 44,
   "id": "ad7cf0d9",
   "metadata": {},
   "outputs": [
    {
     "data": {
      "image/png": "[encoded data removed]",
      "text/plain": [
       "<Figure size 1080x576 with 1 Axes>"
      ]
     },
     "metadata": {
      "needs_background": "light"
     },
     "output_type": "display_data"
    }
   ],
   "source": [
    "plt.figure(figsize=(15,8))\n",
    "plt.title('Прибыльность различных жанров')\n",
    "sns.boxplot(x='genre', y='total_sales', data=actual_games)\n",
    "plt.xlabel('Жанры')\n",
    "plt.ylabel('Количество проданных копий, млн.шт')\n",
    "plt.ylim(0, 5);"
   ]
  },
  {
   "cell_type": "code",
   "execution_count": 45,
   "id": "b964cc5b",
   "metadata": {},
   "outputs": [
    {
     "data": {
      "image/png": "[encoded data removed]",
      "text/plain": [
       "<Figure size 1080x576 with 1 Axes>"
      ]
     },
     "metadata": {
      "needs_background": "light"
     },
     "output_type": "display_data"
    }
   ],
   "source": [
    "plt.figure(figsize=(15,8))\n",
    "plt.title('Прибыльность различных жанров')\n",
    "sns.boxplot(x='genre', y='total_sales', data=actual_games)\n",
    "plt.xlabel('Жанры')\n",
    "plt.ylabel('Количество проданных копий, млн.шт')\n",
    "plt.ylim(0, 1.5);"
   ]
  },
  {
   "cell_type": "markdown",
   "id": "c628c203",
   "metadata": {},
   "source": [
    "Самым популярными жанрами по общему количеству проданных копий являются жанры: 'Action', 'Shooter'. Столбчатая диаграмма показала наибольшую прибыльность жанра 'action', но на диаграмме размаха видим, что большинство значений это выбросы. Медианное значение количества проданных копий больше у жанров: 'shooter', 'sport', 'platform'. Продажи этих жанров также более стабильны и имеют более широкий интервал успешно продающихся игр. Сделаем вывод, что жанрами приносящими наибольшую прибыль являются: 'shooter', 'sport', 'platform'. Меньше всего прибыли приносит жанр 'adventure'."
   ]
  },
  {
   "cell_type": "markdown",
   "id": "1fc4a0af",
   "metadata": {},
   "source": [
    "**Выводы:**\n",
    "Рассмотрели распределение общих продаж игр за каждый год. Пик по объему выпускаемых игр приходится на 2007-2011, с 2012 количество игр резко пошло на спад.\n",
    "\n",
    "Определили *топ-5* самых прибыльных платформ: *PS2,  X360, PS3, Wii, DS*.\n",
    "Построили распределение количества проданных игр в зависимости от платформы за все годы. Определили **срок актуальности** платформы – **10 лет**. \n",
    "\n",
    "Определили **актуальный период с 2013 по 2016 год**, который можно будет использовать для прогноза продаж игр на 2017 год . Т.к. после 2013 года наблюдается снижение общего числа проданных копий игр и соответственно прогноз будет более реалистичным. \n",
    "\n",
    "Для установленного актуального периода посмотрели распределение количества проданных игр по каждой платформе, определили **наиболее перспективные платформы: PS4, XOne, X360, WiiU**. \n",
    "\n",
    "Рассмотрели зависимость объема проданных игр в зависимости от оценок пользователей и оценок критиков по каждой популярной платформе: \n",
    "- для всех платформ связь общих **продаж и оценок критиков прямая и умеренная**; \n",
    "- для платформ  'ps4' , 'x360',  'xone' **связь оценок пользователей с количеством проданных копий отсутствует**, выделяется платформа 'wiiu' (связь прямая и умеренная);\n",
    "- связь **оценок пользователей и оценок критиков** для платформ 'ps4',  'x360' **прямая и заметная**, для платформы 'xone' прямая и **умеренная**, а для платформы 'wiiu' прямая и **высокая**. \n",
    "\n",
    "\n",
    "Самое большое количеству проданных игр у жанров: 'Action', 'Shooter', высокие продажи у игр жанров 'Sport' и 'Role-Playing', самые низкие продажи у игр жанра 'Puzzle'. Однако по диаграмме размаха видно, что жанрами приносящими наибольшую прибыль являются: **'shooter', 'sport', 'platform'**. Меньше всего прибыли приносит жанр 'adventure'.\n"
   ]
  },
  {
   "cell_type": "markdown",
   "id": "f1aff934",
   "metadata": {},
   "source": [
    "## Портрет пользователя"
   ]
  },
  {
   "cell_type": "markdown",
   "id": "260064d8",
   "metadata": {},
   "source": [
    "Составим портрет пользователя отдельно для каждого региона. В рейтинг для каждого региона войдут:\n",
    "- Самые популярные платформы (топ-5)\n",
    "- Самые популярные жанры (топ-5)\n",
    "- Рассмотрим влияние рейтинга ESRB на продажи в отдельном регионе."
   ]
  },
  {
   "cell_type": "code",
   "execution_count": 46,
   "id": "162c42f1",
   "metadata": {},
   "outputs": [],
   "source": [
    "# Функция для построения графика, на вход поступает: столбец, название региона, место расположения\n",
    "\n",
    "def top_5(column, region, ax):\n",
    "    plot = (\n",
    "        actual_games\n",
    "        .groupby(column).agg({region: 'sum'})\n",
    "        .sort_values(by=region, ascending=False)\n",
    "        .head(5)\n",
    "        .plot(kind='bar', grid=True, ax=axes[ax], fontsize=18)\n",
    "    )\n",
    "    plot.legend('')\n",
    "    plot.set_xlabel('')\n",
    "    plot.title.set_size(20)"
   ]
  },
  {
   "cell_type": "markdown",
   "id": "d10a9b56",
   "metadata": {},
   "source": [
    "Построим рейтинг топ-5 самых популярных платформ по регионам, применим метод top_5() к столбцу `platform`."
   ]
  },
  {
   "cell_type": "code",
   "execution_count": 47,
   "id": "6222b125",
   "metadata": {},
   "outputs": [
    {
     "data": {
      "image/png": "[encoded data removed]",
      "text/plain": [
       "<Figure size 1440x360 with 3 Axes>"
      ]
     },
     "metadata": {
      "needs_background": "light"
     },
     "output_type": "display_data"
    }
   ],
   "source": [
    "fig, axes = plt.subplots(1, 3, figsize=(25,6))\n",
    "fig.suptitle('ТОП-5 платформ для каждого региона',\n",
    "             y = 1.1,\n",
    "             fontsize = 30)\n",
    "axes[0].set_title(\"Северная Америка\")\n",
    "axes[1].set_title(\"Европа\")\n",
    "axes[2].set_title(\"Япония\")\n",
    "\n",
    "fig.set_figheight(5)\n",
    "fig.set_figwidth(20)\n",
    "\n",
    "top_5('platform', 'na_sales', 0)\n",
    "top_5('platform', 'eu_sales', 1)\n",
    "top_5('platform', 'jp_sales', 2)"
   ]
  },
  {
   "cell_type": "markdown",
   "id": "60487501",
   "metadata": {},
   "source": [
    "Построим рейтинг топ-5 самых популярных жанров по регионам, применим метод top_5() к столбцу `genre`."
   ]
  },
  {
   "cell_type": "code",
   "execution_count": 48,
   "id": "e9668132",
   "metadata": {},
   "outputs": [
    {
     "data": {
      "image/png": "[encoded data removed]",
      "text/plain": [
       "<Figure size 1080x360 with 3 Axes>"
      ]
     },
     "metadata": {},
     "output_type": "display_data"
    }
   ],
   "source": [
    "# задаем список регионов\n",
    "countries = actual_games.columns[4:7]\n",
    "# начертим круговую диаграмму для каждого региона\n",
    "fig, axs = plt.subplots(1, 3, figsize=(15, 5))\n",
    "fig.suptitle('ТОП-5 платформ в регионах')\n",
    "for i in range(3):\n",
    "  # выберем 5 самых продающих платформ\n",
    "  df_i = (actual_games.groupby('platform')[countries[i]].sum().\n",
    "             reset_index().\n",
    "             sort_values(countries[i], ascending = False, ignore_index = True).\n",
    "             head(5))\n",
    "  # занесем все остальыне продажи в Other_platforms\n",
    "  df_i = df_i.append({'platform': 'Other_platforms', countries[i]: actual_games[countries[i]].sum() - df_i[countries[i]].sum()}, ignore_index= True)\n",
    "  axs[i].pie(df_i[countries[i]], labels = df_i['platform'], autopct='%.1f%%',\n",
    "       wedgeprops={'linewidth': 3.0, 'edgecolor': 'white'},\n",
    "       textprops={'size': 'x-large'})\n",
    "\n",
    "  # Зададим название региона.\n",
    "  axs[i].set_title(df_i.columns[1].split('_')[0].upper())\n",
    "plt.show()"
   ]
  },
  {
   "cell_type": "code",
   "execution_count": 49,
   "id": "904d30f3",
   "metadata": {},
   "outputs": [
    {
     "data": {
      "image/png": "[encoded data removed]",
      "text/plain": [
       "<Figure size 1440x360 with 3 Axes>"
      ]
     },
     "metadata": {
      "needs_background": "light"
     },
     "output_type": "display_data"
    }
   ],
   "source": [
    "fig, axes = plt.subplots(1, 3, figsize=(25,6))\n",
    "fig.suptitle('ТОП-5 жанров для каждого региона',\n",
    "             y = 1.1,\n",
    "             fontsize = 30)\n",
    "axes[0].set_title(\"Северная Америка\")\n",
    "axes[1].set_title(\"Европа\")\n",
    "axes[2].set_title(\"Япония\")\n",
    "\n",
    "fig.set_figheight(5)\n",
    "fig.set_figwidth(20)\n",
    "\n",
    "top_5('genre', 'na_sales', 0)\n",
    "top_5('genre', 'eu_sales', 1)\n",
    "top_5('genre', 'jp_sales', 2)"
   ]
  },
  {
   "cell_type": "markdown",
   "id": "5d213f3b",
   "metadata": {},
   "source": [
    "Построим графики влияния рейтинга  ESRB на продажи по регионам, применим метод top_5() к столбцу `rating`."
   ]
  },
  {
   "cell_type": "code",
   "execution_count": 50,
   "id": "b187a0d3",
   "metadata": {},
   "outputs": [
    {
     "data": {
      "image/png": "[encoded data removed]",
      "text/plain": [
       "<Figure size 1440x360 with 3 Axes>"
      ]
     },
     "metadata": {
      "needs_background": "light"
     },
     "output_type": "display_data"
    }
   ],
   "source": [
    "fig, axes = plt.subplots(1, 3, figsize=(25,6))\n",
    "fig.suptitle('Влияние рейтинга на продажи в регионах',\n",
    "             y = 1.1,\n",
    "             fontsize = 30)\n",
    "axes[0].set_title(\"Северная Америка\")\n",
    "axes[1].set_title(\"Европа\")\n",
    "axes[2].set_title(\"Япония\")\n",
    "\n",
    "fig.set_figheight(5)\n",
    "fig.set_figwidth(20)\n",
    "\n",
    "top_5('rating', 'na_sales', 0)\n",
    "top_5('rating', 'eu_sales', 1)\n",
    "top_5('rating', 'jp_sales', 2)"
   ]
  },
  {
   "cell_type": "markdown",
   "id": "fd7e624c",
   "metadata": {},
   "source": [
    "**Выводы:**\n",
    "\n",
    "Предпочтения пользователей из **Северной Америки и Европы**, отличаются не очень сильно топ-5 платформ для этих регионов включает платформы: PS4, XOne, X360, PS3, 3DS. В обоих регионах самая популярная платформа **PS4**, на втором месте в Северной Америке платформа **XOne**, в Европе же она занимает 3 место, на втором месте в Европе платформа PS3, а в Северной Америке она лишь на 4-м. Замыкает рейтинг топ-5 платформа 3 DS.  Первые 4 места в топ-5 жанров в обоих регионах совпадает и включает в себя: **Action, Shooter, Sports, Role-Playing**,а замыкает рейтинг в **Европе Racing**, а в **Северной Америке Misc**. Самые популярные игры в Северной Америке и Европе имеют рейтинг **«M»** («Mature») — «От 17 лет».\n",
    "\n",
    "В **Японии** же предпочетения пользователей сильно отличаются. В этом регионе на первом месте располагается платформа **3DS**,  также в топ-5 как и в Северной Америке и Европе входят **PS4** и **PS3**.\n",
    "Топ-5 жанров в Японии также очень отличается: на 1 месте - **Role-Playing**, на 4 распологается Fighting, который также не вошел в топ-5 остальных регионов. Из портрета пользователей видно, что в Японии предпочитают более традиционные игры и отдают предпочтение классике, а также увлекаются играми с традиционными для восточных стран единоборствами. Самые популярные игры в Японии имеют рейтинг  **«rp»** (рейтинг был пропущен). Это связано с популярной для Японии платформой, игры для которой не оцениваются рейтингом ESRB.\n",
    "\n",
    "Таким образом сделаем вывод, что рейтинг ESRB влияет на продажи в отдельных регионах.\n"
   ]
  },
  {
   "cell_type": "markdown",
   "id": "b2ab7fad",
   "metadata": {},
   "source": [
    "## Проверка гипотез"
   ]
  },
  {
   "cell_type": "markdown",
   "id": "6a223261",
   "metadata": {},
   "source": [
    "Проверим следующие гипотезы: \n",
    "- средние пользовательские рейтинги платформ Xbox One и PC равны; \n",
    "- средние пользовательские рейтинги жанров Action и Sports разные.\n",
    "\n",
    "Для проверки гипотез избавимся от пропущенных значений пользовательского рейтинга в столбце `user_score`.   "
   ]
  },
  {
   "cell_type": "code",
   "execution_count": 51,
   "id": "79516c23",
   "metadata": {},
   "outputs": [],
   "source": [
    "actual_games = actual_games[['platform', 'genre', 'user_score']].dropna()"
   ]
  },
  {
   "cell_type": "markdown",
   "id": "e8a12eee",
   "metadata": {},
   "source": [
    "### Проверка первой гипотезы"
   ]
  },
  {
   "cell_type": "markdown",
   "id": "bca0d21f",
   "metadata": {},
   "source": [
    "Рассчитаем для платформ: среднее, стандартное отклонение и дисперсию для столбца `user_score`. Данные представим в сводной таблице."
   ]
  },
  {
   "cell_type": "code",
   "execution_count": 52,
   "id": "e4b3a69d",
   "metadata": {},
   "outputs": [
    {
     "data": {
      "text/html": [
       "<div>\n",
       "<style scoped>\n",
       "    .dataframe tbody tr th:only-of-type {\n",
       "        vertical-align: middle;\n",
       "    }\n",
       "\n",
       "    .dataframe tbody tr th {\n",
       "        vertical-align: top;\n",
       "    }\n",
       "\n",
       "    .dataframe thead th {\n",
       "        text-align: right;\n",
       "    }\n",
       "</style>\n",
       "<table border=\"1\" class=\"dataframe\">\n",
       "  <thead>\n",
       "    <tr style=\"text-align: right;\">\n",
       "      <th></th>\n",
       "      <th>user_score_mean</th>\n",
       "      <th>user_score_std</th>\n",
       "      <th>user_score_var</th>\n",
       "    </tr>\n",
       "    <tr>\n",
       "      <th>platform</th>\n",
       "      <th></th>\n",
       "      <th></th>\n",
       "      <th></th>\n",
       "    </tr>\n",
       "  </thead>\n",
       "  <tbody>\n",
       "    <tr>\n",
       "      <th>pc</th>\n",
       "      <td>6.27</td>\n",
       "      <td>1.74</td>\n",
       "      <td>3.04</td>\n",
       "    </tr>\n",
       "    <tr>\n",
       "      <th>xone</th>\n",
       "      <td>6.52</td>\n",
       "      <td>1.38</td>\n",
       "      <td>1.91</td>\n",
       "    </tr>\n",
       "  </tbody>\n",
       "</table>\n",
       "</div>"
      ],
      "text/plain": [
       "          user_score_mean  user_score_std  user_score_var\n",
       "platform                                                 \n",
       "pc                   6.27            1.74            3.04\n",
       "xone                 6.52            1.38            1.91"
      ]
     },
     "execution_count": 52,
     "metadata": {},
     "output_type": "execute_result"
    }
   ],
   "source": [
    "actual_games_pivot_platform = actual_games.pivot_table(index=['platform'], values=['user_score'], aggfunc={'user_score': [np.mean, np.var, np.std]}).round(2)\n",
    "actual_games_pivot_platform.columns = ['user_score_mean', 'user_score_std', 'user_score_var']\n",
    "actual_games_pivot_platform.query('platform == \"xone\" | platform == \"pc\"') #выведем на экран данные по платформам, необходимые для проверки гипотез"
   ]
  },
  {
   "cell_type": "markdown",
   "id": "41ab737a",
   "metadata": {},
   "source": [
    "Рассмотрим распределение оценок пользователей для каждой из платформ. Построим гистограмму по столбцу `user_score`."
   ]
  },
  {
   "cell_type": "code",
   "execution_count": 53,
   "id": "9823a12b",
   "metadata": {},
   "outputs": [
    {
     "data": {
      "image/png": "[encoded data removed]",
      "text/plain": [
       "<Figure size 432x288 with 1 Axes>"
      ]
     },
     "metadata": {
      "needs_background": "light"
     },
     "output_type": "display_data"
    }
   ],
   "source": [
    "ax = actual_games.query('platform == \"xone\"').hist(column='user_score', bins=10, grid=True, alpha=0.6)\n",
    "ax = actual_games.query('platform == \"pc\"').hist(column='user_score', bins=10, grid=True,  alpha=0.6, ax=ax)\n",
    "ax[0][0].set_title(\"Распреденение оценок пользователей для платформ 'Xone' и 'PC'\")\n",
    "ax[0][0].set_xlabel(\"user_score\", labelpad=5, weight='bold', size=12)\n",
    "ax[0][0].set_ylabel(\"count\", labelpad=5, weight='bold', size=12)\n",
    "plt.legend(('xone', 'pc'));"
   ]
  },
  {
   "cell_type": "code",
   "execution_count": 54,
   "id": "f3514f7b",
   "metadata": {},
   "outputs": [
    {
     "data": {
      "image/png": "[encoded data removed]",
      "text/plain": [
       "<Figure size 432x288 with 1 Axes>"
      ]
     },
     "metadata": {
      "needs_background": "light"
     },
     "output_type": "display_data"
    }
   ],
   "source": [
    "plt.title('Распределение оценок пользователей на различных платформах')\n",
    "sns.boxplot(x='platform', y='user_score', data=actual_games.query('platform == \"xone\" | platform == \"pc\"'))\n",
    "plt.xlabel('Платформы')\n",
    "plt.ylabel('Оценки пользователей');"
   ]
  },
  {
   "cell_type": "markdown",
   "id": "bd365595",
   "metadata": {},
   "source": [
    "Распределение оценок пользователей для обоих платформ скошено влево. Среднее для PC\t- 6.27, для XOne - 6.52, стандартное отклонение PC - 1.74, XOne - 1.38. Дисперсия у выборок отличается у PC - 3.04, у XOne - 1.91."
   ]
  },
  {
   "cell_type": "markdown",
   "id": "a7d44c87",
   "metadata": {},
   "source": [
    "Проверим предположение о том, что средние пользовательские рейтинги платформ **Xbox One и PC** равны.\n",
    "\n",
    "Для этого сформулируем **нулевую гипотезу:** \n",
    "H0 — средний пользовательский рейтинг платформы Xbox One равен среднему пользовательскому рейтингу платформы PC.\n",
    "\n",
    "**Альтернативная гипотеза:** H1 — средние пользовательские рейтинги платформ Xbox One и PC различаются.\n",
    "\n",
    "**Уровень статистической значимости** примем более строгий: **α=1%**\n",
    "\n",
    "Для проверки гипотезы будем использовать метод для проверки гипотезы о равенстве среднего двух генеральных совокупностей по взятым из них выборкам **scipy.stats.ttest_ind (array1, array2, equal_var)**. \n",
    "\n",
    "Проверим условия применимости данного t-теста:\n",
    "- генеральные совокупности не зависят друг от друга (пользовательские рейтинги платформ Xbox One и PC никак не влияют друг на друга);\n",
    "- выборочные средние нормально распределены (объем выборок достаточно большой для подтверждения данного условия);\n",
    "- дисперсии рассматриваемых генеральных совокупностей не равны (для параметра equal_var укажем значение False);\n",
    "\n",
    "В случае, если полученный p-уровень значимости будет меньше принятого уровня статистической значимости, то отвергнем нулевую гипотезу, в ином случаем отвергнуть нулевую гипотезу не получится."
   ]
  },
  {
   "cell_type": "code",
   "execution_count": 55,
   "id": "ef4f8386",
   "metadata": {},
   "outputs": [
    {
     "name": "stdout",
     "output_type": "stream",
     "text": [
      "p-значение: 0.14759594013430463\n",
      "Не получилось отвергнуть нулевую гипотезу\n"
     ]
    }
   ],
   "source": [
    "xbox = actual_games.query('platform == \"xone\"')['user_score'] # пользовательский рейтинг жанра Action\n",
    "pc = actual_games.query('platform == \"pc\"')['user_score'] # пользовательский рейтинг жанра Sports\n",
    "\n",
    "alpha = .01 #уровень статистической значимости\n",
    "\n",
    "results = st.ttest_ind(\n",
    "    xbox, \n",
    "    pc, \n",
    "    equal_var=False)\n",
    "\n",
    "print('p-значение:', results.pvalue)\n",
    "\n",
    "if (results.pvalue < alpha):\n",
    "    print(\"Отвергаем нулевую гипотезу\")\n",
    "else:\n",
    "    print(\"Не получилось отвергнуть нулевую гипотезу\")"
   ]
  },
  {
   "cell_type": "markdown",
   "id": "33585c90",
   "metadata": {},
   "source": [
    "Отвергнуть нулевую гипотезу не получилось.\n",
    "Полученное значение p-value говорит о том, что вероятность получить такое или большее различие случайно почти 15%, это явно слишком большая вероятность, чтобы делать вывод о значимом различии между средними пользовательскими рейтингами платформы Xbox One и платформы PC.\n",
    "Значит, что значимых различий между средними пользовательскими рейтингами платформы Xbox One и платформы PC не обнаружено."
   ]
  },
  {
   "cell_type": "markdown",
   "id": "12ebffb2",
   "metadata": {},
   "source": [
    "### Проверка второй гипотезы"
   ]
  },
  {
   "cell_type": "markdown",
   "id": "2b71737b",
   "metadata": {},
   "source": [
    "Рассчитаем для платформ: среднее, стандартное отклонение и дисперсию для столбца `user_score`. Данные представим в сводной таблице."
   ]
  },
  {
   "cell_type": "code",
   "execution_count": 56,
   "id": "7b15431b",
   "metadata": {},
   "outputs": [
    {
     "data": {
      "text/html": [
       "<div>\n",
       "<style scoped>\n",
       "    .dataframe tbody tr th:only-of-type {\n",
       "        vertical-align: middle;\n",
       "    }\n",
       "\n",
       "    .dataframe tbody tr th {\n",
       "        vertical-align: top;\n",
       "    }\n",
       "\n",
       "    .dataframe thead th {\n",
       "        text-align: right;\n",
       "    }\n",
       "</style>\n",
       "<table border=\"1\" class=\"dataframe\">\n",
       "  <thead>\n",
       "    <tr style=\"text-align: right;\">\n",
       "      <th></th>\n",
       "      <th>user_score_mean</th>\n",
       "      <th>user_score_std</th>\n",
       "      <th>user_score_var</th>\n",
       "    </tr>\n",
       "    <tr>\n",
       "      <th>genre</th>\n",
       "      <th></th>\n",
       "      <th></th>\n",
       "      <th></th>\n",
       "    </tr>\n",
       "  </thead>\n",
       "  <tbody>\n",
       "    <tr>\n",
       "      <th>action</th>\n",
       "      <td>6.84</td>\n",
       "      <td>1.33</td>\n",
       "      <td>1.77</td>\n",
       "    </tr>\n",
       "    <tr>\n",
       "      <th>sports</th>\n",
       "      <td>5.24</td>\n",
       "      <td>1.78</td>\n",
       "      <td>3.18</td>\n",
       "    </tr>\n",
       "  </tbody>\n",
       "</table>\n",
       "</div>"
      ],
      "text/plain": [
       "        user_score_mean  user_score_std  user_score_var\n",
       "genre                                                  \n",
       "action             6.84            1.33            1.77\n",
       "sports             5.24            1.78            3.18"
      ]
     },
     "execution_count": 56,
     "metadata": {},
     "output_type": "execute_result"
    }
   ],
   "source": [
    "actual_games_pivot_genre = actual_games.pivot_table(index=['genre'], values=['user_score'], aggfunc={'user_score': [np.mean, np.var, np.std]}).round(2)\n",
    "actual_games_pivot_genre.columns = ['user_score_mean', 'user_score_std', 'user_score_var']\n",
    "actual_games_pivot_genre.query('genre == \"action\" | genre == \"sports\"') # выведем на экран данные по жанрам, необходимые для проверки гипотез"
   ]
  },
  {
   "cell_type": "code",
   "execution_count": 57,
   "id": "0709d447",
   "metadata": {},
   "outputs": [
    {
     "data": {
      "image/png": "[encoded data removed]",
      "text/plain": [
       "<Figure size 432x288 with 1 Axes>"
      ]
     },
     "metadata": {
      "needs_background": "light"
     },
     "output_type": "display_data"
    }
   ],
   "source": [
    "ax = actual_games.query('genre == \"action\"').hist(column='user_score', bins=10, grid=True, alpha=0.6)\n",
    "ax = actual_games.query('genre == \"sports\"').hist(column='user_score', bins=10, grid=True,  alpha=0.6, ax=ax)\n",
    "ax[0][0].set_title(\"Распределение оценок пользователей для различных жанров\")\n",
    "ax[0][0].set_xlabel(\"user_score\", labelpad=5, weight='bold', size=12)\n",
    "ax[0][0].set_ylabel(\"count\", labelpad=5, weight='bold', size=12)\n",
    "plt.legend(('action', 'sports'));"
   ]
  },
  {
   "cell_type": "code",
   "execution_count": 58,
   "id": "45b68277",
   "metadata": {},
   "outputs": [
    {
     "data": {
      "image/png": "[encoded data removed]",
      "text/plain": [
       "<Figure size 432x288 with 1 Axes>"
      ]
     },
     "metadata": {
      "needs_background": "light"
     },
     "output_type": "display_data"
    }
   ],
   "source": [
    "plt.title('Распределение оценок пользователей для различных жанров')\n",
    "sns.boxplot(x='genre', y='user_score', data=actual_games.query('genre == \"action\" | genre == \"sports\"'))\n",
    "plt.xlabel('Жанры')\n",
    "plt.ylabel('Оценки пользователей');"
   ]
  },
  {
   "cell_type": "markdown",
   "id": "12569dcd",
   "metadata": {},
   "source": [
    "Распределение оценок пользователей для обоих платформ скошено влево, для жанра 'Action' сильнее. Среднее двух жанров сильно отличается: для жанра 'Action'\t- 6.84, для 'Sports' - 5.25, стандартное отклонение жанра 'Action' - 1.33, 'Sports' - 1.78. Дисперсия у выборок отличается у жанра 'Action' - 1.77, у 'Sports' - 3.18."
   ]
  },
  {
   "cell_type": "markdown",
   "id": "a86228b0",
   "metadata": {},
   "source": [
    "Проверим предположение о том, что средние пользовательские рейтинги жанров **Action** (англ. «действие», экшен-игры) и **Sports** (англ. «спортивные соревнования») разные.\n",
    "\n",
    "Для этого сформулируем **нулевую гипотезу**: H0 — средний пользовательский рейтинг жанра Action равен среднему пользовательскому рейтингу жанра Sports.\n",
    "\n",
    "**Альтернативная гипотеза**: H1 — средние пользовательские рейтинги жанров Action и Sports различаются.\n",
    "\n",
    "**Уровень статистической значимости** примем более строгий: **α=1%**\n",
    "\n",
    "Для проверки гипотезы будем использовать метод для проверки гипотезы о равенстве среднего двух генеральных совокупностей по взятым из них выборкам **scipy.stats.ttest_ind (array1, array2, equal_var)**. Проверим условия применимости данного t-теста:\n",
    "\n",
    "- генеральные совокупности не зависят друг от друга (пользовательские рейтинги жанров Action и Sports никак не влияют друг на друга);\n",
    "- выборочные средние нормально распределены (объем выборок достаточно большой для подтверждения данного условия);\n",
    "- дисперсии рассматриваемых генеральных совокупностей не равны (для параметра equal_var укажем значение False).\n",
    "\n",
    "В случае, если полученный p-уровень значимости будет меньше принятого уровня статистической значимости, то отвергнем нулевую гипотезу, в ином случаем отвергнуть нулевую гипотезу не получится."
   ]
  },
  {
   "cell_type": "code",
   "execution_count": 59,
   "id": "8d587d5c",
   "metadata": {},
   "outputs": [
    {
     "name": "stdout",
     "output_type": "stream",
     "text": [
      "p-значение: 1.4711831608728666e-20\n",
      "Отвергаем нулевую гипотезу\n"
     ]
    }
   ],
   "source": [
    "action = actual_games.query('genre == \"action\"')['user_score'] # пользовательский рейтинг жанра Action\n",
    "sports = actual_games.query('genre == \"sports\"')['user_score'] # пользовательский рейтинг жанра Sports\n",
    "\n",
    "alpha = .01 # уровень статистической значимости\n",
    "\n",
    "results = st.ttest_ind(\n",
    "    action, \n",
    "    sports, \n",
    "    equal_var=False)\n",
    "\n",
    "print('p-значение:', results.pvalue)\n",
    "\n",
    "if (results.pvalue < alpha):\n",
    "    print(\"Отвергаем нулевую гипотезу\")\n",
    "else:\n",
    "    print(\"Не получилось отвергнуть нулевую гипотезу\")"
   ]
  },
  {
   "cell_type": "markdown",
   "id": "6354dee8",
   "metadata": {},
   "source": [
    "Данные предоставляют достаточное основание — для выбранного уровня значимости — отвергнуть нулевую гипотезу. Значит, можно сделать вывод, что средние пользовательские рейтинги жанров Action и Sports различаются."
   ]
  },
  {
   "cell_type": "markdown",
   "id": "3d15c26e",
   "metadata": {},
   "source": [
    "**Выводы:**\n",
    "Статитистическая проверка гипотез показала, что значимых различий между средними пользовательскими рейтингами платформы *Xbox One* и платформы *PC* не обнаружено, а средние пользовательские рейтинги жанров *Action и Sports* **различаются**."
   ]
  },
  {
   "cell_type": "markdown",
   "id": "af06e87b",
   "metadata": {},
   "source": [
    "## Итоги исследования"
   ]
  },
  {
   "cell_type": "markdown",
   "id": "2d8591c8",
   "metadata": {},
   "source": [
    "Предобработали данные для дальнейшего анализа. Для этого: привели названия столбцов и содержащиеся в них категориальные данные к нижнему регистру, проверили данные в столбцах `Critic_Score`, `User_Score`, `Rating`, `Year_of_Release`  на аномалии и соответствие их значений из  документации. Аномалий в столбцах не обнаружено.\n",
    "\n",
    "Составили описание данных и выяснили:\n",
    "- уникальных названий **игр 11559**, самая часто встречающаяся игра **'Need for Speed: Most Wanted' (12)**; \n",
    "- уникальных **платформ 31**, самая распространенная **PS2 (2161)**; \n",
    "- уникальных **жанров игр 12**, самый популярный жанр **Action (3369)**. \n",
    "\n",
    "\n",
    "Обработали пропущенные значения в столбцах: `name`, `year_of_release`, `genre`, `critic_score`, `user_score`, `rating`.\n",
    "- Строки с пропущенными значениями `name` и `genre` – удалили, т.к. восстановить их не представляется возможным.\n",
    "- Пропущенные значения в столбце `year_of_release` являются случайными, поэтому заполнили их средними значениями, исходя из названия платформы.\n",
    "- Пропущенные значения в столбце `rating` заполнили значением 'pr' рейтинг ожидается.\n",
    "- Пропущенные значения в столбцах `user_score`, `critic_score` заполнить корректно не представляется возможным, а удаление такого большого количества данных может повлиять на исследование, то оставили столбцы без изменения.\n",
    "- Значение *'tbd'*  столбце `user_score` привели к *пропущенному значению*.\n",
    "\n",
    "\n",
    "Заменили тип столбца `year_of_release` на 'int', тип данных столбца `user_score` на 'float'.\t\n",
    "\n",
    "Подсчитали количество явных и неявных дубликатов – **дубликатов** в данных **не обнаружено**.\n",
    "Добавили столбец `total_sales` с суммарными продажами по всем регионам.\n",
    "Построили гистограмму распределения количества игр по столбцу `year_of_release`, сделали вывод, что до 1993 года выпускалось очень мало игр, пик по объему выпускаемых игр приходится на 2007-2011, с 2012 количество игр резко пошло на спад.\n",
    "\n",
    "С помощью сводной таблицы вычислили **топ-5 платформ** с наибольшими суммарными продажами по всем регионам: \n",
    "- PS2 - 1255.77 млн.шт, \n",
    "- X360 - 971.42 млн.шт,\n",
    "- PS3 -  939.65 млн.шт, \n",
    "- Wii - 907.51 млн.шт,\n",
    "- DS - 806.12 млн.шт.\n",
    "\n",
    "Построили график распределения проданных игр на топ-5 платформах за каждый год.  По графику установили время появления и исчезновения платформы. Из графика установили актуальный период времени для составления прогноза на следующий период.\n",
    "**Актуальными на 2016 год** остаются платформы **Wii, X360 и PS3**. По количеству проданных копий за период с 2005 года лидирует Wii, но с 2009 она потеряла свою популярность и сильно отстает от платформ X360 и PS3, которые можно назвать потенциально прибыльными. Уточним данные для более корректного прогноза на 2017 год, **будем использовать данные с 2013 года**, т.к. после этого года заметно резкое снижение количества игр.\n",
    "Записали данные для дальнейшей работы в переменную actual_games.\n",
    "Построили боксплот распределения количества проданных игр на различных платформах.\n",
    "За актуальный период наибольшее количество проданных игр было у платформ **X360, PS4, XOne, WiiU, Wii**. Наименьшее количество игр у платформ PS3, PC, PSV, DC, PSP. В среднем популярные платформы продают по **0,2 млн. копий игр**, а наименее популярные меньше 0,05 млн.шт.\n",
    "Для установленного актуального периода посмотрели распределение количества проданных игр по каждой популярной платформе, определили наиболее ***перспективные платформы: PS4, XOne, X360, WiiU***.\n",
    "\n",
    "Рассмотрели зависимость объема проданных игр в зависимости от оценок пользователей и оценок критиков по каждой популярной платформе.\n",
    "\n",
    "- для всех платформ связь общих **продаж и оценок критиков прямая и умеренная**; \n",
    "- для платформ  'ps4' , 'x360',  'xone' **связь оценок пользователей с количеством проданных копий отсутствует**, выделяется платформа 'wiiu' (связь прямая и умеренная);\n",
    "- связь **оценок пользователей и оценок критиков** для платформ 'ps4',  'x360' **прямая и заметная**, для платформы 'xone' прямая и **умеренная**, а для платформы 'wiiu' прямая и **высокая**. \n",
    "\n",
    "Самое большое количеству проданных игр у жанров: 'Action', 'Shooter', высокие продажи у игр жанров 'Sport' и 'Role-Playing', самые низкие продажи у игр жанра 'Puzzle'. Однако по диаграмме размаха видно, что жанрами приносящими наибольшую прибыль являются: **'shooter', 'sport', 'platform'**. Меньше всего прибыли приносит жанр 'adventure'.\n",
    "\n",
    "Составили портрет пользователей по регионам.\n",
    "\n",
    "Предпочтения пользователей из **Северной Америки и Европы**, отличаются не очень сильно:\n",
    "- топ-5 платформ для этих регионов включает платформы: PS4, XOne, X360, PS3, 3DS. В обоих регионах самая популярная платформа **PS4**, на втором месте в Северной Америке платформа **XOne**, в Европе же она занимает 3 место, на втором месте в Европе платформа PS3, а в Северной Америке она лишь на 4-м. Замыкает рейтинг топ-5 платформа 3 DS.  \n",
    "- Первые 4 места в топ-5 жанров в обоих регионах совпадает и включает в себя: **Action, Shooter, Sports, Role-Playing**,а замыкает рейтинг в **Европе Racing**, а в **Северной Америке Misc**. \n",
    "- Самые популярные игры в Северной Америке и Европе имеют рейтинг **«M»** («Mature») — «От 17 лет».\n",
    "\n",
    "В **Японии** же предпочетения пользователей сильно отличаются. \n",
    "- В этом регионе на первом месте располагается платформа **3DS**, также в топ-5 как и в Северной Америке и Европе входят **PS4** и **PS3**.\n",
    "- Топ-5 жанров в Японии также очень отличается: на 1 месте - **Role-Playing**, на 4 распологается Fighting, который также не вошел в топ-5 остальных регионов. Из портрета пользователей видно, что в Японии предпочитают более традиционные игры и отдают предпочтение классике, а также увлекаются играми с традиционными для восточных стран единоборствами. \n",
    "- Самые популярные игры в Японии имеют рейтинг  **«rp»** (рейтинг был пропущен). Это связано с популярной для Японии платформой, игры для которой не оцениваются рейтингом ESRB.\n",
    " \n",
    "Сделали вывод, что рейтинг ESRB влияет на продажи в отдельных регионах.\n",
    "\n",
    "Проверили следующие гипотезы с использованием t-теста:\n",
    "- средние пользовательские рейтинги платформ Xbox One и PC одинаковые (гипотеза подтвердилась)\n",
    "- средние пользовательские рейтинги жанров Action и Sports разные (гипотеза подтвердилась)."
   ]
  },
  {
   "cell_type": "code",
   "execution_count": null,
   "id": "73bcf7ce",
   "metadata": {},
   "outputs": [],
   "source": []
  }
 ],
 "metadata": {
  "ExecuteTimeLog": [
   {
    "duration": 68,
    "start_time": "2022-05-07T14:06:13.658Z"
   },
   {
    "duration": 2499,
    "start_time": "2022-05-07T14:06:19.494Z"
   },
   {
    "duration": 206,
    "start_time": "2022-05-07T14:06:21.997Z"
   },
   {
    "duration": 26,
    "start_time": "2022-05-07T14:06:22.206Z"
   },
   {
    "duration": 63,
    "start_time": "2022-05-07T14:06:22.235Z"
   },
   {
    "duration": 130,
    "start_time": "2022-05-07T14:06:22.301Z"
   },
   {
    "duration": 60,
    "start_time": "2022-05-07T14:06:22.433Z"
   },
   {
    "duration": 14,
    "start_time": "2022-05-07T14:06:22.496Z"
   },
   {
    "duration": 23,
    "start_time": "2022-05-07T14:06:22.512Z"
   },
   {
    "duration": 86,
    "start_time": "2022-05-07T14:06:22.537Z"
   },
   {
    "duration": 10,
    "start_time": "2022-05-07T14:06:22.626Z"
   },
   {
    "duration": 48,
    "start_time": "2022-05-07T14:06:22.693Z"
   },
   {
    "duration": 101,
    "start_time": "2022-05-07T14:06:22.794Z"
   },
   {
    "duration": 11,
    "start_time": "2022-05-07T14:06:22.898Z"
   },
   {
    "duration": 5276,
    "start_time": "2022-05-07T14:06:22.917Z"
   },
   {
    "duration": 10,
    "start_time": "2022-05-07T14:06:28.195Z"
   },
   {
    "duration": 12,
    "start_time": "2022-05-07T14:06:28.208Z"
   },
   {
    "duration": 8,
    "start_time": "2022-05-07T14:06:28.222Z"
   },
   {
    "duration": 6,
    "start_time": "2022-05-07T14:06:28.232Z"
   },
   {
    "duration": 67,
    "start_time": "2022-05-07T14:06:28.241Z"
   },
   {
    "duration": 22,
    "start_time": "2022-05-07T14:06:28.311Z"
   },
   {
    "duration": 10,
    "start_time": "2022-05-07T14:06:28.336Z"
   },
   {
    "duration": 47,
    "start_time": "2022-05-07T14:06:28.348Z"
   },
   {
    "duration": 8,
    "start_time": "2022-05-07T14:06:28.397Z"
   },
   {
    "duration": 21,
    "start_time": "2022-05-07T14:06:28.407Z"
   },
   {
    "duration": 331,
    "start_time": "2022-05-07T14:06:28.430Z"
   },
   {
    "duration": 203,
    "start_time": "2022-05-07T14:06:28.763Z"
   },
   {
    "duration": 36,
    "start_time": "2022-05-07T14:06:28.968Z"
   },
   {
    "duration": 22,
    "start_time": "2022-05-07T14:06:29.007Z"
   },
   {
    "duration": 434,
    "start_time": "2022-05-07T14:06:29.032Z"
   },
   {
    "duration": 417,
    "start_time": "2022-05-07T14:06:29.469Z"
   },
   {
    "duration": 35,
    "start_time": "2022-05-07T14:06:29.894Z"
   },
   {
    "duration": 485,
    "start_time": "2022-05-07T14:06:29.932Z"
   },
   {
    "duration": 20,
    "start_time": "2022-05-07T14:06:30.420Z"
   },
   {
    "duration": 17,
    "start_time": "2022-05-07T14:06:30.443Z"
   },
   {
    "duration": 880,
    "start_time": "2022-05-07T14:06:30.462Z"
   },
   {
    "duration": 19,
    "start_time": "2022-05-07T14:06:31.344Z"
   },
   {
    "duration": 968,
    "start_time": "2022-05-07T14:06:31.366Z"
   },
   {
    "duration": 17,
    "start_time": "2022-05-07T14:06:32.336Z"
   },
   {
    "duration": 864,
    "start_time": "2022-05-07T14:06:32.355Z"
   },
   {
    "duration": 16,
    "start_time": "2022-05-07T14:06:33.222Z"
   },
   {
    "duration": 1000,
    "start_time": "2022-05-07T14:06:33.244Z"
   },
   {
    "duration": 16,
    "start_time": "2022-05-07T14:06:34.247Z"
   },
   {
    "duration": 1075,
    "start_time": "2022-05-07T14:06:34.265Z"
   },
   {
    "duration": 25,
    "start_time": "2022-05-07T14:06:35.342Z"
   },
   {
    "duration": 352,
    "start_time": "2022-05-07T14:06:35.369Z"
   },
   {
    "duration": 9,
    "start_time": "2022-05-07T14:06:35.723Z"
   },
   {
    "duration": 470,
    "start_time": "2022-05-07T14:06:35.734Z"
   },
   {
    "duration": 454,
    "start_time": "2022-05-07T14:06:36.206Z"
   },
   {
    "duration": 477,
    "start_time": "2022-05-07T14:06:36.662Z"
   },
   {
    "duration": 30,
    "start_time": "2022-05-07T14:06:37.194Z"
   },
   {
    "duration": 431,
    "start_time": "2022-05-07T14:06:37.227Z"
   },
   {
    "duration": 9,
    "start_time": "2022-05-07T14:06:37.661Z"
   },
   {
    "duration": 46,
    "start_time": "2022-05-07T14:06:37.672Z"
   },
   {
    "duration": 396,
    "start_time": "2022-05-07T14:06:37.721Z"
   },
   {
    "duration": 0,
    "start_time": "2022-05-07T14:06:38.119Z"
   },
   {
    "duration": 0,
    "start_time": "2022-05-07T14:06:38.120Z"
   },
   {
    "duration": 0,
    "start_time": "2022-05-07T14:06:38.122Z"
   },
   {
    "duration": 0,
    "start_time": "2022-05-07T14:06:38.124Z"
   },
   {
    "duration": 0,
    "start_time": "2022-05-07T14:06:38.126Z"
   },
   {
    "duration": 0,
    "start_time": "2022-05-07T14:06:38.127Z"
   },
   {
    "duration": 7,
    "start_time": "2022-05-07T14:15:50.496Z"
   },
   {
    "duration": 15,
    "start_time": "2022-05-07T14:16:05.239Z"
   },
   {
    "duration": 15,
    "start_time": "2022-05-07T14:16:12.290Z"
   },
   {
    "duration": 44,
    "start_time": "2022-05-07T14:16:34.184Z"
   },
   {
    "duration": 1514,
    "start_time": "2022-05-07T14:17:02.016Z"
   },
   {
    "duration": 105,
    "start_time": "2022-05-07T14:17:03.534Z"
   },
   {
    "duration": 20,
    "start_time": "2022-05-07T14:17:03.642Z"
   },
   {
    "duration": 30,
    "start_time": "2022-05-07T14:17:03.665Z"
   },
   {
    "duration": 73,
    "start_time": "2022-05-07T14:17:03.698Z"
   },
   {
    "duration": 26,
    "start_time": "2022-05-07T14:17:03.773Z"
   },
   {
    "duration": 16,
    "start_time": "2022-05-07T14:17:03.802Z"
   },
   {
    "duration": 21,
    "start_time": "2022-05-07T14:17:03.820Z"
   },
   {
    "duration": 61,
    "start_time": "2022-05-07T14:17:03.843Z"
   },
   {
    "duration": 8,
    "start_time": "2022-05-07T14:17:03.908Z"
   },
   {
    "duration": 37,
    "start_time": "2022-05-07T14:17:03.918Z"
   },
   {
    "duration": 63,
    "start_time": "2022-05-07T14:17:03.958Z"
   },
   {
    "duration": 8,
    "start_time": "2022-05-07T14:17:04.023Z"
   },
   {
    "duration": 18,
    "start_time": "2022-05-07T14:17:04.033Z"
   },
   {
    "duration": 58,
    "start_time": "2022-05-07T14:17:04.054Z"
   },
   {
    "duration": 4153,
    "start_time": "2022-05-07T14:17:04.114Z"
   },
   {
    "duration": 8,
    "start_time": "2022-05-07T14:17:08.269Z"
   },
   {
    "duration": 11,
    "start_time": "2022-05-07T14:17:08.293Z"
   },
   {
    "duration": 6,
    "start_time": "2022-05-07T14:17:08.307Z"
   },
   {
    "duration": 6,
    "start_time": "2022-05-07T14:17:08.316Z"
   },
   {
    "duration": 21,
    "start_time": "2022-05-07T14:17:08.325Z"
   },
   {
    "duration": 62,
    "start_time": "2022-05-07T14:17:08.349Z"
   },
   {
    "duration": 9,
    "start_time": "2022-05-07T14:17:08.414Z"
   },
   {
    "duration": 11,
    "start_time": "2022-05-07T14:17:08.426Z"
   },
   {
    "duration": 6,
    "start_time": "2022-05-07T14:17:08.440Z"
   },
   {
    "duration": 59,
    "start_time": "2022-05-07T14:17:08.449Z"
   },
   {
    "duration": 315,
    "start_time": "2022-05-07T14:17:08.510Z"
   },
   {
    "duration": 199,
    "start_time": "2022-05-07T14:17:08.833Z"
   },
   {
    "duration": 30,
    "start_time": "2022-05-07T14:17:09.036Z"
   },
   {
    "duration": 44,
    "start_time": "2022-05-07T14:17:09.068Z"
   },
   {
    "duration": 439,
    "start_time": "2022-05-07T14:17:09.115Z"
   },
   {
    "duration": 404,
    "start_time": "2022-05-07T14:17:09.556Z"
   },
   {
    "duration": 51,
    "start_time": "2022-05-07T14:17:09.962Z"
   },
   {
    "duration": 641,
    "start_time": "2022-05-07T14:17:10.015Z"
   },
   {
    "duration": 17,
    "start_time": "2022-05-07T14:17:10.658Z"
   },
   {
    "duration": 6,
    "start_time": "2022-05-07T14:17:10.692Z"
   },
   {
    "duration": 878,
    "start_time": "2022-05-07T14:17:10.700Z"
   },
   {
    "duration": 24,
    "start_time": "2022-05-07T14:17:11.581Z"
   },
   {
    "duration": 953,
    "start_time": "2022-05-07T14:17:11.607Z"
   },
   {
    "duration": 32,
    "start_time": "2022-05-07T14:17:12.563Z"
   },
   {
    "duration": 2837,
    "start_time": "2022-05-07T14:17:12.598Z"
   },
   {
    "duration": 24,
    "start_time": "2022-05-07T14:17:15.438Z"
   },
   {
    "duration": 1471,
    "start_time": "2022-05-07T14:17:15.465Z"
   },
   {
    "duration": 23,
    "start_time": "2022-05-07T14:17:16.939Z"
   },
   {
    "duration": 992,
    "start_time": "2022-05-07T14:17:16.965Z"
   },
   {
    "duration": 35,
    "start_time": "2022-05-07T14:17:17.959Z"
   },
   {
    "duration": 352,
    "start_time": "2022-05-07T14:17:17.997Z"
   },
   {
    "duration": 8,
    "start_time": "2022-05-07T14:17:18.352Z"
   },
   {
    "duration": 461,
    "start_time": "2022-05-07T14:17:18.363Z"
   },
   {
    "duration": 476,
    "start_time": "2022-05-07T14:17:18.827Z"
   },
   {
    "duration": 459,
    "start_time": "2022-05-07T14:17:19.306Z"
   },
   {
    "duration": 34,
    "start_time": "2022-05-07T14:17:19.767Z"
   },
   {
    "duration": 321,
    "start_time": "2022-05-07T14:17:19.803Z"
   },
   {
    "duration": 10,
    "start_time": "2022-05-07T14:17:20.126Z"
   },
   {
    "duration": 58,
    "start_time": "2022-05-07T14:17:20.138Z"
   },
   {
    "duration": 757,
    "start_time": "2022-05-07T14:17:20.199Z"
   },
   {
    "duration": 0,
    "start_time": "2022-05-07T14:17:20.959Z"
   },
   {
    "duration": 0,
    "start_time": "2022-05-07T14:17:20.962Z"
   },
   {
    "duration": 0,
    "start_time": "2022-05-07T14:17:20.964Z"
   },
   {
    "duration": 0,
    "start_time": "2022-05-07T14:17:20.966Z"
   },
   {
    "duration": 0,
    "start_time": "2022-05-07T14:17:20.968Z"
   },
   {
    "duration": 0,
    "start_time": "2022-05-07T14:17:20.971Z"
   },
   {
    "duration": 28,
    "start_time": "2022-05-07T14:18:20.926Z"
   },
   {
    "duration": 28,
    "start_time": "2022-05-07T14:18:51.041Z"
   },
   {
    "duration": 28,
    "start_time": "2022-05-07T14:19:19.792Z"
   },
   {
    "duration": 26,
    "start_time": "2022-05-07T14:19:30.642Z"
   },
   {
    "duration": 26,
    "start_time": "2022-05-07T14:19:46.442Z"
   },
   {
    "duration": 27,
    "start_time": "2022-05-07T14:19:59.482Z"
   },
   {
    "duration": 21,
    "start_time": "2022-05-07T14:21:00.734Z"
   },
   {
    "duration": 21,
    "start_time": "2022-05-07T14:21:18.486Z"
   },
   {
    "duration": 37,
    "start_time": "2022-05-07T14:21:23.325Z"
   },
   {
    "duration": 26,
    "start_time": "2022-05-07T14:21:39.270Z"
   },
   {
    "duration": 25,
    "start_time": "2022-05-07T14:38:55.354Z"
   },
   {
    "duration": 1465,
    "start_time": "2022-05-07T14:39:06.198Z"
   },
   {
    "duration": 81,
    "start_time": "2022-05-07T14:39:07.666Z"
   },
   {
    "duration": 21,
    "start_time": "2022-05-07T14:39:07.749Z"
   },
   {
    "duration": 27,
    "start_time": "2022-05-07T14:39:07.772Z"
   },
   {
    "duration": 68,
    "start_time": "2022-05-07T14:39:07.803Z"
   },
   {
    "duration": 11,
    "start_time": "2022-05-07T14:39:07.893Z"
   },
   {
    "duration": 18,
    "start_time": "2022-05-07T14:39:07.907Z"
   },
   {
    "duration": 23,
    "start_time": "2022-05-07T14:39:07.927Z"
   },
   {
    "duration": 62,
    "start_time": "2022-05-07T14:39:07.952Z"
   },
   {
    "duration": 8,
    "start_time": "2022-05-07T14:39:08.017Z"
   },
   {
    "duration": 32,
    "start_time": "2022-05-07T14:39:08.027Z"
   },
   {
    "duration": 59,
    "start_time": "2022-05-07T14:39:08.061Z"
   },
   {
    "duration": 7,
    "start_time": "2022-05-07T14:39:08.122Z"
   },
   {
    "duration": 13,
    "start_time": "2022-05-07T14:39:08.134Z"
   },
   {
    "duration": 61,
    "start_time": "2022-05-07T14:39:08.149Z"
   },
   {
    "duration": 3844,
    "start_time": "2022-05-07T14:39:08.212Z"
   },
   {
    "duration": 8,
    "start_time": "2022-05-07T14:39:12.058Z"
   },
   {
    "duration": 45,
    "start_time": "2022-05-07T14:39:12.069Z"
   },
   {
    "duration": 15,
    "start_time": "2022-05-07T14:39:12.116Z"
   },
   {
    "duration": 6,
    "start_time": "2022-05-07T14:39:12.133Z"
   },
   {
    "duration": 9,
    "start_time": "2022-05-07T14:39:12.141Z"
   },
   {
    "duration": 45,
    "start_time": "2022-05-07T14:39:12.153Z"
   },
   {
    "duration": 21,
    "start_time": "2022-05-07T14:39:12.200Z"
   },
   {
    "duration": 9,
    "start_time": "2022-05-07T14:39:12.223Z"
   },
   {
    "duration": 9,
    "start_time": "2022-05-07T14:39:12.234Z"
   },
   {
    "duration": 7,
    "start_time": "2022-05-07T14:39:12.245Z"
   },
   {
    "duration": 61,
    "start_time": "2022-05-07T14:39:12.254Z"
   },
   {
    "duration": 315,
    "start_time": "2022-05-07T14:39:12.317Z"
   },
   {
    "duration": 189,
    "start_time": "2022-05-07T14:39:12.634Z"
   },
   {
    "duration": 29,
    "start_time": "2022-05-07T14:39:12.826Z"
   },
   {
    "duration": 48,
    "start_time": "2022-05-07T14:39:12.857Z"
   },
   {
    "duration": 417,
    "start_time": "2022-05-07T14:39:12.907Z"
   },
   {
    "duration": 415,
    "start_time": "2022-05-07T14:39:13.326Z"
   },
   {
    "duration": 50,
    "start_time": "2022-05-07T14:39:13.744Z"
   },
   {
    "duration": 460,
    "start_time": "2022-05-07T14:39:13.796Z"
   },
   {
    "duration": 34,
    "start_time": "2022-05-07T14:39:14.259Z"
   },
   {
    "duration": 5,
    "start_time": "2022-05-07T14:39:14.295Z"
   },
   {
    "duration": 844,
    "start_time": "2022-05-07T14:39:14.303Z"
   },
   {
    "duration": 17,
    "start_time": "2022-05-07T14:39:15.150Z"
   },
   {
    "duration": 942,
    "start_time": "2022-05-07T14:39:15.170Z"
   },
   {
    "duration": 17,
    "start_time": "2022-05-07T14:39:16.118Z"
   },
   {
    "duration": 880,
    "start_time": "2022-05-07T14:39:16.138Z"
   },
   {
    "duration": 15,
    "start_time": "2022-05-07T14:39:17.021Z"
   },
   {
    "duration": 872,
    "start_time": "2022-05-07T14:39:17.038Z"
   },
   {
    "duration": 17,
    "start_time": "2022-05-07T14:39:17.912Z"
   },
   {
    "duration": 977,
    "start_time": "2022-05-07T14:39:17.931Z"
   },
   {
    "duration": 23,
    "start_time": "2022-05-07T14:39:18.911Z"
   },
   {
    "duration": 357,
    "start_time": "2022-05-07T14:39:18.936Z"
   },
   {
    "duration": 9,
    "start_time": "2022-05-07T14:39:19.295Z"
   },
   {
    "duration": 457,
    "start_time": "2022-05-07T14:39:19.306Z"
   },
   {
    "duration": 469,
    "start_time": "2022-05-07T14:39:19.765Z"
   },
   {
    "duration": 457,
    "start_time": "2022-05-07T14:39:20.236Z"
   },
   {
    "duration": 22,
    "start_time": "2022-05-07T14:39:20.695Z"
   },
   {
    "duration": 310,
    "start_time": "2022-05-07T14:39:20.719Z"
   },
   {
    "duration": 9,
    "start_time": "2022-05-07T14:39:21.031Z"
   },
   {
    "duration": 54,
    "start_time": "2022-05-07T14:39:21.042Z"
   },
   {
    "duration": 416,
    "start_time": "2022-05-07T14:39:21.098Z"
   },
   {
    "duration": 0,
    "start_time": "2022-05-07T14:39:21.516Z"
   },
   {
    "duration": 0,
    "start_time": "2022-05-07T14:39:21.518Z"
   },
   {
    "duration": 0,
    "start_time": "2022-05-07T14:39:21.519Z"
   },
   {
    "duration": 0,
    "start_time": "2022-05-07T14:39:21.521Z"
   },
   {
    "duration": 0,
    "start_time": "2022-05-07T14:39:21.523Z"
   },
   {
    "duration": 0,
    "start_time": "2022-05-07T14:39:21.525Z"
   },
   {
    "duration": 26,
    "start_time": "2022-05-07T14:39:44.149Z"
   },
   {
    "duration": 1923,
    "start_time": "2022-05-07T14:40:07.428Z"
   },
   {
    "duration": 73,
    "start_time": "2022-05-07T14:40:09.354Z"
   },
   {
    "duration": 20,
    "start_time": "2022-05-07T14:40:09.429Z"
   },
   {
    "duration": 12,
    "start_time": "2022-05-07T14:40:09.452Z"
   },
   {
    "duration": 95,
    "start_time": "2022-05-07T14:40:09.466Z"
   },
   {
    "duration": 9,
    "start_time": "2022-05-07T14:40:09.563Z"
   },
   {
    "duration": 15,
    "start_time": "2022-05-07T14:40:09.593Z"
   },
   {
    "duration": 21,
    "start_time": "2022-05-07T14:40:09.611Z"
   },
   {
    "duration": 23,
    "start_time": "2022-05-07T14:40:09.635Z"
   },
   {
    "duration": 37,
    "start_time": "2022-05-07T14:40:09.662Z"
   },
   {
    "duration": 39,
    "start_time": "2022-05-07T14:40:09.701Z"
   },
   {
    "duration": 52,
    "start_time": "2022-05-07T14:40:09.742Z"
   },
   {
    "duration": 8,
    "start_time": "2022-05-07T14:40:09.796Z"
   },
   {
    "duration": 20,
    "start_time": "2022-05-07T14:40:09.806Z"
   },
   {
    "duration": 25,
    "start_time": "2022-05-07T14:40:09.828Z"
   },
   {
    "duration": 3892,
    "start_time": "2022-05-07T14:40:09.855Z"
   },
   {
    "duration": 8,
    "start_time": "2022-05-07T14:40:13.749Z"
   },
   {
    "duration": 43,
    "start_time": "2022-05-07T14:40:13.759Z"
   },
   {
    "duration": 13,
    "start_time": "2022-05-07T14:40:13.804Z"
   },
   {
    "duration": 6,
    "start_time": "2022-05-07T14:40:13.819Z"
   },
   {
    "duration": 9,
    "start_time": "2022-05-07T14:40:13.827Z"
   },
   {
    "duration": 28,
    "start_time": "2022-05-07T14:40:13.838Z"
   },
   {
    "duration": 20,
    "start_time": "2022-05-07T14:40:13.893Z"
   },
   {
    "duration": 9,
    "start_time": "2022-05-07T14:40:13.915Z"
   },
   {
    "duration": 14,
    "start_time": "2022-05-07T14:40:13.926Z"
   },
   {
    "duration": 12,
    "start_time": "2022-05-07T14:40:13.942Z"
   },
   {
    "duration": 47,
    "start_time": "2022-05-07T14:40:13.956Z"
   },
   {
    "duration": 297,
    "start_time": "2022-05-07T14:40:14.009Z"
   },
   {
    "duration": 185,
    "start_time": "2022-05-07T14:40:14.308Z"
   },
   {
    "duration": 29,
    "start_time": "2022-05-07T14:40:14.495Z"
   },
   {
    "duration": 23,
    "start_time": "2022-05-07T14:40:14.526Z"
   },
   {
    "duration": 428,
    "start_time": "2022-05-07T14:40:14.551Z"
   },
   {
    "duration": 407,
    "start_time": "2022-05-07T14:40:14.982Z"
   },
   {
    "duration": 34,
    "start_time": "2022-05-07T14:40:15.393Z"
   },
   {
    "duration": 471,
    "start_time": "2022-05-07T14:40:15.429Z"
   },
   {
    "duration": 16,
    "start_time": "2022-05-07T14:40:15.902Z"
   },
   {
    "duration": 6,
    "start_time": "2022-05-07T14:40:15.921Z"
   },
   {
    "duration": 835,
    "start_time": "2022-05-07T14:40:15.930Z"
   },
   {
    "duration": 26,
    "start_time": "2022-05-07T14:40:16.768Z"
   },
   {
    "duration": 902,
    "start_time": "2022-05-07T14:40:16.796Z"
   },
   {
    "duration": 17,
    "start_time": "2022-05-07T14:40:17.700Z"
   },
   {
    "duration": 980,
    "start_time": "2022-05-07T14:40:17.719Z"
   },
   {
    "duration": 15,
    "start_time": "2022-05-07T14:40:18.701Z"
   },
   {
    "duration": 958,
    "start_time": "2022-05-07T14:40:18.719Z"
   },
   {
    "duration": 28,
    "start_time": "2022-05-07T14:40:19.679Z"
   },
   {
    "duration": 944,
    "start_time": "2022-05-07T14:40:19.709Z"
   },
   {
    "duration": 40,
    "start_time": "2022-05-07T14:40:20.655Z"
   },
   {
    "duration": 346,
    "start_time": "2022-05-07T14:40:20.697Z"
   },
   {
    "duration": 8,
    "start_time": "2022-05-07T14:40:21.045Z"
   },
   {
    "duration": 440,
    "start_time": "2022-05-07T14:40:21.055Z"
   },
   {
    "duration": 458,
    "start_time": "2022-05-07T14:40:21.497Z"
   },
   {
    "duration": 436,
    "start_time": "2022-05-07T14:40:21.957Z"
   },
   {
    "duration": 22,
    "start_time": "2022-05-07T14:40:22.395Z"
   },
   {
    "duration": 306,
    "start_time": "2022-05-07T14:40:22.419Z"
   },
   {
    "duration": 11,
    "start_time": "2022-05-07T14:40:22.727Z"
   },
   {
    "duration": 58,
    "start_time": "2022-05-07T14:40:22.740Z"
   },
   {
    "duration": 398,
    "start_time": "2022-05-07T14:40:22.800Z"
   },
   {
    "duration": 0,
    "start_time": "2022-05-07T14:40:23.201Z"
   },
   {
    "duration": 0,
    "start_time": "2022-05-07T14:40:23.203Z"
   },
   {
    "duration": 0,
    "start_time": "2022-05-07T14:40:23.204Z"
   },
   {
    "duration": 0,
    "start_time": "2022-05-07T14:40:23.206Z"
   },
   {
    "duration": 0,
    "start_time": "2022-05-07T14:40:23.208Z"
   },
   {
    "duration": 0,
    "start_time": "2022-05-07T14:40:23.210Z"
   },
   {
    "duration": 206,
    "start_time": "2022-05-07T14:54:19.330Z"
   },
   {
    "duration": 13,
    "start_time": "2022-05-07T14:54:46.843Z"
   },
   {
    "duration": 33,
    "start_time": "2022-05-07T14:55:36.310Z"
   },
   {
    "duration": 358,
    "start_time": "2022-05-07T14:55:40.302Z"
   },
   {
    "duration": 184,
    "start_time": "2022-05-07T14:56:49.688Z"
   },
   {
    "duration": 16,
    "start_time": "2022-05-07T14:57:15.427Z"
   },
   {
    "duration": 20,
    "start_time": "2022-05-07T15:02:16.531Z"
   },
   {
    "duration": 198,
    "start_time": "2022-05-07T15:06:01.380Z"
   },
   {
    "duration": 1455,
    "start_time": "2022-05-07T15:07:45.419Z"
   },
   {
    "duration": 72,
    "start_time": "2022-05-07T15:07:46.877Z"
   },
   {
    "duration": 20,
    "start_time": "2022-05-07T15:07:46.951Z"
   },
   {
    "duration": 29,
    "start_time": "2022-05-07T15:07:46.973Z"
   },
   {
    "duration": 73,
    "start_time": "2022-05-07T15:07:47.004Z"
   },
   {
    "duration": 23,
    "start_time": "2022-05-07T15:07:47.079Z"
   },
   {
    "duration": 16,
    "start_time": "2022-05-07T15:07:47.104Z"
   },
   {
    "duration": 21,
    "start_time": "2022-05-07T15:07:47.122Z"
   },
   {
    "duration": 63,
    "start_time": "2022-05-07T15:07:47.145Z"
   },
   {
    "duration": 11,
    "start_time": "2022-05-07T15:07:47.213Z"
   },
   {
    "duration": 69,
    "start_time": "2022-05-07T15:07:47.227Z"
   },
   {
    "duration": 46,
    "start_time": "2022-05-07T15:07:47.299Z"
   },
   {
    "duration": 10,
    "start_time": "2022-05-07T15:07:47.348Z"
   },
   {
    "duration": 42,
    "start_time": "2022-05-07T15:07:47.360Z"
   },
   {
    "duration": 25,
    "start_time": "2022-05-07T15:07:47.404Z"
   },
   {
    "duration": 4024,
    "start_time": "2022-05-07T15:07:47.431Z"
   },
   {
    "duration": 7,
    "start_time": "2022-05-07T15:07:51.457Z"
   },
   {
    "duration": 43,
    "start_time": "2022-05-07T15:07:51.466Z"
   },
   {
    "duration": 13,
    "start_time": "2022-05-07T15:07:51.511Z"
   },
   {
    "duration": 6,
    "start_time": "2022-05-07T15:07:51.526Z"
   },
   {
    "duration": 7,
    "start_time": "2022-05-07T15:07:51.534Z"
   },
   {
    "duration": 51,
    "start_time": "2022-05-07T15:07:51.543Z"
   },
   {
    "duration": 20,
    "start_time": "2022-05-07T15:07:51.596Z"
   },
   {
    "duration": 9,
    "start_time": "2022-05-07T15:07:51.618Z"
   },
   {
    "duration": 12,
    "start_time": "2022-05-07T15:07:51.628Z"
   },
   {
    "duration": 7,
    "start_time": "2022-05-07T15:07:51.642Z"
   },
   {
    "duration": 57,
    "start_time": "2022-05-07T15:07:51.652Z"
   },
   {
    "duration": 299,
    "start_time": "2022-05-07T15:07:51.715Z"
   },
   {
    "duration": 189,
    "start_time": "2022-05-07T15:07:52.016Z"
   },
   {
    "duration": 30,
    "start_time": "2022-05-07T15:07:52.207Z"
   },
   {
    "duration": 24,
    "start_time": "2022-05-07T15:07:52.239Z"
   },
   {
    "duration": 419,
    "start_time": "2022-05-07T15:07:52.293Z"
   },
   {
    "duration": 401,
    "start_time": "2022-05-07T15:07:52.714Z"
   },
   {
    "duration": 33,
    "start_time": "2022-05-07T15:07:53.117Z"
   },
   {
    "duration": 477,
    "start_time": "2022-05-07T15:07:53.153Z"
   },
   {
    "duration": 16,
    "start_time": "2022-05-07T15:07:53.632Z"
   },
   {
    "duration": 6,
    "start_time": "2022-05-07T15:07:53.650Z"
   },
   {
    "duration": 872,
    "start_time": "2022-05-07T15:07:53.658Z"
   },
   {
    "duration": 16,
    "start_time": "2022-05-07T15:07:54.532Z"
   },
   {
    "duration": 969,
    "start_time": "2022-05-07T15:07:54.550Z"
   },
   {
    "duration": 18,
    "start_time": "2022-05-07T15:07:55.522Z"
   },
   {
    "duration": 887,
    "start_time": "2022-05-07T15:07:55.543Z"
   },
   {
    "duration": 18,
    "start_time": "2022-05-07T15:07:56.433Z"
   },
   {
    "duration": 926,
    "start_time": "2022-05-07T15:07:56.453Z"
   },
   {
    "duration": 21,
    "start_time": "2022-05-07T15:07:57.383Z"
   },
   {
    "duration": 982,
    "start_time": "2022-05-07T15:07:57.407Z"
   },
   {
    "duration": 25,
    "start_time": "2022-05-07T15:07:58.393Z"
   },
   {
    "duration": 352,
    "start_time": "2022-05-07T15:07:58.420Z"
   },
   {
    "duration": 19,
    "start_time": "2022-05-07T15:07:58.774Z"
   },
   {
    "duration": 427,
    "start_time": "2022-05-07T15:07:58.795Z"
   },
   {
    "duration": 453,
    "start_time": "2022-05-07T15:07:59.224Z"
   },
   {
    "duration": 461,
    "start_time": "2022-05-07T15:07:59.679Z"
   },
   {
    "duration": 22,
    "start_time": "2022-05-07T15:08:00.142Z"
   },
   {
    "duration": 319,
    "start_time": "2022-05-07T15:08:00.167Z"
   },
   {
    "duration": 10,
    "start_time": "2022-05-07T15:08:00.488Z"
   },
   {
    "duration": 39,
    "start_time": "2022-05-07T15:08:00.501Z"
   },
   {
    "duration": 418,
    "start_time": "2022-05-07T15:08:00.542Z"
   },
   {
    "duration": 0,
    "start_time": "2022-05-07T15:08:00.963Z"
   },
   {
    "duration": 0,
    "start_time": "2022-05-07T15:08:00.964Z"
   },
   {
    "duration": 0,
    "start_time": "2022-05-07T15:08:00.966Z"
   },
   {
    "duration": 0,
    "start_time": "2022-05-07T15:08:00.968Z"
   },
   {
    "duration": 0,
    "start_time": "2022-05-07T15:08:00.969Z"
   },
   {
    "duration": 0,
    "start_time": "2022-05-07T15:08:00.971Z"
   },
   {
    "duration": 209,
    "start_time": "2022-05-07T15:08:41.530Z"
   },
   {
    "duration": 13,
    "start_time": "2022-05-07T15:08:42.812Z"
   },
   {
    "duration": 38,
    "start_time": "2022-05-07T15:08:45.075Z"
   },
   {
    "duration": 421,
    "start_time": "2022-05-07T15:08:45.531Z"
   },
   {
    "duration": 193,
    "start_time": "2022-05-07T15:08:46.634Z"
   },
   {
    "duration": 18,
    "start_time": "2022-05-07T15:08:47.812Z"
   },
   {
    "duration": 45,
    "start_time": "2022-05-08T20:01:04.355Z"
   },
   {
    "duration": 6,
    "start_time": "2022-05-08T20:31:30.692Z"
   },
   {
    "duration": 1235,
    "start_time": "2022-05-08T20:31:39.812Z"
   },
   {
    "duration": 49,
    "start_time": "2022-05-08T20:31:41.049Z"
   },
   {
    "duration": 14,
    "start_time": "2022-05-08T20:31:46.311Z"
   },
   {
    "duration": 9,
    "start_time": "2022-05-08T20:31:50.544Z"
   },
   {
    "duration": 63,
    "start_time": "2022-05-08T20:31:51.315Z"
   },
   {
    "duration": 5,
    "start_time": "2022-05-08T20:33:14.519Z"
   },
   {
    "duration": 17,
    "start_time": "2022-05-08T20:33:25.651Z"
   },
   {
    "duration": 26,
    "start_time": "2022-05-08T20:33:43.855Z"
   },
   {
    "duration": 1126,
    "start_time": "2022-05-08T20:34:00.507Z"
   },
   {
    "duration": 50,
    "start_time": "2022-05-08T20:34:01.636Z"
   },
   {
    "duration": 14,
    "start_time": "2022-05-08T20:34:01.688Z"
   },
   {
    "duration": 9,
    "start_time": "2022-05-08T20:34:01.704Z"
   },
   {
    "duration": 23,
    "start_time": "2022-05-08T20:34:01.715Z"
   },
   {
    "duration": 80,
    "start_time": "2022-05-08T20:34:01.740Z"
   },
   {
    "duration": 6,
    "start_time": "2022-05-08T20:34:01.822Z"
   },
   {
    "duration": 17,
    "start_time": "2022-05-08T20:34:01.830Z"
   },
   {
    "duration": 28,
    "start_time": "2022-05-08T20:34:01.849Z"
   },
   {
    "duration": 30,
    "start_time": "2022-05-08T20:34:01.880Z"
   },
   {
    "duration": 9,
    "start_time": "2022-05-08T20:34:01.912Z"
   },
   {
    "duration": 31,
    "start_time": "2022-05-08T20:34:01.923Z"
   },
   {
    "duration": 26,
    "start_time": "2022-05-08T20:34:01.956Z"
   },
   {
    "duration": 8,
    "start_time": "2022-05-08T20:34:01.983Z"
   },
   {
    "duration": 16,
    "start_time": "2022-05-08T20:34:01.992Z"
   },
   {
    "duration": 30,
    "start_time": "2022-05-08T20:34:02.010Z"
   },
   {
    "duration": 2246,
    "start_time": "2022-05-08T20:34:02.042Z"
   },
   {
    "duration": 6,
    "start_time": "2022-05-08T20:34:04.289Z"
   },
   {
    "duration": 18,
    "start_time": "2022-05-08T20:34:04.297Z"
   },
   {
    "duration": 8,
    "start_time": "2022-05-08T20:34:04.317Z"
   },
   {
    "duration": 4,
    "start_time": "2022-05-08T20:34:04.327Z"
   },
   {
    "duration": 6,
    "start_time": "2022-05-08T20:34:04.333Z"
   },
   {
    "duration": 41,
    "start_time": "2022-05-08T20:34:04.341Z"
   },
   {
    "duration": 14,
    "start_time": "2022-05-08T20:34:04.384Z"
   },
   {
    "duration": 7,
    "start_time": "2022-05-08T20:34:04.399Z"
   },
   {
    "duration": 10,
    "start_time": "2022-05-08T20:34:04.407Z"
   },
   {
    "duration": 9,
    "start_time": "2022-05-08T20:34:04.419Z"
   },
   {
    "duration": 14,
    "start_time": "2022-05-08T20:34:04.432Z"
   },
   {
    "duration": 197,
    "start_time": "2022-05-08T20:34:04.472Z"
   },
   {
    "duration": 126,
    "start_time": "2022-05-08T20:34:04.671Z"
   },
   {
    "duration": 19,
    "start_time": "2022-05-08T20:34:04.799Z"
   },
   {
    "duration": 16,
    "start_time": "2022-05-08T20:34:04.820Z"
   },
   {
    "duration": 276,
    "start_time": "2022-05-08T20:34:04.838Z"
   },
   {
    "duration": 282,
    "start_time": "2022-05-08T20:34:05.116Z"
   },
   {
    "duration": 23,
    "start_time": "2022-05-08T20:34:05.399Z"
   },
   {
    "duration": 273,
    "start_time": "2022-05-08T20:34:05.424Z"
   },
   {
    "duration": 12,
    "start_time": "2022-05-08T20:34:05.698Z"
   },
   {
    "duration": 5,
    "start_time": "2022-05-08T20:34:05.711Z"
   },
   {
    "duration": 529,
    "start_time": "2022-05-08T20:34:05.718Z"
   },
   {
    "duration": 13,
    "start_time": "2022-05-08T20:34:06.249Z"
   },
   {
    "duration": 621,
    "start_time": "2022-05-08T20:34:06.274Z"
   },
   {
    "duration": 13,
    "start_time": "2022-05-08T20:34:06.896Z"
   },
   {
    "duration": 575,
    "start_time": "2022-05-08T20:34:06.911Z"
   },
   {
    "duration": 13,
    "start_time": "2022-05-08T20:34:07.488Z"
   },
   {
    "duration": 570,
    "start_time": "2022-05-08T20:34:07.503Z"
   },
   {
    "duration": 12,
    "start_time": "2022-05-08T20:34:08.075Z"
   },
   {
    "duration": 658,
    "start_time": "2022-05-08T20:34:08.089Z"
   },
   {
    "duration": 33,
    "start_time": "2022-05-08T20:34:08.749Z"
   },
   {
    "duration": 230,
    "start_time": "2022-05-08T20:34:08.784Z"
   },
   {
    "duration": 6,
    "start_time": "2022-05-08T20:34:09.016Z"
   },
   {
    "duration": 306,
    "start_time": "2022-05-08T20:34:09.023Z"
   },
   {
    "duration": 304,
    "start_time": "2022-05-08T20:34:09.331Z"
   },
   {
    "duration": 291,
    "start_time": "2022-05-08T20:34:09.636Z"
   },
   {
    "duration": 15,
    "start_time": "2022-05-08T20:34:09.928Z"
   },
   {
    "duration": 212,
    "start_time": "2022-05-08T20:34:09.945Z"
   },
   {
    "duration": 7,
    "start_time": "2022-05-08T20:34:10.158Z"
   },
   {
    "duration": 23,
    "start_time": "2022-05-08T20:34:10.173Z"
   },
   {
    "duration": 270,
    "start_time": "2022-05-08T20:34:10.197Z"
   },
   {
    "duration": 0,
    "start_time": "2022-05-08T20:34:10.473Z"
   },
   {
    "duration": 0,
    "start_time": "2022-05-08T20:34:10.474Z"
   },
   {
    "duration": 0,
    "start_time": "2022-05-08T20:34:10.475Z"
   },
   {
    "duration": 0,
    "start_time": "2022-05-08T20:34:10.476Z"
   },
   {
    "duration": 0,
    "start_time": "2022-05-08T20:34:10.477Z"
   },
   {
    "duration": 0,
    "start_time": "2022-05-08T20:34:10.478Z"
   },
   {
    "duration": 1527,
    "start_time": "2022-05-08T20:35:50.446Z"
   },
   {
    "duration": 13,
    "start_time": "2022-05-08T20:36:22.214Z"
   },
   {
    "duration": 1174,
    "start_time": "2022-05-08T20:36:38.786Z"
   },
   {
    "duration": 53,
    "start_time": "2022-05-08T20:36:39.962Z"
   },
   {
    "duration": 18,
    "start_time": "2022-05-08T20:36:40.017Z"
   },
   {
    "duration": 10,
    "start_time": "2022-05-08T20:36:40.038Z"
   },
   {
    "duration": 47,
    "start_time": "2022-05-08T20:36:40.050Z"
   },
   {
    "duration": 104,
    "start_time": "2022-05-08T20:36:40.099Z"
   },
   {
    "duration": 0,
    "start_time": "2022-05-08T20:36:40.207Z"
   },
   {
    "duration": 0,
    "start_time": "2022-05-08T20:36:40.209Z"
   },
   {
    "duration": 0,
    "start_time": "2022-05-08T20:36:40.210Z"
   },
   {
    "duration": 0,
    "start_time": "2022-05-08T20:36:40.211Z"
   },
   {
    "duration": 0,
    "start_time": "2022-05-08T20:36:40.212Z"
   },
   {
    "duration": 0,
    "start_time": "2022-05-08T20:36:40.213Z"
   },
   {
    "duration": 0,
    "start_time": "2022-05-08T20:36:40.215Z"
   },
   {
    "duration": 0,
    "start_time": "2022-05-08T20:36:40.216Z"
   },
   {
    "duration": 1,
    "start_time": "2022-05-08T20:36:40.217Z"
   },
   {
    "duration": 0,
    "start_time": "2022-05-08T20:36:40.219Z"
   },
   {
    "duration": 0,
    "start_time": "2022-05-08T20:36:40.220Z"
   },
   {
    "duration": 0,
    "start_time": "2022-05-08T20:36:40.221Z"
   },
   {
    "duration": 1,
    "start_time": "2022-05-08T20:36:40.222Z"
   },
   {
    "duration": 0,
    "start_time": "2022-05-08T20:36:40.224Z"
   },
   {
    "duration": 0,
    "start_time": "2022-05-08T20:36:40.225Z"
   },
   {
    "duration": 0,
    "start_time": "2022-05-08T20:36:40.226Z"
   },
   {
    "duration": 0,
    "start_time": "2022-05-08T20:36:40.227Z"
   },
   {
    "duration": 0,
    "start_time": "2022-05-08T20:36:40.229Z"
   },
   {
    "duration": 0,
    "start_time": "2022-05-08T20:36:40.230Z"
   },
   {
    "duration": 0,
    "start_time": "2022-05-08T20:36:40.274Z"
   },
   {
    "duration": 0,
    "start_time": "2022-05-08T20:36:40.275Z"
   },
   {
    "duration": 0,
    "start_time": "2022-05-08T20:36:40.277Z"
   },
   {
    "duration": 0,
    "start_time": "2022-05-08T20:36:40.278Z"
   },
   {
    "duration": 0,
    "start_time": "2022-05-08T20:36:40.279Z"
   },
   {
    "duration": 0,
    "start_time": "2022-05-08T20:36:40.280Z"
   },
   {
    "duration": 0,
    "start_time": "2022-05-08T20:36:40.281Z"
   },
   {
    "duration": 0,
    "start_time": "2022-05-08T20:36:40.283Z"
   },
   {
    "duration": 0,
    "start_time": "2022-05-08T20:36:40.284Z"
   },
   {
    "duration": 0,
    "start_time": "2022-05-08T20:36:40.285Z"
   },
   {
    "duration": 0,
    "start_time": "2022-05-08T20:36:40.286Z"
   },
   {
    "duration": 0,
    "start_time": "2022-05-08T20:36:40.288Z"
   },
   {
    "duration": 0,
    "start_time": "2022-05-08T20:36:40.289Z"
   },
   {
    "duration": 0,
    "start_time": "2022-05-08T20:36:40.290Z"
   },
   {
    "duration": 1,
    "start_time": "2022-05-08T20:36:40.291Z"
   },
   {
    "duration": 0,
    "start_time": "2022-05-08T20:36:40.293Z"
   },
   {
    "duration": 0,
    "start_time": "2022-05-08T20:36:40.294Z"
   },
   {
    "duration": 0,
    "start_time": "2022-05-08T20:36:40.295Z"
   },
   {
    "duration": 0,
    "start_time": "2022-05-08T20:36:40.296Z"
   },
   {
    "duration": 0,
    "start_time": "2022-05-08T20:36:40.297Z"
   },
   {
    "duration": 0,
    "start_time": "2022-05-08T20:36:40.299Z"
   },
   {
    "duration": 0,
    "start_time": "2022-05-08T20:36:40.300Z"
   },
   {
    "duration": 0,
    "start_time": "2022-05-08T20:36:40.301Z"
   },
   {
    "duration": 0,
    "start_time": "2022-05-08T20:36:40.302Z"
   },
   {
    "duration": 0,
    "start_time": "2022-05-08T20:36:40.303Z"
   },
   {
    "duration": 0,
    "start_time": "2022-05-08T20:36:40.304Z"
   },
   {
    "duration": 0,
    "start_time": "2022-05-08T20:36:40.304Z"
   },
   {
    "duration": 0,
    "start_time": "2022-05-08T20:36:40.306Z"
   },
   {
    "duration": 1,
    "start_time": "2022-05-08T20:36:40.306Z"
   },
   {
    "duration": 0,
    "start_time": "2022-05-08T20:36:40.307Z"
   },
   {
    "duration": 0,
    "start_time": "2022-05-08T20:36:40.308Z"
   },
   {
    "duration": 0,
    "start_time": "2022-05-08T20:36:40.310Z"
   },
   {
    "duration": 0,
    "start_time": "2022-05-08T20:36:40.310Z"
   },
   {
    "duration": 0,
    "start_time": "2022-05-08T20:36:40.311Z"
   },
   {
    "duration": 0,
    "start_time": "2022-05-08T20:36:40.373Z"
   },
   {
    "duration": 0,
    "start_time": "2022-05-08T20:36:40.375Z"
   },
   {
    "duration": 0,
    "start_time": "2022-05-08T20:36:40.376Z"
   },
   {
    "duration": 0,
    "start_time": "2022-05-08T20:36:40.377Z"
   },
   {
    "duration": 0,
    "start_time": "2022-05-08T20:36:40.378Z"
   },
   {
    "duration": 0,
    "start_time": "2022-05-08T20:36:40.379Z"
   },
   {
    "duration": 11,
    "start_time": "2022-05-08T20:46:43.693Z"
   },
   {
    "duration": 817,
    "start_time": "2022-05-08T20:47:17.272Z"
   },
   {
    "duration": 20,
    "start_time": "2022-05-08T20:51:06.454Z"
   },
   {
    "duration": 19,
    "start_time": "2022-05-08T20:51:18.282Z"
   },
   {
    "duration": 1206,
    "start_time": "2022-05-08T20:53:43.389Z"
   },
   {
    "duration": 52,
    "start_time": "2022-05-08T20:53:44.597Z"
   },
   {
    "duration": 23,
    "start_time": "2022-05-08T20:53:44.650Z"
   },
   {
    "duration": 9,
    "start_time": "2022-05-08T20:53:44.675Z"
   },
   {
    "duration": 105,
    "start_time": "2022-05-08T20:53:44.685Z"
   },
   {
    "duration": 0,
    "start_time": "2022-05-08T20:53:44.793Z"
   },
   {
    "duration": 0,
    "start_time": "2022-05-08T20:53:44.794Z"
   },
   {
    "duration": 0,
    "start_time": "2022-05-08T20:53:44.795Z"
   },
   {
    "duration": 0,
    "start_time": "2022-05-08T20:53:44.796Z"
   },
   {
    "duration": 0,
    "start_time": "2022-05-08T20:53:44.797Z"
   },
   {
    "duration": 0,
    "start_time": "2022-05-08T20:53:44.798Z"
   },
   {
    "duration": 0,
    "start_time": "2022-05-08T20:53:44.799Z"
   },
   {
    "duration": 0,
    "start_time": "2022-05-08T20:53:44.800Z"
   },
   {
    "duration": 0,
    "start_time": "2022-05-08T20:53:44.801Z"
   },
   {
    "duration": 0,
    "start_time": "2022-05-08T20:53:44.803Z"
   },
   {
    "duration": 0,
    "start_time": "2022-05-08T20:53:44.804Z"
   },
   {
    "duration": 0,
    "start_time": "2022-05-08T20:53:44.805Z"
   },
   {
    "duration": 0,
    "start_time": "2022-05-08T20:53:44.806Z"
   },
   {
    "duration": 0,
    "start_time": "2022-05-08T20:53:44.807Z"
   },
   {
    "duration": 0,
    "start_time": "2022-05-08T20:53:44.809Z"
   },
   {
    "duration": 0,
    "start_time": "2022-05-08T20:53:44.810Z"
   },
   {
    "duration": 0,
    "start_time": "2022-05-08T20:53:44.811Z"
   },
   {
    "duration": 0,
    "start_time": "2022-05-08T20:53:44.812Z"
   },
   {
    "duration": 0,
    "start_time": "2022-05-08T20:53:44.813Z"
   },
   {
    "duration": 0,
    "start_time": "2022-05-08T20:53:44.814Z"
   },
   {
    "duration": 0,
    "start_time": "2022-05-08T20:53:44.815Z"
   },
   {
    "duration": 0,
    "start_time": "2022-05-08T20:53:44.816Z"
   },
   {
    "duration": 0,
    "start_time": "2022-05-08T20:53:44.817Z"
   },
   {
    "duration": 0,
    "start_time": "2022-05-08T20:53:44.818Z"
   },
   {
    "duration": 0,
    "start_time": "2022-05-08T20:53:44.819Z"
   },
   {
    "duration": 0,
    "start_time": "2022-05-08T20:53:44.820Z"
   },
   {
    "duration": 0,
    "start_time": "2022-05-08T20:53:44.821Z"
   },
   {
    "duration": 0,
    "start_time": "2022-05-08T20:53:44.873Z"
   },
   {
    "duration": 0,
    "start_time": "2022-05-08T20:53:44.875Z"
   },
   {
    "duration": 0,
    "start_time": "2022-05-08T20:53:44.876Z"
   },
   {
    "duration": 0,
    "start_time": "2022-05-08T20:53:44.877Z"
   },
   {
    "duration": 0,
    "start_time": "2022-05-08T20:53:44.878Z"
   },
   {
    "duration": 0,
    "start_time": "2022-05-08T20:53:44.879Z"
   },
   {
    "duration": 0,
    "start_time": "2022-05-08T20:53:44.880Z"
   },
   {
    "duration": 0,
    "start_time": "2022-05-08T20:53:44.881Z"
   },
   {
    "duration": 1,
    "start_time": "2022-05-08T20:53:44.881Z"
   },
   {
    "duration": 0,
    "start_time": "2022-05-08T20:53:44.882Z"
   },
   {
    "duration": 0,
    "start_time": "2022-05-08T20:53:44.883Z"
   },
   {
    "duration": 0,
    "start_time": "2022-05-08T20:53:44.884Z"
   },
   {
    "duration": 0,
    "start_time": "2022-05-08T20:53:44.885Z"
   },
   {
    "duration": 0,
    "start_time": "2022-05-08T20:53:44.886Z"
   },
   {
    "duration": 0,
    "start_time": "2022-05-08T20:53:44.888Z"
   },
   {
    "duration": 0,
    "start_time": "2022-05-08T20:53:44.889Z"
   },
   {
    "duration": 0,
    "start_time": "2022-05-08T20:53:44.891Z"
   },
   {
    "duration": 0,
    "start_time": "2022-05-08T20:53:44.892Z"
   },
   {
    "duration": 0,
    "start_time": "2022-05-08T20:53:44.893Z"
   },
   {
    "duration": 0,
    "start_time": "2022-05-08T20:53:44.895Z"
   },
   {
    "duration": 0,
    "start_time": "2022-05-08T20:53:44.897Z"
   },
   {
    "duration": 0,
    "start_time": "2022-05-08T20:53:44.898Z"
   },
   {
    "duration": 0,
    "start_time": "2022-05-08T20:53:44.899Z"
   },
   {
    "duration": 0,
    "start_time": "2022-05-08T20:53:44.901Z"
   },
   {
    "duration": 0,
    "start_time": "2022-05-08T20:53:44.902Z"
   },
   {
    "duration": 0,
    "start_time": "2022-05-08T20:53:44.904Z"
   },
   {
    "duration": 0,
    "start_time": "2022-05-08T20:53:44.905Z"
   },
   {
    "duration": 0,
    "start_time": "2022-05-08T20:53:44.906Z"
   },
   {
    "duration": 0,
    "start_time": "2022-05-08T20:53:44.907Z"
   },
   {
    "duration": 0,
    "start_time": "2022-05-08T20:53:44.908Z"
   },
   {
    "duration": 0,
    "start_time": "2022-05-08T20:53:44.909Z"
   },
   {
    "duration": 0,
    "start_time": "2022-05-08T20:53:44.973Z"
   },
   {
    "duration": 25,
    "start_time": "2022-05-08T21:02:06.963Z"
   },
   {
    "duration": 33,
    "start_time": "2022-05-08T21:02:11.704Z"
   },
   {
    "duration": 53,
    "start_time": "2022-05-08T21:09:11.106Z"
   },
   {
    "duration": 35,
    "start_time": "2022-05-08T21:14:11.505Z"
   },
   {
    "duration": 7,
    "start_time": "2022-05-08T21:17:42.836Z"
   },
   {
    "duration": 12,
    "start_time": "2022-05-08T21:20:42.017Z"
   },
   {
    "duration": 11,
    "start_time": "2022-05-08T21:20:56.317Z"
   },
   {
    "duration": 10,
    "start_time": "2022-05-08T21:21:56.011Z"
   },
   {
    "duration": 6,
    "start_time": "2022-05-08T21:30:44.227Z"
   },
   {
    "duration": 15,
    "start_time": "2022-05-08T21:35:51.749Z"
   },
   {
    "duration": 16,
    "start_time": "2022-05-08T21:35:54.753Z"
   },
   {
    "duration": 5,
    "start_time": "2022-05-08T21:35:58.194Z"
   },
   {
    "duration": 20,
    "start_time": "2022-05-08T21:36:20.930Z"
   },
   {
    "duration": 20,
    "start_time": "2022-05-08T21:36:30.706Z"
   },
   {
    "duration": 5,
    "start_time": "2022-05-08T21:45:31.385Z"
   },
   {
    "duration": 16,
    "start_time": "2022-05-08T21:45:41.440Z"
   },
   {
    "duration": 92,
    "start_time": "2022-05-08T21:55:35.746Z"
   },
   {
    "duration": 98,
    "start_time": "2022-05-08T21:56:16.490Z"
   },
   {
    "duration": 33,
    "start_time": "2022-05-08T21:57:05.462Z"
   },
   {
    "duration": 9,
    "start_time": "2022-05-08T21:57:38.746Z"
   },
   {
    "duration": 14,
    "start_time": "2022-05-08T21:58:23.665Z"
   },
   {
    "duration": 108,
    "start_time": "2022-05-08T22:00:51.262Z"
   },
   {
    "duration": 105,
    "start_time": "2022-05-08T22:01:15.186Z"
   },
   {
    "duration": 10,
    "start_time": "2022-05-08T22:06:17.142Z"
   },
   {
    "duration": 12,
    "start_time": "2022-05-08T22:07:20.543Z"
   },
   {
    "duration": 11,
    "start_time": "2022-05-08T22:08:12.446Z"
   },
   {
    "duration": 13,
    "start_time": "2022-05-08T22:08:22.406Z"
   },
   {
    "duration": 6,
    "start_time": "2022-05-08T22:14:32.163Z"
   },
   {
    "duration": 8,
    "start_time": "2022-05-08T22:15:12.798Z"
   },
   {
    "duration": 5,
    "start_time": "2022-05-08T22:15:13.957Z"
   },
   {
    "duration": 4,
    "start_time": "2022-05-08T22:15:19.568Z"
   },
   {
    "duration": 17,
    "start_time": "2022-05-08T22:15:21.192Z"
   },
   {
    "duration": 16,
    "start_time": "2022-05-08T22:15:33.709Z"
   },
   {
    "duration": 8,
    "start_time": "2022-05-08T22:15:35.264Z"
   },
   {
    "duration": 8,
    "start_time": "2022-05-08T22:15:43.712Z"
   },
   {
    "duration": 5,
    "start_time": "2022-05-08T22:15:57.825Z"
   },
   {
    "duration": 7,
    "start_time": "2022-05-08T22:16:30.693Z"
   },
   {
    "duration": 14,
    "start_time": "2022-05-08T22:16:35.306Z"
   },
   {
    "duration": 184,
    "start_time": "2022-05-08T22:18:41.133Z"
   },
   {
    "duration": 108,
    "start_time": "2022-05-08T22:18:42.856Z"
   },
   {
    "duration": 21,
    "start_time": "2022-05-08T22:18:49.370Z"
   },
   {
    "duration": 18,
    "start_time": "2022-05-08T22:18:51.556Z"
   },
   {
    "duration": 246,
    "start_time": "2022-05-08T22:18:52.949Z"
   },
   {
    "duration": 51,
    "start_time": "2022-05-09T19:13:44.812Z"
   },
   {
    "duration": 1474,
    "start_time": "2022-05-09T19:13:52.331Z"
   },
   {
    "duration": 68,
    "start_time": "2022-05-09T19:13:53.807Z"
   },
   {
    "duration": 16,
    "start_time": "2022-05-09T19:13:53.877Z"
   },
   {
    "duration": 46,
    "start_time": "2022-05-09T19:13:53.895Z"
   },
   {
    "duration": 55,
    "start_time": "2022-05-09T19:13:53.942Z"
   },
   {
    "duration": 7,
    "start_time": "2022-05-09T19:13:53.999Z"
   },
   {
    "duration": 31,
    "start_time": "2022-05-09T19:13:54.008Z"
   },
   {
    "duration": 17,
    "start_time": "2022-05-09T19:13:54.040Z"
   },
   {
    "duration": 18,
    "start_time": "2022-05-09T19:13:54.059Z"
   },
   {
    "duration": 7,
    "start_time": "2022-05-09T19:13:54.080Z"
   },
   {
    "duration": 61,
    "start_time": "2022-05-09T19:13:54.089Z"
   },
   {
    "duration": 23,
    "start_time": "2022-05-09T19:13:54.152Z"
   },
   {
    "duration": 13,
    "start_time": "2022-05-09T19:13:54.177Z"
   },
   {
    "duration": 8,
    "start_time": "2022-05-09T19:13:54.192Z"
   },
   {
    "duration": 35,
    "start_time": "2022-05-09T19:13:54.202Z"
   },
   {
    "duration": 6,
    "start_time": "2022-05-09T19:13:54.239Z"
   },
   {
    "duration": 21,
    "start_time": "2022-05-09T19:13:54.247Z"
   },
   {
    "duration": 16,
    "start_time": "2022-05-09T19:13:54.270Z"
   },
   {
    "duration": 8,
    "start_time": "2022-05-09T19:13:54.288Z"
   },
   {
    "duration": 39,
    "start_time": "2022-05-09T19:13:54.298Z"
   },
   {
    "duration": 8,
    "start_time": "2022-05-09T19:13:54.339Z"
   },
   {
    "duration": 17,
    "start_time": "2022-05-09T19:13:54.349Z"
   },
   {
    "duration": 232,
    "start_time": "2022-05-09T19:13:54.368Z"
   },
   {
    "duration": 156,
    "start_time": "2022-05-09T19:13:54.602Z"
   },
   {
    "duration": 22,
    "start_time": "2022-05-09T19:13:54.760Z"
   },
   {
    "duration": 19,
    "start_time": "2022-05-09T19:13:54.784Z"
   },
   {
    "duration": 304,
    "start_time": "2022-05-09T19:13:54.805Z"
   },
   {
    "duration": 9,
    "start_time": "2022-05-09T19:13:55.113Z"
   },
   {
    "duration": 302,
    "start_time": "2022-05-09T19:13:55.124Z"
   },
   {
    "duration": 27,
    "start_time": "2022-05-09T19:13:55.428Z"
   },
   {
    "duration": 310,
    "start_time": "2022-05-09T19:13:55.456Z"
   },
   {
    "duration": 12,
    "start_time": "2022-05-09T19:13:55.768Z"
   },
   {
    "duration": 6,
    "start_time": "2022-05-09T19:13:55.782Z"
   },
   {
    "duration": 1041,
    "start_time": "2022-05-09T19:13:55.789Z"
   },
   {
    "duration": 0,
    "start_time": "2022-05-09T19:13:56.831Z"
   },
   {
    "duration": 0,
    "start_time": "2022-05-09T19:13:56.833Z"
   },
   {
    "duration": 0,
    "start_time": "2022-05-09T19:13:56.834Z"
   },
   {
    "duration": 0,
    "start_time": "2022-05-09T19:13:56.835Z"
   },
   {
    "duration": 0,
    "start_time": "2022-05-09T19:13:56.836Z"
   },
   {
    "duration": 0,
    "start_time": "2022-05-09T19:13:56.837Z"
   },
   {
    "duration": 0,
    "start_time": "2022-05-09T19:13:56.838Z"
   },
   {
    "duration": 0,
    "start_time": "2022-05-09T19:13:56.839Z"
   },
   {
    "duration": 0,
    "start_time": "2022-05-09T19:13:56.840Z"
   },
   {
    "duration": 0,
    "start_time": "2022-05-09T19:13:56.841Z"
   },
   {
    "duration": 0,
    "start_time": "2022-05-09T19:13:56.842Z"
   },
   {
    "duration": 0,
    "start_time": "2022-05-09T19:13:56.843Z"
   },
   {
    "duration": 0,
    "start_time": "2022-05-09T19:13:56.844Z"
   },
   {
    "duration": 0,
    "start_time": "2022-05-09T19:13:56.845Z"
   },
   {
    "duration": 0,
    "start_time": "2022-05-09T19:13:56.846Z"
   },
   {
    "duration": 0,
    "start_time": "2022-05-09T19:13:56.847Z"
   },
   {
    "duration": 0,
    "start_time": "2022-05-09T19:13:56.848Z"
   },
   {
    "duration": 0,
    "start_time": "2022-05-09T19:13:56.849Z"
   },
   {
    "duration": 0,
    "start_time": "2022-05-09T19:13:56.850Z"
   },
   {
    "duration": 0,
    "start_time": "2022-05-09T19:13:56.852Z"
   },
   {
    "duration": 0,
    "start_time": "2022-05-09T19:13:56.853Z"
   },
   {
    "duration": 0,
    "start_time": "2022-05-09T19:13:56.854Z"
   },
   {
    "duration": 0,
    "start_time": "2022-05-09T19:13:56.856Z"
   },
   {
    "duration": 0,
    "start_time": "2022-05-09T19:13:56.857Z"
   },
   {
    "duration": 0,
    "start_time": "2022-05-09T19:13:56.858Z"
   },
   {
    "duration": 26,
    "start_time": "2022-05-09T19:15:20.207Z"
   },
   {
    "duration": 9,
    "start_time": "2022-05-09T19:16:17.379Z"
   },
   {
    "duration": 25,
    "start_time": "2022-05-09T19:16:37.142Z"
   },
   {
    "duration": 2705,
    "start_time": "2022-05-09T19:17:01.967Z"
   },
   {
    "duration": 10,
    "start_time": "2022-05-09T19:17:06.726Z"
   },
   {
    "duration": 14,
    "start_time": "2022-05-09T19:17:44.067Z"
   },
   {
    "duration": 9,
    "start_time": "2022-05-09T19:17:56.098Z"
   },
   {
    "duration": 14,
    "start_time": "2022-05-09T19:18:14.607Z"
   },
   {
    "duration": 10,
    "start_time": "2022-05-09T19:19:53.902Z"
   },
   {
    "duration": 10,
    "start_time": "2022-05-09T19:20:42.178Z"
   },
   {
    "duration": 24,
    "start_time": "2022-05-09T19:38:10.748Z"
   },
   {
    "duration": 1728,
    "start_time": "2022-05-10T10:20:22.796Z"
   },
   {
    "duration": 72,
    "start_time": "2022-05-10T10:20:24.527Z"
   },
   {
    "duration": 20,
    "start_time": "2022-05-10T10:20:24.601Z"
   },
   {
    "duration": 65,
    "start_time": "2022-05-10T10:20:24.624Z"
   },
   {
    "duration": 90,
    "start_time": "2022-05-10T10:20:24.691Z"
   },
   {
    "duration": 9,
    "start_time": "2022-05-10T10:20:24.783Z"
   },
   {
    "duration": 17,
    "start_time": "2022-05-10T10:20:24.794Z"
   },
   {
    "duration": 46,
    "start_time": "2022-05-10T10:20:24.813Z"
   },
   {
    "duration": 23,
    "start_time": "2022-05-10T10:20:24.861Z"
   },
   {
    "duration": 7,
    "start_time": "2022-05-10T10:20:24.888Z"
   },
   {
    "duration": 65,
    "start_time": "2022-05-10T10:20:24.897Z"
   },
   {
    "duration": 33,
    "start_time": "2022-05-10T10:20:24.964Z"
   },
   {
    "duration": 15,
    "start_time": "2022-05-10T10:20:25.000Z"
   },
   {
    "duration": 36,
    "start_time": "2022-05-10T10:20:25.017Z"
   },
   {
    "duration": 8,
    "start_time": "2022-05-10T10:20:25.055Z"
   },
   {
    "duration": 9,
    "start_time": "2022-05-10T10:20:25.065Z"
   },
   {
    "duration": 28,
    "start_time": "2022-05-10T10:20:25.077Z"
   },
   {
    "duration": 50,
    "start_time": "2022-05-10T10:20:25.108Z"
   },
   {
    "duration": 10,
    "start_time": "2022-05-10T10:20:25.160Z"
   },
   {
    "duration": 11,
    "start_time": "2022-05-10T10:20:25.172Z"
   },
   {
    "duration": 8,
    "start_time": "2022-05-10T10:20:25.185Z"
   },
   {
    "duration": 58,
    "start_time": "2022-05-10T10:20:25.195Z"
   },
   {
    "duration": 318,
    "start_time": "2022-05-10T10:20:25.255Z"
   },
   {
    "duration": 191,
    "start_time": "2022-05-10T10:20:25.575Z"
   },
   {
    "duration": 30,
    "start_time": "2022-05-10T10:20:25.768Z"
   },
   {
    "duration": 51,
    "start_time": "2022-05-10T10:20:25.800Z"
   },
   {
    "duration": 428,
    "start_time": "2022-05-10T10:20:25.854Z"
   },
   {
    "duration": 14,
    "start_time": "2022-05-10T10:20:26.288Z"
   },
   {
    "duration": 187,
    "start_time": "2022-05-10T10:20:26.304Z"
   },
   {
    "duration": 0,
    "start_time": "2022-05-10T10:20:26.493Z"
   },
   {
    "duration": 0,
    "start_time": "2022-05-10T10:20:26.494Z"
   },
   {
    "duration": 0,
    "start_time": "2022-05-10T10:20:26.496Z"
   },
   {
    "duration": 0,
    "start_time": "2022-05-10T10:20:26.497Z"
   },
   {
    "duration": 0,
    "start_time": "2022-05-10T10:20:26.499Z"
   },
   {
    "duration": 0,
    "start_time": "2022-05-10T10:20:26.501Z"
   },
   {
    "duration": 0,
    "start_time": "2022-05-10T10:20:26.503Z"
   },
   {
    "duration": 0,
    "start_time": "2022-05-10T10:20:26.504Z"
   },
   {
    "duration": 0,
    "start_time": "2022-05-10T10:20:26.505Z"
   },
   {
    "duration": 0,
    "start_time": "2022-05-10T10:20:26.507Z"
   },
   {
    "duration": 0,
    "start_time": "2022-05-10T10:20:26.508Z"
   },
   {
    "duration": 0,
    "start_time": "2022-05-10T10:20:26.510Z"
   },
   {
    "duration": 0,
    "start_time": "2022-05-10T10:20:26.511Z"
   },
   {
    "duration": 0,
    "start_time": "2022-05-10T10:20:26.512Z"
   },
   {
    "duration": 0,
    "start_time": "2022-05-10T10:20:26.514Z"
   },
   {
    "duration": 0,
    "start_time": "2022-05-10T10:20:26.516Z"
   },
   {
    "duration": 0,
    "start_time": "2022-05-10T10:20:26.552Z"
   },
   {
    "duration": 0,
    "start_time": "2022-05-10T10:20:26.553Z"
   },
   {
    "duration": 0,
    "start_time": "2022-05-10T10:20:26.555Z"
   },
   {
    "duration": 0,
    "start_time": "2022-05-10T10:20:26.556Z"
   },
   {
    "duration": 0,
    "start_time": "2022-05-10T10:20:26.558Z"
   },
   {
    "duration": 0,
    "start_time": "2022-05-10T10:20:26.559Z"
   },
   {
    "duration": 0,
    "start_time": "2022-05-10T10:20:26.560Z"
   },
   {
    "duration": 0,
    "start_time": "2022-05-10T10:20:26.562Z"
   },
   {
    "duration": 0,
    "start_time": "2022-05-10T10:20:26.564Z"
   },
   {
    "duration": 0,
    "start_time": "2022-05-10T10:20:26.565Z"
   },
   {
    "duration": 0,
    "start_time": "2022-05-10T10:20:26.566Z"
   },
   {
    "duration": 0,
    "start_time": "2022-05-10T10:20:26.568Z"
   },
   {
    "duration": 0,
    "start_time": "2022-05-10T10:20:26.570Z"
   },
   {
    "duration": 0,
    "start_time": "2022-05-10T10:20:26.572Z"
   },
   {
    "duration": 0,
    "start_time": "2022-05-10T10:20:26.574Z"
   },
   {
    "duration": 95,
    "start_time": "2022-05-10T10:35:57.016Z"
   },
   {
    "duration": 15,
    "start_time": "2022-05-10T10:36:14.728Z"
   },
   {
    "duration": 31,
    "start_time": "2022-05-10T10:36:26.024Z"
   },
   {
    "duration": 27,
    "start_time": "2022-05-10T10:38:54.696Z"
   },
   {
    "duration": 11,
    "start_time": "2022-05-10T10:40:13.812Z"
   },
   {
    "duration": 10,
    "start_time": "2022-05-10T10:40:22.904Z"
   },
   {
    "duration": 20,
    "start_time": "2022-05-10T10:40:35.967Z"
   },
   {
    "duration": 15,
    "start_time": "2022-05-10T10:41:12.788Z"
   },
   {
    "duration": 1558,
    "start_time": "2022-05-10T10:41:19.447Z"
   },
   {
    "duration": 76,
    "start_time": "2022-05-10T10:41:21.008Z"
   },
   {
    "duration": 21,
    "start_time": "2022-05-10T10:41:21.086Z"
   },
   {
    "duration": 99,
    "start_time": "2022-05-10T10:41:21.110Z"
   },
   {
    "duration": 95,
    "start_time": "2022-05-10T10:41:21.211Z"
   },
   {
    "duration": 9,
    "start_time": "2022-05-10T10:41:21.308Z"
   },
   {
    "duration": 44,
    "start_time": "2022-05-10T10:41:21.320Z"
   },
   {
    "duration": 39,
    "start_time": "2022-05-10T10:41:21.367Z"
   },
   {
    "duration": 54,
    "start_time": "2022-05-10T10:41:21.409Z"
   },
   {
    "duration": 12,
    "start_time": "2022-05-10T10:41:21.468Z"
   },
   {
    "duration": 72,
    "start_time": "2022-05-10T10:41:21.483Z"
   },
   {
    "duration": 31,
    "start_time": "2022-05-10T10:41:21.557Z"
   },
   {
    "duration": 15,
    "start_time": "2022-05-10T10:41:21.590Z"
   },
   {
    "duration": 45,
    "start_time": "2022-05-10T10:41:21.607Z"
   },
   {
    "duration": 8,
    "start_time": "2022-05-10T10:41:21.655Z"
   },
   {
    "duration": 8,
    "start_time": "2022-05-10T10:41:21.666Z"
   },
   {
    "duration": 33,
    "start_time": "2022-05-10T10:41:21.676Z"
   },
   {
    "duration": 63,
    "start_time": "2022-05-10T10:41:21.712Z"
   },
   {
    "duration": 13,
    "start_time": "2022-05-10T10:41:21.778Z"
   },
   {
    "duration": 15,
    "start_time": "2022-05-10T10:41:21.793Z"
   },
   {
    "duration": 11,
    "start_time": "2022-05-10T10:41:21.811Z"
   },
   {
    "duration": 46,
    "start_time": "2022-05-10T10:41:21.824Z"
   },
   {
    "duration": 345,
    "start_time": "2022-05-10T10:41:21.873Z"
   },
   {
    "duration": 201,
    "start_time": "2022-05-10T10:41:22.220Z"
   },
   {
    "duration": 45,
    "start_time": "2022-05-10T10:41:22.423Z"
   },
   {
    "duration": 23,
    "start_time": "2022-05-10T10:41:22.470Z"
   },
   {
    "duration": 441,
    "start_time": "2022-05-10T10:41:22.495Z"
   },
   {
    "duration": 23,
    "start_time": "2022-05-10T10:41:22.942Z"
   },
   {
    "duration": 18,
    "start_time": "2022-05-10T10:41:22.967Z"
   },
   {
    "duration": 461,
    "start_time": "2022-05-10T10:41:22.987Z"
   },
   {
    "duration": 36,
    "start_time": "2022-05-10T10:41:23.451Z"
   },
   {
    "duration": 503,
    "start_time": "2022-05-10T10:41:23.490Z"
   },
   {
    "duration": 17,
    "start_time": "2022-05-10T10:41:23.995Z"
   },
   {
    "duration": 8,
    "start_time": "2022-05-10T10:41:24.014Z"
   },
   {
    "duration": 1365,
    "start_time": "2022-05-10T10:41:24.024Z"
   },
   {
    "duration": 0,
    "start_time": "2022-05-10T10:41:25.392Z"
   },
   {
    "duration": 0,
    "start_time": "2022-05-10T10:41:25.394Z"
   },
   {
    "duration": 0,
    "start_time": "2022-05-10T10:41:25.395Z"
   },
   {
    "duration": 0,
    "start_time": "2022-05-10T10:41:25.397Z"
   },
   {
    "duration": 0,
    "start_time": "2022-05-10T10:41:25.398Z"
   },
   {
    "duration": 0,
    "start_time": "2022-05-10T10:41:25.400Z"
   },
   {
    "duration": 0,
    "start_time": "2022-05-10T10:41:25.401Z"
   },
   {
    "duration": 0,
    "start_time": "2022-05-10T10:41:25.403Z"
   },
   {
    "duration": 0,
    "start_time": "2022-05-10T10:41:25.404Z"
   },
   {
    "duration": 0,
    "start_time": "2022-05-10T10:41:25.406Z"
   },
   {
    "duration": 0,
    "start_time": "2022-05-10T10:41:25.407Z"
   },
   {
    "duration": 0,
    "start_time": "2022-05-10T10:41:25.409Z"
   },
   {
    "duration": 0,
    "start_time": "2022-05-10T10:41:25.410Z"
   },
   {
    "duration": 0,
    "start_time": "2022-05-10T10:41:25.412Z"
   },
   {
    "duration": 0,
    "start_time": "2022-05-10T10:41:25.413Z"
   },
   {
    "duration": 0,
    "start_time": "2022-05-10T10:41:25.415Z"
   },
   {
    "duration": 0,
    "start_time": "2022-05-10T10:41:25.452Z"
   },
   {
    "duration": 0,
    "start_time": "2022-05-10T10:41:25.454Z"
   },
   {
    "duration": 0,
    "start_time": "2022-05-10T10:41:25.455Z"
   },
   {
    "duration": 0,
    "start_time": "2022-05-10T10:41:25.457Z"
   },
   {
    "duration": 0,
    "start_time": "2022-05-10T10:41:25.458Z"
   },
   {
    "duration": 0,
    "start_time": "2022-05-10T10:41:25.460Z"
   },
   {
    "duration": 0,
    "start_time": "2022-05-10T10:41:25.461Z"
   },
   {
    "duration": 0,
    "start_time": "2022-05-10T10:41:25.463Z"
   },
   {
    "duration": 0,
    "start_time": "2022-05-10T10:41:25.464Z"
   },
   {
    "duration": 99,
    "start_time": "2022-05-10T10:45:25.393Z"
   },
   {
    "duration": 94,
    "start_time": "2022-05-10T10:47:39.116Z"
   },
   {
    "duration": 150,
    "start_time": "2022-05-10T10:48:04.036Z"
   },
   {
    "duration": 17,
    "start_time": "2022-05-10T10:48:22.856Z"
   },
   {
    "duration": 105,
    "start_time": "2022-05-10T10:51:03.680Z"
   },
   {
    "duration": 126,
    "start_time": "2022-05-10T10:51:12.057Z"
   },
   {
    "duration": 298,
    "start_time": "2022-05-10T10:51:15.716Z"
   },
   {
    "duration": 20,
    "start_time": "2022-05-10T10:51:52.565Z"
   },
   {
    "duration": 17,
    "start_time": "2022-05-10T11:02:10.395Z"
   },
   {
    "duration": 4,
    "start_time": "2022-05-10T11:02:28.531Z"
   },
   {
    "duration": 930,
    "start_time": "2022-05-10T11:02:45.247Z"
   },
   {
    "duration": 16,
    "start_time": "2022-05-10T11:06:47.486Z"
   },
   {
    "duration": 1252,
    "start_time": "2022-05-10T11:06:56.162Z"
   },
   {
    "duration": 1345,
    "start_time": "2022-05-10T11:07:03.759Z"
   },
   {
    "duration": 6,
    "start_time": "2022-05-10T11:07:29.586Z"
   },
   {
    "duration": 763,
    "start_time": "2022-05-10T11:07:31.740Z"
   },
   {
    "duration": 764,
    "start_time": "2022-05-10T11:07:40.270Z"
   },
   {
    "duration": 18,
    "start_time": "2022-05-10T11:09:19.210Z"
   },
   {
    "duration": 21,
    "start_time": "2022-05-10T11:09:29.398Z"
   },
   {
    "duration": 910,
    "start_time": "2022-05-10T11:09:44.182Z"
   },
   {
    "duration": 1096,
    "start_time": "2022-05-10T11:09:53.037Z"
   },
   {
    "duration": 13,
    "start_time": "2022-05-10T11:21:30.621Z"
   },
   {
    "duration": 40,
    "start_time": "2022-05-10T11:22:56.681Z"
   },
   {
    "duration": 9,
    "start_time": "2022-05-10T11:32:37.699Z"
   },
   {
    "duration": 20,
    "start_time": "2022-05-10T11:32:39.139Z"
   },
   {
    "duration": 19,
    "start_time": "2022-05-10T11:32:40.411Z"
   },
   {
    "duration": 18,
    "start_time": "2022-05-10T11:32:42.930Z"
   },
   {
    "duration": 15,
    "start_time": "2022-05-10T11:33:07.794Z"
   },
   {
    "duration": 1685,
    "start_time": "2022-05-10T11:33:33.645Z"
   },
   {
    "duration": 74,
    "start_time": "2022-05-10T11:33:35.332Z"
   },
   {
    "duration": 21,
    "start_time": "2022-05-10T11:33:35.408Z"
   },
   {
    "duration": 68,
    "start_time": "2022-05-10T11:33:35.432Z"
   },
   {
    "duration": 105,
    "start_time": "2022-05-10T11:33:35.502Z"
   },
   {
    "duration": 11,
    "start_time": "2022-05-10T11:33:35.610Z"
   },
   {
    "duration": 36,
    "start_time": "2022-05-10T11:33:35.623Z"
   },
   {
    "duration": 22,
    "start_time": "2022-05-10T11:33:35.661Z"
   },
   {
    "duration": 28,
    "start_time": "2022-05-10T11:33:35.685Z"
   },
   {
    "duration": 8,
    "start_time": "2022-05-10T11:33:35.717Z"
   },
   {
    "duration": 32,
    "start_time": "2022-05-10T11:33:35.752Z"
   },
   {
    "duration": 35,
    "start_time": "2022-05-10T11:33:35.786Z"
   },
   {
    "duration": 41,
    "start_time": "2022-05-10T11:33:35.823Z"
   },
   {
    "duration": 11,
    "start_time": "2022-05-10T11:33:35.866Z"
   },
   {
    "duration": 8,
    "start_time": "2022-05-10T11:33:35.880Z"
   },
   {
    "duration": 8,
    "start_time": "2022-05-10T11:33:35.890Z"
   },
   {
    "duration": 69,
    "start_time": "2022-05-10T11:33:35.900Z"
   },
   {
    "duration": 19,
    "start_time": "2022-05-10T11:33:35.971Z"
   },
   {
    "duration": 9,
    "start_time": "2022-05-10T11:33:35.993Z"
   },
   {
    "duration": 13,
    "start_time": "2022-05-10T11:33:36.004Z"
   },
   {
    "duration": 34,
    "start_time": "2022-05-10T11:33:36.019Z"
   },
   {
    "duration": 29,
    "start_time": "2022-05-10T11:33:36.056Z"
   },
   {
    "duration": 331,
    "start_time": "2022-05-10T11:33:36.088Z"
   },
   {
    "duration": 197,
    "start_time": "2022-05-10T11:33:36.421Z"
   },
   {
    "duration": 42,
    "start_time": "2022-05-10T11:33:36.621Z"
   },
   {
    "duration": 25,
    "start_time": "2022-05-10T11:33:36.666Z"
   },
   {
    "duration": 442,
    "start_time": "2022-05-10T11:33:36.693Z"
   },
   {
    "duration": 14,
    "start_time": "2022-05-10T11:33:37.153Z"
   },
   {
    "duration": 18,
    "start_time": "2022-05-10T11:33:37.169Z"
   },
   {
    "duration": 61,
    "start_time": "2022-05-10T11:33:37.190Z"
   },
   {
    "duration": 505,
    "start_time": "2022-05-10T11:33:37.253Z"
   },
   {
    "duration": 18,
    "start_time": "2022-05-10T11:33:37.760Z"
   },
   {
    "duration": 11,
    "start_time": "2022-05-10T11:33:37.780Z"
   },
   {
    "duration": 857,
    "start_time": "2022-05-10T11:33:37.794Z"
   },
   {
    "duration": 17,
    "start_time": "2022-05-10T11:33:38.654Z"
   },
   {
    "duration": 774,
    "start_time": "2022-05-10T11:33:38.673Z"
   },
   {
    "duration": 21,
    "start_time": "2022-05-10T11:33:39.451Z"
   },
   {
    "duration": 780,
    "start_time": "2022-05-10T11:33:39.474Z"
   },
   {
    "duration": 17,
    "start_time": "2022-05-10T11:33:40.257Z"
   },
   {
    "duration": 1403,
    "start_time": "2022-05-10T11:33:40.276Z"
   },
   {
    "duration": 23,
    "start_time": "2022-05-10T11:33:41.682Z"
   },
   {
    "duration": 1172,
    "start_time": "2022-05-10T11:33:41.708Z"
   },
   {
    "duration": 0,
    "start_time": "2022-05-10T11:33:42.883Z"
   },
   {
    "duration": 0,
    "start_time": "2022-05-10T11:33:42.885Z"
   },
   {
    "duration": 0,
    "start_time": "2022-05-10T11:33:42.888Z"
   },
   {
    "duration": 0,
    "start_time": "2022-05-10T11:33:42.889Z"
   },
   {
    "duration": 0,
    "start_time": "2022-05-10T11:33:42.892Z"
   },
   {
    "duration": 0,
    "start_time": "2022-05-10T11:33:42.894Z"
   },
   {
    "duration": 0,
    "start_time": "2022-05-10T11:33:42.897Z"
   },
   {
    "duration": 0,
    "start_time": "2022-05-10T11:33:42.899Z"
   },
   {
    "duration": 0,
    "start_time": "2022-05-10T11:33:42.901Z"
   },
   {
    "duration": 0,
    "start_time": "2022-05-10T11:33:42.904Z"
   },
   {
    "duration": 0,
    "start_time": "2022-05-10T11:33:42.905Z"
   },
   {
    "duration": 0,
    "start_time": "2022-05-10T11:33:42.908Z"
   },
   {
    "duration": 0,
    "start_time": "2022-05-10T11:33:42.910Z"
   },
   {
    "duration": 0,
    "start_time": "2022-05-10T11:33:42.953Z"
   },
   {
    "duration": 0,
    "start_time": "2022-05-10T11:33:42.955Z"
   },
   {
    "duration": 0,
    "start_time": "2022-05-10T11:33:42.957Z"
   },
   {
    "duration": 0,
    "start_time": "2022-05-10T11:33:42.959Z"
   },
   {
    "duration": 37,
    "start_time": "2022-05-10T11:34:54.265Z"
   },
   {
    "duration": 1519,
    "start_time": "2022-05-10T19:57:08.249Z"
   },
   {
    "duration": 60,
    "start_time": "2022-05-10T19:57:09.770Z"
   },
   {
    "duration": 24,
    "start_time": "2022-05-10T19:57:09.832Z"
   },
   {
    "duration": 39,
    "start_time": "2022-05-10T19:57:09.858Z"
   },
   {
    "duration": 88,
    "start_time": "2022-05-10T19:57:09.899Z"
   },
   {
    "duration": 7,
    "start_time": "2022-05-10T19:57:09.989Z"
   },
   {
    "duration": 17,
    "start_time": "2022-05-10T19:57:09.998Z"
   },
   {
    "duration": 41,
    "start_time": "2022-05-10T19:57:10.016Z"
   },
   {
    "duration": 16,
    "start_time": "2022-05-10T19:57:10.059Z"
   },
   {
    "duration": 5,
    "start_time": "2022-05-10T19:57:10.077Z"
   },
   {
    "duration": 51,
    "start_time": "2022-05-10T19:57:10.084Z"
   },
   {
    "duration": 28,
    "start_time": "2022-05-10T19:57:10.138Z"
   },
   {
    "duration": 13,
    "start_time": "2022-05-10T19:57:10.168Z"
   },
   {
    "duration": 8,
    "start_time": "2022-05-10T19:57:10.184Z"
   },
   {
    "duration": 8,
    "start_time": "2022-05-10T19:57:10.194Z"
   },
   {
    "duration": 35,
    "start_time": "2022-05-10T19:57:10.203Z"
   },
   {
    "duration": 33,
    "start_time": "2022-05-10T19:57:10.241Z"
   },
   {
    "duration": 15,
    "start_time": "2022-05-10T19:57:10.276Z"
   },
   {
    "duration": 7,
    "start_time": "2022-05-10T19:57:10.293Z"
   },
   {
    "duration": 9,
    "start_time": "2022-05-10T19:57:10.302Z"
   },
   {
    "duration": 42,
    "start_time": "2022-05-10T19:57:10.313Z"
   },
   {
    "duration": 18,
    "start_time": "2022-05-10T19:57:10.357Z"
   },
   {
    "duration": 241,
    "start_time": "2022-05-10T19:57:10.377Z"
   },
   {
    "duration": 158,
    "start_time": "2022-05-10T19:57:10.619Z"
   },
   {
    "duration": 24,
    "start_time": "2022-05-10T19:57:10.778Z"
   },
   {
    "duration": 46,
    "start_time": "2022-05-10T19:57:10.804Z"
   },
   {
    "duration": 339,
    "start_time": "2022-05-10T19:57:10.852Z"
   },
   {
    "duration": 11,
    "start_time": "2022-05-10T19:57:11.193Z"
   },
   {
    "duration": 29,
    "start_time": "2022-05-10T19:57:11.206Z"
   },
   {
    "duration": 30,
    "start_time": "2022-05-10T19:57:11.237Z"
   },
   {
    "duration": 382,
    "start_time": "2022-05-10T19:57:11.269Z"
   },
   {
    "duration": 14,
    "start_time": "2022-05-10T19:57:11.653Z"
   },
   {
    "duration": 8,
    "start_time": "2022-05-10T19:57:11.669Z"
   },
   {
    "duration": 666,
    "start_time": "2022-05-10T19:57:11.679Z"
   },
   {
    "duration": 13,
    "start_time": "2022-05-10T19:57:12.348Z"
   },
   {
    "duration": 605,
    "start_time": "2022-05-10T19:57:12.362Z"
   },
   {
    "duration": 15,
    "start_time": "2022-05-10T19:57:12.970Z"
   },
   {
    "duration": 624,
    "start_time": "2022-05-10T19:57:12.987Z"
   },
   {
    "duration": 20,
    "start_time": "2022-05-10T19:57:13.613Z"
   },
   {
    "duration": 712,
    "start_time": "2022-05-10T19:57:13.636Z"
   },
   {
    "duration": 25,
    "start_time": "2022-05-10T19:57:14.354Z"
   },
   {
    "duration": 16,
    "start_time": "2022-05-10T19:57:14.381Z"
   },
   {
    "duration": 1044,
    "start_time": "2022-05-10T19:57:14.399Z"
   },
   {
    "duration": 0,
    "start_time": "2022-05-10T19:57:15.446Z"
   },
   {
    "duration": 0,
    "start_time": "2022-05-10T19:57:15.448Z"
   },
   {
    "duration": 0,
    "start_time": "2022-05-10T19:57:15.450Z"
   },
   {
    "duration": 0,
    "start_time": "2022-05-10T19:57:15.452Z"
   },
   {
    "duration": 0,
    "start_time": "2022-05-10T19:57:15.453Z"
   },
   {
    "duration": 0,
    "start_time": "2022-05-10T19:57:15.454Z"
   },
   {
    "duration": 0,
    "start_time": "2022-05-10T19:57:15.455Z"
   },
   {
    "duration": 0,
    "start_time": "2022-05-10T19:57:15.457Z"
   },
   {
    "duration": 0,
    "start_time": "2022-05-10T19:57:15.458Z"
   },
   {
    "duration": 0,
    "start_time": "2022-05-10T19:57:15.459Z"
   },
   {
    "duration": 0,
    "start_time": "2022-05-10T19:57:15.461Z"
   },
   {
    "duration": 0,
    "start_time": "2022-05-10T19:57:15.462Z"
   },
   {
    "duration": 0,
    "start_time": "2022-05-10T19:57:15.463Z"
   },
   {
    "duration": 0,
    "start_time": "2022-05-10T19:57:15.464Z"
   },
   {
    "duration": 0,
    "start_time": "2022-05-10T19:57:15.465Z"
   },
   {
    "duration": 0,
    "start_time": "2022-05-10T19:57:15.467Z"
   },
   {
    "duration": 0,
    "start_time": "2022-05-10T19:57:15.468Z"
   },
   {
    "duration": 14,
    "start_time": "2022-05-10T20:00:56.768Z"
   },
   {
    "duration": 14,
    "start_time": "2022-05-10T20:01:57.720Z"
   },
   {
    "duration": 12,
    "start_time": "2022-05-10T20:03:21.792Z"
   },
   {
    "duration": 8,
    "start_time": "2022-05-10T20:03:33.846Z"
   },
   {
    "duration": 17,
    "start_time": "2022-05-10T20:03:46.829Z"
   },
   {
    "duration": 12,
    "start_time": "2022-05-10T20:04:51.596Z"
   },
   {
    "duration": 11,
    "start_time": "2022-05-10T20:05:52.711Z"
   },
   {
    "duration": 376,
    "start_time": "2022-05-10T20:21:54.925Z"
   },
   {
    "duration": 353,
    "start_time": "2022-05-10T20:22:04.048Z"
   },
   {
    "duration": 21,
    "start_time": "2022-05-10T20:23:36.164Z"
   },
   {
    "duration": 7,
    "start_time": "2022-05-10T20:25:48.423Z"
   },
   {
    "duration": 29,
    "start_time": "2022-05-10T20:45:51.172Z"
   },
   {
    "duration": 263,
    "start_time": "2022-05-10T20:45:59.667Z"
   },
   {
    "duration": 348,
    "start_time": "2022-05-10T20:59:51.429Z"
   },
   {
    "duration": 422,
    "start_time": "2022-05-10T21:00:15.397Z"
   },
   {
    "duration": 339,
    "start_time": "2022-05-10T21:00:21.617Z"
   },
   {
    "duration": 332,
    "start_time": "2022-05-10T21:00:26.497Z"
   },
   {
    "duration": 331,
    "start_time": "2022-05-10T21:00:31.861Z"
   },
   {
    "duration": 329,
    "start_time": "2022-05-10T21:00:38.193Z"
   },
   {
    "duration": 476,
    "start_time": "2022-05-10T21:01:30.457Z"
   },
   {
    "duration": 340,
    "start_time": "2022-05-10T21:01:35.057Z"
   },
   {
    "duration": 339,
    "start_time": "2022-05-10T21:01:39.633Z"
   },
   {
    "duration": 326,
    "start_time": "2022-05-10T21:01:45.353Z"
   },
   {
    "duration": 351,
    "start_time": "2022-05-10T21:01:49.937Z"
   },
   {
    "duration": 329,
    "start_time": "2022-05-10T21:03:40.273Z"
   },
   {
    "duration": 454,
    "start_time": "2022-05-10T21:03:47.121Z"
   },
   {
    "duration": 365,
    "start_time": "2022-05-10T21:06:26.128Z"
   },
   {
    "duration": 6,
    "start_time": "2022-05-10T21:07:42.148Z"
   },
   {
    "duration": 322,
    "start_time": "2022-05-10T21:07:43.504Z"
   },
   {
    "duration": 16,
    "start_time": "2022-05-11T11:40:58.348Z"
   },
   {
    "duration": 50,
    "start_time": "2022-05-11T11:41:00.100Z"
   },
   {
    "duration": 1549,
    "start_time": "2022-05-11T11:41:09.147Z"
   },
   {
    "duration": 68,
    "start_time": "2022-05-11T11:41:10.698Z"
   },
   {
    "duration": 15,
    "start_time": "2022-05-11T11:41:10.768Z"
   },
   {
    "duration": 39,
    "start_time": "2022-05-11T11:41:10.786Z"
   },
   {
    "duration": 68,
    "start_time": "2022-05-11T11:41:10.827Z"
   },
   {
    "duration": 7,
    "start_time": "2022-05-11T11:41:10.896Z"
   },
   {
    "duration": 14,
    "start_time": "2022-05-11T11:41:10.905Z"
   },
   {
    "duration": 35,
    "start_time": "2022-05-11T11:41:10.920Z"
   },
   {
    "duration": 17,
    "start_time": "2022-05-11T11:41:10.957Z"
   },
   {
    "duration": 6,
    "start_time": "2022-05-11T11:41:10.977Z"
   },
   {
    "duration": 24,
    "start_time": "2022-05-11T11:41:10.984Z"
   },
   {
    "duration": 47,
    "start_time": "2022-05-11T11:41:11.009Z"
   },
   {
    "duration": 14,
    "start_time": "2022-05-11T11:41:11.057Z"
   },
   {
    "duration": 8,
    "start_time": "2022-05-11T11:41:11.073Z"
   },
   {
    "duration": 7,
    "start_time": "2022-05-11T11:41:11.084Z"
   },
   {
    "duration": 7,
    "start_time": "2022-05-11T11:41:11.093Z"
   },
   {
    "duration": 23,
    "start_time": "2022-05-11T11:41:11.102Z"
   },
   {
    "duration": 16,
    "start_time": "2022-05-11T11:41:11.154Z"
   },
   {
    "duration": 7,
    "start_time": "2022-05-11T11:41:11.172Z"
   },
   {
    "duration": 9,
    "start_time": "2022-05-11T11:41:11.181Z"
   },
   {
    "duration": 7,
    "start_time": "2022-05-11T11:41:11.192Z"
   },
   {
    "duration": 21,
    "start_time": "2022-05-11T11:41:11.200Z"
   },
   {
    "duration": 230,
    "start_time": "2022-05-11T11:41:11.223Z"
   },
   {
    "duration": 130,
    "start_time": "2022-05-11T11:41:11.455Z"
   },
   {
    "duration": 21,
    "start_time": "2022-05-11T11:41:11.587Z"
   },
   {
    "duration": 17,
    "start_time": "2022-05-11T11:41:11.609Z"
   },
   {
    "duration": 289,
    "start_time": "2022-05-11T11:41:11.628Z"
   },
   {
    "duration": 11,
    "start_time": "2022-05-11T11:41:11.921Z"
   },
   {
    "duration": 33,
    "start_time": "2022-05-11T11:41:11.934Z"
   },
   {
    "duration": 22,
    "start_time": "2022-05-11T11:41:11.969Z"
   },
   {
    "duration": 314,
    "start_time": "2022-05-11T11:41:11.993Z"
   },
   {
    "duration": 12,
    "start_time": "2022-05-11T11:41:12.309Z"
   },
   {
    "duration": 4,
    "start_time": "2022-05-11T11:41:12.323Z"
   },
   {
    "duration": 570,
    "start_time": "2022-05-11T11:41:12.329Z"
   },
   {
    "duration": 12,
    "start_time": "2022-05-11T11:41:12.900Z"
   },
   {
    "duration": 505,
    "start_time": "2022-05-11T11:41:12.913Z"
   },
   {
    "duration": 13,
    "start_time": "2022-05-11T11:41:13.420Z"
   },
   {
    "duration": 492,
    "start_time": "2022-05-11T11:41:13.435Z"
   },
   {
    "duration": 13,
    "start_time": "2022-05-11T11:41:13.929Z"
   },
   {
    "duration": 561,
    "start_time": "2022-05-11T11:41:13.955Z"
   },
   {
    "duration": 6,
    "start_time": "2022-05-11T11:41:14.518Z"
   },
   {
    "duration": 37,
    "start_time": "2022-05-11T11:41:14.526Z"
   },
   {
    "duration": 233,
    "start_time": "2022-05-11T11:41:14.565Z"
   },
   {
    "duration": 314,
    "start_time": "2022-05-11T11:41:14.799Z"
   },
   {
    "duration": 310,
    "start_time": "2022-05-11T11:41:15.114Z"
   },
   {
    "duration": 6,
    "start_time": "2022-05-11T11:41:15.426Z"
   },
   {
    "duration": 303,
    "start_time": "2022-05-11T11:41:15.434Z"
   },
   {
    "duration": 288,
    "start_time": "2022-05-11T11:41:15.739Z"
   },
   {
    "duration": 411,
    "start_time": "2022-05-11T11:41:16.029Z"
   },
   {
    "duration": 24,
    "start_time": "2022-05-11T11:41:16.441Z"
   },
   {
    "duration": 206,
    "start_time": "2022-05-11T11:41:16.467Z"
   },
   {
    "duration": 8,
    "start_time": "2022-05-11T11:41:16.674Z"
   },
   {
    "duration": 26,
    "start_time": "2022-05-11T11:41:16.683Z"
   },
   {
    "duration": 265,
    "start_time": "2022-05-11T11:41:16.711Z"
   },
   {
    "duration": 0,
    "start_time": "2022-05-11T11:41:16.978Z"
   },
   {
    "duration": 0,
    "start_time": "2022-05-11T11:41:16.979Z"
   },
   {
    "duration": 0,
    "start_time": "2022-05-11T11:41:16.980Z"
   },
   {
    "duration": 0,
    "start_time": "2022-05-11T11:41:16.981Z"
   },
   {
    "duration": 0,
    "start_time": "2022-05-11T11:41:16.983Z"
   },
   {
    "duration": 0,
    "start_time": "2022-05-11T11:41:16.984Z"
   },
   {
    "duration": 9,
    "start_time": "2022-05-11T11:55:23.588Z"
   },
   {
    "duration": 278,
    "start_time": "2022-05-11T11:55:25.424Z"
   },
   {
    "duration": 15,
    "start_time": "2022-05-11T11:56:00.372Z"
   },
   {
    "duration": 7,
    "start_time": "2022-05-11T11:57:17.007Z"
   },
   {
    "duration": 15,
    "start_time": "2022-05-11T11:57:28.076Z"
   },
   {
    "duration": 8,
    "start_time": "2022-05-11T11:57:59.088Z"
   },
   {
    "duration": 1262,
    "start_time": "2022-05-11T11:58:17.673Z"
   },
   {
    "duration": 52,
    "start_time": "2022-05-11T11:58:18.937Z"
   },
   {
    "duration": 16,
    "start_time": "2022-05-11T11:58:18.991Z"
   },
   {
    "duration": 50,
    "start_time": "2022-05-11T11:58:19.009Z"
   },
   {
    "duration": 57,
    "start_time": "2022-05-11T11:58:19.061Z"
   },
   {
    "duration": 7,
    "start_time": "2022-05-11T11:58:19.120Z"
   },
   {
    "duration": 29,
    "start_time": "2022-05-11T11:58:19.128Z"
   },
   {
    "duration": 15,
    "start_time": "2022-05-11T11:58:19.159Z"
   },
   {
    "duration": 24,
    "start_time": "2022-05-11T11:58:19.176Z"
   },
   {
    "duration": 6,
    "start_time": "2022-05-11T11:58:19.203Z"
   },
   {
    "duration": 45,
    "start_time": "2022-05-11T11:58:19.210Z"
   },
   {
    "duration": 24,
    "start_time": "2022-05-11T11:58:19.256Z"
   },
   {
    "duration": 12,
    "start_time": "2022-05-11T11:58:19.281Z"
   },
   {
    "duration": 7,
    "start_time": "2022-05-11T11:58:19.295Z"
   },
   {
    "duration": 9,
    "start_time": "2022-05-11T11:58:19.304Z"
   },
   {
    "duration": 5,
    "start_time": "2022-05-11T11:58:19.315Z"
   },
   {
    "duration": 54,
    "start_time": "2022-05-11T11:58:19.322Z"
   },
   {
    "duration": 21,
    "start_time": "2022-05-11T11:58:19.378Z"
   },
   {
    "duration": 10,
    "start_time": "2022-05-11T11:58:19.401Z"
   },
   {
    "duration": 11,
    "start_time": "2022-05-11T11:58:19.413Z"
   },
   {
    "duration": 35,
    "start_time": "2022-05-11T11:58:19.426Z"
   },
   {
    "duration": 20,
    "start_time": "2022-05-11T11:58:19.463Z"
   },
   {
    "duration": 276,
    "start_time": "2022-05-11T11:58:19.485Z"
   },
   {
    "duration": 188,
    "start_time": "2022-05-11T11:58:19.763Z"
   },
   {
    "duration": 22,
    "start_time": "2022-05-11T11:58:19.955Z"
   },
   {
    "duration": 18,
    "start_time": "2022-05-11T11:58:19.979Z"
   },
   {
    "duration": 280,
    "start_time": "2022-05-11T11:58:19.998Z"
   },
   {
    "duration": 11,
    "start_time": "2022-05-11T11:58:20.282Z"
   },
   {
    "duration": 13,
    "start_time": "2022-05-11T11:58:20.295Z"
   },
   {
    "duration": 45,
    "start_time": "2022-05-11T11:58:20.311Z"
   },
   {
    "duration": 308,
    "start_time": "2022-05-11T11:58:20.358Z"
   },
   {
    "duration": 13,
    "start_time": "2022-05-11T11:58:20.668Z"
   },
   {
    "duration": 7,
    "start_time": "2022-05-11T11:58:20.683Z"
   },
   {
    "duration": 554,
    "start_time": "2022-05-11T11:58:20.692Z"
   },
   {
    "duration": 17,
    "start_time": "2022-05-11T11:58:21.248Z"
   },
   {
    "duration": 706,
    "start_time": "2022-05-11T11:58:21.266Z"
   },
   {
    "duration": 16,
    "start_time": "2022-05-11T11:58:21.974Z"
   },
   {
    "duration": 488,
    "start_time": "2022-05-11T11:58:21.992Z"
   },
   {
    "duration": 14,
    "start_time": "2022-05-11T11:58:22.482Z"
   },
   {
    "duration": 597,
    "start_time": "2022-05-11T11:58:22.498Z"
   },
   {
    "duration": 8,
    "start_time": "2022-05-11T11:58:23.097Z"
   },
   {
    "duration": 32,
    "start_time": "2022-05-11T11:58:23.107Z"
   },
   {
    "duration": 212,
    "start_time": "2022-05-11T11:58:23.141Z"
   },
   {
    "duration": 294,
    "start_time": "2022-05-11T11:58:23.355Z"
   },
   {
    "duration": 298,
    "start_time": "2022-05-11T11:58:23.654Z"
   },
   {
    "duration": 5,
    "start_time": "2022-05-11T11:58:23.954Z"
   },
   {
    "duration": 26,
    "start_time": "2022-05-11T11:58:23.960Z"
   },
   {
    "duration": 36,
    "start_time": "2022-05-11T11:58:23.987Z"
   },
   {
    "duration": 144,
    "start_time": "2022-05-11T11:58:24.025Z"
   },
   {
    "duration": 358,
    "start_time": "2022-05-11T11:58:24.171Z"
   },
   {
    "duration": 0,
    "start_time": "2022-05-11T11:58:24.532Z"
   },
   {
    "duration": 0,
    "start_time": "2022-05-11T11:58:24.533Z"
   },
   {
    "duration": 0,
    "start_time": "2022-05-11T11:58:24.534Z"
   },
   {
    "duration": 0,
    "start_time": "2022-05-11T11:58:24.536Z"
   },
   {
    "duration": 0,
    "start_time": "2022-05-11T11:58:24.537Z"
   },
   {
    "duration": 0,
    "start_time": "2022-05-11T11:58:24.538Z"
   },
   {
    "duration": 0,
    "start_time": "2022-05-11T11:58:24.556Z"
   },
   {
    "duration": 0,
    "start_time": "2022-05-11T11:58:24.557Z"
   },
   {
    "duration": 0,
    "start_time": "2022-05-11T11:58:24.559Z"
   },
   {
    "duration": 0,
    "start_time": "2022-05-11T11:58:24.560Z"
   },
   {
    "duration": 0,
    "start_time": "2022-05-11T11:58:24.562Z"
   },
   {
    "duration": 0,
    "start_time": "2022-05-11T11:58:24.563Z"
   },
   {
    "duration": 0,
    "start_time": "2022-05-11T11:58:24.564Z"
   },
   {
    "duration": 0,
    "start_time": "2022-05-11T11:58:24.566Z"
   },
   {
    "duration": 7,
    "start_time": "2022-05-11T12:01:01.956Z"
   },
   {
    "duration": 16,
    "start_time": "2022-05-11T12:01:03.724Z"
   },
   {
    "duration": 9,
    "start_time": "2022-05-11T12:01:06.044Z"
   },
   {
    "duration": 810,
    "start_time": "2022-05-11T12:01:08.544Z"
   },
   {
    "duration": 4,
    "start_time": "2022-05-11T12:07:07.946Z"
   },
   {
    "duration": 686,
    "start_time": "2022-05-11T12:07:09.338Z"
   },
   {
    "duration": 5,
    "start_time": "2022-05-11T12:07:23.313Z"
   },
   {
    "duration": 270,
    "start_time": "2022-05-11T12:07:24.454Z"
   },
   {
    "duration": 275,
    "start_time": "2022-05-11T12:08:40.866Z"
   },
   {
    "duration": 8,
    "start_time": "2022-05-11T12:08:43.210Z"
   },
   {
    "duration": 5,
    "start_time": "2022-05-11T12:08:55.873Z"
   },
   {
    "duration": 295,
    "start_time": "2022-05-11T12:08:56.585Z"
   },
   {
    "duration": 5,
    "start_time": "2022-05-11T12:09:27.288Z"
   },
   {
    "duration": 497,
    "start_time": "2022-05-11T12:09:28.309Z"
   },
   {
    "duration": 176,
    "start_time": "2022-05-11T12:14:32.077Z"
   },
   {
    "duration": 402,
    "start_time": "2022-05-11T12:14:39.409Z"
   },
   {
    "duration": 5,
    "start_time": "2022-05-11T12:19:34.208Z"
   },
   {
    "duration": 5,
    "start_time": "2022-05-11T12:22:36.511Z"
   },
   {
    "duration": 269,
    "start_time": "2022-05-11T12:22:50.435Z"
   },
   {
    "duration": 358,
    "start_time": "2022-05-11T12:23:07.399Z"
   },
   {
    "duration": 5,
    "start_time": "2022-05-11T12:24:53.595Z"
   },
   {
    "duration": 765,
    "start_time": "2022-05-11T12:24:54.675Z"
   },
   {
    "duration": 4,
    "start_time": "2022-05-11T12:25:33.195Z"
   },
   {
    "duration": 6,
    "start_time": "2022-05-11T12:25:41.935Z"
   },
   {
    "duration": 585,
    "start_time": "2022-05-11T12:25:46.620Z"
   },
   {
    "duration": 4,
    "start_time": "2022-05-11T12:26:56.139Z"
   },
   {
    "duration": 352,
    "start_time": "2022-05-11T12:27:02.055Z"
   },
   {
    "duration": 17,
    "start_time": "2022-05-11T12:38:40.585Z"
   },
   {
    "duration": 189,
    "start_time": "2022-05-11T12:38:41.778Z"
   },
   {
    "duration": 474,
    "start_time": "2022-05-11T12:44:52.396Z"
   },
   {
    "duration": 359,
    "start_time": "2022-05-11T12:45:19.620Z"
   },
   {
    "duration": 14,
    "start_time": "2022-05-11T12:55:58.335Z"
   },
   {
    "duration": 367,
    "start_time": "2022-05-11T12:58:08.491Z"
   },
   {
    "duration": 272,
    "start_time": "2022-05-11T12:58:46.970Z"
   },
   {
    "duration": 228,
    "start_time": "2022-05-11T13:00:36.711Z"
   },
   {
    "duration": 245,
    "start_time": "2022-05-11T13:01:11.299Z"
   },
   {
    "duration": 251,
    "start_time": "2022-05-11T13:01:25.103Z"
   },
   {
    "duration": 421,
    "start_time": "2022-05-11T13:01:39.679Z"
   },
   {
    "duration": 239,
    "start_time": "2022-05-11T13:01:56.187Z"
   },
   {
    "duration": 227,
    "start_time": "2022-05-11T13:02:05.263Z"
   },
   {
    "duration": 191,
    "start_time": "2022-05-11T13:10:52.838Z"
   },
   {
    "duration": 4,
    "start_time": "2022-05-11T13:15:08.670Z"
   },
   {
    "duration": 240,
    "start_time": "2022-05-11T13:17:35.946Z"
   },
   {
    "duration": 236,
    "start_time": "2022-05-11T13:18:42.341Z"
   },
   {
    "duration": 4,
    "start_time": "2022-05-11T13:19:47.790Z"
   },
   {
    "duration": 339,
    "start_time": "2022-05-11T13:19:51.350Z"
   },
   {
    "duration": 238,
    "start_time": "2022-05-11T13:20:27.266Z"
   },
   {
    "duration": 802,
    "start_time": "2022-05-11T13:20:36.633Z"
   },
   {
    "duration": 4,
    "start_time": "2022-05-11T13:21:27.721Z"
   },
   {
    "duration": 684,
    "start_time": "2022-05-11T13:21:44.433Z"
   },
   {
    "duration": 1075,
    "start_time": "2022-05-11T13:24:32.286Z"
   },
   {
    "duration": 1313,
    "start_time": "2022-05-11T13:25:11.473Z"
   },
   {
    "duration": 1048,
    "start_time": "2022-05-11T13:25:23.989Z"
   },
   {
    "duration": 1051,
    "start_time": "2022-05-11T13:25:40.541Z"
   },
   {
    "duration": 6,
    "start_time": "2022-05-11T13:27:54.420Z"
   },
   {
    "duration": 652,
    "start_time": "2022-05-11T13:28:31.467Z"
   },
   {
    "duration": 7,
    "start_time": "2022-05-11T13:29:32.458Z"
   },
   {
    "duration": 294,
    "start_time": "2022-05-11T13:29:38.850Z"
   },
   {
    "duration": 141,
    "start_time": "2022-05-11T13:30:13.738Z"
   },
   {
    "duration": 5,
    "start_time": "2022-05-11T13:30:21.070Z"
   },
   {
    "duration": 34,
    "start_time": "2022-05-11T13:30:30.578Z"
   },
   {
    "duration": 4,
    "start_time": "2022-05-11T13:30:43.998Z"
   },
   {
    "duration": 25,
    "start_time": "2022-05-11T13:30:45.086Z"
   },
   {
    "duration": 4,
    "start_time": "2022-05-11T13:31:15.646Z"
   },
   {
    "duration": 26,
    "start_time": "2022-05-11T13:31:16.262Z"
   },
   {
    "duration": 243,
    "start_time": "2022-05-11T13:44:43.388Z"
   },
   {
    "duration": 132,
    "start_time": "2022-05-11T13:55:21.527Z"
   },
   {
    "duration": 403,
    "start_time": "2022-05-11T13:57:53.034Z"
   },
   {
    "duration": 658,
    "start_time": "2022-05-11T13:58:59.015Z"
   },
   {
    "duration": 505,
    "start_time": "2022-05-11T14:08:00.478Z"
   },
   {
    "duration": 305,
    "start_time": "2022-05-11T14:08:41.670Z"
   },
   {
    "duration": 393,
    "start_time": "2022-05-11T14:08:49.485Z"
   },
   {
    "duration": 320,
    "start_time": "2022-05-11T14:09:05.299Z"
   },
   {
    "duration": 396,
    "start_time": "2022-05-11T14:09:16.950Z"
   },
   {
    "duration": 848,
    "start_time": "2022-05-11T14:10:16.568Z"
   },
   {
    "duration": 439,
    "start_time": "2022-05-11T14:10:37.249Z"
   },
   {
    "duration": 391,
    "start_time": "2022-05-11T14:10:50.056Z"
   },
   {
    "duration": 378,
    "start_time": "2022-05-11T14:11:22.893Z"
   },
   {
    "duration": 401,
    "start_time": "2022-05-11T14:12:16.169Z"
   },
   {
    "duration": 381,
    "start_time": "2022-05-11T14:14:02.701Z"
   },
   {
    "duration": 545,
    "start_time": "2022-05-11T14:14:52.537Z"
   },
   {
    "duration": 358,
    "start_time": "2022-05-11T14:16:53.303Z"
   },
   {
    "duration": 392,
    "start_time": "2022-05-11T14:18:07.859Z"
   },
   {
    "duration": 420,
    "start_time": "2022-05-11T14:21:25.975Z"
   },
   {
    "duration": 4,
    "start_time": "2022-05-11T14:21:53.942Z"
   },
   {
    "duration": 396,
    "start_time": "2022-05-11T14:21:56.245Z"
   },
   {
    "duration": 805,
    "start_time": "2022-05-11T14:22:40.219Z"
   },
   {
    "duration": 360,
    "start_time": "2022-05-11T14:23:05.115Z"
   },
   {
    "duration": 393,
    "start_time": "2022-05-11T14:23:17.191Z"
   },
   {
    "duration": 364,
    "start_time": "2022-05-11T14:23:26.463Z"
   },
   {
    "duration": 383,
    "start_time": "2022-05-11T14:26:24.277Z"
   },
   {
    "duration": 4,
    "start_time": "2022-05-11T14:28:41.477Z"
   },
   {
    "duration": 396,
    "start_time": "2022-05-11T14:28:42.753Z"
   },
   {
    "duration": 4,
    "start_time": "2022-05-11T14:30:26.062Z"
   },
   {
    "duration": 715,
    "start_time": "2022-05-11T14:30:26.753Z"
   },
   {
    "duration": 418,
    "start_time": "2022-05-11T14:30:58.669Z"
   },
   {
    "duration": 372,
    "start_time": "2022-05-11T14:31:08.985Z"
   },
   {
    "duration": 1257,
    "start_time": "2022-05-11T14:39:38.986Z"
   },
   {
    "duration": 85,
    "start_time": "2022-05-11T14:39:40.245Z"
   },
   {
    "duration": 15,
    "start_time": "2022-05-11T14:39:40.332Z"
   },
   {
    "duration": 58,
    "start_time": "2022-05-11T14:39:40.349Z"
   },
   {
    "duration": 86,
    "start_time": "2022-05-11T14:39:40.409Z"
   },
   {
    "duration": 7,
    "start_time": "2022-05-11T14:39:40.497Z"
   },
   {
    "duration": 32,
    "start_time": "2022-05-11T14:39:40.506Z"
   },
   {
    "duration": 40,
    "start_time": "2022-05-11T14:39:40.540Z"
   },
   {
    "duration": 55,
    "start_time": "2022-05-11T14:39:40.582Z"
   },
   {
    "duration": 33,
    "start_time": "2022-05-11T14:39:40.640Z"
   },
   {
    "duration": 43,
    "start_time": "2022-05-11T14:39:40.675Z"
   },
   {
    "duration": 23,
    "start_time": "2022-05-11T14:39:40.719Z"
   },
   {
    "duration": 27,
    "start_time": "2022-05-11T14:39:40.744Z"
   },
   {
    "duration": 12,
    "start_time": "2022-05-11T14:39:40.773Z"
   },
   {
    "duration": 25,
    "start_time": "2022-05-11T14:39:40.787Z"
   },
   {
    "duration": 28,
    "start_time": "2022-05-11T14:39:40.814Z"
   },
   {
    "duration": 52,
    "start_time": "2022-05-11T14:39:40.844Z"
   },
   {
    "duration": 23,
    "start_time": "2022-05-11T14:39:40.898Z"
   },
   {
    "duration": 20,
    "start_time": "2022-05-11T14:39:40.923Z"
   },
   {
    "duration": 34,
    "start_time": "2022-05-11T14:39:40.945Z"
   },
   {
    "duration": 30,
    "start_time": "2022-05-11T14:39:40.981Z"
   },
   {
    "duration": 61,
    "start_time": "2022-05-11T14:39:41.013Z"
   },
   {
    "duration": 240,
    "start_time": "2022-05-11T14:39:41.076Z"
   },
   {
    "duration": 126,
    "start_time": "2022-05-11T14:39:41.318Z"
   },
   {
    "duration": 31,
    "start_time": "2022-05-11T14:39:41.445Z"
   },
   {
    "duration": 27,
    "start_time": "2022-05-11T14:39:41.478Z"
   },
   {
    "duration": 327,
    "start_time": "2022-05-11T14:39:41.507Z"
   },
   {
    "duration": 19,
    "start_time": "2022-05-11T14:39:41.838Z"
   },
   {
    "duration": 57,
    "start_time": "2022-05-11T14:39:41.860Z"
   },
   {
    "duration": 69,
    "start_time": "2022-05-11T14:39:41.919Z"
   },
   {
    "duration": 357,
    "start_time": "2022-05-11T14:39:41.990Z"
   },
   {
    "duration": 23,
    "start_time": "2022-05-11T14:39:42.349Z"
   },
   {
    "duration": 25,
    "start_time": "2022-05-11T14:39:42.375Z"
   },
   {
    "duration": 642,
    "start_time": "2022-05-11T14:39:42.402Z"
   },
   {
    "duration": 18,
    "start_time": "2022-05-11T14:39:43.054Z"
   },
   {
    "duration": 539,
    "start_time": "2022-05-11T14:39:43.074Z"
   },
   {
    "duration": 12,
    "start_time": "2022-05-11T14:39:43.615Z"
   },
   {
    "duration": 566,
    "start_time": "2022-05-11T14:39:43.629Z"
   },
   {
    "duration": 66,
    "start_time": "2022-05-11T14:39:44.197Z"
   },
   {
    "duration": 704,
    "start_time": "2022-05-11T14:39:44.266Z"
   },
   {
    "duration": 7,
    "start_time": "2022-05-11T14:39:44.972Z"
   },
   {
    "duration": 57,
    "start_time": "2022-05-11T14:39:44.981Z"
   },
   {
    "duration": 248,
    "start_time": "2022-05-11T14:39:45.040Z"
   },
   {
    "duration": 320,
    "start_time": "2022-05-11T14:39:45.290Z"
   },
   {
    "duration": 328,
    "start_time": "2022-05-11T14:39:45.612Z"
   },
   {
    "duration": 13,
    "start_time": "2022-05-11T14:39:45.942Z"
   },
   {
    "duration": 404,
    "start_time": "2022-05-11T14:39:45.958Z"
   },
   {
    "duration": 437,
    "start_time": "2022-05-11T14:39:46.364Z"
   },
   {
    "duration": 156,
    "start_time": "2022-05-11T14:39:46.803Z"
   },
   {
    "duration": 0,
    "start_time": "2022-05-11T14:39:46.961Z"
   },
   {
    "duration": 0,
    "start_time": "2022-05-11T14:39:46.963Z"
   },
   {
    "duration": 0,
    "start_time": "2022-05-11T14:39:46.965Z"
   },
   {
    "duration": 0,
    "start_time": "2022-05-11T14:39:46.967Z"
   },
   {
    "duration": 0,
    "start_time": "2022-05-11T14:39:46.968Z"
   },
   {
    "duration": 0,
    "start_time": "2022-05-11T14:39:46.970Z"
   },
   {
    "duration": 0,
    "start_time": "2022-05-11T14:39:46.971Z"
   },
   {
    "duration": 0,
    "start_time": "2022-05-11T14:39:46.973Z"
   },
   {
    "duration": 0,
    "start_time": "2022-05-11T14:39:46.975Z"
   },
   {
    "duration": 0,
    "start_time": "2022-05-11T14:39:46.976Z"
   },
   {
    "duration": 544,
    "start_time": "2022-05-11T14:40:19.591Z"
   },
   {
    "duration": 1294,
    "start_time": "2022-05-11T19:18:48.449Z"
   },
   {
    "duration": 55,
    "start_time": "2022-05-11T19:18:49.745Z"
   },
   {
    "duration": 13,
    "start_time": "2022-05-11T19:18:49.802Z"
   },
   {
    "duration": 31,
    "start_time": "2022-05-11T19:18:49.818Z"
   },
   {
    "duration": 62,
    "start_time": "2022-05-11T19:18:49.851Z"
   },
   {
    "duration": 6,
    "start_time": "2022-05-11T19:18:49.914Z"
   },
   {
    "duration": 11,
    "start_time": "2022-05-11T19:18:49.922Z"
   },
   {
    "duration": 13,
    "start_time": "2022-05-11T19:18:49.934Z"
   },
   {
    "duration": 14,
    "start_time": "2022-05-11T19:18:49.949Z"
   },
   {
    "duration": 5,
    "start_time": "2022-05-11T19:18:49.966Z"
   },
   {
    "duration": 44,
    "start_time": "2022-05-11T19:18:49.972Z"
   },
   {
    "duration": 21,
    "start_time": "2022-05-11T19:18:50.017Z"
   },
   {
    "duration": 10,
    "start_time": "2022-05-11T19:18:50.039Z"
   },
   {
    "duration": 7,
    "start_time": "2022-05-11T19:18:50.051Z"
   },
   {
    "duration": 4,
    "start_time": "2022-05-11T19:18:50.060Z"
   },
   {
    "duration": 4,
    "start_time": "2022-05-11T19:18:50.066Z"
   },
   {
    "duration": 38,
    "start_time": "2022-05-11T19:18:50.072Z"
   },
   {
    "duration": 13,
    "start_time": "2022-05-11T19:18:50.111Z"
   },
   {
    "duration": 6,
    "start_time": "2022-05-11T19:18:50.125Z"
   },
   {
    "duration": 9,
    "start_time": "2022-05-11T19:18:50.132Z"
   },
   {
    "duration": 7,
    "start_time": "2022-05-11T19:18:50.142Z"
   },
   {
    "duration": 12,
    "start_time": "2022-05-11T19:18:50.150Z"
   },
   {
    "duration": 188,
    "start_time": "2022-05-11T19:18:50.164Z"
   },
   {
    "duration": 113,
    "start_time": "2022-05-11T19:18:50.354Z"
   },
   {
    "duration": 18,
    "start_time": "2022-05-11T19:18:50.469Z"
   },
   {
    "duration": 14,
    "start_time": "2022-05-11T19:18:50.500Z"
   },
   {
    "duration": 234,
    "start_time": "2022-05-11T19:18:50.515Z"
   },
   {
    "duration": 10,
    "start_time": "2022-05-11T19:18:50.753Z"
   },
   {
    "duration": 15,
    "start_time": "2022-05-11T19:18:50.764Z"
   },
   {
    "duration": 38,
    "start_time": "2022-05-11T19:18:50.781Z"
   },
   {
    "duration": 271,
    "start_time": "2022-05-11T19:18:50.821Z"
   },
   {
    "duration": 17,
    "start_time": "2022-05-11T19:18:51.093Z"
   },
   {
    "duration": 3,
    "start_time": "2022-05-11T19:18:51.111Z"
   },
   {
    "duration": 485,
    "start_time": "2022-05-11T19:18:51.115Z"
   },
   {
    "duration": 10,
    "start_time": "2022-05-11T19:18:51.602Z"
   },
   {
    "duration": 432,
    "start_time": "2022-05-11T19:18:51.613Z"
   },
   {
    "duration": 10,
    "start_time": "2022-05-11T19:18:52.047Z"
   },
   {
    "duration": 420,
    "start_time": "2022-05-11T19:18:52.059Z"
   },
   {
    "duration": 20,
    "start_time": "2022-05-11T19:18:52.481Z"
   },
   {
    "duration": 474,
    "start_time": "2022-05-11T19:18:52.503Z"
   },
   {
    "duration": 6,
    "start_time": "2022-05-11T19:18:52.978Z"
   },
   {
    "duration": 24,
    "start_time": "2022-05-11T19:18:52.986Z"
   },
   {
    "duration": 191,
    "start_time": "2022-05-11T19:18:53.012Z"
   },
   {
    "duration": 273,
    "start_time": "2022-05-11T19:18:53.204Z"
   },
   {
    "duration": 267,
    "start_time": "2022-05-11T19:18:53.479Z"
   },
   {
    "duration": 3,
    "start_time": "2022-05-11T19:18:53.749Z"
   },
   {
    "duration": 328,
    "start_time": "2022-05-11T19:18:53.754Z"
   },
   {
    "duration": 318,
    "start_time": "2022-05-11T19:18:54.084Z"
   },
   {
    "duration": 406,
    "start_time": "2022-05-11T19:18:54.403Z"
   },
   {
    "duration": 7,
    "start_time": "2022-05-11T19:18:54.811Z"
   },
   {
    "duration": 20,
    "start_time": "2022-05-11T19:18:54.819Z"
   },
   {
    "duration": 222,
    "start_time": "2022-05-11T19:18:54.840Z"
   },
   {
    "duration": 0,
    "start_time": "2022-05-11T19:18:55.063Z"
   },
   {
    "duration": 0,
    "start_time": "2022-05-11T19:18:55.064Z"
   },
   {
    "duration": 0,
    "start_time": "2022-05-11T19:18:55.065Z"
   },
   {
    "duration": 0,
    "start_time": "2022-05-11T19:18:55.067Z"
   },
   {
    "duration": 0,
    "start_time": "2022-05-11T19:18:55.068Z"
   },
   {
    "duration": 0,
    "start_time": "2022-05-11T19:18:55.069Z"
   },
   {
    "duration": 21,
    "start_time": "2022-05-11T20:13:45.319Z"
   },
   {
    "duration": 146,
    "start_time": "2022-05-11T20:14:15.127Z"
   },
   {
    "duration": 161,
    "start_time": "2022-05-11T20:14:52.487Z"
   },
   {
    "duration": 177,
    "start_time": "2022-05-11T20:15:33.183Z"
   },
   {
    "duration": 157,
    "start_time": "2022-05-11T20:19:50.351Z"
   },
   {
    "duration": 285,
    "start_time": "2022-05-11T20:20:23.243Z"
   },
   {
    "duration": 383,
    "start_time": "2022-05-11T20:22:12.094Z"
   },
   {
    "duration": 802,
    "start_time": "2022-05-11T20:22:44.447Z"
   },
   {
    "duration": 163,
    "start_time": "2022-05-11T20:23:02.926Z"
   },
   {
    "duration": 169,
    "start_time": "2022-05-11T20:24:32.606Z"
   },
   {
    "duration": 126,
    "start_time": "2022-05-11T20:25:29.617Z"
   },
   {
    "duration": 116,
    "start_time": "2022-05-11T20:25:41.889Z"
   },
   {
    "duration": 111,
    "start_time": "2022-05-11T20:25:54.709Z"
   },
   {
    "duration": 114,
    "start_time": "2022-05-11T20:26:04.553Z"
   },
   {
    "duration": 184,
    "start_time": "2022-05-11T20:26:16.946Z"
   },
   {
    "duration": 167,
    "start_time": "2022-05-11T20:26:29.738Z"
   },
   {
    "duration": 9,
    "start_time": "2022-05-11T20:28:07.473Z"
   },
   {
    "duration": 19,
    "start_time": "2022-05-11T20:31:18.418Z"
   },
   {
    "duration": 157,
    "start_time": "2022-05-11T20:31:20.226Z"
   },
   {
    "duration": 151,
    "start_time": "2022-05-11T20:31:30.122Z"
   },
   {
    "duration": 239,
    "start_time": "2022-05-11T20:32:27.274Z"
   },
   {
    "duration": 106,
    "start_time": "2022-05-11T20:33:11.901Z"
   },
   {
    "duration": 101,
    "start_time": "2022-05-11T20:33:20.377Z"
   },
   {
    "duration": 8,
    "start_time": "2022-05-11T20:35:10.086Z"
   },
   {
    "duration": 1647,
    "start_time": "2022-05-11T21:32:25.197Z"
   },
   {
    "duration": 93,
    "start_time": "2022-05-11T21:32:26.846Z"
   },
   {
    "duration": 23,
    "start_time": "2022-05-11T21:32:26.941Z"
   },
   {
    "duration": 55,
    "start_time": "2022-05-11T21:32:26.967Z"
   },
   {
    "duration": 105,
    "start_time": "2022-05-11T21:32:27.025Z"
   },
   {
    "duration": 179,
    "start_time": "2022-05-11T21:32:27.133Z"
   },
   {
    "duration": 24,
    "start_time": "2022-05-11T21:32:27.314Z"
   },
   {
    "duration": 23,
    "start_time": "2022-05-11T21:32:27.340Z"
   },
   {
    "duration": 16,
    "start_time": "2022-05-11T21:32:27.364Z"
   },
   {
    "duration": 6,
    "start_time": "2022-05-11T21:32:27.383Z"
   },
   {
    "duration": 36,
    "start_time": "2022-05-11T21:32:27.390Z"
   },
   {
    "duration": 32,
    "start_time": "2022-05-11T21:32:27.428Z"
   },
   {
    "duration": 17,
    "start_time": "2022-05-11T21:32:27.463Z"
   },
   {
    "duration": 20,
    "start_time": "2022-05-11T21:32:27.482Z"
   },
   {
    "duration": 7,
    "start_time": "2022-05-11T21:32:27.504Z"
   },
   {
    "duration": 8,
    "start_time": "2022-05-11T21:32:27.513Z"
   },
   {
    "duration": 28,
    "start_time": "2022-05-11T21:32:27.523Z"
   },
   {
    "duration": 23,
    "start_time": "2022-05-11T21:32:27.553Z"
   },
   {
    "duration": 9,
    "start_time": "2022-05-11T21:32:27.578Z"
   },
   {
    "duration": 12,
    "start_time": "2022-05-11T21:32:27.589Z"
   },
   {
    "duration": 19,
    "start_time": "2022-05-11T21:32:27.604Z"
   },
   {
    "duration": 23,
    "start_time": "2022-05-11T21:32:27.626Z"
   },
   {
    "duration": 287,
    "start_time": "2022-05-11T21:32:27.651Z"
   },
   {
    "duration": 235,
    "start_time": "2022-05-11T21:32:27.940Z"
   },
   {
    "duration": 38,
    "start_time": "2022-05-11T21:32:28.200Z"
   },
   {
    "duration": 69,
    "start_time": "2022-05-11T21:32:28.241Z"
   },
   {
    "duration": 507,
    "start_time": "2022-05-11T21:32:28.312Z"
   },
   {
    "duration": 14,
    "start_time": "2022-05-11T21:32:28.824Z"
   },
   {
    "duration": 19,
    "start_time": "2022-05-11T21:32:28.841Z"
   },
   {
    "duration": 22,
    "start_time": "2022-05-11T21:32:28.862Z"
   },
   {
    "duration": 371,
    "start_time": "2022-05-11T21:32:28.886Z"
   },
   {
    "duration": 13,
    "start_time": "2022-05-11T21:32:29.259Z"
   },
   {
    "duration": 3,
    "start_time": "2022-05-11T21:32:29.274Z"
   },
   {
    "duration": 543,
    "start_time": "2022-05-11T21:32:29.279Z"
   },
   {
    "duration": 12,
    "start_time": "2022-05-11T21:32:29.824Z"
   },
   {
    "duration": 472,
    "start_time": "2022-05-11T21:32:29.838Z"
   },
   {
    "duration": 19,
    "start_time": "2022-05-11T21:32:30.313Z"
   },
   {
    "duration": 779,
    "start_time": "2022-05-11T21:32:30.335Z"
   },
   {
    "duration": 17,
    "start_time": "2022-05-11T21:32:31.117Z"
   },
   {
    "duration": 912,
    "start_time": "2022-05-11T21:32:31.136Z"
   },
   {
    "duration": 8,
    "start_time": "2022-05-11T21:32:32.050Z"
   },
   {
    "duration": 32,
    "start_time": "2022-05-11T21:32:32.060Z"
   },
   {
    "duration": 346,
    "start_time": "2022-05-11T21:32:32.094Z"
   },
   {
    "duration": 314,
    "start_time": "2022-05-11T21:32:32.443Z"
   },
   {
    "duration": 308,
    "start_time": "2022-05-11T21:32:32.758Z"
   },
   {
    "duration": 5,
    "start_time": "2022-05-11T21:32:33.067Z"
   },
   {
    "duration": 422,
    "start_time": "2022-05-11T21:32:33.073Z"
   },
   {
    "duration": 348,
    "start_time": "2022-05-11T21:32:33.497Z"
   },
   {
    "duration": 852,
    "start_time": "2022-05-11T21:32:33.847Z"
   },
   {
    "duration": 11,
    "start_time": "2022-05-11T21:32:34.701Z"
   },
   {
    "duration": 124,
    "start_time": "2022-05-11T21:32:34.714Z"
   },
   {
    "duration": 287,
    "start_time": "2022-05-11T21:32:34.840Z"
   },
   {
    "duration": 159,
    "start_time": "2022-05-11T21:32:35.129Z"
   },
   {
    "duration": 24,
    "start_time": "2022-05-11T21:32:35.290Z"
   },
   {
    "duration": 30,
    "start_time": "2022-05-11T21:32:35.317Z"
   },
   {
    "duration": 178,
    "start_time": "2022-05-11T21:32:35.349Z"
   },
   {
    "duration": 136,
    "start_time": "2022-05-11T21:32:35.530Z"
   },
   {
    "duration": 9,
    "start_time": "2022-05-11T21:32:35.668Z"
   },
   {
    "duration": 132,
    "start_time": "2022-05-11T21:35:03.513Z"
   },
   {
    "duration": 248,
    "start_time": "2022-05-11T21:35:49.076Z"
   },
   {
    "duration": 166,
    "start_time": "2022-05-11T21:36:18.300Z"
   },
   {
    "duration": 169,
    "start_time": "2022-05-11T21:40:04.371Z"
   },
   {
    "duration": 1174,
    "start_time": "2022-05-11T21:40:23.456Z"
   },
   {
    "duration": 67,
    "start_time": "2022-05-11T21:40:24.632Z"
   },
   {
    "duration": 20,
    "start_time": "2022-05-11T21:40:24.700Z"
   },
   {
    "duration": 33,
    "start_time": "2022-05-11T21:40:24.722Z"
   },
   {
    "duration": 74,
    "start_time": "2022-05-11T21:40:24.757Z"
   },
   {
    "duration": 7,
    "start_time": "2022-05-11T21:40:24.833Z"
   },
   {
    "duration": 11,
    "start_time": "2022-05-11T21:40:24.841Z"
   },
   {
    "duration": 13,
    "start_time": "2022-05-11T21:40:24.854Z"
   },
   {
    "duration": 50,
    "start_time": "2022-05-11T21:40:24.868Z"
   },
   {
    "duration": 6,
    "start_time": "2022-05-11T21:40:24.919Z"
   },
   {
    "duration": 22,
    "start_time": "2022-05-11T21:40:24.927Z"
   },
   {
    "duration": 20,
    "start_time": "2022-05-11T21:40:24.951Z"
   },
   {
    "duration": 41,
    "start_time": "2022-05-11T21:40:24.973Z"
   },
   {
    "duration": 9,
    "start_time": "2022-05-11T21:40:25.018Z"
   },
   {
    "duration": 5,
    "start_time": "2022-05-11T21:40:25.029Z"
   },
   {
    "duration": 7,
    "start_time": "2022-05-11T21:40:25.036Z"
   },
   {
    "duration": 17,
    "start_time": "2022-05-11T21:40:25.044Z"
   },
   {
    "duration": 41,
    "start_time": "2022-05-11T21:40:25.062Z"
   },
   {
    "duration": 13,
    "start_time": "2022-05-11T21:40:25.104Z"
   },
   {
    "duration": 9,
    "start_time": "2022-05-11T21:40:25.118Z"
   },
   {
    "duration": 10,
    "start_time": "2022-05-11T21:40:25.128Z"
   },
   {
    "duration": 15,
    "start_time": "2022-05-11T21:40:25.139Z"
   },
   {
    "duration": 214,
    "start_time": "2022-05-11T21:40:25.156Z"
   },
   {
    "duration": 179,
    "start_time": "2022-05-11T21:40:25.372Z"
   },
   {
    "duration": 113,
    "start_time": "2022-05-11T21:40:25.553Z"
   },
   {
    "duration": 20,
    "start_time": "2022-05-11T21:40:25.667Z"
   },
   {
    "duration": 21,
    "start_time": "2022-05-11T21:40:25.701Z"
   },
   {
    "duration": 358,
    "start_time": "2022-05-11T21:40:25.724Z"
   },
   {
    "duration": 25,
    "start_time": "2022-05-11T21:40:26.084Z"
   },
   {
    "duration": 24,
    "start_time": "2022-05-11T21:40:26.112Z"
   },
   {
    "duration": 23,
    "start_time": "2022-05-11T21:40:26.138Z"
   },
   {
    "duration": 289,
    "start_time": "2022-05-11T21:40:26.163Z"
   },
   {
    "duration": 12,
    "start_time": "2022-05-11T21:40:26.454Z"
   },
   {
    "duration": 6,
    "start_time": "2022-05-11T21:40:26.468Z"
   },
   {
    "duration": 523,
    "start_time": "2022-05-11T21:40:26.476Z"
   },
   {
    "duration": 23,
    "start_time": "2022-05-11T21:40:27.000Z"
   },
   {
    "duration": 768,
    "start_time": "2022-05-11T21:40:27.026Z"
   },
   {
    "duration": 11,
    "start_time": "2022-05-11T21:40:27.800Z"
   },
   {
    "duration": 464,
    "start_time": "2022-05-11T21:40:27.812Z"
   },
   {
    "duration": 12,
    "start_time": "2022-05-11T21:40:28.278Z"
   },
   {
    "duration": 922,
    "start_time": "2022-05-11T21:40:28.302Z"
   },
   {
    "duration": 8,
    "start_time": "2022-05-11T21:40:29.226Z"
   },
   {
    "duration": 22,
    "start_time": "2022-05-11T21:40:29.236Z"
   },
   {
    "duration": 332,
    "start_time": "2022-05-11T21:40:29.260Z"
   },
   {
    "duration": 416,
    "start_time": "2022-05-11T21:40:29.599Z"
   },
   {
    "duration": 456,
    "start_time": "2022-05-11T21:40:30.017Z"
   },
   {
    "duration": 5,
    "start_time": "2022-05-11T21:40:30.476Z"
   },
   {
    "duration": 357,
    "start_time": "2022-05-11T21:40:30.483Z"
   },
   {
    "duration": 350,
    "start_time": "2022-05-11T21:40:30.842Z"
   },
   {
    "duration": 490,
    "start_time": "2022-05-11T21:40:31.194Z"
   },
   {
    "duration": 17,
    "start_time": "2022-05-11T21:40:31.687Z"
   },
   {
    "duration": 26,
    "start_time": "2022-05-11T21:40:31.706Z"
   },
   {
    "duration": 199,
    "start_time": "2022-05-11T21:40:31.734Z"
   },
   {
    "duration": 124,
    "start_time": "2022-05-11T21:40:31.935Z"
   },
   {
    "duration": 10,
    "start_time": "2022-05-11T21:40:32.061Z"
   },
   {
    "duration": 40,
    "start_time": "2022-05-11T21:40:32.073Z"
   },
   {
    "duration": 192,
    "start_time": "2022-05-11T21:40:32.115Z"
   },
   {
    "duration": 121,
    "start_time": "2022-05-11T21:40:32.309Z"
   },
   {
    "duration": 10,
    "start_time": "2022-05-11T21:40:32.431Z"
   },
   {
    "duration": 1213,
    "start_time": "2022-05-11T21:45:27.439Z"
   },
   {
    "duration": 59,
    "start_time": "2022-05-11T21:45:28.653Z"
   },
   {
    "duration": 17,
    "start_time": "2022-05-11T21:45:28.714Z"
   },
   {
    "duration": 31,
    "start_time": "2022-05-11T21:45:28.733Z"
   },
   {
    "duration": 71,
    "start_time": "2022-05-11T21:45:28.766Z"
   },
   {
    "duration": 6,
    "start_time": "2022-05-11T21:45:28.839Z"
   },
   {
    "duration": 12,
    "start_time": "2022-05-11T21:45:28.846Z"
   },
   {
    "duration": 13,
    "start_time": "2022-05-11T21:45:28.859Z"
   },
   {
    "duration": 43,
    "start_time": "2022-05-11T21:45:28.874Z"
   },
   {
    "duration": 5,
    "start_time": "2022-05-11T21:45:28.920Z"
   },
   {
    "duration": 24,
    "start_time": "2022-05-11T21:45:28.927Z"
   },
   {
    "duration": 19,
    "start_time": "2022-05-11T21:45:28.952Z"
   },
   {
    "duration": 42,
    "start_time": "2022-05-11T21:45:28.972Z"
   },
   {
    "duration": 11,
    "start_time": "2022-05-11T21:45:29.016Z"
   },
   {
    "duration": 10,
    "start_time": "2022-05-11T21:45:29.029Z"
   },
   {
    "duration": 4,
    "start_time": "2022-05-11T21:45:29.041Z"
   },
   {
    "duration": 17,
    "start_time": "2022-05-11T21:45:29.046Z"
   },
   {
    "duration": 46,
    "start_time": "2022-05-11T21:45:29.065Z"
   },
   {
    "duration": 6,
    "start_time": "2022-05-11T21:45:29.115Z"
   },
   {
    "duration": 9,
    "start_time": "2022-05-11T21:45:29.123Z"
   },
   {
    "duration": 7,
    "start_time": "2022-05-11T21:45:29.133Z"
   },
   {
    "duration": 16,
    "start_time": "2022-05-11T21:45:29.141Z"
   },
   {
    "duration": 183,
    "start_time": "2022-05-11T21:45:29.158Z"
   },
   {
    "duration": 108,
    "start_time": "2022-05-11T21:45:29.343Z"
   },
   {
    "duration": 18,
    "start_time": "2022-05-11T21:45:29.452Z"
   },
   {
    "duration": 29,
    "start_time": "2022-05-11T21:45:29.472Z"
   },
   {
    "duration": 243,
    "start_time": "2022-05-11T21:45:29.502Z"
   },
   {
    "duration": 9,
    "start_time": "2022-05-11T21:45:29.749Z"
   },
   {
    "duration": 14,
    "start_time": "2022-05-11T21:45:29.760Z"
   },
   {
    "duration": 40,
    "start_time": "2022-05-11T21:45:29.776Z"
   },
   {
    "duration": 277,
    "start_time": "2022-05-11T21:45:29.817Z"
   },
   {
    "duration": 18,
    "start_time": "2022-05-11T21:45:30.101Z"
   },
   {
    "duration": 5,
    "start_time": "2022-05-11T21:45:30.121Z"
   },
   {
    "duration": 562,
    "start_time": "2022-05-11T21:45:30.128Z"
   },
   {
    "duration": 18,
    "start_time": "2022-05-11T21:45:30.692Z"
   },
   {
    "duration": 558,
    "start_time": "2022-05-11T21:45:30.712Z"
   },
   {
    "duration": 12,
    "start_time": "2022-05-11T21:45:31.271Z"
   },
   {
    "duration": 447,
    "start_time": "2022-05-11T21:45:31.285Z"
   },
   {
    "duration": 12,
    "start_time": "2022-05-11T21:45:31.734Z"
   },
   {
    "duration": 564,
    "start_time": "2022-05-11T21:45:31.748Z"
   },
   {
    "duration": 9,
    "start_time": "2022-05-11T21:45:32.314Z"
   },
   {
    "duration": 18,
    "start_time": "2022-05-11T21:45:32.324Z"
   },
   {
    "duration": 209,
    "start_time": "2022-05-11T21:45:32.343Z"
   },
   {
    "duration": 280,
    "start_time": "2022-05-11T21:45:32.554Z"
   },
   {
    "duration": 394,
    "start_time": "2022-05-11T21:45:32.836Z"
   },
   {
    "duration": 3,
    "start_time": "2022-05-11T21:45:33.232Z"
   },
   {
    "duration": 343,
    "start_time": "2022-05-11T21:45:33.237Z"
   },
   {
    "duration": 345,
    "start_time": "2022-05-11T21:45:33.582Z"
   },
   {
    "duration": 448,
    "start_time": "2022-05-11T21:45:33.929Z"
   },
   {
    "duration": 7,
    "start_time": "2022-05-11T21:45:34.379Z"
   },
   {
    "duration": 37,
    "start_time": "2022-05-11T21:45:34.387Z"
   },
   {
    "duration": 299,
    "start_time": "2022-05-11T21:45:34.426Z"
   },
   {
    "duration": 124,
    "start_time": "2022-05-11T21:45:34.728Z"
   },
   {
    "duration": 9,
    "start_time": "2022-05-11T21:45:34.853Z"
   },
   {
    "duration": 22,
    "start_time": "2022-05-11T21:45:34.863Z"
   },
   {
    "duration": 196,
    "start_time": "2022-05-11T21:45:34.886Z"
   },
   {
    "duration": 117,
    "start_time": "2022-05-11T21:45:35.084Z"
   },
   {
    "duration": 12,
    "start_time": "2022-05-11T21:45:35.203Z"
   },
   {
    "duration": 1289,
    "start_time": "2022-05-11T21:47:48.377Z"
   },
   {
    "duration": 61,
    "start_time": "2022-05-11T21:47:49.668Z"
   },
   {
    "duration": 15,
    "start_time": "2022-05-11T21:47:49.731Z"
   },
   {
    "duration": 54,
    "start_time": "2022-05-11T21:47:49.748Z"
   },
   {
    "duration": 66,
    "start_time": "2022-05-11T21:47:49.804Z"
   },
   {
    "duration": 9,
    "start_time": "2022-05-11T21:47:49.872Z"
   },
   {
    "duration": 25,
    "start_time": "2022-05-11T21:47:49.883Z"
   },
   {
    "duration": 30,
    "start_time": "2022-05-11T21:47:49.911Z"
   },
   {
    "duration": 28,
    "start_time": "2022-05-11T21:47:49.943Z"
   },
   {
    "duration": 32,
    "start_time": "2022-05-11T21:47:49.976Z"
   },
   {
    "duration": 36,
    "start_time": "2022-05-11T21:47:50.015Z"
   },
   {
    "duration": 21,
    "start_time": "2022-05-11T21:47:50.053Z"
   },
   {
    "duration": 39,
    "start_time": "2022-05-11T21:47:50.076Z"
   },
   {
    "duration": 17,
    "start_time": "2022-05-11T21:47:50.117Z"
   },
   {
    "duration": 5,
    "start_time": "2022-05-11T21:47:50.136Z"
   },
   {
    "duration": 6,
    "start_time": "2022-05-11T21:47:50.143Z"
   },
   {
    "duration": 27,
    "start_time": "2022-05-11T21:47:50.151Z"
   },
   {
    "duration": 28,
    "start_time": "2022-05-11T21:47:50.199Z"
   },
   {
    "duration": 10,
    "start_time": "2022-05-11T21:47:50.229Z"
   },
   {
    "duration": 8,
    "start_time": "2022-05-11T21:47:50.241Z"
   },
   {
    "duration": 8,
    "start_time": "2022-05-11T21:47:50.251Z"
   },
   {
    "duration": 46,
    "start_time": "2022-05-11T21:47:50.260Z"
   },
   {
    "duration": 381,
    "start_time": "2022-05-11T21:47:50.310Z"
   },
   {
    "duration": 130,
    "start_time": "2022-05-11T21:47:50.694Z"
   },
   {
    "duration": 32,
    "start_time": "2022-05-11T21:47:50.826Z"
   },
   {
    "duration": 18,
    "start_time": "2022-05-11T21:47:50.861Z"
   },
   {
    "duration": 395,
    "start_time": "2022-05-11T21:47:50.881Z"
   },
   {
    "duration": 23,
    "start_time": "2022-05-11T21:47:51.281Z"
   },
   {
    "duration": 18,
    "start_time": "2022-05-11T21:47:51.307Z"
   },
   {
    "duration": 22,
    "start_time": "2022-05-11T21:47:51.327Z"
   },
   {
    "duration": 308,
    "start_time": "2022-05-11T21:47:51.351Z"
   },
   {
    "duration": 13,
    "start_time": "2022-05-11T21:47:51.661Z"
   },
   {
    "duration": 8,
    "start_time": "2022-05-11T21:47:51.675Z"
   },
   {
    "duration": 934,
    "start_time": "2022-05-11T21:47:51.699Z"
   },
   {
    "duration": 14,
    "start_time": "2022-05-11T21:47:52.635Z"
   },
   {
    "duration": 497,
    "start_time": "2022-05-11T21:47:52.651Z"
   },
   {
    "duration": 12,
    "start_time": "2022-05-11T21:47:53.150Z"
   },
   {
    "duration": 624,
    "start_time": "2022-05-11T21:47:53.163Z"
   },
   {
    "duration": 20,
    "start_time": "2022-05-11T21:47:53.789Z"
   },
   {
    "duration": 1034,
    "start_time": "2022-05-11T21:47:53.813Z"
   },
   {
    "duration": 9,
    "start_time": "2022-05-11T21:47:54.850Z"
   },
   {
    "duration": 21,
    "start_time": "2022-05-11T21:47:54.861Z"
   },
   {
    "duration": 431,
    "start_time": "2022-05-11T21:47:54.884Z"
   },
   {
    "duration": 282,
    "start_time": "2022-05-11T21:47:55.318Z"
   },
   {
    "duration": 303,
    "start_time": "2022-05-11T21:47:55.609Z"
   },
   {
    "duration": 5,
    "start_time": "2022-05-11T21:47:55.914Z"
   },
   {
    "duration": 365,
    "start_time": "2022-05-11T21:47:55.921Z"
   },
   {
    "duration": 373,
    "start_time": "2022-05-11T21:47:56.288Z"
   },
   {
    "duration": 484,
    "start_time": "2022-05-11T21:47:56.663Z"
   },
   {
    "duration": 8,
    "start_time": "2022-05-11T21:47:57.149Z"
   },
   {
    "duration": 54,
    "start_time": "2022-05-11T21:47:57.160Z"
   },
   {
    "duration": 393,
    "start_time": "2022-05-11T21:47:57.217Z"
   },
   {
    "duration": 198,
    "start_time": "2022-05-11T21:47:57.613Z"
   },
   {
    "duration": 10,
    "start_time": "2022-05-11T21:47:57.815Z"
   },
   {
    "duration": 26,
    "start_time": "2022-05-11T21:47:57.827Z"
   },
   {
    "duration": 286,
    "start_time": "2022-05-11T21:47:57.855Z"
   },
   {
    "duration": 187,
    "start_time": "2022-05-11T21:47:58.144Z"
   },
   {
    "duration": 15,
    "start_time": "2022-05-11T21:47:58.334Z"
   },
   {
    "duration": 1631,
    "start_time": "2022-05-11T21:50:37.905Z"
   },
   {
    "duration": 89,
    "start_time": "2022-05-11T21:50:39.539Z"
   },
   {
    "duration": 26,
    "start_time": "2022-05-11T21:50:39.631Z"
   },
   {
    "duration": 53,
    "start_time": "2022-05-11T21:50:39.661Z"
   },
   {
    "duration": 48,
    "start_time": "2022-05-11T21:50:39.716Z"
   },
   {
    "duration": 6,
    "start_time": "2022-05-11T21:50:39.766Z"
   },
   {
    "duration": 29,
    "start_time": "2022-05-11T21:50:39.774Z"
   },
   {
    "duration": 14,
    "start_time": "2022-05-11T21:50:39.805Z"
   },
   {
    "duration": 17,
    "start_time": "2022-05-11T21:50:39.821Z"
   },
   {
    "duration": 6,
    "start_time": "2022-05-11T21:50:39.841Z"
   },
   {
    "duration": 51,
    "start_time": "2022-05-11T21:50:39.849Z"
   },
   {
    "duration": 19,
    "start_time": "2022-05-11T21:50:39.902Z"
   },
   {
    "duration": 11,
    "start_time": "2022-05-11T21:50:39.922Z"
   },
   {
    "duration": 6,
    "start_time": "2022-05-11T21:50:39.935Z"
   },
   {
    "duration": 5,
    "start_time": "2022-05-11T21:50:39.942Z"
   },
   {
    "duration": 5,
    "start_time": "2022-05-11T21:50:39.949Z"
   },
   {
    "duration": 49,
    "start_time": "2022-05-11T21:50:39.955Z"
   },
   {
    "duration": 15,
    "start_time": "2022-05-11T21:50:40.005Z"
   },
   {
    "duration": 7,
    "start_time": "2022-05-11T21:50:40.022Z"
   },
   {
    "duration": 9,
    "start_time": "2022-05-11T21:50:40.030Z"
   },
   {
    "duration": 7,
    "start_time": "2022-05-11T21:50:40.041Z"
   },
   {
    "duration": 14,
    "start_time": "2022-05-11T21:50:40.049Z"
   },
   {
    "duration": 211,
    "start_time": "2022-05-11T21:50:40.065Z"
   },
   {
    "duration": 101,
    "start_time": "2022-05-11T21:50:40.278Z"
   },
   {
    "duration": 29,
    "start_time": "2022-05-11T21:50:40.381Z"
   },
   {
    "duration": 16,
    "start_time": "2022-05-11T21:50:40.411Z"
   },
   {
    "duration": 235,
    "start_time": "2022-05-11T21:50:40.428Z"
   },
   {
    "duration": 10,
    "start_time": "2022-05-11T21:50:40.667Z"
   },
   {
    "duration": 25,
    "start_time": "2022-05-11T21:50:40.679Z"
   },
   {
    "duration": 22,
    "start_time": "2022-05-11T21:50:40.705Z"
   },
   {
    "duration": 265,
    "start_time": "2022-05-11T21:50:40.729Z"
   },
   {
    "duration": 11,
    "start_time": "2022-05-11T21:50:41.000Z"
   },
   {
    "duration": 4,
    "start_time": "2022-05-11T21:50:41.013Z"
   },
   {
    "duration": 506,
    "start_time": "2022-05-11T21:50:41.018Z"
   },
   {
    "duration": 11,
    "start_time": "2022-05-11T21:50:41.526Z"
   },
   {
    "duration": 428,
    "start_time": "2022-05-11T21:50:41.539Z"
   },
   {
    "duration": 12,
    "start_time": "2022-05-11T21:50:41.969Z"
   },
   {
    "duration": 427,
    "start_time": "2022-05-11T21:50:41.982Z"
   },
   {
    "duration": 11,
    "start_time": "2022-05-11T21:50:42.411Z"
   },
   {
    "duration": 509,
    "start_time": "2022-05-11T21:50:42.423Z"
   },
   {
    "duration": 8,
    "start_time": "2022-05-11T21:50:42.935Z"
   },
   {
    "duration": 24,
    "start_time": "2022-05-11T21:50:42.945Z"
   },
   {
    "duration": 332,
    "start_time": "2022-05-11T21:50:42.971Z"
   },
   {
    "duration": 325,
    "start_time": "2022-05-11T21:50:43.305Z"
   },
   {
    "duration": 280,
    "start_time": "2022-05-11T21:50:43.632Z"
   },
   {
    "duration": 3,
    "start_time": "2022-05-11T21:50:43.914Z"
   },
   {
    "duration": 330,
    "start_time": "2022-05-11T21:50:43.919Z"
   },
   {
    "duration": 325,
    "start_time": "2022-05-11T21:50:44.250Z"
   },
   {
    "duration": 441,
    "start_time": "2022-05-11T21:50:44.577Z"
   },
   {
    "duration": 7,
    "start_time": "2022-05-11T21:50:45.019Z"
   },
   {
    "duration": 31,
    "start_time": "2022-05-11T21:50:45.028Z"
   },
   {
    "duration": 299,
    "start_time": "2022-05-11T21:50:45.061Z"
   },
   {
    "duration": 189,
    "start_time": "2022-05-11T21:50:45.362Z"
   },
   {
    "duration": 12,
    "start_time": "2022-05-11T21:50:45.553Z"
   },
   {
    "duration": 41,
    "start_time": "2022-05-11T21:50:45.567Z"
   },
   {
    "duration": 256,
    "start_time": "2022-05-11T21:50:45.610Z"
   },
   {
    "duration": 172,
    "start_time": "2022-05-11T21:50:45.868Z"
   },
   {
    "duration": 13,
    "start_time": "2022-05-11T21:50:46.043Z"
   },
   {
    "duration": 80,
    "start_time": "2022-05-12T13:30:40.748Z"
   },
   {
    "duration": 1521,
    "start_time": "2022-05-12T13:30:56.860Z"
   },
   {
    "duration": 140,
    "start_time": "2022-05-12T13:30:58.384Z"
   },
   {
    "duration": 22,
    "start_time": "2022-05-12T13:30:58.526Z"
   },
   {
    "duration": 63,
    "start_time": "2022-05-12T13:30:58.551Z"
   },
   {
    "duration": 81,
    "start_time": "2022-05-12T13:30:58.616Z"
   },
   {
    "duration": 9,
    "start_time": "2022-05-12T13:30:58.700Z"
   },
   {
    "duration": 41,
    "start_time": "2022-05-12T13:30:58.711Z"
   },
   {
    "duration": 28,
    "start_time": "2022-05-12T13:30:58.755Z"
   },
   {
    "duration": 38,
    "start_time": "2022-05-12T13:30:58.786Z"
   },
   {
    "duration": 8,
    "start_time": "2022-05-12T13:30:58.828Z"
   },
   {
    "duration": 49,
    "start_time": "2022-05-12T13:30:58.838Z"
   },
   {
    "duration": 32,
    "start_time": "2022-05-12T13:30:58.889Z"
   },
   {
    "duration": 40,
    "start_time": "2022-05-12T13:30:58.924Z"
   },
   {
    "duration": 22,
    "start_time": "2022-05-12T13:30:58.967Z"
   },
   {
    "duration": 13,
    "start_time": "2022-05-12T13:30:58.992Z"
   },
   {
    "duration": 13,
    "start_time": "2022-05-12T13:30:59.007Z"
   },
   {
    "duration": 32,
    "start_time": "2022-05-12T13:30:59.022Z"
   },
   {
    "duration": 20,
    "start_time": "2022-05-12T13:30:59.057Z"
   },
   {
    "duration": 14,
    "start_time": "2022-05-12T13:30:59.079Z"
   },
   {
    "duration": 14,
    "start_time": "2022-05-12T13:30:59.096Z"
   },
   {
    "duration": 50,
    "start_time": "2022-05-12T13:30:59.113Z"
   },
   {
    "duration": 86,
    "start_time": "2022-05-12T13:30:59.166Z"
   },
   {
    "duration": 614,
    "start_time": "2022-05-12T13:30:59.255Z"
   },
   {
    "duration": 382,
    "start_time": "2022-05-12T13:30:59.872Z"
   },
   {
    "duration": 32,
    "start_time": "2022-05-12T13:31:00.256Z"
   },
   {
    "duration": 80,
    "start_time": "2022-05-12T13:31:00.290Z"
   },
   {
    "duration": 884,
    "start_time": "2022-05-12T13:31:00.372Z"
   },
   {
    "duration": 15,
    "start_time": "2022-05-12T13:31:01.261Z"
   },
   {
    "duration": 90,
    "start_time": "2022-05-12T13:31:01.279Z"
   },
   {
    "duration": 92,
    "start_time": "2022-05-12T13:31:01.371Z"
   },
   {
    "duration": 795,
    "start_time": "2022-05-12T13:31:01.465Z"
   },
   {
    "duration": 18,
    "start_time": "2022-05-12T13:31:02.263Z"
   },
   {
    "duration": 10,
    "start_time": "2022-05-12T13:31:02.283Z"
   },
   {
    "duration": 888,
    "start_time": "2022-05-12T13:31:02.295Z"
   },
   {
    "duration": 17,
    "start_time": "2022-05-12T13:31:03.185Z"
   },
   {
    "duration": 801,
    "start_time": "2022-05-12T13:31:03.204Z"
   },
   {
    "duration": 17,
    "start_time": "2022-05-12T13:31:04.007Z"
   },
   {
    "duration": 831,
    "start_time": "2022-05-12T13:31:04.027Z"
   },
   {
    "duration": 18,
    "start_time": "2022-05-12T13:31:04.861Z"
   },
   {
    "duration": 896,
    "start_time": "2022-05-12T13:31:04.881Z"
   },
   {
    "duration": 13,
    "start_time": "2022-05-12T13:31:05.780Z"
   },
   {
    "duration": 32,
    "start_time": "2022-05-12T13:31:05.796Z"
   },
   {
    "duration": 431,
    "start_time": "2022-05-12T13:31:05.852Z"
   },
   {
    "duration": 512,
    "start_time": "2022-05-12T13:31:06.286Z"
   },
   {
    "duration": 516,
    "start_time": "2022-05-12T13:31:06.801Z"
   },
   {
    "duration": 6,
    "start_time": "2022-05-12T13:31:07.320Z"
   },
   {
    "duration": 650,
    "start_time": "2022-05-12T13:31:07.329Z"
   },
   {
    "duration": 435,
    "start_time": "2022-05-12T13:31:07.982Z"
   },
   {
    "duration": 735,
    "start_time": "2022-05-12T13:31:08.419Z"
   },
   {
    "duration": 758,
    "start_time": "2022-05-12T13:31:09.157Z"
   },
   {
    "duration": 11,
    "start_time": "2022-05-12T13:31:09.917Z"
   },
   {
    "duration": 51,
    "start_time": "2022-05-12T13:31:09.930Z"
   },
   {
    "duration": 479,
    "start_time": "2022-05-12T13:31:09.983Z"
   },
   {
    "duration": 452,
    "start_time": "2022-05-12T13:31:10.465Z"
   },
   {
    "duration": 18,
    "start_time": "2022-05-12T13:31:10.920Z"
   },
   {
    "duration": 51,
    "start_time": "2022-05-12T13:31:10.953Z"
   },
   {
    "duration": 493,
    "start_time": "2022-05-12T13:31:11.007Z"
   },
   {
    "duration": 209,
    "start_time": "2022-05-12T13:31:11.503Z"
   },
   {
    "duration": 14,
    "start_time": "2022-05-12T13:31:11.715Z"
   },
   {
    "duration": 566,
    "start_time": "2022-05-12T13:32:15.007Z"
   },
   {
    "duration": 443,
    "start_time": "2022-05-12T13:32:38.549Z"
   },
   {
    "duration": 423,
    "start_time": "2022-05-12T13:33:06.430Z"
   },
   {
    "duration": 532,
    "start_time": "2022-05-12T13:33:15.051Z"
   },
   {
    "duration": 1522,
    "start_time": "2022-05-12T13:34:03.345Z"
   },
   {
    "duration": 67,
    "start_time": "2022-05-12T13:34:04.870Z"
   },
   {
    "duration": 30,
    "start_time": "2022-05-12T13:34:04.939Z"
   },
   {
    "duration": 48,
    "start_time": "2022-05-12T13:34:04.972Z"
   },
   {
    "duration": 96,
    "start_time": "2022-05-12T13:34:05.023Z"
   },
   {
    "duration": 9,
    "start_time": "2022-05-12T13:34:05.121Z"
   },
   {
    "duration": 17,
    "start_time": "2022-05-12T13:34:05.152Z"
   },
   {
    "duration": 25,
    "start_time": "2022-05-12T13:34:05.171Z"
   },
   {
    "duration": 53,
    "start_time": "2022-05-12T13:34:05.198Z"
   },
   {
    "duration": 10,
    "start_time": "2022-05-12T13:34:05.257Z"
   },
   {
    "duration": 32,
    "start_time": "2022-05-12T13:34:05.270Z"
   },
   {
    "duration": 67,
    "start_time": "2022-05-12T13:34:05.305Z"
   },
   {
    "duration": 16,
    "start_time": "2022-05-12T13:34:05.374Z"
   },
   {
    "duration": 10,
    "start_time": "2022-05-12T13:34:05.392Z"
   },
   {
    "duration": 11,
    "start_time": "2022-05-12T13:34:05.403Z"
   },
   {
    "duration": 36,
    "start_time": "2022-05-12T13:34:05.416Z"
   },
   {
    "duration": 26,
    "start_time": "2022-05-12T13:34:05.454Z"
   },
   {
    "duration": 20,
    "start_time": "2022-05-12T13:34:05.482Z"
   },
   {
    "duration": 10,
    "start_time": "2022-05-12T13:34:05.504Z"
   },
   {
    "duration": 39,
    "start_time": "2022-05-12T13:34:05.516Z"
   },
   {
    "duration": 12,
    "start_time": "2022-05-12T13:34:05.557Z"
   },
   {
    "duration": 30,
    "start_time": "2022-05-12T13:34:05.571Z"
   },
   {
    "duration": 340,
    "start_time": "2022-05-12T13:34:05.603Z"
   },
   {
    "duration": 189,
    "start_time": "2022-05-12T13:34:05.945Z"
   },
   {
    "duration": 41,
    "start_time": "2022-05-12T13:34:06.136Z"
   },
   {
    "duration": 26,
    "start_time": "2022-05-12T13:34:06.180Z"
   },
   {
    "duration": 446,
    "start_time": "2022-05-12T13:34:06.209Z"
   },
   {
    "duration": 13,
    "start_time": "2022-05-12T13:34:06.661Z"
   },
   {
    "duration": 21,
    "start_time": "2022-05-12T13:34:06.676Z"
   },
   {
    "duration": 60,
    "start_time": "2022-05-12T13:34:06.699Z"
   },
   {
    "duration": 490,
    "start_time": "2022-05-12T13:34:06.761Z"
   },
   {
    "duration": 18,
    "start_time": "2022-05-12T13:34:07.254Z"
   },
   {
    "duration": 11,
    "start_time": "2022-05-12T13:34:07.274Z"
   },
   {
    "duration": 1081,
    "start_time": "2022-05-12T13:34:07.287Z"
   },
   {
    "duration": 17,
    "start_time": "2022-05-12T13:34:08.370Z"
   },
   {
    "duration": 1565,
    "start_time": "2022-05-12T13:34:08.389Z"
   },
   {
    "duration": 17,
    "start_time": "2022-05-12T13:34:09.957Z"
   },
   {
    "duration": 1151,
    "start_time": "2022-05-12T13:34:09.976Z"
   },
   {
    "duration": 26,
    "start_time": "2022-05-12T13:34:11.129Z"
   },
   {
    "duration": 859,
    "start_time": "2022-05-12T13:34:11.157Z"
   },
   {
    "duration": 10,
    "start_time": "2022-05-12T13:34:12.019Z"
   },
   {
    "duration": 38,
    "start_time": "2022-05-12T13:34:12.031Z"
   },
   {
    "duration": 361,
    "start_time": "2022-05-12T13:34:12.071Z"
   },
   {
    "duration": 487,
    "start_time": "2022-05-12T13:34:12.435Z"
   },
   {
    "duration": 503,
    "start_time": "2022-05-12T13:34:12.924Z"
   },
   {
    "duration": 7,
    "start_time": "2022-05-12T13:34:13.430Z"
   },
   {
    "duration": 613,
    "start_time": "2022-05-12T13:34:13.453Z"
   },
   {
    "duration": 494,
    "start_time": "2022-05-12T13:34:14.068Z"
   },
   {
    "duration": 738,
    "start_time": "2022-05-12T13:34:14.564Z"
   },
   {
    "duration": 653,
    "start_time": "2022-05-12T13:34:15.305Z"
   },
   {
    "duration": 11,
    "start_time": "2022-05-12T13:34:15.961Z"
   },
   {
    "duration": 42,
    "start_time": "2022-05-12T13:34:15.974Z"
   },
   {
    "duration": 350,
    "start_time": "2022-05-12T13:34:16.019Z"
   },
   {
    "duration": 218,
    "start_time": "2022-05-12T13:34:16.371Z"
   },
   {
    "duration": 14,
    "start_time": "2022-05-12T13:34:16.591Z"
   },
   {
    "duration": 53,
    "start_time": "2022-05-12T13:34:16.607Z"
   },
   {
    "duration": 296,
    "start_time": "2022-05-12T13:34:16.662Z"
   },
   {
    "duration": 207,
    "start_time": "2022-05-12T13:34:16.961Z"
   },
   {
    "duration": 13,
    "start_time": "2022-05-12T13:34:17.171Z"
   },
   {
    "duration": 107,
    "start_time": "2022-05-12T13:35:34.034Z"
   },
   {
    "duration": 1534,
    "start_time": "2022-05-12T13:40:51.241Z"
   },
   {
    "duration": 139,
    "start_time": "2022-05-12T13:40:52.777Z"
   },
   {
    "duration": 21,
    "start_time": "2022-05-12T13:40:52.918Z"
   },
   {
    "duration": 53,
    "start_time": "2022-05-12T13:40:52.941Z"
   },
   {
    "duration": 101,
    "start_time": "2022-05-12T13:40:52.997Z"
   },
   {
    "duration": 9,
    "start_time": "2022-05-12T13:40:53.100Z"
   },
   {
    "duration": 42,
    "start_time": "2022-05-12T13:40:53.111Z"
   },
   {
    "duration": 22,
    "start_time": "2022-05-12T13:40:53.155Z"
   },
   {
    "duration": 26,
    "start_time": "2022-05-12T13:40:53.179Z"
   },
   {
    "duration": 8,
    "start_time": "2022-05-12T13:40:53.207Z"
   },
   {
    "duration": 32,
    "start_time": "2022-05-12T13:40:53.253Z"
   },
   {
    "duration": 32,
    "start_time": "2022-05-12T13:40:53.287Z"
   },
   {
    "duration": 42,
    "start_time": "2022-05-12T13:40:53.322Z"
   },
   {
    "duration": 11,
    "start_time": "2022-05-12T13:40:53.369Z"
   },
   {
    "duration": 8,
    "start_time": "2022-05-12T13:40:53.382Z"
   },
   {
    "duration": 9,
    "start_time": "2022-05-12T13:40:53.392Z"
   },
   {
    "duration": 65,
    "start_time": "2022-05-12T13:40:53.403Z"
   },
   {
    "duration": 21,
    "start_time": "2022-05-12T13:40:53.470Z"
   },
   {
    "duration": 9,
    "start_time": "2022-05-12T13:40:53.493Z"
   },
   {
    "duration": 48,
    "start_time": "2022-05-12T13:40:53.504Z"
   },
   {
    "duration": 8,
    "start_time": "2022-05-12T13:40:53.554Z"
   },
   {
    "duration": 20,
    "start_time": "2022-05-12T13:40:53.564Z"
   },
   {
    "duration": 350,
    "start_time": "2022-05-12T13:40:53.586Z"
   },
   {
    "duration": 190,
    "start_time": "2022-05-12T13:40:53.938Z"
   },
   {
    "duration": 42,
    "start_time": "2022-05-12T13:40:54.132Z"
   },
   {
    "duration": 24,
    "start_time": "2022-05-12T13:40:54.176Z"
   },
   {
    "duration": 437,
    "start_time": "2022-05-12T13:40:54.203Z"
   },
   {
    "duration": 17,
    "start_time": "2022-05-12T13:40:54.642Z"
   },
   {
    "duration": 20,
    "start_time": "2022-05-12T13:40:54.661Z"
   },
   {
    "duration": 71,
    "start_time": "2022-05-12T13:40:54.683Z"
   },
   {
    "duration": 521,
    "start_time": "2022-05-12T13:40:54.757Z"
   },
   {
    "duration": 20,
    "start_time": "2022-05-12T13:40:55.281Z"
   },
   {
    "duration": 5,
    "start_time": "2022-05-12T13:40:55.304Z"
   },
   {
    "duration": 1001,
    "start_time": "2022-05-12T13:40:55.312Z"
   },
   {
    "duration": 17,
    "start_time": "2022-05-12T13:40:56.316Z"
   },
   {
    "duration": 800,
    "start_time": "2022-05-12T13:40:56.335Z"
   },
   {
    "duration": 26,
    "start_time": "2022-05-12T13:40:57.137Z"
   },
   {
    "duration": 791,
    "start_time": "2022-05-12T13:40:57.165Z"
   },
   {
    "duration": 16,
    "start_time": "2022-05-12T13:40:57.958Z"
   },
   {
    "duration": 876,
    "start_time": "2022-05-12T13:40:57.976Z"
   },
   {
    "duration": 10,
    "start_time": "2022-05-12T13:40:58.858Z"
   },
   {
    "duration": 28,
    "start_time": "2022-05-12T13:40:58.871Z"
   },
   {
    "duration": 396,
    "start_time": "2022-05-12T13:40:58.902Z"
   },
   {
    "duration": 495,
    "start_time": "2022-05-12T13:40:59.301Z"
   },
   {
    "duration": 521,
    "start_time": "2022-05-12T13:40:59.799Z"
   },
   {
    "duration": 6,
    "start_time": "2022-05-12T13:41:00.323Z"
   },
   {
    "duration": 706,
    "start_time": "2022-05-12T13:41:00.331Z"
   },
   {
    "duration": 513,
    "start_time": "2022-05-12T13:41:01.040Z"
   },
   {
    "duration": 762,
    "start_time": "2022-05-12T13:41:01.556Z"
   },
   {
    "duration": 640,
    "start_time": "2022-05-12T13:41:02.321Z"
   },
   {
    "duration": 9,
    "start_time": "2022-05-12T13:41:02.964Z"
   },
   {
    "duration": 52,
    "start_time": "2022-05-12T13:41:02.976Z"
   },
   {
    "duration": 477,
    "start_time": "2022-05-12T13:41:03.051Z"
   },
   {
    "duration": 225,
    "start_time": "2022-05-12T13:41:03.530Z"
   },
   {
    "duration": 14,
    "start_time": "2022-05-12T13:41:03.757Z"
   },
   {
    "duration": 42,
    "start_time": "2022-05-12T13:41:03.774Z"
   },
   {
    "duration": 319,
    "start_time": "2022-05-12T13:41:03.819Z"
   },
   {
    "duration": 206,
    "start_time": "2022-05-12T13:41:04.140Z"
   },
   {
    "duration": 14,
    "start_time": "2022-05-12T13:41:04.352Z"
   }
  ],
  "kernelspec": {
   "display_name": "Python 3 (ipykernel)",
   "language": "python",
   "name": "python3"
  },
  "language_info": {
   "codemirror_mode": {
    "name": "ipython",
    "version": 3
   },
   "file_extension": ".py",
   "mimetype": "text/x-python",
   "name": "python",
   "nbconvert_exporter": "python",
   "pygments_lexer": "ipython3",
   "version": "3.9.7"
  },
  "toc": {
   "base_numbering": "1",
   "nav_menu": {},
   "number_sections": true,
   "sideBar": true,
   "skip_h1_title": true,
   "title_cell": "Содержание",
   "title_sidebar": "Contents",
   "toc_cell": true,
   "toc_position": {
    "height": "calc(100% - 180px)",
    "left": "10px",
    "top": "150px",
    "width": "216px"
   },
   "toc_section_display": true,
   "toc_window_display": true
  }
 },
 "nbformat": 4,
 "nbformat_minor": 5
}
